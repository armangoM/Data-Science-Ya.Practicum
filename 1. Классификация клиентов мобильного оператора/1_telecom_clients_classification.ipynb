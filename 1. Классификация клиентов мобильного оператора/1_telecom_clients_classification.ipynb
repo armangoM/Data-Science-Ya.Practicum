{
 "cells": [
  {
   "cell_type": "markdown",
   "metadata": {},
   "source": [
    "# Рекомендация тарифов клиентам мобильного оператора"
   ]
  },
  {
   "cell_type": "markdown",
   "metadata": {},
   "source": [
    "Имеются данные о поведении клиентов мобильного оператора в зависимости от выбранного ими тарифа. Нужно построить модель для задачи классификации, которая выберет подходящий тариф, с максимально большим значением *accuracy* (не ниже 0.75). "
   ]
  },
  {
   "cell_type": "markdown",
   "metadata": {},
   "source": [
    "Импорт библиотек, которые потребуются для выполнения исследования:"
   ]
  },
  {
   "cell_type": "code",
   "execution_count": 1,
   "metadata": {},
   "outputs": [],
   "source": [
    "import pandas as pd\n",
    "import matplotlib.pyplot as plt\n",
    "import seaborn as sns\n",
    "import numpy as np\n",
    "from scipy import stats as st\n",
    "from sklearn.model_selection import train_test_split\n",
    "from sklearn.linear_model import LogisticRegression, LinearRegression\n",
    "from sklearn.ensemble import RandomForestClassifier, RandomForestRegressor\n",
    "from sklearn.tree import DecisionTreeClassifier, DecisionTreeRegressor\n",
    "from sklearn.metrics import accuracy_score\n",
    "from sklearn.dummy import DummyClassifier\n",
    "import warnings\n",
    "warnings.filterwarnings('ignore')"
   ]
  },
  {
   "cell_type": "markdown",
   "metadata": {},
   "source": [
    "## Загрузка датасета"
   ]
  },
  {
   "cell_type": "code",
   "execution_count": 2,
   "metadata": {},
   "outputs": [],
   "source": [
    "users_behavior = pd.read_csv('/datasets/users_behavior.csv')"
   ]
  },
  {
   "cell_type": "markdown",
   "metadata": {},
   "source": [
    "Получение данных о первых 10 строках таблицы **users_behavior**:"
   ]
  },
  {
   "cell_type": "code",
   "execution_count": 3,
   "metadata": {},
   "outputs": [
    {
     "data": {
      "text/html": [
       "<div>\n",
       "<style scoped>\n",
       "    .dataframe tbody tr th:only-of-type {\n",
       "        vertical-align: middle;\n",
       "    }\n",
       "\n",
       "    .dataframe tbody tr th {\n",
       "        vertical-align: top;\n",
       "    }\n",
       "\n",
       "    .dataframe thead th {\n",
       "        text-align: right;\n",
       "    }\n",
       "</style>\n",
       "<table border=\"1\" class=\"dataframe\">\n",
       "  <thead>\n",
       "    <tr style=\"text-align: right;\">\n",
       "      <th></th>\n",
       "      <th>calls</th>\n",
       "      <th>minutes</th>\n",
       "      <th>messages</th>\n",
       "      <th>mb_used</th>\n",
       "      <th>is_ultra</th>\n",
       "    </tr>\n",
       "  </thead>\n",
       "  <tbody>\n",
       "    <tr>\n",
       "      <td>0</td>\n",
       "      <td>40.0</td>\n",
       "      <td>311.90</td>\n",
       "      <td>83.0</td>\n",
       "      <td>19915.42</td>\n",
       "      <td>0</td>\n",
       "    </tr>\n",
       "    <tr>\n",
       "      <td>1</td>\n",
       "      <td>85.0</td>\n",
       "      <td>516.75</td>\n",
       "      <td>56.0</td>\n",
       "      <td>22696.96</td>\n",
       "      <td>0</td>\n",
       "    </tr>\n",
       "    <tr>\n",
       "      <td>2</td>\n",
       "      <td>77.0</td>\n",
       "      <td>467.66</td>\n",
       "      <td>86.0</td>\n",
       "      <td>21060.45</td>\n",
       "      <td>0</td>\n",
       "    </tr>\n",
       "    <tr>\n",
       "      <td>3</td>\n",
       "      <td>106.0</td>\n",
       "      <td>745.53</td>\n",
       "      <td>81.0</td>\n",
       "      <td>8437.39</td>\n",
       "      <td>1</td>\n",
       "    </tr>\n",
       "    <tr>\n",
       "      <td>4</td>\n",
       "      <td>66.0</td>\n",
       "      <td>418.74</td>\n",
       "      <td>1.0</td>\n",
       "      <td>14502.75</td>\n",
       "      <td>0</td>\n",
       "    </tr>\n",
       "    <tr>\n",
       "      <td>5</td>\n",
       "      <td>58.0</td>\n",
       "      <td>344.56</td>\n",
       "      <td>21.0</td>\n",
       "      <td>15823.37</td>\n",
       "      <td>0</td>\n",
       "    </tr>\n",
       "    <tr>\n",
       "      <td>6</td>\n",
       "      <td>57.0</td>\n",
       "      <td>431.64</td>\n",
       "      <td>20.0</td>\n",
       "      <td>3738.90</td>\n",
       "      <td>1</td>\n",
       "    </tr>\n",
       "    <tr>\n",
       "      <td>7</td>\n",
       "      <td>15.0</td>\n",
       "      <td>132.40</td>\n",
       "      <td>6.0</td>\n",
       "      <td>21911.60</td>\n",
       "      <td>0</td>\n",
       "    </tr>\n",
       "    <tr>\n",
       "      <td>8</td>\n",
       "      <td>7.0</td>\n",
       "      <td>43.39</td>\n",
       "      <td>3.0</td>\n",
       "      <td>2538.67</td>\n",
       "      <td>1</td>\n",
       "    </tr>\n",
       "    <tr>\n",
       "      <td>9</td>\n",
       "      <td>90.0</td>\n",
       "      <td>665.41</td>\n",
       "      <td>38.0</td>\n",
       "      <td>17358.61</td>\n",
       "      <td>0</td>\n",
       "    </tr>\n",
       "  </tbody>\n",
       "</table>\n",
       "</div>"
      ],
      "text/plain": [
       "   calls  minutes  messages   mb_used  is_ultra\n",
       "0   40.0   311.90      83.0  19915.42         0\n",
       "1   85.0   516.75      56.0  22696.96         0\n",
       "2   77.0   467.66      86.0  21060.45         0\n",
       "3  106.0   745.53      81.0   8437.39         1\n",
       "4   66.0   418.74       1.0  14502.75         0\n",
       "5   58.0   344.56      21.0  15823.37         0\n",
       "6   57.0   431.64      20.0   3738.90         1\n",
       "7   15.0   132.40       6.0  21911.60         0\n",
       "8    7.0    43.39       3.0   2538.67         1\n",
       "9   90.0   665.41      38.0  17358.61         0"
      ]
     },
     "execution_count": 3,
     "metadata": {},
     "output_type": "execute_result"
    }
   ],
   "source": [
    "users_behavior.head(10)"
   ]
  },
  {
   "cell_type": "markdown",
   "metadata": {},
   "source": [
    "Общая информация о данных таблицы **users_behavior**:"
   ]
  },
  {
   "cell_type": "code",
   "execution_count": 4,
   "metadata": {},
   "outputs": [
    {
     "name": "stdout",
     "output_type": "stream",
     "text": [
      "<class 'pandas.core.frame.DataFrame'>\n",
      "RangeIndex: 3214 entries, 0 to 3213\n",
      "Data columns (total 5 columns):\n",
      "calls       3214 non-null float64\n",
      "minutes     3214 non-null float64\n",
      "messages    3214 non-null float64\n",
      "mb_used     3214 non-null float64\n",
      "is_ultra    3214 non-null int64\n",
      "dtypes: float64(4), int64(1)\n",
      "memory usage: 125.7 KB\n"
     ]
    }
   ],
   "source": [
    "users_behavior.info()"
   ]
  },
  {
   "cell_type": "markdown",
   "metadata": {},
   "source": [
    "В датафрейме **users_behavior** представлена информация о поведении клиентов оператора сотовой связи, перешедших на новые тарифы, за месяц. Он состоит из следующих столбцов: \n",
    "\n",
    "- **calls** - количество звонков;\n",
    "- **minutes** - суммарная длительность звонков в минутах;\n",
    "- **messages** - количество sms-сообщений;\n",
    "- **mb_used** - израсходованный интернет-трафик в Мб;\n",
    "- **is_ultra** - каким тарифом пользовался в течение месяца («Ультра» — 1, «Смарт» — 0).\n",
    "\n",
    "Общее количество объектов - 3 214. Пропусков нет. Все данные вещественного типа, за исключением столбца **is_ultra** (он целочисленный)."
   ]
  },
  {
   "cell_type": "markdown",
   "metadata": {},
   "source": [
    "#### Анализ признаков"
   ]
  },
  {
   "cell_type": "markdown",
   "metadata": {},
   "source": [
    "Теперь рассмотрим отдельно каждый столбец на предмет наличия ошибок в данных, аномалий и пр. Начнем с основного показателя (в дальнейшем - целевой переменной) - тарифа пользователя."
   ]
  },
  {
   "cell_type": "markdown",
   "metadata": {},
   "source": [
    "**is_ultra - тариф пользователя («Ультра» — 1, «Смарт» — 0)**"
   ]
  },
  {
   "cell_type": "code",
   "execution_count": 5,
   "metadata": {
    "scrolled": true
   },
   "outputs": [
    {
     "data": {
      "text/plain": [
       "0    2229\n",
       "1     985\n",
       "Name: is_ultra, dtype: int64"
      ]
     },
     "execution_count": 5,
     "metadata": {},
     "output_type": "execute_result"
    }
   ],
   "source": [
    "users_behavior['is_ultra'].value_counts()"
   ]
  },
  {
   "cell_type": "code",
   "execution_count": 6,
   "metadata": {},
   "outputs": [
    {
     "data": {
      "text/plain": [
       "0    0.693528\n",
       "1    0.306472\n",
       "Name: is_ultra, dtype: float64"
      ]
     },
     "execution_count": 6,
     "metadata": {},
     "output_type": "execute_result"
    }
   ],
   "source": [
    "users_behavior['is_ultra'].value_counts(normalize = True)"
   ]
  },
  {
   "cell_type": "markdown",
   "metadata": {},
   "source": [
    "Почти 70% пользователей (2229 человек) пользуются тарифом \"Смарт\". Остальные (985) - тарифом \"Ультра\"."
   ]
  },
  {
   "cell_type": "markdown",
   "metadata": {},
   "source": [
    "Пропусков и некорректных значений в столбце нет."
   ]
  },
  {
   "cell_type": "markdown",
   "metadata": {},
   "source": [
    "**calls - количество звонков**"
   ]
  },
  {
   "cell_type": "code",
   "execution_count": 7,
   "metadata": {
    "scrolled": false
   },
   "outputs": [
    {
     "data": {
      "text/plain": [
       "count    3214.000000\n",
       "mean       63.038892\n",
       "std        33.236368\n",
       "min         0.000000\n",
       "25%        40.000000\n",
       "50%        62.000000\n",
       "75%        82.000000\n",
       "max       244.000000\n",
       "Name: calls, dtype: float64"
      ]
     },
     "execution_count": 7,
     "metadata": {},
     "output_type": "execute_result"
    }
   ],
   "source": [
    "users_behavior['calls'].describe()"
   ]
  },
  {
   "cell_type": "markdown",
   "metadata": {},
   "source": [
    "В среднем пользователь делает 63 звонка в месяц. Медианное значение - 62.\n",
    "\n",
    "Построим график распределения:"
   ]
  },
  {
   "cell_type": "code",
   "execution_count": 8,
   "metadata": {},
   "outputs": [
    {
     "data": {
      "image/png": "[encoded data removed]",
      "text/plain": [
       "<Figure size 576x360 with 1 Axes>"
      ]
     },
     "metadata": {
      "needs_background": "light"
     },
     "output_type": "display_data"
    }
   ],
   "source": [
    "plt.figure(figsize=(8, 5))\n",
    "sns.set_style(\"darkgrid\")\n",
    "fig = sns.distplot(users_behavior['calls'], kde = True, bins = np.linspace(start = 0, stop = 250, num = 50))\n",
    "fig.set_title(\"Распределение количества звонков клиентов\", fontsize = 15)\n",
    "fig.set_xlabel(\"Число звонков\", fontsize = 12)\n",
    "fig.set_ylabel(\"Доля\", fontsize = 12)\n",
    "\n",
    "plt.show()"
   ]
  },
  {
   "cell_type": "markdown",
   "metadata": {},
   "source": [
    "Распределение визуально выглядит как нормальное, скошенное вправо. Аномальных значений нет, однако больше ожидаемой доля пользователей, вообще не совершавших звонки (левый край распределения)."
   ]
  },
  {
   "cell_type": "markdown",
   "metadata": {},
   "source": [
    "Рассмотрим указанный признак в разрезе тарифа клиентов:"
   ]
  },
  {
   "cell_type": "code",
   "execution_count": 9,
   "metadata": {
    "scrolled": true
   },
   "outputs": [
    {
     "data": {
      "text/plain": [
       "58.463"
      ]
     },
     "execution_count": 9,
     "metadata": {},
     "output_type": "execute_result"
    }
   ],
   "source": [
    "users_behavior.query('is_ultra == 0')['calls'].mean().round(3)"
   ]
  },
  {
   "cell_type": "code",
   "execution_count": 10,
   "metadata": {},
   "outputs": [
    {
     "data": {
      "text/plain": [
       "73.393"
      ]
     },
     "execution_count": 10,
     "metadata": {},
     "output_type": "execute_result"
    }
   ],
   "source": [
    "users_behavior.query('is_ultra == 1')['calls'].mean().round(3)"
   ]
  },
  {
   "cell_type": "markdown",
   "metadata": {},
   "source": [
    "Среднее количество звонков среди пользователей тарифа \"Ультра\" выше: 73 против 58."
   ]
  },
  {
   "cell_type": "code",
   "execution_count": 11,
   "metadata": {},
   "outputs": [
    {
     "data": {
      "image/png": "[encoded data removed]",
      "text/plain": [
       "<Figure size 576x360 with 1 Axes>"
      ]
     },
     "metadata": {},
     "output_type": "display_data"
    }
   ],
   "source": [
    "plt.figure(figsize=(8, 5))\n",
    "fig1 = sns.distplot(users_behavior.query('is_ultra == 0')['calls'], kde = True, \\\n",
    "                    bins = np.linspace(start = 0, stop = 250, num = 50), label = 'Смарт') \n",
    "fig2 = sns.distplot(users_behavior.query('is_ultra == 1')['calls'], kde = True, \\\n",
    "                    bins = np.linspace(start = 0, stop = 250, num = 50), label = 'Ультра')  \n",
    "fig2.set_title(\"Распределение количества звонков клиентов\", fontsize = 14)\n",
    "fig2.set_ylabel(\"Доля\", fontsize = 10)\n",
    "fig2.set_xlabel(\"Число звонков\")\n",
    "plt.legend()\n",
    "plt.show()"
   ]
  },
  {
   "cell_type": "markdown",
   "metadata": {},
   "source": [
    "Кривые плотностей распределения выглядят по-разному. Оба распределения похожи на нормальные. Кривая для пользователей \"Ультры\" гораздо более пологая: выше доля людей, совершивших много звонков. Также заметно, что доля вообще не звонивших пользователей высока именно среди пользователей \"Ультры\". "
   ]
  },
  {
   "cell_type": "markdown",
   "metadata": {},
   "source": [
    "**minutes - суммарная длительность звонков в минутах**"
   ]
  },
  {
   "cell_type": "code",
   "execution_count": 12,
   "metadata": {
    "scrolled": false
   },
   "outputs": [
    {
     "data": {
      "text/plain": [
       "count    3214.000000\n",
       "mean      438.208787\n",
       "std       234.569872\n",
       "min         0.000000\n",
       "25%       274.575000\n",
       "50%       430.600000\n",
       "75%       571.927500\n",
       "max      1632.060000\n",
       "Name: minutes, dtype: float64"
      ]
     },
     "execution_count": 12,
     "metadata": {},
     "output_type": "execute_result"
    }
   ],
   "source": [
    "users_behavior['minutes'].describe()"
   ]
  },
  {
   "cell_type": "markdown",
   "metadata": {},
   "source": [
    "В среднем пользователь разговаривает 438 минут в месяц (медианное значение также близко - 430 минут). Аномальных значений и пропусков нет."
   ]
  },
  {
   "cell_type": "code",
   "execution_count": 13,
   "metadata": {},
   "outputs": [
    {
     "data": {
      "image/png": "[encoded data removed]",
      "text/plain": [
       "<Figure size 576x360 with 1 Axes>"
      ]
     },
     "metadata": {},
     "output_type": "display_data"
    }
   ],
   "source": [
    "plt.figure(figsize=(8, 5))\n",
    "fig = sns.distplot(users_behavior['minutes'], kde = True, bins = np.linspace(start = 0, stop = 1700, num = 50))\n",
    "fig.set_title(\"Распределение времени звонков клиентов, мин.\", fontsize = 15)\n",
    "fig.set_xlabel(\"Общая продолжительность звонков\", fontsize = 12)\n",
    "fig.set_ylabel(\"Доля\", fontsize = 12)\n",
    "\n",
    "plt.show()"
   ]
  },
  {
   "cell_type": "markdown",
   "metadata": {},
   "source": [
    "Распределение выглядит практически так же, как и у признака **calls**, что может указывать на их высокую корреляцию."
   ]
  },
  {
   "cell_type": "markdown",
   "metadata": {},
   "source": [
    "Построим распределения суммарного времени звонков в разрезе тарифа клиентов:"
   ]
  },
  {
   "cell_type": "code",
   "execution_count": 14,
   "metadata": {
    "scrolled": true
   },
   "outputs": [
    {
     "data": {
      "text/plain": [
       "405.943"
      ]
     },
     "execution_count": 14,
     "metadata": {},
     "output_type": "execute_result"
    }
   ],
   "source": [
    "users_behavior.query('is_ultra == 0')['minutes'].mean().round(3)"
   ]
  },
  {
   "cell_type": "code",
   "execution_count": 15,
   "metadata": {},
   "outputs": [
    {
     "data": {
      "text/plain": [
       "511.225"
      ]
     },
     "execution_count": 15,
     "metadata": {},
     "output_type": "execute_result"
    }
   ],
   "source": [
    "users_behavior.query('is_ultra == 1')['minutes'].mean().round(3)"
   ]
  },
  {
   "cell_type": "markdown",
   "metadata": {},
   "source": [
    "Средняя суммарная продолжительность звонков существенно выше на тарифе \"Ультра\"."
   ]
  },
  {
   "cell_type": "code",
   "execution_count": 16,
   "metadata": {},
   "outputs": [
    {
     "data": {
      "image/png": "[encoded data removed]",
      "text/plain": [
       "<Figure size 576x360 with 1 Axes>"
      ]
     },
     "metadata": {},
     "output_type": "display_data"
    }
   ],
   "source": [
    "plt.figure(figsize=(8, 5))\n",
    "fig1 = sns.distplot(users_behavior.query('is_ultra == 0')['minutes'], kde = True, \\\n",
    "                    bins = np.linspace(start = 0, stop = 1700, num = 50), label = 'Смарт') \n",
    "fig2 = sns.distplot(users_behavior.query('is_ultra == 1')['minutes'], kde = True, \\\n",
    "                    bins = np.linspace(start = 0, stop = 1700, num = 50), label = 'Ультра')  \n",
    "fig2.set_title(\"Распределение времени звонков клиентов, мин.\", fontsize = 14)\n",
    "fig2.set_ylabel(\"Доля\", fontsize = 10)\n",
    "fig2.set_xlabel(\"Общая продолжительность звонков\")\n",
    "plt.legend()\n",
    "plt.show()"
   ]
  },
  {
   "cell_type": "markdown",
   "metadata": {},
   "source": [
    "Характер распределений такой же, как и у признака **calls**: \"Ультра\" более пологая (выше разброс от среднего) и с очень высокой долей пользователей, не совершавших звонки вообще."
   ]
  },
  {
   "cell_type": "markdown",
   "metadata": {},
   "source": [
    "**messages - количество sms-сообщений**"
   ]
  },
  {
   "cell_type": "code",
   "execution_count": 17,
   "metadata": {
    "scrolled": false
   },
   "outputs": [
    {
     "data": {
      "text/plain": [
       "count    3214.000000\n",
       "mean       38.281269\n",
       "std        36.148326\n",
       "min         0.000000\n",
       "25%         9.000000\n",
       "50%        30.000000\n",
       "75%        57.000000\n",
       "max       224.000000\n",
       "Name: messages, dtype: float64"
      ]
     },
     "execution_count": 17,
     "metadata": {},
     "output_type": "execute_result"
    }
   ],
   "source": [
    "users_behavior['messages'].describe()"
   ]
  },
  {
   "cell_type": "markdown",
   "metadata": {},
   "source": [
    "В среднем пользователь делает 38 сообщений в месяц. Медианное значение - 30.\n",
    "\n",
    "Построим график распределения:"
   ]
  },
  {
   "cell_type": "code",
   "execution_count": 18,
   "metadata": {},
   "outputs": [
    {
     "data": {
      "image/png": "[encoded data removed]",
      "text/plain": [
       "<Figure size 576x360 with 1 Axes>"
      ]
     },
     "metadata": {},
     "output_type": "display_data"
    }
   ],
   "source": [
    "plt.figure(figsize=(8, 5))\n",
    "sns.set_style(\"darkgrid\")\n",
    "fig = sns.distplot(users_behavior['messages'], kde = True, bins = np.linspace(start = 0, stop = 250, num = 50))\n",
    "fig.set_title(\"Распределение количества sms клиентов\", fontsize = 15)\n",
    "fig.set_xlabel(\"Число sms\", fontsize = 12)\n",
    "fig.set_ylabel(\"Доля\", fontsize = 12)\n",
    "\n",
    "plt.show()"
   ]
  },
  {
   "cell_type": "markdown",
   "metadata": {},
   "source": [
    "Распределение не является нормальным. Большая часть пользователей либо не пользуется sms вообще, либо отправляет их минимальное количество."
   ]
  },
  {
   "cell_type": "markdown",
   "metadata": {},
   "source": [
    "Рассмотрим указанный признак в разрезе тарифа клиентов:"
   ]
  },
  {
   "cell_type": "code",
   "execution_count": 19,
   "metadata": {
    "scrolled": true
   },
   "outputs": [
    {
     "data": {
      "text/plain": [
       "33.384"
      ]
     },
     "execution_count": 19,
     "metadata": {},
     "output_type": "execute_result"
    }
   ],
   "source": [
    "users_behavior.query('is_ultra == 0')['messages'].mean().round(3)"
   ]
  },
  {
   "cell_type": "code",
   "execution_count": 20,
   "metadata": {},
   "outputs": [
    {
     "data": {
      "text/plain": [
       "49.363"
      ]
     },
     "execution_count": 20,
     "metadata": {},
     "output_type": "execute_result"
    }
   ],
   "source": [
    "users_behavior.query('is_ultra == 1')['messages'].mean().round(3)"
   ]
  },
  {
   "cell_type": "markdown",
   "metadata": {},
   "source": [
    "Среднее количество sms на тарифе \"Ультра\" снова выше: 49 против 33."
   ]
  },
  {
   "cell_type": "code",
   "execution_count": 21,
   "metadata": {},
   "outputs": [
    {
     "data": {
      "image/png": "[encoded data removed]",
      "text/plain": [
       "<Figure size 576x360 with 1 Axes>"
      ]
     },
     "metadata": {},
     "output_type": "display_data"
    }
   ],
   "source": [
    "plt.figure(figsize=(8, 5))\n",
    "fig1 = sns.distplot(users_behavior.query('is_ultra == 0')['messages'], kde = True, \\\n",
    "                    bins = np.linspace(start = 0, stop = 250, num = 50), label = 'Смарт') \n",
    "fig2 = sns.distplot(users_behavior.query('is_ultra == 1')['messages'], kde = True, \\\n",
    "                    bins = np.linspace(start = 0, stop = 250, num = 50), label = 'Ультра')  \n",
    "fig2.set_title(\"Распределение количества sms клиентов\", fontsize = 14)\n",
    "fig2.set_ylabel(\"Доля\", fontsize = 10)\n",
    "fig2.set_xlabel(\"Число sms\")\n",
    "plt.legend()\n",
    "plt.show()"
   ]
  },
  {
   "cell_type": "markdown",
   "metadata": {},
   "source": [
    "Расределения выглядят более похожими друг на друга, чем в случае числа звонков и их суммарной продолжительности, тем не менее прослеживаются те же закономерности: более пологая кривая для \"Ультры\" и пики в левой части графиков, соответствующие минимальным значениям признака."
   ]
  },
  {
   "cell_type": "markdown",
   "metadata": {},
   "source": [
    "**mb_used - израсходованный интернет-трафик в Мб**"
   ]
  },
  {
   "cell_type": "code",
   "execution_count": 22,
   "metadata": {
    "scrolled": false
   },
   "outputs": [
    {
     "data": {
      "text/plain": [
       "count     3214.000000\n",
       "mean     17207.673836\n",
       "std       7570.968246\n",
       "min          0.000000\n",
       "25%      12491.902500\n",
       "50%      16943.235000\n",
       "75%      21424.700000\n",
       "max      49745.730000\n",
       "Name: mb_used, dtype: float64"
      ]
     },
     "execution_count": 22,
     "metadata": {},
     "output_type": "execute_result"
    }
   ],
   "source": [
    "users_behavior['mb_used'].describe()"
   ]
  },
  {
   "cell_type": "markdown",
   "metadata": {},
   "source": [
    "В среднем пользователь использует 16 943 Мб трафика в месяц. Медианное значение - 17 207.\n",
    "\n",
    "Построим график распределения:"
   ]
  },
  {
   "cell_type": "code",
   "execution_count": 23,
   "metadata": {},
   "outputs": [
    {
     "data": {
      "image/png": "[encoded data removed]",
      "text/plain": [
       "<Figure size 576x360 with 1 Axes>"
      ]
     },
     "metadata": {},
     "output_type": "display_data"
    }
   ],
   "source": [
    "plt.figure(figsize=(8, 5))\n",
    "sns.set_style(\"darkgrid\")\n",
    "fig = sns.distplot(users_behavior['mb_used'], kde = True, bins = np.linspace(start = 0, stop = 50000, num = 50))\n",
    "fig.set_title(\"Распределение объема интернет-трафика клиентов, Мб\", fontsize = 15)\n",
    "fig.set_xlabel(\"Объем трафика\", fontsize = 12)\n",
    "fig.set_ylabel(\"Доля\", fontsize = 12)\n",
    "\n",
    "plt.show()"
   ]
  },
  {
   "cell_type": "markdown",
   "metadata": {},
   "source": [
    "Распределение выглядит как нормальное. Аномальных значений нет. "
   ]
  },
  {
   "cell_type": "markdown",
   "metadata": {},
   "source": [
    "Рассмотрим указанный признак в разрезе тарифа клиентов:"
   ]
  },
  {
   "cell_type": "code",
   "execution_count": 24,
   "metadata": {
    "scrolled": true
   },
   "outputs": [
    {
     "data": {
      "text/plain": [
       "16208.467"
      ]
     },
     "execution_count": 24,
     "metadata": {},
     "output_type": "execute_result"
    }
   ],
   "source": [
    "users_behavior.query('is_ultra == 0')['mb_used'].mean().round(3)"
   ]
  },
  {
   "cell_type": "code",
   "execution_count": 25,
   "metadata": {},
   "outputs": [
    {
     "data": {
      "text/plain": [
       "19468.823"
      ]
     },
     "execution_count": 25,
     "metadata": {},
     "output_type": "execute_result"
    }
   ],
   "source": [
    "users_behavior.query('is_ultra == 1')['mb_used'].mean().round(3)"
   ]
  },
  {
   "cell_type": "markdown",
   "metadata": {},
   "source": [
    "Пользователи тарифа \"Ультра\" в среднем используют больше интернет-трафика: 19 468 Мб против 16 208 Мб."
   ]
  },
  {
   "cell_type": "code",
   "execution_count": 26,
   "metadata": {},
   "outputs": [
    {
     "data": {
      "image/png": "[encoded data removed]",
      "text/plain": [
       "<Figure size 576x360 with 1 Axes>"
      ]
     },
     "metadata": {},
     "output_type": "display_data"
    }
   ],
   "source": [
    "plt.figure(figsize=(8, 5))\n",
    "fig1 = sns.distplot(users_behavior.query('is_ultra == 0')['mb_used'], kde = True, \\\n",
    "                    bins = np.linspace(start = 0, stop = 50000, num = 50), label = 'Смарт') \n",
    "fig2 = sns.distplot(users_behavior.query('is_ultra == 1')['mb_used'], kde = True, \\\n",
    "                    bins = np.linspace(start = 0, stop = 50000, num = 50), label = 'Ультра')  \n",
    "fig2.set_title(\"Распределение объема интернет-трафика клиентов, Мб\", fontsize = 14)\n",
    "fig2.set_ylabel(\"Доля\", fontsize = 10)\n",
    "fig2.set_xlabel(\"Объем трафика\")\n",
    "plt.legend()\n",
    "plt.show()"
   ]
  },
  {
   "cell_type": "markdown",
   "metadata": {},
   "source": [
    "Оба распределения визуально похожи на нормальные. Криваая \"Ультры\" вновь значительно более пологая, диапазон принимаемых значений у нее шире. Аномалий нет."
   ]
  },
  {
   "cell_type": "markdown",
   "metadata": {},
   "source": [
    "**Корреляция признаков**"
   ]
  },
  {
   "cell_type": "markdown",
   "metadata": {},
   "source": [
    "Проверим предположение о высокой корреляции призаков **calls** и **minutes**, сделанное выше. Построим парные графики и матрицу корреляции:"
   ]
  },
  {
   "cell_type": "code",
   "execution_count": 27,
   "metadata": {},
   "outputs": [
    {
     "data": {
      "image/png": "[encoded data removed]",
      "text/plain": [
       "<Figure size 576x576 with 20 Axes>"
      ]
     },
     "metadata": {},
     "output_type": "display_data"
    }
   ],
   "source": [
    "sns.pairplot(users_behavior.drop(['is_ultra'], axis = 1), height = 2)\n",
    "plt.show()"
   ]
  },
  {
   "cell_type": "code",
   "execution_count": 28,
   "metadata": {},
   "outputs": [],
   "source": [
    "cm = users_behavior.corr()"
   ]
  },
  {
   "cell_type": "code",
   "execution_count": 29,
   "metadata": {},
   "outputs": [
    {
     "data": {
      "image/png": "[encoded data removed]",
      "text/plain": [
       "<Figure size 576x360 with 2 Axes>"
      ]
     },
     "metadata": {},
     "output_type": "display_data"
    }
   ],
   "source": [
    "sns.set(style = 'white')\n",
    "plt.figure(figsize = (8, 5))\n",
    "plt.title('Матрица корреляции признаков', fontsize = 14)\n",
    "ax = sns.heatmap(cm, annot = True, linewidths = 1, linecolor = 'white', fmt = '.2f')\n",
    "plt.show()"
   ]
  },
  {
   "cell_type": "markdown",
   "metadata": {},
   "source": [
    "На парном графике четко видна линейная зависимость признаков **calls** и **minutes**. Коэффициент корреляции близок к единице, что подтверждает сделанный вывод. Других сильно коррелирующих признаков нет. На целевую переменную влияют все признаки примерно в равной степени с коэффициентом корреляции 0,20-0,21."
   ]
  },
  {
   "cell_type": "markdown",
   "metadata": {},
   "source": [
    "**Вывод**"
   ]
  },
  {
   "cell_type": "markdown",
   "metadata": {},
   "source": [
    "Целевая переменная **is_ultra** - тариф пользователя - распределена в соотношении 70:30. Распределение остальных признаков близко к нормальному, за исключением столбца **message**, который говорит о том, что пользователи почти перестали пользоваться сервисами отправки sms.\n",
    "\n",
    "Диапазон значений признаков, принимаемых пользователями тарифа \"Ультра\", несколько выше по сравнению с клиентами на \"Смарте\". Выше и удаленность зачений от среднего (кривые распределения выглядят более полого). Средние значения признаков также выше на \"Ультре\".\n",
    "\n",
    "Коэффициент корреляции между переменными **calls** и **minutes** составляет 0,98, что говорит об их полной взаимозависимости. В дальнейших разделах будем обучать и тестировать модели как на полном датасете, так и исключив один из зависимых признаков. В зависимости от результата примем решение об удалении одного из столбцов из таблицы."
   ]
  },
  {
   "cell_type": "markdown",
   "metadata": {},
   "source": [
    "## Разбивка данных на выборки"
   ]
  },
  {
   "cell_type": "markdown",
   "metadata": {},
   "source": [
    "Целевой признак в рассматриваемой задаче - это тариф клиента:"
   ]
  },
  {
   "cell_type": "code",
   "execution_count": 30,
   "metadata": {},
   "outputs": [],
   "source": [
    "target = users_behavior['is_ultra']\n",
    "features = users_behavior.drop('is_ultra', axis = 1)\n",
    "features_mod = users_behavior.drop(['is_ultra', 'minutes'], axis = 1)"
   ]
  },
  {
   "cell_type": "markdown",
   "metadata": {},
   "source": [
    "Разделим данные на обучающую, валидационную и тестовую выборки в пропорции 60:20:20 соответственно. Классы сбалансируем."
   ]
  },
  {
   "cell_type": "code",
   "execution_count": 31,
   "metadata": {},
   "outputs": [],
   "source": [
    "features_train, features_valid, target_train, target_valid = \\\n",
    "                                                        train_test_split(features, target, test_size = 0.4, \n",
    "                                                        random_state = 12345, stratify = target)\n",
    "features_valid, features_test, target_valid, target_test = \\\n",
    "                                                        train_test_split(features_valid, target_valid, test_size = 0.5, \n",
    "                                                        random_state = 12345, stratify = target_valid)\n",
    "\n",
    "features_train_mod, features_valid_mod, target_train, target_valid = \\\n",
    "                                                        train_test_split(features_mod, target, test_size = 0.4, \n",
    "                                                        random_state = 12345, stratify = target)\n",
    "features_valid_mod, features_test_mod, target_valid, target_test = \\\n",
    "                                                        train_test_split(features_valid_mod, target_valid, test_size = 0.5, \n",
    "                                                        random_state = 12345, stratify = target_valid)"
   ]
  },
  {
   "cell_type": "markdown",
   "metadata": {},
   "source": [
    "Размерность выборок удовлетворяет указанным выше пропорциям:"
   ]
  },
  {
   "cell_type": "code",
   "execution_count": 32,
   "metadata": {},
   "outputs": [
    {
     "data": {
      "text/plain": [
       "(1928, 4)"
      ]
     },
     "metadata": {},
     "output_type": "display_data"
    },
    {
     "data": {
      "text/plain": [
       "1928"
      ]
     },
     "metadata": {},
     "output_type": "display_data"
    },
    {
     "data": {
      "text/plain": [
       "(643, 4)"
      ]
     },
     "metadata": {},
     "output_type": "display_data"
    },
    {
     "data": {
      "text/plain": [
       "643"
      ]
     },
     "metadata": {},
     "output_type": "display_data"
    },
    {
     "data": {
      "text/plain": [
       "(643, 4)"
      ]
     },
     "metadata": {},
     "output_type": "display_data"
    },
    {
     "data": {
      "text/plain": [
       "643"
      ]
     },
     "metadata": {},
     "output_type": "display_data"
    }
   ],
   "source": [
    "display(features_train.shape, target_train.shape[0])\n",
    "display(features_valid.shape, target_valid.shape[0])\n",
    "display(features_test.shape, target_test.shape[0])"
   ]
  },
  {
   "cell_type": "code",
   "execution_count": 33,
   "metadata": {},
   "outputs": [
    {
     "data": {
      "text/plain": [
       "(1928, 3)"
      ]
     },
     "metadata": {},
     "output_type": "display_data"
    },
    {
     "data": {
      "text/plain": [
       "1928"
      ]
     },
     "metadata": {},
     "output_type": "display_data"
    },
    {
     "data": {
      "text/plain": [
       "(643, 3)"
      ]
     },
     "metadata": {},
     "output_type": "display_data"
    },
    {
     "data": {
      "text/plain": [
       "643"
      ]
     },
     "metadata": {},
     "output_type": "display_data"
    },
    {
     "data": {
      "text/plain": [
       "(643, 3)"
      ]
     },
     "metadata": {},
     "output_type": "display_data"
    },
    {
     "data": {
      "text/plain": [
       "643"
      ]
     },
     "metadata": {},
     "output_type": "display_data"
    }
   ],
   "source": [
    "display(features_train_mod.shape, target_train.shape[0])\n",
    "display(features_valid_mod.shape, target_valid.shape[0])\n",
    "display(features_test_mod.shape, target_test.shape[0])"
   ]
  },
  {
   "cell_type": "markdown",
   "metadata": {},
   "source": [
    "## Исследование моделей машинного обучения"
   ]
  },
  {
   "cell_type": "markdown",
   "metadata": {},
   "source": [
    "Поскольку требуется спрогнозировать качественный признак - выбор того или иного тарифа, - будем использовать модели для решения задачи классификации: решающее дерево, случайный лес и логистическую регрессию."
   ]
  },
  {
   "cell_type": "markdown",
   "metadata": {},
   "source": [
    "**Модель логистической регрессии**"
   ]
  },
  {
   "cell_type": "markdown",
   "metadata": {},
   "source": [
    "Обучим модель на тренировочной выборке и проверим ее качество на валидационной выборке (как на полном датасете, так и с удаленным столбцом):"
   ]
  },
  {
   "cell_type": "code",
   "execution_count": 34,
   "metadata": {},
   "outputs": [],
   "source": [
    "def lr(f_train, t_train, f_val, t_val):\n",
    "# функция принимает на вход четыре выборки: на первых двух обучает, на последних тестирует качество\n",
    "# выводит значение accuracy \n",
    "\n",
    "    model_lr = LogisticRegression(random_state = 12345) \n",
    "    model_lr.fit(f_train, t_train)\n",
    "    result = model_lr.score(f_val, t_val).round(5)\n",
    "    print(\"Accuracy модели логистической регрессии:\", result)"
   ]
  },
  {
   "cell_type": "code",
   "execution_count": 35,
   "metadata": {},
   "outputs": [
    {
     "name": "stdout",
     "output_type": "stream",
     "text": [
      "Accuracy модели логистической регрессии: 0.71851\n"
     ]
    }
   ],
   "source": [
    "lr(features_train, target_train, features_valid, target_valid)"
   ]
  },
  {
   "cell_type": "code",
   "execution_count": 36,
   "metadata": {},
   "outputs": [
    {
     "name": "stdout",
     "output_type": "stream",
     "text": [
      "Accuracy модели логистической регрессии: 0.71851\n"
     ]
    }
   ],
   "source": [
    "lr(features_train_mod, target_train, features_valid_mod, target_valid)"
   ]
  },
  {
   "cell_type": "markdown",
   "metadata": {},
   "source": [
    "Разницы в показателе accuracy для полного и сокращенного датасета нет."
   ]
  },
  {
   "cell_type": "markdown",
   "metadata": {},
   "source": [
    "**Модель решающего дерева**"
   ]
  },
  {
   "cell_type": "markdown",
   "metadata": {},
   "source": [
    "Обучим модель и проверим ее качество на тех же выборках. Гиперпараметр модели - глубину дерева - передадим функции в качестве параметра:"
   ]
  },
  {
   "cell_type": "code",
   "execution_count": 37,
   "metadata": {},
   "outputs": [],
   "source": [
    "def dt(f_train, t_train, f_val, t_val, d):\n",
    "# функция принимает на вход четыре выборки (на первых обучает, на последних тестирует качество), \n",
    "# а также максимальную глубину дерева\n",
    "# выводит лучшее значение accuracy и глубину, на которой оно было достигнуто\n",
    "\n",
    "    best_model = None\n",
    "    best_result = 0\n",
    "    best_depth = 0\n",
    "    for depth in range(1, d + 1):\n",
    "        model_dt = DecisionTreeClassifier(max_depth = depth, random_state = 12345) \n",
    "        model_dt.fit(f_train, t_train) \n",
    "        predictions_valid = model_dt.predict(f_val)\n",
    "        result = accuracy_score(t_val, predictions_valid).round(5) \n",
    "\n",
    "        if result > best_result:\n",
    "            best_model = model_dt \n",
    "            best_result = result \n",
    "            best_depth = depth\n",
    "            \n",
    "    print('Максимальная глубина дерева:', d)\n",
    "    print('Accuracy наилучшей модели решающего дерева:', best_result) \n",
    "    print(\"Значение глубины:\", best_depth)"
   ]
  },
  {
   "cell_type": "markdown",
   "metadata": {},
   "source": [
    "Посмотрим, на каком из значений глубины модель даст лучший результат:"
   ]
  },
  {
   "cell_type": "code",
   "execution_count": 38,
   "metadata": {},
   "outputs": [
    {
     "name": "stdout",
     "output_type": "stream",
     "text": [
      "Максимальная глубина дерева: 15\n",
      "Accuracy наилучшей модели решающего дерева: 0.80249\n",
      "Значение глубины: 8\n"
     ]
    }
   ],
   "source": [
    "dt(features_train, target_train, features_valid, target_valid, 15)"
   ]
  },
  {
   "cell_type": "code",
   "execution_count": 39,
   "metadata": {},
   "outputs": [
    {
     "name": "stdout",
     "output_type": "stream",
     "text": [
      "Максимальная глубина дерева: 15\n",
      "Accuracy наилучшей модели решающего дерева: 0.79005\n",
      "Значение глубины: 8\n"
     ]
    }
   ],
   "source": [
    "dt(features_train_mod, target_train, features_valid_mod, target_valid, 15)"
   ]
  },
  {
   "cell_type": "markdown",
   "metadata": {},
   "source": [
    "Очевидно, нет смысла строить слишком глубокое дерево. Лучшая точность (0,80249) достигается на глубине 8. Для датафрейма с изначальным количеством столбцов она на 0,012 выше. "
   ]
  },
  {
   "cell_type": "markdown",
   "metadata": {},
   "source": [
    "**Модель случайного леса**"
   ]
  },
  {
   "cell_type": "markdown",
   "metadata": {},
   "source": [
    "Напишем аналогичную функцию, только в качестве параметра будем передавать не только глубину, но и количество деревьев."
   ]
  },
  {
   "cell_type": "code",
   "execution_count": 40,
   "metadata": {},
   "outputs": [],
   "source": [
    "def rf(f_train, t_train, f_val, t_val, d, n_est):\n",
    "# функция принимает на вход четыре выборки (на первых обучает, на последних тестирует качество), \n",
    "# а также глубину и максимальное число деревьев\n",
    "# выводит лучшее значение accuracy, глубину и количество деревьев, на котором оно было достигнуто\n",
    "\n",
    "    best_model = None\n",
    "    best_result = 0\n",
    "    best_n_est = 0\n",
    "    for est in range(1, n_est + 1):\n",
    "        for depth in range(1, d + 1):\n",
    "            model_rf = RandomForestClassifier(random_state = 12345, n_estimators = est, max_depth = depth) \n",
    "            model_rf.fit(f_train, t_train) \n",
    "            result = model_rf.score(f_val, t_val).round(5) \n",
    "        \n",
    "            if result > best_result:\n",
    "                best_model = model_rf \n",
    "                best_result = result \n",
    "                best_n_est = est\n",
    "                best_depth = depth\n",
    "\n",
    "    print('Максимальное число деревьев:', n_est)\n",
    "    print(\"Accuracy наилучшей модели случайного леса:\", best_result)\n",
    "    print(\"Число деревьев:\", best_n_est)\n",
    "    print(\"Значение глубины:\", best_depth)"
   ]
  },
  {
   "cell_type": "markdown",
   "metadata": {},
   "source": [
    "Определим, при каких параметрах глубины и числа деревьев достигается лучшая точность:"
   ]
  },
  {
   "cell_type": "code",
   "execution_count": 41,
   "metadata": {},
   "outputs": [
    {
     "name": "stdout",
     "output_type": "stream",
     "text": [
      "Максимальное число деревьев: 50\n",
      "Accuracy наилучшей модели случайного леса: 0.82271\n",
      "Число деревьев: 39\n",
      "Значение глубины: 9\n"
     ]
    }
   ],
   "source": [
    "rf(features_train, target_train, features_valid, target_valid, 20, 50)"
   ]
  },
  {
   "cell_type": "code",
   "execution_count": 42,
   "metadata": {},
   "outputs": [
    {
     "name": "stdout",
     "output_type": "stream",
     "text": [
      "Максимальное число деревьев: 50\n",
      "Accuracy наилучшей модели случайного леса: 0.8196\n",
      "Число деревьев: 26\n",
      "Значение глубины: 9\n"
     ]
    }
   ],
   "source": [
    "rf(features_train_mod, target_train, features_valid_mod, target_valid, 20, 50)"
   ]
  },
  {
   "cell_type": "markdown",
   "metadata": {},
   "source": [
    "На данных исходного датасета точность оказалась на 0,003 выше, чем на модифицированном. Оптимальное число деревьев разное для исходного и модифицированного датасета."
   ]
  },
  {
   "cell_type": "markdown",
   "metadata": {},
   "source": [
    "**Вывод**"
   ]
  },
  {
   "cell_type": "markdown",
   "metadata": {},
   "source": [
    "Для решения задачи классификации построены три модели: логистической регрессии, решающего дерева и случайного леса. Модели обучены на тренировочной выборке; качество проверено на валидационной выборке.\n",
    "\n",
    "- лучшую точность показала **модель случайного леса** с числом деревьев 39 и глубиной 9: **0,82271**.\n",
    "- промежуточный результат у **модели решающего дерева** с глубиной 8: **0,80249**.\n",
    "- ниже всего точность у **модели логистической регрессии**: **0.71851**.\n",
    "\n",
    "На данных исходного датафрейма точность моделей решающего дерева и случайного леса немного выше (на 0,012 и 0,003 соответственно), чем на данных датафрейма с удаленным признаком **minutes**."
   ]
  },
  {
   "cell_type": "markdown",
   "metadata": {},
   "source": [
    "## Проверка моделей на тестовой выборке"
   ]
  },
  {
   "cell_type": "markdown",
   "metadata": {},
   "source": [
    "Проверим работу моделей на тестовой выборке. Для обучения используем объединение тренировочной и валидационной выборок как для полного, так и модифицированного датасета. В качестве гиперпараметров передадим те, что давали лучший результат на предыдущем шаге."
   ]
  },
  {
   "cell_type": "code",
   "execution_count": 43,
   "metadata": {},
   "outputs": [],
   "source": [
    "feat_tr = pd.concat([features_train, features_valid])\n",
    "feat_tr_mod = pd.concat([features_train_mod, features_valid_mod])   \n",
    "targ_tr = pd.concat([target_train, target_valid])  "
   ]
  },
  {
   "cell_type": "markdown",
   "metadata": {},
   "source": [
    "**Модель логистической регрессии**:"
   ]
  },
  {
   "cell_type": "code",
   "execution_count": 44,
   "metadata": {},
   "outputs": [
    {
     "name": "stdout",
     "output_type": "stream",
     "text": [
      "Accuracy модели логистической регрессии для исходного датафрейма: 0.70607\n"
     ]
    }
   ],
   "source": [
    "model_lr1 = LogisticRegression(random_state = 12345) \n",
    "model_lr1.fit(feat_tr, targ_tr)\n",
    "result = model_lr1.score(features_test, target_test).round(5)\n",
    "print(\"Accuracy модели логистической регрессии для исходного датафрейма:\", result)"
   ]
  },
  {
   "cell_type": "code",
   "execution_count": 45,
   "metadata": {},
   "outputs": [
    {
     "name": "stdout",
     "output_type": "stream",
     "text": [
      "Accuracy модели логистической регрессии для модифицированного датафрейма: 0.7325\n"
     ]
    }
   ],
   "source": [
    "model_lr2 = LogisticRegression(random_state = 12345) \n",
    "model_lr2.fit(feat_tr_mod, targ_tr)\n",
    "result = model_lr2.score(features_test_mod, target_test).round(5)\n",
    "print(\"Accuracy модели логистической регрессии для модифицированного датафрейма:\", result)"
   ]
  },
  {
   "cell_type": "markdown",
   "metadata": {},
   "source": [
    "**Модель решающего дерева**"
   ]
  },
  {
   "cell_type": "code",
   "execution_count": 46,
   "metadata": {},
   "outputs": [
    {
     "name": "stdout",
     "output_type": "stream",
     "text": [
      "Accuracy модели решающего дерева для исходного датафрейма: 0.80715\n"
     ]
    }
   ],
   "source": [
    "model_dt1 = DecisionTreeClassifier(max_depth = 8, random_state = 12345) \n",
    "model_dt1.fit(feat_tr, targ_tr) \n",
    "predictions = model_dt1.predict(features_test)\n",
    "result = accuracy_score(target_test, predictions).round(5) \n",
    "print(\"Accuracy модели решающего дерева для исходного датафрейма:\", result)"
   ]
  },
  {
   "cell_type": "code",
   "execution_count": 47,
   "metadata": {},
   "outputs": [
    {
     "name": "stdout",
     "output_type": "stream",
     "text": [
      "Accuracy модели решающего дерева для модифицированного датафрейма: 0.79782\n"
     ]
    }
   ],
   "source": [
    "model_dt2 = DecisionTreeClassifier(max_depth = 8, random_state = 12345) \n",
    "model_dt2.fit(feat_tr_mod, targ_tr) \n",
    "predictions = model_dt2.predict(features_test_mod)\n",
    "result = accuracy_score(target_test, predictions).round(5) \n",
    "print(\"Accuracy модели решающего дерева для модифицированного датафрейма:\", result)"
   ]
  },
  {
   "cell_type": "markdown",
   "metadata": {},
   "source": [
    "**Модель случайного леса**"
   ]
  },
  {
   "cell_type": "code",
   "execution_count": 48,
   "metadata": {},
   "outputs": [
    {
     "name": "stdout",
     "output_type": "stream",
     "text": [
      "Accuracy модели случайного леса для исходного датафрейма: 0.82893\n"
     ]
    }
   ],
   "source": [
    "model_rf1 = RandomForestClassifier(random_state = 12345, n_estimators = 39, max_depth = 9) \n",
    "model_rf1.fit(feat_tr, targ_tr) \n",
    "result = model_rf1.score(features_test, target_test).round(5) \n",
    "print(\"Accuracy модели случайного леса для исходного датафрейма:\", result)"
   ]
  },
  {
   "cell_type": "code",
   "execution_count": 49,
   "metadata": {},
   "outputs": [
    {
     "name": "stdout",
     "output_type": "stream",
     "text": [
      "Accuracy модели случайного леса для модифицированного датафрейма: 0.82271\n"
     ]
    }
   ],
   "source": [
    "model_rf2 = RandomForestClassifier(random_state = 12345, n_estimators = 26, max_depth = 9) \n",
    "model_rf2.fit(feat_tr_mod, targ_tr) \n",
    "result = model_rf2.score(features_test_mod, target_test).round(5) \n",
    "print(\"Accuracy модели случайного леса для модифицированного датафрейма:\", result)"
   ]
  },
  {
   "cell_type": "markdown",
   "metadata": {},
   "source": [
    "**Вывод**"
   ]
  },
  {
   "cell_type": "markdown",
   "metadata": {},
   "source": [
    "На датафрейме, из которого был удален столбец **minutes**, лучше себя показала модель логистической регрессии. Модели решающего дерева и случайного леса дали более высокую точность на исходном датафрейме.\n",
    "\n",
    "На тестовой выборке лучший результат вновь оказался у **модели случайного леса**. Ее точность составила **0,82893**, что означает правильность предсказания в почти 82,9% случаев. \n",
    "\n",
    "Второе место у **модели решающего дерева**: 0,80715\n",
    "\n",
    "Самая низкая точность у **логистической регрессии**: 0,73250.\n",
    "\n",
    "Требуемое по условию задачи значение **accuracy** достигнуто для моделей случайного леса и решающего дерева."
   ]
  },
  {
   "cell_type": "markdown",
   "metadata": {},
   "source": [
    "## Проверка модели на адекватность"
   ]
  },
  {
   "cell_type": "markdown",
   "metadata": {},
   "source": [
    "Будем считать, что модель адекватна, если ее прогноз лучше, чем вероятность принадлежности клиента к группе пользователей тарифа \"Смарт\", рассчитанная только на основании знания пропорций в исходной выборке."
   ]
  },
  {
   "cell_type": "code",
   "execution_count": 50,
   "metadata": {},
   "outputs": [
    {
     "data": {
      "text/plain": [
       "0.69353"
      ]
     },
     "execution_count": 50,
     "metadata": {},
     "output_type": "execute_result"
    }
   ],
   "source": [
    "round(users_behavior.loc[users_behavior['is_ultra'] == 0].shape[0] / users_behavior.shape[0], 5)"
   ]
  },
  {
   "cell_type": "markdown",
   "metadata": {},
   "source": [
    "Доля пользователей с тарифом \"Смарт\" в выборке составляет 69,3%. Таким образом, классифицировав случайного клиента как пользователя тарифа \"Смарт\", мы сделаем верное предположение в 69,3% случаев. При этом прогноз лучшей поcтроенной модели верен в 82,9% случаев, что подтверждает ее адекватность.  "
   ]
  },
  {
   "cell_type": "markdown",
   "metadata": {},
   "source": [
    "Проверим модель на адекватность, сравнив ее с результатами работы классификатора **DummyClassifier**. Если ее способность к классификации будет выше, чем результат примитивных прогнозов **DummyClassifier**, это будет говорить об адекватности построенной модели."
   ]
  },
  {
   "cell_type": "code",
   "execution_count": 51,
   "metadata": {},
   "outputs": [
    {
     "data": {
      "text/plain": [
       "[{'stratified': 0.55677},\n",
       " {'most_frequent': 0.69362},\n",
       " {'prior': 0.69362},\n",
       " {'uniform': 0.49456}]"
      ]
     },
     "metadata": {},
     "output_type": "display_data"
    }
   ],
   "source": [
    "strategies = ['stratified', 'most_frequent', 'prior', 'uniform'] \n",
    "  \n",
    "dummy_results = [] \n",
    "for s in strategies: \n",
    "    dc = DummyClassifier(strategy = s, random_state = 12345)\n",
    "    dc.fit(feat_tr, targ_tr) \n",
    "    result = dc.score(features_test, target_test).round(5) \n",
    "    dummy_results.append({s: result}) \n",
    "\n",
    "display(dummy_results)"
   ]
  },
  {
   "cell_type": "markdown",
   "metadata": {},
   "source": [
    "Ни одна стратегия, использующаяся в **DummyClassifier**, не показала результата, сравнимого с работой построенной модели, что говорит о ее адекватности."
   ]
  },
  {
   "cell_type": "markdown",
   "metadata": {},
   "source": [
    "## Вывод"
   ]
  },
  {
   "cell_type": "markdown",
   "metadata": {},
   "source": [
    "В работе решалась задача классификации пользователей оператора сотовой связи на выборке из 3 214 клиентов. \n",
    "\n",
    "Целевая переменная - тариф пользователя - распределена в соотношении 70:30. Распределение остальных признаков оказалось близким к нормальному, за исключением столбца **message**, отвечающего за показатель отправки sms.\n",
    "\n",
    "Диапазон значений признаков пользователей тарифа \"Ультра\" несколько выше по сравнению с клиентами на \"Смарте\". Выше для них и удаленность от среднего: кривые распределения выглядят более полого. Средние значения признаков также выше на \"Ультре\".\n",
    "\n",
    "Обнаружена высокая зависимость между переменными **calls** и **minutes** (коэффициент корреляции 0,98).  связи с этим обучение и тестирование моделей осуществлялось как на целом датафрейме, так и на датафрейме с удаленным столбцом **minutes**.\n",
    "\n",
    "Для решения задачи классификации были построены три модели: логистической регрессии, решающего дерева и случайного леса. Сначала модели были обучены на тренировочной и проверены на валидационной выборках. На данных исходного датафрейма точность моделей решающего дерева и случайного леса оказалась немного выше (на 0,012 и 0,003 соответственно), чем на данных датафрейма с удаленным признаком **minutes**. Модель логистической регрессии показала одинаковый результат.\n",
    "\n",
    "Лучшую точность показала **модель случайного леса** с числом деревьев 39 и глубиной 9: 0,82271. Второй результат у **модели решающего дерева** с глубиной 8: 0,80249. Хуже всего точность оказалась у **модели логистической регрессии**: 0.71851.\n",
    "\n",
    "Затем модели были обучены на объединении тренировочной и валидационной выборок. В качестве гиперпараметров выбраны те, на котрых был получно лучшее значение accuracy на предыдущем обучении.\n",
    "\n",
    "На тестовой выборке лучший результат вновь оказался у **модели случайного леса**. Ее точность составила 0,82893, что означает правильность прогнозирования в почти 82,9% случаев. Несколько уступает ей модель **решающего дерева**: 0,80715. Самая низкая точность у **логистической регрессии**: 0,73250. Модели решающего дерева и случайного леса дали более высокую точность на исходном датафрейме, логистической регрессии - на модифицированном.\n",
    "\n",
    "Требуемое по условию задачи значение accuracy более 0,75 достигнуто для моделей случайного леса и решающего дерева.\n",
    "\n",
    "Проверка на адекватность лучшей из построенных моделей пройдена успешно."
   ]
  }
 ],
 "metadata": {
  "ExecuteTimeLog": [
   {
    "duration": 1070,
    "start_time": "2021-10-26T18:54:06.706Z"
   },
   {
    "duration": 21,
    "start_time": "2021-10-26T18:55:46.992Z"
   },
   {
    "duration": 16,
    "start_time": "2021-10-26T18:55:55.362Z"
   },
   {
    "duration": 7,
    "start_time": "2021-10-26T18:57:02.862Z"
   },
   {
    "duration": 81,
    "start_time": "2021-10-26T19:07:08.441Z"
   },
   {
    "duration": 4,
    "start_time": "2021-10-26T19:07:40.733Z"
   },
   {
    "duration": 346,
    "start_time": "2021-10-26T19:25:08.196Z"
   },
   {
    "duration": 83,
    "start_time": "2021-10-26T19:25:48.035Z"
   },
   {
    "duration": 6,
    "start_time": "2021-10-26T19:25:54.260Z"
   },
   {
    "duration": 4,
    "start_time": "2021-10-26T19:26:05.823Z"
   },
   {
    "duration": 4,
    "start_time": "2021-10-26T19:26:08.973Z"
   },
   {
    "duration": 6,
    "start_time": "2021-10-26T19:26:34.625Z"
   },
   {
    "duration": 80,
    "start_time": "2021-10-26T19:28:03.829Z"
   },
   {
    "duration": 6,
    "start_time": "2021-10-26T19:28:33.893Z"
   },
   {
    "duration": 7,
    "start_time": "2021-10-26T19:28:37.276Z"
   },
   {
    "duration": 84,
    "start_time": "2021-10-26T19:28:38.076Z"
   },
   {
    "duration": 4,
    "start_time": "2021-10-26T19:28:40.661Z"
   },
   {
    "duration": 7,
    "start_time": "2021-10-26T19:29:03.915Z"
   },
   {
    "duration": 9,
    "start_time": "2021-10-26T19:29:32.104Z"
   },
   {
    "duration": 4,
    "start_time": "2021-10-26T19:31:00.756Z"
   },
   {
    "duration": 8,
    "start_time": "2021-10-26T19:31:02.418Z"
   },
   {
    "duration": 11,
    "start_time": "2021-10-26T19:31:05.918Z"
   },
   {
    "duration": 8,
    "start_time": "2021-10-26T19:40:18.155Z"
   },
   {
    "duration": 9,
    "start_time": "2021-10-26T19:40:26.625Z"
   },
   {
    "duration": 10,
    "start_time": "2021-10-26T19:41:24.305Z"
   },
   {
    "duration": 11,
    "start_time": "2021-10-26T19:41:42.206Z"
   },
   {
    "duration": 8,
    "start_time": "2021-10-26T19:42:04.309Z"
   },
   {
    "duration": 9,
    "start_time": "2021-10-26T19:42:44.063Z"
   },
   {
    "duration": 3,
    "start_time": "2021-10-26T19:48:10.992Z"
   },
   {
    "duration": 3,
    "start_time": "2021-10-26T19:48:34.477Z"
   },
   {
    "duration": 240,
    "start_time": "2021-10-26T20:56:02.024Z"
   },
   {
    "duration": 16,
    "start_time": "2021-10-26T20:56:16.598Z"
   },
   {
    "duration": 78,
    "start_time": "2021-10-26T20:56:39.562Z"
   },
   {
    "duration": 269,
    "start_time": "2021-10-26T20:56:42.148Z"
   },
   {
    "duration": 15,
    "start_time": "2021-10-26T20:57:06.388Z"
   },
   {
    "duration": 4,
    "start_time": "2021-10-26T20:57:29.812Z"
   },
   {
    "duration": 16,
    "start_time": "2021-10-26T20:57:35.974Z"
   },
   {
    "duration": 3,
    "start_time": "2021-10-26T21:01:53.194Z"
   },
   {
    "duration": 14,
    "start_time": "2021-10-26T21:01:57.807Z"
   },
   {
    "duration": 5,
    "start_time": "2021-10-26T21:19:46.915Z"
   },
   {
    "duration": 4,
    "start_time": "2021-10-26T21:20:04.446Z"
   },
   {
    "duration": 9,
    "start_time": "2021-10-26T21:20:09.703Z"
   },
   {
    "duration": 5,
    "start_time": "2021-10-26T21:20:49.555Z"
   },
   {
    "duration": 8,
    "start_time": "2021-10-26T21:20:52.752Z"
   },
   {
    "duration": 4,
    "start_time": "2021-10-26T21:21:45.056Z"
   },
   {
    "duration": 8,
    "start_time": "2021-10-26T21:21:46.741Z"
   },
   {
    "duration": 10,
    "start_time": "2021-10-26T21:21:54.292Z"
   },
   {
    "duration": 4,
    "start_time": "2021-10-26T21:22:06.731Z"
   },
   {
    "duration": 11,
    "start_time": "2021-10-26T21:22:10.092Z"
   },
   {
    "duration": 16,
    "start_time": "2021-10-26T21:22:16.492Z"
   },
   {
    "duration": 18,
    "start_time": "2021-10-26T21:22:20.755Z"
   },
   {
    "duration": 23,
    "start_time": "2021-10-26T21:22:26.580Z"
   },
   {
    "duration": 29,
    "start_time": "2021-10-26T21:22:31.017Z"
   },
   {
    "duration": 32,
    "start_time": "2021-10-26T21:22:34.419Z"
   },
   {
    "duration": 790,
    "start_time": "2021-10-26T21:22:38.993Z"
   },
   {
    "duration": 19,
    "start_time": "2021-10-26T21:22:47.293Z"
   },
   {
    "duration": 15,
    "start_time": "2021-10-26T21:22:51.420Z"
   },
   {
    "duration": 501,
    "start_time": "2021-10-26T21:23:00.031Z"
   },
   {
    "duration": 7,
    "start_time": "2021-10-26T21:23:06.467Z"
   },
   {
    "duration": 32,
    "start_time": "2021-10-26T21:23:11.891Z"
   },
   {
    "duration": 10,
    "start_time": "2021-10-26T21:23:14.887Z"
   },
   {
    "duration": 13,
    "start_time": "2021-10-26T21:23:17.769Z"
   },
   {
    "duration": 1394,
    "start_time": "2021-10-28T18:04:23.312Z"
   },
   {
    "duration": 21,
    "start_time": "2021-10-28T18:04:24.709Z"
   },
   {
    "duration": 25,
    "start_time": "2021-10-28T18:04:24.733Z"
   },
   {
    "duration": 13,
    "start_time": "2021-10-28T18:04:24.761Z"
   },
   {
    "duration": 25,
    "start_time": "2021-10-28T18:04:24.776Z"
   },
   {
    "duration": 12,
    "start_time": "2021-10-28T18:04:24.803Z"
   },
   {
    "duration": 13,
    "start_time": "2021-10-28T18:04:24.818Z"
   },
   {
    "duration": 5,
    "start_time": "2021-10-28T18:04:24.834Z"
   },
   {
    "duration": 64,
    "start_time": "2021-10-28T18:04:24.841Z"
   },
   {
    "duration": 6,
    "start_time": "2021-10-28T18:04:24.908Z"
   },
   {
    "duration": 32,
    "start_time": "2021-10-28T18:04:24.916Z"
   },
   {
    "duration": 404,
    "start_time": "2021-10-28T18:04:24.950Z"
   },
   {
    "duration": 6,
    "start_time": "2021-10-28T18:08:20.352Z"
   },
   {
    "duration": 22,
    "start_time": "2021-10-28T18:08:21.173Z"
   },
   {
    "duration": 6,
    "start_time": "2021-10-28T18:08:57.563Z"
   },
   {
    "duration": 20,
    "start_time": "2021-10-28T18:08:58.087Z"
   },
   {
    "duration": 6,
    "start_time": "2021-10-28T18:29:06.436Z"
   },
   {
    "duration": 21,
    "start_time": "2021-10-28T18:29:07.187Z"
   },
   {
    "duration": 28,
    "start_time": "2021-10-28T18:29:12.988Z"
   },
   {
    "duration": 9,
    "start_time": "2021-10-28T18:29:17.706Z"
   },
   {
    "duration": 15,
    "start_time": "2021-10-28T18:29:30.501Z"
   },
   {
    "duration": 67,
    "start_time": "2021-10-28T18:29:36.052Z"
   },
   {
    "duration": 14,
    "start_time": "2021-10-28T18:29:38.901Z"
   },
   {
    "duration": 20,
    "start_time": "2021-10-28T18:29:41.476Z"
   },
   {
    "duration": 862,
    "start_time": "2021-10-28T18:38:18.975Z"
   },
   {
    "duration": 6,
    "start_time": "2021-10-28T18:38:23.564Z"
   },
   {
    "duration": 3217,
    "start_time": "2021-10-28T18:52:18.634Z"
   },
   {
    "duration": 22,
    "start_time": "2021-10-28T18:52:21.854Z"
   },
   {
    "duration": 24,
    "start_time": "2021-10-28T18:52:21.879Z"
   },
   {
    "duration": 10,
    "start_time": "2021-10-28T18:52:21.906Z"
   },
   {
    "duration": 6,
    "start_time": "2021-10-28T18:52:21.918Z"
   },
   {
    "duration": 14,
    "start_time": "2021-10-28T18:52:21.927Z"
   },
   {
    "duration": 57,
    "start_time": "2021-10-28T18:52:21.944Z"
   },
   {
    "duration": 4,
    "start_time": "2021-10-28T18:52:22.004Z"
   },
   {
    "duration": 31,
    "start_time": "2021-10-28T18:52:22.012Z"
   },
   {
    "duration": 6,
    "start_time": "2021-10-28T18:52:22.046Z"
   },
   {
    "duration": 873,
    "start_time": "2021-10-28T18:52:22.054Z"
   },
   {
    "duration": -1413,
    "start_time": "2021-10-28T18:52:24.342Z"
   },
   {
    "duration": 6,
    "start_time": "2021-10-28T18:53:00.026Z"
   },
   {
    "duration": 4,
    "start_time": "2021-10-28T18:53:01.638Z"
   },
   {
    "duration": 435,
    "start_time": "2021-10-28T18:54:23.339Z"
   },
   {
    "duration": 6,
    "start_time": "2021-10-28T18:54:30.614Z"
   },
   {
    "duration": 4,
    "start_time": "2021-10-28T18:54:42.840Z"
   },
   {
    "duration": 4,
    "start_time": "2021-10-28T18:54:47.152Z"
   },
   {
    "duration": 4,
    "start_time": "2021-10-28T18:55:32.614Z"
   },
   {
    "duration": 5,
    "start_time": "2021-10-28T18:55:38.468Z"
   },
   {
    "duration": 6,
    "start_time": "2021-10-28T18:55:41.553Z"
   },
   {
    "duration": 6,
    "start_time": "2021-10-28T18:55:51.553Z"
   },
   {
    "duration": 5,
    "start_time": "2021-10-28T18:55:55.753Z"
   },
   {
    "duration": 6,
    "start_time": "2021-10-28T18:55:58.404Z"
   },
   {
    "duration": 6,
    "start_time": "2021-10-28T18:56:07.341Z"
   },
   {
    "duration": 6,
    "start_time": "2021-10-28T18:56:14.392Z"
   },
   {
    "duration": 757,
    "start_time": "2021-10-28T18:56:16.817Z"
   },
   {
    "duration": 6,
    "start_time": "2021-10-28T18:59:49.235Z"
   },
   {
    "duration": 5,
    "start_time": "2021-10-28T18:59:50.608Z"
   },
   {
    "duration": 11,
    "start_time": "2021-10-28T18:59:54.408Z"
   },
   {
    "duration": 15,
    "start_time": "2021-10-28T18:59:58.272Z"
   },
   {
    "duration": 7,
    "start_time": "2021-10-28T19:00:14.934Z"
   },
   {
    "duration": 11,
    "start_time": "2021-10-28T19:00:18.021Z"
   },
   {
    "duration": 33,
    "start_time": "2021-10-28T19:00:20.927Z"
   },
   {
    "duration": 67,
    "start_time": "2021-10-28T19:00:23.822Z"
   },
   {
    "duration": 15,
    "start_time": "2021-10-28T19:00:27.559Z"
   },
   {
    "duration": 6,
    "start_time": "2021-10-28T19:00:44.140Z"
   },
   {
    "duration": 16,
    "start_time": "2021-10-28T19:00:44.741Z"
   },
   {
    "duration": 21,
    "start_time": "2021-10-28T19:00:48.695Z"
   },
   {
    "duration": 6,
    "start_time": "2021-10-28T19:07:40.993Z"
   },
   {
    "duration": 845,
    "start_time": "2021-10-28T19:07:42.055Z"
   },
   {
    "duration": 6,
    "start_time": "2021-10-28T19:07:59.469Z"
   },
   {
    "duration": 54,
    "start_time": "2021-10-28T19:08:00.257Z"
   },
   {
    "duration": 187,
    "start_time": "2021-10-28T19:08:04.746Z"
   },
   {
    "duration": 343,
    "start_time": "2021-10-28T19:08:09.593Z"
   },
   {
    "duration": 1842,
    "start_time": "2021-10-28T19:08:14.930Z"
   },
   {
    "duration": 4596,
    "start_time": "2021-10-28T19:08:22.981Z"
   },
   {
    "duration": 28862,
    "start_time": "2021-10-28T19:08:32.393Z"
   },
   {
    "duration": 1859,
    "start_time": "2021-10-28T19:09:10.832Z"
   },
   {
    "duration": 6,
    "start_time": "2021-10-28T19:11:58.336Z"
   },
   {
    "duration": 23,
    "start_time": "2021-10-28T19:11:59.785Z"
   },
   {
    "duration": 65,
    "start_time": "2021-10-28T19:12:10.631Z"
   },
   {
    "duration": 7,
    "start_time": "2021-10-28T19:12:39.999Z"
   },
   {
    "duration": 64,
    "start_time": "2021-10-28T19:12:40.486Z"
   },
   {
    "duration": 6,
    "start_time": "2021-10-28T19:14:13.814Z"
   },
   {
    "duration": 58,
    "start_time": "2021-10-28T19:14:14.401Z"
   },
   {
    "duration": 287,
    "start_time": "2021-10-28T19:15:00.477Z"
   },
   {
    "duration": 6,
    "start_time": "2021-10-28T19:16:25.942Z"
   },
   {
    "duration": 7,
    "start_time": "2021-10-28T19:16:30.166Z"
   },
   {
    "duration": 285,
    "start_time": "2021-10-28T19:16:31.315Z"
   },
   {
    "duration": 289,
    "start_time": "2021-10-28T19:16:49.717Z"
   },
   {
    "duration": 9,
    "start_time": "2021-10-28T19:17:52.897Z"
   },
   {
    "duration": 397,
    "start_time": "2021-10-28T19:17:54.632Z"
   },
   {
    "duration": 7,
    "start_time": "2021-10-28T19:18:20.783Z"
   },
   {
    "duration": 6,
    "start_time": "2021-10-28T19:18:41.233Z"
   },
   {
    "duration": 296,
    "start_time": "2021-10-28T19:18:42.780Z"
   },
   {
    "duration": 353,
    "start_time": "2021-10-28T19:20:09.158Z"
   },
   {
    "duration": 7,
    "start_time": "2021-10-28T19:22:09.812Z"
   },
   {
    "duration": 594,
    "start_time": "2021-10-28T19:22:11.773Z"
   },
   {
    "duration": 6,
    "start_time": "2021-10-28T19:22:21.994Z"
   },
   {
    "duration": 363,
    "start_time": "2021-10-28T19:22:23.649Z"
   },
   {
    "duration": 6,
    "start_time": "2021-10-28T19:23:31.745Z"
   },
   {
    "duration": 1430,
    "start_time": "2021-10-28T19:24:40.757Z"
   },
   {
    "duration": 26275,
    "start_time": "2021-10-28T19:24:53.014Z"
   },
   {
    "duration": 1107,
    "start_time": "2021-10-28T19:25:21.176Z"
   },
   {
    "duration": 1473,
    "start_time": "2021-10-28T19:25:28.377Z"
   },
   {
    "duration": 6,
    "start_time": "2021-10-28T19:25:39.315Z"
   },
   {
    "duration": 1526,
    "start_time": "2021-10-28T19:25:41.552Z"
   },
   {
    "duration": 6,
    "start_time": "2021-10-28T19:26:50.294Z"
   },
   {
    "duration": 1423,
    "start_time": "2021-10-28T19:26:52.717Z"
   },
   {
    "duration": 6977,
    "start_time": "2021-10-28T19:27:44.429Z"
   },
   {
    "duration": 27236,
    "start_time": "2021-10-28T19:28:02.105Z"
   },
   {
    "duration": 25,
    "start_time": "2021-10-28T19:38:00.555Z"
   },
   {
    "duration": 23,
    "start_time": "2021-10-28T19:38:03.281Z"
   },
   {
    "duration": 1553,
    "start_time": "2021-10-28T19:38:06.323Z"
   },
   {
    "duration": 1453,
    "start_time": "2021-10-28T19:39:11.594Z"
   },
   {
    "duration": 21,
    "start_time": "2021-10-28T19:39:13.050Z"
   },
   {
    "duration": 30,
    "start_time": "2021-10-28T19:39:13.074Z"
   },
   {
    "duration": 8,
    "start_time": "2021-10-28T19:39:13.107Z"
   },
   {
    "duration": 14,
    "start_time": "2021-10-28T19:39:13.118Z"
   },
   {
    "duration": 15,
    "start_time": "2021-10-28T19:39:13.134Z"
   },
   {
    "duration": 14,
    "start_time": "2021-10-28T19:39:13.151Z"
   },
   {
    "duration": 34,
    "start_time": "2021-10-28T19:39:13.167Z"
   },
   {
    "duration": 26,
    "start_time": "2021-10-28T19:39:13.205Z"
   },
   {
    "duration": 7,
    "start_time": "2021-10-28T19:39:13.233Z"
   },
   {
    "duration": 392,
    "start_time": "2021-10-28T19:39:13.242Z"
   },
   {
    "duration": 6,
    "start_time": "2021-10-28T19:39:13.636Z"
   },
   {
    "duration": 1444,
    "start_time": "2021-10-28T19:39:13.644Z"
   },
   {
    "duration": 27568,
    "start_time": "2021-10-28T19:39:15.090Z"
   },
   {
    "duration": 25,
    "start_time": "2021-10-28T19:39:42.660Z"
   },
   {
    "duration": 22,
    "start_time": "2021-10-28T19:39:42.701Z"
   },
   {
    "duration": 1578,
    "start_time": "2021-10-28T19:39:42.726Z"
   },
   {
    "duration": 1457,
    "start_time": "2021-10-28T19:45:31.771Z"
   },
   {
    "duration": 22,
    "start_time": "2021-10-28T19:45:33.230Z"
   },
   {
    "duration": 25,
    "start_time": "2021-10-28T19:45:33.255Z"
   },
   {
    "duration": 22,
    "start_time": "2021-10-28T19:45:33.283Z"
   },
   {
    "duration": 12,
    "start_time": "2021-10-28T19:45:33.307Z"
   },
   {
    "duration": 10,
    "start_time": "2021-10-28T19:45:33.322Z"
   },
   {
    "duration": 14,
    "start_time": "2021-10-28T19:45:33.335Z"
   },
   {
    "duration": 4,
    "start_time": "2021-10-28T19:45:33.353Z"
   },
   {
    "duration": 66,
    "start_time": "2021-10-28T19:45:33.360Z"
   },
   {
    "duration": 6,
    "start_time": "2021-10-28T19:45:33.429Z"
   },
   {
    "duration": 396,
    "start_time": "2021-10-28T19:45:33.438Z"
   },
   {
    "duration": 6,
    "start_time": "2021-10-28T19:45:33.837Z"
   },
   {
    "duration": 1393,
    "start_time": "2021-10-28T19:45:33.845Z"
   },
   {
    "duration": 27448,
    "start_time": "2021-10-28T19:45:35.240Z"
   },
   {
    "duration": 24,
    "start_time": "2021-10-28T19:46:02.701Z"
   },
   {
    "duration": 20,
    "start_time": "2021-10-28T19:46:02.728Z"
   },
   {
    "duration": 1692,
    "start_time": "2021-10-28T19:46:02.751Z"
   },
   {
    "duration": 1462,
    "start_time": "2021-10-28T19:46:45.881Z"
   },
   {
    "duration": 23,
    "start_time": "2021-10-28T19:46:47.346Z"
   },
   {
    "duration": 32,
    "start_time": "2021-10-28T19:46:47.372Z"
   },
   {
    "duration": 9,
    "start_time": "2021-10-28T19:46:47.407Z"
   },
   {
    "duration": 13,
    "start_time": "2021-10-28T19:46:47.418Z"
   },
   {
    "duration": 12,
    "start_time": "2021-10-28T19:46:47.434Z"
   },
   {
    "duration": 14,
    "start_time": "2021-10-28T19:46:47.448Z"
   },
   {
    "duration": 37,
    "start_time": "2021-10-28T19:46:47.466Z"
   },
   {
    "duration": 27,
    "start_time": "2021-10-28T19:46:47.506Z"
   },
   {
    "duration": 6,
    "start_time": "2021-10-28T19:46:47.536Z"
   },
   {
    "duration": 426,
    "start_time": "2021-10-28T19:46:47.545Z"
   },
   {
    "duration": 6,
    "start_time": "2021-10-28T19:46:47.974Z"
   },
   {
    "duration": 1449,
    "start_time": "2021-10-28T19:46:47.983Z"
   },
   {
    "duration": 27514,
    "start_time": "2021-10-28T19:46:49.434Z"
   },
   {
    "duration": 23,
    "start_time": "2021-10-28T19:47:16.951Z"
   },
   {
    "duration": 41,
    "start_time": "2021-10-28T19:47:16.977Z"
   },
   {
    "duration": 1687,
    "start_time": "2021-10-28T19:47:17.021Z"
   },
   {
    "duration": 118,
    "start_time": "2021-10-28T19:49:09.448Z"
   },
   {
    "duration": 1520,
    "start_time": "2021-10-28T19:50:19.562Z"
   },
   {
    "duration": 9007,
    "start_time": "2021-10-28T20:18:04.085Z"
   },
   {
    "duration": 11,
    "start_time": "2021-10-28T20:18:35.798Z"
   },
   {
    "duration": 10,
    "start_time": "2021-10-28T20:19:25.146Z"
   },
   {
    "duration": 8,
    "start_time": "2021-10-28T20:19:47.112Z"
   },
   {
    "duration": 8,
    "start_time": "2021-10-28T20:19:53.686Z"
   },
   {
    "duration": 435,
    "start_time": "2021-10-28T20:28:33.734Z"
   },
   {
    "duration": 9,
    "start_time": "2021-10-28T20:28:49.062Z"
   },
   {
    "duration": 1451,
    "start_time": "2021-10-28T20:29:54.409Z"
   },
   {
    "duration": 21,
    "start_time": "2021-10-28T20:29:55.863Z"
   },
   {
    "duration": 28,
    "start_time": "2021-10-28T20:29:55.887Z"
   },
   {
    "duration": 9,
    "start_time": "2021-10-28T20:29:55.918Z"
   },
   {
    "duration": 7,
    "start_time": "2021-10-28T20:29:55.929Z"
   },
   {
    "duration": 10,
    "start_time": "2021-10-28T20:29:55.939Z"
   },
   {
    "duration": 50,
    "start_time": "2021-10-28T20:29:55.952Z"
   },
   {
    "duration": 4,
    "start_time": "2021-10-28T20:29:56.005Z"
   },
   {
    "duration": 30,
    "start_time": "2021-10-28T20:29:56.013Z"
   },
   {
    "duration": 6,
    "start_time": "2021-10-28T20:29:56.046Z"
   },
   {
    "duration": 405,
    "start_time": "2021-10-28T20:29:56.055Z"
   },
   {
    "duration": 6,
    "start_time": "2021-10-28T20:29:56.463Z"
   },
   {
    "duration": 1454,
    "start_time": "2021-10-28T20:29:56.471Z"
   },
   {
    "duration": 27067,
    "start_time": "2021-10-28T20:29:57.928Z"
   },
   {
    "duration": 1567,
    "start_time": "2021-10-28T20:30:25.001Z"
   },
   {
    "duration": 8,
    "start_time": "2021-10-28T20:30:26.571Z"
   },
   {
    "duration": 24,
    "start_time": "2021-10-28T20:34:12.352Z"
   },
   {
    "duration": 49,
    "start_time": "2021-10-28T20:34:16.881Z"
   },
   {
    "duration": 1552,
    "start_time": "2021-10-28T20:34:18.713Z"
   },
   {
    "duration": 1686,
    "start_time": "2021-10-28T20:38:39.977Z"
   },
   {
    "duration": 21,
    "start_time": "2021-10-28T20:38:41.665Z"
   },
   {
    "duration": 36,
    "start_time": "2021-10-28T20:38:41.689Z"
   },
   {
    "duration": 9,
    "start_time": "2021-10-28T20:38:41.729Z"
   },
   {
    "duration": 7,
    "start_time": "2021-10-28T20:38:41.740Z"
   },
   {
    "duration": 17,
    "start_time": "2021-10-28T20:38:41.749Z"
   },
   {
    "duration": 37,
    "start_time": "2021-10-28T20:38:41.768Z"
   },
   {
    "duration": 4,
    "start_time": "2021-10-28T20:38:41.807Z"
   },
   {
    "duration": 33,
    "start_time": "2021-10-28T20:38:41.815Z"
   },
   {
    "duration": 6,
    "start_time": "2021-10-28T20:38:41.851Z"
   },
   {
    "duration": 414,
    "start_time": "2021-10-28T20:38:41.860Z"
   },
   {
    "duration": 6,
    "start_time": "2021-10-28T20:38:42.277Z"
   },
   {
    "duration": 1481,
    "start_time": "2021-10-28T20:38:42.301Z"
   },
   {
    "duration": 27281,
    "start_time": "2021-10-28T20:38:43.785Z"
   },
   {
    "duration": 37,
    "start_time": "2021-10-28T20:39:11.068Z"
   },
   {
    "duration": 51,
    "start_time": "2021-10-28T20:39:11.107Z"
   },
   {
    "duration": 1777,
    "start_time": "2021-10-28T20:39:11.161Z"
   },
   {
    "duration": 8,
    "start_time": "2021-10-28T20:39:12.940Z"
   },
   {
    "duration": 1108,
    "start_time": "2021-10-28T22:00:41.321Z"
   },
   {
    "duration": 19,
    "start_time": "2021-10-28T22:00:42.431Z"
   },
   {
    "duration": 16,
    "start_time": "2021-10-28T22:00:42.453Z"
   },
   {
    "duration": 6,
    "start_time": "2021-10-28T22:00:42.476Z"
   },
   {
    "duration": 4,
    "start_time": "2021-10-28T22:00:42.484Z"
   },
   {
    "duration": 9,
    "start_time": "2021-10-28T22:00:42.490Z"
   },
   {
    "duration": 9,
    "start_time": "2021-10-28T22:00:42.500Z"
   },
   {
    "duration": 3,
    "start_time": "2021-10-28T22:00:42.512Z"
   },
   {
    "duration": 19,
    "start_time": "2021-10-28T22:00:42.517Z"
   },
   {
    "duration": 42,
    "start_time": "2021-10-28T22:00:42.538Z"
   },
   {
    "duration": 304,
    "start_time": "2021-10-28T22:00:42.582Z"
   },
   {
    "duration": 5,
    "start_time": "2021-10-28T22:00:42.889Z"
   },
   {
    "duration": 1028,
    "start_time": "2021-10-28T22:00:42.896Z"
   },
   {
    "duration": 18570,
    "start_time": "2021-10-28T22:00:43.926Z"
   },
   {
    "duration": 15,
    "start_time": "2021-10-28T22:01:02.498Z"
   },
   {
    "duration": 36,
    "start_time": "2021-10-28T22:01:02.515Z"
   },
   {
    "duration": 1093,
    "start_time": "2021-10-28T22:01:02.553Z"
   },
   {
    "duration": 6,
    "start_time": "2021-10-28T22:01:03.647Z"
   },
   {
    "duration": 245,
    "start_time": "2021-10-29T19:46:30.120Z"
   },
   {
    "duration": 1041,
    "start_time": "2021-10-29T19:46:36.277Z"
   },
   {
    "duration": 18,
    "start_time": "2021-10-29T19:46:40.946Z"
   },
   {
    "duration": 14,
    "start_time": "2021-10-29T19:46:42.809Z"
   },
   {
    "duration": 7,
    "start_time": "2021-10-29T19:46:45.358Z"
   },
   {
    "duration": 6,
    "start_time": "2021-10-29T19:46:49.258Z"
   },
   {
    "duration": 232,
    "start_time": "2021-10-29T19:47:42.049Z"
   },
   {
    "duration": 8,
    "start_time": "2021-10-29T19:47:47.299Z"
   },
   {
    "duration": 6,
    "start_time": "2021-10-29T19:47:58.368Z"
   },
   {
    "duration": 8,
    "start_time": "2021-10-29T19:58:56.313Z"
   },
   {
    "duration": 117,
    "start_time": "2021-10-29T20:00:25.023Z"
   },
   {
    "duration": 184,
    "start_time": "2021-10-29T20:01:37.014Z"
   },
   {
    "duration": 4,
    "start_time": "2021-10-29T20:01:56.943Z"
   },
   {
    "duration": 355,
    "start_time": "2021-10-29T20:02:02.844Z"
   },
   {
    "duration": 769,
    "start_time": "2021-10-29T20:02:54.805Z"
   },
   {
    "duration": 351,
    "start_time": "2021-10-29T20:03:02.883Z"
   },
   {
    "duration": 69,
    "start_time": "2021-10-29T20:08:47.840Z"
   },
   {
    "duration": 8,
    "start_time": "2021-10-29T20:08:55.865Z"
   },
   {
    "duration": 7,
    "start_time": "2021-10-29T20:09:05.738Z"
   },
   {
    "duration": 489,
    "start_time": "2021-10-29T20:11:45.322Z"
   },
   {
    "duration": 8,
    "start_time": "2021-10-29T20:23:06.741Z"
   },
   {
    "duration": 371,
    "start_time": "2021-10-29T20:25:44.334Z"
   },
   {
    "duration": 363,
    "start_time": "2021-10-29T20:25:57.871Z"
   },
   {
    "duration": 7,
    "start_time": "2021-10-29T20:28:35.698Z"
   },
   {
    "duration": 6,
    "start_time": "2021-10-29T20:28:36.361Z"
   },
   {
    "duration": 455,
    "start_time": "2021-10-29T20:30:10.364Z"
   },
   {
    "duration": 7,
    "start_time": "2021-10-29T20:43:15.531Z"
   },
   {
    "duration": 441,
    "start_time": "2021-10-29T20:44:03.105Z"
   },
   {
    "duration": 7,
    "start_time": "2021-10-29T20:46:11.046Z"
   },
   {
    "duration": 7,
    "start_time": "2021-10-29T20:46:11.633Z"
   },
   {
    "duration": 494,
    "start_time": "2021-10-29T20:47:01.083Z"
   },
   {
    "duration": 8,
    "start_time": "2021-10-29T21:20:17.984Z"
   },
   {
    "duration": 350,
    "start_time": "2021-10-29T21:21:29.472Z"
   },
   {
    "duration": 355,
    "start_time": "2021-10-29T21:21:41.378Z"
   },
   {
    "duration": 8,
    "start_time": "2021-10-29T21:22:14.342Z"
   },
   {
    "duration": 7,
    "start_time": "2021-10-29T21:22:17.454Z"
   },
   {
    "duration": 515,
    "start_time": "2021-10-29T21:23:40.413Z"
   },
   {
    "duration": 672,
    "start_time": "2021-10-29T21:23:49.875Z"
   },
   {
    "duration": 4,
    "start_time": "2021-10-29T21:40:00.735Z"
   },
   {
    "duration": 394,
    "start_time": "2021-10-29T21:40:24.053Z"
   },
   {
    "duration": 4,
    "start_time": "2021-10-29T21:40:44.724Z"
   },
   {
    "duration": 6,
    "start_time": "2021-10-29T21:40:51.111Z"
   },
   {
    "duration": 7,
    "start_time": "2021-10-29T21:40:56.627Z"
   },
   {
    "duration": 7,
    "start_time": "2021-10-29T21:41:17.090Z"
   },
   {
    "duration": 7,
    "start_time": "2021-10-29T21:41:23.090Z"
   },
   {
    "duration": 8,
    "start_time": "2021-10-29T21:41:26.966Z"
   },
   {
    "duration": 8,
    "start_time": "2021-10-29T21:41:29.907Z"
   },
   {
    "duration": 6,
    "start_time": "2021-10-29T21:41:34.839Z"
   },
   {
    "duration": 6,
    "start_time": "2021-10-29T21:41:38.752Z"
   },
   {
    "duration": 7,
    "start_time": "2021-10-29T21:42:07.261Z"
   },
   {
    "duration": 12,
    "start_time": "2021-10-29T21:47:28.726Z"
   },
   {
    "duration": 10,
    "start_time": "2021-10-29T21:47:54.611Z"
   },
   {
    "duration": 9,
    "start_time": "2021-10-29T21:48:16.954Z"
   },
   {
    "duration": 9,
    "start_time": "2021-10-29T21:48:20.737Z"
   },
   {
    "duration": 10,
    "start_time": "2021-10-29T21:48:31.925Z"
   },
   {
    "duration": 4,
    "start_time": "2021-10-29T21:58:10.435Z"
   },
   {
    "duration": 505,
    "start_time": "2021-10-29T21:58:25.837Z"
   },
   {
    "duration": 436,
    "start_time": "2021-10-29T21:58:49.038Z"
   },
   {
    "duration": 352,
    "start_time": "2021-10-29T21:58:57.826Z"
   },
   {
    "duration": 379,
    "start_time": "2021-10-29T21:59:13.962Z"
   },
   {
    "duration": 398,
    "start_time": "2021-10-29T21:59:19.976Z"
   },
   {
    "duration": 8233,
    "start_time": "2021-10-29T22:00:07.316Z"
   },
   {
    "duration": 179,
    "start_time": "2021-10-29T22:00:58.091Z"
   },
   {
    "duration": 187,
    "start_time": "2021-10-29T22:01:13.918Z"
   },
   {
    "duration": 5630,
    "start_time": "2021-10-29T22:01:24.078Z"
   },
   {
    "duration": 6147,
    "start_time": "2021-10-29T22:01:49.130Z"
   },
   {
    "duration": 5318,
    "start_time": "2021-10-29T22:01:57.842Z"
   },
   {
    "duration": 279,
    "start_time": "2021-10-30T07:50:56.010Z"
   },
   {
    "duration": 1181,
    "start_time": "2021-10-30T07:51:06.368Z"
   },
   {
    "duration": 20,
    "start_time": "2021-10-30T07:51:07.550Z"
   },
   {
    "duration": 11,
    "start_time": "2021-10-30T07:51:07.572Z"
   },
   {
    "duration": 6,
    "start_time": "2021-10-30T07:51:07.585Z"
   },
   {
    "duration": 8,
    "start_time": "2021-10-30T07:51:07.593Z"
   },
   {
    "duration": 11,
    "start_time": "2021-10-30T07:51:07.602Z"
   },
   {
    "duration": 7,
    "start_time": "2021-10-30T07:51:07.615Z"
   },
   {
    "duration": 367,
    "start_time": "2021-10-30T07:51:07.624Z"
   },
   {
    "duration": 8,
    "start_time": "2021-10-30T07:51:07.993Z"
   },
   {
    "duration": 9,
    "start_time": "2021-10-30T07:51:08.002Z"
   },
   {
    "duration": 509,
    "start_time": "2021-10-30T07:51:08.012Z"
   },
   {
    "duration": 8,
    "start_time": "2021-10-30T07:51:08.522Z"
   },
   {
    "duration": 441,
    "start_time": "2021-10-30T07:51:08.532Z"
   },
   {
    "duration": 6,
    "start_time": "2021-10-30T07:51:08.975Z"
   },
   {
    "duration": 9,
    "start_time": "2021-10-30T07:51:08.983Z"
   },
   {
    "duration": 471,
    "start_time": "2021-10-30T07:51:08.993Z"
   },
   {
    "duration": 7,
    "start_time": "2021-10-30T07:51:09.466Z"
   },
   {
    "duration": 365,
    "start_time": "2021-10-30T07:51:09.475Z"
   },
   {
    "duration": 7,
    "start_time": "2021-10-30T07:51:09.842Z"
   },
   {
    "duration": 14,
    "start_time": "2021-10-30T07:51:09.850Z"
   },
   {
    "duration": 583,
    "start_time": "2021-10-30T07:51:09.866Z"
   },
   {
    "duration": 8,
    "start_time": "2021-10-30T07:51:10.451Z"
   },
   {
    "duration": 359,
    "start_time": "2021-10-30T07:51:10.462Z"
   },
   {
    "duration": 7,
    "start_time": "2021-10-30T07:51:10.824Z"
   },
   {
    "duration": 8,
    "start_time": "2021-10-30T07:51:10.844Z"
   },
   {
    "duration": 770,
    "start_time": "2021-10-30T07:51:10.853Z"
   },
   {
    "duration": 5135,
    "start_time": "2021-10-30T07:51:11.625Z"
   },
   {
    "duration": 4,
    "start_time": "2021-10-30T07:51:16.762Z"
   },
   {
    "duration": 356,
    "start_time": "2021-10-30T07:51:16.767Z"
   },
   {
    "duration": 4,
    "start_time": "2021-10-30T07:51:17.124Z"
   },
   {
    "duration": 19,
    "start_time": "2021-10-30T07:51:17.129Z"
   },
   {
    "duration": 14,
    "start_time": "2021-10-30T07:51:17.150Z"
   },
   {
    "duration": 7,
    "start_time": "2021-10-30T07:51:17.166Z"
   },
   {
    "duration": 19,
    "start_time": "2021-10-30T07:51:17.175Z"
   },
   {
    "duration": 6,
    "start_time": "2021-10-30T07:51:17.197Z"
   },
   {
    "duration": 268,
    "start_time": "2021-10-30T07:51:17.205Z"
   },
   {
    "duration": 4,
    "start_time": "2021-10-30T07:51:17.475Z"
   },
   {
    "duration": 957,
    "start_time": "2021-10-30T07:51:17.481Z"
   },
   {
    "duration": 17605,
    "start_time": "2021-10-30T07:51:18.440Z"
   },
   {
    "duration": 12,
    "start_time": "2021-10-30T07:51:36.046Z"
   },
   {
    "duration": 32,
    "start_time": "2021-10-30T07:51:36.060Z"
   },
   {
    "duration": 1027,
    "start_time": "2021-10-30T07:51:36.094Z"
   },
   {
    "duration": 5,
    "start_time": "2021-10-30T07:51:37.123Z"
   },
   {
    "duration": 5585,
    "start_time": "2021-10-30T07:52:01.802Z"
   },
   {
    "duration": 4,
    "start_time": "2021-10-30T08:37:17.273Z"
   },
   {
    "duration": 11,
    "start_time": "2021-10-30T08:38:44.255Z"
   },
   {
    "duration": 10,
    "start_time": "2021-10-30T08:39:14.829Z"
   },
   {
    "duration": 1196,
    "start_time": "2021-10-30T08:51:00.949Z"
   },
   {
    "duration": 23,
    "start_time": "2021-10-30T08:51:02.147Z"
   },
   {
    "duration": 24,
    "start_time": "2021-10-30T08:51:02.172Z"
   },
   {
    "duration": 14,
    "start_time": "2021-10-30T08:51:02.199Z"
   },
   {
    "duration": 12,
    "start_time": "2021-10-30T08:51:02.215Z"
   },
   {
    "duration": 15,
    "start_time": "2021-10-30T08:51:02.229Z"
   },
   {
    "duration": 8,
    "start_time": "2021-10-30T08:51:02.246Z"
   },
   {
    "duration": 366,
    "start_time": "2021-10-30T08:51:02.257Z"
   },
   {
    "duration": 8,
    "start_time": "2021-10-30T08:51:02.625Z"
   },
   {
    "duration": 6,
    "start_time": "2021-10-30T08:51:02.645Z"
   },
   {
    "duration": 501,
    "start_time": "2021-10-30T08:51:02.653Z"
   },
   {
    "duration": 8,
    "start_time": "2021-10-30T08:51:03.155Z"
   },
   {
    "duration": 438,
    "start_time": "2021-10-30T08:51:03.165Z"
   },
   {
    "duration": 6,
    "start_time": "2021-10-30T08:51:03.605Z"
   },
   {
    "duration": 9,
    "start_time": "2021-10-30T08:51:03.613Z"
   },
   {
    "duration": 470,
    "start_time": "2021-10-30T08:51:03.623Z"
   },
   {
    "duration": 8,
    "start_time": "2021-10-30T08:51:04.095Z"
   },
   {
    "duration": 373,
    "start_time": "2021-10-30T08:51:04.104Z"
   },
   {
    "duration": 7,
    "start_time": "2021-10-30T08:51:04.479Z"
   },
   {
    "duration": 9,
    "start_time": "2021-10-30T08:51:04.487Z"
   },
   {
    "duration": 482,
    "start_time": "2021-10-30T08:51:04.497Z"
   },
   {
    "duration": 7,
    "start_time": "2021-10-30T08:51:04.981Z"
   },
   {
    "duration": 362,
    "start_time": "2021-10-30T08:51:04.992Z"
   },
   {
    "duration": 8,
    "start_time": "2021-10-30T08:51:05.356Z"
   },
   {
    "duration": 12,
    "start_time": "2021-10-30T08:51:05.366Z"
   },
   {
    "duration": 520,
    "start_time": "2021-10-30T08:51:05.380Z"
   },
   {
    "duration": 5191,
    "start_time": "2021-10-30T08:51:05.902Z"
   },
   {
    "duration": 4,
    "start_time": "2021-10-30T08:51:11.095Z"
   },
   {
    "duration": 405,
    "start_time": "2021-10-30T08:51:11.101Z"
   },
   {
    "duration": 4,
    "start_time": "2021-10-30T08:51:11.508Z"
   },
   {
    "duration": 360,
    "start_time": "2021-10-30T08:51:11.514Z"
   },
   {
    "duration": -1420,
    "start_time": "2021-10-30T08:51:13.296Z"
   },
   {
    "duration": -1436,
    "start_time": "2021-10-30T08:51:13.313Z"
   },
   {
    "duration": -1442,
    "start_time": "2021-10-30T08:51:13.320Z"
   },
   {
    "duration": -1468,
    "start_time": "2021-10-30T08:51:13.347Z"
   },
   {
    "duration": -1481,
    "start_time": "2021-10-30T08:51:13.361Z"
   },
   {
    "duration": -1499,
    "start_time": "2021-10-30T08:51:13.380Z"
   },
   {
    "duration": -1506,
    "start_time": "2021-10-30T08:51:13.388Z"
   },
   {
    "duration": -1526,
    "start_time": "2021-10-30T08:51:13.409Z"
   },
   {
    "duration": -1534,
    "start_time": "2021-10-30T08:51:13.418Z"
   },
   {
    "duration": -1538,
    "start_time": "2021-10-30T08:51:13.424Z"
   },
   {
    "duration": -1545,
    "start_time": "2021-10-30T08:51:13.432Z"
   },
   {
    "duration": -1554,
    "start_time": "2021-10-30T08:51:13.442Z"
   },
   {
    "duration": -1561,
    "start_time": "2021-10-30T08:51:13.449Z"
   },
   {
    "duration": 14,
    "start_time": "2021-10-30T08:52:21.352Z"
   },
   {
    "duration": 1160,
    "start_time": "2021-10-30T08:53:18.389Z"
   },
   {
    "duration": 19,
    "start_time": "2021-10-30T08:53:19.551Z"
   },
   {
    "duration": 12,
    "start_time": "2021-10-30T08:53:19.574Z"
   },
   {
    "duration": 8,
    "start_time": "2021-10-30T08:53:19.588Z"
   },
   {
    "duration": 5,
    "start_time": "2021-10-30T08:53:19.598Z"
   },
   {
    "duration": 11,
    "start_time": "2021-10-30T08:53:19.605Z"
   },
   {
    "duration": 28,
    "start_time": "2021-10-30T08:53:19.619Z"
   },
   {
    "duration": 355,
    "start_time": "2021-10-30T08:53:19.649Z"
   },
   {
    "duration": 8,
    "start_time": "2021-10-30T08:53:20.006Z"
   },
   {
    "duration": 9,
    "start_time": "2021-10-30T08:53:20.015Z"
   },
   {
    "duration": 529,
    "start_time": "2021-10-30T08:53:20.026Z"
   },
   {
    "duration": 7,
    "start_time": "2021-10-30T08:53:20.557Z"
   },
   {
    "duration": 442,
    "start_time": "2021-10-30T08:53:20.566Z"
   },
   {
    "duration": 6,
    "start_time": "2021-10-30T08:53:21.010Z"
   },
   {
    "duration": 9,
    "start_time": "2021-10-30T08:53:21.018Z"
   },
   {
    "duration": 460,
    "start_time": "2021-10-30T08:53:21.045Z"
   },
   {
    "duration": 7,
    "start_time": "2021-10-30T08:53:21.507Z"
   },
   {
    "duration": 379,
    "start_time": "2021-10-30T08:53:21.516Z"
   },
   {
    "duration": 7,
    "start_time": "2021-10-30T08:53:21.897Z"
   },
   {
    "duration": 9,
    "start_time": "2021-10-30T08:53:21.905Z"
   },
   {
    "duration": 513,
    "start_time": "2021-10-30T08:53:21.915Z"
   },
   {
    "duration": 19,
    "start_time": "2021-10-30T08:53:22.431Z"
   },
   {
    "duration": 369,
    "start_time": "2021-10-30T08:53:22.452Z"
   },
   {
    "duration": 6,
    "start_time": "2021-10-30T08:53:22.823Z"
   },
   {
    "duration": 18,
    "start_time": "2021-10-30T08:53:22.831Z"
   },
   {
    "duration": 497,
    "start_time": "2021-10-30T08:53:22.851Z"
   },
   {
    "duration": 5650,
    "start_time": "2021-10-30T08:53:23.350Z"
   },
   {
    "duration": 4,
    "start_time": "2021-10-30T08:53:29.002Z"
   },
   {
    "duration": 445,
    "start_time": "2021-10-30T08:53:29.007Z"
   },
   {
    "duration": 5,
    "start_time": "2021-10-30T08:53:29.454Z"
   },
   {
    "duration": 16,
    "start_time": "2021-10-30T08:53:29.461Z"
   },
   {
    "duration": 10,
    "start_time": "2021-10-30T08:53:29.479Z"
   },
   {
    "duration": 12,
    "start_time": "2021-10-30T08:53:29.491Z"
   },
   {
    "duration": 41,
    "start_time": "2021-10-30T08:53:29.504Z"
   },
   {
    "duration": 11,
    "start_time": "2021-10-30T08:53:29.547Z"
   },
   {
    "duration": 5,
    "start_time": "2021-10-30T08:53:29.560Z"
   },
   {
    "duration": 257,
    "start_time": "2021-10-30T08:53:29.566Z"
   },
   {
    "duration": 4,
    "start_time": "2021-10-30T08:53:29.824Z"
   },
   {
    "duration": 1014,
    "start_time": "2021-10-30T08:53:29.830Z"
   },
   {
    "duration": 18084,
    "start_time": "2021-10-30T08:53:30.846Z"
   },
   {
    "duration": 17,
    "start_time": "2021-10-30T08:53:48.932Z"
   },
   {
    "duration": 39,
    "start_time": "2021-10-30T08:53:48.950Z"
   },
   {
    "duration": 1001,
    "start_time": "2021-10-30T08:53:48.991Z"
   },
   {
    "duration": 5,
    "start_time": "2021-10-30T08:53:49.994Z"
   },
   {
    "duration": 4,
    "start_time": "2021-10-30T08:54:14.560Z"
   },
   {
    "duration": 9,
    "start_time": "2021-10-30T08:54:15.885Z"
   },
   {
    "duration": 11,
    "start_time": "2021-10-30T08:54:38.222Z"
   },
   {
    "duration": 9,
    "start_time": "2021-10-30T09:02:56.927Z"
   },
   {
    "duration": 9,
    "start_time": "2021-10-30T09:02:57.697Z"
   },
   {
    "duration": 4,
    "start_time": "2021-10-30T09:03:34.635Z"
   },
   {
    "duration": 11,
    "start_time": "2021-10-30T09:03:35.411Z"
   },
   {
    "duration": 9,
    "start_time": "2021-10-30T09:03:36.275Z"
   },
   {
    "duration": 4,
    "start_time": "2021-10-30T09:03:42.411Z"
   },
   {
    "duration": 10,
    "start_time": "2021-10-30T09:03:42.915Z"
   },
   {
    "duration": 12,
    "start_time": "2021-10-30T09:03:43.324Z"
   },
   {
    "duration": 52,
    "start_time": "2021-10-30T09:05:15.662Z"
   },
   {
    "duration": 46,
    "start_time": "2021-10-30T09:05:44.276Z"
   },
   {
    "duration": 93,
    "start_time": "2021-10-30T09:11:24.720Z"
   },
   {
    "duration": 71,
    "start_time": "2021-10-30T09:11:27.745Z"
   },
   {
    "duration": 4,
    "start_time": "2021-10-30T09:18:30.180Z"
   },
   {
    "duration": 5,
    "start_time": "2021-10-30T09:22:43.528Z"
   },
   {
    "duration": 278904,
    "start_time": "2021-10-30T09:22:56.098Z"
   },
   {
    "duration": 52457,
    "start_time": "2021-10-30T09:28:19.230Z"
   },
   {
    "duration": 5,
    "start_time": "2021-10-30T09:49:28.422Z"
   },
   {
    "duration": 10,
    "start_time": "2021-10-30T09:49:32.668Z"
   },
   {
    "duration": 3,
    "start_time": "2021-10-30T09:49:49.655Z"
   },
   {
    "duration": 13,
    "start_time": "2021-10-30T09:49:50.306Z"
   },
   {
    "duration": 4,
    "start_time": "2021-10-30T09:55:47.190Z"
   },
   {
    "duration": 14,
    "start_time": "2021-10-30T09:55:49.340Z"
   },
   {
    "duration": 11,
    "start_time": "2021-10-30T09:58:49.855Z"
   },
   {
    "duration": 12,
    "start_time": "2021-10-30T10:00:34.870Z"
   },
   {
    "duration": 11,
    "start_time": "2021-10-30T10:01:11.171Z"
   },
   {
    "duration": 14,
    "start_time": "2021-10-30T10:01:41.595Z"
   },
   {
    "duration": 11,
    "start_time": "2021-10-30T10:02:53.676Z"
   },
   {
    "duration": 12,
    "start_time": "2021-10-30T10:03:06.098Z"
   },
   {
    "duration": 14,
    "start_time": "2021-10-30T10:08:47.529Z"
   },
   {
    "duration": 14,
    "start_time": "2021-10-30T10:09:49.568Z"
   },
   {
    "duration": 13,
    "start_time": "2021-10-30T10:10:13.581Z"
   },
   {
    "duration": 137,
    "start_time": "2021-10-30T10:14:36.186Z"
   },
   {
    "duration": 67,
    "start_time": "2021-10-30T10:14:37.161Z"
   },
   {
    "duration": 86,
    "start_time": "2021-10-30T10:17:37.392Z"
   },
   {
    "duration": 88,
    "start_time": "2021-10-30T10:17:50.478Z"
   },
   {
    "duration": 97,
    "start_time": "2021-10-30T10:17:56.154Z"
   },
   {
    "duration": 5,
    "start_time": "2021-10-30T10:18:00.718Z"
   },
   {
    "duration": 11,
    "start_time": "2021-10-30T10:18:24.680Z"
   },
   {
    "duration": 11,
    "start_time": "2021-10-30T10:18:43.905Z"
   },
   {
    "duration": 14,
    "start_time": "2021-10-30T10:19:00.544Z"
   },
   {
    "duration": 11,
    "start_time": "2021-10-30T10:19:15.668Z"
   },
   {
    "duration": 748,
    "start_time": "2021-10-30T10:19:32.856Z"
   },
   {
    "duration": 135,
    "start_time": "2021-10-30T10:28:17.192Z"
   },
   {
    "duration": 71,
    "start_time": "2021-10-30T10:28:39.105Z"
   },
   {
    "duration": 5,
    "start_time": "2021-10-30T10:44:24.688Z"
   },
   {
    "duration": 389,
    "start_time": "2021-10-30T10:44:30.336Z"
   },
   {
    "duration": 13,
    "start_time": "2021-10-30T10:45:30.187Z"
   },
   {
    "duration": 14,
    "start_time": "2021-10-30T11:04:43.187Z"
   },
   {
    "duration": 9,
    "start_time": "2021-10-30T11:05:10.554Z"
   },
   {
    "duration": 10,
    "start_time": "2021-10-30T11:05:25.188Z"
   },
   {
    "duration": 11,
    "start_time": "2021-10-30T11:05:38.015Z"
   },
   {
    "duration": 10,
    "start_time": "2021-10-30T11:05:42.226Z"
   },
   {
    "duration": 83,
    "start_time": "2021-10-30T11:09:46.406Z"
   },
   {
    "duration": 9,
    "start_time": "2021-10-30T11:09:50.136Z"
   },
   {
    "duration": 10,
    "start_time": "2021-10-30T11:10:08.360Z"
   },
   {
    "duration": 1160,
    "start_time": "2021-10-30T11:29:14.900Z"
   },
   {
    "duration": 19,
    "start_time": "2021-10-30T11:29:16.062Z"
   },
   {
    "duration": 17,
    "start_time": "2021-10-30T11:29:16.083Z"
   },
   {
    "duration": 17,
    "start_time": "2021-10-30T11:29:16.103Z"
   },
   {
    "duration": 6,
    "start_time": "2021-10-30T11:29:16.122Z"
   },
   {
    "duration": 17,
    "start_time": "2021-10-30T11:29:16.130Z"
   },
   {
    "duration": 8,
    "start_time": "2021-10-30T11:29:16.149Z"
   },
   {
    "duration": 369,
    "start_time": "2021-10-30T11:29:16.159Z"
   },
   {
    "duration": 14,
    "start_time": "2021-10-30T11:29:16.531Z"
   },
   {
    "duration": 6,
    "start_time": "2021-10-30T11:29:16.547Z"
   },
   {
    "duration": 506,
    "start_time": "2021-10-30T11:29:16.554Z"
   },
   {
    "duration": 7,
    "start_time": "2021-10-30T11:29:17.061Z"
   },
   {
    "duration": 448,
    "start_time": "2021-10-30T11:29:17.070Z"
   },
   {
    "duration": 7,
    "start_time": "2021-10-30T11:29:17.520Z"
   },
   {
    "duration": 20,
    "start_time": "2021-10-30T11:29:17.528Z"
   },
   {
    "duration": 469,
    "start_time": "2021-10-30T11:29:17.550Z"
   },
   {
    "duration": 8,
    "start_time": "2021-10-30T11:29:18.021Z"
   },
   {
    "duration": 364,
    "start_time": "2021-10-30T11:29:18.030Z"
   },
   {
    "duration": 6,
    "start_time": "2021-10-30T11:29:18.396Z"
   },
   {
    "duration": 9,
    "start_time": "2021-10-30T11:29:18.404Z"
   },
   {
    "duration": 494,
    "start_time": "2021-10-30T11:29:18.415Z"
   },
   {
    "duration": 8,
    "start_time": "2021-10-30T11:29:18.911Z"
   },
   {
    "duration": 364,
    "start_time": "2021-10-30T11:29:18.920Z"
   },
   {
    "duration": 7,
    "start_time": "2021-10-30T11:29:19.285Z"
   },
   {
    "duration": 18,
    "start_time": "2021-10-30T11:29:19.294Z"
   },
   {
    "duration": 517,
    "start_time": "2021-10-30T11:29:19.313Z"
   },
   {
    "duration": 5396,
    "start_time": "2021-10-30T11:29:19.833Z"
   },
   {
    "duration": 4,
    "start_time": "2021-10-30T11:29:25.231Z"
   },
   {
    "duration": 390,
    "start_time": "2021-10-30T11:29:25.245Z"
   },
   {
    "duration": 9,
    "start_time": "2021-10-30T11:29:25.637Z"
   },
   {
    "duration": 17,
    "start_time": "2021-10-30T11:29:25.648Z"
   },
   {
    "duration": 11,
    "start_time": "2021-10-30T11:29:25.667Z"
   },
   {
    "duration": 8,
    "start_time": "2021-10-30T11:29:25.680Z"
   },
   {
    "duration": 3,
    "start_time": "2021-10-30T11:29:25.690Z"
   },
   {
    "duration": 13,
    "start_time": "2021-10-30T11:29:25.695Z"
   },
   {
    "duration": 11,
    "start_time": "2021-10-30T11:29:25.743Z"
   },
   {
    "duration": 4,
    "start_time": "2021-10-30T11:29:25.756Z"
   },
   {
    "duration": 104,
    "start_time": "2021-10-30T11:29:25.761Z"
   },
   {
    "duration": 82,
    "start_time": "2021-10-30T11:29:25.867Z"
   },
   {
    "duration": 5,
    "start_time": "2021-10-30T11:29:25.951Z"
   },
   {
    "duration": 70870,
    "start_time": "2021-10-30T11:29:25.957Z"
   },
   {
    "duration": 52621,
    "start_time": "2021-10-30T11:30:36.829Z"
   },
   {
    "duration": 5,
    "start_time": "2021-10-30T11:31:29.451Z"
   },
   {
    "duration": 17,
    "start_time": "2021-10-30T11:31:29.458Z"
   },
   {
    "duration": 13,
    "start_time": "2021-10-30T11:31:29.477Z"
   },
   {
    "duration": 17,
    "start_time": "2021-10-30T11:31:29.492Z"
   },
   {
    "duration": 11,
    "start_time": "2021-10-30T11:31:29.511Z"
   },
   {
    "duration": 134,
    "start_time": "2021-10-30T11:31:29.544Z"
   },
   {
    "duration": 73,
    "start_time": "2021-10-30T11:31:29.680Z"
   },
   {
    "duration": 5,
    "start_time": "2021-10-30T11:31:29.755Z"
   },
   {
    "duration": 9,
    "start_time": "2021-10-30T11:31:29.762Z"
   }
  ],
  "kernelspec": {
   "display_name": "Python 3",
   "language": "python",
   "name": "python3"
  },
  "language_info": {
   "codemirror_mode": {
    "name": "ipython",
    "version": 3
   },
   "file_extension": ".py",
   "mimetype": "text/x-python",
   "name": "python",
   "nbconvert_exporter": "python",
   "pygments_lexer": "ipython3",
   "version": "3.7.7"
  },
  "toc": {
   "base_numbering": 1,
   "nav_menu": {},
   "number_sections": false,
   "sideBar": true,
   "skip_h1_title": true,
   "title_cell": "Table of Contents",
   "title_sidebar": "Contents",
   "toc_cell": false,
   "toc_position": {},
   "toc_section_display": true,
   "toc_window_display": false
  }
 },
 "nbformat": 4,
 "nbformat_minor": 2
}
