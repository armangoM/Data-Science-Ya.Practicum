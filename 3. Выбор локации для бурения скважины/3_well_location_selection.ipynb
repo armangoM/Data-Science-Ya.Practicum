{
 "cells": [
  {
   "cell_type": "markdown",
   "metadata": {},
   "source": [
    "## Выбор локации для скважины"
   ]
  },
  {
   "cell_type": "markdown",
   "metadata": {},
   "source": [
    "**Цель проекта** - выбрать регион для бурения новой скважины.\n",
    "\n",
    "Предоставлены пробы нефти в трёх регионах: в каждом 100 000 месторождений, где измерили качество нефти и объём её запасов. Требуется построить модель машинного обучения, которая поможет определить регион, где добыча принесёт наибольшую прибыль. Проанализировать возможную прибыль и риски необходимо техникой *Bootstrap.*"
   ]
  },
  {
   "cell_type": "markdown",
   "metadata": {},
   "source": [
    "## Содержание\n",
    "\n",
    "[Загрузка и подготовка данных](#eda)\n",
    "\n",
    "- [Удаление дубликатов](#del)\n",
    "- [Анализ признаков](#an)\n",
    "- [Корреляция признаков](#corr)\n",
    "\n",
    "[Обучение и проверка модели](#model)\n",
    "\n",
    "[Подготовка к расчёту прибыли](#profit)\n",
    "\n",
    "[Расчёт прибыли и рисков](#risk)\n",
    "\n",
    "[Основные результаты](#conclusion)"
   ]
  },
  {
   "cell_type": "markdown",
   "metadata": {},
   "source": [
    "## Загрузка и подготовка данных <a name=\"eda\"></a>"
   ]
  },
  {
   "cell_type": "markdown",
   "metadata": {},
   "source": [
    "Импорт библиотек, которые потребуются для выполнения исследования:"
   ]
  },
  {
   "cell_type": "code",
   "execution_count": 1,
   "metadata": {},
   "outputs": [],
   "source": [
    "import pandas as pd\n",
    "import matplotlib.pyplot as plt\n",
    "import seaborn as sns\n",
    "import numpy as np\n",
    "import math\n",
    "from scipy import stats as st\n",
    "from sklearn.model_selection import train_test_split\n",
    "from sklearn.linear_model import LinearRegression\n",
    "from sklearn.metrics import mean_squared_error\n",
    "from numpy.random import RandomState"
   ]
  },
  {
   "cell_type": "markdown",
   "metadata": {},
   "source": [
    "Загрузка датасетов:"
   ]
  },
  {
   "cell_type": "code",
   "execution_count": 2,
   "metadata": {},
   "outputs": [],
   "source": [
    "geo_data_0 = pd.read_csv('/datasets/geo_data_0.csv')\n",
    "geo_data_1 = pd.read_csv('/datasets/geo_data_1.csv')\n",
    "geo_data_2 = pd.read_csv('/datasets/geo_data_2.csv')"
   ]
  },
  {
   "cell_type": "markdown",
   "metadata": {},
   "source": [
    "---\n",
    "\n",
    "Получение данных о первых пяти строках таблицы **geo_data_0**:"
   ]
  },
  {
   "cell_type": "code",
   "execution_count": 3,
   "metadata": {},
   "outputs": [
    {
     "data": {
      "text/html": [
       "<div>\n",
       "<style scoped>\n",
       "    .dataframe tbody tr th:only-of-type {\n",
       "        vertical-align: middle;\n",
       "    }\n",
       "\n",
       "    .dataframe tbody tr th {\n",
       "        vertical-align: top;\n",
       "    }\n",
       "\n",
       "    .dataframe thead th {\n",
       "        text-align: right;\n",
       "    }\n",
       "</style>\n",
       "<table border=\"1\" class=\"dataframe\">\n",
       "  <thead>\n",
       "    <tr style=\"text-align: right;\">\n",
       "      <th></th>\n",
       "      <th>id</th>\n",
       "      <th>f0</th>\n",
       "      <th>f1</th>\n",
       "      <th>f2</th>\n",
       "      <th>product</th>\n",
       "    </tr>\n",
       "  </thead>\n",
       "  <tbody>\n",
       "    <tr>\n",
       "      <td>0</td>\n",
       "      <td>txEyH</td>\n",
       "      <td>0.705745</td>\n",
       "      <td>-0.497823</td>\n",
       "      <td>1.221170</td>\n",
       "      <td>105.280062</td>\n",
       "    </tr>\n",
       "    <tr>\n",
       "      <td>1</td>\n",
       "      <td>2acmU</td>\n",
       "      <td>1.334711</td>\n",
       "      <td>-0.340164</td>\n",
       "      <td>4.365080</td>\n",
       "      <td>73.037750</td>\n",
       "    </tr>\n",
       "    <tr>\n",
       "      <td>2</td>\n",
       "      <td>409Wp</td>\n",
       "      <td>1.022732</td>\n",
       "      <td>0.151990</td>\n",
       "      <td>1.419926</td>\n",
       "      <td>85.265647</td>\n",
       "    </tr>\n",
       "    <tr>\n",
       "      <td>3</td>\n",
       "      <td>iJLyR</td>\n",
       "      <td>-0.032172</td>\n",
       "      <td>0.139033</td>\n",
       "      <td>2.978566</td>\n",
       "      <td>168.620776</td>\n",
       "    </tr>\n",
       "    <tr>\n",
       "      <td>4</td>\n",
       "      <td>Xdl7t</td>\n",
       "      <td>1.988431</td>\n",
       "      <td>0.155413</td>\n",
       "      <td>4.751769</td>\n",
       "      <td>154.036647</td>\n",
       "    </tr>\n",
       "  </tbody>\n",
       "</table>\n",
       "</div>"
      ],
      "text/plain": [
       "      id        f0        f1        f2     product\n",
       "0  txEyH  0.705745 -0.497823  1.221170  105.280062\n",
       "1  2acmU  1.334711 -0.340164  4.365080   73.037750\n",
       "2  409Wp  1.022732  0.151990  1.419926   85.265647\n",
       "3  iJLyR -0.032172  0.139033  2.978566  168.620776\n",
       "4  Xdl7t  1.988431  0.155413  4.751769  154.036647"
      ]
     },
     "execution_count": 3,
     "metadata": {},
     "output_type": "execute_result"
    }
   ],
   "source": [
    "geo_data_0.head()"
   ]
  },
  {
   "cell_type": "markdown",
   "metadata": {},
   "source": [
    "Общая информация о данных таблицы **geo_data_0**:"
   ]
  },
  {
   "cell_type": "code",
   "execution_count": 4,
   "metadata": {},
   "outputs": [
    {
     "name": "stdout",
     "output_type": "stream",
     "text": [
      "<class 'pandas.core.frame.DataFrame'>\n",
      "RangeIndex: 100000 entries, 0 to 99999\n",
      "Data columns (total 5 columns):\n",
      "id         100000 non-null object\n",
      "f0         100000 non-null float64\n",
      "f1         100000 non-null float64\n",
      "f2         100000 non-null float64\n",
      "product    100000 non-null float64\n",
      "dtypes: float64(4), object(1)\n",
      "memory usage: 3.8+ MB\n"
     ]
    }
   ],
   "source": [
    "geo_data_0.info()"
   ]
  },
  {
   "cell_type": "markdown",
   "metadata": {},
   "source": [
    "В датафрейме **geo_data_0** представлена информация о признаках скважин, расположенных в первом регионе: \n",
    "\n",
    "- **id** — уникальный идентификатор скважины;\n",
    "- **f0, f1, f2** — значимые признаки скважин;\n",
    "- **product** — объём запасов в скважине (тыс. баррелей).\n",
    "\n",
    "Общее количество объектов - 100 000. Пропусков нет. Все данные вещественного типа за исключением идентификатора скважин (он строкового типа).\n",
    "\n",
    "---"
   ]
  },
  {
   "cell_type": "markdown",
   "metadata": {},
   "source": [
    "Получение данных о первых пяти строках таблицы **geo_data_1**:"
   ]
  },
  {
   "cell_type": "code",
   "execution_count": 5,
   "metadata": {},
   "outputs": [
    {
     "data": {
      "text/html": [
       "<div>\n",
       "<style scoped>\n",
       "    .dataframe tbody tr th:only-of-type {\n",
       "        vertical-align: middle;\n",
       "    }\n",
       "\n",
       "    .dataframe tbody tr th {\n",
       "        vertical-align: top;\n",
       "    }\n",
       "\n",
       "    .dataframe thead th {\n",
       "        text-align: right;\n",
       "    }\n",
       "</style>\n",
       "<table border=\"1\" class=\"dataframe\">\n",
       "  <thead>\n",
       "    <tr style=\"text-align: right;\">\n",
       "      <th></th>\n",
       "      <th>id</th>\n",
       "      <th>f0</th>\n",
       "      <th>f1</th>\n",
       "      <th>f2</th>\n",
       "      <th>product</th>\n",
       "    </tr>\n",
       "  </thead>\n",
       "  <tbody>\n",
       "    <tr>\n",
       "      <td>0</td>\n",
       "      <td>kBEdx</td>\n",
       "      <td>-15.001348</td>\n",
       "      <td>-8.276000</td>\n",
       "      <td>-0.005876</td>\n",
       "      <td>3.179103</td>\n",
       "    </tr>\n",
       "    <tr>\n",
       "      <td>1</td>\n",
       "      <td>62mP7</td>\n",
       "      <td>14.272088</td>\n",
       "      <td>-3.475083</td>\n",
       "      <td>0.999183</td>\n",
       "      <td>26.953261</td>\n",
       "    </tr>\n",
       "    <tr>\n",
       "      <td>2</td>\n",
       "      <td>vyE1P</td>\n",
       "      <td>6.263187</td>\n",
       "      <td>-5.948386</td>\n",
       "      <td>5.001160</td>\n",
       "      <td>134.766305</td>\n",
       "    </tr>\n",
       "    <tr>\n",
       "      <td>3</td>\n",
       "      <td>KcrkZ</td>\n",
       "      <td>-13.081196</td>\n",
       "      <td>-11.506057</td>\n",
       "      <td>4.999415</td>\n",
       "      <td>137.945408</td>\n",
       "    </tr>\n",
       "    <tr>\n",
       "      <td>4</td>\n",
       "      <td>AHL4O</td>\n",
       "      <td>12.702195</td>\n",
       "      <td>-8.147433</td>\n",
       "      <td>5.004363</td>\n",
       "      <td>134.766305</td>\n",
       "    </tr>\n",
       "  </tbody>\n",
       "</table>\n",
       "</div>"
      ],
      "text/plain": [
       "      id         f0         f1        f2     product\n",
       "0  kBEdx -15.001348  -8.276000 -0.005876    3.179103\n",
       "1  62mP7  14.272088  -3.475083  0.999183   26.953261\n",
       "2  vyE1P   6.263187  -5.948386  5.001160  134.766305\n",
       "3  KcrkZ -13.081196 -11.506057  4.999415  137.945408\n",
       "4  AHL4O  12.702195  -8.147433  5.004363  134.766305"
      ]
     },
     "execution_count": 5,
     "metadata": {},
     "output_type": "execute_result"
    }
   ],
   "source": [
    "geo_data_1.head()"
   ]
  },
  {
   "cell_type": "markdown",
   "metadata": {},
   "source": [
    "Общая информация о данных таблицы **geo_data_1**:"
   ]
  },
  {
   "cell_type": "code",
   "execution_count": 6,
   "metadata": {},
   "outputs": [
    {
     "name": "stdout",
     "output_type": "stream",
     "text": [
      "<class 'pandas.core.frame.DataFrame'>\n",
      "RangeIndex: 100000 entries, 0 to 99999\n",
      "Data columns (total 5 columns):\n",
      "id         100000 non-null object\n",
      "f0         100000 non-null float64\n",
      "f1         100000 non-null float64\n",
      "f2         100000 non-null float64\n",
      "product    100000 non-null float64\n",
      "dtypes: float64(4), object(1)\n",
      "memory usage: 3.8+ MB\n"
     ]
    }
   ],
   "source": [
    "geo_data_1.info()"
   ]
  },
  {
   "cell_type": "markdown",
   "metadata": {},
   "source": [
    "Датафрейм **geo_data_1** содержит данные о скважинах во втором регионе и идентичен по набору столбцов, количеству строк и типу данных датафрейму **geo_data_0**.\n",
    "\n",
    "---"
   ]
  },
  {
   "cell_type": "markdown",
   "metadata": {},
   "source": [
    "Получение данных о первых пяти строках таблицы **geo_data_2**:"
   ]
  },
  {
   "cell_type": "code",
   "execution_count": 7,
   "metadata": {},
   "outputs": [
    {
     "data": {
      "text/html": [
       "<div>\n",
       "<style scoped>\n",
       "    .dataframe tbody tr th:only-of-type {\n",
       "        vertical-align: middle;\n",
       "    }\n",
       "\n",
       "    .dataframe tbody tr th {\n",
       "        vertical-align: top;\n",
       "    }\n",
       "\n",
       "    .dataframe thead th {\n",
       "        text-align: right;\n",
       "    }\n",
       "</style>\n",
       "<table border=\"1\" class=\"dataframe\">\n",
       "  <thead>\n",
       "    <tr style=\"text-align: right;\">\n",
       "      <th></th>\n",
       "      <th>id</th>\n",
       "      <th>f0</th>\n",
       "      <th>f1</th>\n",
       "      <th>f2</th>\n",
       "      <th>product</th>\n",
       "    </tr>\n",
       "  </thead>\n",
       "  <tbody>\n",
       "    <tr>\n",
       "      <td>0</td>\n",
       "      <td>fwXo0</td>\n",
       "      <td>-1.146987</td>\n",
       "      <td>0.963328</td>\n",
       "      <td>-0.828965</td>\n",
       "      <td>27.758673</td>\n",
       "    </tr>\n",
       "    <tr>\n",
       "      <td>1</td>\n",
       "      <td>WJtFt</td>\n",
       "      <td>0.262778</td>\n",
       "      <td>0.269839</td>\n",
       "      <td>-2.530187</td>\n",
       "      <td>56.069697</td>\n",
       "    </tr>\n",
       "    <tr>\n",
       "      <td>2</td>\n",
       "      <td>ovLUW</td>\n",
       "      <td>0.194587</td>\n",
       "      <td>0.289035</td>\n",
       "      <td>-5.586433</td>\n",
       "      <td>62.871910</td>\n",
       "    </tr>\n",
       "    <tr>\n",
       "      <td>3</td>\n",
       "      <td>q6cA6</td>\n",
       "      <td>2.236060</td>\n",
       "      <td>-0.553760</td>\n",
       "      <td>0.930038</td>\n",
       "      <td>114.572842</td>\n",
       "    </tr>\n",
       "    <tr>\n",
       "      <td>4</td>\n",
       "      <td>WPMUX</td>\n",
       "      <td>-0.515993</td>\n",
       "      <td>1.716266</td>\n",
       "      <td>5.899011</td>\n",
       "      <td>149.600746</td>\n",
       "    </tr>\n",
       "  </tbody>\n",
       "</table>\n",
       "</div>"
      ],
      "text/plain": [
       "      id        f0        f1        f2     product\n",
       "0  fwXo0 -1.146987  0.963328 -0.828965   27.758673\n",
       "1  WJtFt  0.262778  0.269839 -2.530187   56.069697\n",
       "2  ovLUW  0.194587  0.289035 -5.586433   62.871910\n",
       "3  q6cA6  2.236060 -0.553760  0.930038  114.572842\n",
       "4  WPMUX -0.515993  1.716266  5.899011  149.600746"
      ]
     },
     "execution_count": 7,
     "metadata": {},
     "output_type": "execute_result"
    }
   ],
   "source": [
    "geo_data_2.head()"
   ]
  },
  {
   "cell_type": "markdown",
   "metadata": {},
   "source": [
    "Общая информация о данных таблицы **geo_data_2**:"
   ]
  },
  {
   "cell_type": "code",
   "execution_count": 8,
   "metadata": {},
   "outputs": [
    {
     "name": "stdout",
     "output_type": "stream",
     "text": [
      "<class 'pandas.core.frame.DataFrame'>\n",
      "RangeIndex: 100000 entries, 0 to 99999\n",
      "Data columns (total 5 columns):\n",
      "id         100000 non-null object\n",
      "f0         100000 non-null float64\n",
      "f1         100000 non-null float64\n",
      "f2         100000 non-null float64\n",
      "product    100000 non-null float64\n",
      "dtypes: float64(4), object(1)\n",
      "memory usage: 3.8+ MB\n"
     ]
    }
   ],
   "source": [
    "geo_data_2.info()"
   ]
  },
  {
   "cell_type": "markdown",
   "metadata": {},
   "source": [
    "Датафрейм **geo_data_2** содержит данные о скважинах в третьем регионе и идентичен по набору столбцов, количеству строк и типу двум другим датафреймам.\n",
    "\n",
    "---"
   ]
  },
  {
   "cell_type": "markdown",
   "metadata": {},
   "source": [
    "### Удаление дубликатов <a name=\"del\"></a>"
   ]
  },
  {
   "cell_type": "markdown",
   "metadata": {},
   "source": [
    "Проверим таблицы на наличие полностью повторяющихся строк:"
   ]
  },
  {
   "cell_type": "code",
   "execution_count": 9,
   "metadata": {},
   "outputs": [
    {
     "name": "stdout",
     "output_type": "stream",
     "text": [
      "0\n",
      "0\n",
      "0\n"
     ]
    }
   ],
   "source": [
    "print(geo_data_0.duplicated().sum())\n",
    "print(geo_data_1.duplicated().sum())\n",
    "print(geo_data_2.duplicated().sum())"
   ]
  },
  {
   "cell_type": "markdown",
   "metadata": {},
   "source": [
    "Полных дубликатов в данных нет. "
   ]
  },
  {
   "cell_type": "markdown",
   "metadata": {},
   "source": [
    "### Анализ признаков <a name=\"an\"></a>"
   ]
  },
  {
   "cell_type": "markdown",
   "metadata": {},
   "source": [
    "Теперь рассмотрим отдельно каждый столбец на предмет наличия ошибок в данных, аномалий и пр. "
   ]
  },
  {
   "cell_type": "markdown",
   "metadata": {},
   "source": [
    "**id — уникальный идентификатор скважины**"
   ]
  },
  {
   "cell_type": "code",
   "execution_count": 10,
   "metadata": {},
   "outputs": [
    {
     "name": "stdout",
     "output_type": "stream",
     "text": [
      "10\n",
      "4\n",
      "4\n"
     ]
    }
   ],
   "source": [
    "print(geo_data_0['id'].duplicated().sum())\n",
    "print(geo_data_1['id'].duplicated().sum())\n",
    "print(geo_data_2['id'].duplicated().sum())"
   ]
  },
  {
   "cell_type": "markdown",
   "metadata": {},
   "source": [
    "В датасетах находятся повторяющиеся идентификаторы, причем какие-то из признаков для них различаются, так как проверка выше показала, что полностью идентичных строк нет. Посмотрим на дубликаты в первом датафрейме:"
   ]
  },
  {
   "cell_type": "code",
   "execution_count": 11,
   "metadata": {},
   "outputs": [
    {
     "data": {
      "text/html": [
       "<div>\n",
       "<style scoped>\n",
       "    .dataframe tbody tr th:only-of-type {\n",
       "        vertical-align: middle;\n",
       "    }\n",
       "\n",
       "    .dataframe tbody tr th {\n",
       "        vertical-align: top;\n",
       "    }\n",
       "\n",
       "    .dataframe thead th {\n",
       "        text-align: right;\n",
       "    }\n",
       "</style>\n",
       "<table border=\"1\" class=\"dataframe\">\n",
       "  <thead>\n",
       "    <tr style=\"text-align: right;\">\n",
       "      <th></th>\n",
       "      <th>id</th>\n",
       "      <th>f0</th>\n",
       "      <th>f1</th>\n",
       "      <th>f2</th>\n",
       "      <th>product</th>\n",
       "    </tr>\n",
       "  </thead>\n",
       "  <tbody>\n",
       "    <tr>\n",
       "      <td>66136</td>\n",
       "      <td>74z30</td>\n",
       "      <td>1.084962</td>\n",
       "      <td>-0.312358</td>\n",
       "      <td>6.990771</td>\n",
       "      <td>127.643327</td>\n",
       "    </tr>\n",
       "    <tr>\n",
       "      <td>64022</td>\n",
       "      <td>74z30</td>\n",
       "      <td>0.741456</td>\n",
       "      <td>0.459229</td>\n",
       "      <td>5.153109</td>\n",
       "      <td>140.771492</td>\n",
       "    </tr>\n",
       "    <tr>\n",
       "      <td>51970</td>\n",
       "      <td>A5aEY</td>\n",
       "      <td>-0.180335</td>\n",
       "      <td>0.935548</td>\n",
       "      <td>-2.094773</td>\n",
       "      <td>33.020205</td>\n",
       "    </tr>\n",
       "    <tr>\n",
       "      <td>3389</td>\n",
       "      <td>A5aEY</td>\n",
       "      <td>-0.039949</td>\n",
       "      <td>0.156872</td>\n",
       "      <td>0.209861</td>\n",
       "      <td>89.249364</td>\n",
       "    </tr>\n",
       "    <tr>\n",
       "      <td>69163</td>\n",
       "      <td>AGS9W</td>\n",
       "      <td>-0.933795</td>\n",
       "      <td>0.116194</td>\n",
       "      <td>-3.655896</td>\n",
       "      <td>19.230453</td>\n",
       "    </tr>\n",
       "    <tr>\n",
       "      <td>42529</td>\n",
       "      <td>AGS9W</td>\n",
       "      <td>1.454747</td>\n",
       "      <td>-0.479651</td>\n",
       "      <td>0.683380</td>\n",
       "      <td>126.370504</td>\n",
       "    </tr>\n",
       "    <tr>\n",
       "      <td>931</td>\n",
       "      <td>HZww2</td>\n",
       "      <td>0.755284</td>\n",
       "      <td>0.368511</td>\n",
       "      <td>1.863211</td>\n",
       "      <td>30.681774</td>\n",
       "    </tr>\n",
       "    <tr>\n",
       "      <td>7530</td>\n",
       "      <td>HZww2</td>\n",
       "      <td>1.061194</td>\n",
       "      <td>-0.373969</td>\n",
       "      <td>10.430210</td>\n",
       "      <td>158.828695</td>\n",
       "    </tr>\n",
       "    <tr>\n",
       "      <td>63593</td>\n",
       "      <td>QcMuo</td>\n",
       "      <td>0.635635</td>\n",
       "      <td>-0.473422</td>\n",
       "      <td>0.862670</td>\n",
       "      <td>64.578675</td>\n",
       "    </tr>\n",
       "    <tr>\n",
       "      <td>1949</td>\n",
       "      <td>QcMuo</td>\n",
       "      <td>0.506563</td>\n",
       "      <td>-0.323775</td>\n",
       "      <td>-2.215583</td>\n",
       "      <td>75.496502</td>\n",
       "    </tr>\n",
       "  </tbody>\n",
       "</table>\n",
       "</div>"
      ],
      "text/plain": [
       "          id        f0        f1         f2     product\n",
       "66136  74z30  1.084962 -0.312358   6.990771  127.643327\n",
       "64022  74z30  0.741456  0.459229   5.153109  140.771492\n",
       "51970  A5aEY -0.180335  0.935548  -2.094773   33.020205\n",
       "3389   A5aEY -0.039949  0.156872   0.209861   89.249364\n",
       "69163  AGS9W -0.933795  0.116194  -3.655896   19.230453\n",
       "42529  AGS9W  1.454747 -0.479651   0.683380  126.370504\n",
       "931    HZww2  0.755284  0.368511   1.863211   30.681774\n",
       "7530   HZww2  1.061194 -0.373969  10.430210  158.828695\n",
       "63593  QcMuo  0.635635 -0.473422   0.862670   64.578675\n",
       "1949   QcMuo  0.506563 -0.323775  -2.215583   75.496502"
      ]
     },
     "execution_count": 11,
     "metadata": {},
     "output_type": "execute_result"
    }
   ],
   "source": [
    "dub_0 = geo_data_0[geo_data_0['id'].isin(geo_data_0['id'][geo_data_0['id'].duplicated()])].sort_values('id')\n",
    "dub_0.head(10)"
   ]
  },
  {
   "cell_type": "markdown",
   "metadata": {},
   "source": [
    "Признаки для одинаковых идентификаторов существенно различаются. Ошибки могли возникнуть в ходе сбора данных, или это просто опечатки. В любом случае, у нас нет данных, чтобы определить, какие данные некорректны. Общее число дубликатов - 20, что составляет всего 0,02% от общего количества строк, поэтому их можно удалить без последствий:"
   ]
  },
  {
   "cell_type": "code",
   "execution_count": 12,
   "metadata": {},
   "outputs": [
    {
     "data": {
      "text/plain": [
       "99980"
      ]
     },
     "execution_count": 12,
     "metadata": {},
     "output_type": "execute_result"
    }
   ],
   "source": [
    "geo_data_0 = geo_data_0.query('id not in @dub_0.id')\n",
    "geo_data_0.shape[0]"
   ]
  },
  {
   "cell_type": "markdown",
   "metadata": {},
   "source": [
    "Сделаем эту же операцию для двух других регионов:"
   ]
  },
  {
   "cell_type": "code",
   "execution_count": 13,
   "metadata": {},
   "outputs": [],
   "source": [
    "dub_1 = geo_data_1[geo_data_1['id'].isin(geo_data_1['id'][geo_data_1['id'].duplicated()])].sort_values('id')\n",
    "dub_2 = geo_data_2[geo_data_2['id'].isin(geo_data_2['id'][geo_data_2['id'].duplicated()])].sort_values('id')\n",
    "geo_data_1 = geo_data_1.query('id not in @dub_1.id')\n",
    "geo_data_2 = geo_data_2.query('id not in @dub_2.id')"
   ]
  },
  {
   "cell_type": "markdown",
   "metadata": {},
   "source": [
    "**f0 - признак скважины**"
   ]
  },
  {
   "cell_type": "code",
   "execution_count": 14,
   "metadata": {},
   "outputs": [],
   "source": [
    "regions = [geo_data_0, geo_data_1, geo_data_2]\n",
    "ind = [1, 2, 3]"
   ]
  },
  {
   "cell_type": "markdown",
   "metadata": {},
   "source": [
    "Посмотрим на параметры распределений и отразим их на графике:"
   ]
  },
  {
   "cell_type": "code",
   "execution_count": 15,
   "metadata": {},
   "outputs": [
    {
     "name": "stdout",
     "output_type": "stream",
     "text": [
      "Регион 1\n"
     ]
    },
    {
     "data": {
      "text/plain": [
       "count    99980.000000\n",
       "mean         0.500447\n",
       "std          0.871879\n",
       "min         -1.408605\n",
       "25%         -0.072674\n",
       "50%          0.502374\n",
       "75%          1.073692\n",
       "max          2.362331\n",
       "Name: f0, dtype: float64"
      ]
     },
     "metadata": {},
     "output_type": "display_data"
    },
    {
     "name": "stdout",
     "output_type": "stream",
     "text": [
      "Регион 2\n"
     ]
    },
    {
     "data": {
      "text/plain": [
       "count    99992.000000\n",
       "mean         1.141363\n",
       "std          8.965805\n",
       "min        -31.609576\n",
       "25%         -6.298525\n",
       "50%          1.153190\n",
       "75%          8.620964\n",
       "max         29.421755\n",
       "Name: f0, dtype: float64"
      ]
     },
     "metadata": {},
     "output_type": "display_data"
    },
    {
     "name": "stdout",
     "output_type": "stream",
     "text": [
      "Регион 3\n"
     ]
    },
    {
     "data": {
      "text/plain": [
       "count    99992.000000\n",
       "mean         0.001975\n",
       "std          1.732061\n",
       "min         -8.760004\n",
       "25%         -1.162328\n",
       "50%          0.009411\n",
       "75%          1.158442\n",
       "max          7.238262\n",
       "Name: f0, dtype: float64"
      ]
     },
     "metadata": {},
     "output_type": "display_data"
    }
   ],
   "source": [
    "for df, i in zip(regions, ind):\n",
    "    print('Регион', i)\n",
    "    display(df['f0'].describe())"
   ]
  },
  {
   "cell_type": "code",
   "execution_count": 16,
   "metadata": {},
   "outputs": [
    {
     "data": {
      "image/png": "[encoded data removed]",
      "text/plain": [
       "<Figure size 864x432 with 1 Axes>"
      ]
     },
     "metadata": {
      "needs_background": "light"
     },
     "output_type": "display_data"
    }
   ],
   "source": [
    "plt.figure(figsize=(12, 6))\n",
    "sns.set_style(\"darkgrid\")\n",
    "fig1 = sns.distplot(geo_data_0['f0'], kde = False, \\\n",
    "                    bins = np.linspace(start = -32, stop = 30, num = 50), label = 'регион 1') \n",
    "fig2 = sns.distplot(geo_data_1['f0'], kde = False, \\\n",
    "                    bins = np.linspace(start = -32, stop = 30, num = 50), label = 'регион 2') \n",
    "fig3 = sns.distplot(geo_data_2['f0'], kde = False, \\\n",
    "                    bins = np.linspace(start = -32, stop = 30, num = 50), label = 'регион 3')  \n",
    "fig2.set_title(\"Распределение признака f0\", fontsize = 14)\n",
    "fig2.set_ylabel(\"Количество скважин\", fontsize = 10)\n",
    "fig2.set_xlabel(\"Значение признака\")\n",
    "plt.legend()\n",
    "plt.show()"
   ]
  },
  {
   "cell_type": "markdown",
   "metadata": {},
   "source": [
    "Для региона 1 значения признака **f0** наиболее скучены: распределены от -1,41 до 2,36; среднее 0,50 совпадает с медианой, стандартное отклонение 0,87. \n",
    "\n",
    "Для региона 2 характерен максимальный разброс: от -31,61 до 29,42. Среднее - 1,14, медиана - 1,15, стандартное отклонение - 8,96. На графике видим два \"колокола\" - один возле абсциссы -6, другой - около 9,5.\n",
    "\n",
    "Распределение для региона 3 выглядит как нормальное. Минимум составляет -8,76, максимум - 7,24. Среднее и медиана - 0. Стандартное отклонение - 1,73."
   ]
  },
  {
   "cell_type": "markdown",
   "metadata": {},
   "source": [
    "**f1 - признак скважины**"
   ]
  },
  {
   "cell_type": "markdown",
   "metadata": {},
   "source": [
    "Рассмотрим распределения:"
   ]
  },
  {
   "cell_type": "code",
   "execution_count": 17,
   "metadata": {},
   "outputs": [
    {
     "name": "stdout",
     "output_type": "stream",
     "text": [
      "Регион 1\n"
     ]
    },
    {
     "data": {
      "text/plain": [
       "count    99980.000000\n",
       "mean         0.250147\n",
       "std          0.504431\n",
       "min         -0.848218\n",
       "25%         -0.200869\n",
       "50%          0.250252\n",
       "75%          0.700646\n",
       "max          1.343769\n",
       "Name: f1, dtype: float64"
      ]
     },
     "metadata": {},
     "output_type": "display_data"
    },
    {
     "name": "stdout",
     "output_type": "stream",
     "text": [
      "Регион 2\n"
     ]
    },
    {
     "data": {
      "text/plain": [
       "count    99992.000000\n",
       "mean        -4.796522\n",
       "std          5.119934\n",
       "min        -26.358598\n",
       "25%         -8.267985\n",
       "50%         -4.813005\n",
       "75%         -1.332704\n",
       "max         18.734063\n",
       "Name: f1, dtype: float64"
      ]
     },
     "metadata": {},
     "output_type": "display_data"
    },
    {
     "name": "stdout",
     "output_type": "stream",
     "text": [
      "Регион 3\n"
     ]
    },
    {
     "data": {
      "text/plain": [
       "count    99992.000000\n",
       "mean        -0.002113\n",
       "std          1.730404\n",
       "min         -7.084020\n",
       "25%         -1.174820\n",
       "50%         -0.009580\n",
       "75%          1.163592\n",
       "max          7.844801\n",
       "Name: f1, dtype: float64"
      ]
     },
     "metadata": {},
     "output_type": "display_data"
    }
   ],
   "source": [
    "for df, i in zip(regions, ind):\n",
    "    print('Регион', i)\n",
    "    display(df['f1'].describe())"
   ]
  },
  {
   "cell_type": "code",
   "execution_count": 18,
   "metadata": {},
   "outputs": [
    {
     "data": {
      "image/png": "[encoded data removed]",
      "text/plain": [
       "<Figure size 864x432 with 1 Axes>"
      ]
     },
     "metadata": {},
     "output_type": "display_data"
    }
   ],
   "source": [
    "plt.figure(figsize=(12, 6))\n",
    "sns.set_style(\"darkgrid\")\n",
    "fig1 = sns.distplot(geo_data_0['f1'], kde = False, \\\n",
    "                    bins = np.linspace(start = -27, stop = 19, num = 50), label = 'регион 1') \n",
    "fig2 = sns.distplot(geo_data_1['f1'], kde = False, \\\n",
    "                    bins = np.linspace(start = -27, stop = 19, num = 50), label = 'регион 2') \n",
    "fig3 = sns.distplot(geo_data_2['f1'], kde = False, \\\n",
    "                    bins = np.linspace(start = -27, stop = 19, num = 50), label = 'регион 3')  \n",
    "fig2.set_title(\"Распределение признака f1\", fontsize = 14)\n",
    "fig2.set_ylabel(\"Количество скважин\", fontsize = 10)\n",
    "fig2.set_xlabel(\"Значение признака\")\n",
    "plt.legend()\n",
    "plt.show()"
   ]
  },
  {
   "cell_type": "markdown",
   "metadata": {},
   "source": [
    "Для признака **f1** прослеживаются похожие закономерности:\n",
    "\n",
    "Наименьший диапазон значений характерен для региона 1: от -0,85 до 1,34; среднее 0,25 совпадает с медианой, стандартное отклонение 0,50.\n",
    "\n",
    "Напротив, для региона 2 разброс максимален: от -26,35 до 18,73. Среднее составляет -4,79, медиана равна -4,81, стандартное отклонение - 5,11. На этот раз на графике только один \"колокол\". Распределение выглядит похожим на нормальное.\n",
    "\n",
    "Распределение для региона 3 также выглядит как нормальное. Минимум составляет -7,08, максимум - 7,84. Среднее и медиана - 0. Стандартное отклонение - 1,73. Распределение выглядит как нормальное."
   ]
  },
  {
   "cell_type": "markdown",
   "metadata": {},
   "source": [
    "**f2 - признак скважины**"
   ]
  },
  {
   "cell_type": "markdown",
   "metadata": {},
   "source": [
    "Рассмотрим распределения:"
   ]
  },
  {
   "cell_type": "code",
   "execution_count": 19,
   "metadata": {},
   "outputs": [
    {
     "name": "stdout",
     "output_type": "stream",
     "text": [
      "Регион 1\n"
     ]
    },
    {
     "data": {
      "text/plain": [
       "count    99980.000000\n",
       "mean         2.502638\n",
       "std          3.248056\n",
       "min        -12.088328\n",
       "25%          0.288010\n",
       "50%          2.516005\n",
       "75%          4.714884\n",
       "max         16.003790\n",
       "Name: f2, dtype: float64"
      ]
     },
     "metadata": {},
     "output_type": "display_data"
    },
    {
     "name": "stdout",
     "output_type": "stream",
     "text": [
      "Регион 2\n"
     ]
    },
    {
     "data": {
      "text/plain": [
       "count    99992.000000\n",
       "mean         2.494511\n",
       "std          1.703587\n",
       "min         -0.018144\n",
       "25%          1.000021\n",
       "50%          2.011475\n",
       "75%          3.999904\n",
       "max          5.019721\n",
       "Name: f2, dtype: float64"
      ]
     },
     "metadata": {},
     "output_type": "display_data"
    },
    {
     "name": "stdout",
     "output_type": "stream",
     "text": [
      "Регион 3\n"
     ]
    },
    {
     "data": {
      "text/plain": [
       "count    99992.000000\n",
       "mean         2.495088\n",
       "std          3.473491\n",
       "min        -11.970335\n",
       "25%          0.130269\n",
       "50%          2.484236\n",
       "75%          4.858662\n",
       "max         16.739402\n",
       "Name: f2, dtype: float64"
      ]
     },
     "metadata": {},
     "output_type": "display_data"
    }
   ],
   "source": [
    "for df, i in zip(regions, ind):\n",
    "    print('Регион', i)\n",
    "    display(df['f2'].describe())"
   ]
  },
  {
   "cell_type": "code",
   "execution_count": 20,
   "metadata": {},
   "outputs": [
    {
     "data": {
      "image/png": "[encoded data removed]",
      "text/plain": [
       "<Figure size 864x432 with 1 Axes>"
      ]
     },
     "metadata": {},
     "output_type": "display_data"
    }
   ],
   "source": [
    "plt.figure(figsize=(12, 6))\n",
    "sns.set_style(\"darkgrid\")\n",
    "fig1 = sns.distplot(geo_data_0['f2'], kde = False, \\\n",
    "                    bins = np.linspace(start = -13, stop = 17, num = 50), label = 'регион 1') \n",
    "fig2 = sns.distplot(geo_data_1['f2'], kde = False, \\\n",
    "                    bins = np.linspace(start = -13, stop = 17, num = 50), label = 'регион 2') \n",
    "fig3 = sns.distplot(geo_data_2['f2'], kde = False, \\\n",
    "                    bins = np.linspace(start = -13, stop = 17, num = 50), label = 'регион 3')  \n",
    "fig2.set_title(\"Распределение признака f2\", fontsize = 14)\n",
    "fig2.set_ylabel(\"Количество скважин\", fontsize = 10)\n",
    "fig2.set_xlabel(\"Значение признака\")\n",
    "plt.legend()\n",
    "plt.show()"
   ]
  },
  {
   "cell_type": "markdown",
   "metadata": {},
   "source": [
    "Распределения признака **f2** для регионов 1 и 3 выглядят практически идентично: разброс значений примерно от -12 до 17, среднее и медиана - 2,5, стандартное отклонение около 3,3.\n",
    "\n",
    "Значения для региона 2 распределены вокруг шести точек: "
   ]
  },
  {
   "cell_type": "code",
   "execution_count": 21,
   "metadata": {},
   "outputs": [
    {
     "data": {
      "text/plain": [
       " 2.0    16860\n",
       " 1.0    16774\n",
       " 3.0    16749\n",
       "-0.0    16571\n",
       " 5.0    16536\n",
       " 4.0    16502\n",
       "Name: f2, dtype: int64"
      ]
     },
     "execution_count": 21,
     "metadata": {},
     "output_type": "execute_result"
    }
   ],
   "source": [
    "geo_data_1['f2'].round(1).value_counts()"
   ]
  },
  {
   "cell_type": "markdown",
   "metadata": {},
   "source": [
    "**product — объём запасов в месторождении (тыс. баррелей)**"
   ]
  },
  {
   "cell_type": "markdown",
   "metadata": {},
   "source": [
    "Рассмотрим распределения:"
   ]
  },
  {
   "cell_type": "code",
   "execution_count": 22,
   "metadata": {},
   "outputs": [
    {
     "name": "stdout",
     "output_type": "stream",
     "text": [
      "Регион 1\n"
     ]
    },
    {
     "data": {
      "text/plain": [
       "count    99980.000000\n",
       "mean        92.499166\n",
       "std         44.289044\n",
       "min          0.000000\n",
       "25%         56.496513\n",
       "50%         91.847928\n",
       "75%        128.564089\n",
       "max        185.364347\n",
       "Name: product, dtype: float64"
      ]
     },
     "metadata": {},
     "output_type": "display_data"
    },
    {
     "name": "stdout",
     "output_type": "stream",
     "text": [
      "Регион 2\n"
     ]
    },
    {
     "data": {
      "text/plain": [
       "count    99992.000000\n",
       "mean        68.824148\n",
       "std         45.944889\n",
       "min          0.000000\n",
       "25%         26.953261\n",
       "50%         57.085625\n",
       "75%        107.813044\n",
       "max        137.945408\n",
       "Name: product, dtype: float64"
      ]
     },
     "metadata": {},
     "output_type": "display_data"
    },
    {
     "name": "stdout",
     "output_type": "stream",
     "text": [
      "Регион 3\n"
     ]
    },
    {
     "data": {
      "text/plain": [
       "count    99992.000000\n",
       "mean        94.998767\n",
       "std         44.747763\n",
       "min          0.000000\n",
       "25%         59.450441\n",
       "50%         94.925026\n",
       "75%        130.585544\n",
       "max        190.029838\n",
       "Name: product, dtype: float64"
      ]
     },
     "metadata": {},
     "output_type": "display_data"
    }
   ],
   "source": [
    "for df, i in zip(regions, ind):\n",
    "    print('Регион', i)\n",
    "    display(df['product'].describe())"
   ]
  },
  {
   "cell_type": "code",
   "execution_count": 23,
   "metadata": {},
   "outputs": [
    {
     "data": {
      "image/png": "[encoded data removed]",
      "text/plain": [
       "<Figure size 864x432 with 1 Axes>"
      ]
     },
     "metadata": {},
     "output_type": "display_data"
    }
   ],
   "source": [
    "plt.figure(figsize=(12, 6))\n",
    "sns.set_style(\"darkgrid\")\n",
    "fig1 = sns.distplot(geo_data_0['product'], kde = False, \\\n",
    "                    bins = np.linspace(start = 0, stop = 191, num = 70), label = 'регион 1') \n",
    "fig2 = sns.distplot(geo_data_1['product'], kde = False, \\\n",
    "                    bins = np.linspace(start = 0, stop = 191, num = 70), label = 'регион 2') \n",
    "fig3 = sns.distplot(geo_data_2['product'], kde = False, \\\n",
    "                    bins = np.linspace(start = 0, stop = 191, num = 70), label = 'регион 3')  \n",
    "fig2.set_title(\"Распределение объемов запасов в месторождениях\", fontsize = 14)\n",
    "fig2.set_ylabel(\"Количество скважин\", fontsize = 10)\n",
    "fig2.set_xlabel(\"Значение признака\")\n",
    "plt.legend()\n",
    "plt.show()"
   ]
  },
  {
   "cell_type": "markdown",
   "metadata": {},
   "source": [
    "Вновь распределения выглядят похоже для регионов 1 и 3: разброс значений от 0 до 190, среднее и медиана около в диапазоне 92-94, стандартное отклонение - 44.\n",
    "\n",
    "Значения для региона 2 распределены вокруг двенадцати точек: "
   ]
  },
  {
   "cell_type": "code",
   "execution_count": 24,
   "metadata": {},
   "outputs": [
    {
     "data": {
      "text/plain": [
       "53.9     8472\n",
       "27.0     8468\n",
       "84.0     8430\n",
       "57.1     8388\n",
       "3.2      8336\n",
       "80.9     8319\n",
       "30.1     8306\n",
       "134.8    8303\n",
       "111.0    8302\n",
       "0.0      8235\n",
       "137.9    8233\n",
       "107.8    8200\n",
       "Name: product, dtype: int64"
      ]
     },
     "execution_count": 24,
     "metadata": {},
     "output_type": "execute_result"
    }
   ],
   "source": [
    "geo_data_1['product'].round(1).value_counts()"
   ]
  },
  {
   "cell_type": "markdown",
   "metadata": {},
   "source": [
    "### Корреляция признаков <a name=\"corr\"></a>"
   ]
  },
  {
   "cell_type": "markdown",
   "metadata": {},
   "source": [
    "Проверим, есть ли среди признаков коллинеарные. Построим для каждого региона парные графики и матрицу корреляции:"
   ]
  },
  {
   "cell_type": "code",
   "execution_count": 25,
   "metadata": {
    "scrolled": false
   },
   "outputs": [
    {
     "name": "stdout",
     "output_type": "stream",
     "text": [
      "Регион 1\n"
     ]
    },
    {
     "data": {
      "image/png": "[encoded data removed]",
      "text/plain": [
       "<Figure size 576x576 with 20 Axes>"
      ]
     },
     "metadata": {},
     "output_type": "display_data"
    },
    {
     "name": "stdout",
     "output_type": "stream",
     "text": [
      "Регион 2\n"
     ]
    },
    {
     "data": {
      "image/png": "[encoded data removed]",
      "text/plain": [
       "<Figure size 576x576 with 20 Axes>"
      ]
     },
     "metadata": {},
     "output_type": "display_data"
    },
    {
     "name": "stdout",
     "output_type": "stream",
     "text": [
      "Регион 3\n"
     ]
    },
    {
     "data": {
      "image/png": "[encoded data removed]",
      "text/plain": [
       "<Figure size 576x576 with 20 Axes>"
      ]
     },
     "metadata": {},
     "output_type": "display_data"
    }
   ],
   "source": [
    "for df, i in zip(regions, ind):\n",
    "    print('Регион', i)\n",
    "    sns.pairplot(df, height = 2)\n",
    "    plt.show()"
   ]
  },
  {
   "cell_type": "markdown",
   "metadata": {},
   "source": [
    "Для региона 1 мы видим нелинейную зависимость признаков **f0** и **f1**, а также линейную между признаками **f2** и **product**.\n",
    "\n",
    "Для региона 2 очевидна линейная зависимость признаков **f2** и **product**. Возможно, имеется нелинейная зависимость признаков **f0** и **f1**\n",
    "\n",
    "Для региона 3 также прослеживается линейная взаимосвязь признаков **f2** и **product**. \n",
    "\n",
    "Матрицы корреляции подтверждают сделанные выводы:"
   ]
  },
  {
   "cell_type": "code",
   "execution_count": 26,
   "metadata": {},
   "outputs": [
    {
     "name": "stdout",
     "output_type": "stream",
     "text": [
      "Регион 1\n"
     ]
    },
    {
     "data": {
      "image/png": "[encoded data removed]",
      "text/plain": [
       "<Figure size 432x288 with 2 Axes>"
      ]
     },
     "metadata": {},
     "output_type": "display_data"
    },
    {
     "name": "stdout",
     "output_type": "stream",
     "text": [
      "Регион 2\n"
     ]
    },
    {
     "data": {
      "image/png": "[encoded data removed]",
      "text/plain": [
       "<Figure size 432x288 with 2 Axes>"
      ]
     },
     "metadata": {},
     "output_type": "display_data"
    },
    {
     "name": "stdout",
     "output_type": "stream",
     "text": [
      "Регион 3\n"
     ]
    },
    {
     "data": {
      "image/png": "[encoded data removed]",
      "text/plain": [
       "<Figure size 432x288 with 2 Axes>"
      ]
     },
     "metadata": {},
     "output_type": "display_data"
    }
   ],
   "source": [
    "for df, i in zip(regions, ind):\n",
    "    print('Регион', i)\n",
    "    sns.set(style = 'white')\n",
    "    plt.figure(figsize = (6, 4))\n",
    "    plt.title('Матрица корреляции', fontsize = 14)\n",
    "    ax = sns.heatmap(df.corr(), annot = True, linewidths = 1, linecolor = 'white', fmt = '.2f')\n",
    "    plt.show()"
   ]
  },
  {
   "cell_type": "markdown",
   "metadata": {},
   "source": [
    "### Вывод <a name=\"conc_eda\"></a>"
   ]
  },
  {
   "cell_type": "markdown",
   "metadata": {},
   "source": [
    "Данные подготовлены к анализу:\n",
    "\n",
    "- удалено 36 дубликатов (0,012% от общего числа строк);\n",
    "- пропущенных значений и аномалий не обнаружено;\n",
    "- проведен исследовательский анализ каждого признака в разрезе регионов:\n",
    "    - средние значения признака **f0** для всех регионов близки (от 0 до 1). Однако в регионе 1 практически нет разброса значений (стандартное отклонение 0,87), в регионе 3 он выше (стандартное отклонение 1,73), и максимален в регионе 2 (стандартное отклонение 8,96);\n",
    "    - средние значения признака **f1** почти одинаковы для регионов 1 и 3 (около 0). Стандартное отклонение минимально в регионе 1 (0,5) и максимально для региона 2 (5,11).\n",
    "    - распределения признака **f2** для регионов 1 и 3 выглядят практически идентично: разброс значений примерно от -12 до 17, среднее - 2,5. Значения для региона 2 распределены вокруг шести точек (0, 1, 2, 3, 4, 5).\n",
    "    - распределения признака **product** выглядят похоже для регионов 1 и 3: разброс значений от 0 до 190, среднее в диапазоне 92-94. Значения для региона 2 распределены вокруг двенадцати точек: (0, 3, 27, 30, 54, 57, 81, 84, 108, 111, 135, 138).\n",
    "- рассчитаны коэффициенты корреляции между переменными в разрезе регионов:\n",
    "    - во всех регионах существует линейная зависимость признаков **f2** и **product**. Для регионов 1 и 2 также характерна нелинейная зависимость признаков **f0** и **f1** (для региона 1 в большей степени)."
   ]
  },
  {
   "cell_type": "markdown",
   "metadata": {},
   "source": [
    "## Обучение и проверка модели <a name=\"model\"></a>"
   ]
  },
  {
   "cell_type": "markdown",
   "metadata": {},
   "source": [
    "Напишем функцию, которая обучает модель и проверяет ее работу. По условию требуется модель линейной регрессии."
   ]
  },
  {
   "cell_type": "code",
   "execution_count": 27,
   "metadata": {},
   "outputs": [],
   "source": [
    "'''\n",
    "Функция получает на вход набор признаков (целевой отдельно), делит выборку на обучающую и валидационную в отношении 75:25, \n",
    "обучает модель линейной регрессии, выводит среднее значение предсказаний на валидационной выборке и RMSE,\n",
    "а также записывает в результат правильные ответы и предсказания на валидационной выборке.\n",
    "\n",
    "'''\n",
    "\n",
    "def lin_reg(features, target):\n",
    "\n",
    "    features_train, features_valid, target_train, target_valid = \\\n",
    "                                    train_test_split(features, target, test_size = 0.25, random_state = 12345) \n",
    "\n",
    "    model = LinearRegression() \n",
    "    model.fit(features_train, target_train) \n",
    "    predictions_valid = model.predict(features_valid) \n",
    "\n",
    "    result_mean = round(predictions_valid.mean(), 5)\n",
    "    result_mse = round((mean_squared_error(target_valid, predictions_valid))**0.5, 5)\n",
    "    print(\"Средний запас сырья на валидационной выборке:\", result_mean)\n",
    "    print(\"RMSE модели линейной регрессии на валидационной выборке:\", result_mse)\n",
    "    return target_valid.reset_index(drop = True), pd.Series(predictions_valid)"
   ]
  },
  {
   "cell_type": "markdown",
   "metadata": {},
   "source": [
    "Прежде чем применять функцию к имеющимся датафреймам, удалим не нужную для прогнозирования переменную **id**:"
   ]
  },
  {
   "cell_type": "code",
   "execution_count": 28,
   "metadata": {},
   "outputs": [],
   "source": [
    "for df in regions:\n",
    "    df = df.drop('id', axis = 1, inplace = True)  "
   ]
  },
  {
   "cell_type": "markdown",
   "metadata": {},
   "source": [
    "Теперь отделим целевой признак:"
   ]
  },
  {
   "cell_type": "code",
   "execution_count": 29,
   "metadata": {},
   "outputs": [],
   "source": [
    "features = []\n",
    "target = []\n",
    "\n",
    "for df, i in zip(regions, ind):\n",
    "    features.append(df.drop('product', axis = 1))\n",
    "    target.append(df['product'])"
   ]
  },
  {
   "cell_type": "markdown",
   "metadata": {},
   "source": [
    "Применим функцию к данным по каждому региону:"
   ]
  },
  {
   "cell_type": "code",
   "execution_count": 30,
   "metadata": {},
   "outputs": [
    {
     "name": "stdout",
     "output_type": "stream",
     "text": [
      "Регион 0\n",
      "Средний запас сырья на валидационной выборке: 92.42384\n",
      "RMSE модели линейной регрессии на валидационной выборке: 37.7169\n",
      "\n",
      "Регион 1\n",
      "Средний запас сырья на валидационной выборке: 68.98312\n",
      "RMSE модели линейной регрессии на валидационной выборке: 0.89149\n",
      "\n",
      "Регион 2\n",
      "Средний запас сырья на валидационной выборке: 95.11622\n",
      "RMSE модели линейной регрессии на валидационной выборке: 39.97554\n",
      "\n"
     ]
    }
   ],
   "source": [
    "targ_valid = []\n",
    "pred_valid = []\n",
    "res = []\n",
    "\n",
    "for i in range(3):\n",
    "    print('Регион', i)\n",
    "    res.append(lin_reg(features[i], target[i]))\n",
    "    targ_valid.append(res[i][0])\n",
    "    pred_valid.append(res[i][1])\n",
    "    print('')"
   ]
  },
  {
   "cell_type": "markdown",
   "metadata": {},
   "source": [
    "### Вывод <a name=\"conc_model\"></a>"
   ]
  },
  {
   "cell_type": "markdown",
   "metadata": {},
   "source": [
    "Максимальный средний запас сырья модель линейной регрессии предсказала для региона 3: 95,11 тыс. баррелей. Чуть ниже результат для региона 1 - 92,42 тыс. баррелей. Заметно хуже регион 2 - всего 68,98 тыс. баррелей.\n",
    "\n",
    "При этом метрика RMSE (корень из среднеквадратичной ошибки) для региона 2 минимальна - всего 0,89. Для первого и третьего региона она в десятки раз выше - 37,7 и 40 соответственно. Таким образом, для региона 2 предсказания модели будут значительно точнее."
   ]
  },
  {
   "cell_type": "markdown",
   "metadata": {},
   "source": [
    "## Подготовка к расчёту прибыли <a name=\"profit\"></a>"
   ]
  },
  {
   "cell_type": "markdown",
   "metadata": {},
   "source": [
    "Сохраним константы, заданные по условию, в отдельных переменных:"
   ]
  },
  {
   "cell_type": "code",
   "execution_count": 31,
   "metadata": {},
   "outputs": [],
   "source": [
    "budget = 10**10 # общий бюджет на разработку\n",
    "profit_per_unit = 450000 # доход с каждой тысячи баррелей \n",
    "num_of_wells = 500 # количество скважин для исследования \n",
    "num_of_best_wells = 200 # количество выбираемых скважин для разработки\n",
    "probability_loss = 0.025 # максимально допустимая вероятность убытков\n",
    "num_bootstrap_samples = 1000 # количество выборок, используемых в bootstrap для нахождения распределения прибыли\n",
    "conf_interval = 0.95 # доверительный интервал для средней прибыли"
   ]
  },
  {
   "cell_type": "markdown",
   "metadata": {},
   "source": [
    "Рассчитаем объём сырья для безубыточной разработки новой скважины. В точке безубыточности общий бюджет на разработку равен доходу с единицы продукта, умноженному на сумму запасов в каждой из разрабатываемых скважин. Таких скважин по условию 200 штук. Если предположить, что в каждой скважине одинаковый объем нефти, то минимальный средний объем сырья в одной скважине составит 111,11 тыс. баррелей:"
   ]
  },
  {
   "cell_type": "code",
   "execution_count": 32,
   "metadata": {},
   "outputs": [
    {
     "name": "stdout",
     "output_type": "stream",
     "text": [
      "Минимальный средний объем сырья в новой скважине, тыс. баррелей 111.11\n"
     ]
    }
   ],
   "source": [
    "min_product = round(budget / (profit_per_unit * 200), 2)\n",
    "print('Минимальный средний объем сырья в новой скважине, тыс. баррелей', min_product)"
   ]
  },
  {
   "cell_type": "markdown",
   "metadata": {},
   "source": [
    "### Вывод <a name=\"conc_profit\"></a>"
   ]
  },
  {
   "cell_type": "markdown",
   "metadata": {},
   "source": [
    "В предыдущем пункте спрогнозированный лучший средний запас сырья составил 95,11 тыс. баррелей (для региона 3), что на 16 тыс. баррелей меньше требуемого для выхода на безубыточность. Однако разброс значений признака **product** достаточно большой: максимальные объемы - 185, 137, 190 тыс. баррелей соответственно для регионов 1, 2 и 3. Возможно, компании удастся выйти на прибыль, выбрав скважины с максимальными запасами."
   ]
  },
  {
   "cell_type": "markdown",
   "metadata": {},
   "source": [
    "## Расчёт прибыли и рисков <a name=\"risk\"></a>"
   ]
  },
  {
   "cell_type": "markdown",
   "metadata": {},
   "source": [
    "Напишем функцию для расчёта прибыли по выбранным скважинам и предсказаниям модели:"
   ]
  },
  {
   "cell_type": "code",
   "execution_count": 33,
   "metadata": {},
   "outputs": [],
   "source": [
    "'''\n",
    "На входе:\n",
    "    target - истинные значения объемов скважин\n",
    "    predictions - список предсказаний\n",
    "    wells_total - количество скважин для исследования\n",
    "    wells_num_best - число отбираемых скважин\n",
    "    prof_per_unit - доход с единицы продукта\n",
    "    budg - бюждет на разработку\n",
    "    state - параметр для генерации псевдослучайных чисел\n",
    "    replace - выбираются ли элементы с возвращением\n",
    "    \n",
    "Функция выбирает из выборки с предсказаниями случайным образом число скважин = wells_total, \n",
    "отбирает среди них число wells_num_best лучших и считает прибыль в млрд р. по истинным значениям объемов.\n",
    "\n",
    "'''\n",
    "\n",
    "state = 12345\n",
    "def profit(target, predictions, wells_total, wells_num_best, prof_per_unit, budg, state, replace = False):\n",
    "    \n",
    "    sample_pred = predictions.sample(n = wells_total, replace = replace, random_state = state)\n",
    "    best_pred = sample_pred.sort_values(ascending = False).head(wells_num_best)\n",
    "    target_sorted = target[best_pred.index]\n",
    "    result = round((target_sorted.sum() * prof_per_unit - budg) / 10**9, 5)\n",
    "    \n",
    "    return result "
   ]
  },
  {
   "cell_type": "markdown",
   "metadata": {},
   "source": [
    "Проверка работы функции:"
   ]
  },
  {
   "cell_type": "code",
   "execution_count": 34,
   "metadata": {},
   "outputs": [
    {
     "name": "stdout",
     "output_type": "stream",
     "text": [
      "Регион 1\n",
      "Ожидаемая прибыль: 0.72705 млрд р.\n",
      "\n",
      "Регион 2\n",
      "Ожидаемая прибыль: 0.13385 млрд р.\n",
      "\n",
      "Регион 3\n",
      "Ожидаемая прибыль: 0.22971 млрд р.\n",
      "\n"
     ]
    }
   ],
   "source": [
    "for i in ind:\n",
    "    print('Регион', i)\n",
    "    print('Ожидаемая прибыль:', \n",
    "          profit(targ_valid[i - 1], pred_valid[i - 1], num_of_wells, num_of_best_wells, \n",
    "                 profit_per_unit, budget, state), 'млрд р.')\n",
    "    print('')"
   ]
  },
  {
   "cell_type": "markdown",
   "metadata": {},
   "source": [
    "Поскольку 500 точек для исследования выбираются случайно, получившийся результат может существенно меняться при другом наборе скважин. Применим технику *Bootstrap* на большом количестве выборок, чтобы найти распределение прибыли, и построим доверительный интервал."
   ]
  },
  {
   "cell_type": "code",
   "execution_count": 35,
   "metadata": {},
   "outputs": [],
   "source": [
    "'''\n",
    "На входе:\n",
    "    target - истинные значения объемов скважин\n",
    "    predictions - список предсказаний\n",
    "    wells_total - количество скважин для исследования\n",
    "    wells_num_best - число отбираемых скважин\n",
    "    prof_per_unit - доход с единицы продукта\n",
    "    budg - бюждет на разработку\n",
    "    state - параметр для генерации псевдослучайных чисел\n",
    "    prob_loss - максимально допустимая вероятность убытков\n",
    "    n_bootstrap_samp - количество выборок, используемых в bootstrap для нахождения распределения прибыли\n",
    "    conf_int - доверительный интервал для средней прибыли\n",
    "    \n",
    "Функция рассчитывает и выводит оценку средней прибыли, доверительный интервал для нее, а также риск убытков. \n",
    "Внутри используется написанная выше функция profit.\n",
    "\n",
    "'''\n",
    "\n",
    "def risk(target, predictions, wells_total, wells_num_best, prof_per_unit, budg, state, \n",
    "              prob_loss, n_bootstrap_samp, conf_int):\n",
    "\n",
    "    alpha = 1 - conf_int\n",
    "    bootstr_profit = []\n",
    "    state = np.random.RandomState(12345)\n",
    "    \n",
    "    for _ in range(n_bootstrap_samp):\n",
    "        profits = profit(target, predictions, num_of_wells, num_of_best_wells, \n",
    "                 profit_per_unit, budget, state, replace = True)\n",
    "        bootstr_profit.append(profits)\n",
    "\n",
    "    bootstr_profit = pd.Series(bootstr_profit)\n",
    "    bootstr_profit_mean = round(bootstr_profit.mean(), 5)\n",
    "    conf_int_left = round(bootstr_profit.quantile(alpha / 2), 5)\n",
    "    conf_int_right = round(bootstr_profit.quantile(1 - alpha / 2), 5)\n",
    "    \n",
    "    count = 0\n",
    "    for prof in bootstr_profit :\n",
    "        if prof < 0 :\n",
    "            count += 1\n",
    "    loss_prob = count / n_bootstrap_samp\n",
    "    \n",
    "    print('Средняя прибыль:', bootstr_profit_mean, 'млрд р.') \n",
    "    print('95%-й доверительный интервал: [', conf_int_left, ', ', conf_int_right, '] млрд р.', sep = '')\n",
    "    print('Вероятность убытков: ', loss_prob)\n"
   ]
  },
  {
   "cell_type": "code",
   "execution_count": 36,
   "metadata": {},
   "outputs": [
    {
     "name": "stdout",
     "output_type": "stream",
     "text": [
      "Регион 1\n",
      "Средняя прибыль: 0.43154 млрд р.\n",
      "95%-й доверительный интервал: [-0.08093, 0.94104] млрд р.\n",
      "Вероятность убытков:  0.055\n",
      "\n",
      "Регион 2\n",
      "Средняя прибыль: 0.47795 млрд р.\n",
      "95%-й доверительный интервал: [0.05174, 0.89795] млрд р.\n",
      "Вероятность убытков:  0.02\n",
      "\n",
      "Регион 3\n",
      "Средняя прибыль: 0.32215 млрд р.\n",
      "95%-й доверительный интервал: [-0.17347, 0.84353] млрд р.\n",
      "Вероятность убытков:  0.123\n",
      "\n"
     ]
    }
   ],
   "source": [
    "for i in ind:\n",
    "    print('Регион', i)\n",
    "    risk(targ_valid[i - 1], pred_valid[i - 1], num_of_wells, num_of_best_wells, profit_per_unit, \n",
    "                 budget, state, probability_loss, num_bootstrap_samples, conf_interval)\n",
    "    print('')"
   ]
  },
  {
   "cell_type": "markdown",
   "metadata": {},
   "source": [
    "### Вывод <a name=\"conc_risk\"></a>"
   ]
  },
  {
   "cell_type": "markdown",
   "metadata": {},
   "source": [
    "Нефтяной компании следует остановиться на разработке скважин в регионе 2:\n",
    "\n",
    "- во-первых, это единственный регион, удовлетворяющий условию получения вероятности убытков не более 2,5% (показатель составляет 2%); \n",
    "- во-вторых, только для региона 2 95%-й доверительный интервал целиком лежит в положительной части;\n",
    "- наконец, средняя прибыль в этом регионе максимальна (0,478 млрд рублей)."
   ]
  },
  {
   "cell_type": "markdown",
   "metadata": {},
   "source": [
    "## Основные результаты <a name=\"conclusion\"></a>"
   ]
  },
  {
   "cell_type": "markdown",
   "metadata": {},
   "source": [
    "В работе решалась задача выбора географического региона для бурения нефтяных скважин и прогнозирования средней прибыли добывающей компании.\n",
    "\n",
    "В ходе предварительного анализа признаков были получены следующие выводы:\n",
    "\n",
    "- для регионов 1 и 3 распределения признаков **f2** и **product** похожи (близки средние, стандартные отклонения, диапазон значений);\n",
    "- для регионов 1 и 3 практически совпадают средние значения признаков **f0** и **f1**, однако для региона 1 меньше дисперсия;\n",
    "- распределение всех четырех признаков существенно отличается для региона 2;\n",
    "- во всех регионах существует линейная зависимость признаков **f2** и **product**. Для регионов 1 и 2 также характерна нелинейная зависимость признаков **f0** и **f1** (для региона 1 в большей степени).\n",
    "\n",
    "Для решения задачи прогнозирования использовалась модель линейной регрессии как самая предсказуемая. Исходные данные были разбиты на обучающую и валидационную выборки в пропорции 75:25 соответственно. \n",
    "\n",
    "Максимальный средний запас сырья модель линейной регрессии предсказала для региона 3 - 95,11 тыс. баррелей. Близкий результат получился для региона 1 - 92,42 тыс. баррелей. Заметно ниже оказался средний запас в регионе 2 - всего 68,98 тыс. баррелей.\n",
    "\n",
    "При этом метрика RMSE (корень из среднеквадратичной ошибки) для региона 2 оказалась минимальна - всего 0,89. Для первого и третьего региона она в десятки раз выше - 37,7 и 40 соответственно. Таким образом, для региона 2 предсказания модели значительно точнее.\n",
    "\n",
    "Согласно расчетам, для выхода на безубыточность компании при бюджете 10 млрд рублей и доходе 450 рублей за 1 баррель нефти требуется, чтобы минимальный средний объем сырья в новой скважине был не менее 111,11 тыс. баррелей. Однако разброс значений признака **product** достаточно большой: максимальные объемы составляют 185, 137, 190 тыс. баррелей соответственно для регионов 1, 2 и 3. Для оценки того, удастся ли компании выйти на прибыль, выбрав скважины с максимальными запасами, использовалась техника *Bootstrap*.\n",
    "\n",
    "При моделировании процесса разведки случайным образом выбиралось 500 точек, из которых для разработки оставлялось 200 с максимальными объемами нефти. Новые выборки формировались 1000 раз. По каждому региону было получено среднее значение прибыли, для него рассчитан 95%-й доверительный интервал, а также оценена вероятность убытков\n",
    "\n",
    "По итогам проведенного анализа предлагается выбрать для разработки регион 2 по следующим причинам:\n",
    "\n",
    "- это единственный регион, удовлетворяющий условию получения вероятности убытков не более 2,5% (показатель составляет 2%); \n",
    "- только для региона 2 95%-й доверительный интервал целиком лежит в положительной части;\n",
    "- средняя прибыль в этом регионе максимальна (0,478 млрд рублей)."
   ]
  }
 ],
 "metadata": {
  "ExecuteTimeLog": [
   {
    "duration": 1180,
    "start_time": "2021-11-24T19:09:09.690Z"
   },
   {
    "duration": 126,
    "start_time": "2021-11-24T19:09:46.676Z"
   },
   {
    "duration": 376,
    "start_time": "2021-11-24T19:10:02.123Z"
   },
   {
    "duration": 12,
    "start_time": "2021-11-24T19:17:12.692Z"
   },
   {
    "duration": 12,
    "start_time": "2021-11-24T19:17:29.808Z"
   },
   {
    "duration": 9,
    "start_time": "2021-11-24T19:26:17.530Z"
   },
   {
    "duration": 12,
    "start_time": "2021-11-24T19:26:28.680Z"
   },
   {
    "duration": 10,
    "start_time": "2021-11-24T19:28:55.871Z"
   },
   {
    "duration": 11,
    "start_time": "2021-11-24T19:29:02.244Z"
   },
   {
    "duration": 33,
    "start_time": "2021-11-24T19:47:13.806Z"
   },
   {
    "duration": 179,
    "start_time": "2021-11-24T19:53:41.151Z"
   },
   {
    "duration": 60,
    "start_time": "2021-11-24T20:20:03.221Z"
   },
   {
    "duration": 34620,
    "start_time": "2021-11-24T20:28:50.263Z"
   },
   {
    "duration": 1251,
    "start_time": "2021-11-25T07:21:51.338Z"
   },
   {
    "duration": 838,
    "start_time": "2021-11-25T07:21:52.591Z"
   },
   {
    "duration": 12,
    "start_time": "2021-11-25T07:21:53.431Z"
   },
   {
    "duration": 19,
    "start_time": "2021-11-25T07:21:53.445Z"
   },
   {
    "duration": 8,
    "start_time": "2021-11-25T07:21:53.466Z"
   },
   {
    "duration": 22,
    "start_time": "2021-11-25T07:21:53.475Z"
   },
   {
    "duration": 8,
    "start_time": "2021-11-25T07:21:53.499Z"
   },
   {
    "duration": 13,
    "start_time": "2021-11-25T07:21:53.509Z"
   },
   {
    "duration": 36,
    "start_time": "2021-11-25T07:21:53.523Z"
   },
   {
    "duration": 163,
    "start_time": "2021-11-25T07:21:53.561Z"
   },
   {
    "duration": 56,
    "start_time": "2021-11-25T07:21:53.726Z"
   },
   {
    "duration": 31810,
    "start_time": "2021-11-25T07:21:53.784Z"
   },
   {
    "duration": 96,
    "start_time": "2021-11-25T07:22:25.596Z"
   },
   {
    "duration": 1199,
    "start_time": "2021-11-25T15:35:54.962Z"
   },
   {
    "duration": 378,
    "start_time": "2021-11-25T15:35:56.167Z"
   },
   {
    "duration": 13,
    "start_time": "2021-11-25T15:35:56.547Z"
   },
   {
    "duration": 22,
    "start_time": "2021-11-25T15:35:56.562Z"
   },
   {
    "duration": 9,
    "start_time": "2021-11-25T15:35:56.585Z"
   },
   {
    "duration": 18,
    "start_time": "2021-11-25T15:35:56.596Z"
   },
   {
    "duration": 30,
    "start_time": "2021-11-25T15:35:56.617Z"
   },
   {
    "duration": 25,
    "start_time": "2021-11-25T15:35:56.649Z"
   },
   {
    "duration": 34,
    "start_time": "2021-11-25T15:35:56.676Z"
   },
   {
    "duration": 187,
    "start_time": "2021-11-25T15:35:56.712Z"
   },
   {
    "duration": 61,
    "start_time": "2021-11-25T15:35:56.901Z"
   },
   {
    "duration": 33206,
    "start_time": "2021-11-25T15:35:56.964Z"
   },
   {
    "duration": 127,
    "start_time": "2021-11-25T15:36:30.171Z"
   },
   {
    "duration": 450,
    "start_time": "2021-11-25T15:52:21.317Z"
   },
   {
    "duration": 48,
    "start_time": "2021-11-25T15:53:44.257Z"
   },
   {
    "duration": 40,
    "start_time": "2021-11-25T15:53:58.446Z"
   },
   {
    "duration": 54,
    "start_time": "2021-11-25T15:54:11.613Z"
   },
   {
    "duration": 46,
    "start_time": "2021-11-25T15:54:18.494Z"
   },
   {
    "duration": 47,
    "start_time": "2021-11-25T15:54:34.458Z"
   },
   {
    "duration": 71,
    "start_time": "2021-11-25T15:54:44.145Z"
   },
   {
    "duration": 62,
    "start_time": "2021-11-25T15:55:13.463Z"
   },
   {
    "duration": 67,
    "start_time": "2021-11-25T15:57:38.249Z"
   },
   {
    "duration": 39,
    "start_time": "2021-11-25T15:58:08.548Z"
   },
   {
    "duration": 46,
    "start_time": "2021-11-25T15:58:20.811Z"
   },
   {
    "duration": 63,
    "start_time": "2021-11-25T15:58:49.480Z"
   },
   {
    "duration": 93,
    "start_time": "2021-11-25T16:08:08.898Z"
   },
   {
    "duration": 102,
    "start_time": "2021-11-25T16:08:17.944Z"
   },
   {
    "duration": 90,
    "start_time": "2021-11-25T16:08:25.424Z"
   },
   {
    "duration": 344,
    "start_time": "2021-11-25T16:09:34.812Z"
   },
   {
    "duration": 31,
    "start_time": "2021-11-25T16:10:01.582Z"
   },
   {
    "duration": 42,
    "start_time": "2021-11-25T16:10:12.889Z"
   },
   {
    "duration": 19,
    "start_time": "2021-11-25T16:11:35.186Z"
   },
   {
    "duration": 319,
    "start_time": "2021-11-25T16:14:21.607Z"
   },
   {
    "duration": 367,
    "start_time": "2021-11-25T16:14:35.058Z"
   },
   {
    "duration": 419,
    "start_time": "2021-11-25T16:14:52.495Z"
   },
   {
    "duration": 377,
    "start_time": "2021-11-25T16:15:03.177Z"
   },
   {
    "duration": 335,
    "start_time": "2021-11-25T16:15:06.721Z"
   },
   {
    "duration": 341,
    "start_time": "2021-11-25T16:15:31.079Z"
   },
   {
    "duration": 354,
    "start_time": "2021-11-25T16:15:59.622Z"
   },
   {
    "duration": 4,
    "start_time": "2021-11-25T16:19:22.081Z"
   },
   {
    "duration": 32,
    "start_time": "2021-11-25T16:19:42.777Z"
   },
   {
    "duration": 19,
    "start_time": "2021-11-25T16:21:07.766Z"
   },
   {
    "duration": 373,
    "start_time": "2021-11-25T16:23:26.631Z"
   },
   {
    "duration": 23,
    "start_time": "2021-11-25T16:25:25.446Z"
   },
   {
    "duration": 359,
    "start_time": "2021-11-25T16:26:32.361Z"
   },
   {
    "duration": 415,
    "start_time": "2021-11-25T16:26:50.235Z"
   },
   {
    "duration": 341,
    "start_time": "2021-11-25T16:26:55.315Z"
   },
   {
    "duration": 342,
    "start_time": "2021-11-25T16:28:06.051Z"
   },
   {
    "duration": 437,
    "start_time": "2021-11-25T16:28:14.038Z"
   },
   {
    "duration": 376,
    "start_time": "2021-11-25T16:28:44.819Z"
   },
   {
    "duration": 344,
    "start_time": "2021-11-25T16:29:52.881Z"
   },
   {
    "duration": 418,
    "start_time": "2021-11-25T16:30:05.165Z"
   },
   {
    "duration": 314,
    "start_time": "2021-11-25T16:30:08.364Z"
   },
   {
    "duration": 384,
    "start_time": "2021-11-25T16:30:18.793Z"
   },
   {
    "duration": 327,
    "start_time": "2021-11-25T16:30:30.165Z"
   },
   {
    "duration": 19,
    "start_time": "2021-11-25T16:31:33.666Z"
   },
   {
    "duration": 361,
    "start_time": "2021-11-25T16:43:30.856Z"
   },
   {
    "duration": 356,
    "start_time": "2021-11-25T16:43:36.405Z"
   },
   {
    "duration": 419,
    "start_time": "2021-11-25T16:43:39.981Z"
   },
   {
    "duration": 383,
    "start_time": "2021-11-25T16:43:48.056Z"
   },
   {
    "duration": 387,
    "start_time": "2021-11-25T16:43:55.311Z"
   },
   {
    "duration": 355,
    "start_time": "2021-11-25T16:44:26.858Z"
   },
   {
    "duration": 355,
    "start_time": "2021-11-25T16:44:30.472Z"
   },
   {
    "duration": 390,
    "start_time": "2021-11-25T16:44:39.731Z"
   },
   {
    "duration": 381,
    "start_time": "2021-11-25T16:49:49.342Z"
   },
   {
    "duration": 467,
    "start_time": "2021-11-25T16:50:13.102Z"
   },
   {
    "duration": 507,
    "start_time": "2021-11-25T16:53:36.630Z"
   },
   {
    "duration": 1302,
    "start_time": "2021-11-25T16:53:49.028Z"
   },
   {
    "duration": 1067,
    "start_time": "2021-11-25T16:53:57.168Z"
   },
   {
    "duration": 523,
    "start_time": "2021-11-25T16:54:03.893Z"
   },
   {
    "duration": 675,
    "start_time": "2021-11-25T16:54:55.180Z"
   },
   {
    "duration": 497,
    "start_time": "2021-11-25T16:55:13.395Z"
   },
   {
    "duration": 106,
    "start_time": "2021-11-25T17:00:57.014Z"
   },
   {
    "duration": 298,
    "start_time": "2021-11-25T17:01:03.289Z"
   },
   {
    "duration": 40576,
    "start_time": "2021-11-25T17:01:12.214Z"
   },
   {
    "duration": 20,
    "start_time": "2021-11-25T17:03:38.648Z"
   },
   {
    "duration": 552,
    "start_time": "2021-11-25T17:03:40.454Z"
   },
   {
    "duration": 326,
    "start_time": "2021-11-25T17:03:53.056Z"
   },
   {
    "duration": 357,
    "start_time": "2021-11-25T17:04:02.908Z"
   },
   {
    "duration": 502,
    "start_time": "2021-11-25T17:04:10.059Z"
   },
   {
    "duration": 426,
    "start_time": "2021-11-25T17:04:16.104Z"
   },
   {
    "duration": 340,
    "start_time": "2021-11-25T17:04:18.393Z"
   },
   {
    "duration": 337,
    "start_time": "2021-11-25T17:04:24.081Z"
   },
   {
    "duration": 370,
    "start_time": "2021-11-25T17:04:27.793Z"
   },
   {
    "duration": 4,
    "start_time": "2021-11-25T17:47:07.597Z"
   },
   {
    "duration": 124,
    "start_time": "2021-11-25T17:49:06.550Z"
   },
   {
    "duration": 38,
    "start_time": "2021-11-25T17:49:14.677Z"
   },
   {
    "duration": 97,
    "start_time": "2021-11-25T17:49:24.126Z"
   },
   {
    "duration": 284,
    "start_time": "2021-11-25T17:50:13.726Z"
   },
   {
    "duration": 37,
    "start_time": "2021-11-25T17:50:25.602Z"
   },
   {
    "duration": 35,
    "start_time": "2021-11-25T17:50:41.563Z"
   },
   {
    "duration": 35,
    "start_time": "2021-11-25T17:51:44.393Z"
   },
   {
    "duration": 26,
    "start_time": "2021-11-25T17:51:50.802Z"
   },
   {
    "duration": 26,
    "start_time": "2021-11-25T17:51:55.403Z"
   },
   {
    "duration": 27,
    "start_time": "2021-11-25T17:52:10.305Z"
   },
   {
    "duration": 30,
    "start_time": "2021-11-25T17:52:30.466Z"
   },
   {
    "duration": 15,
    "start_time": "2021-11-25T17:54:15.655Z"
   },
   {
    "duration": 61,
    "start_time": "2021-11-25T17:56:19.914Z"
   },
   {
    "duration": 4,
    "start_time": "2021-11-25T17:56:25.773Z"
   },
   {
    "duration": 4,
    "start_time": "2021-11-25T17:56:28.213Z"
   },
   {
    "duration": 607,
    "start_time": "2021-11-25T18:00:44.728Z"
   },
   {
    "duration": 644,
    "start_time": "2021-11-25T18:01:01.952Z"
   },
   {
    "duration": 579,
    "start_time": "2021-11-25T18:01:15.103Z"
   },
   {
    "duration": 635,
    "start_time": "2021-11-25T18:01:27.040Z"
   },
   {
    "duration": 527,
    "start_time": "2021-11-25T18:04:59.583Z"
   },
   {
    "duration": 506,
    "start_time": "2021-11-25T18:05:27.196Z"
   },
   {
    "duration": 283,
    "start_time": "2021-11-25T18:07:24.234Z"
   },
   {
    "duration": 21,
    "start_time": "2021-11-25T18:22:54.232Z"
   },
   {
    "duration": 29,
    "start_time": "2021-11-25T18:23:08.329Z"
   },
   {
    "duration": 268,
    "start_time": "2021-11-25T18:23:54.866Z"
   },
   {
    "duration": 99,
    "start_time": "2021-11-25T18:25:55.582Z"
   },
   {
    "duration": 256,
    "start_time": "2021-11-25T18:27:29.572Z"
   },
   {
    "duration": 3,
    "start_time": "2021-11-25T18:27:32.497Z"
   },
   {
    "duration": 30,
    "start_time": "2021-11-25T18:27:33.183Z"
   },
   {
    "duration": 36,
    "start_time": "2021-11-25T18:27:46.711Z"
   },
   {
    "duration": 28,
    "start_time": "2021-11-25T18:27:52.847Z"
   },
   {
    "duration": 605,
    "start_time": "2021-11-25T18:30:59.490Z"
   },
   {
    "duration": 4,
    "start_time": "2021-11-25T18:35:39.056Z"
   },
   {
    "duration": 33,
    "start_time": "2021-11-25T18:35:40.707Z"
   },
   {
    "duration": 32,
    "start_time": "2021-11-25T18:41:59.154Z"
   },
   {
    "duration": 764,
    "start_time": "2021-11-25T18:42:52.018Z"
   },
   {
    "duration": 33,
    "start_time": "2021-11-25T18:50:02.689Z"
   },
   {
    "duration": 606,
    "start_time": "2021-11-25T18:50:41.131Z"
   },
   {
    "duration": 2693,
    "start_time": "2021-11-25T18:51:04.541Z"
   },
   {
    "duration": 756,
    "start_time": "2021-11-25T18:51:14.601Z"
   },
   {
    "duration": 788,
    "start_time": "2021-11-25T18:51:23.302Z"
   },
   {
    "duration": 6,
    "start_time": "2021-11-25T18:55:37.872Z"
   },
   {
    "duration": 14,
    "start_time": "2021-11-25T18:56:02.437Z"
   },
   {
    "duration": 5,
    "start_time": "2021-11-25T18:56:52.658Z"
   },
   {
    "duration": 6,
    "start_time": "2021-11-25T18:56:56.432Z"
   },
   {
    "duration": 5,
    "start_time": "2021-11-25T18:57:46.473Z"
   },
   {
    "duration": 8,
    "start_time": "2021-11-25T18:57:59.897Z"
   },
   {
    "duration": 7,
    "start_time": "2021-11-25T18:58:11.321Z"
   },
   {
    "duration": 8,
    "start_time": "2021-11-25T18:58:17.848Z"
   },
   {
    "duration": 8,
    "start_time": "2021-11-25T18:58:29.757Z"
   },
   {
    "duration": 32,
    "start_time": "2021-11-25T18:59:31.819Z"
   },
   {
    "duration": 642,
    "start_time": "2021-11-25T19:00:14.637Z"
   },
   {
    "duration": 808,
    "start_time": "2021-11-25T19:00:31.201Z"
   },
   {
    "duration": 1876,
    "start_time": "2021-11-25T19:00:47.562Z"
   },
   {
    "duration": 686,
    "start_time": "2021-11-25T19:00:51.996Z"
   },
   {
    "duration": 873,
    "start_time": "2021-11-25T19:01:03.074Z"
   },
   {
    "duration": 8,
    "start_time": "2021-11-25T19:04:12.968Z"
   },
   {
    "duration": 7,
    "start_time": "2021-11-25T19:04:52.891Z"
   },
   {
    "duration": -1046,
    "start_time": "2021-11-25T19:06:48.922Z"
   },
   {
    "duration": 24434,
    "start_time": "2021-11-25T19:06:59.949Z"
   },
   {
    "duration": 55480,
    "start_time": "2021-11-25T19:08:23.874Z"
   },
   {
    "duration": 52132,
    "start_time": "2021-11-25T19:11:02.861Z"
   },
   {
    "duration": 23,
    "start_time": "2021-11-25T19:24:17.181Z"
   },
   {
    "duration": 1125,
    "start_time": "2021-11-25T19:24:53.445Z"
   },
   {
    "duration": 1134,
    "start_time": "2021-11-25T19:25:29.266Z"
   },
   {
    "duration": 1165,
    "start_time": "2021-11-25T19:25:40.605Z"
   },
   {
    "duration": 1043,
    "start_time": "2021-11-25T19:25:46.943Z"
   },
   {
    "duration": 1035,
    "start_time": "2021-11-25T19:25:50.056Z"
   },
   {
    "duration": 1063,
    "start_time": "2021-11-25T19:25:58.234Z"
   },
   {
    "duration": 3,
    "start_time": "2021-11-25T20:18:59.684Z"
   },
   {
    "duration": 4,
    "start_time": "2021-11-25T20:45:29.479Z"
   },
   {
    "duration": 268,
    "start_time": "2021-11-25T20:47:39.209Z"
   },
   {
    "duration": 294,
    "start_time": "2021-11-25T20:48:05.769Z"
   },
   {
    "duration": 328,
    "start_time": "2021-11-25T20:48:14.545Z"
   },
   {
    "duration": 325,
    "start_time": "2021-11-25T20:48:55.513Z"
   },
   {
    "duration": 93,
    "start_time": "2021-11-25T20:51:07.640Z"
   },
   {
    "duration": 267,
    "start_time": "2021-11-25T20:59:03.646Z"
   },
   {
    "duration": 273,
    "start_time": "2021-11-25T20:59:33.559Z"
   },
   {
    "duration": 263,
    "start_time": "2021-11-25T20:59:36.395Z"
   },
   {
    "duration": 302,
    "start_time": "2021-11-25T21:05:32.165Z"
   },
   {
    "duration": 281,
    "start_time": "2021-11-25T21:06:26.213Z"
   },
   {
    "duration": 13,
    "start_time": "2021-11-25T21:06:45.532Z"
   },
   {
    "duration": 16,
    "start_time": "2021-11-25T21:07:06.319Z"
   },
   {
    "duration": 7,
    "start_time": "2021-11-25T21:09:09.535Z"
   },
   {
    "duration": 16,
    "start_time": "2021-11-25T21:09:20.471Z"
   },
   {
    "duration": 7,
    "start_time": "2021-11-25T21:09:29.484Z"
   },
   {
    "duration": 15,
    "start_time": "2021-11-25T21:10:03.922Z"
   },
   {
    "duration": 27,
    "start_time": "2021-11-25T21:10:03.939Z"
   },
   {
    "duration": 1152,
    "start_time": "2021-11-25T21:10:42.885Z"
   },
   {
    "duration": 375,
    "start_time": "2021-11-25T21:10:44.039Z"
   },
   {
    "duration": 13,
    "start_time": "2021-11-25T21:10:44.417Z"
   },
   {
    "duration": 19,
    "start_time": "2021-11-25T21:10:44.432Z"
   },
   {
    "duration": 9,
    "start_time": "2021-11-25T21:10:44.453Z"
   },
   {
    "duration": 20,
    "start_time": "2021-11-25T21:10:44.463Z"
   },
   {
    "duration": 9,
    "start_time": "2021-11-25T21:10:44.484Z"
   },
   {
    "duration": 15,
    "start_time": "2021-11-25T21:10:44.495Z"
   },
   {
    "duration": 145,
    "start_time": "2021-11-25T21:10:44.512Z"
   },
   {
    "duration": 44,
    "start_time": "2021-11-25T21:10:44.658Z"
   },
   {
    "duration": 48,
    "start_time": "2021-11-25T21:10:44.704Z"
   },
   {
    "duration": 19,
    "start_time": "2021-11-25T21:10:44.754Z"
   },
   {
    "duration": 56,
    "start_time": "2021-11-25T21:10:44.775Z"
   },
   {
    "duration": 12,
    "start_time": "2021-11-25T21:10:44.832Z"
   },
   {
    "duration": 35,
    "start_time": "2021-11-25T21:10:44.846Z"
   },
   {
    "duration": 645,
    "start_time": "2021-11-25T21:10:44.882Z"
   },
   {
    "duration": 38,
    "start_time": "2021-11-25T21:10:45.529Z"
   },
   {
    "duration": 643,
    "start_time": "2021-11-25T21:10:45.569Z"
   },
   {
    "duration": 43,
    "start_time": "2021-11-25T21:10:46.214Z"
   },
   {
    "duration": 818,
    "start_time": "2021-11-25T21:10:46.259Z"
   },
   {
    "duration": 8,
    "start_time": "2021-11-25T21:10:47.078Z"
   },
   {
    "duration": 32,
    "start_time": "2021-11-25T21:10:47.088Z"
   },
   {
    "duration": 786,
    "start_time": "2021-11-25T21:10:47.147Z"
   },
   {
    "duration": 14,
    "start_time": "2021-11-25T21:10:47.935Z"
   },
   {
    "duration": 51835,
    "start_time": "2021-11-25T21:10:47.951Z"
   },
   {
    "duration": 1119,
    "start_time": "2021-11-25T21:11:39.788Z"
   },
   {
    "duration": 5,
    "start_time": "2021-11-25T21:11:40.909Z"
   },
   {
    "duration": 19,
    "start_time": "2021-11-25T21:11:40.916Z"
   },
   {
    "duration": 16,
    "start_time": "2021-11-25T21:11:40.937Z"
   },
   {
    "duration": 14,
    "start_time": "2021-11-25T21:11:40.955Z"
   },
   {
    "duration": 389,
    "start_time": "2021-11-25T21:11:40.972Z"
   },
   {
    "duration": 13,
    "start_time": "2021-11-25T21:12:26.926Z"
   },
   {
    "duration": 21,
    "start_time": "2021-11-25T21:12:40.330Z"
   },
   {
    "duration": 274,
    "start_time": "2021-11-25T21:13:31.031Z"
   },
   {
    "duration": 18,
    "start_time": "2021-11-25T21:14:40.718Z"
   },
   {
    "duration": 12,
    "start_time": "2021-11-25T21:15:02.492Z"
   },
   {
    "duration": 13,
    "start_time": "2021-11-25T21:15:07.776Z"
   },
   {
    "duration": 1137,
    "start_time": "2021-11-25T21:15:25.302Z"
   },
   {
    "duration": 363,
    "start_time": "2021-11-25T21:15:26.441Z"
   },
   {
    "duration": 13,
    "start_time": "2021-11-25T21:15:26.806Z"
   },
   {
    "duration": 23,
    "start_time": "2021-11-25T21:15:26.821Z"
   },
   {
    "duration": 20,
    "start_time": "2021-11-25T21:15:26.846Z"
   },
   {
    "duration": 29,
    "start_time": "2021-11-25T21:15:26.868Z"
   },
   {
    "duration": 15,
    "start_time": "2021-11-25T21:15:26.899Z"
   },
   {
    "duration": 24,
    "start_time": "2021-11-25T21:15:26.916Z"
   },
   {
    "duration": 118,
    "start_time": "2021-11-25T21:15:26.942Z"
   },
   {
    "duration": 41,
    "start_time": "2021-11-25T21:15:27.062Z"
   },
   {
    "duration": 33,
    "start_time": "2021-11-25T21:15:27.105Z"
   },
   {
    "duration": 14,
    "start_time": "2021-11-25T21:15:27.144Z"
   },
   {
    "duration": 56,
    "start_time": "2021-11-25T21:15:27.160Z"
   },
   {
    "duration": 3,
    "start_time": "2021-11-25T21:15:27.217Z"
   },
   {
    "duration": 49,
    "start_time": "2021-11-25T21:15:27.221Z"
   },
   {
    "duration": 741,
    "start_time": "2021-11-25T21:15:27.272Z"
   },
   {
    "duration": 46,
    "start_time": "2021-11-25T21:15:28.014Z"
   },
   {
    "duration": 616,
    "start_time": "2021-11-25T21:15:28.062Z"
   },
   {
    "duration": 32,
    "start_time": "2021-11-25T21:15:28.680Z"
   },
   {
    "duration": 834,
    "start_time": "2021-11-25T21:15:28.714Z"
   },
   {
    "duration": 8,
    "start_time": "2021-11-25T21:15:29.550Z"
   },
   {
    "duration": 28,
    "start_time": "2021-11-25T21:15:29.559Z"
   },
   {
    "duration": 800,
    "start_time": "2021-11-25T21:15:29.589Z"
   },
   {
    "duration": 8,
    "start_time": "2021-11-25T21:15:30.390Z"
   },
   {
    "duration": 49429,
    "start_time": "2021-11-25T21:15:30.400Z"
   },
   {
    "duration": 999,
    "start_time": "2021-11-25T21:16:19.831Z"
   },
   {
    "duration": 12,
    "start_time": "2021-11-25T21:16:20.833Z"
   },
   {
    "duration": 18,
    "start_time": "2021-11-25T21:16:20.847Z"
   },
   {
    "duration": 22,
    "start_time": "2021-11-25T21:16:20.866Z"
   },
   {
    "duration": 19,
    "start_time": "2021-11-25T21:16:20.890Z"
   },
   {
    "duration": 7,
    "start_time": "2021-11-25T21:20:32.791Z"
   },
   {
    "duration": 7,
    "start_time": "2021-11-25T21:21:21.103Z"
   },
   {
    "duration": 27,
    "start_time": "2021-11-25T21:23:12.966Z"
   },
   {
    "duration": 19,
    "start_time": "2021-11-25T21:23:22.889Z"
   },
   {
    "duration": 24,
    "start_time": "2021-11-25T21:23:32.141Z"
   },
   {
    "duration": 195,
    "start_time": "2021-11-25T21:25:22.773Z"
   },
   {
    "duration": 259,
    "start_time": "2021-11-25T21:25:41.295Z"
   },
   {
    "duration": 5,
    "start_time": "2021-11-25T21:27:09.180Z"
   },
   {
    "duration": 319,
    "start_time": "2021-11-25T21:27:13.334Z"
   },
   {
    "duration": 4,
    "start_time": "2021-11-25T21:29:06.611Z"
   },
   {
    "duration": 4,
    "start_time": "2021-11-25T21:29:18.648Z"
   },
   {
    "duration": 712,
    "start_time": "2021-11-25T21:29:21.061Z"
   },
   {
    "duration": 4,
    "start_time": "2021-11-25T21:29:51.833Z"
   },
   {
    "duration": 419,
    "start_time": "2021-11-25T21:29:55.836Z"
   },
   {
    "duration": 1804,
    "start_time": "2021-11-26T16:33:44.099Z"
   },
   {
    "duration": 1064,
    "start_time": "2021-11-26T16:33:45.906Z"
   },
   {
    "duration": 35,
    "start_time": "2021-11-26T16:33:46.974Z"
   },
   {
    "duration": 14,
    "start_time": "2021-11-26T16:33:47.012Z"
   },
   {
    "duration": 13,
    "start_time": "2021-11-26T16:33:47.029Z"
   },
   {
    "duration": 17,
    "start_time": "2021-11-26T16:33:47.044Z"
   },
   {
    "duration": 46,
    "start_time": "2021-11-26T16:33:47.064Z"
   },
   {
    "duration": 18,
    "start_time": "2021-11-26T16:33:47.113Z"
   },
   {
    "duration": 221,
    "start_time": "2021-11-26T16:33:47.135Z"
   },
   {
    "duration": 68,
    "start_time": "2021-11-26T16:33:47.359Z"
   },
   {
    "duration": 50,
    "start_time": "2021-11-26T16:33:47.429Z"
   },
   {
    "duration": 49,
    "start_time": "2021-11-26T16:33:47.482Z"
   },
   {
    "duration": 91,
    "start_time": "2021-11-26T16:33:47.533Z"
   },
   {
    "duration": 4,
    "start_time": "2021-11-26T16:33:47.626Z"
   },
   {
    "duration": 73,
    "start_time": "2021-11-26T16:33:47.634Z"
   },
   {
    "duration": 1154,
    "start_time": "2021-11-26T16:33:47.710Z"
   },
   {
    "duration": 53,
    "start_time": "2021-11-26T16:33:48.866Z"
   },
   {
    "duration": 1072,
    "start_time": "2021-11-26T16:33:48.922Z"
   },
   {
    "duration": 40,
    "start_time": "2021-11-26T16:33:50.000Z"
   },
   {
    "duration": 1231,
    "start_time": "2021-11-26T16:33:50.042Z"
   },
   {
    "duration": 11,
    "start_time": "2021-11-26T16:33:51.276Z"
   },
   {
    "duration": 42,
    "start_time": "2021-11-26T16:33:51.301Z"
   },
   {
    "duration": 1476,
    "start_time": "2021-11-26T16:33:51.345Z"
   },
   {
    "duration": 14,
    "start_time": "2021-11-26T16:33:52.823Z"
   },
   {
    "duration": 79453,
    "start_time": "2021-11-26T16:33:52.840Z"
   },
   {
    "duration": 1477,
    "start_time": "2021-11-26T16:35:12.296Z"
   },
   {
    "duration": 7,
    "start_time": "2021-11-26T16:35:13.779Z"
   },
   {
    "duration": 21,
    "start_time": "2021-11-26T16:35:13.801Z"
   },
   {
    "duration": 1460,
    "start_time": "2021-11-26T16:35:13.824Z"
   },
   {
    "duration": -707,
    "start_time": "2021-11-26T16:35:15.995Z"
   },
   {
    "duration": 345,
    "start_time": "2021-11-26T17:02:46.847Z"
   },
   {
    "duration": 19,
    "start_time": "2021-11-26T17:02:49.709Z"
   },
   {
    "duration": 13,
    "start_time": "2021-11-26T17:05:08.018Z"
   },
   {
    "duration": 387,
    "start_time": "2021-11-26T17:05:14.737Z"
   },
   {
    "duration": 1680,
    "start_time": "2021-11-26T17:05:33.057Z"
   },
   {
    "duration": 485,
    "start_time": "2021-11-26T17:05:34.740Z"
   },
   {
    "duration": 19,
    "start_time": "2021-11-26T17:05:35.228Z"
   },
   {
    "duration": 16,
    "start_time": "2021-11-26T17:05:35.250Z"
   },
   {
    "duration": 34,
    "start_time": "2021-11-26T17:05:35.268Z"
   },
   {
    "duration": 19,
    "start_time": "2021-11-26T17:05:35.305Z"
   },
   {
    "duration": 12,
    "start_time": "2021-11-26T17:05:35.327Z"
   },
   {
    "duration": 15,
    "start_time": "2021-11-26T17:05:35.343Z"
   },
   {
    "duration": 230,
    "start_time": "2021-11-26T17:05:35.361Z"
   },
   {
    "duration": 54,
    "start_time": "2021-11-26T17:05:35.601Z"
   },
   {
    "duration": 57,
    "start_time": "2021-11-26T17:05:35.657Z"
   },
   {
    "duration": 27,
    "start_time": "2021-11-26T17:05:35.716Z"
   },
   {
    "duration": 103,
    "start_time": "2021-11-26T17:05:35.745Z"
   },
   {
    "duration": 3,
    "start_time": "2021-11-26T17:05:35.851Z"
   },
   {
    "duration": 61,
    "start_time": "2021-11-26T17:05:35.857Z"
   },
   {
    "duration": 1110,
    "start_time": "2021-11-26T17:05:35.921Z"
   },
   {
    "duration": 41,
    "start_time": "2021-11-26T17:05:37.033Z"
   },
   {
    "duration": 1095,
    "start_time": "2021-11-26T17:05:37.101Z"
   },
   {
    "duration": 42,
    "start_time": "2021-11-26T17:05:38.198Z"
   },
   {
    "duration": 1227,
    "start_time": "2021-11-26T17:05:38.243Z"
   },
   {
    "duration": 12,
    "start_time": "2021-11-26T17:05:39.472Z"
   },
   {
    "duration": 52,
    "start_time": "2021-11-26T17:05:39.486Z"
   },
   {
    "duration": 1375,
    "start_time": "2021-11-26T17:05:39.543Z"
   },
   {
    "duration": 12,
    "start_time": "2021-11-26T17:05:40.921Z"
   },
   {
    "duration": 78459,
    "start_time": "2021-11-26T17:05:40.936Z"
   },
   {
    "duration": 1455,
    "start_time": "2021-11-26T17:06:59.402Z"
   },
   {
    "duration": 7,
    "start_time": "2021-11-26T17:07:00.860Z"
   },
   {
    "duration": 32,
    "start_time": "2021-11-26T17:07:00.869Z"
   },
   {
    "duration": 29,
    "start_time": "2021-11-26T17:07:00.903Z"
   },
   {
    "duration": 379,
    "start_time": "2021-11-26T17:07:00.935Z"
   },
   {
    "duration": 4,
    "start_time": "2021-11-26T18:28:46.221Z"
   },
   {
    "duration": 4,
    "start_time": "2021-11-26T18:29:39.560Z"
   },
   {
    "duration": 4,
    "start_time": "2021-11-26T18:59:13.968Z"
   },
   {
    "duration": 5,
    "start_time": "2021-11-26T19:17:42.635Z"
   },
   {
    "duration": 530,
    "start_time": "2021-11-26T19:18:08.652Z"
   },
   {
    "duration": 5,
    "start_time": "2021-11-26T19:19:41.928Z"
   },
   {
    "duration": 6,
    "start_time": "2021-11-26T19:20:03.054Z"
   },
   {
    "duration": 369,
    "start_time": "2021-11-26T19:20:54.144Z"
   },
   {
    "duration": 5,
    "start_time": "2021-11-26T19:22:28.781Z"
   },
   {
    "duration": 5,
    "start_time": "2021-11-26T19:24:19.210Z"
   },
   {
    "duration": 5,
    "start_time": "2021-11-26T19:24:41.417Z"
   },
   {
    "duration": 4,
    "start_time": "2021-11-26T19:26:39.528Z"
   },
   {
    "duration": 6,
    "start_time": "2021-11-26T19:54:23.180Z"
   },
   {
    "duration": 386,
    "start_time": "2021-11-26T19:56:55.125Z"
   },
   {
    "duration": 442,
    "start_time": "2021-11-26T19:57:23.764Z"
   },
   {
    "duration": 11,
    "start_time": "2021-11-26T19:57:44.866Z"
   },
   {
    "duration": 1127,
    "start_time": "2021-11-26T20:20:07.941Z"
   },
   {
    "duration": 731,
    "start_time": "2021-11-26T20:20:33.616Z"
   },
   {
    "duration": 455,
    "start_time": "2021-11-26T20:21:02.691Z"
   },
   {
    "duration": 378,
    "start_time": "2021-11-26T20:21:12.528Z"
   },
   {
    "duration": 7,
    "start_time": "2021-11-26T20:21:18.830Z"
   },
   {
    "duration": 965,
    "start_time": "2021-11-26T20:21:38.743Z"
   },
   {
    "duration": 899,
    "start_time": "2021-11-26T20:22:04.270Z"
   },
   {
    "duration": 468,
    "start_time": "2021-11-26T20:22:18.968Z"
   },
   {
    "duration": 405,
    "start_time": "2021-11-26T20:54:24.703Z"
   },
   {
    "duration": 7,
    "start_time": "2021-11-26T20:54:28.383Z"
   },
   {
    "duration": 396,
    "start_time": "2021-11-26T20:55:10.210Z"
   },
   {
    "duration": 528,
    "start_time": "2021-11-26T20:55:19.072Z"
   },
   {
    "duration": 14,
    "start_time": "2021-11-26T20:55:23.446Z"
   },
   {
    "duration": 9,
    "start_time": "2021-11-26T20:55:34.601Z"
   },
   {
    "duration": 8,
    "start_time": "2021-11-26T20:55:49.247Z"
   },
   {
    "duration": 6,
    "start_time": "2021-11-26T20:55:52.896Z"
   },
   {
    "duration": 461,
    "start_time": "2021-11-26T20:56:29.390Z"
   },
   {
    "duration": 432,
    "start_time": "2021-11-26T20:57:06.586Z"
   },
   {
    "duration": 11,
    "start_time": "2021-11-26T20:57:13.950Z"
   },
   {
    "duration": 8,
    "start_time": "2021-11-26T21:00:04.129Z"
   },
   {
    "duration": 360,
    "start_time": "2021-11-26T21:04:06.957Z"
   },
   {
    "duration": 9,
    "start_time": "2021-11-26T21:04:11.444Z"
   },
   {
    "duration": 8,
    "start_time": "2021-11-26T21:04:15.370Z"
   },
   {
    "duration": 7,
    "start_time": "2021-11-26T21:05:07.408Z"
   },
   {
    "duration": 6,
    "start_time": "2021-11-26T21:05:10.996Z"
   },
   {
    "duration": 439,
    "start_time": "2021-11-26T21:05:39.272Z"
   },
   {
    "duration": 10,
    "start_time": "2021-11-26T21:05:51.046Z"
   },
   {
    "duration": 8,
    "start_time": "2021-11-26T21:05:58.984Z"
   },
   {
    "duration": 5,
    "start_time": "2021-11-26T21:15:56.947Z"
   },
   {
    "duration": 717,
    "start_time": "2021-11-26T21:17:01.199Z"
   },
   {
    "duration": 5,
    "start_time": "2021-11-26T21:18:51.838Z"
   },
   {
    "duration": 28,
    "start_time": "2021-11-26T21:18:52.764Z"
   },
   {
    "duration": 27,
    "start_time": "2021-11-26T21:19:11.528Z"
   },
   {
    "duration": 126,
    "start_time": "2021-11-26T21:29:58.654Z"
   },
   {
    "duration": 13,
    "start_time": "2021-11-26T21:34:31.045Z"
   },
   {
    "duration": 367,
    "start_time": "2021-11-26T21:47:01.861Z"
   },
   {
    "duration": 5,
    "start_time": "2021-11-26T21:47:14.561Z"
   },
   {
    "duration": 707,
    "start_time": "2021-11-26T21:47:16.597Z"
   },
   {
    "duration": 5,
    "start_time": "2021-11-26T21:48:06.087Z"
   },
   {
    "duration": 8,
    "start_time": "2021-11-26T21:48:06.924Z"
   },
   {
    "duration": 6,
    "start_time": "2021-11-26T21:48:17.787Z"
   },
   {
    "duration": 9,
    "start_time": "2021-11-26T21:48:18.460Z"
   },
   {
    "duration": 7,
    "start_time": "2021-11-26T21:48:45.750Z"
   },
   {
    "duration": 375,
    "start_time": "2021-11-26T21:48:50.336Z"
   },
   {
    "duration": 15,
    "start_time": "2021-11-26T21:48:53.025Z"
   },
   {
    "duration": 6,
    "start_time": "2021-11-26T21:49:39.701Z"
   },
   {
    "duration": 328,
    "start_time": "2021-11-26T21:49:42.090Z"
   },
   {
    "duration": 13,
    "start_time": "2021-11-26T21:49:43.538Z"
   },
   {
    "duration": 6,
    "start_time": "2021-11-26T21:53:30.131Z"
   },
   {
    "duration": 438,
    "start_time": "2021-11-26T21:53:32.781Z"
   },
   {
    "duration": 16,
    "start_time": "2021-11-26T21:53:34.046Z"
   },
   {
    "duration": 6,
    "start_time": "2021-11-26T21:54:06.157Z"
   },
   {
    "duration": 431,
    "start_time": "2021-11-26T21:54:08.874Z"
   },
   {
    "duration": 23,
    "start_time": "2021-11-26T21:54:10.232Z"
   },
   {
    "duration": 5,
    "start_time": "2021-11-26T21:54:26.070Z"
   },
   {
    "duration": 10,
    "start_time": "2021-11-26T21:54:26.857Z"
   },
   {
    "duration": 6,
    "start_time": "2021-11-26T21:55:29.334Z"
   },
   {
    "duration": 6,
    "start_time": "2021-11-26T21:55:39.436Z"
   },
   {
    "duration": 13,
    "start_time": "2021-11-26T21:55:41.797Z"
   },
   {
    "duration": 6,
    "start_time": "2021-11-26T22:00:13.945Z"
   },
   {
    "duration": 721,
    "start_time": "2021-11-26T22:00:23.739Z"
   },
   {
    "duration": 354,
    "start_time": "2021-11-26T22:06:42.964Z"
   },
   {
    "duration": 6,
    "start_time": "2021-11-26T22:06:46.023Z"
   },
   {
    "duration": 354,
    "start_time": "2021-11-26T22:06:47.123Z"
   },
   {
    "duration": 896,
    "start_time": "2021-11-26T22:06:55.834Z"
   },
   {
    "duration": 6,
    "start_time": "2021-11-26T22:07:24.887Z"
   },
   {
    "duration": 695,
    "start_time": "2021-11-26T22:07:26.261Z"
   },
   {
    "duration": 6,
    "start_time": "2021-11-26T22:07:55.023Z"
   },
   {
    "duration": 736,
    "start_time": "2021-11-26T22:07:55.874Z"
   },
   {
    "duration": 6,
    "start_time": "2021-11-26T22:08:03.375Z"
   },
   {
    "duration": 9,
    "start_time": "2021-11-26T22:08:05.087Z"
   },
   {
    "duration": 7,
    "start_time": "2021-11-26T22:08:13.013Z"
   },
   {
    "duration": 9,
    "start_time": "2021-11-26T22:08:14.236Z"
   },
   {
    "duration": 7,
    "start_time": "2021-11-26T22:08:22.269Z"
   },
   {
    "duration": 714,
    "start_time": "2021-11-26T22:08:24.613Z"
   },
   {
    "duration": 5,
    "start_time": "2021-11-26T22:09:28.426Z"
   },
   {
    "duration": 11,
    "start_time": "2021-11-26T22:09:29.838Z"
   },
   {
    "duration": 7,
    "start_time": "2021-11-26T22:10:55.923Z"
   },
   {
    "duration": 400,
    "start_time": "2021-11-26T22:11:04.614Z"
   },
   {
    "duration": 15,
    "start_time": "2021-11-26T22:11:06.166Z"
   },
   {
    "duration": 6,
    "start_time": "2021-11-26T22:11:16.315Z"
   },
   {
    "duration": 10,
    "start_time": "2021-11-26T22:11:18.240Z"
   },
   {
    "duration": 6,
    "start_time": "2021-11-26T22:11:28.153Z"
   },
   {
    "duration": 10,
    "start_time": "2021-11-26T22:11:29.531Z"
   },
   {
    "duration": 11,
    "start_time": "2021-11-26T22:12:12.904Z"
   },
   {
    "duration": 9,
    "start_time": "2021-11-26T22:12:14.117Z"
   },
   {
    "duration": 7,
    "start_time": "2021-11-26T22:12:46.405Z"
   },
   {
    "duration": 11,
    "start_time": "2021-11-26T22:12:47.591Z"
   },
   {
    "duration": 11,
    "start_time": "2021-11-26T22:12:48.230Z"
   },
   {
    "duration": 9,
    "start_time": "2021-11-26T22:12:48.728Z"
   },
   {
    "duration": 7,
    "start_time": "2021-11-26T22:12:55.514Z"
   },
   {
    "duration": 9,
    "start_time": "2021-11-26T22:12:55.954Z"
   },
   {
    "duration": 10,
    "start_time": "2021-11-26T22:12:56.842Z"
   },
   {
    "duration": 9,
    "start_time": "2021-11-26T22:12:57.352Z"
   },
   {
    "duration": 7,
    "start_time": "2021-11-26T22:14:59.560Z"
   },
   {
    "duration": 10,
    "start_time": "2021-11-26T22:15:00.357Z"
   },
   {
    "duration": 9,
    "start_time": "2021-11-26T22:15:01.111Z"
   },
   {
    "duration": 9,
    "start_time": "2021-11-26T22:15:01.569Z"
   },
   {
    "duration": 7,
    "start_time": "2021-11-26T22:15:04.944Z"
   },
   {
    "duration": 9,
    "start_time": "2021-11-26T22:15:05.420Z"
   },
   {
    "duration": 10,
    "start_time": "2021-11-26T22:15:05.795Z"
   },
   {
    "duration": 10,
    "start_time": "2021-11-26T22:15:06.157Z"
   },
   {
    "duration": 7,
    "start_time": "2021-11-26T22:15:26.289Z"
   },
   {
    "duration": 10,
    "start_time": "2021-11-26T22:15:27.182Z"
   },
   {
    "duration": 9,
    "start_time": "2021-11-26T22:15:27.958Z"
   },
   {
    "duration": 10,
    "start_time": "2021-11-26T22:15:28.508Z"
   },
   {
    "duration": 7,
    "start_time": "2021-11-26T22:15:43.961Z"
   },
   {
    "duration": 9,
    "start_time": "2021-11-26T22:15:44.657Z"
   },
   {
    "duration": 8,
    "start_time": "2021-11-26T22:15:45.157Z"
   },
   {
    "duration": 9,
    "start_time": "2021-11-26T22:15:45.595Z"
   },
   {
    "duration": 379,
    "start_time": "2021-11-26T22:20:39.680Z"
   },
   {
    "duration": 19,
    "start_time": "2021-11-26T22:21:01.940Z"
   },
   {
    "duration": 19,
    "start_time": "2021-11-26T22:21:16.740Z"
   },
   {
    "duration": 18,
    "start_time": "2021-11-26T22:21:24.358Z"
   },
   {
    "duration": 18,
    "start_time": "2021-11-26T22:21:31.967Z"
   },
   {
    "duration": 19,
    "start_time": "2021-11-26T22:21:35.352Z"
   },
   {
    "duration": 22,
    "start_time": "2021-11-26T22:21:37.302Z"
   },
   {
    "duration": 383,
    "start_time": "2021-11-26T22:23:16.981Z"
   },
   {
    "duration": 5,
    "start_time": "2021-11-26T22:23:24.033Z"
   },
   {
    "duration": 8,
    "start_time": "2021-11-26T22:23:36.018Z"
   },
   {
    "duration": 20,
    "start_time": "2021-11-26T22:23:38.868Z"
   },
   {
    "duration": 9,
    "start_time": "2021-11-26T22:23:41.130Z"
   },
   {
    "duration": 18,
    "start_time": "2021-11-26T22:23:44.218Z"
   },
   {
    "duration": 4,
    "start_time": "2021-11-26T22:23:55.693Z"
   },
   {
    "duration": 21,
    "start_time": "2021-11-26T22:23:56.730Z"
   },
   {
    "duration": 23,
    "start_time": "2021-11-26T22:23:58.300Z"
   },
   {
    "duration": 21,
    "start_time": "2021-11-26T22:24:00.067Z"
   },
   {
    "duration": 1476,
    "start_time": "2021-11-27T16:45:40.475Z"
   },
   {
    "duration": 424,
    "start_time": "2021-11-27T16:45:41.953Z"
   },
   {
    "duration": 20,
    "start_time": "2021-11-27T16:45:42.379Z"
   },
   {
    "duration": 14,
    "start_time": "2021-11-27T16:45:42.404Z"
   },
   {
    "duration": 16,
    "start_time": "2021-11-27T16:45:42.419Z"
   },
   {
    "duration": 29,
    "start_time": "2021-11-27T16:45:42.437Z"
   },
   {
    "duration": 14,
    "start_time": "2021-11-27T16:45:42.468Z"
   },
   {
    "duration": 14,
    "start_time": "2021-11-27T16:45:42.487Z"
   },
   {
    "duration": 144,
    "start_time": "2021-11-27T16:45:42.506Z"
   },
   {
    "duration": 63,
    "start_time": "2021-11-27T16:45:42.652Z"
   },
   {
    "duration": 48,
    "start_time": "2021-11-27T16:45:42.717Z"
   },
   {
    "duration": 29,
    "start_time": "2021-11-27T16:45:42.767Z"
   },
   {
    "duration": 75,
    "start_time": "2021-11-27T16:45:42.799Z"
   },
   {
    "duration": 4,
    "start_time": "2021-11-27T16:45:42.876Z"
   },
   {
    "duration": 47,
    "start_time": "2021-11-27T16:45:42.882Z"
   },
   {
    "duration": 888,
    "start_time": "2021-11-27T16:45:42.931Z"
   },
   {
    "duration": 54,
    "start_time": "2021-11-27T16:45:43.821Z"
   },
   {
    "duration": 717,
    "start_time": "2021-11-27T16:45:43.877Z"
   },
   {
    "duration": 34,
    "start_time": "2021-11-27T16:45:44.596Z"
   },
   {
    "duration": 847,
    "start_time": "2021-11-27T16:45:44.631Z"
   },
   {
    "duration": 13,
    "start_time": "2021-11-27T16:45:45.482Z"
   },
   {
    "duration": 30,
    "start_time": "2021-11-27T16:45:45.499Z"
   },
   {
    "duration": 871,
    "start_time": "2021-11-27T16:45:45.533Z"
   },
   {
    "duration": 8,
    "start_time": "2021-11-27T16:45:46.406Z"
   },
   {
    "duration": 57500,
    "start_time": "2021-11-27T16:45:46.416Z"
   },
   {
    "duration": 1016,
    "start_time": "2021-11-27T16:46:43.918Z"
   },
   {
    "duration": 6,
    "start_time": "2021-11-27T16:46:44.936Z"
   },
   {
    "duration": 35,
    "start_time": "2021-11-27T16:46:44.944Z"
   },
   {
    "duration": 11,
    "start_time": "2021-11-27T16:46:44.981Z"
   },
   {
    "duration": 286,
    "start_time": "2021-11-27T16:46:44.993Z"
   },
   {
    "duration": 102,
    "start_time": "2021-11-27T16:46:45.281Z"
   },
   {
    "duration": 3,
    "start_time": "2021-11-27T16:46:45.464Z"
   },
   {
    "duration": 15,
    "start_time": "2021-11-27T16:46:45.470Z"
   },
   {
    "duration": 7,
    "start_time": "2021-11-27T16:46:45.487Z"
   },
   {
    "duration": 7,
    "start_time": "2021-11-27T16:46:45.495Z"
   },
   {
    "duration": 20,
    "start_time": "2021-11-27T16:46:45.504Z"
   },
   {
    "duration": 6,
    "start_time": "2021-11-27T16:46:45.526Z"
   },
   {
    "duration": 33,
    "start_time": "2021-11-27T16:46:45.533Z"
   },
   {
    "duration": 10,
    "start_time": "2021-11-27T16:46:45.569Z"
   },
   {
    "duration": 5,
    "start_time": "2021-11-27T16:46:45.583Z"
   },
   {
    "duration": 11,
    "start_time": "2021-11-27T16:46:45.590Z"
   },
   {
    "duration": 25,
    "start_time": "2021-11-27T16:46:45.602Z"
   },
   {
    "duration": 3,
    "start_time": "2021-11-27T16:46:45.629Z"
   },
   {
    "duration": 14,
    "start_time": "2021-11-27T18:32:28.221Z"
   },
   {
    "duration": 16,
    "start_time": "2021-11-27T18:32:30.679Z"
   },
   {
    "duration": 14,
    "start_time": "2021-11-27T18:32:32.245Z"
   },
   {
    "duration": 28,
    "start_time": "2021-11-27T18:32:50.083Z"
   },
   {
    "duration": 9,
    "start_time": "2021-11-27T18:32:51.684Z"
   },
   {
    "duration": 1243,
    "start_time": "2021-11-27T18:32:58.746Z"
   },
   {
    "duration": 539,
    "start_time": "2021-11-27T18:32:59.991Z"
   },
   {
    "duration": 20,
    "start_time": "2021-11-27T18:33:00.533Z"
   },
   {
    "duration": 23,
    "start_time": "2021-11-27T18:33:00.563Z"
   },
   {
    "duration": 12,
    "start_time": "2021-11-27T18:33:00.588Z"
   },
   {
    "duration": 16,
    "start_time": "2021-11-27T18:33:00.602Z"
   },
   {
    "duration": 10,
    "start_time": "2021-11-27T18:33:00.620Z"
   },
   {
    "duration": 51,
    "start_time": "2021-11-27T18:33:00.633Z"
   },
   {
    "duration": 141,
    "start_time": "2021-11-27T18:33:00.686Z"
   },
   {
    "duration": 67,
    "start_time": "2021-11-27T18:33:00.829Z"
   },
   {
    "duration": 32,
    "start_time": "2021-11-27T18:33:00.898Z"
   },
   {
    "duration": 37,
    "start_time": "2021-11-27T18:33:00.932Z"
   },
   {
    "duration": 69,
    "start_time": "2021-11-27T18:33:00.971Z"
   },
   {
    "duration": 3,
    "start_time": "2021-11-27T18:33:01.042Z"
   },
   {
    "duration": 59,
    "start_time": "2021-11-27T18:33:01.046Z"
   },
   {
    "duration": 692,
    "start_time": "2021-11-27T18:33:01.107Z"
   },
   {
    "duration": 30,
    "start_time": "2021-11-27T18:33:01.801Z"
   },
   {
    "duration": 686,
    "start_time": "2021-11-27T18:33:01.832Z"
   },
   {
    "duration": 49,
    "start_time": "2021-11-27T18:33:02.520Z"
   },
   {
    "duration": 1167,
    "start_time": "2021-11-27T18:33:02.572Z"
   },
   {
    "duration": 11,
    "start_time": "2021-11-27T18:33:03.742Z"
   },
   {
    "duration": 35,
    "start_time": "2021-11-27T18:33:03.766Z"
   },
   {
    "duration": 813,
    "start_time": "2021-11-27T18:33:03.805Z"
   },
   {
    "duration": 8,
    "start_time": "2021-11-27T18:33:04.621Z"
   },
   {
    "duration": 61756,
    "start_time": "2021-11-27T18:33:04.631Z"
   },
   {
    "duration": 1032,
    "start_time": "2021-11-27T18:34:06.390Z"
   },
   {
    "duration": 5,
    "start_time": "2021-11-27T18:34:07.424Z"
   },
   {
    "duration": 18,
    "start_time": "2021-11-27T18:34:07.430Z"
   },
   {
    "duration": 29,
    "start_time": "2021-11-27T18:34:07.450Z"
   },
   {
    "duration": 403,
    "start_time": "2021-11-27T18:34:07.481Z"
   },
   {
    "duration": 177,
    "start_time": "2021-11-27T18:34:07.887Z"
   },
   {
    "duration": 7,
    "start_time": "2021-11-27T18:34:08.071Z"
   },
   {
    "duration": 9,
    "start_time": "2021-11-27T18:34:08.080Z"
   },
   {
    "duration": 5,
    "start_time": "2021-11-27T18:34:08.092Z"
   },
   {
    "duration": 8,
    "start_time": "2021-11-27T18:34:08.099Z"
   },
   {
    "duration": 22,
    "start_time": "2021-11-27T18:34:08.109Z"
   },
   {
    "duration": 6,
    "start_time": "2021-11-27T18:34:08.132Z"
   },
   {
    "duration": 31,
    "start_time": "2021-11-27T18:34:08.140Z"
   },
   {
    "duration": 10,
    "start_time": "2021-11-27T18:34:08.173Z"
   },
   {
    "duration": 7,
    "start_time": "2021-11-27T18:34:08.185Z"
   },
   {
    "duration": 19,
    "start_time": "2021-11-27T18:34:08.194Z"
   },
   {
    "duration": 38,
    "start_time": "2021-11-27T18:34:08.215Z"
   },
   {
    "duration": 3,
    "start_time": "2021-11-27T18:34:08.255Z"
   },
   {
    "duration": 19,
    "start_time": "2021-11-27T18:34:57.292Z"
   },
   {
    "duration": 16,
    "start_time": "2021-11-27T18:35:00.104Z"
   },
   {
    "duration": 9,
    "start_time": "2021-11-27T18:35:02.379Z"
   },
   {
    "duration": 8,
    "start_time": "2021-11-27T18:35:03.579Z"
   },
   {
    "duration": 8,
    "start_time": "2021-11-27T18:35:04.991Z"
   },
   {
    "duration": 4,
    "start_time": "2021-11-27T18:37:29.407Z"
   },
   {
    "duration": 2132,
    "start_time": "2021-11-27T18:37:42.000Z"
   },
   {
    "duration": 1093,
    "start_time": "2021-11-27T18:37:44.134Z"
   },
   {
    "duration": 14,
    "start_time": "2021-11-27T18:37:45.229Z"
   },
   {
    "duration": 26,
    "start_time": "2021-11-27T18:37:45.245Z"
   },
   {
    "duration": 11,
    "start_time": "2021-11-27T18:37:45.273Z"
   },
   {
    "duration": 11,
    "start_time": "2021-11-27T18:37:45.286Z"
   },
   {
    "duration": 8,
    "start_time": "2021-11-27T18:37:45.299Z"
   },
   {
    "duration": 13,
    "start_time": "2021-11-27T18:37:45.310Z"
   },
   {
    "duration": 165,
    "start_time": "2021-11-27T18:37:45.327Z"
   },
   {
    "duration": 68,
    "start_time": "2021-11-27T18:37:45.495Z"
   },
   {
    "duration": 34,
    "start_time": "2021-11-27T18:37:45.565Z"
   },
   {
    "duration": 19,
    "start_time": "2021-11-27T18:37:45.601Z"
   },
   {
    "duration": 94,
    "start_time": "2021-11-27T18:37:45.622Z"
   },
   {
    "duration": 3,
    "start_time": "2021-11-27T18:37:45.718Z"
   },
   {
    "duration": 50,
    "start_time": "2021-11-27T18:37:45.723Z"
   },
   {
    "duration": 767,
    "start_time": "2021-11-27T18:37:45.775Z"
   },
   {
    "duration": 45,
    "start_time": "2021-11-27T18:37:46.544Z"
   },
   {
    "duration": 659,
    "start_time": "2021-11-27T18:37:46.591Z"
   },
   {
    "duration": 48,
    "start_time": "2021-11-27T18:37:47.252Z"
   },
   {
    "duration": 790,
    "start_time": "2021-11-27T18:37:47.302Z"
   },
   {
    "duration": 8,
    "start_time": "2021-11-27T18:37:48.094Z"
   },
   {
    "duration": 65,
    "start_time": "2021-11-27T18:37:48.104Z"
   },
   {
    "duration": 895,
    "start_time": "2021-11-27T18:37:48.171Z"
   },
   {
    "duration": 10,
    "start_time": "2021-11-27T18:37:49.068Z"
   },
   {
    "duration": 64468,
    "start_time": "2021-11-27T18:37:49.084Z"
   },
   {
    "duration": 1333,
    "start_time": "2021-11-27T18:38:53.554Z"
   },
   {
    "duration": 7,
    "start_time": "2021-11-27T18:38:54.893Z"
   },
   {
    "duration": 40,
    "start_time": "2021-11-27T18:38:54.903Z"
   },
   {
    "duration": 35,
    "start_time": "2021-11-27T18:38:54.946Z"
   },
   {
    "duration": 315,
    "start_time": "2021-11-27T18:38:54.983Z"
   },
   {
    "duration": 109,
    "start_time": "2021-11-27T18:38:55.372Z"
   },
   {
    "duration": 5,
    "start_time": "2021-11-27T18:38:55.486Z"
   },
   {
    "duration": 31,
    "start_time": "2021-11-27T18:38:55.493Z"
   },
   {
    "duration": 22,
    "start_time": "2021-11-27T18:38:55.526Z"
   },
   {
    "duration": 25,
    "start_time": "2021-11-27T18:38:55.551Z"
   },
   {
    "duration": 51,
    "start_time": "2021-11-27T18:38:55.579Z"
   },
   {
    "duration": 39,
    "start_time": "2021-11-27T18:38:55.633Z"
   },
   {
    "duration": 23,
    "start_time": "2021-11-27T18:38:55.678Z"
   },
   {
    "duration": 28,
    "start_time": "2021-11-27T18:38:55.703Z"
   },
   {
    "duration": 31,
    "start_time": "2021-11-27T18:38:55.733Z"
   },
   {
    "duration": 31,
    "start_time": "2021-11-27T18:38:55.766Z"
   },
   {
    "duration": 47,
    "start_time": "2021-11-27T18:38:55.799Z"
   },
   {
    "duration": 3,
    "start_time": "2021-11-27T18:38:55.848Z"
   },
   {
    "duration": 15,
    "start_time": "2021-11-27T18:45:37.840Z"
   },
   {
    "duration": 14,
    "start_time": "2021-11-27T18:45:38.771Z"
   },
   {
    "duration": 17,
    "start_time": "2021-11-27T18:45:40.863Z"
   },
   {
    "duration": 5,
    "start_time": "2021-11-27T18:45:48.587Z"
   },
   {
    "duration": 29,
    "start_time": "2021-11-27T18:45:50.157Z"
   },
   {
    "duration": 4,
    "start_time": "2021-11-27T18:45:52.417Z"
   },
   {
    "duration": 18,
    "start_time": "2021-11-27T18:45:55.343Z"
   },
   {
    "duration": 1248,
    "start_time": "2021-11-27T18:51:34.654Z"
   },
   {
    "duration": 977,
    "start_time": "2021-11-27T18:51:35.904Z"
   },
   {
    "duration": 14,
    "start_time": "2021-11-27T18:51:36.886Z"
   },
   {
    "duration": 36,
    "start_time": "2021-11-27T18:51:36.901Z"
   },
   {
    "duration": 11,
    "start_time": "2021-11-27T18:51:36.939Z"
   },
   {
    "duration": 34,
    "start_time": "2021-11-27T18:51:36.952Z"
   },
   {
    "duration": 29,
    "start_time": "2021-11-27T18:51:36.988Z"
   },
   {
    "duration": 27,
    "start_time": "2021-11-27T18:51:37.020Z"
   },
   {
    "duration": 141,
    "start_time": "2021-11-27T18:51:37.050Z"
   },
   {
    "duration": 43,
    "start_time": "2021-11-27T18:51:37.192Z"
   },
   {
    "duration": 59,
    "start_time": "2021-11-27T18:51:37.237Z"
   },
   {
    "duration": 18,
    "start_time": "2021-11-27T18:51:37.298Z"
   },
   {
    "duration": 80,
    "start_time": "2021-11-27T18:51:37.318Z"
   },
   {
    "duration": 3,
    "start_time": "2021-11-27T18:51:37.399Z"
   },
   {
    "duration": 60,
    "start_time": "2021-11-27T18:51:37.405Z"
   },
   {
    "duration": 677,
    "start_time": "2021-11-27T18:51:37.466Z"
   },
   {
    "duration": 45,
    "start_time": "2021-11-27T18:51:38.145Z"
   },
   {
    "duration": 656,
    "start_time": "2021-11-27T18:51:38.192Z"
   },
   {
    "duration": 47,
    "start_time": "2021-11-27T18:51:38.850Z"
   },
   {
    "duration": 1187,
    "start_time": "2021-11-27T18:51:38.899Z"
   },
   {
    "duration": 11,
    "start_time": "2021-11-27T18:51:40.089Z"
   },
   {
    "duration": 32,
    "start_time": "2021-11-27T18:51:40.102Z"
   },
   {
    "duration": 859,
    "start_time": "2021-11-27T18:51:40.136Z"
   },
   {
    "duration": 9,
    "start_time": "2021-11-27T18:51:40.997Z"
   },
   {
    "duration": 11673,
    "start_time": "2021-11-27T18:51:41.008Z"
   },
   {
    "duration": -1119,
    "start_time": "2021-11-27T18:51:53.804Z"
   },
   {
    "duration": -1121,
    "start_time": "2021-11-27T18:51:53.807Z"
   },
   {
    "duration": -1120,
    "start_time": "2021-11-27T18:51:53.808Z"
   },
   {
    "duration": -1120,
    "start_time": "2021-11-27T18:51:53.809Z"
   },
   {
    "duration": -1122,
    "start_time": "2021-11-27T18:51:53.813Z"
   },
   {
    "duration": -1123,
    "start_time": "2021-11-27T18:51:53.815Z"
   },
   {
    "duration": -1122,
    "start_time": "2021-11-27T18:51:53.816Z"
   },
   {
    "duration": -1131,
    "start_time": "2021-11-27T18:51:53.826Z"
   },
   {
    "duration": -1130,
    "start_time": "2021-11-27T18:51:53.827Z"
   },
   {
    "duration": -1131,
    "start_time": "2021-11-27T18:51:53.830Z"
   },
   {
    "duration": -1131,
    "start_time": "2021-11-27T18:51:53.831Z"
   },
   {
    "duration": -1170,
    "start_time": "2021-11-27T18:51:53.871Z"
   },
   {
    "duration": -1170,
    "start_time": "2021-11-27T18:51:53.873Z"
   },
   {
    "duration": -1170,
    "start_time": "2021-11-27T18:51:53.874Z"
   },
   {
    "duration": -1169,
    "start_time": "2021-11-27T18:51:53.875Z"
   },
   {
    "duration": -1170,
    "start_time": "2021-11-27T18:51:53.877Z"
   },
   {
    "duration": -1170,
    "start_time": "2021-11-27T18:51:53.879Z"
   },
   {
    "duration": -1180,
    "start_time": "2021-11-27T18:51:53.890Z"
   },
   {
    "duration": 1312,
    "start_time": "2021-11-27T18:52:28.312Z"
   },
   {
    "duration": 510,
    "start_time": "2021-11-27T18:52:29.626Z"
   },
   {
    "duration": 26,
    "start_time": "2021-11-27T18:52:30.139Z"
   },
   {
    "duration": 20,
    "start_time": "2021-11-27T18:52:30.167Z"
   },
   {
    "duration": 10,
    "start_time": "2021-11-27T18:52:30.190Z"
   },
   {
    "duration": 18,
    "start_time": "2021-11-27T18:52:30.201Z"
   },
   {
    "duration": 38,
    "start_time": "2021-11-27T18:52:30.221Z"
   },
   {
    "duration": 31,
    "start_time": "2021-11-27T18:52:30.262Z"
   },
   {
    "duration": 161,
    "start_time": "2021-11-27T18:52:30.296Z"
   },
   {
    "duration": 83,
    "start_time": "2021-11-27T18:52:30.459Z"
   },
   {
    "duration": 63,
    "start_time": "2021-11-27T18:52:30.545Z"
   },
   {
    "duration": 45,
    "start_time": "2021-11-27T18:52:30.610Z"
   },
   {
    "duration": 79,
    "start_time": "2021-11-27T18:52:30.657Z"
   },
   {
    "duration": 3,
    "start_time": "2021-11-27T18:52:30.738Z"
   },
   {
    "duration": 61,
    "start_time": "2021-11-27T18:52:30.743Z"
   },
   {
    "duration": 687,
    "start_time": "2021-11-27T18:52:30.806Z"
   },
   {
    "duration": 30,
    "start_time": "2021-11-27T18:52:31.495Z"
   },
   {
    "duration": 667,
    "start_time": "2021-11-27T18:52:31.527Z"
   },
   {
    "duration": 31,
    "start_time": "2021-11-27T18:52:32.196Z"
   },
   {
    "duration": 797,
    "start_time": "2021-11-27T18:52:32.229Z"
   },
   {
    "duration": 8,
    "start_time": "2021-11-27T18:52:33.028Z"
   },
   {
    "duration": 59,
    "start_time": "2021-11-27T18:52:33.038Z"
   },
   {
    "duration": 819,
    "start_time": "2021-11-27T18:52:33.100Z"
   },
   {
    "duration": 8,
    "start_time": "2021-11-27T18:52:33.922Z"
   },
   {
    "duration": 57431,
    "start_time": "2021-11-27T18:52:33.932Z"
   },
   {
    "duration": 1123,
    "start_time": "2021-11-27T18:53:31.365Z"
   },
   {
    "duration": 5,
    "start_time": "2021-11-27T18:53:32.489Z"
   },
   {
    "duration": 42,
    "start_time": "2021-11-27T18:53:32.495Z"
   },
   {
    "duration": 23,
    "start_time": "2021-11-27T18:53:32.540Z"
   },
   {
    "duration": 325,
    "start_time": "2021-11-27T18:53:32.565Z"
   },
   {
    "duration": 111,
    "start_time": "2021-11-27T18:53:32.968Z"
   },
   {
    "duration": 4,
    "start_time": "2021-11-27T18:53:33.081Z"
   },
   {
    "duration": 45,
    "start_time": "2021-11-27T18:53:33.087Z"
   },
   {
    "duration": 8,
    "start_time": "2021-11-27T18:53:33.134Z"
   },
   {
    "duration": 7,
    "start_time": "2021-11-27T18:53:33.144Z"
   },
   {
    "duration": 29,
    "start_time": "2021-11-27T18:53:33.152Z"
   },
   {
    "duration": 8,
    "start_time": "2021-11-27T18:53:33.183Z"
   },
   {
    "duration": 10,
    "start_time": "2021-11-27T18:53:33.193Z"
   },
   {
    "duration": 14,
    "start_time": "2021-11-27T18:53:33.204Z"
   },
   {
    "duration": 7,
    "start_time": "2021-11-27T18:55:56.603Z"
   },
   {
    "duration": 7,
    "start_time": "2021-11-27T18:55:57.926Z"
   },
   {
    "duration": 7,
    "start_time": "2021-11-27T18:55:59.288Z"
   },
   {
    "duration": 9,
    "start_time": "2021-11-27T18:56:01.100Z"
   },
   {
    "duration": 7,
    "start_time": "2021-11-27T18:56:01.900Z"
   },
   {
    "duration": 7,
    "start_time": "2021-11-27T18:56:02.512Z"
   },
   {
    "duration": 14,
    "start_time": "2021-11-27T18:56:04.429Z"
   },
   {
    "duration": 14,
    "start_time": "2021-11-27T18:56:06.489Z"
   },
   {
    "duration": 14,
    "start_time": "2021-11-27T18:56:09.272Z"
   },
   {
    "duration": 1237,
    "start_time": "2021-11-27T19:00:04.689Z"
   },
   {
    "duration": 411,
    "start_time": "2021-11-27T19:00:05.928Z"
   },
   {
    "duration": 12,
    "start_time": "2021-11-27T19:00:06.342Z"
   },
   {
    "duration": 27,
    "start_time": "2021-11-27T19:00:06.356Z"
   },
   {
    "duration": 9,
    "start_time": "2021-11-27T19:00:06.385Z"
   },
   {
    "duration": 14,
    "start_time": "2021-11-27T19:00:06.396Z"
   },
   {
    "duration": 17,
    "start_time": "2021-11-27T19:00:06.412Z"
   },
   {
    "duration": 37,
    "start_time": "2021-11-27T19:00:06.431Z"
   },
   {
    "duration": 127,
    "start_time": "2021-11-27T19:00:06.472Z"
   },
   {
    "duration": 63,
    "start_time": "2021-11-27T19:00:06.602Z"
   },
   {
    "duration": 41,
    "start_time": "2021-11-27T19:00:06.667Z"
   },
   {
    "duration": 15,
    "start_time": "2021-11-27T19:00:06.710Z"
   },
   {
    "duration": 95,
    "start_time": "2021-11-27T19:00:06.727Z"
   },
   {
    "duration": 3,
    "start_time": "2021-11-27T19:00:06.824Z"
   },
   {
    "duration": 55,
    "start_time": "2021-11-27T19:00:06.828Z"
   },
   {
    "duration": 1088,
    "start_time": "2021-11-27T19:00:06.885Z"
   },
   {
    "duration": 39,
    "start_time": "2021-11-27T19:00:07.976Z"
   },
   {
    "duration": 702,
    "start_time": "2021-11-27T19:00:08.017Z"
   },
   {
    "duration": 49,
    "start_time": "2021-11-27T19:00:08.721Z"
   },
   {
    "duration": 816,
    "start_time": "2021-11-27T19:00:08.773Z"
   },
   {
    "duration": 11,
    "start_time": "2021-11-27T19:00:09.592Z"
   },
   {
    "duration": 68,
    "start_time": "2021-11-27T19:00:09.605Z"
   },
   {
    "duration": 847,
    "start_time": "2021-11-27T19:00:09.677Z"
   },
   {
    "duration": 8,
    "start_time": "2021-11-27T19:00:10.527Z"
   },
   {
    "duration": 66851,
    "start_time": "2021-11-27T19:00:10.537Z"
   },
   {
    "duration": 1018,
    "start_time": "2021-11-27T19:01:17.390Z"
   },
   {
    "duration": 7,
    "start_time": "2021-11-27T19:01:18.413Z"
   },
   {
    "duration": 21,
    "start_time": "2021-11-27T19:01:18.423Z"
   },
   {
    "duration": 29,
    "start_time": "2021-11-27T19:01:18.447Z"
   },
   {
    "duration": 302,
    "start_time": "2021-11-27T19:01:18.479Z"
   },
   {
    "duration": 89,
    "start_time": "2021-11-27T19:01:18.784Z"
   },
   {
    "duration": 6,
    "start_time": "2021-11-27T19:01:18.876Z"
   },
   {
    "duration": 84,
    "start_time": "2021-11-27T19:01:18.887Z"
   },
   {
    "duration": 10,
    "start_time": "2021-11-27T19:01:18.975Z"
   },
   {
    "duration": 22,
    "start_time": "2021-11-27T19:01:18.987Z"
   },
   {
    "duration": 7,
    "start_time": "2021-11-27T19:01:19.012Z"
   },
   {
    "duration": 9,
    "start_time": "2021-11-27T19:01:19.021Z"
   },
   {
    "duration": 10,
    "start_time": "2021-11-27T19:01:19.071Z"
   },
   {
    "duration": 18,
    "start_time": "2021-11-27T19:03:30.558Z"
   },
   {
    "duration": 19,
    "start_time": "2021-11-27T19:07:54.567Z"
   },
   {
    "duration": 653,
    "start_time": "2021-11-27T19:37:38.948Z"
   },
   {
    "duration": 5,
    "start_time": "2021-11-27T19:38:21.876Z"
   },
   {
    "duration": 1193,
    "start_time": "2021-11-27T19:39:31.471Z"
   },
   {
    "duration": 405,
    "start_time": "2021-11-27T19:39:32.668Z"
   },
   {
    "duration": 15,
    "start_time": "2021-11-27T19:39:33.075Z"
   },
   {
    "duration": 30,
    "start_time": "2021-11-27T19:39:33.092Z"
   },
   {
    "duration": 34,
    "start_time": "2021-11-27T19:39:33.124Z"
   },
   {
    "duration": 35,
    "start_time": "2021-11-27T19:39:33.160Z"
   },
   {
    "duration": 10,
    "start_time": "2021-11-27T19:39:33.197Z"
   },
   {
    "duration": 30,
    "start_time": "2021-11-27T19:39:33.210Z"
   },
   {
    "duration": 138,
    "start_time": "2021-11-27T19:39:33.242Z"
   },
   {
    "duration": 64,
    "start_time": "2021-11-27T19:39:33.382Z"
   },
   {
    "duration": 66,
    "start_time": "2021-11-27T19:39:33.449Z"
   },
   {
    "duration": 20,
    "start_time": "2021-11-27T19:39:33.517Z"
   },
   {
    "duration": 75,
    "start_time": "2021-11-27T19:39:33.538Z"
   },
   {
    "duration": 3,
    "start_time": "2021-11-27T19:39:33.615Z"
   },
   {
    "duration": 50,
    "start_time": "2021-11-27T19:39:33.620Z"
   },
   {
    "duration": 1040,
    "start_time": "2021-11-27T19:39:33.672Z"
   },
   {
    "duration": 30,
    "start_time": "2021-11-27T19:39:34.714Z"
   },
   {
    "duration": 685,
    "start_time": "2021-11-27T19:39:34.746Z"
   },
   {
    "duration": 53,
    "start_time": "2021-11-27T19:39:35.433Z"
   },
   {
    "duration": 765,
    "start_time": "2021-11-27T19:39:35.489Z"
   },
   {
    "duration": 11,
    "start_time": "2021-11-27T19:39:36.264Z"
   },
   {
    "duration": 39,
    "start_time": "2021-11-27T19:39:36.278Z"
   },
   {
    "duration": 931,
    "start_time": "2021-11-27T19:39:36.320Z"
   },
   {
    "duration": 14,
    "start_time": "2021-11-27T19:39:37.253Z"
   },
   {
    "duration": 56763,
    "start_time": "2021-11-27T19:39:37.270Z"
   },
   {
    "duration": 1067,
    "start_time": "2021-11-27T19:40:34.035Z"
   },
   {
    "duration": 4,
    "start_time": "2021-11-27T19:40:35.105Z"
   },
   {
    "duration": 19,
    "start_time": "2021-11-27T19:40:35.111Z"
   },
   {
    "duration": 14,
    "start_time": "2021-11-27T19:40:35.133Z"
   },
   {
    "duration": 313,
    "start_time": "2021-11-27T19:40:35.163Z"
   },
   {
    "duration": 115,
    "start_time": "2021-11-27T19:40:35.479Z"
   },
   {
    "duration": 5,
    "start_time": "2021-11-27T19:40:35.666Z"
   },
   {
    "duration": 14,
    "start_time": "2021-11-27T19:40:35.675Z"
   },
   {
    "duration": 8,
    "start_time": "2021-11-27T19:40:35.691Z"
   },
   {
    "duration": 27,
    "start_time": "2021-11-27T19:40:35.700Z"
   },
   {
    "duration": 93,
    "start_time": "2021-11-27T21:39:14.043Z"
   },
   {
    "duration": 147,
    "start_time": "2021-11-27T21:39:30.178Z"
   },
   {
    "duration": 9,
    "start_time": "2021-11-27T21:39:38.804Z"
   },
   {
    "duration": 8379,
    "start_time": "2021-11-27T21:40:31.446Z"
   },
   {
    "duration": 9,
    "start_time": "2021-11-27T21:41:55.246Z"
   },
   {
    "duration": 8412,
    "start_time": "2021-11-27T21:41:57.432Z"
   },
   {
    "duration": 8,
    "start_time": "2021-11-27T21:42:31.722Z"
   },
   {
    "duration": 8440,
    "start_time": "2021-11-27T21:42:32.994Z"
   },
   {
    "duration": 9,
    "start_time": "2021-11-27T21:42:55.035Z"
   },
   {
    "duration": 5301,
    "start_time": "2021-11-27T21:42:55.920Z"
   },
   {
    "duration": 6,
    "start_time": "2021-11-27T21:46:47.089Z"
   },
   {
    "duration": 5408,
    "start_time": "2021-11-27T21:46:47.675Z"
   },
   {
    "duration": 6,
    "start_time": "2021-11-27T21:47:38.340Z"
   },
   {
    "duration": 4129,
    "start_time": "2021-11-27T21:47:40.151Z"
   },
   {
    "duration": 1207,
    "start_time": "2021-11-27T21:51:30.269Z"
   },
   {
    "duration": 387,
    "start_time": "2021-11-27T21:51:31.478Z"
   },
   {
    "duration": 13,
    "start_time": "2021-11-27T21:51:31.867Z"
   },
   {
    "duration": 47,
    "start_time": "2021-11-27T21:51:31.882Z"
   },
   {
    "duration": 29,
    "start_time": "2021-11-27T21:51:31.931Z"
   },
   {
    "duration": 32,
    "start_time": "2021-11-27T21:51:31.961Z"
   },
   {
    "duration": 54,
    "start_time": "2021-11-27T21:51:31.995Z"
   },
   {
    "duration": 50,
    "start_time": "2021-11-27T21:51:32.051Z"
   },
   {
    "duration": 120,
    "start_time": "2021-11-27T21:51:32.103Z"
   },
   {
    "duration": 59,
    "start_time": "2021-11-27T21:51:32.225Z"
   },
   {
    "duration": 41,
    "start_time": "2021-11-27T21:51:32.285Z"
   },
   {
    "duration": 23,
    "start_time": "2021-11-27T21:51:32.328Z"
   },
   {
    "duration": 64,
    "start_time": "2021-11-27T21:51:32.353Z"
   },
   {
    "duration": 3,
    "start_time": "2021-11-27T21:51:32.419Z"
   },
   {
    "duration": 58,
    "start_time": "2021-11-27T21:51:32.423Z"
   },
   {
    "duration": 643,
    "start_time": "2021-11-27T21:51:32.483Z"
   },
   {
    "duration": 49,
    "start_time": "2021-11-27T21:51:33.128Z"
   },
   {
    "duration": 656,
    "start_time": "2021-11-27T21:51:33.179Z"
   },
   {
    "duration": 43,
    "start_time": "2021-11-27T21:51:33.837Z"
   },
   {
    "duration": 843,
    "start_time": "2021-11-27T21:51:33.882Z"
   },
   {
    "duration": 9,
    "start_time": "2021-11-27T21:51:34.726Z"
   },
   {
    "duration": 55,
    "start_time": "2021-11-27T21:51:34.737Z"
   },
   {
    "duration": 803,
    "start_time": "2021-11-27T21:51:34.795Z"
   },
   {
    "duration": 9,
    "start_time": "2021-11-27T21:51:35.601Z"
   },
   {
    "duration": 50866,
    "start_time": "2021-11-27T21:51:35.612Z"
   },
   {
    "duration": 926,
    "start_time": "2021-11-27T21:52:26.480Z"
   },
   {
    "duration": 4,
    "start_time": "2021-11-27T21:52:27.408Z"
   },
   {
    "duration": 47,
    "start_time": "2021-11-27T21:52:27.414Z"
   },
   {
    "duration": 47,
    "start_time": "2021-11-27T21:52:27.463Z"
   },
   {
    "duration": 467,
    "start_time": "2021-11-27T21:52:27.512Z"
   },
   {
    "duration": 83,
    "start_time": "2021-11-27T21:52:27.982Z"
   },
   {
    "duration": 6,
    "start_time": "2021-11-27T21:52:28.068Z"
   },
   {
    "duration": 91,
    "start_time": "2021-11-27T21:52:28.077Z"
   },
   {
    "duration": 21,
    "start_time": "2021-11-27T21:52:28.170Z"
   },
   {
    "duration": 5,
    "start_time": "2021-11-27T21:52:28.193Z"
   },
   {
    "duration": 4184,
    "start_time": "2021-11-27T21:52:28.200Z"
   },
   {
    "duration": 9,
    "start_time": "2021-11-27T21:54:33.806Z"
   },
   {
    "duration": 4143,
    "start_time": "2021-11-27T21:54:36.758Z"
   },
   {
    "duration": 6,
    "start_time": "2021-11-27T22:29:32.940Z"
   },
   {
    "duration": 3993,
    "start_time": "2021-11-27T22:29:35.325Z"
   },
   {
    "duration": 6,
    "start_time": "2021-11-27T22:29:55.077Z"
   },
   {
    "duration": 4077,
    "start_time": "2021-11-27T22:29:57.364Z"
   },
   {
    "duration": 1241,
    "start_time": "2021-11-27T23:00:43.743Z"
   },
   {
    "duration": 402,
    "start_time": "2021-11-27T23:00:44.986Z"
   },
   {
    "duration": 14,
    "start_time": "2021-11-27T23:00:45.391Z"
   },
   {
    "duration": 17,
    "start_time": "2021-11-27T23:00:45.407Z"
   },
   {
    "duration": 35,
    "start_time": "2021-11-27T23:00:45.426Z"
   },
   {
    "duration": 26,
    "start_time": "2021-11-27T23:00:45.463Z"
   },
   {
    "duration": 9,
    "start_time": "2021-11-27T23:00:45.492Z"
   },
   {
    "duration": 20,
    "start_time": "2021-11-27T23:00:45.504Z"
   },
   {
    "duration": 142,
    "start_time": "2021-11-27T23:00:45.527Z"
   },
   {
    "duration": 52,
    "start_time": "2021-11-27T23:00:45.671Z"
   },
   {
    "duration": 49,
    "start_time": "2021-11-27T23:00:45.724Z"
   },
   {
    "duration": 18,
    "start_time": "2021-11-27T23:00:45.775Z"
   },
   {
    "duration": 78,
    "start_time": "2021-11-27T23:00:45.795Z"
   },
   {
    "duration": 3,
    "start_time": "2021-11-27T23:00:45.875Z"
   },
   {
    "duration": 43,
    "start_time": "2021-11-27T23:00:45.879Z"
   },
   {
    "duration": 961,
    "start_time": "2021-11-27T23:00:45.924Z"
   },
   {
    "duration": 40,
    "start_time": "2021-11-27T23:00:46.888Z"
   },
   {
    "duration": 1049,
    "start_time": "2021-11-27T23:00:46.930Z"
   },
   {
    "duration": 39,
    "start_time": "2021-11-27T23:00:47.981Z"
   },
   {
    "duration": 1178,
    "start_time": "2021-11-27T23:00:48.022Z"
   },
   {
    "duration": 12,
    "start_time": "2021-11-27T23:00:49.202Z"
   },
   {
    "duration": 62,
    "start_time": "2021-11-27T23:00:49.216Z"
   },
   {
    "duration": 1313,
    "start_time": "2021-11-27T23:00:49.282Z"
   },
   {
    "duration": 11,
    "start_time": "2021-11-27T23:00:50.597Z"
   },
   {
    "duration": 68811,
    "start_time": "2021-11-27T23:00:50.611Z"
   },
   {
    "duration": 1073,
    "start_time": "2021-11-27T23:01:59.425Z"
   },
   {
    "duration": 7,
    "start_time": "2021-11-27T23:02:00.500Z"
   },
   {
    "duration": 41,
    "start_time": "2021-11-27T23:02:00.509Z"
   },
   {
    "duration": 76,
    "start_time": "2021-11-27T23:02:00.553Z"
   },
   {
    "duration": 448,
    "start_time": "2021-11-27T23:02:00.631Z"
   },
   {
    "duration": 84,
    "start_time": "2021-11-27T23:02:01.081Z"
   },
   {
    "duration": 97,
    "start_time": "2021-11-27T23:02:01.168Z"
   },
   {
    "duration": 72,
    "start_time": "2021-11-27T23:02:01.268Z"
   },
   {
    "duration": 115,
    "start_time": "2021-11-27T23:02:01.342Z"
   },
   {
    "duration": 19,
    "start_time": "2021-11-27T23:02:01.459Z"
   },
   {
    "duration": 4116,
    "start_time": "2021-11-27T23:02:01.480Z"
   },
   {
    "duration": 1156,
    "start_time": "2021-11-27T23:19:46.623Z"
   },
   {
    "duration": 369,
    "start_time": "2021-11-27T23:19:47.781Z"
   },
   {
    "duration": 15,
    "start_time": "2021-11-27T23:19:48.323Z"
   },
   {
    "duration": 12,
    "start_time": "2021-11-27T23:19:48.835Z"
   },
   {
    "duration": 13,
    "start_time": "2021-11-27T23:19:50.651Z"
   },
   {
    "duration": 16,
    "start_time": "2021-11-27T23:19:51.105Z"
   },
   {
    "duration": 14,
    "start_time": "2021-11-27T23:19:51.780Z"
   },
   {
    "duration": 18,
    "start_time": "2021-11-27T23:19:52.299Z"
   },
   {
    "duration": 112,
    "start_time": "2021-11-27T23:20:22.906Z"
   },
   {
    "duration": 46,
    "start_time": "2021-11-27T23:20:24.886Z"
   },
   {
    "duration": 27,
    "start_time": "2021-11-27T23:20:26.167Z"
   },
   {
    "duration": 24,
    "start_time": "2021-11-27T23:20:26.812Z"
   },
   {
    "duration": 61,
    "start_time": "2021-11-27T23:20:27.226Z"
   },
   {
    "duration": 3,
    "start_time": "2021-11-27T23:20:27.766Z"
   },
   {
    "duration": 32,
    "start_time": "2021-11-27T23:20:28.132Z"
   },
   {
    "duration": 674,
    "start_time": "2021-11-27T23:20:28.308Z"
   },
   {
    "duration": 32,
    "start_time": "2021-11-27T23:20:29.264Z"
   },
   {
    "duration": 682,
    "start_time": "2021-11-27T23:20:29.483Z"
   },
   {
    "duration": 42,
    "start_time": "2021-11-27T23:20:30.401Z"
   },
   {
    "duration": 768,
    "start_time": "2021-11-27T23:20:30.635Z"
   },
   {
    "duration": 8,
    "start_time": "2021-11-27T23:20:31.405Z"
   },
   {
    "duration": 32,
    "start_time": "2021-11-27T23:20:31.933Z"
   },
   {
    "duration": 834,
    "start_time": "2021-11-27T23:20:32.141Z"
   },
   {
    "duration": 21,
    "start_time": "2021-11-27T23:20:32.977Z"
   },
   {
    "duration": 50002,
    "start_time": "2021-11-27T23:20:33.549Z"
   },
   {
    "duration": 1079,
    "start_time": "2021-11-27T23:21:23.553Z"
   },
   {
    "duration": 6,
    "start_time": "2021-11-27T23:24:59.357Z"
   },
   {
    "duration": 14,
    "start_time": "2021-11-27T23:25:00.025Z"
   },
   {
    "duration": 13,
    "start_time": "2021-11-27T23:25:00.807Z"
   },
   {
    "duration": 296,
    "start_time": "2021-11-27T23:25:01.702Z"
   },
   {
    "duration": 3,
    "start_time": "2021-11-27T23:26:43.529Z"
   },
   {
    "duration": 4,
    "start_time": "2021-11-27T23:26:44.254Z"
   },
   {
    "duration": 4,
    "start_time": "2021-11-27T23:31:17.161Z"
   },
   {
    "duration": 15,
    "start_time": "2021-11-27T23:31:18.868Z"
   },
   {
    "duration": 6,
    "start_time": "2021-11-27T23:31:20.731Z"
   },
   {
    "duration": 4132,
    "start_time": "2021-11-27T23:31:21.221Z"
   }
  ],
  "kernelspec": {
   "display_name": "Python 3",
   "language": "python",
   "name": "python3"
  },
  "language_info": {
   "codemirror_mode": {
    "name": "ipython",
    "version": 3
   },
   "file_extension": ".py",
   "mimetype": "text/x-python",
   "name": "python",
   "nbconvert_exporter": "python",
   "pygments_lexer": "ipython3",
   "version": "3.7.7"
  },
  "toc": {
   "base_numbering": 1,
   "nav_menu": {},
   "number_sections": false,
   "sideBar": true,
   "skip_h1_title": false,
   "title_cell": "Table of Contents",
   "title_sidebar": "Contents",
   "toc_cell": false,
   "toc_position": {},
   "toc_section_display": true,
   "toc_window_display": true
  }
 },
 "nbformat": 4,
 "nbformat_minor": 2
}
