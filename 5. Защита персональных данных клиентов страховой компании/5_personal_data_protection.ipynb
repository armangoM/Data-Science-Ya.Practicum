{
 "cells": [
  {
   "cell_type": "markdown",
   "metadata": {
    "toc": true
   },
   "source": [
    "<h1>Содержание<span class=\"tocSkip\"></span></h1>\n",
    "<div class=\"toc\"><ul class=\"toc-item\"><li><span><a href=\"#Защита-персональных-данных-клиентов\" data-toc-modified-id=\"Защита-персональных-данных-клиентов-1\">Защита персональных данных клиентов</a></span><ul class=\"toc-item\"><li><span><a href=\"#Загрузка-данных\" data-toc-modified-id=\"Загрузка-данных-1.1\">Загрузка данных</a></span><ul class=\"toc-item\"><li><span><a href=\"#Переименование-столбцов\" data-toc-modified-id=\"Переименование-столбцов-1.1.1\">Переименование столбцов</a></span></li><li><span><a href=\"#Удаление-дубликатов\" data-toc-modified-id=\"Удаление-дубликатов-1.1.2\">Удаление дубликатов</a></span></li><li><span><a href=\"#Анализ-признаков\" data-toc-modified-id=\"Анализ-признаков-1.1.3\">Анализ признаков</a></span></li><li><span><a href=\"#Вывод\" data-toc-modified-id=\"Вывод-1.1.4\">Вывод</a></span></li></ul></li><li><span><a href=\"#Умножение-матриц\" data-toc-modified-id=\"Умножение-матриц-1.2\">Умножение матриц</a></span></li><li><span><a href=\"#Алгоритм-преобразования\" data-toc-modified-id=\"Алгоритм-преобразования-1.3\">Алгоритм преобразования</a></span></li><li><span><a href=\"#Проверка-алгоритма\" data-toc-modified-id=\"Проверка-алгоритма-1.4\">Проверка алгоритма</a></span></li><li><span><a href=\"#Вывод\" data-toc-modified-id=\"Вывод-1.5\">Вывод</a></span></li><li><span><a href=\"#Чек-лист-проверки\" data-toc-modified-id=\"Чек-лист-проверки-1.6\">Чек-лист проверки</a></span></li></ul></li></ul></div>"
   ]
  },
  {
   "cell_type": "markdown",
   "metadata": {},
   "source": [
    "# Защита персональных данных клиентов"
   ]
  },
  {
   "cell_type": "markdown",
   "metadata": {},
   "source": [
    "Необходимо защитить данные клиентов страховой компании. Требуется разработать такой метод преобразования данных, чтобы по ним было сложно восстановить персональную информацию, и обосновать корректность его работы.\n",
    "\n",
    "Нужно защитить данные так, чтобы при преобразовании качество моделей машинного обучения не ухудшилось. "
   ]
  },
  {
   "cell_type": "markdown",
   "metadata": {},
   "source": [
    "## Загрузка данных"
   ]
  },
  {
   "cell_type": "markdown",
   "metadata": {},
   "source": [
    "Импорт библиотек, которые потребуются для выполнения исследования:"
   ]
  },
  {
   "cell_type": "code",
   "execution_count": 1,
   "metadata": {},
   "outputs": [],
   "source": [
    "import pandas as pd\n",
    "import matplotlib.pyplot as plt\n",
    "import seaborn as sns\n",
    "import numpy as np\n",
    "from sklearn.preprocessing import StandardScaler\n",
    "from sklearn.linear_model import LinearRegression\n",
    "from sklearn.metrics import r2_score \n",
    "import warnings\n",
    "warnings.filterwarnings('ignore')"
   ]
  },
  {
   "cell_type": "markdown",
   "metadata": {},
   "source": [
    "Загрузка датасета:"
   ]
  },
  {
   "cell_type": "code",
   "execution_count": 2,
   "metadata": {},
   "outputs": [],
   "source": [
    "insurance = pd.read_csv('/datasets/insurance.csv')"
   ]
  },
  {
   "cell_type": "markdown",
   "metadata": {},
   "source": [
    "Получение данных о первых пяти строках таблицы **insurance**:"
   ]
  },
  {
   "cell_type": "code",
   "execution_count": 3,
   "metadata": {},
   "outputs": [
    {
     "data": {
      "text/html": [
       "<div>\n",
       "<style scoped>\n",
       "    .dataframe tbody tr th:only-of-type {\n",
       "        vertical-align: middle;\n",
       "    }\n",
       "\n",
       "    .dataframe tbody tr th {\n",
       "        vertical-align: top;\n",
       "    }\n",
       "\n",
       "    .dataframe thead th {\n",
       "        text-align: right;\n",
       "    }\n",
       "</style>\n",
       "<table border=\"1\" class=\"dataframe\">\n",
       "  <thead>\n",
       "    <tr style=\"text-align: right;\">\n",
       "      <th></th>\n",
       "      <th>Пол</th>\n",
       "      <th>Возраст</th>\n",
       "      <th>Зарплата</th>\n",
       "      <th>Члены семьи</th>\n",
       "      <th>Страховые выплаты</th>\n",
       "    </tr>\n",
       "  </thead>\n",
       "  <tbody>\n",
       "    <tr>\n",
       "      <td>0</td>\n",
       "      <td>1</td>\n",
       "      <td>41.0</td>\n",
       "      <td>49600.0</td>\n",
       "      <td>1</td>\n",
       "      <td>0</td>\n",
       "    </tr>\n",
       "    <tr>\n",
       "      <td>1</td>\n",
       "      <td>0</td>\n",
       "      <td>46.0</td>\n",
       "      <td>38000.0</td>\n",
       "      <td>1</td>\n",
       "      <td>1</td>\n",
       "    </tr>\n",
       "    <tr>\n",
       "      <td>2</td>\n",
       "      <td>0</td>\n",
       "      <td>29.0</td>\n",
       "      <td>21000.0</td>\n",
       "      <td>0</td>\n",
       "      <td>0</td>\n",
       "    </tr>\n",
       "    <tr>\n",
       "      <td>3</td>\n",
       "      <td>0</td>\n",
       "      <td>21.0</td>\n",
       "      <td>41700.0</td>\n",
       "      <td>2</td>\n",
       "      <td>0</td>\n",
       "    </tr>\n",
       "    <tr>\n",
       "      <td>4</td>\n",
       "      <td>1</td>\n",
       "      <td>28.0</td>\n",
       "      <td>26100.0</td>\n",
       "      <td>0</td>\n",
       "      <td>0</td>\n",
       "    </tr>\n",
       "  </tbody>\n",
       "</table>\n",
       "</div>"
      ],
      "text/plain": [
       "   Пол  Возраст  Зарплата  Члены семьи  Страховые выплаты\n",
       "0    1     41.0   49600.0            1                  0\n",
       "1    0     46.0   38000.0            1                  1\n",
       "2    0     29.0   21000.0            0                  0\n",
       "3    0     21.0   41700.0            2                  0\n",
       "4    1     28.0   26100.0            0                  0"
      ]
     },
     "execution_count": 3,
     "metadata": {},
     "output_type": "execute_result"
    }
   ],
   "source": [
    "insurance.head()"
   ]
  },
  {
   "cell_type": "markdown",
   "metadata": {},
   "source": [
    "Общая информация о данных таблицы **insurance**:"
   ]
  },
  {
   "cell_type": "code",
   "execution_count": 4,
   "metadata": {},
   "outputs": [
    {
     "name": "stdout",
     "output_type": "stream",
     "text": [
      "<class 'pandas.core.frame.DataFrame'>\n",
      "RangeIndex: 5000 entries, 0 to 4999\n",
      "Data columns (total 5 columns):\n",
      "Пол                  5000 non-null int64\n",
      "Возраст              5000 non-null float64\n",
      "Зарплата             5000 non-null float64\n",
      "Члены семьи          5000 non-null int64\n",
      "Страховые выплаты    5000 non-null int64\n",
      "dtypes: float64(2), int64(3)\n",
      "memory usage: 195.4 KB\n"
     ]
    }
   ],
   "source": [
    "insurance.info()"
   ]
  },
  {
   "cell_type": "markdown",
   "metadata": {},
   "source": [
    "В датафрейме **insurance** представлена информация о характеристиках клиентов страховой компании: \n",
    "\n",
    "- **Пол** — пол клиента;\n",
    "- **Возраст** — возраст;\n",
    "- **Зарплата** — размер зарплаты;\n",
    "- **Члены семьи** — количество человек в семьег;\n",
    "- **Страховые выплаты** — количество страховых выплат клиенту за последние 5 лет.\n",
    "\n",
    "Общее количество объектов - 5 000. Пропусков нет. Все данные числового вида (целочисленныого или вещественного типа). \n",
    "\n",
    "---"
   ]
  },
  {
   "cell_type": "markdown",
   "metadata": {},
   "source": [
    "Подготовим исходные данные для дальнейшего исседования и построения прогноза."
   ]
  },
  {
   "cell_type": "markdown",
   "metadata": {},
   "source": [
    "### Переименование столбцов"
   ]
  },
  {
   "cell_type": "markdown",
   "metadata": {},
   "source": [
    "Переименуем столбцы в соответствии с общепринятой практикой:"
   ]
  },
  {
   "cell_type": "code",
   "execution_count": 5,
   "metadata": {},
   "outputs": [],
   "source": [
    "insurance.columns = ['gender', 'age', 'salary', 'n_family_members', 'payments']"
   ]
  },
  {
   "cell_type": "markdown",
   "metadata": {},
   "source": [
    "### Удаление дубликатов"
   ]
  },
  {
   "cell_type": "code",
   "execution_count": 6,
   "metadata": {},
   "outputs": [
    {
     "data": {
      "text/plain": [
       "153"
      ]
     },
     "execution_count": 6,
     "metadata": {},
     "output_type": "execute_result"
    }
   ],
   "source": [
    "insurance.duplicated().sum()"
   ]
  },
  {
   "cell_type": "markdown",
   "metadata": {},
   "source": [
    "В данных встречаются полностью одинаковые строки, однако удалять их бессмысленно, поскольку нет ни одного столбца с уникальным идентификатором клиента. В таблицу могли попасть клиенты, по случайности обладающие одинаковым набором характеристик."
   ]
  },
  {
   "cell_type": "markdown",
   "metadata": {},
   "source": [
    "### Анализ признаков"
   ]
  },
  {
   "cell_type": "markdown",
   "metadata": {},
   "source": [
    "Теперь рассмотрим отдельно каждый столбец на предмет наличия ошибок в данных, аномалий и пр. Начнем с целевой переменной - количества страховых выплат клиенту за последние 5 лет."
   ]
  },
  {
   "cell_type": "markdown",
   "metadata": {},
   "source": [
    "**payments - количество страховых выплат клиенту за последние 5 лет**"
   ]
  },
  {
   "cell_type": "code",
   "execution_count": 7,
   "metadata": {
    "scrolled": true
   },
   "outputs": [
    {
     "data": {
      "text/plain": [
       "0    4436\n",
       "1     423\n",
       "2     115\n",
       "3      18\n",
       "4       7\n",
       "5       1\n",
       "Name: payments, dtype: int64"
      ]
     },
     "metadata": {},
     "output_type": "display_data"
    },
    {
     "data": {
      "text/plain": [
       "0    0.8872\n",
       "1    0.0846\n",
       "2    0.0230\n",
       "3    0.0036\n",
       "4    0.0014\n",
       "5    0.0002\n",
       "Name: payments, dtype: float64"
      ]
     },
     "metadata": {},
     "output_type": "display_data"
    }
   ],
   "source": [
    "display(insurance['payments'].value_counts())\n",
    "display(insurance['payments'].value_counts(normalize = True))"
   ]
  },
  {
   "cell_type": "markdown",
   "metadata": {},
   "source": [
    "Выплаты получило 11,3% клиентов, причем более одной - всего 2,8%"
   ]
  },
  {
   "cell_type": "code",
   "execution_count": 8,
   "metadata": {},
   "outputs": [],
   "source": [
    "#вспомогательная функция для отображения процентов на графике\n",
    "#принимает на вход название графика, сдвиг надписи по горизонтали и по вертикали\n",
    "\n",
    "def show_percent(figure, shift, height):\n",
    "    totals = []\n",
    "    for i in figure.patches:\n",
    "        totals.append(i.get_height())\n",
    "    \n",
    "    total = sum(totals)\n",
    "\n",
    "    for i in figure.patches:\n",
    "        figure.text(i.get_x() + shift, i.get_height() + height, \\\n",
    "            str(round((i.get_height() / total) * 100, 2)) + '%', fontsize=12,\n",
    "                color = 'black')"
   ]
  },
  {
   "cell_type": "code",
   "execution_count": 9,
   "metadata": {},
   "outputs": [],
   "source": [
    "pay = insurance.groupby(by = 'payments').agg({'salary' : 'count'}).reset_index()\\\n",
    "                         .rename(columns = {'salary':'n'}).sort_values(by = 'n', ascending = False)"
   ]
  },
  {
   "cell_type": "code",
   "execution_count": 10,
   "metadata": {},
   "outputs": [
    {
     "data": {
      "image/png": "[encoded data removed]",
      "text/plain": [
       "<Figure size 504x360 with 1 Axes>"
      ]
     },
     "metadata": {
      "needs_background": "light"
     },
     "output_type": "display_data"
    }
   ],
   "source": [
    "plt.figure(figsize=(7, 5))\n",
    "sns.set_style(\"darkgrid\")\n",
    "fig = sns.barplot(x = \"payments\", y = \"n\", data = pay);\n",
    "fig.set_title(\"Количество выплат за последние 5 лет\", fontsize = 14)\n",
    "fig.set_ylabel(\"Количество клиентов\", fontsize = 10)\n",
    "fig.set_xlabel(\"\")\n",
    "show_percent(fig, 0.15, 20)"
   ]
  },
  {
   "cell_type": "markdown",
   "metadata": {},
   "source": [
    "**gender — пол**"
   ]
  },
  {
   "cell_type": "code",
   "execution_count": 11,
   "metadata": {
    "scrolled": true
   },
   "outputs": [
    {
     "data": {
      "text/plain": [
       "0    0.501\n",
       "1    0.499\n",
       "Name: gender, dtype: float64"
      ]
     },
     "execution_count": 11,
     "metadata": {},
     "output_type": "execute_result"
    }
   ],
   "source": [
    "insurance['gender'].value_counts(normalize = True)"
   ]
  },
  {
   "cell_type": "markdown",
   "metadata": {},
   "source": [
    "В выборке практически поровну мужчин и женщин. В условии нет уточнения, как (0 или 1) закодированы мужчины, а как - женщины."
   ]
  },
  {
   "cell_type": "markdown",
   "metadata": {},
   "source": [
    "Для наглядности разделим датасет на две выборки. В первую включим клиентов, по которым не было совершено ни одной выплаты, во вторую - всех остальных (для рассмотрения в первом приближении дробить клиентов на большее число групп нет смысла - количество клиентов с двумя и более выплатами крайне мало)."
   ]
  },
  {
   "cell_type": "code",
   "execution_count": 12,
   "metadata": {},
   "outputs": [],
   "source": [
    "pay_no = insurance.loc[insurance['payments'] == 0]\n",
    "pay_yes = insurance.loc[insurance['payments'] > 0]"
   ]
  },
  {
   "cell_type": "code",
   "execution_count": 13,
   "metadata": {},
   "outputs": [],
   "source": [
    "gend_py = pay_yes.groupby(by = 'gender').agg({'salary' : 'count'}).reset_index()\\\n",
    "                         .rename(columns = {'salary':'n'})\n",
    "gend_pn = pay_no.groupby(by = 'gender').agg({'salary' : 'count'}).reset_index()\\\n",
    "                         .rename(columns = {'salary':'n'})"
   ]
  },
  {
   "cell_type": "code",
   "execution_count": 14,
   "metadata": {},
   "outputs": [
    {
     "data": {
      "image/png": "[encoded data removed]",
      "text/plain": [
       "<Figure size 576x360 with 2 Axes>"
      ]
     },
     "metadata": {},
     "output_type": "display_data"
    }
   ],
   "source": [
    "fig, axes = plt.subplots(1, 2, figsize=(8, 5))\n",
    "\n",
    "fig.suptitle('Распределение по полу', fontsize = 20)\n",
    "\n",
    "fig1 = sns.barplot(ax = axes[0], x = \"gender\", y = \"n\", data = gend_py) \n",
    "fig1.set_title(\"Группа с выплатами\", fontsize = 14)\n",
    "fig1.set_ylabel(\"Количество клиентов\", fontsize = 10)\n",
    "fig1.set_xlabel(\"Пол\")\n",
    "show_percent(fig1, 0.25, 1.5)\n",
    "\n",
    "fig2 = sns.barplot(ax = axes[1], x = \"gender\", y = \"n\", data = gend_pn) \n",
    "fig2.set_title(\"Группа без выплат\", fontsize = 14)\n",
    "fig2.set_ylabel(\"Количество клиентов\", fontsize = 10)\n",
    "fig2.set_xlabel(\"Пол\")\n",
    "show_percent(fig2, 0.25, 20)\n",
    "\n",
    "plt.show()"
   ]
  },
  {
   "cell_type": "markdown",
   "metadata": {},
   "source": [
    "Существенной разницы между группами по распределению пола нет. "
   ]
  },
  {
   "cell_type": "markdown",
   "metadata": {},
   "source": [
    "**age — возраст**"
   ]
  },
  {
   "cell_type": "code",
   "execution_count": 15,
   "metadata": {
    "scrolled": false
   },
   "outputs": [
    {
     "data": {
      "text/plain": [
       "count    5000.000000\n",
       "mean       30.952800\n",
       "std         8.440807\n",
       "min        18.000000\n",
       "25%        24.000000\n",
       "50%        30.000000\n",
       "75%        37.000000\n",
       "max        65.000000\n",
       "Name: age, dtype: float64"
      ]
     },
     "execution_count": 15,
     "metadata": {},
     "output_type": "execute_result"
    }
   ],
   "source": [
    "insurance['age'].describe()"
   ]
  },
  {
   "cell_type": "markdown",
   "metadata": {},
   "source": [
    "Самому молодому клиенту 18 лет, а самому возрастному - 65. Средний возраст составляет около 31 года (медиана - 30 лет), стандартное отклонение - 8,44 года.\n",
    "\n",
    "Построим график распределения:"
   ]
  },
  {
   "cell_type": "code",
   "execution_count": 16,
   "metadata": {},
   "outputs": [
    {
     "data": {
      "image/png": "[encoded data removed]",
      "text/plain": [
       "<Figure size 504x360 with 1 Axes>"
      ]
     },
     "metadata": {},
     "output_type": "display_data"
    }
   ],
   "source": [
    "plt.figure(figsize=(7, 5))\n",
    "fig = sns.distplot(insurance['age'], kde = False, bins = np.linspace(start = 0, stop = 100, num = 50))\n",
    "fig.set_title(\"Распределение возраста клиентов\", fontsize = 15)\n",
    "fig.set_xlabel(\"Возраст\", fontsize = 12)\n",
    "fig.set_ylabel(\"Количество клиентов\", fontsize = 12)\n",
    "\n",
    "plt.show()"
   ]
  },
  {
   "cell_type": "markdown",
   "metadata": {},
   "source": [
    "Распределение существенно отличается от нормального. Основная часть клиентов - молодые люди от 20 до 40 лет."
   ]
  },
  {
   "cell_type": "markdown",
   "metadata": {},
   "source": [
    "Среднее значение признака **age** на 17,6 лет выше в группе, где клиенты получали страховые выплаты:"
   ]
  },
  {
   "cell_type": "code",
   "execution_count": 17,
   "metadata": {
    "scrolled": true
   },
   "outputs": [
    {
     "data": {
      "text/plain": [
       "46.543"
      ]
     },
     "execution_count": 17,
     "metadata": {},
     "output_type": "execute_result"
    }
   ],
   "source": [
    "pay_yes['age'].mean().round(3)"
   ]
  },
  {
   "cell_type": "code",
   "execution_count": 18,
   "metadata": {},
   "outputs": [
    {
     "data": {
      "text/plain": [
       "28.971"
      ]
     },
     "execution_count": 18,
     "metadata": {},
     "output_type": "execute_result"
    }
   ],
   "source": [
    "pay_no['age'].mean().round(3)"
   ]
  },
  {
   "cell_type": "code",
   "execution_count": 19,
   "metadata": {},
   "outputs": [
    {
     "data": {
      "image/png": "[encoded data removed]",
      "text/plain": [
       "<Figure size 576x360 with 1 Axes>"
      ]
     },
     "metadata": {},
     "output_type": "display_data"
    }
   ],
   "source": [
    "plt.figure(figsize=(8, 5))\n",
    "fig1 = sns.distplot(pay_yes['age'], kde = True, \\\n",
    "                    bins = np.linspace(start = 0, stop = 100, num = 100), label = 'группа с выплатами') \n",
    "fig2 = sns.distplot(pay_no['age'], kde = True, \\\n",
    "                    bins = np.linspace(start = 0, stop = 100, num = 100), label = 'группа без выплат')  \n",
    "fig2.set_title(\"Распределение возраста клиентов\", fontsize = 14)\n",
    "fig2.set_ylabel(\"Доля\", fontsize = 10)\n",
    "fig2.set_xlabel(\"Возраст\")\n",
    "plt.legend()\n",
    "plt.show()"
   ]
  },
  {
   "cell_type": "markdown",
   "metadata": {},
   "source": [
    "Группы по возрасту практически не пересекаются. Страховые возмещения получали преимущественно люди от 43 до 62 лет. И совсем незначительная доля клиентов старше 40 лет не получала выплат в принципе."
   ]
  },
  {
   "cell_type": "markdown",
   "metadata": {},
   "source": [
    "**salary — размер зарплаты**"
   ]
  },
  {
   "cell_type": "code",
   "execution_count": 20,
   "metadata": {
    "scrolled": true
   },
   "outputs": [
    {
     "data": {
      "text/plain": [
       "count     5000.000000\n",
       "mean     39916.360000\n",
       "std       9900.083569\n",
       "min       5300.000000\n",
       "25%      33300.000000\n",
       "50%      40200.000000\n",
       "75%      46600.000000\n",
       "max      79000.000000\n",
       "Name: salary, dtype: float64"
      ]
     },
     "execution_count": 20,
     "metadata": {},
     "output_type": "execute_result"
    }
   ],
   "source": [
    "insurance['salary'].describe()"
   ]
  },
  {
   "cell_type": "markdown",
   "metadata": {},
   "source": [
    "Минимальное значение зарплаты - 5 300 у.е., максимальное - 79 000. Средняя зарплата оставляет 39 916 у.е и практически совпадает с медианной - 40 200 у.е. Все значения выглядят правдоподобно."
   ]
  },
  {
   "cell_type": "markdown",
   "metadata": {},
   "source": [
    "Построим график распределения:"
   ]
  },
  {
   "cell_type": "code",
   "execution_count": 21,
   "metadata": {},
   "outputs": [
    {
     "data": {
      "image/png": "[encoded data removed]",
      "text/plain": [
       "<Figure size 576x360 with 1 Axes>"
      ]
     },
     "metadata": {},
     "output_type": "display_data"
    }
   ],
   "source": [
    "plt.figure(figsize=(8, 5))\n",
    "sns.set_style(\"darkgrid\")\n",
    "fig = sns.distplot(insurance['salary'], kde = False, bins = np.linspace(start = 0, stop = 90000, num = 45))\n",
    "fig.set_title(\"Распределение заработной платы\", fontsize = 15)\n",
    "fig.set_xlabel(\"Зарплата\", fontsize = 12)\n",
    "fig.set_ylabel(\"Количество клиентов\", fontsize = 12)\n",
    "\n",
    "plt.show()"
   ]
  },
  {
   "cell_type": "markdown",
   "metadata": {},
   "source": [
    "Распределение зарплаты выглядит как нормальное."
   ]
  },
  {
   "cell_type": "markdown",
   "metadata": {},
   "source": [
    "Среднее значение признака **salary** почти одинаково для групп с выплатами и без:"
   ]
  },
  {
   "cell_type": "code",
   "execution_count": 22,
   "metadata": {
    "scrolled": true
   },
   "outputs": [
    {
     "data": {
      "text/plain": [
       "39850.355"
      ]
     },
     "execution_count": 22,
     "metadata": {},
     "output_type": "execute_result"
    }
   ],
   "source": [
    "pay_yes['salary'].mean().round(3)"
   ]
  },
  {
   "cell_type": "code",
   "execution_count": 23,
   "metadata": {},
   "outputs": [
    {
     "data": {
      "text/plain": [
       "39924.752"
      ]
     },
     "execution_count": 23,
     "metadata": {},
     "output_type": "execute_result"
    }
   ],
   "source": [
    "pay_no['salary'].mean().round(3)"
   ]
  },
  {
   "cell_type": "code",
   "execution_count": 24,
   "metadata": {},
   "outputs": [
    {
     "data": {
      "image/png": "[encoded data removed]",
      "text/plain": [
       "<Figure size 576x360 with 1 Axes>"
      ]
     },
     "metadata": {},
     "output_type": "display_data"
    }
   ],
   "source": [
    "plt.figure(figsize=(8, 5))\n",
    "fig1 = sns.distplot(pay_yes['salary'], kde = True, \\\n",
    "                    bins = np.linspace(start = 0, stop = 90000, num = 20), label = 'группа с выплатами') \n",
    "fig2 = sns.distplot(pay_no['salary'], kde = True, \\\n",
    "                    bins = np.linspace(start = 0, stop = 90000, num = 20), label = 'группа без выплат')  \n",
    "fig2.set_title(\"Распределение заработной платы\", fontsize = 14)\n",
    "fig2.set_ylabel(\"Доля\", fontsize = 10)\n",
    "fig2.set_xlabel(\"Зарплата\")\n",
    "plt.legend()\n",
    "plt.show()"
   ]
  },
  {
   "cell_type": "markdown",
   "metadata": {},
   "source": [
    "Распределения выглядят практически идентично, существенной разницы между группами нет."
   ]
  },
  {
   "cell_type": "markdown",
   "metadata": {},
   "source": [
    "**n_family_members — количество членов семьи застрахованного**"
   ]
  },
  {
   "cell_type": "code",
   "execution_count": 25,
   "metadata": {
    "scrolled": false
   },
   "outputs": [
    {
     "data": {
      "text/plain": [
       "count    5000.000000\n",
       "mean        1.194200\n",
       "std         1.091387\n",
       "min         0.000000\n",
       "25%         0.000000\n",
       "50%         1.000000\n",
       "75%         2.000000\n",
       "max         6.000000\n",
       "Name: n_family_members, dtype: float64"
      ]
     },
     "execution_count": 25,
     "metadata": {},
     "output_type": "execute_result"
    }
   ],
   "source": [
    "insurance['n_family_members'].describe()"
   ]
  },
  {
   "cell_type": "markdown",
   "metadata": {},
   "source": [
    "Минимальное количество членов семьи застрахованного - 0 (вероятно, данные приведены без учета самого клиента), максимальное - 6, среднее - 1,2, медианное - 1. Стандартное отклонение - 1,09.\n",
    "\n",
    "Построим график распределения:"
   ]
  },
  {
   "cell_type": "code",
   "execution_count": 26,
   "metadata": {},
   "outputs": [],
   "source": [
    "n_fam = insurance.groupby(by = 'n_family_members').agg({'salary' : 'count'}).reset_index()\\\n",
    "                         .rename(columns = {'salary':'n'}).sort_values(by = 'n', ascending = False)"
   ]
  },
  {
   "cell_type": "code",
   "execution_count": 27,
   "metadata": {},
   "outputs": [
    {
     "data": {
      "image/png": "[encoded data removed]",
      "text/plain": [
       "<Figure size 504x360 with 1 Axes>"
      ]
     },
     "metadata": {},
     "output_type": "display_data"
    }
   ],
   "source": [
    "plt.figure(figsize=(7, 5))\n",
    "fig = sns.barplot(x = \"n_family_members\", y = \"n\", data = n_fam) \n",
    "fig.set_title(\"Количество членов семьи\", fontsize = 14)\n",
    "fig.set_ylabel(\"Количество клиентов\", fontsize = 10)\n",
    "fig.set_xlabel(\"\")\n",
    "show_percent(fig, 0.05, 10)"
   ]
  },
  {
   "cell_type": "markdown",
   "metadata": {},
   "source": [
    "30,26% клиентов не имеют семьи, у 36,28% один родственник, у 21,42% - двое, у 8,78% - трое. Доля остальных несущественна. "
   ]
  },
  {
   "cell_type": "markdown",
   "metadata": {},
   "source": [
    "Среднее значение признака **n_family_members** незначительно отличается в пользу группы без выплат:"
   ]
  },
  {
   "cell_type": "code",
   "execution_count": 28,
   "metadata": {},
   "outputs": [
    {
     "data": {
      "text/plain": [
       "1.103"
      ]
     },
     "execution_count": 28,
     "metadata": {},
     "output_type": "execute_result"
    }
   ],
   "source": [
    "pay_yes['n_family_members'].mean().round(3)"
   ]
  },
  {
   "cell_type": "code",
   "execution_count": 29,
   "metadata": {},
   "outputs": [
    {
     "data": {
      "text/plain": [
       "1.206"
      ]
     },
     "execution_count": 29,
     "metadata": {},
     "output_type": "execute_result"
    }
   ],
   "source": [
    "pay_no['n_family_members'].mean().round(3)"
   ]
  },
  {
   "cell_type": "code",
   "execution_count": 30,
   "metadata": {},
   "outputs": [],
   "source": [
    "fam_py = pay_yes.groupby(by = 'n_family_members').agg({'salary' : 'count'}).reset_index()\\\n",
    "                         .rename(columns = {'salary':'n'})\n",
    "fam_pn = pay_no.groupby(by = 'n_family_members').agg({'salary' : 'count'}).reset_index()\\\n",
    "                         .rename(columns = {'salary':'n'})"
   ]
  },
  {
   "cell_type": "code",
   "execution_count": 31,
   "metadata": {},
   "outputs": [
    {
     "data": {
      "image/png": "[encoded data removed]",
      "text/plain": [
       "<Figure size 864x432 with 2 Axes>"
      ]
     },
     "metadata": {},
     "output_type": "display_data"
    }
   ],
   "source": [
    "fig, axes = plt.subplots(1, 2, figsize=(12, 6))\n",
    "\n",
    "fig.suptitle('Количество членов семьи', fontsize = 20)\n",
    "\n",
    "fig1 = sns.barplot(ax = axes[0], x = \"n_family_members\", y = \"n\", data = fam_py) \n",
    "fig1.set_title(\"Группа с выплатами\", fontsize = 14)\n",
    "fig1.set_ylabel(\"Количество клиентов\", fontsize = 10)\n",
    "fig1.set_xlabel(\"\")\n",
    "show_percent(fig1, 0.03, 3)\n",
    "\n",
    "fig2 = sns.barplot(ax = axes[1], x = \"n_family_members\", y = \"n\", data = fam_pn) \n",
    "fig2.set_title(\"Группа без выплат\", fontsize = 14)\n",
    "fig2.set_ylabel(\"Количество клиентов\", fontsize = 10)\n",
    "fig2.set_xlabel(\"\")\n",
    "show_percent(fig2, 0.03, 10)\n",
    "\n",
    "plt.show()"
   ]
  },
  {
   "cell_type": "markdown",
   "metadata": {},
   "source": [
    "Существенной разницы между группами нет."
   ]
  },
  {
   "cell_type": "markdown",
   "metadata": {},
   "source": [
    "**Корреляция признаков**"
   ]
  },
  {
   "cell_type": "markdown",
   "metadata": {},
   "source": [
    "Построим парные графики для признаков, чтобы предположить или опровергнуть их взаимную зависимость:"
   ]
  },
  {
   "cell_type": "code",
   "execution_count": 32,
   "metadata": {},
   "outputs": [
    {
     "data": {
      "image/png": "[encoded data removed]",
      "text/plain": [
       "<Figure size 720x720 with 30 Axes>"
      ]
     },
     "metadata": {},
     "output_type": "display_data"
    }
   ],
   "source": [
    "sns.pairplot(insurance, height = 2)\n",
    "plt.show()"
   ]
  },
  {
   "cell_type": "markdown",
   "metadata": {},
   "source": [
    "Очевидная зависимость наблюдается только у признаков **age** и **payments**, что мы уже выяснили выше. Явной взаимосвязи между нецелевыми признаками нет."
   ]
  },
  {
   "cell_type": "markdown",
   "metadata": {},
   "source": [
    "### Вывод"
   ]
  },
  {
   "cell_type": "markdown",
   "metadata": {},
   "source": [
    "Данные подготовлены к дальнейшему анализу:\n",
    "- переименованы столбцы;\n",
    "- сделана проверка на дубликаты (найдено 153 экземпляра; удалений строк не было, поскольку нет переменной, позволяющей однозначно идентифицировать записи);\n",
    "- пропущенные значения не обнаружены;\n",
    "- проведен исследовательский анализ каждого признака в разрезе целевой переменной:\n",
    "    - аномалий в данных не выявлено;\n",
    "    - обнаружена существенная корреляция между целевой переменной и возрастом клиентов: страховые выплаты получают преимущественно люди от 43 до 62 лет, и только они;\n",
    "    - корреляций между другими парами признаков не выявлено."
   ]
  },
  {
   "cell_type": "markdown",
   "metadata": {},
   "source": [
    "## Умножение матриц"
   ]
  },
  {
   "cell_type": "markdown",
   "metadata": {},
   "source": [
    "Обозначения:\n",
    "\n",
    "- $X$ — матрица признаков (нулевой столбец состоит из единиц)\n",
    "\n",
    "- $y$ — вектор целевого признака\n",
    "\n",
    "- $P$ — матрица, на которую умножаются признаки\n",
    "\n",
    "- $w$ — вектор весов линейной регрессии (нулевой элемент равен сдвигу)"
   ]
  },
  {
   "cell_type": "markdown",
   "metadata": {},
   "source": [
    "Предсказания:\n",
    "\n",
    "$$\n",
    "a = Xw\n",
    "$$\n",
    "\n",
    "Задача обучения:\n",
    "\n",
    "$$\n",
    "w = \\arg\\min_w MSE(Xw, y)\n",
    "$$\n",
    "\n",
    "Формула обучения:\n",
    "\n",
    "$$\n",
    "w = (X^T X)^{-1} X^T y\n",
    "$$"
   ]
  },
  {
   "cell_type": "markdown",
   "metadata": {},
   "source": [
    "**Ответ:** При умножении признаков на обратимую матрицу качество линейной регрессии не изменится. Покажем это, а также установим связь между параметрами в исходной и преобразованной задачах.\n",
    "\n",
    "**Обоснование:** \n",
    "новая задача будет выглядеть следующим образом.\n",
    "\n",
    "Преобразование:\n",
    "\n",
    "$$\n",
    "\\hat a = XP\\hat w\n",
    "$$\n",
    "\n",
    "Задача обучения:\n",
    "\n",
    "$$\n",
    "\\hat w = \\arg\\min_\\hat w MSE(XP\\hat w, y)\n",
    "$$\n",
    "\n",
    "Формула обучения:\n",
    "\n",
    "$$\n",
    "\\hat w = ((XP)^T XP)^{-1} (XP)^T y\n",
    "$$\n",
    "\n",
    "Воспользуемся свойствами обратных и транспонированных матриц:\n",
    "$$\n",
    "(AB)^T = B^TA^T\n",
    "$$\n",
    "\n",
    "$$\n",
    "(AB)^{-1} = B^{-1}A^{-1}\n",
    "$$\n",
    "\n",
    "Поскольку $P$ обратима, то для $P^T$ тоже существует обратная матрица.\n",
    "\n",
    "Преобразуем новый вектор параметров:\n",
    "\n",
    "$$\n",
    "\\hat w = ((XP)^T XP)^{-1} (XP)^T y = (P^TX^TXP)^{-1}P^TX^Ty = P^{-1}(P^TX^TX)^{-1}P^TX^Ty = P^{-1}(X^TX)^{-1}(P^T)^{-1}P^TX^Ty =\n",
    "$$\n",
    "\n",
    "$$\n",
    "= P^{-1}(X^TX)^{-1}X^Ty = P^{-1}w\n",
    "$$\n",
    "\n",
    "Тогда $\\hat a = XP\\hat w = XPP^{-1}w = Xw = a$\n",
    "\n",
    "Следовательно, предсказания $\\hat a$ для новой модели совпадают с предсказаниями $a$ для исходной, а параметры связаны формулой $\\hat w = P^{-1}w$. "
   ]
  },
  {
   "cell_type": "markdown",
   "metadata": {},
   "source": [
    "## Алгоритм преобразования"
   ]
  },
  {
   "cell_type": "markdown",
   "metadata": {},
   "source": [
    "**Алгоритм**\n",
    "\n",
    "1. Умножить матрицу признаков $X_{mxn}$ на случайным образом сгенерированную обратимую матрицу $P_{nxn}$.\n",
    "2. Обучить модель линейной регрессии на новой модели и получить вектор предсказаний."
   ]
  },
  {
   "cell_type": "markdown",
   "metadata": {},
   "source": [
    "**Обоснование**\n",
    "\n",
    "Алгоритм решает поставленную задачу защиты персональных данных клиентов. После умножения на случайную матрицу восстановить информацию о признаках, не зная элементов этой матрицы, будет практически невозможно.\n",
    "\n",
    "Как было показано выше, умножение матрицы признаков на случайную матрицу не изменит предсказаний модели, а следовательно, не ухудшит качество регрессии. Убедимся в этом на рассматриваемом датасете."
   ]
  },
  {
   "cell_type": "markdown",
   "metadata": {},
   "source": [
    "## Проверка алгоритма"
   ]
  },
  {
   "cell_type": "markdown",
   "metadata": {},
   "source": [
    "Целевой признак в рассматриваемой задаче - это показатель количества страховых выплат:"
   ]
  },
  {
   "cell_type": "code",
   "execution_count": 33,
   "metadata": {},
   "outputs": [],
   "source": [
    "target = insurance['payments']\n",
    "features = insurance.drop('payments', axis = 1)"
   ]
  },
  {
   "cell_type": "markdown",
   "metadata": {},
   "source": [
    "Масштабируем количественные признаки:"
   ]
  },
  {
   "cell_type": "code",
   "execution_count": 34,
   "metadata": {},
   "outputs": [],
   "source": [
    "numeric = ['age', 'salary', 'n_family_members']\n",
    "\n",
    "scaler = StandardScaler()\n",
    "scaler.fit(features[numeric]) \n",
    "\n",
    "features[numeric] = scaler.transform(features[numeric])"
   ]
  },
  {
   "cell_type": "markdown",
   "metadata": {},
   "source": [
    "Обучим исходную модель и оценим качество метрикой R2:"
   ]
  },
  {
   "cell_type": "code",
   "execution_count": 35,
   "metadata": {},
   "outputs": [],
   "source": [
    "def lr(feat, targ):\n",
    "\n",
    "    model_lr = LinearRegression() \n",
    "    model_lr.fit(feat, targ)\n",
    "    predictions = model_lr.predict(feat)\n",
    "    r2 = r2_score(targ, predictions).round(5)\n",
    "    print(\"R2:\", r2)"
   ]
  },
  {
   "cell_type": "code",
   "execution_count": 36,
   "metadata": {},
   "outputs": [
    {
     "name": "stdout",
     "output_type": "stream",
     "text": [
      "R2: 0.42495\n"
     ]
    }
   ],
   "source": [
    "lr(features, target)"
   ]
  },
  {
   "cell_type": "markdown",
   "metadata": {},
   "source": [
    "Теперь проделаем те же операции для преобразованных данных. Сначала сгенерируем обратимую матрицу:"
   ]
  },
  {
   "cell_type": "code",
   "execution_count": 37,
   "metadata": {},
   "outputs": [
    {
     "data": {
      "text/plain": [
       "array([[-0.00587283,  0.00049032, -0.00597233,  0.01029506],\n",
       "       [ 0.00951415, -0.00066869,  0.00573091, -0.01115876],\n",
       "       [ 0.00436532, -0.00096824,  0.00478717, -0.00637918],\n",
       "       [-0.00662789,  0.00154856, -0.00298118,  0.00609662]])"
      ]
     },
     "execution_count": 37,
     "metadata": {},
     "output_type": "execute_result"
    }
   ],
   "source": [
    "P = np.linalg.inv(np.random.randint(1000, size = (4, 4)))\n",
    "P"
   ]
  },
  {
   "cell_type": "markdown",
   "metadata": {},
   "source": [
    "Умножим на нее матрицу признаков:"
   ]
  },
  {
   "cell_type": "code",
   "execution_count": 38,
   "metadata": {},
   "outputs": [],
   "source": [
    "features_new = features @ P"
   ]
  },
  {
   "cell_type": "markdown",
   "metadata": {},
   "source": [
    "Рассчитаем R2 для преобразованной модели:"
   ]
  },
  {
   "cell_type": "code",
   "execution_count": 39,
   "metadata": {},
   "outputs": [
    {
     "name": "stdout",
     "output_type": "stream",
     "text": [
      "R2: 0.42495\n"
     ]
    }
   ],
   "source": [
    "lr(features_new, target)"
   ]
  },
  {
   "cell_type": "markdown",
   "metadata": {},
   "source": [
    "Метрики получились одинаковыми для исходной и преобразованной модели, что подтверждает корректную работу предложенного алгоритма."
   ]
  },
  {
   "cell_type": "markdown",
   "metadata": {},
   "source": [
    "## Вывод"
   ]
  },
  {
   "cell_type": "markdown",
   "metadata": {},
   "source": [
    "В работе решалась задача разработки такого метода преобразования данных о клиентах страховой компании, чтобы по ним было сложно восстановить персональную информацию.\n",
    "\n",
    "В ходе предварительного анализа данные были подготовлены к дальнейшей работе:\n",
    "- переименованы столбцы;\n",
    "- сделана проверка на дубликаты;\n",
    "- пропущенные значения не найдены;\n",
    "- проведен исследовательский анализ признаков в разрезе целевой переменной:\n",
    "    - аномалий в данных не выявлено;\n",
    "    - обнаружена существенная корреляция между целевой переменной выплат и возрастом клиентов: страховые возмещения получают преимущественно люди от 43 до 62 лет, и только они.\n",
    "\n",
    "Приведен алгоритм преобразования данных:\n",
    "\n",
    "1. Умножить матрицу признаков $X_{mxn}$ на случайным образом сгенерированную обратимую матрицу $P_{nxn}$.\n",
    "2. Обучить модель линейной регрессии на новой модели и получить вектор предсказаний. \n",
    "\n",
    "Математически обосновано свойство алгоритма сохранять качество предсказаний. Осуществлена проверка работы алгоритма на датасете клиентов страховой компании. Показано, что метрики R2 на исходных и преобразованных данных действительно совпадают.\n"
   ]
  }
 ],
 "metadata": {
  "ExecuteTimeLog": [
   {
    "duration": 1672,
    "start_time": "2021-12-22T20:33:41.497Z"
   },
   {
    "duration": 22,
    "start_time": "2021-12-22T20:34:28.743Z"
   },
   {
    "duration": 17,
    "start_time": "2021-12-22T20:34:41.121Z"
   },
   {
    "duration": 9,
    "start_time": "2021-12-22T20:34:55.265Z"
   },
   {
    "duration": 3,
    "start_time": "2021-12-22T20:51:28.498Z"
   },
   {
    "duration": 12,
    "start_time": "2021-12-22T20:55:13.689Z"
   },
   {
    "duration": 12,
    "start_time": "2021-12-22T20:55:17.139Z"
   },
   {
    "duration": 9,
    "start_time": "2021-12-22T20:55:46.309Z"
   },
   {
    "duration": 17,
    "start_time": "2021-12-22T20:59:46.783Z"
   },
   {
    "duration": 4,
    "start_time": "2021-12-22T21:01:18.261Z"
   },
   {
    "duration": 14,
    "start_time": "2021-12-22T21:01:39.789Z"
   },
   {
    "duration": 6,
    "start_time": "2021-12-22T21:18:04.523Z"
   },
   {
    "duration": 10,
    "start_time": "2021-12-22T21:19:43.657Z"
   },
   {
    "duration": 10,
    "start_time": "2021-12-22T21:19:49.931Z"
   },
   {
    "duration": 404,
    "start_time": "2021-12-22T21:19:58.271Z"
   },
   {
    "duration": 270,
    "start_time": "2021-12-22T21:20:17.581Z"
   },
   {
    "duration": 297,
    "start_time": "2021-12-22T21:20:45.932Z"
   },
   {
    "duration": 263,
    "start_time": "2021-12-22T21:20:53.895Z"
   },
   {
    "duration": 294,
    "start_time": "2021-12-22T21:20:57.807Z"
   },
   {
    "duration": 273,
    "start_time": "2021-12-22T21:21:04.297Z"
   },
   {
    "duration": 344,
    "start_time": "2021-12-22T21:21:10.258Z"
   },
   {
    "duration": 290,
    "start_time": "2021-12-22T21:21:13.710Z"
   },
   {
    "duration": 276,
    "start_time": "2021-12-22T21:21:20.972Z"
   },
   {
    "duration": 292,
    "start_time": "2021-12-22T21:21:26.809Z"
   },
   {
    "duration": 279,
    "start_time": "2021-12-22T21:21:30.470Z"
   },
   {
    "duration": 273,
    "start_time": "2021-12-22T21:21:33.646Z"
   },
   {
    "duration": 276,
    "start_time": "2021-12-22T21:21:39.598Z"
   },
   {
    "duration": 280,
    "start_time": "2021-12-22T21:22:06.197Z"
   },
   {
    "duration": 9,
    "start_time": "2021-12-22T21:27:45.091Z"
   },
   {
    "duration": 4832,
    "start_time": "2021-12-22T21:36:02.027Z"
   },
   {
    "duration": 5,
    "start_time": "2021-12-22T21:36:17.789Z"
   },
   {
    "duration": 7,
    "start_time": "2021-12-22T21:36:52.263Z"
   },
   {
    "duration": 5,
    "start_time": "2021-12-22T21:37:03.202Z"
   },
   {
    "duration": 5,
    "start_time": "2021-12-22T21:37:11.139Z"
   },
   {
    "duration": 14,
    "start_time": "2021-12-22T21:37:47.040Z"
   },
   {
    "duration": 438,
    "start_time": "2021-12-22T21:38:29.728Z"
   },
   {
    "duration": 416,
    "start_time": "2021-12-22T21:38:42.041Z"
   },
   {
    "duration": 397,
    "start_time": "2021-12-22T21:38:48.791Z"
   },
   {
    "duration": 497,
    "start_time": "2021-12-22T21:39:21.004Z"
   },
   {
    "duration": 388,
    "start_time": "2021-12-22T21:39:24.579Z"
   },
   {
    "duration": 394,
    "start_time": "2021-12-22T21:39:31.579Z"
   },
   {
    "duration": 17,
    "start_time": "2021-12-22T21:43:47.436Z"
   },
   {
    "duration": 389,
    "start_time": "2021-12-22T21:43:48.158Z"
   },
   {
    "duration": 16,
    "start_time": "2021-12-22T21:48:49.518Z"
   },
   {
    "duration": 16,
    "start_time": "2021-12-22T21:48:59.051Z"
   },
   {
    "duration": 401,
    "start_time": "2021-12-22T21:48:59.502Z"
   },
   {
    "duration": 12,
    "start_time": "2021-12-22T21:51:06.967Z"
   },
   {
    "duration": 542,
    "start_time": "2021-12-22T21:52:23.396Z"
   },
   {
    "duration": 451,
    "start_time": "2021-12-22T21:52:48.319Z"
   },
   {
    "duration": 436,
    "start_time": "2021-12-22T21:52:52.307Z"
   },
   {
    "duration": 685,
    "start_time": "2021-12-22T21:52:58.258Z"
   },
   {
    "duration": 664,
    "start_time": "2021-12-22T21:53:22.605Z"
   },
   {
    "duration": 7,
    "start_time": "2021-12-22T21:55:01.803Z"
   },
   {
    "duration": 6,
    "start_time": "2021-12-22T21:55:02.658Z"
   },
   {
    "duration": 1143,
    "start_time": "2021-12-22T21:56:38.074Z"
   },
   {
    "duration": 11,
    "start_time": "2021-12-22T22:02:48.719Z"
   },
   {
    "duration": 580,
    "start_time": "2021-12-22T22:05:34.198Z"
   },
   {
    "duration": 6,
    "start_time": "2021-12-22T22:06:31.785Z"
   },
   {
    "duration": 5,
    "start_time": "2021-12-22T22:06:35.961Z"
   },
   {
    "duration": 635,
    "start_time": "2021-12-22T22:07:46.965Z"
   },
   {
    "duration": 10,
    "start_time": "2021-12-22T22:09:53.094Z"
   },
   {
    "duration": 10,
    "start_time": "2021-12-22T22:11:41.456Z"
   },
   {
    "duration": 259,
    "start_time": "2021-12-22T22:12:03.732Z"
   },
   {
    "duration": 360,
    "start_time": "2021-12-22T22:12:10.058Z"
   },
   {
    "duration": 463,
    "start_time": "2021-12-22T22:12:17.070Z"
   },
   {
    "duration": 372,
    "start_time": "2021-12-22T22:12:22.145Z"
   },
   {
    "duration": 374,
    "start_time": "2021-12-22T22:12:28.611Z"
   },
   {
    "duration": 6234,
    "start_time": "2021-12-22T22:19:13.982Z"
   },
   {
    "duration": 7,
    "start_time": "2021-12-22T22:19:24.880Z"
   },
   {
    "duration": 7,
    "start_time": "2021-12-22T22:19:27.942Z"
   },
   {
    "duration": 15,
    "start_time": "2021-12-22T22:20:59.270Z"
   },
   {
    "duration": 1007,
    "start_time": "2021-12-22T22:21:23.120Z"
   },
   {
    "duration": 706,
    "start_time": "2021-12-22T22:21:35.359Z"
   },
   {
    "duration": 809,
    "start_time": "2021-12-22T22:21:52.421Z"
   },
   {
    "duration": 715,
    "start_time": "2021-12-22T22:22:01.549Z"
   },
   {
    "duration": 825,
    "start_time": "2021-12-22T22:22:09.635Z"
   },
   {
    "duration": 1134,
    "start_time": "2021-12-23T16:25:09.988Z"
   },
   {
    "duration": 63,
    "start_time": "2021-12-23T16:25:11.124Z"
   },
   {
    "duration": 10,
    "start_time": "2021-12-23T16:25:11.189Z"
   },
   {
    "duration": 8,
    "start_time": "2021-12-23T16:25:11.201Z"
   },
   {
    "duration": 2,
    "start_time": "2021-12-23T16:25:11.211Z"
   },
   {
    "duration": 8,
    "start_time": "2021-12-23T16:25:11.215Z"
   },
   {
    "duration": 9,
    "start_time": "2021-12-23T16:25:11.224Z"
   },
   {
    "duration": 4,
    "start_time": "2021-12-23T16:25:11.235Z"
   },
   {
    "duration": 16,
    "start_time": "2021-12-23T16:25:11.242Z"
   },
   {
    "duration": 204,
    "start_time": "2021-12-23T16:25:11.260Z"
   },
   {
    "duration": 6,
    "start_time": "2021-12-23T16:25:11.465Z"
   },
   {
    "duration": 6,
    "start_time": "2021-12-23T16:25:11.472Z"
   },
   {
    "duration": 10,
    "start_time": "2021-12-23T16:25:11.479Z"
   },
   {
    "duration": 272,
    "start_time": "2021-12-23T16:25:11.490Z"
   },
   {
    "duration": 9,
    "start_time": "2021-12-23T16:25:11.764Z"
   },
   {
    "duration": 347,
    "start_time": "2021-12-23T16:25:11.775Z"
   },
   {
    "duration": 5,
    "start_time": "2021-12-23T16:25:12.124Z"
   },
   {
    "duration": 17,
    "start_time": "2021-12-23T16:25:12.131Z"
   },
   {
    "duration": 717,
    "start_time": "2021-12-23T16:25:12.149Z"
   },
   {
    "duration": 8,
    "start_time": "2021-12-23T16:25:12.867Z"
   },
   {
    "duration": 356,
    "start_time": "2021-12-23T16:25:12.877Z"
   },
   {
    "duration": 5,
    "start_time": "2021-12-23T16:25:13.236Z"
   },
   {
    "duration": 9,
    "start_time": "2021-12-23T16:25:13.243Z"
   },
   {
    "duration": 371,
    "start_time": "2021-12-23T16:25:13.253Z"
   },
   {
    "duration": 10,
    "start_time": "2021-12-23T16:25:13.627Z"
   },
   {
    "duration": 15,
    "start_time": "2021-12-23T16:25:13.638Z"
   },
   {
    "duration": 225,
    "start_time": "2021-12-23T16:25:13.656Z"
   },
   {
    "duration": 5,
    "start_time": "2021-12-23T16:25:13.883Z"
   },
   {
    "duration": 5,
    "start_time": "2021-12-23T16:25:13.890Z"
   },
   {
    "duration": 31,
    "start_time": "2021-12-23T16:25:13.897Z"
   },
   {
    "duration": 491,
    "start_time": "2021-12-23T16:25:13.930Z"
   },
   {
    "duration": 394,
    "start_time": "2021-12-23T16:30:36.586Z"
   },
   {
    "duration": 4,
    "start_time": "2021-12-23T19:55:02.026Z"
   },
   {
    "duration": 8544,
    "start_time": "2021-12-23T20:02:32.928Z"
   },
   {
    "duration": 7663,
    "start_time": "2021-12-23T20:05:46.843Z"
   },
   {
    "duration": 8346,
    "start_time": "2021-12-23T20:06:00.897Z"
   },
   {
    "duration": 9118,
    "start_time": "2021-12-23T20:06:19.269Z"
   },
   {
    "duration": 6,
    "start_time": "2021-12-23T20:11:16.584Z"
   },
   {
    "duration": 410,
    "start_time": "2021-12-23T20:15:21.954Z"
   },
   {
    "duration": 14,
    "start_time": "2021-12-23T20:18:47.319Z"
   },
   {
    "duration": 5,
    "start_time": "2021-12-23T20:22:42.251Z"
   },
   {
    "duration": 15,
    "start_time": "2021-12-23T20:22:56.551Z"
   },
   {
    "duration": 6,
    "start_time": "2021-12-23T20:30:38.238Z"
   },
   {
    "duration": 4,
    "start_time": "2021-12-23T20:30:48.692Z"
   },
   {
    "duration": 5,
    "start_time": "2021-12-23T20:30:51.747Z"
   },
   {
    "duration": 3,
    "start_time": "2021-12-23T20:31:13.759Z"
   },
   {
    "duration": 4,
    "start_time": "2021-12-23T20:34:44.043Z"
   },
   {
    "duration": 1031,
    "start_time": "2021-12-23T20:35:06.079Z"
   },
   {
    "duration": 4,
    "start_time": "2021-12-23T20:35:13.603Z"
   },
   {
    "duration": 7,
    "start_time": "2021-12-23T20:35:15.278Z"
   },
   {
    "duration": 3,
    "start_time": "2021-12-23T20:59:45.346Z"
   },
   {
    "duration": 4,
    "start_time": "2021-12-23T20:59:52.569Z"
   },
   {
    "duration": 5,
    "start_time": "2021-12-23T21:00:04.071Z"
   },
   {
    "duration": 4,
    "start_time": "2021-12-23T21:02:15.684Z"
   },
   {
    "duration": 10,
    "start_time": "2021-12-23T21:02:27.223Z"
   },
   {
    "duration": 3,
    "start_time": "2021-12-23T21:04:34.191Z"
   },
   {
    "duration": 8,
    "start_time": "2021-12-23T21:04:49.788Z"
   },
   {
    "duration": 3,
    "start_time": "2021-12-23T21:05:45.554Z"
   },
   {
    "duration": 11,
    "start_time": "2021-12-23T21:05:47.353Z"
   },
   {
    "duration": 3,
    "start_time": "2021-12-23T21:05:49.278Z"
   },
   {
    "duration": 7,
    "start_time": "2021-12-23T21:05:50.546Z"
   },
   {
    "duration": 4,
    "start_time": "2021-12-23T21:07:13.790Z"
   },
   {
    "duration": 10,
    "start_time": "2021-12-23T21:07:19.492Z"
   },
   {
    "duration": 9,
    "start_time": "2021-12-23T21:07:42.780Z"
   },
   {
    "duration": 3,
    "start_time": "2021-12-23T21:12:32.222Z"
   },
   {
    "duration": 1135,
    "start_time": "2021-12-23T21:42:35.270Z"
   },
   {
    "duration": 17,
    "start_time": "2021-12-23T21:42:36.407Z"
   },
   {
    "duration": 11,
    "start_time": "2021-12-23T21:42:36.426Z"
   },
   {
    "duration": 6,
    "start_time": "2021-12-23T21:42:36.439Z"
   },
   {
    "duration": 5,
    "start_time": "2021-12-23T21:42:36.446Z"
   },
   {
    "duration": 10,
    "start_time": "2021-12-23T21:42:36.452Z"
   },
   {
    "duration": 12,
    "start_time": "2021-12-23T21:42:36.463Z"
   },
   {
    "duration": 9,
    "start_time": "2021-12-23T21:42:36.478Z"
   },
   {
    "duration": 18,
    "start_time": "2021-12-23T21:42:36.489Z"
   },
   {
    "duration": 201,
    "start_time": "2021-12-23T21:42:36.509Z"
   },
   {
    "duration": 15,
    "start_time": "2021-12-23T21:42:36.712Z"
   },
   {
    "duration": 5,
    "start_time": "2021-12-23T21:42:36.729Z"
   },
   {
    "duration": 10,
    "start_time": "2021-12-23T21:42:36.736Z"
   },
   {
    "duration": 260,
    "start_time": "2021-12-23T21:42:36.747Z"
   },
   {
    "duration": 7,
    "start_time": "2021-12-23T21:42:37.009Z"
   },
   {
    "duration": 329,
    "start_time": "2021-12-23T21:42:37.018Z"
   },
   {
    "duration": 4,
    "start_time": "2021-12-23T21:42:37.348Z"
   },
   {
    "duration": 5,
    "start_time": "2021-12-23T21:42:37.354Z"
   },
   {
    "duration": 717,
    "start_time": "2021-12-23T21:42:37.361Z"
   },
   {
    "duration": 7,
    "start_time": "2021-12-23T21:42:38.080Z"
   },
   {
    "duration": 313,
    "start_time": "2021-12-23T21:42:38.089Z"
   },
   {
    "duration": 5,
    "start_time": "2021-12-23T21:42:38.403Z"
   },
   {
    "duration": 6,
    "start_time": "2021-12-23T21:42:38.411Z"
   },
   {
    "duration": 357,
    "start_time": "2021-12-23T21:42:38.427Z"
   },
   {
    "duration": 8,
    "start_time": "2021-12-23T21:42:38.786Z"
   },
   {
    "duration": 8,
    "start_time": "2021-12-23T21:42:38.796Z"
   },
   {
    "duration": 227,
    "start_time": "2021-12-23T21:42:38.805Z"
   },
   {
    "duration": 4,
    "start_time": "2021-12-23T21:42:39.034Z"
   },
   {
    "duration": 7,
    "start_time": "2021-12-23T21:42:39.039Z"
   },
   {
    "duration": 17,
    "start_time": "2021-12-23T21:42:39.048Z"
   },
   {
    "duration": 403,
    "start_time": "2021-12-23T21:42:39.066Z"
   },
   {
    "duration": 9196,
    "start_time": "2021-12-23T21:42:39.471Z"
   },
   {
    "duration": 3,
    "start_time": "2021-12-23T21:42:48.669Z"
   },
   {
    "duration": 12,
    "start_time": "2021-12-23T21:42:48.674Z"
   },
   {
    "duration": 4,
    "start_time": "2021-12-23T21:42:48.687Z"
   },
   {
    "duration": 45,
    "start_time": "2021-12-23T21:42:48.692Z"
   },
   {
    "duration": 7,
    "start_time": "2021-12-23T21:42:48.829Z"
   },
   {
    "duration": 89,
    "start_time": "2021-12-23T21:42:48.838Z"
   },
   {
    "duration": 9,
    "start_time": "2021-12-23T21:42:48.930Z"
   },
   {
    "duration": 1429,
    "start_time": "2021-12-24T05:04:30.224Z"
   },
   {
    "duration": 39,
    "start_time": "2021-12-24T05:04:31.655Z"
   },
   {
    "duration": 13,
    "start_time": "2021-12-24T05:04:31.696Z"
   },
   {
    "duration": 30,
    "start_time": "2021-12-24T05:04:31.711Z"
   },
   {
    "duration": 3,
    "start_time": "2021-12-24T05:04:35.077Z"
   },
   {
    "duration": 6,
    "start_time": "2021-12-24T05:04:35.456Z"
   },
   {
    "duration": 13,
    "start_time": "2021-12-24T05:04:36.892Z"
   },
   {
    "duration": 4,
    "start_time": "2021-12-24T05:04:37.238Z"
   },
   {
    "duration": 8,
    "start_time": "2021-12-24T05:04:37.420Z"
   },
   {
    "duration": 192,
    "start_time": "2021-12-24T05:04:37.656Z"
   },
   {
    "duration": 7,
    "start_time": "2021-12-24T05:04:38.213Z"
   },
   {
    "duration": 5,
    "start_time": "2021-12-24T05:04:38.819Z"
   },
   {
    "duration": 10,
    "start_time": "2021-12-24T05:04:39.009Z"
   },
   {
    "duration": 250,
    "start_time": "2021-12-24T05:04:39.184Z"
   },
   {
    "duration": 8,
    "start_time": "2021-12-24T05:04:40.046Z"
   },
   {
    "duration": 330,
    "start_time": "2021-12-24T05:04:40.441Z"
   },
   {
    "duration": 5,
    "start_time": "2021-12-24T05:04:41.137Z"
   },
   {
    "duration": 5,
    "start_time": "2021-12-24T05:04:41.340Z"
   },
   {
    "duration": 725,
    "start_time": "2021-12-24T05:04:41.531Z"
   },
   {
    "duration": 7,
    "start_time": "2021-12-24T05:04:42.258Z"
   },
   {
    "duration": 317,
    "start_time": "2021-12-24T05:04:42.685Z"
   },
   {
    "duration": 5,
    "start_time": "2021-12-24T05:04:43.418Z"
   },
   {
    "duration": 5,
    "start_time": "2021-12-24T05:04:43.661Z"
   },
   {
    "duration": 352,
    "start_time": "2021-12-24T05:04:43.925Z"
   },
   {
    "duration": 7,
    "start_time": "2021-12-24T05:04:44.699Z"
   },
   {
    "duration": 8,
    "start_time": "2021-12-24T05:04:45.079Z"
   },
   {
    "duration": 210,
    "start_time": "2021-12-24T05:04:45.292Z"
   },
   {
    "duration": 5,
    "start_time": "2021-12-24T05:04:46.073Z"
   },
   {
    "duration": 5,
    "start_time": "2021-12-24T05:04:46.344Z"
   },
   {
    "duration": 11,
    "start_time": "2021-12-24T05:04:47.024Z"
   },
   {
    "duration": 404,
    "start_time": "2021-12-24T05:04:47.220Z"
   },
   {
    "duration": 8366,
    "start_time": "2021-12-24T05:04:48.273Z"
   },
   {
    "duration": 4,
    "start_time": "2021-12-24T05:09:52.532Z"
   },
   {
    "duration": 10,
    "start_time": "2021-12-24T05:09:53.446Z"
   },
   {
    "duration": 4,
    "start_time": "2021-12-24T05:09:55.153Z"
   },
   {
    "duration": 8,
    "start_time": "2021-12-24T05:09:55.400Z"
   },
   {
    "duration": 6,
    "start_time": "2021-12-24T05:09:59.856Z"
   },
   {
    "duration": 4,
    "start_time": "2021-12-24T05:10:00.156Z"
   },
   {
    "duration": 77,
    "start_time": "2021-12-24T05:10:00.683Z"
   }
  ],
  "kernelspec": {
   "display_name": "Python 3",
   "language": "python",
   "name": "python3"
  },
  "language_info": {
   "codemirror_mode": {
    "name": "ipython",
    "version": 3
   },
   "file_extension": ".py",
   "mimetype": "text/x-python",
   "name": "python",
   "nbconvert_exporter": "python",
   "pygments_lexer": "ipython3",
   "version": "3.7.7"
  },
  "toc": {
   "base_numbering": 1,
   "nav_menu": {},
   "number_sections": false,
   "sideBar": true,
   "skip_h1_title": false,
   "title_cell": "Содержание",
   "title_sidebar": "Contents",
   "toc_cell": true,
   "toc_position": {},
   "toc_section_display": true,
   "toc_window_display": true
  }
 },
 "nbformat": 4,
 "nbformat_minor": 2
}
