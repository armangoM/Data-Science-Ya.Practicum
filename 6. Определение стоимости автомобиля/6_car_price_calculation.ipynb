{
 "cells": [
  {
   "cell_type": "markdown",
   "metadata": {
    "toc": true
   },
   "source": [
    "<h1>Содержание<span class=\"tocSkip\"></span></h1>\n",
    "<div class=\"toc\"><ul class=\"toc-item\"><li><span><a href=\"#Определение-стоимости-автомобилей\" data-toc-modified-id=\"Определение-стоимости-автомобилей-1\">Определение стоимости автомобилей</a></span><ul class=\"toc-item\"><li><span><a href=\"#Подготовка-данных\" data-toc-modified-id=\"Подготовка-данных-1.1\">Подготовка данных</a></span><ul class=\"toc-item\"><li><span><a href=\"#Загрузка-датасета-и-анализ-первичной-информации\" data-toc-modified-id=\"Загрузка-датасета-и-анализ-первичной-информации-1.1.1\">Загрузка датасета и анализ первичной информации</a></span></li><li><span><a href=\"#Переименование-столбцов\" data-toc-modified-id=\"Переименование-столбцов-1.1.2\">Переименование столбцов</a></span></li><li><span><a href=\"#Удаление-дубликатов\" data-toc-modified-id=\"Удаление-дубликатов-1.1.3\">Удаление дубликатов</a></span></li><li><span><a href=\"#Анализ-признаков\" data-toc-modified-id=\"Анализ-признаков-1.1.4\">Анализ признаков</a></span></li><li><span><a href=\"#Удаление-маловажных-признаков\" data-toc-modified-id=\"Удаление-маловажных-признаков-1.1.5\">Удаление маловажных признаков</a></span></li><li><span><a href=\"#Вывод\" data-toc-modified-id=\"Вывод-1.1.6\">Вывод</a></span></li></ul></li><li><span><a href=\"#Обучение-моделей\" data-toc-modified-id=\"Обучение-моделей-1.2\">Обучение моделей</a></span><ul class=\"toc-item\"><li><span><a href=\"#Построение-моделей\" data-toc-modified-id=\"Построение-моделей-1.2.1\">Построение моделей</a></span><ul class=\"toc-item\"><li><span><a href=\"#Линейная-регрессия\" data-toc-modified-id=\"Линейная-регрессия-1.2.1.1\">Линейная регрессия</a></span></li><li><span><a href=\"#Модель-решающего-дерева\" data-toc-modified-id=\"Модель-решающего-дерева-1.2.1.2\">Модель решающего дерева</a></span></li><li><span><a href=\"#Модель-случайного-леса\" data-toc-modified-id=\"Модель-случайного-леса-1.2.1.3\">Модель случайного леса</a></span></li><li><span><a href=\"#CatBoost\" data-toc-modified-id=\"CatBoost-1.2.1.4\">CatBoost</a></span></li><li><span><a href=\"#LightGBM\" data-toc-modified-id=\"LightGBM-1.2.1.5\">LightGBM</a></span></li></ul></li><li><span><a href=\"#Вывод\" data-toc-modified-id=\"Вывод-1.2.2\">Вывод</a></span></li></ul></li><li><span><a href=\"#Анализ-моделей\" data-toc-modified-id=\"Анализ-моделей-1.3\">Анализ моделей</a></span></li><li><span><a href=\"#Основные-результаты\" data-toc-modified-id=\"Основные-результаты-1.4\">Основные результаты</a></span></li><li><span><a href=\"#Чек-лист-проверки\" data-toc-modified-id=\"Чек-лист-проверки-1.5\">Чек-лист проверки</a></span></li></ul></li></ul></div>"
   ]
  },
  {
   "cell_type": "markdown",
   "metadata": {},
   "source": [
    "# Определение стоимости автомобилей"
   ]
  },
  {
   "cell_type": "markdown",
   "metadata": {},
   "source": [
    "Сервис по продаже автомобилей с пробегом разрабатывает приложение для привлечения новых клиентов, в котором можно быстро узнать рыночную стоимость своего автомобиля. Имеются исторические данные: технические характеристики, комплектации и цены автомобилей. Требуется построить модель для определения стоимости с учетом важных для заказчика параметров: \n",
    "- качество предсказания;\n",
    "- скорость предсказания;\n",
    "- время обучения.\n",
    "\n",
    "Массив данных содержит в себе информацию о характеристиках автомобилей (цену, модель, год выпуска, пробег, год выпуска, тип корбки передач и пр.).\n",
    "\n",
    "Для решения задачи требуется:\n",
    "\n",
    "- подготовить данные;\n",
    "- провести исследовательский анализ данных;\n",
    "- построить и обучить модель."
   ]
  },
  {
   "cell_type": "markdown",
   "metadata": {},
   "source": [
    "## Подготовка данных"
   ]
  },
  {
   "cell_type": "markdown",
   "metadata": {},
   "source": [
    "Импорт библиотек, которые потребуются для выполнения исследования:"
   ]
  },
  {
   "cell_type": "code",
   "execution_count": 1,
   "metadata": {},
   "outputs": [],
   "source": [
    "import pandas as pd\n",
    "import matplotlib.pyplot as plt\n",
    "import seaborn as sns\n",
    "import numpy as np\n",
    "import re\n",
    "import time\n",
    "from scipy import stats as st\n",
    "from sklearn.metrics import mean_squared_error\n",
    "from sklearn.preprocessing import StandardScaler\n",
    "from sklearn.linear_model import LinearRegression\n",
    "from sklearn.ensemble import RandomForestRegressor\n",
    "from sklearn.tree import DecisionTreeRegressor\n",
    "from catboost import CatBoostRegressor\n",
    "import lightgbm as lgb\n",
    "from lightgbm import LGBMRegressor\n",
    "from sklearn.metrics import make_scorer\n",
    "from sklearn.model_selection import train_test_split, cross_val_score, GridSearchCV\n",
    "import warnings\n",
    "warnings.filterwarnings('ignore')"
   ]
  },
  {
   "cell_type": "markdown",
   "metadata": {},
   "source": [
    "### Загрузка датасета и анализ первичной информации"
   ]
  },
  {
   "cell_type": "code",
   "execution_count": 2,
   "metadata": {},
   "outputs": [],
   "source": [
    "cars = pd.read_csv('/datasets/autos.csv')"
   ]
  },
  {
   "cell_type": "markdown",
   "metadata": {},
   "source": [
    "Получение данных о первых пяти строках таблицы **cars**:"
   ]
  },
  {
   "cell_type": "code",
   "execution_count": 3,
   "metadata": {},
   "outputs": [
    {
     "data": {
      "text/html": [
       "<div>\n",
       "<style scoped>\n",
       "    .dataframe tbody tr th:only-of-type {\n",
       "        vertical-align: middle;\n",
       "    }\n",
       "\n",
       "    .dataframe tbody tr th {\n",
       "        vertical-align: top;\n",
       "    }\n",
       "\n",
       "    .dataframe thead th {\n",
       "        text-align: right;\n",
       "    }\n",
       "</style>\n",
       "<table border=\"1\" class=\"dataframe\">\n",
       "  <thead>\n",
       "    <tr style=\"text-align: right;\">\n",
       "      <th></th>\n",
       "      <th>DateCrawled</th>\n",
       "      <th>Price</th>\n",
       "      <th>VehicleType</th>\n",
       "      <th>RegistrationYear</th>\n",
       "      <th>Gearbox</th>\n",
       "      <th>Power</th>\n",
       "      <th>Model</th>\n",
       "      <th>Kilometer</th>\n",
       "      <th>RegistrationMonth</th>\n",
       "      <th>FuelType</th>\n",
       "      <th>Brand</th>\n",
       "      <th>NotRepaired</th>\n",
       "      <th>DateCreated</th>\n",
       "      <th>NumberOfPictures</th>\n",
       "      <th>PostalCode</th>\n",
       "      <th>LastSeen</th>\n",
       "    </tr>\n",
       "  </thead>\n",
       "  <tbody>\n",
       "    <tr>\n",
       "      <td>0</td>\n",
       "      <td>2016-03-24 11:52:17</td>\n",
       "      <td>480</td>\n",
       "      <td>NaN</td>\n",
       "      <td>1993</td>\n",
       "      <td>manual</td>\n",
       "      <td>0</td>\n",
       "      <td>golf</td>\n",
       "      <td>150000</td>\n",
       "      <td>0</td>\n",
       "      <td>petrol</td>\n",
       "      <td>volkswagen</td>\n",
       "      <td>NaN</td>\n",
       "      <td>2016-03-24 00:00:00</td>\n",
       "      <td>0</td>\n",
       "      <td>70435</td>\n",
       "      <td>2016-04-07 03:16:57</td>\n",
       "    </tr>\n",
       "    <tr>\n",
       "      <td>1</td>\n",
       "      <td>2016-03-24 10:58:45</td>\n",
       "      <td>18300</td>\n",
       "      <td>coupe</td>\n",
       "      <td>2011</td>\n",
       "      <td>manual</td>\n",
       "      <td>190</td>\n",
       "      <td>NaN</td>\n",
       "      <td>125000</td>\n",
       "      <td>5</td>\n",
       "      <td>gasoline</td>\n",
       "      <td>audi</td>\n",
       "      <td>yes</td>\n",
       "      <td>2016-03-24 00:00:00</td>\n",
       "      <td>0</td>\n",
       "      <td>66954</td>\n",
       "      <td>2016-04-07 01:46:50</td>\n",
       "    </tr>\n",
       "    <tr>\n",
       "      <td>2</td>\n",
       "      <td>2016-03-14 12:52:21</td>\n",
       "      <td>9800</td>\n",
       "      <td>suv</td>\n",
       "      <td>2004</td>\n",
       "      <td>auto</td>\n",
       "      <td>163</td>\n",
       "      <td>grand</td>\n",
       "      <td>125000</td>\n",
       "      <td>8</td>\n",
       "      <td>gasoline</td>\n",
       "      <td>jeep</td>\n",
       "      <td>NaN</td>\n",
       "      <td>2016-03-14 00:00:00</td>\n",
       "      <td>0</td>\n",
       "      <td>90480</td>\n",
       "      <td>2016-04-05 12:47:46</td>\n",
       "    </tr>\n",
       "    <tr>\n",
       "      <td>3</td>\n",
       "      <td>2016-03-17 16:54:04</td>\n",
       "      <td>1500</td>\n",
       "      <td>small</td>\n",
       "      <td>2001</td>\n",
       "      <td>manual</td>\n",
       "      <td>75</td>\n",
       "      <td>golf</td>\n",
       "      <td>150000</td>\n",
       "      <td>6</td>\n",
       "      <td>petrol</td>\n",
       "      <td>volkswagen</td>\n",
       "      <td>no</td>\n",
       "      <td>2016-03-17 00:00:00</td>\n",
       "      <td>0</td>\n",
       "      <td>91074</td>\n",
       "      <td>2016-03-17 17:40:17</td>\n",
       "    </tr>\n",
       "    <tr>\n",
       "      <td>4</td>\n",
       "      <td>2016-03-31 17:25:20</td>\n",
       "      <td>3600</td>\n",
       "      <td>small</td>\n",
       "      <td>2008</td>\n",
       "      <td>manual</td>\n",
       "      <td>69</td>\n",
       "      <td>fabia</td>\n",
       "      <td>90000</td>\n",
       "      <td>7</td>\n",
       "      <td>gasoline</td>\n",
       "      <td>skoda</td>\n",
       "      <td>no</td>\n",
       "      <td>2016-03-31 00:00:00</td>\n",
       "      <td>0</td>\n",
       "      <td>60437</td>\n",
       "      <td>2016-04-06 10:17:21</td>\n",
       "    </tr>\n",
       "  </tbody>\n",
       "</table>\n",
       "</div>"
      ],
      "text/plain": [
       "           DateCrawled  Price VehicleType  RegistrationYear Gearbox  Power  \\\n",
       "0  2016-03-24 11:52:17    480         NaN              1993  manual      0   \n",
       "1  2016-03-24 10:58:45  18300       coupe              2011  manual    190   \n",
       "2  2016-03-14 12:52:21   9800         suv              2004    auto    163   \n",
       "3  2016-03-17 16:54:04   1500       small              2001  manual     75   \n",
       "4  2016-03-31 17:25:20   3600       small              2008  manual     69   \n",
       "\n",
       "   Model  Kilometer  RegistrationMonth  FuelType       Brand NotRepaired  \\\n",
       "0   golf     150000                  0    petrol  volkswagen         NaN   \n",
       "1    NaN     125000                  5  gasoline        audi         yes   \n",
       "2  grand     125000                  8  gasoline        jeep         NaN   \n",
       "3   golf     150000                  6    petrol  volkswagen          no   \n",
       "4  fabia      90000                  7  gasoline       skoda          no   \n",
       "\n",
       "           DateCreated  NumberOfPictures  PostalCode             LastSeen  \n",
       "0  2016-03-24 00:00:00                 0       70435  2016-04-07 03:16:57  \n",
       "1  2016-03-24 00:00:00                 0       66954  2016-04-07 01:46:50  \n",
       "2  2016-03-14 00:00:00                 0       90480  2016-04-05 12:47:46  \n",
       "3  2016-03-17 00:00:00                 0       91074  2016-03-17 17:40:17  \n",
       "4  2016-03-31 00:00:00                 0       60437  2016-04-06 10:17:21  "
      ]
     },
     "execution_count": 3,
     "metadata": {},
     "output_type": "execute_result"
    }
   ],
   "source": [
    "cars.head()"
   ]
  },
  {
   "cell_type": "markdown",
   "metadata": {},
   "source": [
    "Общая информация о данных таблицы **cars**:"
   ]
  },
  {
   "cell_type": "code",
   "execution_count": 4,
   "metadata": {},
   "outputs": [
    {
     "name": "stdout",
     "output_type": "stream",
     "text": [
      "<class 'pandas.core.frame.DataFrame'>\n",
      "RangeIndex: 354369 entries, 0 to 354368\n",
      "Data columns (total 16 columns):\n",
      "DateCrawled          354369 non-null object\n",
      "Price                354369 non-null int64\n",
      "VehicleType          316879 non-null object\n",
      "RegistrationYear     354369 non-null int64\n",
      "Gearbox              334536 non-null object\n",
      "Power                354369 non-null int64\n",
      "Model                334664 non-null object\n",
      "Kilometer            354369 non-null int64\n",
      "RegistrationMonth    354369 non-null int64\n",
      "FuelType             321474 non-null object\n",
      "Brand                354369 non-null object\n",
      "NotRepaired          283215 non-null object\n",
      "DateCreated          354369 non-null object\n",
      "NumberOfPictures     354369 non-null int64\n",
      "PostalCode           354369 non-null int64\n",
      "LastSeen             354369 non-null object\n",
      "dtypes: int64(7), object(9)\n",
      "memory usage: 43.3+ MB\n"
     ]
    }
   ],
   "source": [
    "cars.info()"
   ]
  },
  {
   "cell_type": "markdown",
   "metadata": {},
   "source": [
    "В датафрейме **cars** представлена историческая информация о характеристиках автомобилей и их стоимости: \n",
    "\n",
    "- **DateCrawled** — дата скачивания анкеты из базы;\n",
    "- **VehicleType** — тип автомобильного кузова;\n",
    "- **RegistrationYear** — год регистрации автомобиля;\n",
    "- **Gearbox** — тип коробки передач;\n",
    "- **Power** — мощность (л.с.);\n",
    "- **Model** — модель автомобиля;\n",
    "- **Kilometer** — пробег (км);\n",
    "- **RegistrationMonth** — месяц регистрации автомобиля;\n",
    "- **FuelType** — тип топлива;\n",
    "- **Brand** — марка автомобиля;\n",
    "- **NotRepaired** — была машина в ремонте или нет;\n",
    "- **DateCreated** — дата создания анкеты;\n",
    "- **NumberOfPictures** — количество фотографий автомобиля;\n",
    "- **PostalCode** — почтовый индекс владельца анкеты (пользователя);\n",
    "- **LastSeen** — дата последней активности пользователя;\n",
    "- **Price** — цена (евро).\n",
    "\n",
    "Общее количество объектов - 354 369, все данные либо целочисленного, либо строкового типа. Встречаются пропуски. Проверим, какова их доля:"
   ]
  },
  {
   "cell_type": "code",
   "execution_count": 5,
   "metadata": {},
   "outputs": [
    {
     "data": {
      "text/plain": [
       "DateCrawled          0.000000\n",
       "Price                0.000000\n",
       "VehicleType          0.105794\n",
       "RegistrationYear     0.000000\n",
       "Gearbox              0.055967\n",
       "Power                0.000000\n",
       "Model                0.055606\n",
       "Kilometer            0.000000\n",
       "RegistrationMonth    0.000000\n",
       "FuelType             0.092827\n",
       "Brand                0.000000\n",
       "NotRepaired          0.200791\n",
       "DateCreated          0.000000\n",
       "NumberOfPictures     0.000000\n",
       "PostalCode           0.000000\n",
       "LastSeen             0.000000\n",
       "dtype: float64"
      ]
     },
     "execution_count": 5,
     "metadata": {},
     "output_type": "execute_result"
    }
   ],
   "source": [
    "cars.isna().sum() / cars.shape[0]"
   ]
  },
  {
   "cell_type": "markdown",
   "metadata": {},
   "source": [
    "Больше всего информации пропущено в столбце **NotRepaired** - 20%. Не хватает 10,6% данных в столбце **VehicleType**, 9,2% - в **FuelType** и по 5,6% - в столбцах **Gearbox** и **Model**. Это довольно много. В дальнейшем при анализе каждого признака попытаемся восстановить пропущенные значения."
   ]
  },
  {
   "cell_type": "markdown",
   "metadata": {},
   "source": [
    "Период, за который доступны данные:"
   ]
  },
  {
   "cell_type": "code",
   "execution_count": 6,
   "metadata": {
    "scrolled": true
   },
   "outputs": [
    {
     "name": "stdout",
     "output_type": "stream",
     "text": [
      "Даты создания анкет: с 2014-03-10 00:00:00 по 2016-04-07 00:00:00\n",
      "Даты скачивания анкет из базы: с 2016-03-05 14:06:22 по 2016-04-07 14:36:58\n"
     ]
    }
   ],
   "source": [
    "print('Даты создания анкет: с', pd.to_datetime(cars['DateCreated'].min()), \\\n",
    "      'по', pd.to_datetime(cars['DateCreated'].max()))\n",
    "print('Даты скачивания анкет из базы: с', pd.to_datetime(cars['DateCrawled'].min()), \\\n",
    "      'по', pd.to_datetime(cars['DateCrawled'].max()))"
   ]
  },
  {
   "cell_type": "markdown",
   "metadata": {},
   "source": [
    "Как видно, заказчик в течение месяца (март-апрель 2016 г.) формировал базу автомобилей, скачав огромное количество анкет, созданных за период с марта 2014 по апрель 2016 г.\n",
    "\n",
    "---"
   ]
  },
  {
   "cell_type": "markdown",
   "metadata": {},
   "source": [
    "Подготовим исходные данные для дальнейшего исследования и построения прогноза."
   ]
  },
  {
   "cell_type": "markdown",
   "metadata": {},
   "source": [
    "### Переименование столбцов"
   ]
  },
  {
   "cell_type": "markdown",
   "metadata": {},
   "source": [
    "Переименуем столбцы в соответствии с общепринятой практикой:"
   ]
  },
  {
   "cell_type": "code",
   "execution_count": 7,
   "metadata": {},
   "outputs": [],
   "source": [
    "# функция принимает на вход строку и ставит перед каждой заглавной буквой, кроме первой, символ \"_\", \n",
    "# после чего приводит все буквы к нижнему регистру\n",
    "\n",
    "def convert(string):\n",
    "    return re.sub( '(?<!^)(?=[A-Z])', '_', string).lower()"
   ]
  },
  {
   "cell_type": "code",
   "execution_count": 8,
   "metadata": {},
   "outputs": [],
   "source": [
    "cars = cars.rename(columns = lambda x: convert(x))"
   ]
  },
  {
   "cell_type": "markdown",
   "metadata": {},
   "source": [
    "Столбцы переименованы."
   ]
  },
  {
   "cell_type": "markdown",
   "metadata": {},
   "source": [
    "Также поменяем их местами для более удобного восприятия информации:"
   ]
  },
  {
   "cell_type": "code",
   "execution_count": 9,
   "metadata": {},
   "outputs": [],
   "source": [
    "column_new_order = ['brand', 'registration_year', 'registration_month', 'model', 'vehicle_type', 'gearbox', 'power', \\\n",
    "                    'fuel_type', 'kilometer', 'not_repaired', 'date_created', 'number_of_pictures', 'postal_code', \\\n",
    "                    'last_seen', 'date_crawled', 'price']\n",
    "cars = cars.reindex(columns = column_new_order)"
   ]
  },
  {
   "cell_type": "code",
   "execution_count": 10,
   "metadata": {
    "scrolled": false
   },
   "outputs": [
    {
     "data": {
      "text/html": [
       "<div>\n",
       "<style scoped>\n",
       "    .dataframe tbody tr th:only-of-type {\n",
       "        vertical-align: middle;\n",
       "    }\n",
       "\n",
       "    .dataframe tbody tr th {\n",
       "        vertical-align: top;\n",
       "    }\n",
       "\n",
       "    .dataframe thead th {\n",
       "        text-align: right;\n",
       "    }\n",
       "</style>\n",
       "<table border=\"1\" class=\"dataframe\">\n",
       "  <thead>\n",
       "    <tr style=\"text-align: right;\">\n",
       "      <th></th>\n",
       "      <th>brand</th>\n",
       "      <th>registration_year</th>\n",
       "      <th>registration_month</th>\n",
       "      <th>model</th>\n",
       "      <th>vehicle_type</th>\n",
       "      <th>gearbox</th>\n",
       "      <th>power</th>\n",
       "      <th>fuel_type</th>\n",
       "      <th>kilometer</th>\n",
       "      <th>not_repaired</th>\n",
       "      <th>date_created</th>\n",
       "      <th>number_of_pictures</th>\n",
       "      <th>postal_code</th>\n",
       "      <th>last_seen</th>\n",
       "      <th>date_crawled</th>\n",
       "      <th>price</th>\n",
       "    </tr>\n",
       "  </thead>\n",
       "  <tbody>\n",
       "    <tr>\n",
       "      <td>0</td>\n",
       "      <td>volkswagen</td>\n",
       "      <td>1993</td>\n",
       "      <td>0</td>\n",
       "      <td>golf</td>\n",
       "      <td>NaN</td>\n",
       "      <td>manual</td>\n",
       "      <td>0</td>\n",
       "      <td>petrol</td>\n",
       "      <td>150000</td>\n",
       "      <td>NaN</td>\n",
       "      <td>2016-03-24 00:00:00</td>\n",
       "      <td>0</td>\n",
       "      <td>70435</td>\n",
       "      <td>2016-04-07 03:16:57</td>\n",
       "      <td>2016-03-24 11:52:17</td>\n",
       "      <td>480</td>\n",
       "    </tr>\n",
       "    <tr>\n",
       "      <td>1</td>\n",
       "      <td>audi</td>\n",
       "      <td>2011</td>\n",
       "      <td>5</td>\n",
       "      <td>NaN</td>\n",
       "      <td>coupe</td>\n",
       "      <td>manual</td>\n",
       "      <td>190</td>\n",
       "      <td>gasoline</td>\n",
       "      <td>125000</td>\n",
       "      <td>yes</td>\n",
       "      <td>2016-03-24 00:00:00</td>\n",
       "      <td>0</td>\n",
       "      <td>66954</td>\n",
       "      <td>2016-04-07 01:46:50</td>\n",
       "      <td>2016-03-24 10:58:45</td>\n",
       "      <td>18300</td>\n",
       "    </tr>\n",
       "    <tr>\n",
       "      <td>2</td>\n",
       "      <td>jeep</td>\n",
       "      <td>2004</td>\n",
       "      <td>8</td>\n",
       "      <td>grand</td>\n",
       "      <td>suv</td>\n",
       "      <td>auto</td>\n",
       "      <td>163</td>\n",
       "      <td>gasoline</td>\n",
       "      <td>125000</td>\n",
       "      <td>NaN</td>\n",
       "      <td>2016-03-14 00:00:00</td>\n",
       "      <td>0</td>\n",
       "      <td>90480</td>\n",
       "      <td>2016-04-05 12:47:46</td>\n",
       "      <td>2016-03-14 12:52:21</td>\n",
       "      <td>9800</td>\n",
       "    </tr>\n",
       "    <tr>\n",
       "      <td>3</td>\n",
       "      <td>volkswagen</td>\n",
       "      <td>2001</td>\n",
       "      <td>6</td>\n",
       "      <td>golf</td>\n",
       "      <td>small</td>\n",
       "      <td>manual</td>\n",
       "      <td>75</td>\n",
       "      <td>petrol</td>\n",
       "      <td>150000</td>\n",
       "      <td>no</td>\n",
       "      <td>2016-03-17 00:00:00</td>\n",
       "      <td>0</td>\n",
       "      <td>91074</td>\n",
       "      <td>2016-03-17 17:40:17</td>\n",
       "      <td>2016-03-17 16:54:04</td>\n",
       "      <td>1500</td>\n",
       "    </tr>\n",
       "    <tr>\n",
       "      <td>4</td>\n",
       "      <td>skoda</td>\n",
       "      <td>2008</td>\n",
       "      <td>7</td>\n",
       "      <td>fabia</td>\n",
       "      <td>small</td>\n",
       "      <td>manual</td>\n",
       "      <td>69</td>\n",
       "      <td>gasoline</td>\n",
       "      <td>90000</td>\n",
       "      <td>no</td>\n",
       "      <td>2016-03-31 00:00:00</td>\n",
       "      <td>0</td>\n",
       "      <td>60437</td>\n",
       "      <td>2016-04-06 10:17:21</td>\n",
       "      <td>2016-03-31 17:25:20</td>\n",
       "      <td>3600</td>\n",
       "    </tr>\n",
       "  </tbody>\n",
       "</table>\n",
       "</div>"
      ],
      "text/plain": [
       "        brand  registration_year  registration_month  model vehicle_type  \\\n",
       "0  volkswagen               1993                   0   golf          NaN   \n",
       "1        audi               2011                   5    NaN        coupe   \n",
       "2        jeep               2004                   8  grand          suv   \n",
       "3  volkswagen               2001                   6   golf        small   \n",
       "4       skoda               2008                   7  fabia        small   \n",
       "\n",
       "  gearbox  power fuel_type  kilometer not_repaired         date_created  \\\n",
       "0  manual      0    petrol     150000          NaN  2016-03-24 00:00:00   \n",
       "1  manual    190  gasoline     125000          yes  2016-03-24 00:00:00   \n",
       "2    auto    163  gasoline     125000          NaN  2016-03-14 00:00:00   \n",
       "3  manual     75    petrol     150000           no  2016-03-17 00:00:00   \n",
       "4  manual     69  gasoline      90000           no  2016-03-31 00:00:00   \n",
       "\n",
       "   number_of_pictures  postal_code            last_seen         date_crawled  \\\n",
       "0                   0        70435  2016-04-07 03:16:57  2016-03-24 11:52:17   \n",
       "1                   0        66954  2016-04-07 01:46:50  2016-03-24 10:58:45   \n",
       "2                   0        90480  2016-04-05 12:47:46  2016-03-14 12:52:21   \n",
       "3                   0        91074  2016-03-17 17:40:17  2016-03-17 16:54:04   \n",
       "4                   0        60437  2016-04-06 10:17:21  2016-03-31 17:25:20   \n",
       "\n",
       "   price  \n",
       "0    480  \n",
       "1  18300  \n",
       "2   9800  \n",
       "3   1500  \n",
       "4   3600  "
      ]
     },
     "execution_count": 10,
     "metadata": {},
     "output_type": "execute_result"
    }
   ],
   "source": [
    "cars.head()"
   ]
  },
  {
   "cell_type": "markdown",
   "metadata": {},
   "source": [
    "### Удаление дубликатов"
   ]
  },
  {
   "cell_type": "markdown",
   "metadata": {},
   "source": [
    "Проверим таблицу на наличие полностью повторяющихся строк:"
   ]
  },
  {
   "cell_type": "code",
   "execution_count": 11,
   "metadata": {},
   "outputs": [
    {
     "data": {
      "text/plain": [
       "4"
      ]
     },
     "execution_count": 11,
     "metadata": {},
     "output_type": "execute_result"
    }
   ],
   "source": [
    "cars.duplicated().sum()"
   ]
  },
  {
   "cell_type": "markdown",
   "metadata": {},
   "source": [
    "В данных встречаются полностью одинаковые строки. Удалим их:"
   ]
  },
  {
   "cell_type": "code",
   "execution_count": 12,
   "metadata": {},
   "outputs": [
    {
     "data": {
      "text/plain": [
       "0"
      ]
     },
     "execution_count": 12,
     "metadata": {},
     "output_type": "execute_result"
    }
   ],
   "source": [
    "cars = cars.drop_duplicates().reset_index(drop = True)\n",
    "cars.duplicated().sum()"
   ]
  },
  {
   "cell_type": "markdown",
   "metadata": {},
   "source": [
    "Полные дубликаты удалены."
   ]
  },
  {
   "cell_type": "markdown",
   "metadata": {},
   "source": [
    "### Анализ признаков"
   ]
  },
  {
   "cell_type": "markdown",
   "metadata": {},
   "source": [
    "Теперь рассмотрим отдельно каждый столбец на предмет наличия ошибок в данных, аномалий и пр. Начнем с целевой переменной - стоимости автомобиля."
   ]
  },
  {
   "cell_type": "markdown",
   "metadata": {},
   "source": [
    "**price - цена**"
   ]
  },
  {
   "cell_type": "code",
   "execution_count": 13,
   "metadata": {
    "scrolled": true
   },
   "outputs": [
    {
     "data": {
      "text/plain": [
       "count    354365.000000\n",
       "mean       4416.679830\n",
       "std        4514.176349\n",
       "min           0.000000\n",
       "25%        1050.000000\n",
       "50%        2700.000000\n",
       "75%        6400.000000\n",
       "max       20000.000000\n",
       "Name: price, dtype: float64"
      ]
     },
     "execution_count": 13,
     "metadata": {},
     "output_type": "execute_result"
    }
   ],
   "source": [
    "cars['price'].describe()"
   ]
  },
  {
   "cell_type": "markdown",
   "metadata": {},
   "source": [
    "Минимальная стоимость - 0 евро, максимальная - 20 000. Средняя цена составляет 4 416 евро и существенно больше медианной - 2 700 евро. Даже принимая во внимание, что речь идет о 2014-2016 годах, значения выглядят довольно низкими."
   ]
  },
  {
   "cell_type": "markdown",
   "metadata": {},
   "source": [
    "Построим график распределения:"
   ]
  },
  {
   "cell_type": "code",
   "execution_count": 14,
   "metadata": {},
   "outputs": [
    {
     "data": {
      "image/png": "[encoded data removed]",
      "text/plain": [
       "<Figure size 576x360 with 1 Axes>"
      ]
     },
     "metadata": {
      "needs_background": "light"
     },
     "output_type": "display_data"
    }
   ],
   "source": [
    "plt.figure(figsize=(8, 5))\n",
    "sns.set_style(\"darkgrid\")\n",
    "fig = sns.distplot(cars['price'], kde = False, bins = np.linspace(start = 0, stop = 20000, num = 40))\n",
    "fig.set_title(\"Распределение стоимости автомобилей\", fontsize = 15)\n",
    "fig.set_xlabel(\"Цена, евро\", fontsize = 12)\n",
    "fig.set_ylabel(\"Количество автомобилей\", fontsize = 12)\n",
    "\n",
    "plt.show()"
   ]
  },
  {
   "cell_type": "markdown",
   "metadata": {},
   "source": [
    "В датасете преобладают модели с низкой ценой (50% стоят не более 2 700 евро), распределение признака резко убывает. Более того, достоточно много нулевых значений (3%): "
   ]
  },
  {
   "cell_type": "code",
   "execution_count": 15,
   "metadata": {},
   "outputs": [
    {
     "name": "stdout",
     "output_type": "stream",
     "text": [
      "10772\n",
      "0.0304\n"
     ]
    }
   ],
   "source": [
    "print(cars.query('price == 0')['price'].count())\n",
    "print((cars.query('price == 0')['price'].count() / cars.shape[0]).round(5))"
   ]
  },
  {
   "cell_type": "markdown",
   "metadata": {},
   "source": [
    "Неясно, откуда взялась эта аномалия, однако на случайные выбросы это не похоже. Возможно, в базе данных попадается довольно большое количество автомобилей в настолько плохом состоянии, что их невозможно продать. С другой стороны, нулевое значение может стоять в том случае, если в исходном объявлении цена не была указана. Пока не будем удалять строки с нулевыми значениями. Возможно, после предварительного анализа данных (и удаления части строк) их концентрация уменьшится."
   ]
  },
  {
   "cell_type": "markdown",
   "metadata": {},
   "source": [
    "**brand — марка автомобиля**"
   ]
  },
  {
   "cell_type": "markdown",
   "metadata": {},
   "source": [
    "В датафрейме содержатся данные об автомобилях 40 марок:"
   ]
  },
  {
   "cell_type": "code",
   "execution_count": 16,
   "metadata": {},
   "outputs": [
    {
     "name": "stdout",
     "output_type": "stream",
     "text": [
      "40\n"
     ]
    }
   ],
   "source": [
    "print(cars['brand'].nunique())"
   ]
  },
  {
   "cell_type": "markdown",
   "metadata": {},
   "source": [
    "Пропусков нет:"
   ]
  },
  {
   "cell_type": "code",
   "execution_count": 17,
   "metadata": {},
   "outputs": [
    {
     "data": {
      "text/plain": [
       "0"
      ]
     },
     "metadata": {},
     "output_type": "display_data"
    }
   ],
   "source": [
    "display(cars['brand'].isna().sum())"
   ]
  },
  {
   "cell_type": "code",
   "execution_count": 18,
   "metadata": {},
   "outputs": [
    {
     "name": "stdout",
     "output_type": "stream",
     "text": [
      "['volkswagen' 'audi' 'jeep' 'skoda' 'bmw' 'peugeot' 'ford' 'mazda'\n",
      " 'nissan' 'renault' 'mercedes_benz' 'opel' 'seat' 'citroen' 'honda' 'fiat'\n",
      " 'mini' 'smart' 'hyundai' 'sonstige_autos' 'alfa_romeo' 'subaru' 'volvo'\n",
      " 'mitsubishi' 'kia' 'suzuki' 'lancia' 'toyota' 'chevrolet' 'dacia'\n",
      " 'daihatsu' 'trabant' 'saab' 'chrysler' 'jaguar' 'daewoo' 'porsche'\n",
      " 'rover' 'land_rover' 'lada']\n"
     ]
    }
   ],
   "source": [
    "print(cars['brand'].unique())"
   ]
  },
  {
   "cell_type": "markdown",
   "metadata": {},
   "source": [
    "Необычных значений нет за исключением некого *sonstige_autos*, что в переводе с немецкого означает \"другое авто\". Название, по-видимому, использовалось для объединения еще более редких марок в одну группу. "
   ]
  },
  {
   "cell_type": "markdown",
   "metadata": {},
   "source": [
    "Выведем 10 самых встречаемых марок:"
   ]
  },
  {
   "cell_type": "code",
   "execution_count": 19,
   "metadata": {},
   "outputs": [
    {
     "data": {
      "text/html": [
       "<div>\n",
       "<style scoped>\n",
       "    .dataframe tbody tr th:only-of-type {\n",
       "        vertical-align: middle;\n",
       "    }\n",
       "\n",
       "    .dataframe tbody tr th {\n",
       "        vertical-align: top;\n",
       "    }\n",
       "\n",
       "    .dataframe thead th {\n",
       "        text-align: right;\n",
       "    }\n",
       "</style>\n",
       "<table border=\"1\" class=\"dataframe\">\n",
       "  <thead>\n",
       "    <tr style=\"text-align: right;\">\n",
       "      <th></th>\n",
       "      <th>brand</th>\n",
       "      <th>abs_n</th>\n",
       "      <th>prop</th>\n",
       "    </tr>\n",
       "  </thead>\n",
       "  <tbody>\n",
       "    <tr>\n",
       "      <td>0</td>\n",
       "      <td>volkswagen</td>\n",
       "      <td>77012</td>\n",
       "      <td>0.217324</td>\n",
       "    </tr>\n",
       "    <tr>\n",
       "      <td>1</td>\n",
       "      <td>opel</td>\n",
       "      <td>39931</td>\n",
       "      <td>0.112683</td>\n",
       "    </tr>\n",
       "    <tr>\n",
       "      <td>2</td>\n",
       "      <td>bmw</td>\n",
       "      <td>36914</td>\n",
       "      <td>0.104169</td>\n",
       "    </tr>\n",
       "    <tr>\n",
       "      <td>3</td>\n",
       "      <td>mercedes_benz</td>\n",
       "      <td>32044</td>\n",
       "      <td>0.090427</td>\n",
       "    </tr>\n",
       "    <tr>\n",
       "      <td>4</td>\n",
       "      <td>audi</td>\n",
       "      <td>29456</td>\n",
       "      <td>0.083123</td>\n",
       "    </tr>\n",
       "    <tr>\n",
       "      <td>5</td>\n",
       "      <td>ford</td>\n",
       "      <td>25179</td>\n",
       "      <td>0.071054</td>\n",
       "    </tr>\n",
       "    <tr>\n",
       "      <td>6</td>\n",
       "      <td>renault</td>\n",
       "      <td>17927</td>\n",
       "      <td>0.050589</td>\n",
       "    </tr>\n",
       "    <tr>\n",
       "      <td>7</td>\n",
       "      <td>peugeot</td>\n",
       "      <td>10998</td>\n",
       "      <td>0.031036</td>\n",
       "    </tr>\n",
       "    <tr>\n",
       "      <td>8</td>\n",
       "      <td>fiat</td>\n",
       "      <td>9643</td>\n",
       "      <td>0.027212</td>\n",
       "    </tr>\n",
       "    <tr>\n",
       "      <td>9</td>\n",
       "      <td>seat</td>\n",
       "      <td>6907</td>\n",
       "      <td>0.019491</td>\n",
       "    </tr>\n",
       "  </tbody>\n",
       "</table>\n",
       "</div>"
      ],
      "text/plain": [
       "           brand  abs_n      prop\n",
       "0     volkswagen  77012  0.217324\n",
       "1           opel  39931  0.112683\n",
       "2            bmw  36914  0.104169\n",
       "3  mercedes_benz  32044  0.090427\n",
       "4           audi  29456  0.083123\n",
       "5           ford  25179  0.071054\n",
       "6        renault  17927  0.050589\n",
       "7        peugeot  10998  0.031036\n",
       "8           fiat   9643  0.027212\n",
       "9           seat   6907  0.019491"
      ]
     },
     "execution_count": 19,
     "metadata": {},
     "output_type": "execute_result"
    }
   ],
   "source": [
    "br = pd.DataFrame(cars['brand'].value_counts()).reset_index() \\\n",
    "    .merge(cars['brand'].value_counts(normalize = True).to_frame().reset_index(), on = 'index') \\\n",
    "    .rename(columns = {'index' : 'brand', 'brand_x' : 'abs_n', 'brand_y' : 'prop'})\n",
    "br.head(10)"
   ]
  },
  {
   "cell_type": "markdown",
   "metadata": {},
   "source": [
    "Как видно, можно выделить лишь несколько марок, встречаемых относительно часто. \n",
    "\n",
    "Построим распределение. Для наглядности выведем только те марки, доля которых в общей выборке не менее 1%."
   ]
  },
  {
   "cell_type": "code",
   "execution_count": 20,
   "metadata": {},
   "outputs": [],
   "source": [
    "#вспомогательная функция для отображения процентов на графике\n",
    "#принимает на вход название графика, сдвиг надписи по горизонтали и по вертикали\n",
    "\n",
    "def show_percent(figure, shift, height):\n",
    "    totals = []\n",
    "    for i in figure.patches:\n",
    "        totals.append(i.get_height())\n",
    "    \n",
    "    total = sum(totals)\n",
    "\n",
    "    for i in figure.patches:\n",
    "        figure.text(i.get_x() + shift, i.get_height() + height, \\\n",
    "            str(round((i.get_height() / total) * 100, 2)) + '%', fontsize = 12,\n",
    "                color = 'black')"
   ]
  },
  {
   "cell_type": "code",
   "execution_count": 21,
   "metadata": {
    "scrolled": false
   },
   "outputs": [
    {
     "data": {
      "image/png": "[encoded data removed]",
      "text/plain": [
       "<Figure size 1080x432 with 1 Axes>"
      ]
     },
     "metadata": {},
     "output_type": "display_data"
    }
   ],
   "source": [
    "plt.figure(figsize=(15, 6))\n",
    "sns.set_style(\"darkgrid\")\n",
    "fig = sns.barplot(x = br.query('prop >= 0.01')['brand'], y = br.query('prop >= 0.01')['abs_n'], palette = \"Blues_d\")\n",
    "fig.set_title(\"Распределение марок автомобилей (с долей более 1%)\", fontsize = 14)\n",
    "fig.set_ylabel(\"Количество автомобилей\", fontsize = 10)\n",
    "fig.set_xlabel(\"\")\n",
    "plt.xticks(rotation = 45)\n",
    "show_percent(fig, 0.03, 800)"
   ]
  },
  {
   "cell_type": "markdown",
   "metadata": {},
   "source": [
    "Безусловный лидер - Фольксваген. Также довольно часто встречаются Опель, BMW, Мерседес-Бенц, Ауди и Форд."
   ]
  },
  {
   "cell_type": "markdown",
   "metadata": {},
   "source": [
    "**registration_year — год регистрации автомобиля**"
   ]
  },
  {
   "cell_type": "markdown",
   "metadata": {},
   "source": [
    "Толковать значение этой переменной можно двояко: как год выпуска машины или как год, в котором последний владелец поставил ее на учет. Посмотрим на статистики и распределение признака:"
   ]
  },
  {
   "cell_type": "code",
   "execution_count": 22,
   "metadata": {},
   "outputs": [
    {
     "data": {
      "text/plain": [
       "count    354365.000000\n",
       "mean       2004.234481\n",
       "std          90.228466\n",
       "min        1000.000000\n",
       "25%        1999.000000\n",
       "50%        2003.000000\n",
       "75%        2008.000000\n",
       "max        9999.000000\n",
       "Name: registration_year, dtype: float64"
      ]
     },
     "execution_count": 22,
     "metadata": {},
     "output_type": "execute_result"
    }
   ],
   "source": [
    "cars['registration_year'].describe()"
   ]
  },
  {
   "cell_type": "markdown",
   "metadata": {},
   "source": [
    "В столбце явно встречаются аномальные значения: ожидаемый год регистрации должен попасть в промежуток примерно с 1900 по 2022 гг. В нашей выборке переменная принимает значения от 1000 до 9999. Посмотрим, сколько таких записей:"
   ]
  },
  {
   "cell_type": "code",
   "execution_count": 23,
   "metadata": {},
   "outputs": [
    {
     "data": {
      "text/plain": [
       "171"
      ]
     },
     "execution_count": 23,
     "metadata": {},
     "output_type": "execute_result"
    }
   ],
   "source": [
    "cars.query('registration_year < 1900 | registration_year > 2022')['registration_year'].count()"
   ]
  },
  {
   "cell_type": "markdown",
   "metadata": {},
   "source": [
    "Таких значений всего 0,048%, поэтому можно без последствий удалить их из датасета:"
   ]
  },
  {
   "cell_type": "code",
   "execution_count": 24,
   "metadata": {},
   "outputs": [],
   "source": [
    "cars = cars.loc[(1900 <= cars['registration_year']) & (cars['registration_year'] <= 2022 )]"
   ]
  },
  {
   "cell_type": "markdown",
   "metadata": {},
   "source": [
    "После удаления заведомо неверных значений статистики примут вид:"
   ]
  },
  {
   "cell_type": "code",
   "execution_count": 25,
   "metadata": {},
   "outputs": [
    {
     "data": {
      "text/plain": [
       "count    354194.000000\n",
       "mean       2003.084809\n",
       "std           7.536457\n",
       "min        1910.000000\n",
       "25%        1999.000000\n",
       "50%        2003.000000\n",
       "75%        2008.000000\n",
       "max        2019.000000\n",
       "Name: registration_year, dtype: float64"
      ]
     },
     "execution_count": 25,
     "metadata": {},
     "output_type": "execute_result"
    }
   ],
   "source": [
    "cars['registration_year'].describe()"
   ]
  },
  {
   "cell_type": "markdown",
   "metadata": {},
   "source": [
    "Теперь можно сделать вывод о том, что год регистрации - это год выпуска автомобиля. В датасете встречаются ретро-машины начала ХХ века. Половина автомобилей выпущена не позднее 2003 года.\n",
    "\n",
    "Как ни странно, около 4% машин выпущены после 2016 г., когда были созданы самые поздние анкеты. Однако оставим это на совести составителей датасета и не будем удалять соответствующие строки."
   ]
  },
  {
   "cell_type": "code",
   "execution_count": 26,
   "metadata": {},
   "outputs": [
    {
     "data": {
      "text/plain": [
       "14425"
      ]
     },
     "execution_count": 26,
     "metadata": {},
     "output_type": "execute_result"
    }
   ],
   "source": [
    "cars.query('registration_year > 2016')['registration_year'].count()"
   ]
  },
  {
   "cell_type": "markdown",
   "metadata": {},
   "source": [
    "Посмотрим на график распределения, отрезав 1% значений с левого хвоста:"
   ]
  },
  {
   "cell_type": "code",
   "execution_count": 27,
   "metadata": {},
   "outputs": [
    {
     "data": {
      "text/plain": [
       "1980.0"
      ]
     },
     "execution_count": 27,
     "metadata": {},
     "output_type": "execute_result"
    }
   ],
   "source": [
    "np.percentile(cars['registration_year'], 1)"
   ]
  },
  {
   "cell_type": "code",
   "execution_count": 28,
   "metadata": {},
   "outputs": [],
   "source": [
    "reg_y = cars.groupby(by = 'registration_year').agg({'brand' : 'count'}).reset_index()\\\n",
    "                         .rename(columns = {'brand':'n'}).sort_values(by = 'n', ascending = False)"
   ]
  },
  {
   "cell_type": "code",
   "execution_count": 29,
   "metadata": {},
   "outputs": [
    {
     "data": {
      "image/png": "[encoded data removed]",
      "text/plain": [
       "<Figure size 1080x432 with 1 Axes>"
      ]
     },
     "metadata": {},
     "output_type": "display_data"
    }
   ],
   "source": [
    "plt.figure(figsize=(15, 6))\n",
    "fig = sns.barplot(x = reg_y.query('registration_year >= 1980')['registration_year'], \\\n",
    "                  y = reg_y.query('registration_year >= 1980')['n'], palette = \"Blues_d\");\n",
    "fig.set_title(\"Год выпуска автомобилей\", fontsize = 14)\n",
    "fig.set_ylabel(\"Количество автомобилей\", fontsize = 10)\n",
    "fig.set_xlabel(\"\")\n",
    "plt.xticks(rotation = 90)\n",
    "plt.show()"
   ]
  },
  {
   "cell_type": "markdown",
   "metadata": {},
   "source": [
    "Основная часть автомобилей датасета выпущена в 1997-2009 гг."
   ]
  },
  {
   "cell_type": "markdown",
   "metadata": {},
   "source": [
    "**registration_month — месяц регистрации автомобиля**"
   ]
  },
  {
   "cell_type": "markdown",
   "metadata": {},
   "source": [
    "Посмотрим на распределение:"
   ]
  },
  {
   "cell_type": "code",
   "execution_count": 30,
   "metadata": {},
   "outputs": [
    {
     "data": {
      "text/plain": [
       "count    354194.000000\n",
       "mean          5.716825\n",
       "std           3.725551\n",
       "min           0.000000\n",
       "25%           3.000000\n",
       "50%           6.000000\n",
       "75%           9.000000\n",
       "max          12.000000\n",
       "Name: registration_month, dtype: float64"
      ]
     },
     "execution_count": 30,
     "metadata": {},
     "output_type": "execute_result"
    }
   ],
   "source": [
    "cars['registration_month'].describe()"
   ]
  },
  {
   "cell_type": "code",
   "execution_count": 31,
   "metadata": {},
   "outputs": [],
   "source": [
    "reg_m = cars.groupby(by = 'registration_month').agg({'brand' : 'count'}).reset_index()\\\n",
    "                         .rename(columns = {'brand':'n'}).sort_values(by = 'n', ascending = False)"
   ]
  },
  {
   "cell_type": "code",
   "execution_count": 32,
   "metadata": {},
   "outputs": [
    {
     "data": {
      "image/png": "[encoded data removed]",
      "text/plain": [
       "<Figure size 864x360 with 1 Axes>"
      ]
     },
     "metadata": {},
     "output_type": "display_data"
    }
   ],
   "source": [
    "plt.figure(figsize=(12, 5))\n",
    "fig = sns.barplot(x = 'registration_month', y = 'n', data = reg_m, palette = \"Blues_d\");\n",
    "fig.set_title(\"Месяц выпуска автомобилей\", fontsize = 14)\n",
    "fig.set_ylabel(\"Количество автомобилей\", fontsize = 10)\n",
    "fig.set_xlabel(\"\")\n",
    "show_percent(fig, 0.05, 200)\n",
    "plt.show()"
   ]
  },
  {
   "cell_type": "markdown",
   "metadata": {},
   "source": [
    "Обратим внимание, что в выборке не 12, а 13 месяцев. Чаще всего встречается месяц с номером ноль. Скорее всего, он соответствует пропущенным значениям, вместо которых указали нули. Заменить их на реальные данные нет возможности.\n",
    "\n",
    "Вообще говоря, крайне маловероятно, что месяц выпуска влияет на стоимость машины. А поскольку в соответствующем столбце еще и 10% некорректных данных, это может негативно повлиять на прогнозируемые значения при постройке моделей. Удалим столбец из датасета:"
   ]
  },
  {
   "cell_type": "code",
   "execution_count": 33,
   "metadata": {},
   "outputs": [],
   "source": [
    "cars = cars.drop(['registration_month'], axis = 1)"
   ]
  },
  {
   "cell_type": "markdown",
   "metadata": {},
   "source": [
    "**model — модель автомобиля**"
   ]
  },
  {
   "cell_type": "markdown",
   "metadata": {},
   "source": [
    "Теперь рассмотрим признак модели автомобиля."
   ]
  },
  {
   "cell_type": "code",
   "execution_count": 34,
   "metadata": {},
   "outputs": [
    {
     "data": {
      "text/plain": [
       "250"
      ]
     },
     "execution_count": 34,
     "metadata": {},
     "output_type": "execute_result"
    }
   ],
   "source": [
    "cars['model'].nunique() "
   ]
  },
  {
   "cell_type": "code",
   "execution_count": 35,
   "metadata": {},
   "outputs": [
    {
     "data": {
      "text/plain": [
       "array(['golf', nan, 'grand', 'fabia', '3er', '2_reihe', 'other', 'c_max',\n",
       "       '3_reihe', 'passat', 'navara', 'ka', 'polo', 'twingo', 'a_klasse',\n",
       "       'scirocco', '5er', 'meriva', 'arosa', 'c4', 'civic', 'transporter',\n",
       "       'punto', 'e_klasse', 'clio', 'kadett', 'kangoo', 'corsa', 'one',\n",
       "       'fortwo', '1er', 'b_klasse', 'signum', 'astra', 'a8', 'jetta',\n",
       "       'fiesta', 'c_klasse', 'micra', 'vito', 'sprinter', '156', 'escort',\n",
       "       'forester', 'xc_reihe', 'scenic', 'a4', 'a1', 'insignia', 'combo',\n",
       "       'focus', 'tt', 'a6', 'jazz', 'omega', 'slk', '7er', '80', '147',\n",
       "       '100', 'z_reihe', 'sportage', 'sorento', 'v40', 'ibiza', 'mustang',\n",
       "       'eos', 'touran', 'getz', 'a3', 'almera', 'megane', 'lupo', 'r19',\n",
       "       'zafira', 'caddy', 'mondeo', 'cordoba', 'colt', 'impreza',\n",
       "       'vectra', 'berlingo', 'tiguan', 'i_reihe', 'espace', 'sharan',\n",
       "       '6_reihe', 'panda', 'up', 'seicento', 'ceed', '5_reihe', 'yeti',\n",
       "       'octavia', 'mii', 'rx_reihe', '6er', 'modus', 'fox', 'matiz',\n",
       "       'beetle', 'c1', 'rio', 'touareg', 'logan', 'spider', 'cuore',\n",
       "       's_max', 'a2', 'galaxy', 'c3', 'viano', 's_klasse', '1_reihe',\n",
       "       'avensis', 'roomster', 'sl', 'kaefer', 'santa', 'cooper', 'leon',\n",
       "       '4_reihe', 'a5', '500', 'laguna', 'ptcruiser', 'clk', 'primera',\n",
       "       'x_reihe', 'exeo', '159', 'transit', 'juke', 'qashqai', 'carisma',\n",
       "       'accord', 'corolla', 'lanos', 'phaeton', 'verso', 'swift', 'rav',\n",
       "       'picanto', 'boxster', 'kalos', 'superb', 'stilo', 'alhambra',\n",
       "       'mx_reihe', 'roadster', 'ypsilon', 'cayenne', 'galant', 'justy',\n",
       "       '90', 'sirion', 'crossfire', 'agila', 'duster', 'cr_reihe', 'v50',\n",
       "       'c_reihe', 'v_klasse', 'm_klasse', 'yaris', 'c5', 'aygo', 'cc',\n",
       "       'carnival', 'fusion', '911', 'bora', 'forfour', 'm_reihe', 'cl',\n",
       "       'tigra', '300c', 'spark', 'v70', 'kuga', 'x_type', 'ducato',\n",
       "       's_type', 'x_trail', 'toledo', 'altea', 'voyager', 'calibra',\n",
       "       'bravo', 'antara', 'tucson', 'citigo', 'jimny', 'wrangler',\n",
       "       'lybra', 'q7', 'lancer', 'captiva', 'c2', 'discovery',\n",
       "       'freelander', 'sandero', 'note', '900', 'cherokee', 'clubman',\n",
       "       'samara', 'defender', '601', 'cx_reihe', 'legacy', 'pajero',\n",
       "       'auris', 'niva', 's60', 'nubira', 'vivaro', 'g_klasse', 'lodgy',\n",
       "       '850', 'range_rover', 'q3', 'serie_2', 'glk', 'charade', 'croma',\n",
       "       'outlander', 'doblo', 'musa', 'move', '9000', 'v60', '145', 'aveo',\n",
       "       '200', 'b_max', 'range_rover_sport', 'terios', 'rangerover', 'q5',\n",
       "       'range_rover_evoque', 'materia', 'delta', 'gl', 'kalina', 'amarok',\n",
       "       'elefantino', 'i3', 'kappa', 'serie_3', 'serie_1'], dtype=object)"
      ]
     },
     "execution_count": 35,
     "metadata": {},
     "output_type": "execute_result"
    }
   ],
   "source": [
    "cars['model'].unique() "
   ]
  },
  {
   "cell_type": "markdown",
   "metadata": {},
   "source": [
    "Похоже, что некорректных названий моделей машин в датасете нет. График распределения выводить бессмысленно - слишком большое число уникальных значений. Посмотрим на самые часто встречаемые: "
   ]
  },
  {
   "cell_type": "code",
   "execution_count": 36,
   "metadata": {},
   "outputs": [
    {
     "data": {
      "text/plain": [
       "golf     29218\n",
       "other    24402\n",
       "3er      19756\n",
       "polo     13063\n",
       "corsa    12564\n",
       "Name: model, dtype: int64"
      ]
     },
     "metadata": {},
     "output_type": "display_data"
    },
    {
     "data": {
      "text/plain": [
       "golf     0.087332\n",
       "other    0.072937\n",
       "3er      0.059050\n",
       "polo     0.039045\n",
       "corsa    0.037553\n",
       "Name: model, dtype: float64"
      ]
     },
     "metadata": {},
     "output_type": "display_data"
    }
   ],
   "source": [
    "display(cars['model'].value_counts().head()) \n",
    "display(cars['model'].value_counts(normalize = True).head()) "
   ]
  },
  {
   "cell_type": "markdown",
   "metadata": {},
   "source": [
    "Как мы помним, в столбце **model** около 5,5% пропущенных значений. Восстановим их, используя самое часто встречаемое значение **model** по группам с соотвтествующими параметрами **brand** и **registration_year**:"
   ]
  },
  {
   "cell_type": "code",
   "execution_count": 37,
   "metadata": {},
   "outputs": [
    {
     "data": {
      "text/plain": [
       "19630"
      ]
     },
     "execution_count": 37,
     "metadata": {},
     "output_type": "execute_result"
    }
   ],
   "source": [
    "cars['model'].isna().sum()"
   ]
  },
  {
   "cell_type": "code",
   "execution_count": 38,
   "metadata": {},
   "outputs": [],
   "source": [
    "cars['model'] = cars.groupby(['brand', 'registration_year'])['model']\\\n",
    "                    .transform(lambda x: x.fillna((x.mode()[0] if not x.mode().empty else \"unknown\")))"
   ]
  },
  {
   "cell_type": "code",
   "execution_count": 39,
   "metadata": {},
   "outputs": [
    {
     "data": {
      "text/plain": [
       "count     354194\n",
       "unique       251\n",
       "top         golf\n",
       "freq       32672\n",
       "Name: model, dtype: object"
      ]
     },
     "execution_count": 39,
     "metadata": {},
     "output_type": "execute_result"
    }
   ],
   "source": [
    "cars['model'].describe()"
   ]
  },
  {
   "cell_type": "markdown",
   "metadata": {},
   "source": [
    "Теперь все ячейки стобца заполнены. Посмотрим, для какого количества строк не удалось определить моду:"
   ]
  },
  {
   "cell_type": "code",
   "execution_count": 40,
   "metadata": {},
   "outputs": [
    {
     "data": {
      "text/plain": [
       "3375"
      ]
     },
     "execution_count": 40,
     "metadata": {},
     "output_type": "execute_result"
    }
   ],
   "source": [
    "cars.query('model == \"unknown\"')['model'].count()"
   ]
  },
  {
   "cell_type": "markdown",
   "metadata": {},
   "source": [
    "Это гораздо лучше, чем 19 630 пропусков изначально."
   ]
  },
  {
   "cell_type": "markdown",
   "metadata": {},
   "source": [
    "Снова посмотрим на самые популярные модели:"
   ]
  },
  {
   "cell_type": "code",
   "execution_count": 41,
   "metadata": {},
   "outputs": [
    {
     "data": {
      "text/plain": [
       "golf     32672\n",
       "other    25877\n",
       "3er      21635\n",
       "corsa    13880\n",
       "polo     13063\n",
       "Name: model, dtype: int64"
      ]
     },
     "metadata": {},
     "output_type": "display_data"
    },
    {
     "data": {
      "text/plain": [
       "golf     0.092243\n",
       "other    0.073059\n",
       "3er      0.061082\n",
       "corsa    0.039188\n",
       "polo     0.036881\n",
       "Name: model, dtype: float64"
      ]
     },
     "metadata": {},
     "output_type": "display_data"
    }
   ],
   "source": [
    "display(cars['model'].value_counts().head()) \n",
    "display(cars['model'].value_counts(normalize = True).head()) "
   ]
  },
  {
   "cell_type": "markdown",
   "metadata": {},
   "source": [
    "Доли всех моделей незначительно подросли, Corsa и Polo поменялись местами."
   ]
  },
  {
   "cell_type": "markdown",
   "metadata": {},
   "source": [
    "**vehicle_type — тип автомобильного кузова**"
   ]
  },
  {
   "cell_type": "markdown",
   "metadata": {},
   "source": [
    "Посмотрим на принимаемые значения переменной и их частоту:"
   ]
  },
  {
   "cell_type": "code",
   "execution_count": 42,
   "metadata": {},
   "outputs": [
    {
     "data": {
      "text/html": [
       "<div>\n",
       "<style scoped>\n",
       "    .dataframe tbody tr th:only-of-type {\n",
       "        vertical-align: middle;\n",
       "    }\n",
       "\n",
       "    .dataframe tbody tr th {\n",
       "        vertical-align: top;\n",
       "    }\n",
       "\n",
       "    .dataframe thead th {\n",
       "        text-align: right;\n",
       "    }\n",
       "</style>\n",
       "<table border=\"1\" class=\"dataframe\">\n",
       "  <thead>\n",
       "    <tr style=\"text-align: right;\">\n",
       "      <th></th>\n",
       "      <th>vehicle_type</th>\n",
       "      <th>abs_n</th>\n",
       "      <th>prop</th>\n",
       "    </tr>\n",
       "  </thead>\n",
       "  <tbody>\n",
       "    <tr>\n",
       "      <td>0</td>\n",
       "      <td>sedan</td>\n",
       "      <td>91457</td>\n",
       "      <td>0.288622</td>\n",
       "    </tr>\n",
       "    <tr>\n",
       "      <td>1</td>\n",
       "      <td>small</td>\n",
       "      <td>79830</td>\n",
       "      <td>0.251929</td>\n",
       "    </tr>\n",
       "    <tr>\n",
       "      <td>2</td>\n",
       "      <td>wagon</td>\n",
       "      <td>65165</td>\n",
       "      <td>0.205649</td>\n",
       "    </tr>\n",
       "    <tr>\n",
       "      <td>3</td>\n",
       "      <td>bus</td>\n",
       "      <td>28775</td>\n",
       "      <td>0.090809</td>\n",
       "    </tr>\n",
       "    <tr>\n",
       "      <td>4</td>\n",
       "      <td>convertible</td>\n",
       "      <td>20203</td>\n",
       "      <td>0.063757</td>\n",
       "    </tr>\n",
       "    <tr>\n",
       "      <td>5</td>\n",
       "      <td>coupe</td>\n",
       "      <td>16161</td>\n",
       "      <td>0.051001</td>\n",
       "    </tr>\n",
       "    <tr>\n",
       "      <td>6</td>\n",
       "      <td>suv</td>\n",
       "      <td>11996</td>\n",
       "      <td>0.037857</td>\n",
       "    </tr>\n",
       "    <tr>\n",
       "      <td>7</td>\n",
       "      <td>other</td>\n",
       "      <td>3288</td>\n",
       "      <td>0.010376</td>\n",
       "    </tr>\n",
       "  </tbody>\n",
       "</table>\n",
       "</div>"
      ],
      "text/plain": [
       "  vehicle_type  abs_n      prop\n",
       "0        sedan  91457  0.288622\n",
       "1        small  79830  0.251929\n",
       "2        wagon  65165  0.205649\n",
       "3          bus  28775  0.090809\n",
       "4  convertible  20203  0.063757\n",
       "5        coupe  16161  0.051001\n",
       "6          suv  11996  0.037857\n",
       "7        other   3288  0.010376"
      ]
     },
     "execution_count": 42,
     "metadata": {},
     "output_type": "execute_result"
    }
   ],
   "source": [
    "vt = cars['vehicle_type'].value_counts().to_frame().reset_index() \\\n",
    "    .merge(cars['vehicle_type'].value_counts(normalize = True).to_frame().reset_index(), on = 'index') \\\n",
    "    .rename(columns = {'index' : 'vehicle_type', 'vehicle_type_x' : 'abs_n', 'vehicle_type_y' : 'prop'})\n",
    "vt"
   ]
  },
  {
   "cell_type": "markdown",
   "metadata": {},
   "source": [
    "Итого 8 типов автомобильного кузова. Некорректных значений нет. Построим график распределения:"
   ]
  },
  {
   "cell_type": "code",
   "execution_count": 43,
   "metadata": {},
   "outputs": [
    {
     "data": {
      "image/png": "[encoded data removed]",
      "text/plain": [
       "<Figure size 648x360 with 1 Axes>"
      ]
     },
     "metadata": {},
     "output_type": "display_data"
    }
   ],
   "source": [
    "plt.figure(figsize=(9, 5))\n",
    "fig = sns.barplot(x = 'vehicle_type', y = 'abs_n', data = vt, palette = \"Blues_d\");\n",
    "fig.set_title(\"Распределение типов кузова\", fontsize = 14)\n",
    "fig.set_ylabel(\"Количество автомобилей\", fontsize = 10)\n",
    "fig.set_xlabel(\"\")\n",
    "show_percent(fig, 0.10, 800)"
   ]
  },
  {
   "cell_type": "markdown",
   "metadata": {},
   "source": [
    "Преобладают автомобили с кузовом типа седан, small (возможно, так обозначен мини) и универсал."
   ]
  },
  {
   "cell_type": "markdown",
   "metadata": {},
   "source": [
    "Как мы помним, в столбце **vehicle_type** около 10% пропусков:"
   ]
  },
  {
   "cell_type": "code",
   "execution_count": 44,
   "metadata": {},
   "outputs": [
    {
     "data": {
      "text/plain": [
       "37319"
      ]
     },
     "metadata": {},
     "output_type": "display_data"
    },
    {
     "data": {
      "text/plain": [
       "0.10536"
      ]
     },
     "metadata": {},
     "output_type": "display_data"
    }
   ],
   "source": [
    "display(cars['vehicle_type'].isna().sum())\n",
    "display((cars['vehicle_type'].isna().sum() / cars.shape[0]).round(5))"
   ]
  },
  {
   "cell_type": "markdown",
   "metadata": {},
   "source": [
    "Логичнее всего привязать тип кузова к марке и модели автомобиля и заполнить самым часто встречаемым значением:"
   ]
  },
  {
   "cell_type": "code",
   "execution_count": 45,
   "metadata": {},
   "outputs": [],
   "source": [
    "cars['vehicle_type'] = cars.groupby(['brand', 'model'])['vehicle_type']\\\n",
    "                    .transform(lambda x: x.fillna((x.mode()[0] if not x.mode().empty else \"unknown\")))"
   ]
  },
  {
   "cell_type": "code",
   "execution_count": 46,
   "metadata": {},
   "outputs": [
    {
     "data": {
      "text/html": [
       "<div>\n",
       "<style scoped>\n",
       "    .dataframe tbody tr th:only-of-type {\n",
       "        vertical-align: middle;\n",
       "    }\n",
       "\n",
       "    .dataframe tbody tr th {\n",
       "        vertical-align: top;\n",
       "    }\n",
       "\n",
       "    .dataframe thead th {\n",
       "        text-align: right;\n",
       "    }\n",
       "</style>\n",
       "<table border=\"1\" class=\"dataframe\">\n",
       "  <thead>\n",
       "    <tr style=\"text-align: right;\">\n",
       "      <th></th>\n",
       "      <th>vehicle_type</th>\n",
       "      <th>abs_n</th>\n",
       "      <th>prop</th>\n",
       "    </tr>\n",
       "  </thead>\n",
       "  <tbody>\n",
       "    <tr>\n",
       "      <td>0</td>\n",
       "      <td>sedan</td>\n",
       "      <td>108265</td>\n",
       "      <td>0.305666</td>\n",
       "    </tr>\n",
       "    <tr>\n",
       "      <td>1</td>\n",
       "      <td>small</td>\n",
       "      <td>91026</td>\n",
       "      <td>0.256995</td>\n",
       "    </tr>\n",
       "    <tr>\n",
       "      <td>2</td>\n",
       "      <td>wagon</td>\n",
       "      <td>69148</td>\n",
       "      <td>0.195226</td>\n",
       "    </tr>\n",
       "    <tr>\n",
       "      <td>3</td>\n",
       "      <td>bus</td>\n",
       "      <td>32392</td>\n",
       "      <td>0.091453</td>\n",
       "    </tr>\n",
       "    <tr>\n",
       "      <td>4</td>\n",
       "      <td>convertible</td>\n",
       "      <td>20485</td>\n",
       "      <td>0.057836</td>\n",
       "    </tr>\n",
       "    <tr>\n",
       "      <td>5</td>\n",
       "      <td>coupe</td>\n",
       "      <td>16828</td>\n",
       "      <td>0.047511</td>\n",
       "    </tr>\n",
       "    <tr>\n",
       "      <td>6</td>\n",
       "      <td>suv</td>\n",
       "      <td>12731</td>\n",
       "      <td>0.035944</td>\n",
       "    </tr>\n",
       "    <tr>\n",
       "      <td>7</td>\n",
       "      <td>other</td>\n",
       "      <td>3316</td>\n",
       "      <td>0.009362</td>\n",
       "    </tr>\n",
       "    <tr>\n",
       "      <td>8</td>\n",
       "      <td>unknown</td>\n",
       "      <td>3</td>\n",
       "      <td>0.000008</td>\n",
       "    </tr>\n",
       "  </tbody>\n",
       "</table>\n",
       "</div>"
      ],
      "text/plain": [
       "  vehicle_type   abs_n      prop\n",
       "0        sedan  108265  0.305666\n",
       "1        small   91026  0.256995\n",
       "2        wagon   69148  0.195226\n",
       "3          bus   32392  0.091453\n",
       "4  convertible   20485  0.057836\n",
       "5        coupe   16828  0.047511\n",
       "6          suv   12731  0.035944\n",
       "7        other    3316  0.009362\n",
       "8      unknown       3  0.000008"
      ]
     },
     "execution_count": 46,
     "metadata": {},
     "output_type": "execute_result"
    }
   ],
   "source": [
    "vt = cars['vehicle_type'].value_counts().to_frame().reset_index() \\\n",
    "    .merge(cars['vehicle_type'].value_counts(normalize = True).to_frame().reset_index(), on = 'index') \\\n",
    "    .rename(columns = {'index' : 'vehicle_type', 'vehicle_type_x' : 'abs_n', 'vehicle_type_y' : 'prop'})\n",
    "vt"
   ]
  },
  {
   "cell_type": "markdown",
   "metadata": {},
   "source": [
    "Удалим строки с тремя незаполненными значениями:"
   ]
  },
  {
   "cell_type": "code",
   "execution_count": 47,
   "metadata": {},
   "outputs": [],
   "source": [
    "cars = cars.loc[cars['vehicle_type'] != 'unknown']"
   ]
  },
  {
   "cell_type": "code",
   "execution_count": 48,
   "metadata": {},
   "outputs": [
    {
     "data": {
      "image/png": "[encoded data removed]",
      "text/plain": [
       "<Figure size 648x360 with 1 Axes>"
      ]
     },
     "metadata": {},
     "output_type": "display_data"
    }
   ],
   "source": [
    "plt.figure(figsize=(9, 5))\n",
    "fig = sns.barplot(x = 'vehicle_type', y = 'abs_n', data = vt, palette = \"Blues_d\");\n",
    "fig.set_title(\"Распределение типов кузова после замены пропусков\", fontsize = 14)\n",
    "fig.set_ylabel(\"Количество автомобилей\", fontsize = 10)\n",
    "fig.set_xlabel(\"\")\n",
    "show_percent(fig, 0.08, 800)"
   ]
  },
  {
   "cell_type": "markdown",
   "metadata": {},
   "source": [
    "Почти все значения были восстановлены. График распределения существенно не изменился."
   ]
  },
  {
   "cell_type": "markdown",
   "metadata": {},
   "source": [
    "**gearbox — тип коробки передач**"
   ]
  },
  {
   "cell_type": "markdown",
   "metadata": {},
   "source": [
    "Посмотрим на принимаемые значения переменной и их частоту:"
   ]
  },
  {
   "cell_type": "code",
   "execution_count": 49,
   "metadata": {},
   "outputs": [
    {
     "data": {
      "text/html": [
       "<div>\n",
       "<style scoped>\n",
       "    .dataframe tbody tr th:only-of-type {\n",
       "        vertical-align: middle;\n",
       "    }\n",
       "\n",
       "    .dataframe tbody tr th {\n",
       "        vertical-align: top;\n",
       "    }\n",
       "\n",
       "    .dataframe thead th {\n",
       "        text-align: right;\n",
       "    }\n",
       "</style>\n",
       "<table border=\"1\" class=\"dataframe\">\n",
       "  <thead>\n",
       "    <tr style=\"text-align: right;\">\n",
       "      <th></th>\n",
       "      <th>gearbox</th>\n",
       "      <th>abs_n</th>\n",
       "      <th>prop</th>\n",
       "    </tr>\n",
       "  </thead>\n",
       "  <tbody>\n",
       "    <tr>\n",
       "      <td>0</td>\n",
       "      <td>manual</td>\n",
       "      <td>268223</td>\n",
       "      <td>0.801865</td>\n",
       "    </tr>\n",
       "    <tr>\n",
       "      <td>1</td>\n",
       "      <td>auto</td>\n",
       "      <td>66276</td>\n",
       "      <td>0.198135</td>\n",
       "    </tr>\n",
       "  </tbody>\n",
       "</table>\n",
       "</div>"
      ],
      "text/plain": [
       "  gearbox   abs_n      prop\n",
       "0  manual  268223  0.801865\n",
       "1    auto   66276  0.198135"
      ]
     },
     "execution_count": 49,
     "metadata": {},
     "output_type": "execute_result"
    }
   ],
   "source": [
    "gb = cars['gearbox'].value_counts().to_frame().reset_index() \\\n",
    "    .merge(cars['gearbox'].value_counts(normalize = True).to_frame().reset_index(), on = 'index') \\\n",
    "    .rename(columns = {'index' : 'gearbox', 'gearbox_x' : 'abs_n', 'gearbox_y' : 'prop'})\n",
    "gb"
   ]
  },
  {
   "cell_type": "markdown",
   "metadata": {},
   "source": [
    "Переменная принимает два значения - *manual* и *auto*. Некорректных значений нет. Машины с механической коробкой передач составляют 80%."
   ]
  },
  {
   "cell_type": "markdown",
   "metadata": {},
   "source": [
    "В столбце **gearbox** 5,5% пропусков:"
   ]
  },
  {
   "cell_type": "code",
   "execution_count": 50,
   "metadata": {},
   "outputs": [
    {
     "data": {
      "text/plain": [
       "19692"
      ]
     },
     "metadata": {},
     "output_type": "display_data"
    },
    {
     "data": {
      "text/plain": [
       "0.0556"
      ]
     },
     "metadata": {},
     "output_type": "display_data"
    }
   ],
   "source": [
    "display(cars['gearbox'].isna().sum())\n",
    "display((cars['gearbox'].isna().sum() / cars.shape[0]).round(5))"
   ]
  },
  {
   "cell_type": "markdown",
   "metadata": {},
   "source": [
    "Как и ранее, привяжем коробку передач к марке и модели автомобиля и заполним самым часто встречаемым значением:"
   ]
  },
  {
   "cell_type": "code",
   "execution_count": 51,
   "metadata": {},
   "outputs": [],
   "source": [
    "cars['gearbox'] = cars.groupby(['brand', 'model'])['gearbox']\\\n",
    "                    .transform(lambda x: x.fillna((x.mode()[0] if not x.mode().empty else \"unknown\")))"
   ]
  },
  {
   "cell_type": "code",
   "execution_count": 52,
   "metadata": {},
   "outputs": [
    {
     "data": {
      "text/html": [
       "<div>\n",
       "<style scoped>\n",
       "    .dataframe tbody tr th:only-of-type {\n",
       "        vertical-align: middle;\n",
       "    }\n",
       "\n",
       "    .dataframe tbody tr th {\n",
       "        vertical-align: top;\n",
       "    }\n",
       "\n",
       "    .dataframe thead th {\n",
       "        text-align: right;\n",
       "    }\n",
       "</style>\n",
       "<table border=\"1\" class=\"dataframe\">\n",
       "  <thead>\n",
       "    <tr style=\"text-align: right;\">\n",
       "      <th></th>\n",
       "      <th>gearbox</th>\n",
       "      <th>abs_n</th>\n",
       "      <th>prop</th>\n",
       "    </tr>\n",
       "  </thead>\n",
       "  <tbody>\n",
       "    <tr>\n",
       "      <td>0</td>\n",
       "      <td>manual</td>\n",
       "      <td>285797</td>\n",
       "      <td>0.806901</td>\n",
       "    </tr>\n",
       "    <tr>\n",
       "      <td>1</td>\n",
       "      <td>auto</td>\n",
       "      <td>68393</td>\n",
       "      <td>0.193096</td>\n",
       "    </tr>\n",
       "    <tr>\n",
       "      <td>2</td>\n",
       "      <td>unknown</td>\n",
       "      <td>1</td>\n",
       "      <td>0.000003</td>\n",
       "    </tr>\n",
       "  </tbody>\n",
       "</table>\n",
       "</div>"
      ],
      "text/plain": [
       "   gearbox   abs_n      prop\n",
       "0   manual  285797  0.806901\n",
       "1     auto   68393  0.193096\n",
       "2  unknown       1  0.000003"
      ]
     },
     "execution_count": 52,
     "metadata": {},
     "output_type": "execute_result"
    }
   ],
   "source": [
    "gb = cars['gearbox'].value_counts().to_frame().reset_index() \\\n",
    "    .merge(cars['gearbox'].value_counts(normalize = True).to_frame().reset_index(), on = 'index') \\\n",
    "    .rename(columns = {'index' : 'gearbox', 'gearbox_x' : 'abs_n', 'gearbox_y' : 'prop'})\n",
    "gb"
   ]
  },
  {
   "cell_type": "markdown",
   "metadata": {},
   "source": [
    "Удалим строки с четырьмя незаполненными значениями:"
   ]
  },
  {
   "cell_type": "code",
   "execution_count": 53,
   "metadata": {},
   "outputs": [],
   "source": [
    "cars = cars.loc[cars['gearbox'] != 'unknown']"
   ]
  },
  {
   "cell_type": "markdown",
   "metadata": {},
   "source": [
    "Вообще говоря, не совсем корректно привязывать тип коробки передач к модели машины, поскольку они могут быть разной комплектации. Тем не менее, пропорции между машинами с ручной и автоматической коробкой передач не изменились, что говорит об относительно равномерном заполнении данных. Этот вариант более приемлем по сравнению с необходимостью удаления из датасета 5,5% строк. "
   ]
  },
  {
   "cell_type": "markdown",
   "metadata": {},
   "source": [
    "**power — мощность (л.с.)**"
   ]
  },
  {
   "cell_type": "code",
   "execution_count": 54,
   "metadata": {
    "scrolled": true
   },
   "outputs": [
    {
     "data": {
      "text/plain": [
       "count    354190.000000\n",
       "mean        110.078794\n",
       "std         189.538470\n",
       "min           0.000000\n",
       "25%          69.000000\n",
       "50%         105.000000\n",
       "75%         143.000000\n",
       "max       20000.000000\n",
       "Name: power, dtype: float64"
      ]
     },
     "execution_count": 54,
     "metadata": {},
     "output_type": "execute_result"
    }
   ],
   "source": [
    "cars['power'].describe()"
   ]
  },
  {
   "cell_type": "markdown",
   "metadata": {},
   "source": [
    "Минимальная мощность - 0 л.с., максимальная - 20 000 л.с. Средняя мощность составляет 110 л.с. а медианная - 105 л.с. Пропусков в столбце нет."
   ]
  },
  {
   "cell_type": "markdown",
   "metadata": {},
   "source": [
    "И минимальное, и максимальное значение вызывают вопросы. Возможно, это выбросы. Проверим 5%-й и 95%-й квантили:"
   ]
  },
  {
   "cell_type": "code",
   "execution_count": 55,
   "metadata": {},
   "outputs": [
    {
     "name": "stdout",
     "output_type": "stream",
     "text": [
      "0.0\n",
      "300.0\n"
     ]
    }
   ],
   "source": [
    "print(np.percentile(cars['power'], 1))\n",
    "print(np.percentile(cars['power'], 99))"
   ]
  },
  {
   "cell_type": "markdown",
   "metadata": {},
   "source": [
    "Судя по всему, нулевых значений действительно много, а аномальных максимальных - нет. Построим график распределения, обрезав 1% значений справа:"
   ]
  },
  {
   "cell_type": "code",
   "execution_count": 56,
   "metadata": {},
   "outputs": [
    {
     "data": {
      "image/png": "[encoded data removed]",
      "text/plain": [
       "<Figure size 576x360 with 1 Axes>"
      ]
     },
     "metadata": {},
     "output_type": "display_data"
    }
   ],
   "source": [
    "plt.figure(figsize=(8, 5))\n",
    "fig = sns.distplot(cars['power'], kde = False, bins = np.linspace(start = 0, stop = 300, num = 30))\n",
    "fig.set_title(\"Распределение мощности автомобилей\", fontsize = 15)\n",
    "fig.set_xlabel(\"Мощность, л.с.\", fontsize = 12)\n",
    "fig.set_ylabel(\"Количество автомобилей\", fontsize = 12)\n",
    "\n",
    "plt.show()"
   ]
  },
  {
   "cell_type": "markdown",
   "metadata": {},
   "source": [
    "Во-первых, удалим из датасета записи, где мощность автомобиля выше 5 000 л.с.(они настолько уникальны, что крайне маловероятна их продажа через наш сервис). Их доля незначительна:"
   ]
  },
  {
   "cell_type": "code",
   "execution_count": 57,
   "metadata": {},
   "outputs": [
    {
     "name": "stdout",
     "output_type": "stream",
     "text": [
      "0.00023\n"
     ]
    }
   ],
   "source": [
    "print((cars.query('power > 5000')['power'].count() / cars.shape[0]).round(5))"
   ]
  },
  {
   "cell_type": "code",
   "execution_count": 58,
   "metadata": {},
   "outputs": [],
   "source": [
    "cars = cars.loc[cars['power'] <= 5000]"
   ]
  },
  {
   "cell_type": "markdown",
   "metadata": {},
   "source": [
    "Во-вторых, так как нулей довольно много, заменим их, как было сделано выше, на самое частое значение по группам, объединенным по признакам марки и модели:"
   ]
  },
  {
   "cell_type": "code",
   "execution_count": 59,
   "metadata": {},
   "outputs": [],
   "source": [
    "cars.loc[cars['power'] == 0, 'power'] = None\n",
    "cars['power'] = cars.groupby(['brand', 'model'])['power']\\\n",
    "                    .transform(lambda x: x.fillna((x.mode()[0] if not x.mode().empty else \"unknown\")))"
   ]
  },
  {
   "cell_type": "code",
   "execution_count": 60,
   "metadata": {},
   "outputs": [
    {
     "data": {
      "text/plain": [
       "5"
      ]
     },
     "execution_count": 60,
     "metadata": {},
     "output_type": "execute_result"
    }
   ],
   "source": [
    "cars.loc[cars['power'] == 'unknown']['power'].count()"
   ]
  },
  {
   "cell_type": "markdown",
   "metadata": {},
   "source": [
    "Осталось 5 строк с неуказанным значением мощности. Удалим их, вернем переменной исходный тип данных int и посмотрим на распределение:"
   ]
  },
  {
   "cell_type": "code",
   "execution_count": 61,
   "metadata": {},
   "outputs": [],
   "source": [
    "cars = cars.loc[cars['power'] != 'unknown']"
   ]
  },
  {
   "cell_type": "code",
   "execution_count": 62,
   "metadata": {},
   "outputs": [],
   "source": [
    "cars['power'] = cars['power'].astype('int')"
   ]
  },
  {
   "cell_type": "code",
   "execution_count": 63,
   "metadata": {},
   "outputs": [
    {
     "data": {
      "image/png": "[encoded data removed]",
      "text/plain": [
       "<Figure size 576x360 with 1 Axes>"
      ]
     },
     "metadata": {},
     "output_type": "display_data"
    }
   ],
   "source": [
    "plt.figure(figsize=(8, 5))\n",
    "fig = sns.distplot(cars['power'], kde = False, bins = np.linspace(start = 0, stop = 300, num = 30))\n",
    "fig.set_title(\"Распределение мощности автомобилей после замены нулей\", fontsize = 15)\n",
    "fig.set_xlabel(\"Мощность, л.с.\", fontsize = 12)\n",
    "fig.set_ylabel(\"Количество автомобилей\", fontsize = 12)\n",
    "\n",
    "plt.show()"
   ]
  },
  {
   "cell_type": "markdown",
   "metadata": {},
   "source": [
    "В целом характер распределения остался прежним."
   ]
  },
  {
   "cell_type": "markdown",
   "metadata": {},
   "source": [
    "**fuel_type — тип топлива**"
   ]
  },
  {
   "cell_type": "code",
   "execution_count": 64,
   "metadata": {},
   "outputs": [
    {
     "data": {
      "text/html": [
       "<div>\n",
       "<style scoped>\n",
       "    .dataframe tbody tr th:only-of-type {\n",
       "        vertical-align: middle;\n",
       "    }\n",
       "\n",
       "    .dataframe tbody tr th {\n",
       "        vertical-align: top;\n",
       "    }\n",
       "\n",
       "    .dataframe thead th {\n",
       "        text-align: right;\n",
       "    }\n",
       "</style>\n",
       "<table border=\"1\" class=\"dataframe\">\n",
       "  <thead>\n",
       "    <tr style=\"text-align: right;\">\n",
       "      <th></th>\n",
       "      <th>fuel_type</th>\n",
       "      <th>abs_n</th>\n",
       "      <th>prop</th>\n",
       "    </tr>\n",
       "  </thead>\n",
       "  <tbody>\n",
       "    <tr>\n",
       "      <td>0</td>\n",
       "      <td>petrol</td>\n",
       "      <td>216260</td>\n",
       "      <td>0.672963</td>\n",
       "    </tr>\n",
       "    <tr>\n",
       "      <td>1</td>\n",
       "      <td>gasoline</td>\n",
       "      <td>98695</td>\n",
       "      <td>0.307121</td>\n",
       "    </tr>\n",
       "    <tr>\n",
       "      <td>2</td>\n",
       "      <td>lpg</td>\n",
       "      <td>5310</td>\n",
       "      <td>0.016524</td>\n",
       "    </tr>\n",
       "    <tr>\n",
       "      <td>3</td>\n",
       "      <td>cng</td>\n",
       "      <td>564</td>\n",
       "      <td>0.001755</td>\n",
       "    </tr>\n",
       "    <tr>\n",
       "      <td>4</td>\n",
       "      <td>hybrid</td>\n",
       "      <td>233</td>\n",
       "      <td>0.000725</td>\n",
       "    </tr>\n",
       "    <tr>\n",
       "      <td>5</td>\n",
       "      <td>other</td>\n",
       "      <td>203</td>\n",
       "      <td>0.000632</td>\n",
       "    </tr>\n",
       "    <tr>\n",
       "      <td>6</td>\n",
       "      <td>electric</td>\n",
       "      <td>90</td>\n",
       "      <td>0.000280</td>\n",
       "    </tr>\n",
       "  </tbody>\n",
       "</table>\n",
       "</div>"
      ],
      "text/plain": [
       "  fuel_type   abs_n      prop\n",
       "0    petrol  216260  0.672963\n",
       "1  gasoline   98695  0.307121\n",
       "2       lpg    5310  0.016524\n",
       "3       cng     564  0.001755\n",
       "4    hybrid     233  0.000725\n",
       "5     other     203  0.000632\n",
       "6  electric      90  0.000280"
      ]
     },
     "execution_count": 64,
     "metadata": {},
     "output_type": "execute_result"
    }
   ],
   "source": [
    "ft = cars['fuel_type'].value_counts().to_frame().reset_index() \\\n",
    "    .merge(cars['fuel_type'].value_counts(normalize = True).to_frame().reset_index(), on = 'index') \\\n",
    "    .rename(columns = {'index' : 'fuel_type', 'fuel_type_x' : 'abs_n', 'fuel_type_y' : 'prop'})\n",
    "ft"
   ]
  },
  {
   "cell_type": "markdown",
   "metadata": {},
   "source": [
    "В датафрейме 7 типов топлива. Однако бензин встречается дважды - под названием *petrol* и *gasoline* (слово *petrol* обычно используют в Великобритании, а *gasoline* - в США). Приведем такие значения к одному:"
   ]
  },
  {
   "cell_type": "code",
   "execution_count": 65,
   "metadata": {},
   "outputs": [],
   "source": [
    "cars.loc[cars['fuel_type'] == 'gasoline', 'fuel_type'] = 'petrol'"
   ]
  },
  {
   "cell_type": "code",
   "execution_count": 66,
   "metadata": {},
   "outputs": [],
   "source": [
    "ft = cars['fuel_type'].value_counts().to_frame().reset_index() \\\n",
    "    .merge(cars['fuel_type'].value_counts(normalize = True).to_frame().reset_index(), on = 'index') \\\n",
    "    .rename(columns = {'index' : 'fuel_type', 'fuel_type_x' : 'abs_n', 'fuel_type_y' : 'prop'})"
   ]
  },
  {
   "cell_type": "markdown",
   "metadata": {},
   "source": [
    "Посмотрим на распределение:"
   ]
  },
  {
   "cell_type": "code",
   "execution_count": 67,
   "metadata": {},
   "outputs": [
    {
     "data": {
      "image/png": "[encoded data removed]",
      "text/plain": [
       "<Figure size 648x360 with 1 Axes>"
      ]
     },
     "metadata": {},
     "output_type": "display_data"
    }
   ],
   "source": [
    "plt.figure(figsize=(9, 5))\n",
    "fig = sns.barplot(x = 'fuel_type', y = 'abs_n', data = ft, palette = \"Blues_d\");\n",
    "fig.set_title(\"Распределение типов топлива\", fontsize = 14)\n",
    "fig.set_ylabel(\"Количество автомобилей\", fontsize = 10)\n",
    "fig.set_xlabel(\"\")\n",
    "show_percent(fig, 0.10, 800)"
   ]
  },
  {
   "cell_type": "markdown",
   "metadata": {},
   "source": [
    "Подавляющее большинство автомобилей заправляется бензином."
   ]
  },
  {
   "cell_type": "markdown",
   "metadata": {},
   "source": [
    "Как мы помним, в столбце **fuel_type** были пропуски:"
   ]
  },
  {
   "cell_type": "code",
   "execution_count": 68,
   "metadata": {},
   "outputs": [
    {
     "data": {
      "text/plain": [
       "32748"
      ]
     },
     "metadata": {},
     "output_type": "display_data"
    },
    {
     "data": {
      "text/plain": [
       "0.09248"
      ]
     },
     "metadata": {},
     "output_type": "display_data"
    }
   ],
   "source": [
    "display(cars['fuel_type'].isna().sum())\n",
    "display((cars['fuel_type'].isna().sum() / cars.shape[0]).round(5))"
   ]
  },
  {
   "cell_type": "markdown",
   "metadata": {},
   "source": [
    "В очередной раз привяжем признак к марке и модели автомобиля и заполним самым часто встречаемым значением:"
   ]
  },
  {
   "cell_type": "code",
   "execution_count": 69,
   "metadata": {},
   "outputs": [],
   "source": [
    "cars['fuel_type'] = cars.groupby(['brand', 'model'])['fuel_type']\\\n",
    "                    .transform(lambda x: x.fillna((x.mode()[0] if not x.mode().empty else \"unknown\")))"
   ]
  },
  {
   "cell_type": "code",
   "execution_count": 70,
   "metadata": {},
   "outputs": [
    {
     "data": {
      "text/html": [
       "<div>\n",
       "<style scoped>\n",
       "    .dataframe tbody tr th:only-of-type {\n",
       "        vertical-align: middle;\n",
       "    }\n",
       "\n",
       "    .dataframe tbody tr th {\n",
       "        vertical-align: top;\n",
       "    }\n",
       "\n",
       "    .dataframe thead th {\n",
       "        text-align: right;\n",
       "    }\n",
       "</style>\n",
       "<table border=\"1\" class=\"dataframe\">\n",
       "  <thead>\n",
       "    <tr style=\"text-align: right;\">\n",
       "      <th></th>\n",
       "      <th>fuel_type</th>\n",
       "      <th>abs_n</th>\n",
       "      <th>prop</th>\n",
       "    </tr>\n",
       "  </thead>\n",
       "  <tbody>\n",
       "    <tr>\n",
       "      <td>0</td>\n",
       "      <td>petrol</td>\n",
       "      <td>347703</td>\n",
       "      <td>0.981926</td>\n",
       "    </tr>\n",
       "    <tr>\n",
       "      <td>1</td>\n",
       "      <td>lpg</td>\n",
       "      <td>5310</td>\n",
       "      <td>0.014996</td>\n",
       "    </tr>\n",
       "    <tr>\n",
       "      <td>2</td>\n",
       "      <td>cng</td>\n",
       "      <td>564</td>\n",
       "      <td>0.001593</td>\n",
       "    </tr>\n",
       "    <tr>\n",
       "      <td>3</td>\n",
       "      <td>hybrid</td>\n",
       "      <td>233</td>\n",
       "      <td>0.000658</td>\n",
       "    </tr>\n",
       "    <tr>\n",
       "      <td>4</td>\n",
       "      <td>other</td>\n",
       "      <td>203</td>\n",
       "      <td>0.000573</td>\n",
       "    </tr>\n",
       "    <tr>\n",
       "      <td>5</td>\n",
       "      <td>electric</td>\n",
       "      <td>90</td>\n",
       "      <td>0.000254</td>\n",
       "    </tr>\n",
       "  </tbody>\n",
       "</table>\n",
       "</div>"
      ],
      "text/plain": [
       "  fuel_type   abs_n      prop\n",
       "0    petrol  347703  0.981926\n",
       "1       lpg    5310  0.014996\n",
       "2       cng     564  0.001593\n",
       "3    hybrid     233  0.000658\n",
       "4     other     203  0.000573\n",
       "5  electric      90  0.000254"
      ]
     },
     "execution_count": 70,
     "metadata": {},
     "output_type": "execute_result"
    }
   ],
   "source": [
    "ft = cars['fuel_type'].value_counts().to_frame().reset_index() \\\n",
    "    .merge(cars['fuel_type'].value_counts(normalize = True).to_frame().reset_index(), on = 'index') \\\n",
    "    .rename(columns = {'index' : 'fuel_type', 'fuel_type_x' : 'abs_n', 'fuel_type_y' : 'prop'})\n",
    "ft"
   ]
  },
  {
   "cell_type": "markdown",
   "metadata": {},
   "source": [
    "Все значения восстановлены, распределение осталось прежним. 98% автомобилей заправляется бензином."
   ]
  },
  {
   "cell_type": "markdown",
   "metadata": {},
   "source": [
    "**kilometer — пробег (км)**"
   ]
  },
  {
   "cell_type": "code",
   "execution_count": 71,
   "metadata": {
    "scrolled": true
   },
   "outputs": [
    {
     "data": {
      "text/plain": [
       "count    354103.000000\n",
       "mean     128272.084676\n",
       "std       37817.609051\n",
       "min        5000.000000\n",
       "25%      125000.000000\n",
       "50%      150000.000000\n",
       "75%      150000.000000\n",
       "max      150000.000000\n",
       "Name: kilometer, dtype: float64"
      ]
     },
     "execution_count": 71,
     "metadata": {},
     "output_type": "execute_result"
    }
   ],
   "source": [
    "cars['kilometer'].describe()"
   ]
  },
  {
   "cell_type": "markdown",
   "metadata": {},
   "source": [
    "Минимальный пробег - 5 000 км, максимальный - 150 000 км. Средний пробег составляет 128 271 км., медианный - 150 000 км. Пропусков в столбце нет.\n",
    "\n",
    "Медиана совпадает с макисмальным значений, да и среднее находится к нему очень близко. Не менее половины машин в датасете имеют пробег 150 000 км.\n",
    "\n",
    "Полученные результаты позволяют предположить, что переменная **kilometr** распределена дискретно:"
   ]
  },
  {
   "cell_type": "code",
   "execution_count": 72,
   "metadata": {},
   "outputs": [
    {
     "data": {
      "text/html": [
       "<div>\n",
       "<style scoped>\n",
       "    .dataframe tbody tr th:only-of-type {\n",
       "        vertical-align: middle;\n",
       "    }\n",
       "\n",
       "    .dataframe tbody tr th {\n",
       "        vertical-align: top;\n",
       "    }\n",
       "\n",
       "    .dataframe thead th {\n",
       "        text-align: right;\n",
       "    }\n",
       "</style>\n",
       "<table border=\"1\" class=\"dataframe\">\n",
       "  <thead>\n",
       "    <tr style=\"text-align: right;\">\n",
       "      <th></th>\n",
       "      <th>kilometer</th>\n",
       "      <th>abs_n</th>\n",
       "      <th>prop</th>\n",
       "    </tr>\n",
       "  </thead>\n",
       "  <tbody>\n",
       "    <tr>\n",
       "      <td>0</td>\n",
       "      <td>150000</td>\n",
       "      <td>238154</td>\n",
       "      <td>0.672556</td>\n",
       "    </tr>\n",
       "    <tr>\n",
       "      <td>1</td>\n",
       "      <td>125000</td>\n",
       "      <td>36440</td>\n",
       "      <td>0.102908</td>\n",
       "    </tr>\n",
       "    <tr>\n",
       "      <td>2</td>\n",
       "      <td>100000</td>\n",
       "      <td>14876</td>\n",
       "      <td>0.042010</td>\n",
       "    </tr>\n",
       "    <tr>\n",
       "      <td>3</td>\n",
       "      <td>90000</td>\n",
       "      <td>11564</td>\n",
       "      <td>0.032657</td>\n",
       "    </tr>\n",
       "    <tr>\n",
       "      <td>4</td>\n",
       "      <td>80000</td>\n",
       "      <td>10046</td>\n",
       "      <td>0.028370</td>\n",
       "    </tr>\n",
       "    <tr>\n",
       "      <td>5</td>\n",
       "      <td>70000</td>\n",
       "      <td>8592</td>\n",
       "      <td>0.024264</td>\n",
       "    </tr>\n",
       "    <tr>\n",
       "      <td>6</td>\n",
       "      <td>60000</td>\n",
       "      <td>7442</td>\n",
       "      <td>0.021016</td>\n",
       "    </tr>\n",
       "    <tr>\n",
       "      <td>7</td>\n",
       "      <td>5000</td>\n",
       "      <td>6278</td>\n",
       "      <td>0.017729</td>\n",
       "    </tr>\n",
       "    <tr>\n",
       "      <td>8</td>\n",
       "      <td>50000</td>\n",
       "      <td>6231</td>\n",
       "      <td>0.017597</td>\n",
       "    </tr>\n",
       "    <tr>\n",
       "      <td>9</td>\n",
       "      <td>40000</td>\n",
       "      <td>4911</td>\n",
       "      <td>0.013869</td>\n",
       "    </tr>\n",
       "    <tr>\n",
       "      <td>10</td>\n",
       "      <td>30000</td>\n",
       "      <td>4432</td>\n",
       "      <td>0.012516</td>\n",
       "    </tr>\n",
       "    <tr>\n",
       "      <td>11</td>\n",
       "      <td>20000</td>\n",
       "      <td>3972</td>\n",
       "      <td>0.011217</td>\n",
       "    </tr>\n",
       "    <tr>\n",
       "      <td>12</td>\n",
       "      <td>10000</td>\n",
       "      <td>1165</td>\n",
       "      <td>0.003290</td>\n",
       "    </tr>\n",
       "  </tbody>\n",
       "</table>\n",
       "</div>"
      ],
      "text/plain": [
       "    kilometer   abs_n      prop\n",
       "0      150000  238154  0.672556\n",
       "1      125000   36440  0.102908\n",
       "2      100000   14876  0.042010\n",
       "3       90000   11564  0.032657\n",
       "4       80000   10046  0.028370\n",
       "5       70000    8592  0.024264\n",
       "6       60000    7442  0.021016\n",
       "7        5000    6278  0.017729\n",
       "8       50000    6231  0.017597\n",
       "9       40000    4911  0.013869\n",
       "10      30000    4432  0.012516\n",
       "11      20000    3972  0.011217\n",
       "12      10000    1165  0.003290"
      ]
     },
     "execution_count": 72,
     "metadata": {},
     "output_type": "execute_result"
    }
   ],
   "source": [
    "km = cars['kilometer'].value_counts().to_frame().reset_index() \\\n",
    "    .merge(cars['kilometer'].value_counts(normalize = True).to_frame().reset_index(), on = 'index') \\\n",
    "    .rename(columns = {'index' : 'kilometer', 'kilometer_x' : 'abs_n', 'kilometer_y' : 'prop'})\n",
    "km"
   ]
  },
  {
   "cell_type": "markdown",
   "metadata": {},
   "source": [
    "Действительно, переменная принимает фиксированное количество значений. 77,5% автомобилей имеют пробег 125 000 км и выше."
   ]
  },
  {
   "cell_type": "markdown",
   "metadata": {},
   "source": [
    "**not_repaired — была машина в ремонте или нет**"
   ]
  },
  {
   "cell_type": "markdown",
   "metadata": {},
   "source": [
    "Посмотрим на принимаемые значения переменной и их частоту:"
   ]
  },
  {
   "cell_type": "code",
   "execution_count": 73,
   "metadata": {},
   "outputs": [
    {
     "data": {
      "text/html": [
       "<div>\n",
       "<style scoped>\n",
       "    .dataframe tbody tr th:only-of-type {\n",
       "        vertical-align: middle;\n",
       "    }\n",
       "\n",
       "    .dataframe tbody tr th {\n",
       "        vertical-align: top;\n",
       "    }\n",
       "\n",
       "    .dataframe thead th {\n",
       "        text-align: right;\n",
       "    }\n",
       "</style>\n",
       "<table border=\"1\" class=\"dataframe\">\n",
       "  <thead>\n",
       "    <tr style=\"text-align: right;\">\n",
       "      <th></th>\n",
       "      <th>not_repaired</th>\n",
       "      <th>abs_n</th>\n",
       "      <th>prop</th>\n",
       "    </tr>\n",
       "  </thead>\n",
       "  <tbody>\n",
       "    <tr>\n",
       "      <td>0</td>\n",
       "      <td>no</td>\n",
       "      <td>247100</td>\n",
       "      <td>0.872729</td>\n",
       "    </tr>\n",
       "    <tr>\n",
       "      <td>1</td>\n",
       "      <td>yes</td>\n",
       "      <td>36035</td>\n",
       "      <td>0.127271</td>\n",
       "    </tr>\n",
       "  </tbody>\n",
       "</table>\n",
       "</div>"
      ],
      "text/plain": [
       "  not_repaired   abs_n      prop\n",
       "0           no  247100  0.872729\n",
       "1          yes   36035  0.127271"
      ]
     },
     "execution_count": 73,
     "metadata": {},
     "output_type": "execute_result"
    }
   ],
   "source": [
    "rep = cars['not_repaired'].value_counts().to_frame().reset_index() \\\n",
    "    .merge(cars['not_repaired'].value_counts(normalize = True).to_frame().reset_index(), on = 'index') \\\n",
    "    .rename(columns = {'index' : 'not_repaired', 'not_repaired_x' : 'abs_n', 'not_repaired_y' : 'prop'})\n",
    "rep"
   ]
  },
  {
   "cell_type": "markdown",
   "metadata": {},
   "source": [
    "Переменная принимает два значения - *no* и *yes*. Некорректных значений нет. Большая часть машин побывала в ремонте."
   ]
  },
  {
   "cell_type": "markdown",
   "metadata": {},
   "source": [
    "В столбце **not_repaired** самая большая доля пропущенных значений:"
   ]
  },
  {
   "cell_type": "code",
   "execution_count": 74,
   "metadata": {},
   "outputs": [
    {
     "data": {
      "text/plain": [
       "70968"
      ]
     },
     "metadata": {},
     "output_type": "display_data"
    },
    {
     "data": {
      "text/plain": [
       "0.20042"
      ]
     },
     "metadata": {},
     "output_type": "display_data"
    }
   ],
   "source": [
    "display(cars['not_repaired'].isna().sum())\n",
    "display((cars['not_repaired'].isna().sum() / cars.shape[0]).round(5))"
   ]
  },
  {
   "cell_type": "markdown",
   "metadata": {},
   "source": [
    "Заполним пропуски, исходя из предположения, что если пробег машины не менее 100 000 км, то она побывала в ремонте:"
   ]
  },
  {
   "cell_type": "code",
   "execution_count": 75,
   "metadata": {},
   "outputs": [],
   "source": [
    "cars.loc[(cars['kilometer'] >= 100000) & (cars['not_repaired'].isna()), 'not_repaired'] = 'no'\n",
    "cars.loc[(cars['kilometer'] < 100000) & (cars['not_repaired'].isna()), 'not_repaired'] = 'yes'"
   ]
  },
  {
   "cell_type": "code",
   "execution_count": 76,
   "metadata": {},
   "outputs": [
    {
     "data": {
      "text/html": [
       "<div>\n",
       "<style scoped>\n",
       "    .dataframe tbody tr th:only-of-type {\n",
       "        vertical-align: middle;\n",
       "    }\n",
       "\n",
       "    .dataframe tbody tr th {\n",
       "        vertical-align: top;\n",
       "    }\n",
       "\n",
       "    .dataframe thead th {\n",
       "        text-align: right;\n",
       "    }\n",
       "</style>\n",
       "<table border=\"1\" class=\"dataframe\">\n",
       "  <thead>\n",
       "    <tr style=\"text-align: right;\">\n",
       "      <th></th>\n",
       "      <th>not_repaired</th>\n",
       "      <th>abs_n</th>\n",
       "      <th>prop</th>\n",
       "    </tr>\n",
       "  </thead>\n",
       "  <tbody>\n",
       "    <tr>\n",
       "      <td>0</td>\n",
       "      <td>no</td>\n",
       "      <td>307712</td>\n",
       "      <td>0.86899</td>\n",
       "    </tr>\n",
       "    <tr>\n",
       "      <td>1</td>\n",
       "      <td>yes</td>\n",
       "      <td>46391</td>\n",
       "      <td>0.13101</td>\n",
       "    </tr>\n",
       "  </tbody>\n",
       "</table>\n",
       "</div>"
      ],
      "text/plain": [
       "  not_repaired   abs_n     prop\n",
       "0           no  307712  0.86899\n",
       "1          yes   46391  0.13101"
      ]
     },
     "execution_count": 76,
     "metadata": {},
     "output_type": "execute_result"
    }
   ],
   "source": [
    "rep = cars['not_repaired'].value_counts().to_frame().reset_index() \\\n",
    "    .merge(cars['not_repaired'].value_counts(normalize = True).to_frame().reset_index(), on = 'index') \\\n",
    "    .rename(columns = {'index' : 'not_repaired', 'not_repaired_x' : 'abs_n', 'not_repaired_y' : 'prop'})\n",
    "rep"
   ]
  },
  {
   "cell_type": "markdown",
   "metadata": {},
   "source": [
    "Получили, доля что ремонтировавшихся машин составляет около 87%."
   ]
  },
  {
   "cell_type": "markdown",
   "metadata": {},
   "source": [
    "**number_of_pictures — количество фотографий автомобиля**"
   ]
  },
  {
   "cell_type": "code",
   "execution_count": 77,
   "metadata": {},
   "outputs": [
    {
     "data": {
      "text/plain": [
       "0    354103\n",
       "Name: number_of_pictures, dtype: int64"
      ]
     },
     "execution_count": 77,
     "metadata": {},
     "output_type": "execute_result"
    }
   ],
   "source": [
    "cars['number_of_pictures'].value_counts()"
   ]
  },
  {
   "cell_type": "markdown",
   "metadata": {},
   "source": [
    "Весь столбец состоит из нулей, поэтому не поможет нам при построении моделей."
   ]
  },
  {
   "cell_type": "code",
   "execution_count": 78,
   "metadata": {},
   "outputs": [],
   "source": [
    "cars = cars.drop(['number_of_pictures'], axis = 1)"
   ]
  },
  {
   "cell_type": "markdown",
   "metadata": {},
   "source": [
    "---"
   ]
  },
  {
   "cell_type": "markdown",
   "metadata": {},
   "source": [
    "Проверим, не отразилось ли заполнение пропусков на количестве дубликатов в датасете (это могло произойти, так как у нас нет столбца с идентификаторами):"
   ]
  },
  {
   "cell_type": "code",
   "execution_count": 79,
   "metadata": {},
   "outputs": [
    {
     "data": {
      "text/plain": [
       "1"
      ]
     },
     "execution_count": 79,
     "metadata": {},
     "output_type": "execute_result"
    }
   ],
   "source": [
    "cars.duplicated().sum()"
   ]
  },
  {
   "cell_type": "markdown",
   "metadata": {},
   "source": [
    "Удалим дубликат позднее, когда закончим анализ признаков."
   ]
  },
  {
   "cell_type": "markdown",
   "metadata": {},
   "source": [
    "### Удаление маловажных признаков"
   ]
  },
  {
   "cell_type": "markdown",
   "metadata": {},
   "source": [
    "Очевидно, что следующая информация:\n",
    "\n",
    "- **date_created** — дата создания анкеты,\n",
    "- **postal_code** — почтовый индекс владельца анкеты (пользователя),\n",
    "- **last_seen** — дата последней активности пользователя,\n",
    "- **date_crawled** — дата скачивания анкеты из базы,\n",
    "\n",
    "не имеет отношения к ценам автомобилей. Удалим их:"
   ]
  },
  {
   "cell_type": "code",
   "execution_count": 80,
   "metadata": {},
   "outputs": [],
   "source": [
    "to_drop = ['date_created', 'postal_code', 'last_seen', 'date_crawled']"
   ]
  },
  {
   "cell_type": "code",
   "execution_count": 81,
   "metadata": {},
   "outputs": [],
   "source": [
    "cars = cars.drop(to_drop, axis = 1)"
   ]
  },
  {
   "cell_type": "markdown",
   "metadata": {},
   "source": [
    "---"
   ]
  },
  {
   "cell_type": "markdown",
   "metadata": {},
   "source": [
    "Поскольку из таблицы были удалены столбцы, проверим ее еще раз на дубликаты:"
   ]
  },
  {
   "cell_type": "code",
   "execution_count": 82,
   "metadata": {},
   "outputs": [
    {
     "data": {
      "text/plain": [
       "64674"
      ]
     },
     "execution_count": 82,
     "metadata": {},
     "output_type": "execute_result"
    }
   ],
   "source": [
    "cars.duplicated().sum()"
   ]
  },
  {
   "cell_type": "markdown",
   "metadata": {},
   "source": [
    "Вероятно, разнообразие значений столбцов с датами и почтовыми кодами обеспечивало неповторяемость строк. Удалим получившиеся дубликаты:"
   ]
  },
  {
   "cell_type": "code",
   "execution_count": 83,
   "metadata": {},
   "outputs": [],
   "source": [
    "cars = cars.drop_duplicates().reset_index(drop = True)"
   ]
  },
  {
   "cell_type": "markdown",
   "metadata": {},
   "source": [
    "Посмотрим информацию по датасету после проведения окончательных преобразований:"
   ]
  },
  {
   "cell_type": "code",
   "execution_count": 84,
   "metadata": {},
   "outputs": [
    {
     "data": {
      "text/html": [
       "<div>\n",
       "<style scoped>\n",
       "    .dataframe tbody tr th:only-of-type {\n",
       "        vertical-align: middle;\n",
       "    }\n",
       "\n",
       "    .dataframe tbody tr th {\n",
       "        vertical-align: top;\n",
       "    }\n",
       "\n",
       "    .dataframe thead th {\n",
       "        text-align: right;\n",
       "    }\n",
       "</style>\n",
       "<table border=\"1\" class=\"dataframe\">\n",
       "  <thead>\n",
       "    <tr style=\"text-align: right;\">\n",
       "      <th></th>\n",
       "      <th>brand</th>\n",
       "      <th>registration_year</th>\n",
       "      <th>model</th>\n",
       "      <th>vehicle_type</th>\n",
       "      <th>gearbox</th>\n",
       "      <th>power</th>\n",
       "      <th>fuel_type</th>\n",
       "      <th>kilometer</th>\n",
       "      <th>not_repaired</th>\n",
       "      <th>price</th>\n",
       "    </tr>\n",
       "  </thead>\n",
       "  <tbody>\n",
       "    <tr>\n",
       "      <td>0</td>\n",
       "      <td>volkswagen</td>\n",
       "      <td>1993</td>\n",
       "      <td>golf</td>\n",
       "      <td>sedan</td>\n",
       "      <td>manual</td>\n",
       "      <td>75</td>\n",
       "      <td>petrol</td>\n",
       "      <td>150000</td>\n",
       "      <td>no</td>\n",
       "      <td>480</td>\n",
       "    </tr>\n",
       "    <tr>\n",
       "      <td>1</td>\n",
       "      <td>audi</td>\n",
       "      <td>2011</td>\n",
       "      <td>a4</td>\n",
       "      <td>coupe</td>\n",
       "      <td>manual</td>\n",
       "      <td>190</td>\n",
       "      <td>petrol</td>\n",
       "      <td>125000</td>\n",
       "      <td>yes</td>\n",
       "      <td>18300</td>\n",
       "    </tr>\n",
       "    <tr>\n",
       "      <td>2</td>\n",
       "      <td>jeep</td>\n",
       "      <td>2004</td>\n",
       "      <td>grand</td>\n",
       "      <td>suv</td>\n",
       "      <td>auto</td>\n",
       "      <td>163</td>\n",
       "      <td>petrol</td>\n",
       "      <td>125000</td>\n",
       "      <td>no</td>\n",
       "      <td>9800</td>\n",
       "    </tr>\n",
       "    <tr>\n",
       "      <td>3</td>\n",
       "      <td>volkswagen</td>\n",
       "      <td>2001</td>\n",
       "      <td>golf</td>\n",
       "      <td>small</td>\n",
       "      <td>manual</td>\n",
       "      <td>75</td>\n",
       "      <td>petrol</td>\n",
       "      <td>150000</td>\n",
       "      <td>no</td>\n",
       "      <td>1500</td>\n",
       "    </tr>\n",
       "    <tr>\n",
       "      <td>4</td>\n",
       "      <td>skoda</td>\n",
       "      <td>2008</td>\n",
       "      <td>fabia</td>\n",
       "      <td>small</td>\n",
       "      <td>manual</td>\n",
       "      <td>69</td>\n",
       "      <td>petrol</td>\n",
       "      <td>90000</td>\n",
       "      <td>no</td>\n",
       "      <td>3600</td>\n",
       "    </tr>\n",
       "  </tbody>\n",
       "</table>\n",
       "</div>"
      ],
      "text/plain": [
       "        brand  registration_year  model vehicle_type gearbox  power fuel_type  \\\n",
       "0  volkswagen               1993   golf        sedan  manual     75    petrol   \n",
       "1        audi               2011     a4        coupe  manual    190    petrol   \n",
       "2        jeep               2004  grand          suv    auto    163    petrol   \n",
       "3  volkswagen               2001   golf        small  manual     75    petrol   \n",
       "4       skoda               2008  fabia        small  manual     69    petrol   \n",
       "\n",
       "   kilometer not_repaired  price  \n",
       "0     150000           no    480  \n",
       "1     125000          yes  18300  \n",
       "2     125000           no   9800  \n",
       "3     150000           no   1500  \n",
       "4      90000           no   3600  "
      ]
     },
     "execution_count": 84,
     "metadata": {},
     "output_type": "execute_result"
    }
   ],
   "source": [
    "cars.head()"
   ]
  },
  {
   "cell_type": "code",
   "execution_count": 85,
   "metadata": {},
   "outputs": [
    {
     "name": "stdout",
     "output_type": "stream",
     "text": [
      "<class 'pandas.core.frame.DataFrame'>\n",
      "RangeIndex: 289429 entries, 0 to 289428\n",
      "Data columns (total 10 columns):\n",
      "brand                289429 non-null object\n",
      "registration_year    289429 non-null int64\n",
      "model                289429 non-null object\n",
      "vehicle_type         289429 non-null object\n",
      "gearbox              289429 non-null object\n",
      "power                289429 non-null int64\n",
      "fuel_type            289429 non-null object\n",
      "kilometer            289429 non-null int64\n",
      "not_repaired         289429 non-null object\n",
      "price                289429 non-null int64\n",
      "dtypes: int64(4), object(6)\n",
      "memory usage: 22.1+ MB\n"
     ]
    }
   ],
   "source": [
    "cars.info()"
   ]
  },
  {
   "cell_type": "markdown",
   "metadata": {},
   "source": [
    "Осталось 10 столбцов и 289 429 строк. Все пропуски заполнены."
   ]
  },
  {
   "cell_type": "markdown",
   "metadata": {},
   "source": [
    "### Вывод"
   ]
  },
  {
   "cell_type": "markdown",
   "metadata": {},
   "source": [
    "Данные подготовлены к дальнейшему анализу:\n",
    "- переименованы столбцы;\n",
    "- заполнены пропуски в столбцах **model**, **vehicle_type**, **gearbox**, **fuel_type**, **not_repaired**;\n",
    "- удалены признаки, не имеющие логической связи с целевой переменной **price**: **registration_month**, **date_created**, **postal_code**, **last_seen**, **date_crawled**;\n",
    "- удален пустой столбец **number_of_pictures**;\n",
    "- удалены полностью дублирующиеся строки (около 18% от общего количества);\n",
    "- проведен исследовательский анализ распределения каждого признака:\n",
    "    - в целевой переменной **price** встречается значительное количество нулевых значений, не похожих на выбросы. Однако их появление не имеет единой трактовки, поэтому данные остались неизмененными;\n",
    "    - для переменной **registration_year** удалены аномальные значения (до 1900 и после 2022);\n",
    "    - для переменной **power** удалены значения выше 5000, а нули заменены на самые часто встречаемые значения в группах, разбитых по признаку марки и модели;\n",
    "    - для переменной **fuel_type** объединены значения *petrol* и *gasoline*, по сути означающие одно и то же - бензин.\n"
   ]
  },
  {
   "cell_type": "markdown",
   "metadata": {},
   "source": [
    "## Обучение моделей"
   ]
  },
  {
   "cell_type": "markdown",
   "metadata": {},
   "source": [
    "Будем сравнивать работу пяти моделей:\n",
    "- линейной регрессии;\n",
    "- дерева решений;\n",
    "- случайного леса;\n",
    "- CatBoost;\n",
    "- LightGBM."
   ]
  },
  {
   "cell_type": "markdown",
   "metadata": {},
   "source": [
    "Так как модели scikit-learn работают только с переменными, представленными в числовом формате, а CatBoost и LightGBM умеют обращаться с категориальными, то сделаем две разные выборки. Для линейной регрессии, дерева решений и случайного леса закодируем категориальные переменные:"
   ]
  },
  {
   "cell_type": "code",
   "execution_count": 86,
   "metadata": {},
   "outputs": [],
   "source": [
    "cars_ohe = pd.get_dummies(cars, drop_first = True)"
   ]
  },
  {
   "cell_type": "code",
   "execution_count": 87,
   "metadata": {},
   "outputs": [],
   "source": [
    "features_not_boost = cars_ohe.drop(['price'], axis = 1)\n",
    "target_not_boost = cars_ohe['price']"
   ]
  },
  {
   "cell_type": "markdown",
   "metadata": {},
   "source": [
    "Для моделей бустинга кодирование не потребуется, однако категориальным переменным нужно присвоить тип *category*:"
   ]
  },
  {
   "cell_type": "code",
   "execution_count": 88,
   "metadata": {},
   "outputs": [],
   "source": [
    "cat_features = ['brand', 'model', 'vehicle_type', 'gearbox', 'fuel_type', 'not_repaired']\n",
    "quant_features = ['registration_year', 'power', 'kilometer']\n",
    "for col in cat_features:\n",
    "    cars[col] = cars[col].astype('category')"
   ]
  },
  {
   "cell_type": "code",
   "execution_count": 89,
   "metadata": {},
   "outputs": [],
   "source": [
    "features_boost = cars.drop(['price'], axis = 1)\n",
    "target_boost = cars['price']"
   ]
  },
  {
   "cell_type": "markdown",
   "metadata": {},
   "source": [
    "Разделим данные на обучающую и тестовую выборки в пропорции 3:1:"
   ]
  },
  {
   "cell_type": "code",
   "execution_count": 90,
   "metadata": {},
   "outputs": [],
   "source": [
    "features_train_not_boost, features_test_not_boost, target_train_not_boost, target_test_not_boost = \\\n",
    "                            train_test_split(features_not_boost, target_not_boost, test_size = 0.25, random_state = 42)\n",
    "\n",
    "features_train_boost, features_test_boost, target_train_boost, target_test_boost = \\\n",
    "                            train_test_split(features_boost, target_boost, test_size = 0.25, random_state = 42)"
   ]
  },
  {
   "cell_type": "markdown",
   "metadata": {},
   "source": [
    "Рассматриваемые переменные имеют разный масштаб. Чтобы модели корректно проводили оценку параметров, настроим стандартизацию на обучающей выборке и преобразуем все выборки:"
   ]
  },
  {
   "cell_type": "code",
   "execution_count": 91,
   "metadata": {},
   "outputs": [],
   "source": [
    "scaler = StandardScaler()\n",
    "\n",
    "scaler.fit(features_train_not_boost[quant_features])\n",
    "\n",
    "for data in [features_train_not_boost, features_test_not_boost]:\n",
    "    data[quant_features] = scaler.transform(data[quant_features])\n",
    "\n",
    "scaler.fit(features_train_boost[quant_features])\n",
    "\n",
    "for data in [features_train_boost, features_test_boost]:\n",
    "    data[quant_features] = scaler.transform(data[quant_features])"
   ]
  },
  {
   "cell_type": "markdown",
   "metadata": {},
   "source": [
    "Напишем функцию для подсчета метрики RMSE:"
   ]
  },
  {
   "cell_type": "code",
   "execution_count": 92,
   "metadata": {},
   "outputs": [],
   "source": [
    "def rmse_score(y_true, y_pred):\n",
    "    return mean_squared_error(y_true, y_pred)**0.5"
   ]
  },
  {
   "cell_type": "markdown",
   "metadata": {},
   "source": [
    "Функция для поиска оптимального набора гиперпараметров моделей по метрике RMSE:"
   ]
  },
  {
   "cell_type": "code",
   "execution_count": 93,
   "metadata": {},
   "outputs": [],
   "source": [
    "def grid_search(model, params, features, target):\n",
    "    \n",
    "    g_search = GridSearchCV(model, params, cv = 5,\\\n",
    "                                scoring = make_scorer(rmse_score, greater_is_better = False), n_jobs = -1)\n",
    "    g_search.fit(features, target)\n",
    "    \n",
    "    print('Лучший набор гиперпараметров:', g_search.best_params_)\n",
    "    print('Качество предсказания:', round(g_search.best_score_, 5) * (-1))"
   ]
  },
  {
   "cell_type": "markdown",
   "metadata": {},
   "source": [
    "Функция для оценки качества результатов модели и времени работы:"
   ]
  },
  {
   "cell_type": "code",
   "execution_count": 94,
   "metadata": {},
   "outputs": [],
   "source": [
    "# обучает модель на тренировочной выборке и оценивает качество на тестовой;\n",
    "# также рассчитывает время обучения и предсказания;\n",
    "# результаты записывает в таблицу.\n",
    "\n",
    "def model_result(model, features_train, features_test, target_train, target_test, df_result):\n",
    "\n",
    "    start_fit = time.time()\n",
    "    model.fit(features_train, target_train)\n",
    "    end_fit = time.time()\n",
    "    duration_fit = round(end_fit - start_fit, 3)\n",
    "\n",
    "    print('Время обучения:', duration_fit, 'с')\n",
    "\n",
    "    start_pred = time.time()\n",
    "    predicted = model.predict(features_test)\n",
    "    end_pred = time.time()\n",
    "    duration_pred = round(end_pred - start_pred, 3)\n",
    "\n",
    "    rmse_result = round(rmse_score(target_test, predicted), 3)\n",
    "\n",
    "    print('Время предсказания:', duration_pred, 'с')\n",
    "    print('Качество предсказания на тестовой выборке:', rmse_result)\n",
    "    \n",
    "    df_result.append({'model': model.__class__.__name__, 'RMSE': rmse_result, 'fit_duration': duration_fit,\n",
    "                              'predict_duration': duration_pred})"
   ]
  },
  {
   "cell_type": "markdown",
   "metadata": {},
   "source": [
    "###  Построение моделей"
   ]
  },
  {
   "cell_type": "markdown",
   "metadata": {},
   "source": [
    "Обучим несколько разных моделей и оценим их качество на тестовой выборке, а также время обучения и предсказания. Записывать результаты будем в отдельную таблицу."
   ]
  },
  {
   "cell_type": "code",
   "execution_count": 95,
   "metadata": {},
   "outputs": [],
   "source": [
    "result = []"
   ]
  },
  {
   "cell_type": "markdown",
   "metadata": {},
   "source": [
    "#### Линейная регрессия"
   ]
  },
  {
   "cell_type": "markdown",
   "metadata": {},
   "source": [
    "У линейной регрессии нет гиперпараметров, поэтому и метрика качества, и оценка времени сразу будут итоговыми."
   ]
  },
  {
   "cell_type": "code",
   "execution_count": 96,
   "metadata": {},
   "outputs": [
    {
     "name": "stdout",
     "output_type": "stream",
     "text": [
      "Время обучения: 23.293 с\n",
      "Время предсказания: 0.195 с\n",
      "Качество предсказания на тестовой выборке: 3140.8\n"
     ]
    }
   ],
   "source": [
    "model_result(LinearRegression(), features_train_not_boost, features_test_not_boost, \n",
    "             target_train_not_boost, target_test_not_boost, result)"
   ]
  },
  {
   "cell_type": "markdown",
   "metadata": {},
   "source": [
    "#### Модель решающего дерева"
   ]
  },
  {
   "cell_type": "markdown",
   "metadata": {},
   "source": [
    "Зададим набор гиперпараметров для модели. Будем изменять глубину дерева, а также количество признаков, которые учитываются при поиске лучшего разделения:"
   ]
  },
  {
   "cell_type": "code",
   "execution_count": 97,
   "metadata": {},
   "outputs": [],
   "source": [
    "dt_model = DecisionTreeRegressor(random_state = 42)\n",
    "dt_params = {'max_depth' : range(1, 11, 2), 'max_features' : range(1, 11, 2)}"
   ]
  },
  {
   "cell_type": "code",
   "execution_count": 98,
   "metadata": {},
   "outputs": [
    {
     "name": "stdout",
     "output_type": "stream",
     "text": [
      "Лучший набор гиперпараметров: {'max_depth': 9, 'max_features': 7}\n",
      "Качество предсказания: 3421.47145\n",
      "CPU times: user 1min 11s, sys: 26.1 s, total: 1min 37s\n",
      "Wall time: 1min 39s\n"
     ]
    }
   ],
   "source": [
    "%%time\n",
    "grid_search(dt_model, dt_params, features_train_not_boost, target_train_not_boost)"
   ]
  },
  {
   "cell_type": "markdown",
   "metadata": {},
   "source": [
    "Теперь оценим время обучения и предсказания модели решающего дерева на тестовой выборке при оптимальном значении гиперпараметров:"
   ]
  },
  {
   "cell_type": "code",
   "execution_count": 99,
   "metadata": {},
   "outputs": [
    {
     "name": "stdout",
     "output_type": "stream",
     "text": [
      "Время обучения: 0.497 с\n",
      "Время предсказания: 0.113 с\n",
      "Качество предсказания на тестовой выборке: 3761.588\n"
     ]
    }
   ],
   "source": [
    "model_result(DecisionTreeRegressor(random_state = 42, max_depth = 9, max_features = 7),\n",
    "             features_train_not_boost, features_test_not_boost, \n",
    "             target_train_not_boost, target_test_not_boost, result)"
   ]
  },
  {
   "cell_type": "markdown",
   "metadata": {},
   "source": [
    "#### Модель случайного леса"
   ]
  },
  {
   "cell_type": "markdown",
   "metadata": {},
   "source": [
    "В качестве гиперпараметров будем использовать глубину дерева, а также число деревьев:"
   ]
  },
  {
   "cell_type": "code",
   "execution_count": 100,
   "metadata": {},
   "outputs": [],
   "source": [
    "rf_model = RandomForestRegressor(random_state = 42)\n",
    "rf_params = {'max_depth' : range(1, 13, 4), 'n_estimators' : range(1, 15, 5)}"
   ]
  },
  {
   "cell_type": "code",
   "execution_count": 101,
   "metadata": {},
   "outputs": [
    {
     "name": "stdout",
     "output_type": "stream",
     "text": [
      "Лучший набор гиперпараметров: {'max_depth': 9, 'n_estimators': 11}\n",
      "Качество предсказания: 2216.47497\n",
      "CPU times: user 6min 37s, sys: 8.9 s, total: 6min 46s\n",
      "Wall time: 6min 49s\n"
     ]
    }
   ],
   "source": [
    "%%time\n",
    "grid_search(rf_model, rf_params, features_train_not_boost, target_train_not_boost)"
   ]
  },
  {
   "cell_type": "markdown",
   "metadata": {},
   "source": [
    "Оценим время обучения и предсказания модели случайного леса на тестовой выборке:"
   ]
  },
  {
   "cell_type": "code",
   "execution_count": 102,
   "metadata": {},
   "outputs": [
    {
     "name": "stdout",
     "output_type": "stream",
     "text": [
      "Время обучения: 32.435 с\n",
      "Время предсказания: 0.19 с\n",
      "Качество предсказания на тестовой выборке: 2210.57\n"
     ]
    }
   ],
   "source": [
    "model_result(RandomForestRegressor(random_state = 42, max_depth = 9, n_estimators = 11),\n",
    "             features_train_not_boost, features_test_not_boost, \n",
    "             target_train_not_boost, target_test_not_boost, result)"
   ]
  },
  {
   "cell_type": "code",
   "execution_count": 103,
   "metadata": {},
   "outputs": [
    {
     "data": {
      "text/html": [
       "<div>\n",
       "<style scoped>\n",
       "    .dataframe tbody tr th:only-of-type {\n",
       "        vertical-align: middle;\n",
       "    }\n",
       "\n",
       "    .dataframe tbody tr th {\n",
       "        vertical-align: top;\n",
       "    }\n",
       "\n",
       "    .dataframe thead th {\n",
       "        text-align: right;\n",
       "    }\n",
       "</style>\n",
       "<table border=\"1\" class=\"dataframe\">\n",
       "  <thead>\n",
       "    <tr style=\"text-align: right;\">\n",
       "      <th></th>\n",
       "      <th>model</th>\n",
       "      <th>RMSE</th>\n",
       "      <th>fit_duration</th>\n",
       "      <th>predict_duration</th>\n",
       "    </tr>\n",
       "  </thead>\n",
       "  <tbody>\n",
       "    <tr>\n",
       "      <td>0</td>\n",
       "      <td>LinearRegression</td>\n",
       "      <td>3140.800</td>\n",
       "      <td>23.293</td>\n",
       "      <td>0.195</td>\n",
       "    </tr>\n",
       "    <tr>\n",
       "      <td>1</td>\n",
       "      <td>DecisionTreeRegressor</td>\n",
       "      <td>3761.588</td>\n",
       "      <td>0.497</td>\n",
       "      <td>0.113</td>\n",
       "    </tr>\n",
       "    <tr>\n",
       "      <td>2</td>\n",
       "      <td>RandomForestRegressor</td>\n",
       "      <td>2210.570</td>\n",
       "      <td>32.435</td>\n",
       "      <td>0.190</td>\n",
       "    </tr>\n",
       "  </tbody>\n",
       "</table>\n",
       "</div>"
      ],
      "text/plain": [
       "                   model      RMSE  fit_duration  predict_duration\n",
       "0       LinearRegression  3140.800        23.293             0.195\n",
       "1  DecisionTreeRegressor  3761.588         0.497             0.113\n",
       "2  RandomForestRegressor  2210.570        32.435             0.190"
      ]
     },
     "execution_count": 103,
     "metadata": {},
     "output_type": "execute_result"
    }
   ],
   "source": [
    "pd.DataFrame(result)"
   ]
  },
  {
   "cell_type": "markdown",
   "metadata": {},
   "source": [
    "#### CatBoost"
   ]
  },
  {
   "cell_type": "markdown",
   "metadata": {},
   "source": [
    "В качестве гиперпараметров снова выберем глубину деревьев и их число:"
   ]
  },
  {
   "cell_type": "code",
   "execution_count": 104,
   "metadata": {},
   "outputs": [],
   "source": [
    "catboost_model = CatBoostRegressor(random_state = 42, cat_features = cat_features, silent = True)\n",
    "catboost_params = {'n_estimators': range(50, 101, 25), 'max_depth': range(10, 12)}"
   ]
  },
  {
   "cell_type": "code",
   "execution_count": 105,
   "metadata": {
    "scrolled": true
   },
   "outputs": [
    {
     "name": "stdout",
     "output_type": "stream",
     "text": [
      "Лучший набор гиперпараметров: {'max_depth': 11, 'n_estimators': 100}\n",
      "Качество предсказания: 2088.85795\n",
      "CPU times: user 9min 58s, sys: 1min 42s, total: 11min 41s\n",
      "Wall time: 12min 17s\n"
     ]
    }
   ],
   "source": [
    "%%time\n",
    "grid_search(catboost_model, catboost_params, features_train_boost, target_train_boost)"
   ]
  },
  {
   "cell_type": "markdown",
   "metadata": {},
   "source": [
    "Оценим время обучения и предсказания модели CatBoost:"
   ]
  },
  {
   "cell_type": "code",
   "execution_count": 106,
   "metadata": {},
   "outputs": [
    {
     "name": "stdout",
     "output_type": "stream",
     "text": [
      "Время обучения: 37.564 с\n",
      "Время предсказания: 0.108 с\n",
      "Качество предсказания на тестовой выборке: 2088.832\n"
     ]
    }
   ],
   "source": [
    "model_result(CatBoostRegressor(random_state = 42, cat_features = cat_features, max_depth = 11, \n",
    "                               n_estimators = 100, silent = True),\n",
    "             features_train_boost, features_test_boost, \n",
    "             target_train_boost, target_test_boost, result)"
   ]
  },
  {
   "cell_type": "code",
   "execution_count": 107,
   "metadata": {},
   "outputs": [
    {
     "data": {
      "text/html": [
       "<div>\n",
       "<style scoped>\n",
       "    .dataframe tbody tr th:only-of-type {\n",
       "        vertical-align: middle;\n",
       "    }\n",
       "\n",
       "    .dataframe tbody tr th {\n",
       "        vertical-align: top;\n",
       "    }\n",
       "\n",
       "    .dataframe thead th {\n",
       "        text-align: right;\n",
       "    }\n",
       "</style>\n",
       "<table border=\"1\" class=\"dataframe\">\n",
       "  <thead>\n",
       "    <tr style=\"text-align: right;\">\n",
       "      <th></th>\n",
       "      <th>model</th>\n",
       "      <th>RMSE</th>\n",
       "      <th>fit_duration</th>\n",
       "      <th>predict_duration</th>\n",
       "    </tr>\n",
       "  </thead>\n",
       "  <tbody>\n",
       "    <tr>\n",
       "      <td>0</td>\n",
       "      <td>LinearRegression</td>\n",
       "      <td>3140.800</td>\n",
       "      <td>23.293</td>\n",
       "      <td>0.195</td>\n",
       "    </tr>\n",
       "    <tr>\n",
       "      <td>1</td>\n",
       "      <td>DecisionTreeRegressor</td>\n",
       "      <td>3761.588</td>\n",
       "      <td>0.497</td>\n",
       "      <td>0.113</td>\n",
       "    </tr>\n",
       "    <tr>\n",
       "      <td>2</td>\n",
       "      <td>RandomForestRegressor</td>\n",
       "      <td>2210.570</td>\n",
       "      <td>32.435</td>\n",
       "      <td>0.190</td>\n",
       "    </tr>\n",
       "    <tr>\n",
       "      <td>3</td>\n",
       "      <td>CatBoostRegressor</td>\n",
       "      <td>2088.832</td>\n",
       "      <td>37.564</td>\n",
       "      <td>0.108</td>\n",
       "    </tr>\n",
       "  </tbody>\n",
       "</table>\n",
       "</div>"
      ],
      "text/plain": [
       "                   model      RMSE  fit_duration  predict_duration\n",
       "0       LinearRegression  3140.800        23.293             0.195\n",
       "1  DecisionTreeRegressor  3761.588         0.497             0.113\n",
       "2  RandomForestRegressor  2210.570        32.435             0.190\n",
       "3      CatBoostRegressor  2088.832        37.564             0.108"
      ]
     },
     "execution_count": 107,
     "metadata": {},
     "output_type": "execute_result"
    }
   ],
   "source": [
    "pd.DataFrame(result)"
   ]
  },
  {
   "cell_type": "markdown",
   "metadata": {},
   "source": [
    "#### LightGBM"
   ]
  },
  {
   "cell_type": "markdown",
   "metadata": {},
   "source": [
    "И вновь качестве гиперпараметров возьмем число деревьев и их максимальную глубину:"
   ]
  },
  {
   "cell_type": "code",
   "execution_count": 108,
   "metadata": {},
   "outputs": [],
   "source": [
    "lgb_model = LGBMRegressor(random_state = 42)\n",
    "lgb_params = {'n_estimators': range(50, 101, 25), 'max_depth': range(10, 12)}"
   ]
  },
  {
   "cell_type": "markdown",
   "metadata": {},
   "source": [
    "В отличие от CatBoostRegressor, в параметрах модели LGBMRegressor нельзя указать, какие переменные являются категориальными. Это можно сделать в методе fit, поэтому немного изменим ранее созданные функции:"
   ]
  },
  {
   "cell_type": "code",
   "execution_count": 109,
   "metadata": {},
   "outputs": [],
   "source": [
    "def grid_search_lgb(model, params, features, target):\n",
    "    \n",
    "    g_search = GridSearchCV(model, params, cv = 5,\\\n",
    "                                scoring = make_scorer(rmse_score, greater_is_better = False), n_jobs = -1)\n",
    "    g_search.fit(features, target, categorical_feature = cat_features)\n",
    "    \n",
    "    print('Лучший набор гиперпараметров:', g_search.best_params_)\n",
    "    print('Качество предсказания:', round(g_search.best_score_, 5) * (-1))"
   ]
  },
  {
   "cell_type": "code",
   "execution_count": 110,
   "metadata": {},
   "outputs": [
    {
     "name": "stdout",
     "output_type": "stream",
     "text": [
      "Лучший набор гиперпараметров: {'max_depth': 10, 'n_estimators': 100}\n",
      "Качество предсказания: 1906.10887\n",
      "CPU times: user 3min 6s, sys: 1.11 s, total: 3min 7s\n",
      "Wall time: 3min 10s\n"
     ]
    }
   ],
   "source": [
    "%%time\n",
    "grid_search_lgb(lgb_model, lgb_params, features_train_boost, target_train_boost)"
   ]
  },
  {
   "cell_type": "markdown",
   "metadata": {},
   "source": [
    "Оценим время обучения и предсказания LightGBM:"
   ]
  },
  {
   "cell_type": "code",
   "execution_count": 111,
   "metadata": {},
   "outputs": [
    {
     "name": "stdout",
     "output_type": "stream",
     "text": [
      "Время обучения: 8.095 с\n",
      "Время предсказания: 0.803 с\n",
      "Качество предсказания на тестовой выборке: 1900.923\n"
     ]
    }
   ],
   "source": [
    "lgb_model = LGBMRegressor(random_state = 42, n_estimators = 100, max_depth = 10)\n",
    "\n",
    "start_fit = time.time()\n",
    "lgb_model.fit(features_train_boost, target_train_boost, categorical_feature = cat_features)\n",
    "end_fit = time.time()\n",
    "duration_fit = round(end_fit - start_fit, 3)\n",
    "\n",
    "print('Время обучения:', duration_fit, 'с')\n",
    "\n",
    "start_pred = time.time()\n",
    "predicted_lgb = lgb_model.predict(features_test_boost)\n",
    "end_pred = time.time()\n",
    "duration_pred = round(end_pred - start_pred, 3)\n",
    "\n",
    "rmse_lgb = round(rmse_score(target_test_boost, predicted_lgb), 3)\n",
    "\n",
    "print('Время предсказания:', duration_pred, 'с')\n",
    "print('Качество предсказания на тестовой выборке:', rmse_lgb)\n",
    "\n",
    "result.append({'model': lgb_model.__class__.__name__, 'RMSE': rmse_lgb, 'fit_duration': duration_fit,\n",
    "                              'predict_duration': duration_pred})"
   ]
  },
  {
   "cell_type": "markdown",
   "metadata": {},
   "source": [
    "### Вывод"
   ]
  },
  {
   "cell_type": "markdown",
   "metadata": {},
   "source": [
    "Построены и обучены следующие модели:\n",
    "- линейной регрессии;\n",
    "- дерева решений;\n",
    "- случайного леса;\n",
    "- CatBoost;\n",
    "- LightGBM.\n",
    "\n",
    "Для обучения и оценки моделей датасет разбит на обучающую и тестовую выборки в пропорции 3:1. Для моделей случайной регрессии, дерева решений и случайного леса категориальные признаки закодированы с помощью one-hot encoding. Для CatBoost и LightGBM категориальным признакам присвоен тип *category*.\n",
    "\n",
    "Данные стандартизированы. Написана функция для использования метрики RMSE в качестве скорера.\n",
    "\n",
    "Для каждой модели (за исключением линейной регрессии) с помощью метода GridSerchCV подбиралиись оптимальные гиперпараметры: для решающего дерева - глубина, а также количество признаков, учитываемых при поиске лучшего разделения. Для остальных моделей - глубина и число деревьев.\n",
    "\n",
    "Модели с оптимальными параметрами обучены на тренировочной и проверены на тестовой выборке. Сравнение приведено в заключительном разделе."
   ]
  },
  {
   "cell_type": "markdown",
   "metadata": {},
   "source": [
    "## Анализ моделей"
   ]
  },
  {
   "cell_type": "markdown",
   "metadata": {},
   "source": [
    "Посмотрим на итоговую таблицу:"
   ]
  },
  {
   "cell_type": "code",
   "execution_count": 112,
   "metadata": {},
   "outputs": [
    {
     "data": {
      "text/html": [
       "<div>\n",
       "<style scoped>\n",
       "    .dataframe tbody tr th:only-of-type {\n",
       "        vertical-align: middle;\n",
       "    }\n",
       "\n",
       "    .dataframe tbody tr th {\n",
       "        vertical-align: top;\n",
       "    }\n",
       "\n",
       "    .dataframe thead th {\n",
       "        text-align: right;\n",
       "    }\n",
       "</style>\n",
       "<table border=\"1\" class=\"dataframe\">\n",
       "  <thead>\n",
       "    <tr style=\"text-align: right;\">\n",
       "      <th></th>\n",
       "      <th>model</th>\n",
       "      <th>RMSE</th>\n",
       "      <th>fit_duration</th>\n",
       "      <th>predict_duration</th>\n",
       "    </tr>\n",
       "  </thead>\n",
       "  <tbody>\n",
       "    <tr>\n",
       "      <td>4</td>\n",
       "      <td>LGBMRegressor</td>\n",
       "      <td>1900.923</td>\n",
       "      <td>8.095</td>\n",
       "      <td>0.803</td>\n",
       "    </tr>\n",
       "    <tr>\n",
       "      <td>3</td>\n",
       "      <td>CatBoostRegressor</td>\n",
       "      <td>2088.832</td>\n",
       "      <td>37.564</td>\n",
       "      <td>0.108</td>\n",
       "    </tr>\n",
       "    <tr>\n",
       "      <td>2</td>\n",
       "      <td>RandomForestRegressor</td>\n",
       "      <td>2210.570</td>\n",
       "      <td>32.435</td>\n",
       "      <td>0.190</td>\n",
       "    </tr>\n",
       "    <tr>\n",
       "      <td>0</td>\n",
       "      <td>LinearRegression</td>\n",
       "      <td>3140.800</td>\n",
       "      <td>23.293</td>\n",
       "      <td>0.195</td>\n",
       "    </tr>\n",
       "    <tr>\n",
       "      <td>1</td>\n",
       "      <td>DecisionTreeRegressor</td>\n",
       "      <td>3761.588</td>\n",
       "      <td>0.497</td>\n",
       "      <td>0.113</td>\n",
       "    </tr>\n",
       "  </tbody>\n",
       "</table>\n",
       "</div>"
      ],
      "text/plain": [
       "                   model      RMSE  fit_duration  predict_duration\n",
       "4          LGBMRegressor  1900.923         8.095             0.803\n",
       "3      CatBoostRegressor  2088.832        37.564             0.108\n",
       "2  RandomForestRegressor  2210.570        32.435             0.190\n",
       "0       LinearRegression  3140.800        23.293             0.195\n",
       "1  DecisionTreeRegressor  3761.588         0.497             0.113"
      ]
     },
     "execution_count": 112,
     "metadata": {},
     "output_type": "execute_result"
    }
   ],
   "source": [
    "pd.DataFrame(result).sort_values(by = 'RMSE')"
   ]
  },
  {
   "cell_type": "markdown",
   "metadata": {},
   "source": [
    "Лучшие результаты по качеству показали модели на основе градиентного бустинга. RMSE у LightGBM немного ниже (т.е. качество выше), гораздо быстрее происходит обучение, однако CatBoost значительно быстрее делает предсказание.\n",
    "\n",
    "Близкий к градиентному бустингу результат показала модель случайного леса. Ее RMSE немного хуже, зато обучается она быстрее CatBoost и предсказывает почти так же быстро..\n",
    "\n",
    "Линейная регрессия и дерево решений заметно уступают остальным моделям по качеству предсказаний. Однако стоит отметить, что время предсказания дерева решений на два порядка меньше, чем у всех остальных моделей. \n",
    "\n",
    "Вероятно, экспериментируя с гиперпараметрами дальше, получится найти более удачный набор, что позволит снизить ошибки моделей."
   ]
  },
  {
   "cell_type": "markdown",
   "metadata": {},
   "source": [
    "## Основные результаты"
   ]
  },
  {
   "cell_type": "markdown",
   "metadata": {},
   "source": [
    "В работе решалась задача прогнозирования цены автомобилей и сравнения моделей по качеству предсказания и времени обучения и прогнозирования.\n",
    "\n",
    "В ходе предварительного анализа данных: \n",
    "- заполнены пропуски в ряде столбцов на основе самых часто встречаемых значений в разрезе марок и моделей автомобилей;\n",
    "- удалены признаки, не имеющие логической связи с целевой переменной **price**;\n",
    "- удалены полностью дублирующиеся строки (около 18% от общего количества);\n",
    "- для ряда признаков удалены аномальные зачения, нули заменены на самые часто встречаемые значения в группах.\n",
    "\n",
    "Для решения задачи прогнозирования обучены и протестированы пять моделей: \n",
    "- линейной регрессии;\n",
    "- дерева решений;\n",
    "- случайного леса;\n",
    "- CatBoost;\n",
    "- LightGBM.\n",
    "\n",
    "Датасет разделен на тренировочную и тестовую выборки в пропорции 3:1. Данные стандартизированы. В качестве метрики использовалась RSME.\n",
    "\n",
    "Для каждой модели (за исключением линейной регрессии) подбиралиись оптимальные гиперпараметры: для решающего дерева - глубина, а также количество признаков, учитываемых при поиске лучшего разделения. Для остальных моделей - глубина и число деревьев.\n",
    "\n",
    "Лучшие результаты по значению метрики показали модели на основе градиентного бустинга. Самое высокое качество оказалось у LightGBM (RMSE = 1901). Эта модель также быстрее всех обучается (кроме линейного дерева). Однако CatBoost значительно быстрее делает предсказание (0,1 сек. против 0,8 сек.). RMSE CatBoost - 2089.\n",
    "\n",
    "Близкий к градиентному бустингу результат показала модель случайного леса. Ее RMSE несколько хуже (2210), зато предсказывет она почти так же быстро, как CatBoost (0,19 сек.).\n",
    "\n",
    "Линейная регрессия и дерево решений заметно уступают остальным моделям по качеству предсказаний. Однако стоит отметить, что время предсказания дерева решений на два порядка меньше, чем у всех остальных моделей."
   ]
  }
 ],
 "metadata": {
  "ExecuteTimeLog": [
   {
    "duration": 1213,
    "start_time": "2022-01-10T21:23:14.492Z"
   },
   {
    "duration": 851,
    "start_time": "2022-01-10T21:23:56.719Z"
   },
   {
    "duration": 19,
    "start_time": "2022-01-10T21:24:02.972Z"
   },
   {
    "duration": 125,
    "start_time": "2022-01-10T21:24:35.961Z"
   },
   {
    "duration": 71,
    "start_time": "2022-01-10T21:36:54.539Z"
   },
   {
    "duration": 109,
    "start_time": "2022-01-10T21:37:29.252Z"
   },
   {
    "duration": 102,
    "start_time": "2022-01-10T21:39:46.692Z"
   },
   {
    "duration": 104,
    "start_time": "2022-01-10T21:40:20.328Z"
   },
   {
    "duration": 103,
    "start_time": "2022-01-10T21:40:32.393Z"
   },
   {
    "duration": 4,
    "start_time": "2022-01-10T21:46:41.624Z"
   },
   {
    "duration": 3,
    "start_time": "2022-01-10T21:47:24.414Z"
   },
   {
    "duration": 119,
    "start_time": "2022-01-10T21:47:40.216Z"
   },
   {
    "duration": 424,
    "start_time": "2022-01-10T21:48:53.345Z"
   },
   {
    "duration": 498,
    "start_time": "2022-01-10T21:50:03.073Z"
   },
   {
    "duration": 576,
    "start_time": "2022-01-10T21:52:14.449Z"
   },
   {
    "duration": 901,
    "start_time": "2022-01-10T21:52:22.960Z"
   },
   {
    "duration": 2463,
    "start_time": "2022-01-11T16:22:28.673Z"
   },
   {
    "duration": 1567,
    "start_time": "2022-01-11T16:22:31.138Z"
   },
   {
    "duration": 25,
    "start_time": "2022-01-11T16:22:32.708Z"
   },
   {
    "duration": 185,
    "start_time": "2022-01-11T16:22:32.736Z"
   },
   {
    "duration": 159,
    "start_time": "2022-01-11T16:22:32.923Z"
   },
   {
    "duration": 4,
    "start_time": "2022-01-11T16:22:33.085Z"
   },
   {
    "duration": 172,
    "start_time": "2022-01-11T16:22:33.092Z"
   },
   {
    "duration": 628,
    "start_time": "2022-01-11T16:22:33.267Z"
   },
   {
    "duration": 1342,
    "start_time": "2022-01-11T16:22:33.898Z"
   },
   {
    "duration": 23,
    "start_time": "2022-01-11T16:37:49.980Z"
   },
   {
    "duration": 725,
    "start_time": "2022-01-11T16:39:50.423Z"
   },
   {
    "duration": 607,
    "start_time": "2022-01-11T16:41:27.269Z"
   },
   {
    "duration": 461,
    "start_time": "2022-01-11T16:52:14.234Z"
   },
   {
    "duration": 519,
    "start_time": "2022-01-11T16:52:39.256Z"
   },
   {
    "duration": 37,
    "start_time": "2022-01-11T16:52:48.907Z"
   },
   {
    "duration": 24,
    "start_time": "2022-01-11T16:53:03.082Z"
   },
   {
    "duration": 25,
    "start_time": "2022-01-11T16:57:24.049Z"
   },
   {
    "duration": 36,
    "start_time": "2022-01-11T16:57:30.238Z"
   },
   {
    "duration": 53,
    "start_time": "2022-01-11T16:57:36.013Z"
   },
   {
    "duration": 158,
    "start_time": "2022-01-11T17:06:02.260Z"
   },
   {
    "duration": 156,
    "start_time": "2022-01-11T17:06:36.871Z"
   },
   {
    "duration": 1553,
    "start_time": "2022-01-11T18:53:02.094Z"
   },
   {
    "duration": 1561,
    "start_time": "2022-01-11T18:53:03.650Z"
   },
   {
    "duration": 26,
    "start_time": "2022-01-11T18:53:05.214Z"
   },
   {
    "duration": 182,
    "start_time": "2022-01-11T18:53:05.242Z"
   },
   {
    "duration": 155,
    "start_time": "2022-01-11T18:53:05.426Z"
   },
   {
    "duration": 4,
    "start_time": "2022-01-11T18:53:05.584Z"
   },
   {
    "duration": 165,
    "start_time": "2022-01-11T18:53:05.590Z"
   },
   {
    "duration": 614,
    "start_time": "2022-01-11T18:53:05.758Z"
   },
   {
    "duration": 1357,
    "start_time": "2022-01-11T18:53:06.375Z"
   },
   {
    "duration": 36,
    "start_time": "2022-01-11T18:53:07.734Z"
   },
   {
    "duration": 626,
    "start_time": "2022-01-11T18:53:07.773Z"
   },
   {
    "duration": 32,
    "start_time": "2022-01-11T18:53:08.402Z"
   },
   {
    "duration": 66,
    "start_time": "2022-01-11T18:53:08.437Z"
   },
   {
    "duration": 161,
    "start_time": "2022-01-11T18:53:08.505Z"
   },
   {
    "duration": 150,
    "start_time": "2022-01-11T18:55:22.228Z"
   },
   {
    "duration": 1797,
    "start_time": "2022-01-11T18:55:30.944Z"
   },
   {
    "duration": 1136,
    "start_time": "2022-01-11T18:55:32.744Z"
   },
   {
    "duration": 26,
    "start_time": "2022-01-11T18:55:33.883Z"
   },
   {
    "duration": 196,
    "start_time": "2022-01-11T18:55:33.912Z"
   },
   {
    "duration": 168,
    "start_time": "2022-01-11T18:55:34.110Z"
   },
   {
    "duration": 151,
    "start_time": "2022-01-11T18:55:34.281Z"
   },
   {
    "duration": 4,
    "start_time": "2022-01-11T18:55:34.435Z"
   },
   {
    "duration": 166,
    "start_time": "2022-01-11T18:55:34.441Z"
   },
   {
    "duration": 627,
    "start_time": "2022-01-11T18:55:34.611Z"
   },
   {
    "duration": 1388,
    "start_time": "2022-01-11T18:55:35.240Z"
   },
   {
    "duration": 37,
    "start_time": "2022-01-11T18:55:36.631Z"
   },
   {
    "duration": 628,
    "start_time": "2022-01-11T18:55:36.671Z"
   },
   {
    "duration": 22,
    "start_time": "2022-01-11T18:55:37.302Z"
   },
   {
    "duration": 80,
    "start_time": "2022-01-11T18:55:37.326Z"
   },
   {
    "duration": 118,
    "start_time": "2022-01-11T19:03:59.561Z"
   },
   {
    "duration": 1610,
    "start_time": "2022-01-11T19:04:11.610Z"
   },
   {
    "duration": 1108,
    "start_time": "2022-01-11T19:04:13.223Z"
   },
   {
    "duration": 30,
    "start_time": "2022-01-11T19:04:14.334Z"
   },
   {
    "duration": 169,
    "start_time": "2022-01-11T19:04:14.367Z"
   },
   {
    "duration": 139,
    "start_time": "2022-01-11T19:04:14.538Z"
   },
   {
    "duration": 169,
    "start_time": "2022-01-11T19:04:14.680Z"
   },
   {
    "duration": 146,
    "start_time": "2022-01-11T19:04:14.851Z"
   },
   {
    "duration": 4,
    "start_time": "2022-01-11T19:04:15.000Z"
   },
   {
    "duration": 168,
    "start_time": "2022-01-11T19:04:15.009Z"
   },
   {
    "duration": 599,
    "start_time": "2022-01-11T19:04:15.180Z"
   },
   {
    "duration": 1264,
    "start_time": "2022-01-11T19:04:15.781Z"
   },
   {
    "duration": 30,
    "start_time": "2022-01-11T19:04:17.048Z"
   },
   {
    "duration": 634,
    "start_time": "2022-01-11T19:04:17.081Z"
   },
   {
    "duration": 23,
    "start_time": "2022-01-11T19:04:17.717Z"
   },
   {
    "duration": 63,
    "start_time": "2022-01-11T19:04:17.743Z"
   },
   {
    "duration": 50,
    "start_time": "2022-01-11T19:28:57.776Z"
   },
   {
    "duration": 53,
    "start_time": "2022-01-11T19:29:14.901Z"
   },
   {
    "duration": 52,
    "start_time": "2022-01-11T19:29:36.200Z"
   },
   {
    "duration": 21,
    "start_time": "2022-01-11T19:30:27.511Z"
   },
   {
    "duration": 19,
    "start_time": "2022-01-11T19:30:32.875Z"
   },
   {
    "duration": 24,
    "start_time": "2022-01-11T19:30:41.613Z"
   },
   {
    "duration": 17,
    "start_time": "2022-01-11T19:30:42.176Z"
   },
   {
    "duration": 28,
    "start_time": "2022-01-11T19:30:45.988Z"
   },
   {
    "duration": 26,
    "start_time": "2022-01-11T19:30:56.327Z"
   },
   {
    "duration": 28,
    "start_time": "2022-01-11T19:30:59.639Z"
   },
   {
    "duration": 38,
    "start_time": "2022-01-11T19:36:27.512Z"
   },
   {
    "duration": 35,
    "start_time": "2022-01-11T19:36:50.891Z"
   },
   {
    "duration": 103,
    "start_time": "2022-01-11T19:37:13.084Z"
   },
   {
    "duration": 38,
    "start_time": "2022-01-11T19:37:22.997Z"
   },
   {
    "duration": 463,
    "start_time": "2022-01-11T19:38:12.598Z"
   },
   {
    "duration": 98,
    "start_time": "2022-01-11T19:39:41.718Z"
   },
   {
    "duration": 24,
    "start_time": "2022-01-11T19:39:53.912Z"
   },
   {
    "duration": 558,
    "start_time": "2022-01-11T19:40:04.125Z"
   },
   {
    "duration": 9,
    "start_time": "2022-01-11T19:40:14.837Z"
   },
   {
    "duration": 13,
    "start_time": "2022-01-11T19:40:27.113Z"
   },
   {
    "duration": 11,
    "start_time": "2022-01-11T19:40:33.188Z"
   },
   {
    "duration": 266,
    "start_time": "2022-01-11T19:59:47.775Z"
   },
   {
    "duration": 129,
    "start_time": "2022-01-11T20:00:44.177Z"
   },
   {
    "duration": 56,
    "start_time": "2022-01-11T20:00:58.683Z"
   },
   {
    "duration": 71,
    "start_time": "2022-01-11T20:14:26.969Z"
   },
   {
    "duration": 6,
    "start_time": "2022-01-11T20:14:51.396Z"
   },
   {
    "duration": 621,
    "start_time": "2022-01-11T20:14:59.068Z"
   },
   {
    "duration": 1543,
    "start_time": "2022-01-11T20:15:20.782Z"
   },
   {
    "duration": 1208,
    "start_time": "2022-01-11T20:15:22.329Z"
   },
   {
    "duration": 33,
    "start_time": "2022-01-11T20:15:23.541Z"
   },
   {
    "duration": 185,
    "start_time": "2022-01-11T20:15:23.577Z"
   },
   {
    "duration": 133,
    "start_time": "2022-01-11T20:15:23.764Z"
   },
   {
    "duration": 177,
    "start_time": "2022-01-11T20:15:23.899Z"
   },
   {
    "duration": 152,
    "start_time": "2022-01-11T20:15:24.079Z"
   },
   {
    "duration": 4,
    "start_time": "2022-01-11T20:15:24.234Z"
   },
   {
    "duration": 166,
    "start_time": "2022-01-11T20:15:24.241Z"
   },
   {
    "duration": 586,
    "start_time": "2022-01-11T20:15:24.409Z"
   },
   {
    "duration": 1255,
    "start_time": "2022-01-11T20:15:24.998Z"
   },
   {
    "duration": 25,
    "start_time": "2022-01-11T20:15:26.256Z"
   },
   {
    "duration": 661,
    "start_time": "2022-01-11T20:15:26.283Z"
   },
   {
    "duration": 46,
    "start_time": "2022-01-11T20:15:26.946Z"
   },
   {
    "duration": 155,
    "start_time": "2022-01-11T20:15:26.995Z"
   },
   {
    "duration": 71,
    "start_time": "2022-01-11T20:15:27.153Z"
   },
   {
    "duration": 87,
    "start_time": "2022-01-11T20:15:27.227Z"
   },
   {
    "duration": 64,
    "start_time": "2022-01-11T20:16:10.887Z"
   },
   {
    "duration": 44,
    "start_time": "2022-01-11T20:16:22.011Z"
   },
   {
    "duration": 94,
    "start_time": "2022-01-11T20:17:01.201Z"
   },
   {
    "duration": 179,
    "start_time": "2022-01-11T20:17:28.790Z"
   },
   {
    "duration": 140,
    "start_time": "2022-01-11T20:19:32.466Z"
   },
   {
    "duration": 982,
    "start_time": "2022-01-11T20:20:29.221Z"
   },
   {
    "duration": 945,
    "start_time": "2022-01-11T20:20:40.794Z"
   },
   {
    "duration": 85,
    "start_time": "2022-01-11T20:20:56.418Z"
   },
   {
    "duration": 10,
    "start_time": "2022-01-11T20:21:03.805Z"
   },
   {
    "duration": 380,
    "start_time": "2022-01-11T20:23:28.460Z"
   },
   {
    "duration": 221,
    "start_time": "2022-01-11T20:23:56.873Z"
   },
   {
    "duration": 7,
    "start_time": "2022-01-11T20:24:01.899Z"
   },
   {
    "duration": 49,
    "start_time": "2022-01-11T20:24:28.222Z"
   },
   {
    "duration": 51,
    "start_time": "2022-01-11T20:24:47.486Z"
   },
   {
    "duration": 191,
    "start_time": "2022-01-11T20:25:07.063Z"
   },
   {
    "duration": 9,
    "start_time": "2022-01-11T20:25:08.411Z"
   },
   {
    "duration": 12,
    "start_time": "2022-01-11T20:25:36.699Z"
   },
   {
    "duration": 414,
    "start_time": "2022-01-11T20:25:49.352Z"
   },
   {
    "duration": 51,
    "start_time": "2022-01-11T20:26:21.562Z"
   },
   {
    "duration": 51,
    "start_time": "2022-01-11T20:26:25.274Z"
   },
   {
    "duration": 51,
    "start_time": "2022-01-11T20:26:32.638Z"
   },
   {
    "duration": 17,
    "start_time": "2022-01-11T20:26:39.538Z"
   },
   {
    "duration": 120,
    "start_time": "2022-01-11T20:28:12.602Z"
   },
   {
    "duration": 99,
    "start_time": "2022-01-11T20:30:26.794Z"
   },
   {
    "duration": 96,
    "start_time": "2022-01-11T20:30:34.605Z"
   },
   {
    "duration": 103,
    "start_time": "2022-01-11T20:31:04.866Z"
   },
   {
    "duration": 99,
    "start_time": "2022-01-11T20:31:33.706Z"
   },
   {
    "duration": 100,
    "start_time": "2022-01-11T20:31:40.281Z"
   },
   {
    "duration": 98,
    "start_time": "2022-01-11T20:32:06.985Z"
   },
   {
    "duration": 7,
    "start_time": "2022-01-11T20:33:12.720Z"
   },
   {
    "duration": 483,
    "start_time": "2022-01-11T20:34:30.286Z"
   },
   {
    "duration": 431,
    "start_time": "2022-01-11T20:34:37.859Z"
   },
   {
    "duration": 407,
    "start_time": "2022-01-11T20:34:43.572Z"
   },
   {
    "duration": 467,
    "start_time": "2022-01-11T20:36:31.999Z"
   },
   {
    "duration": 419,
    "start_time": "2022-01-11T20:38:20.865Z"
   },
   {
    "duration": 396,
    "start_time": "2022-01-11T20:38:36.778Z"
   },
   {
    "duration": 429,
    "start_time": "2022-01-11T20:38:42.259Z"
   },
   {
    "duration": 430,
    "start_time": "2022-01-11T20:38:47.839Z"
   },
   {
    "duration": 400,
    "start_time": "2022-01-11T20:38:54.865Z"
   },
   {
    "duration": 447,
    "start_time": "2022-01-11T20:39:00.977Z"
   },
   {
    "duration": 395,
    "start_time": "2022-01-11T20:39:55.579Z"
   },
   {
    "duration": 420,
    "start_time": "2022-01-11T20:55:13.510Z"
   },
   {
    "duration": 394,
    "start_time": "2022-01-11T20:55:22.364Z"
   },
   {
    "duration": 421,
    "start_time": "2022-01-11T20:55:30.310Z"
   },
   {
    "duration": 98,
    "start_time": "2022-01-11T20:57:46.913Z"
   },
   {
    "duration": 472,
    "start_time": "2022-01-11T20:57:51.174Z"
   },
   {
    "duration": 72,
    "start_time": "2022-01-11T20:58:03.426Z"
   },
   {
    "duration": 137,
    "start_time": "2022-01-11T20:58:55.690Z"
   },
   {
    "duration": 51,
    "start_time": "2022-01-11T21:01:04.830Z"
   },
   {
    "duration": 136,
    "start_time": "2022-01-11T21:12:17.820Z"
   },
   {
    "duration": 1663,
    "start_time": "2022-01-11T21:57:21.278Z"
   },
   {
    "duration": 1155,
    "start_time": "2022-01-11T21:57:22.944Z"
   },
   {
    "duration": 28,
    "start_time": "2022-01-11T21:57:24.103Z"
   },
   {
    "duration": 256,
    "start_time": "2022-01-11T21:57:24.133Z"
   },
   {
    "duration": 178,
    "start_time": "2022-01-11T21:57:24.392Z"
   },
   {
    "duration": 163,
    "start_time": "2022-01-11T21:57:24.573Z"
   },
   {
    "duration": 4,
    "start_time": "2022-01-11T21:57:24.738Z"
   },
   {
    "duration": 178,
    "start_time": "2022-01-11T21:57:24.744Z"
   },
   {
    "duration": 504,
    "start_time": "2022-01-11T21:57:24.926Z"
   },
   {
    "duration": -1119,
    "start_time": "2022-01-11T21:57:26.552Z"
   },
   {
    "duration": -1126,
    "start_time": "2022-01-11T21:57:26.561Z"
   },
   {
    "duration": -1149,
    "start_time": "2022-01-11T21:57:26.586Z"
   },
   {
    "duration": -1156,
    "start_time": "2022-01-11T21:57:26.594Z"
   },
   {
    "duration": -1174,
    "start_time": "2022-01-11T21:57:26.613Z"
   },
   {
    "duration": -1180,
    "start_time": "2022-01-11T21:57:26.620Z"
   },
   {
    "duration": -1187,
    "start_time": "2022-01-11T21:57:26.628Z"
   },
   {
    "duration": -1203,
    "start_time": "2022-01-11T21:57:26.646Z"
   },
   {
    "duration": -1210,
    "start_time": "2022-01-11T21:57:26.654Z"
   },
   {
    "duration": -1217,
    "start_time": "2022-01-11T21:57:26.662Z"
   },
   {
    "duration": -1236,
    "start_time": "2022-01-11T21:57:26.682Z"
   },
   {
    "duration": -1241,
    "start_time": "2022-01-11T21:57:26.689Z"
   },
   {
    "duration": -1247,
    "start_time": "2022-01-11T21:57:26.696Z"
   },
   {
    "duration": -1262,
    "start_time": "2022-01-11T21:57:26.712Z"
   },
   {
    "duration": -1266,
    "start_time": "2022-01-11T21:57:26.717Z"
   },
   {
    "duration": -1271,
    "start_time": "2022-01-11T21:57:26.724Z"
   },
   {
    "duration": 78,
    "start_time": "2022-01-11T21:57:40.374Z"
   },
   {
    "duration": 21,
    "start_time": "2022-01-11T21:57:54.286Z"
   },
   {
    "duration": 154,
    "start_time": "2022-01-11T21:58:27.617Z"
   },
   {
    "duration": 50,
    "start_time": "2022-01-11T21:58:32.236Z"
   },
   {
    "duration": 20,
    "start_time": "2022-01-11T21:58:33.036Z"
   },
   {
    "duration": 607,
    "start_time": "2022-01-11T21:58:37.650Z"
   },
   {
    "duration": 1394,
    "start_time": "2022-01-11T21:58:39.743Z"
   },
   {
    "duration": 24,
    "start_time": "2022-01-11T21:58:42.734Z"
   },
   {
    "duration": 641,
    "start_time": "2022-01-11T21:58:45.774Z"
   },
   {
    "duration": 40,
    "start_time": "2022-01-11T21:58:49.594Z"
   },
   {
    "duration": 76,
    "start_time": "2022-01-11T22:01:19.229Z"
   },
   {
    "duration": 73,
    "start_time": "2022-01-11T22:01:31.655Z"
   },
   {
    "duration": 24,
    "start_time": "2022-01-11T22:01:36.227Z"
   },
   {
    "duration": 21,
    "start_time": "2022-01-11T22:05:30.932Z"
   },
   {
    "duration": 44,
    "start_time": "2022-01-11T22:06:16.611Z"
   },
   {
    "duration": 65,
    "start_time": "2022-01-11T22:06:50.219Z"
   },
   {
    "duration": 53,
    "start_time": "2022-01-11T22:07:12.412Z"
   },
   {
    "duration": 68,
    "start_time": "2022-01-11T22:07:23.050Z"
   },
   {
    "duration": 2395,
    "start_time": "2022-01-11T22:07:52.998Z"
   },
   {
    "duration": 7,
    "start_time": "2022-01-11T22:08:13.587Z"
   },
   {
    "duration": 1544,
    "start_time": "2022-01-11T22:08:15.114Z"
   },
   {
    "duration": 1491,
    "start_time": "2022-01-11T22:08:21.337Z"
   },
   {
    "duration": 26,
    "start_time": "2022-01-11T22:08:49.583Z"
   },
   {
    "duration": 332,
    "start_time": "2022-01-13T21:36:43.743Z"
   },
   {
    "duration": 292,
    "start_time": "2022-01-13T21:37:54.100Z"
   },
   {
    "duration": 298,
    "start_time": "2022-01-13T21:37:59.518Z"
   },
   {
    "duration": 2675,
    "start_time": "2022-01-13T21:39:21.317Z"
   },
   {
    "duration": 285,
    "start_time": "2022-01-13T21:44:47.488Z"
   },
   {
    "duration": 283,
    "start_time": "2022-01-13T21:44:59.570Z"
   },
   {
    "duration": 286,
    "start_time": "2022-01-13T21:45:14.624Z"
   },
   {
    "duration": 279,
    "start_time": "2022-01-13T21:50:41.604Z"
   },
   {
    "duration": 288,
    "start_time": "2022-01-13T21:51:28.781Z"
   },
   {
    "duration": 29,
    "start_time": "2022-01-13T21:51:33.257Z"
   },
   {
    "duration": 1016,
    "start_time": "2022-01-13T21:51:37.775Z"
   },
   {
    "duration": 371,
    "start_time": "2022-01-13T21:51:50.494Z"
   },
   {
    "duration": 903,
    "start_time": "2022-01-13T21:52:54.208Z"
   },
   {
    "duration": 1631,
    "start_time": "2022-01-15T08:25:38.785Z"
   },
   {
    "duration": 1131,
    "start_time": "2022-01-15T08:25:40.419Z"
   },
   {
    "duration": 25,
    "start_time": "2022-01-15T08:25:41.553Z"
   },
   {
    "duration": 184,
    "start_time": "2022-01-15T08:25:41.581Z"
   },
   {
    "duration": 187,
    "start_time": "2022-01-15T08:25:41.768Z"
   },
   {
    "duration": 154,
    "start_time": "2022-01-15T08:25:41.957Z"
   },
   {
    "duration": 4,
    "start_time": "2022-01-15T08:25:42.113Z"
   },
   {
    "duration": 159,
    "start_time": "2022-01-15T08:25:42.120Z"
   },
   {
    "duration": 83,
    "start_time": "2022-01-15T08:25:42.283Z"
   },
   {
    "duration": 20,
    "start_time": "2022-01-15T08:25:42.369Z"
   },
   {
    "duration": 786,
    "start_time": "2022-01-15T08:25:42.400Z"
   },
   {
    "duration": 1433,
    "start_time": "2022-01-15T08:25:43.188Z"
   },
   {
    "duration": 22,
    "start_time": "2022-01-15T08:25:44.623Z"
   },
   {
    "duration": 653,
    "start_time": "2022-01-15T08:25:44.647Z"
   },
   {
    "duration": 41,
    "start_time": "2022-01-15T08:25:45.302Z"
   },
   {
    "duration": 26,
    "start_time": "2022-01-15T08:25:45.345Z"
   },
   {
    "duration": 21,
    "start_time": "2022-01-15T08:25:45.401Z"
   },
   {
    "duration": 25,
    "start_time": "2022-01-15T08:25:45.424Z"
   },
   {
    "duration": 124,
    "start_time": "2022-01-15T08:25:45.451Z"
   },
   {
    "duration": 5,
    "start_time": "2022-01-15T08:25:45.578Z"
   },
   {
    "duration": 789,
    "start_time": "2022-01-15T08:25:45.601Z"
   },
   {
    "duration": 20,
    "start_time": "2022-01-15T08:25:46.401Z"
   },
   {
    "duration": 13,
    "start_time": "2022-01-15T08:25:46.424Z"
   },
   {
    "duration": 119,
    "start_time": "2022-01-15T08:25:46.439Z"
   },
   {
    "duration": 20,
    "start_time": "2022-01-15T08:25:46.560Z"
   },
   {
    "duration": 37,
    "start_time": "2022-01-15T08:25:46.582Z"
   },
   {
    "duration": 10,
    "start_time": "2022-01-15T08:25:46.627Z"
   },
   {
    "duration": 65,
    "start_time": "2022-01-15T08:25:46.641Z"
   },
   {
    "duration": 1107,
    "start_time": "2022-01-15T08:25:46.708Z"
   },
   {
    "duration": 21,
    "start_time": "2022-01-15T08:25:47.818Z"
   },
   {
    "duration": 59,
    "start_time": "2022-01-15T08:25:47.841Z"
   },
   {
    "duration": 545,
    "start_time": "2022-01-15T08:25:47.902Z"
   },
   {
    "duration": 83,
    "start_time": "2022-01-15T08:25:48.449Z"
   },
   {
    "duration": 27,
    "start_time": "2022-01-15T08:25:48.534Z"
   },
   {
    "duration": 44,
    "start_time": "2022-01-15T08:25:48.564Z"
   },
   {
    "duration": 103,
    "start_time": "2022-01-15T08:25:48.616Z"
   },
   {
    "duration": 531,
    "start_time": "2022-01-15T08:25:48.721Z"
   },
   {
    "duration": -1867,
    "start_time": "2022-01-15T08:25:51.122Z"
   },
   {
    "duration": -1874,
    "start_time": "2022-01-15T08:25:51.130Z"
   },
   {
    "duration": -1894,
    "start_time": "2022-01-15T08:25:51.152Z"
   },
   {
    "duration": -1906,
    "start_time": "2022-01-15T08:25:51.165Z"
   },
   {
    "duration": -1928,
    "start_time": "2022-01-15T08:25:51.189Z"
   },
   {
    "duration": -1939,
    "start_time": "2022-01-15T08:25:51.201Z"
   },
   {
    "duration": -1962,
    "start_time": "2022-01-15T08:25:51.226Z"
   },
   {
    "duration": -2331,
    "start_time": "2022-01-15T08:25:51.596Z"
   },
   {
    "duration": -2613,
    "start_time": "2022-01-15T08:25:51.879Z"
   },
   {
    "duration": -2617,
    "start_time": "2022-01-15T08:25:51.885Z"
   },
   {
    "duration": -2623,
    "start_time": "2022-01-15T08:25:51.892Z"
   },
   {
    "duration": -2627,
    "start_time": "2022-01-15T08:25:51.898Z"
   },
   {
    "duration": -2633,
    "start_time": "2022-01-15T08:25:51.905Z"
   },
   {
    "duration": -2638,
    "start_time": "2022-01-15T08:25:51.911Z"
   },
   {
    "duration": -2877,
    "start_time": "2022-01-15T08:25:52.151Z"
   },
   {
    "duration": -2883,
    "start_time": "2022-01-15T08:25:52.158Z"
   },
   {
    "duration": -2888,
    "start_time": "2022-01-15T08:25:52.165Z"
   },
   {
    "duration": -2895,
    "start_time": "2022-01-15T08:25:52.173Z"
   },
   {
    "duration": -2904,
    "start_time": "2022-01-15T08:25:52.184Z"
   },
   {
    "duration": -2909,
    "start_time": "2022-01-15T08:25:52.191Z"
   },
   {
    "duration": -2915,
    "start_time": "2022-01-15T08:25:52.198Z"
   },
   {
    "duration": -2922,
    "start_time": "2022-01-15T08:25:52.206Z"
   },
   {
    "duration": -2927,
    "start_time": "2022-01-15T08:25:52.213Z"
   },
   {
    "duration": -2933,
    "start_time": "2022-01-15T08:25:52.220Z"
   },
   {
    "duration": -2941,
    "start_time": "2022-01-15T08:25:52.229Z"
   },
   {
    "duration": -2948,
    "start_time": "2022-01-15T08:25:52.238Z"
   },
   {
    "duration": -2955,
    "start_time": "2022-01-15T08:25:52.246Z"
   },
   {
    "duration": -2953,
    "start_time": "2022-01-15T08:25:52.253Z"
   },
   {
    "duration": -2958,
    "start_time": "2022-01-15T08:25:52.260Z"
   },
   {
    "duration": -2965,
    "start_time": "2022-01-15T08:25:52.268Z"
   },
   {
    "duration": -2970,
    "start_time": "2022-01-15T08:25:52.275Z"
   },
   {
    "duration": -2975,
    "start_time": "2022-01-15T08:25:52.281Z"
   },
   {
    "duration": -2980,
    "start_time": "2022-01-15T08:25:52.288Z"
   },
   {
    "duration": -2985,
    "start_time": "2022-01-15T08:25:52.294Z"
   },
   {
    "duration": -2991,
    "start_time": "2022-01-15T08:25:52.301Z"
   },
   {
    "duration": -2995,
    "start_time": "2022-01-15T08:25:52.307Z"
   },
   {
    "duration": -3001,
    "start_time": "2022-01-15T08:25:52.314Z"
   },
   {
    "duration": -3007,
    "start_time": "2022-01-15T08:25:52.321Z"
   },
   {
    "duration": -3012,
    "start_time": "2022-01-15T08:25:52.327Z"
   },
   {
    "duration": -3016,
    "start_time": "2022-01-15T08:25:52.333Z"
   },
   {
    "duration": -3022,
    "start_time": "2022-01-15T08:25:52.340Z"
   },
   {
    "duration": -3027,
    "start_time": "2022-01-15T08:25:52.346Z"
   },
   {
    "duration": -3033,
    "start_time": "2022-01-15T08:25:52.353Z"
   },
   {
    "duration": 29,
    "start_time": "2022-01-15T08:32:20.899Z"
   },
   {
    "duration": 64,
    "start_time": "2022-01-15T08:32:25.195Z"
   },
   {
    "duration": 1393,
    "start_time": "2022-01-15T08:32:35.199Z"
   },
   {
    "duration": 65,
    "start_time": "2022-01-15T08:32:42.999Z"
   },
   {
    "duration": 21,
    "start_time": "2022-01-15T08:33:04.423Z"
   },
   {
    "duration": 4,
    "start_time": "2022-01-15T08:33:18.988Z"
   },
   {
    "duration": 69,
    "start_time": "2022-01-15T08:33:32.206Z"
   },
   {
    "duration": 34,
    "start_time": "2022-01-15T08:33:56.638Z"
   },
   {
    "duration": 2777,
    "start_time": "2022-01-15T08:34:05.340Z"
   },
   {
    "duration": 62,
    "start_time": "2022-01-15T08:34:11.564Z"
   },
   {
    "duration": 63,
    "start_time": "2022-01-15T08:34:13.966Z"
   },
   {
    "duration": 21,
    "start_time": "2022-01-15T08:34:44.689Z"
   },
   {
    "duration": 4768,
    "start_time": "2022-01-15T08:36:27.973Z"
   },
   {
    "duration": 66,
    "start_time": "2022-01-15T08:37:15.072Z"
   },
   {
    "duration": 20,
    "start_time": "2022-01-15T08:37:17.031Z"
   },
   {
    "duration": 917,
    "start_time": "2022-01-15T08:37:18.189Z"
   },
   {
    "duration": 241,
    "start_time": "2022-01-15T08:37:26.454Z"
   },
   {
    "duration": 36,
    "start_time": "2022-01-15T08:43:25.572Z"
   },
   {
    "duration": 65,
    "start_time": "2022-01-15T08:43:27.725Z"
   },
   {
    "duration": 55,
    "start_time": "2022-01-15T08:43:34.322Z"
   },
   {
    "duration": 64,
    "start_time": "2022-01-15T08:43:39.022Z"
   },
   {
    "duration": 34,
    "start_time": "2022-01-15T08:43:57.367Z"
   },
   {
    "duration": 64,
    "start_time": "2022-01-15T08:43:58.632Z"
   },
   {
    "duration": 64,
    "start_time": "2022-01-15T08:44:09.420Z"
   },
   {
    "duration": 425,
    "start_time": "2022-01-15T08:45:07.990Z"
   },
   {
    "duration": 8688,
    "start_time": "2022-01-15T08:45:29.319Z"
   },
   {
    "duration": 6123,
    "start_time": "2022-01-15T08:49:42.740Z"
   },
   {
    "duration": 5,
    "start_time": "2022-01-15T08:50:33.642Z"
   },
   {
    "duration": 55,
    "start_time": "2022-01-15T08:52:31.307Z"
   },
   {
    "duration": 34,
    "start_time": "2022-01-15T09:22:38.927Z"
   },
   {
    "duration": 31,
    "start_time": "2022-01-15T09:22:39.600Z"
   },
   {
    "duration": 37,
    "start_time": "2022-01-15T09:22:43.879Z"
   },
   {
    "duration": 67,
    "start_time": "2022-01-15T09:22:45.433Z"
   },
   {
    "duration": 51,
    "start_time": "2022-01-15T09:22:53.261Z"
   },
   {
    "duration": 81,
    "start_time": "2022-01-15T09:26:43.649Z"
   },
   {
    "duration": 1837,
    "start_time": "2022-01-15T09:26:46.438Z"
   },
   {
    "duration": 1270,
    "start_time": "2022-01-15T09:28:38.430Z"
   },
   {
    "duration": 325,
    "start_time": "2022-01-15T09:28:40.775Z"
   },
   {
    "duration": 11397,
    "start_time": "2022-01-15T09:28:57.905Z"
   },
   {
    "duration": 159,
    "start_time": "2022-01-15T09:32:11.490Z"
   },
   {
    "duration": 108,
    "start_time": "2022-01-15T09:32:13.808Z"
   },
   {
    "duration": 1649,
    "start_time": "2022-01-15T09:33:18.088Z"
   },
   {
    "duration": 36,
    "start_time": "2022-01-15T09:33:48.213Z"
   },
   {
    "duration": 67,
    "start_time": "2022-01-15T09:34:02.359Z"
   },
   {
    "duration": 49,
    "start_time": "2022-01-15T09:34:31.102Z"
   },
   {
    "duration": 65,
    "start_time": "2022-01-15T09:34:36.618Z"
   },
   {
    "duration": 37,
    "start_time": "2022-01-15T09:34:51.143Z"
   },
   {
    "duration": 77,
    "start_time": "2022-01-15T09:40:17.126Z"
   },
   {
    "duration": 134,
    "start_time": "2022-01-15T09:42:04.830Z"
   },
   {
    "duration": 10854,
    "start_time": "2022-01-15T09:42:08.685Z"
   },
   {
    "duration": 558,
    "start_time": "2022-01-15T09:42:24.173Z"
   },
   {
    "duration": 4,
    "start_time": "2022-01-15T09:48:11.643Z"
   },
   {
    "duration": 28,
    "start_time": "2022-01-15T09:48:14.578Z"
   },
   {
    "duration": 2921,
    "start_time": "2022-01-15T09:48:17.014Z"
   },
   {
    "duration": 62,
    "start_time": "2022-01-15T09:48:24.161Z"
   },
   {
    "duration": 2835,
    "start_time": "2022-01-15T09:49:11.195Z"
   },
   {
    "duration": 67,
    "start_time": "2022-01-15T09:49:15.957Z"
   },
   {
    "duration": 3004,
    "start_time": "2022-01-15T09:50:54.668Z"
   },
   {
    "duration": 63,
    "start_time": "2022-01-15T09:51:03.201Z"
   },
   {
    "duration": 47,
    "start_time": "2022-01-15T09:52:11.559Z"
   },
   {
    "duration": 238,
    "start_time": "2022-01-15T09:52:35.635Z"
   },
   {
    "duration": 246,
    "start_time": "2022-01-15T09:53:15.122Z"
   },
   {
    "duration": 3095,
    "start_time": "2022-01-15T09:58:29.214Z"
   },
   {
    "duration": 63,
    "start_time": "2022-01-15T09:58:50.038Z"
   },
   {
    "duration": 159,
    "start_time": "2022-01-15T09:59:27.244Z"
   },
   {
    "duration": 1656,
    "start_time": "2022-01-15T10:01:05.651Z"
   },
   {
    "duration": 31,
    "start_time": "2022-01-15T10:01:29.986Z"
   },
   {
    "duration": 24,
    "start_time": "2022-01-15T10:01:41.114Z"
   },
   {
    "duration": 23,
    "start_time": "2022-01-15T10:02:42.683Z"
   },
   {
    "duration": 1624,
    "start_time": "2022-01-15T10:02:52.249Z"
   },
   {
    "duration": 1172,
    "start_time": "2022-01-15T10:02:53.876Z"
   },
   {
    "duration": 26,
    "start_time": "2022-01-15T10:02:55.051Z"
   },
   {
    "duration": 186,
    "start_time": "2022-01-15T10:02:55.081Z"
   },
   {
    "duration": 174,
    "start_time": "2022-01-15T10:02:55.270Z"
   },
   {
    "duration": 165,
    "start_time": "2022-01-15T10:02:55.447Z"
   },
   {
    "duration": 4,
    "start_time": "2022-01-15T10:02:55.614Z"
   },
   {
    "duration": 164,
    "start_time": "2022-01-15T10:02:55.620Z"
   },
   {
    "duration": 81,
    "start_time": "2022-01-15T10:02:55.788Z"
   },
   {
    "duration": 31,
    "start_time": "2022-01-15T10:02:55.872Z"
   },
   {
    "duration": 695,
    "start_time": "2022-01-15T10:02:55.906Z"
   },
   {
    "duration": 1410,
    "start_time": "2022-01-15T10:02:56.604Z"
   },
   {
    "duration": 22,
    "start_time": "2022-01-15T10:02:58.017Z"
   },
   {
    "duration": 738,
    "start_time": "2022-01-15T10:02:58.042Z"
   },
   {
    "duration": 47,
    "start_time": "2022-01-15T10:02:58.782Z"
   },
   {
    "duration": 24,
    "start_time": "2022-01-15T10:02:58.832Z"
   },
   {
    "duration": 45,
    "start_time": "2022-01-15T10:02:58.858Z"
   },
   {
    "duration": 25,
    "start_time": "2022-01-15T10:02:58.906Z"
   },
   {
    "duration": 120,
    "start_time": "2022-01-15T10:02:58.933Z"
   },
   {
    "duration": 5,
    "start_time": "2022-01-15T10:02:59.056Z"
   },
   {
    "duration": 704,
    "start_time": "2022-01-15T10:02:59.064Z"
   },
   {
    "duration": 44,
    "start_time": "2022-01-15T10:02:59.771Z"
   },
   {
    "duration": 13,
    "start_time": "2022-01-15T10:02:59.818Z"
   },
   {
    "duration": 106,
    "start_time": "2022-01-15T10:02:59.833Z"
   },
   {
    "duration": 22,
    "start_time": "2022-01-15T10:02:59.941Z"
   },
   {
    "duration": 48,
    "start_time": "2022-01-15T10:02:59.966Z"
   },
   {
    "duration": 10,
    "start_time": "2022-01-15T10:03:00.020Z"
   },
   {
    "duration": 30,
    "start_time": "2022-01-15T10:03:00.034Z"
   },
   {
    "duration": 1320,
    "start_time": "2022-01-15T10:03:00.067Z"
   },
   {
    "duration": 36,
    "start_time": "2022-01-15T10:03:01.390Z"
   },
   {
    "duration": 33,
    "start_time": "2022-01-15T10:03:01.429Z"
   },
   {
    "duration": 600,
    "start_time": "2022-01-15T10:03:01.465Z"
   },
   {
    "duration": 96,
    "start_time": "2022-01-15T10:03:02.068Z"
   },
   {
    "duration": 45,
    "start_time": "2022-01-15T10:03:02.168Z"
   },
   {
    "duration": 51,
    "start_time": "2022-01-15T10:03:02.216Z"
   },
   {
    "duration": 119,
    "start_time": "2022-01-15T10:03:02.271Z"
   },
   {
    "duration": 25,
    "start_time": "2022-01-15T10:03:02.392Z"
   },
   {
    "duration": 3095,
    "start_time": "2022-01-15T10:03:02.419Z"
   },
   {
    "duration": 66,
    "start_time": "2022-01-15T10:03:05.517Z"
   },
   {
    "duration": 26,
    "start_time": "2022-01-15T10:03:05.602Z"
   },
   {
    "duration": 614,
    "start_time": "2022-01-15T10:03:05.630Z"
   },
   {
    "duration": -1314,
    "start_time": "2022-01-15T10:03:07.560Z"
   },
   {
    "duration": -1323,
    "start_time": "2022-01-15T10:03:07.571Z"
   },
   {
    "duration": -1346,
    "start_time": "2022-01-15T10:03:07.595Z"
   },
   {
    "duration": -1352,
    "start_time": "2022-01-15T10:03:07.602Z"
   },
   {
    "duration": -1357,
    "start_time": "2022-01-15T10:03:07.609Z"
   },
   {
    "duration": -1364,
    "start_time": "2022-01-15T10:03:07.617Z"
   },
   {
    "duration": -1370,
    "start_time": "2022-01-15T10:03:07.624Z"
   },
   {
    "duration": -1376,
    "start_time": "2022-01-15T10:03:07.631Z"
   },
   {
    "duration": 89,
    "start_time": "2022-01-15T10:05:28.154Z"
   },
   {
    "duration": 110,
    "start_time": "2022-01-15T10:09:57.058Z"
   },
   {
    "duration": 415,
    "start_time": "2022-01-15T10:10:57.700Z"
   },
   {
    "duration": 47,
    "start_time": "2022-01-15T10:11:32.612Z"
   },
   {
    "duration": 700,
    "start_time": "2022-01-15T10:13:32.528Z"
   },
   {
    "duration": 101,
    "start_time": "2022-01-15T10:13:50.464Z"
   },
   {
    "duration": 417,
    "start_time": "2022-01-15T10:14:21.565Z"
   },
   {
    "duration": 410,
    "start_time": "2022-01-15T10:14:35.890Z"
   },
   {
    "duration": 406,
    "start_time": "2022-01-15T10:14:43.741Z"
   },
   {
    "duration": 10461,
    "start_time": "2022-01-15T11:05:18.455Z"
   },
   {
    "duration": 13411,
    "start_time": "2022-01-15T11:05:42.793Z"
   },
   {
    "duration": 10119,
    "start_time": "2022-01-15T11:06:12.094Z"
   },
   {
    "duration": 117,
    "start_time": "2022-01-15T11:07:00.695Z"
   },
   {
    "duration": 48,
    "start_time": "2022-01-15T11:08:57.284Z"
   },
   {
    "duration": 848,
    "start_time": "2022-01-15T11:11:02.615Z"
   },
   {
    "duration": 100,
    "start_time": "2022-01-15T11:11:11.584Z"
   },
   {
    "duration": 22,
    "start_time": "2022-01-15T11:13:55.876Z"
   },
   {
    "duration": 638,
    "start_time": "2022-01-15T11:17:25.282Z"
   },
   {
    "duration": 796,
    "start_time": "2022-01-15T11:17:59.473Z"
   },
   {
    "duration": 561,
    "start_time": "2022-01-15T11:18:05.443Z"
   },
   {
    "duration": 11,
    "start_time": "2022-01-15T11:19:06.746Z"
   },
   {
    "duration": 11,
    "start_time": "2022-01-15T11:19:14.497Z"
   },
   {
    "duration": 15,
    "start_time": "2022-01-15T11:19:46.922Z"
   },
   {
    "duration": 1807,
    "start_time": "2022-01-15T11:29:04.826Z"
   },
   {
    "duration": 1164,
    "start_time": "2022-01-15T11:29:06.636Z"
   },
   {
    "duration": 36,
    "start_time": "2022-01-15T11:29:07.803Z"
   },
   {
    "duration": 181,
    "start_time": "2022-01-15T11:29:07.843Z"
   },
   {
    "duration": 169,
    "start_time": "2022-01-15T11:29:08.027Z"
   },
   {
    "duration": 161,
    "start_time": "2022-01-15T11:29:08.200Z"
   },
   {
    "duration": 4,
    "start_time": "2022-01-15T11:29:08.363Z"
   },
   {
    "duration": 161,
    "start_time": "2022-01-15T11:29:08.370Z"
   },
   {
    "duration": 93,
    "start_time": "2022-01-15T11:29:08.535Z"
   },
   {
    "duration": 26,
    "start_time": "2022-01-15T11:29:08.632Z"
   },
   {
    "duration": 721,
    "start_time": "2022-01-15T11:29:08.661Z"
   },
   {
    "duration": 1574,
    "start_time": "2022-01-15T11:29:09.385Z"
   },
   {
    "duration": 24,
    "start_time": "2022-01-15T11:29:10.961Z"
   },
   {
    "duration": 636,
    "start_time": "2022-01-15T11:29:11.000Z"
   },
   {
    "duration": 41,
    "start_time": "2022-01-15T11:29:11.638Z"
   },
   {
    "duration": 43,
    "start_time": "2022-01-15T11:29:11.681Z"
   },
   {
    "duration": 29,
    "start_time": "2022-01-15T11:29:11.727Z"
   },
   {
    "duration": 57,
    "start_time": "2022-01-15T11:29:11.759Z"
   },
   {
    "duration": 130,
    "start_time": "2022-01-15T11:29:11.819Z"
   },
   {
    "duration": 7,
    "start_time": "2022-01-15T11:29:11.952Z"
   },
   {
    "duration": 706,
    "start_time": "2022-01-15T11:29:11.961Z"
   },
   {
    "duration": 37,
    "start_time": "2022-01-15T11:29:12.669Z"
   },
   {
    "duration": 13,
    "start_time": "2022-01-15T11:29:12.708Z"
   },
   {
    "duration": 120,
    "start_time": "2022-01-15T11:29:12.724Z"
   },
   {
    "duration": 21,
    "start_time": "2022-01-15T11:29:12.847Z"
   },
   {
    "duration": 46,
    "start_time": "2022-01-15T11:29:12.870Z"
   },
   {
    "duration": 10,
    "start_time": "2022-01-15T11:29:12.922Z"
   },
   {
    "duration": 46,
    "start_time": "2022-01-15T11:29:12.936Z"
   },
   {
    "duration": 1172,
    "start_time": "2022-01-15T11:29:12.985Z"
   },
   {
    "duration": 40,
    "start_time": "2022-01-15T11:29:14.160Z"
   },
   {
    "duration": 30,
    "start_time": "2022-01-15T11:29:14.203Z"
   },
   {
    "duration": 571,
    "start_time": "2022-01-15T11:29:14.235Z"
   },
   {
    "duration": 100,
    "start_time": "2022-01-15T11:29:14.809Z"
   },
   {
    "duration": 29,
    "start_time": "2022-01-15T11:29:14.911Z"
   },
   {
    "duration": 61,
    "start_time": "2022-01-15T11:29:14.942Z"
   },
   {
    "duration": 109,
    "start_time": "2022-01-15T11:29:15.006Z"
   },
   {
    "duration": 20,
    "start_time": "2022-01-15T11:29:15.118Z"
   },
   {
    "duration": 3222,
    "start_time": "2022-01-15T11:29:15.141Z"
   },
   {
    "duration": 98,
    "start_time": "2022-01-15T11:29:18.366Z"
   },
   {
    "duration": 46,
    "start_time": "2022-01-15T11:29:18.467Z"
   },
   {
    "duration": 102,
    "start_time": "2022-01-15T11:29:18.515Z"
   },
   {
    "duration": 161,
    "start_time": "2022-01-15T11:29:18.620Z"
   },
   {
    "duration": 444,
    "start_time": "2022-01-15T11:29:18.784Z"
   },
   {
    "duration": 42,
    "start_time": "2022-01-15T11:29:19.230Z"
   },
   {
    "duration": 770,
    "start_time": "2022-01-15T11:29:19.274Z"
   },
   {
    "duration": 123,
    "start_time": "2022-01-15T11:29:20.046Z"
   },
   {
    "duration": 485,
    "start_time": "2022-01-15T11:29:20.172Z"
   },
   {
    "duration": 156,
    "start_time": "2022-01-15T11:29:20.660Z"
   },
   {
    "duration": 39,
    "start_time": "2022-01-15T11:29:20.818Z"
   },
   {
    "duration": 791,
    "start_time": "2022-01-15T11:29:20.860Z"
   },
   {
    "duration": -1212,
    "start_time": "2022-01-15T11:29:22.865Z"
   },
   {
    "duration": -1217,
    "start_time": "2022-01-15T11:29:22.872Z"
   },
   {
    "duration": -1223,
    "start_time": "2022-01-15T11:29:22.879Z"
   },
   {
    "duration": -1229,
    "start_time": "2022-01-15T11:29:22.887Z"
   },
   {
    "duration": -1329,
    "start_time": "2022-01-15T11:29:22.988Z"
   },
   {
    "duration": -1350,
    "start_time": "2022-01-15T11:29:23.011Z"
   },
   {
    "duration": -1356,
    "start_time": "2022-01-15T11:29:23.018Z"
   },
   {
    "duration": -1369,
    "start_time": "2022-01-15T11:29:23.033Z"
   },
   {
    "duration": -1374,
    "start_time": "2022-01-15T11:29:23.039Z"
   },
   {
    "duration": 791,
    "start_time": "2022-01-15T11:33:47.912Z"
   },
   {
    "duration": 97,
    "start_time": "2022-01-15T11:33:53.074Z"
   },
   {
    "duration": 23,
    "start_time": "2022-01-15T11:38:04.233Z"
   },
   {
    "duration": 12,
    "start_time": "2022-01-15T11:40:08.945Z"
   },
   {
    "duration": 11,
    "start_time": "2022-01-15T11:40:12.359Z"
   },
   {
    "duration": 11,
    "start_time": "2022-01-15T11:40:15.434Z"
   },
   {
    "duration": 11,
    "start_time": "2022-01-15T11:40:25.208Z"
   },
   {
    "duration": 10,
    "start_time": "2022-01-15T11:40:28.227Z"
   },
   {
    "duration": 11,
    "start_time": "2022-01-15T11:40:32.058Z"
   },
   {
    "duration": 10,
    "start_time": "2022-01-15T11:40:35.598Z"
   },
   {
    "duration": 11,
    "start_time": "2022-01-15T11:40:39.114Z"
   },
   {
    "duration": 11,
    "start_time": "2022-01-15T11:40:42.070Z"
   },
   {
    "duration": 11,
    "start_time": "2022-01-15T11:40:54.325Z"
   },
   {
    "duration": 11,
    "start_time": "2022-01-15T11:41:08.617Z"
   },
   {
    "duration": 15,
    "start_time": "2022-01-15T11:42:26.373Z"
   },
   {
    "duration": 14,
    "start_time": "2022-01-15T11:42:34.274Z"
   },
   {
    "duration": 567,
    "start_time": "2022-01-15T11:44:18.101Z"
   },
   {
    "duration": 11,
    "start_time": "2022-01-15T11:54:31.591Z"
   },
   {
    "duration": 10,
    "start_time": "2022-01-15T11:54:57.882Z"
   },
   {
    "duration": 162,
    "start_time": "2022-01-15T11:55:13.403Z"
   },
   {
    "duration": 11,
    "start_time": "2022-01-15T11:55:17.655Z"
   },
   {
    "duration": 10,
    "start_time": "2022-01-15T11:56:48.367Z"
   },
   {
    "duration": 28,
    "start_time": "2022-01-15T11:56:55.906Z"
   },
   {
    "duration": 13,
    "start_time": "2022-01-15T11:57:22.449Z"
   },
   {
    "duration": 12,
    "start_time": "2022-01-15T12:41:16.899Z"
   },
   {
    "duration": 6,
    "start_time": "2022-01-15T12:41:24.228Z"
   },
   {
    "duration": 12,
    "start_time": "2022-01-15T12:41:25.802Z"
   },
   {
    "duration": 1784,
    "start_time": "2022-01-15T12:41:52.999Z"
   },
   {
    "duration": 1346,
    "start_time": "2022-01-15T12:41:54.786Z"
   },
   {
    "duration": 30,
    "start_time": "2022-01-15T12:41:56.136Z"
   },
   {
    "duration": 178,
    "start_time": "2022-01-15T12:41:56.169Z"
   },
   {
    "duration": 261,
    "start_time": "2022-01-15T12:41:56.349Z"
   },
   {
    "duration": 177,
    "start_time": "2022-01-15T12:41:56.612Z"
   },
   {
    "duration": 8,
    "start_time": "2022-01-15T12:41:56.792Z"
   },
   {
    "duration": 165,
    "start_time": "2022-01-15T12:41:56.803Z"
   },
   {
    "duration": 85,
    "start_time": "2022-01-15T12:41:56.972Z"
   },
   {
    "duration": 27,
    "start_time": "2022-01-15T12:41:57.061Z"
   },
   {
    "duration": 904,
    "start_time": "2022-01-15T12:41:57.102Z"
   },
   {
    "duration": 1609,
    "start_time": "2022-01-15T12:41:58.009Z"
   },
   {
    "duration": 25,
    "start_time": "2022-01-15T12:41:59.621Z"
   },
   {
    "duration": 756,
    "start_time": "2022-01-15T12:41:59.649Z"
   },
   {
    "duration": 42,
    "start_time": "2022-01-15T12:42:00.408Z"
   },
   {
    "duration": 55,
    "start_time": "2022-01-15T12:42:00.452Z"
   },
   {
    "duration": 22,
    "start_time": "2022-01-15T12:42:00.510Z"
   },
   {
    "duration": 27,
    "start_time": "2022-01-15T12:42:00.535Z"
   },
   {
    "duration": 142,
    "start_time": "2022-01-15T12:42:00.564Z"
   },
   {
    "duration": 6,
    "start_time": "2022-01-15T12:42:00.709Z"
   },
   {
    "duration": 787,
    "start_time": "2022-01-15T12:42:00.717Z"
   },
   {
    "duration": 27,
    "start_time": "2022-01-15T12:42:01.508Z"
   },
   {
    "duration": 13,
    "start_time": "2022-01-15T12:42:01.537Z"
   },
   {
    "duration": 123,
    "start_time": "2022-01-15T12:42:01.553Z"
   },
   {
    "duration": 38,
    "start_time": "2022-01-15T12:42:01.678Z"
   },
   {
    "duration": 30,
    "start_time": "2022-01-15T12:42:01.718Z"
   },
   {
    "duration": 12,
    "start_time": "2022-01-15T12:42:01.757Z"
   },
   {
    "duration": 36,
    "start_time": "2022-01-15T12:42:01.803Z"
   },
   {
    "duration": 1241,
    "start_time": "2022-01-15T12:42:01.842Z"
   },
   {
    "duration": 33,
    "start_time": "2022-01-15T12:42:03.086Z"
   },
   {
    "duration": 31,
    "start_time": "2022-01-15T12:42:03.122Z"
   },
   {
    "duration": 685,
    "start_time": "2022-01-15T12:42:03.156Z"
   },
   {
    "duration": 90,
    "start_time": "2022-01-15T12:42:03.844Z"
   },
   {
    "duration": 28,
    "start_time": "2022-01-15T12:42:03.937Z"
   },
   {
    "duration": 46,
    "start_time": "2022-01-15T12:42:03.968Z"
   },
   {
    "duration": 118,
    "start_time": "2022-01-15T12:42:04.016Z"
   },
   {
    "duration": 29,
    "start_time": "2022-01-15T12:42:04.137Z"
   },
   {
    "duration": 3470,
    "start_time": "2022-01-15T12:42:04.169Z"
   },
   {
    "duration": 105,
    "start_time": "2022-01-15T12:42:07.642Z"
   },
   {
    "duration": 30,
    "start_time": "2022-01-15T12:42:07.750Z"
   },
   {
    "duration": 126,
    "start_time": "2022-01-15T12:42:07.800Z"
   },
   {
    "duration": 127,
    "start_time": "2022-01-15T12:42:07.929Z"
   },
   {
    "duration": 441,
    "start_time": "2022-01-15T12:42:08.059Z"
   },
   {
    "duration": 55,
    "start_time": "2022-01-15T12:42:08.504Z"
   },
   {
    "duration": 837,
    "start_time": "2022-01-15T12:42:08.563Z"
   },
   {
    "duration": 133,
    "start_time": "2022-01-15T12:42:09.403Z"
   },
   {
    "duration": 461,
    "start_time": "2022-01-15T12:42:09.539Z"
   },
   {
    "duration": 125,
    "start_time": "2022-01-15T12:42:10.003Z"
   },
   {
    "duration": 42,
    "start_time": "2022-01-15T12:42:10.130Z"
   },
   {
    "duration": 839,
    "start_time": "2022-01-15T12:42:10.174Z"
   },
   {
    "duration": 119,
    "start_time": "2022-01-15T12:42:11.016Z"
   },
   {
    "duration": 26,
    "start_time": "2022-01-15T12:42:11.138Z"
   },
   {
    "duration": 46,
    "start_time": "2022-01-15T12:42:11.167Z"
   },
   {
    "duration": 631,
    "start_time": "2022-01-15T12:42:11.216Z"
   },
   {
    "duration": 14,
    "start_time": "2022-01-15T12:42:11.850Z"
   },
   {
    "duration": 55,
    "start_time": "2022-01-15T12:42:11.867Z"
   },
   {
    "duration": 618,
    "start_time": "2022-01-15T12:42:11.925Z"
   },
   {
    "duration": -1164,
    "start_time": "2022-01-15T12:42:13.710Z"
   },
   {
    "duration": -1171,
    "start_time": "2022-01-15T12:42:13.719Z"
   },
   {
    "duration": -1177,
    "start_time": "2022-01-15T12:42:13.726Z"
   },
   {
    "duration": -1192,
    "start_time": "2022-01-15T12:42:13.743Z"
   },
   {
    "duration": -1198,
    "start_time": "2022-01-15T12:42:13.750Z"
   },
   {
    "duration": -1203,
    "start_time": "2022-01-15T12:42:13.757Z"
   },
   {
    "duration": 13,
    "start_time": "2022-01-15T12:43:40.374Z"
   },
   {
    "duration": 9,
    "start_time": "2022-01-15T12:43:48.303Z"
   },
   {
    "duration": 1697,
    "start_time": "2022-01-15T12:44:14.753Z"
   },
   {
    "duration": 1210,
    "start_time": "2022-01-15T12:44:16.453Z"
   },
   {
    "duration": 36,
    "start_time": "2022-01-15T12:44:17.666Z"
   },
   {
    "duration": 177,
    "start_time": "2022-01-15T12:44:17.705Z"
   },
   {
    "duration": 220,
    "start_time": "2022-01-15T12:44:17.885Z"
   },
   {
    "duration": 153,
    "start_time": "2022-01-15T12:44:18.108Z"
   },
   {
    "duration": 4,
    "start_time": "2022-01-15T12:44:18.264Z"
   },
   {
    "duration": 164,
    "start_time": "2022-01-15T12:44:18.272Z"
   },
   {
    "duration": 82,
    "start_time": "2022-01-15T12:44:18.439Z"
   },
   {
    "duration": 21,
    "start_time": "2022-01-15T12:44:18.523Z"
   },
   {
    "duration": 716,
    "start_time": "2022-01-15T12:44:18.547Z"
   },
   {
    "duration": 1614,
    "start_time": "2022-01-15T12:44:19.265Z"
   },
   {
    "duration": 34,
    "start_time": "2022-01-15T12:44:20.882Z"
   },
   {
    "duration": 652,
    "start_time": "2022-01-15T12:44:20.919Z"
   },
   {
    "duration": 53,
    "start_time": "2022-01-15T12:44:21.574Z"
   },
   {
    "duration": 25,
    "start_time": "2022-01-15T12:44:21.629Z"
   },
   {
    "duration": 22,
    "start_time": "2022-01-15T12:44:21.656Z"
   },
   {
    "duration": 44,
    "start_time": "2022-01-15T12:44:21.681Z"
   },
   {
    "duration": 132,
    "start_time": "2022-01-15T12:44:21.728Z"
   },
   {
    "duration": 14,
    "start_time": "2022-01-15T12:44:21.863Z"
   },
   {
    "duration": 737,
    "start_time": "2022-01-15T12:44:21.880Z"
   },
   {
    "duration": 22,
    "start_time": "2022-01-15T12:44:22.620Z"
   },
   {
    "duration": 13,
    "start_time": "2022-01-15T12:44:22.648Z"
   },
   {
    "duration": 119,
    "start_time": "2022-01-15T12:44:22.664Z"
   },
   {
    "duration": 30,
    "start_time": "2022-01-15T12:44:22.786Z"
   },
   {
    "duration": 26,
    "start_time": "2022-01-15T12:44:22.818Z"
   },
   {
    "duration": 10,
    "start_time": "2022-01-15T12:44:22.847Z"
   },
   {
    "duration": 65,
    "start_time": "2022-01-15T12:44:22.859Z"
   },
   {
    "duration": 1605,
    "start_time": "2022-01-15T12:44:22.927Z"
   },
   {
    "duration": 27,
    "start_time": "2022-01-15T12:44:24.535Z"
   },
   {
    "duration": 73,
    "start_time": "2022-01-15T12:44:24.565Z"
   },
   {
    "duration": 682,
    "start_time": "2022-01-15T12:44:24.641Z"
   },
   {
    "duration": 95,
    "start_time": "2022-01-15T12:44:25.326Z"
   },
   {
    "duration": 33,
    "start_time": "2022-01-15T12:44:25.423Z"
   },
   {
    "duration": 50,
    "start_time": "2022-01-15T12:44:25.458Z"
   },
   {
    "duration": 104,
    "start_time": "2022-01-15T12:44:25.511Z"
   },
   {
    "duration": 21,
    "start_time": "2022-01-15T12:44:25.617Z"
   },
   {
    "duration": 2970,
    "start_time": "2022-01-15T12:44:25.641Z"
   },
   {
    "duration": 62,
    "start_time": "2022-01-15T12:44:28.614Z"
   },
   {
    "duration": 42,
    "start_time": "2022-01-15T12:44:28.680Z"
   },
   {
    "duration": 118,
    "start_time": "2022-01-15T12:44:28.725Z"
   },
   {
    "duration": 109,
    "start_time": "2022-01-15T12:44:28.846Z"
   },
   {
    "duration": 417,
    "start_time": "2022-01-15T12:44:28.957Z"
   },
   {
    "duration": 50,
    "start_time": "2022-01-15T12:44:29.377Z"
   },
   {
    "duration": 823,
    "start_time": "2022-01-15T12:44:29.430Z"
   },
   {
    "duration": 101,
    "start_time": "2022-01-15T12:44:30.255Z"
   },
   {
    "duration": 450,
    "start_time": "2022-01-15T12:44:30.359Z"
   },
   {
    "duration": 115,
    "start_time": "2022-01-15T12:44:30.812Z"
   },
   {
    "duration": 41,
    "start_time": "2022-01-15T12:44:30.930Z"
   },
   {
    "duration": 807,
    "start_time": "2022-01-15T12:44:30.974Z"
   },
   {
    "duration": 116,
    "start_time": "2022-01-15T12:44:31.784Z"
   },
   {
    "duration": 22,
    "start_time": "2022-01-15T12:44:31.908Z"
   },
   {
    "duration": 18,
    "start_time": "2022-01-15T12:44:31.934Z"
   },
   {
    "duration": 1022,
    "start_time": "2022-01-15T12:44:31.956Z"
   },
   {
    "duration": 25,
    "start_time": "2022-01-15T12:44:32.982Z"
   },
   {
    "duration": 118,
    "start_time": "2022-01-15T12:44:33.010Z"
   },
   {
    "duration": 36,
    "start_time": "2022-01-15T12:44:33.131Z"
   },
   {
    "duration": 61,
    "start_time": "2022-01-15T12:44:33.170Z"
   },
   {
    "duration": 13,
    "start_time": "2022-01-15T12:44:33.234Z"
   },
   {
    "duration": 216,
    "start_time": "2022-01-15T12:44:33.250Z"
   },
   {
    "duration": 97,
    "start_time": "2022-01-15T12:44:33.470Z"
   },
   {
    "duration": 71,
    "start_time": "2022-01-15T12:44:33.569Z"
   },
   {
    "duration": 27,
    "start_time": "2022-01-15T12:44:44.562Z"
   },
   {
    "duration": 15,
    "start_time": "2022-01-15T12:50:44.057Z"
   },
   {
    "duration": 670,
    "start_time": "2022-01-15T12:50:57.907Z"
   },
   {
    "duration": 864,
    "start_time": "2022-01-15T12:51:49.807Z"
   },
   {
    "duration": 128,
    "start_time": "2022-01-15T12:52:29.245Z"
   },
   {
    "duration": 138,
    "start_time": "2022-01-15T12:52:32.873Z"
   },
   {
    "duration": 960,
    "start_time": "2022-01-15T12:53:05.051Z"
   },
   {
    "duration": 39,
    "start_time": "2022-01-15T12:53:51.948Z"
   },
   {
    "duration": 37,
    "start_time": "2022-01-15T12:54:02.277Z"
   },
   {
    "duration": 100,
    "start_time": "2022-01-15T12:55:10.702Z"
   },
   {
    "duration": 933,
    "start_time": "2022-01-15T12:55:13.844Z"
   },
   {
    "duration": 1146,
    "start_time": "2022-01-15T12:55:20.875Z"
   },
   {
    "duration": 102,
    "start_time": "2022-01-15T12:57:49.990Z"
   },
   {
    "duration": 116,
    "start_time": "2022-01-15T12:57:56.857Z"
   },
   {
    "duration": 46,
    "start_time": "2022-01-15T13:06:59.718Z"
   },
   {
    "duration": 96,
    "start_time": "2022-01-15T13:07:12.288Z"
   },
   {
    "duration": 381,
    "start_time": "2022-01-15T13:08:26.375Z"
   },
   {
    "duration": 42,
    "start_time": "2022-01-15T13:09:28.218Z"
   },
   {
    "duration": 831,
    "start_time": "2022-01-15T13:10:53.935Z"
   },
   {
    "duration": 127,
    "start_time": "2022-01-15T13:11:42.407Z"
   },
   {
    "duration": 127,
    "start_time": "2022-01-15T13:11:47.300Z"
   },
   {
    "duration": 371,
    "start_time": "2022-01-15T13:12:39.820Z"
   },
   {
    "duration": 28,
    "start_time": "2022-01-15T13:13:26.490Z"
   },
   {
    "duration": 27,
    "start_time": "2022-01-15T13:28:16.236Z"
   },
   {
    "duration": 544,
    "start_time": "2022-01-15T13:29:57.150Z"
   },
   {
    "duration": 12,
    "start_time": "2022-01-15T13:33:53.997Z"
   },
   {
    "duration": 14,
    "start_time": "2022-01-15T13:43:00.875Z"
   },
   {
    "duration": 32,
    "start_time": "2022-01-15T13:44:05.002Z"
   },
   {
    "duration": 35,
    "start_time": "2022-01-15T13:44:19.736Z"
   },
   {
    "duration": 108,
    "start_time": "2022-01-15T13:48:27.966Z"
   },
   {
    "duration": 100,
    "start_time": "2022-01-15T13:49:32.616Z"
   },
   {
    "duration": 1784,
    "start_time": "2022-01-15T13:50:20.280Z"
   },
   {
    "duration": 1167,
    "start_time": "2022-01-15T13:50:22.067Z"
   },
   {
    "duration": 28,
    "start_time": "2022-01-15T13:50:23.237Z"
   },
   {
    "duration": 201,
    "start_time": "2022-01-15T13:50:23.268Z"
   },
   {
    "duration": 185,
    "start_time": "2022-01-15T13:50:23.473Z"
   },
   {
    "duration": 166,
    "start_time": "2022-01-15T13:50:23.660Z"
   },
   {
    "duration": 4,
    "start_time": "2022-01-15T13:50:23.830Z"
   },
   {
    "duration": 174,
    "start_time": "2022-01-15T13:50:23.837Z"
   },
   {
    "duration": 90,
    "start_time": "2022-01-15T13:50:24.015Z"
   },
   {
    "duration": 24,
    "start_time": "2022-01-15T13:50:24.108Z"
   },
   {
    "duration": 736,
    "start_time": "2022-01-15T13:50:24.135Z"
   },
   {
    "duration": 1753,
    "start_time": "2022-01-15T13:50:24.873Z"
   },
   {
    "duration": 22,
    "start_time": "2022-01-15T13:50:26.629Z"
   },
   {
    "duration": 709,
    "start_time": "2022-01-15T13:50:26.654Z"
   },
   {
    "duration": 54,
    "start_time": "2022-01-15T13:50:27.365Z"
   },
   {
    "duration": 23,
    "start_time": "2022-01-15T13:50:27.422Z"
   },
   {
    "duration": 21,
    "start_time": "2022-01-15T13:50:27.448Z"
   },
   {
    "duration": 55,
    "start_time": "2022-01-15T13:50:27.472Z"
   },
   {
    "duration": 128,
    "start_time": "2022-01-15T13:50:27.529Z"
   },
   {
    "duration": 7,
    "start_time": "2022-01-15T13:50:27.660Z"
   },
   {
    "duration": 745,
    "start_time": "2022-01-15T13:50:27.669Z"
   },
   {
    "duration": 22,
    "start_time": "2022-01-15T13:50:28.420Z"
   },
   {
    "duration": 13,
    "start_time": "2022-01-15T13:50:28.446Z"
   },
   {
    "duration": 120,
    "start_time": "2022-01-15T13:50:28.462Z"
   },
   {
    "duration": 34,
    "start_time": "2022-01-15T13:50:28.585Z"
   },
   {
    "duration": 24,
    "start_time": "2022-01-15T13:50:28.622Z"
   },
   {
    "duration": 10,
    "start_time": "2022-01-15T13:50:28.648Z"
   },
   {
    "duration": 70,
    "start_time": "2022-01-15T13:50:28.661Z"
   },
   {
    "duration": 1177,
    "start_time": "2022-01-15T13:50:28.734Z"
   },
   {
    "duration": 21,
    "start_time": "2022-01-15T13:50:29.915Z"
   },
   {
    "duration": 30,
    "start_time": "2022-01-15T13:50:29.939Z"
   },
   {
    "duration": 651,
    "start_time": "2022-01-15T13:50:30.002Z"
   },
   {
    "duration": 93,
    "start_time": "2022-01-15T13:50:30.655Z"
   },
   {
    "duration": 32,
    "start_time": "2022-01-15T13:50:30.751Z"
   },
   {
    "duration": 41,
    "start_time": "2022-01-15T13:50:30.801Z"
   },
   {
    "duration": 113,
    "start_time": "2022-01-15T13:50:30.845Z"
   },
   {
    "duration": 21,
    "start_time": "2022-01-15T13:50:30.960Z"
   },
   {
    "duration": 3233,
    "start_time": "2022-01-15T13:50:30.983Z"
   },
   {
    "duration": 80,
    "start_time": "2022-01-15T13:50:34.220Z"
   },
   {
    "duration": 29,
    "start_time": "2022-01-15T13:50:34.304Z"
   },
   {
    "duration": 118,
    "start_time": "2022-01-15T13:50:34.336Z"
   },
   {
    "duration": 129,
    "start_time": "2022-01-15T13:50:34.456Z"
   },
   {
    "duration": 445,
    "start_time": "2022-01-15T13:50:34.588Z"
   },
   {
    "duration": 40,
    "start_time": "2022-01-15T13:50:35.036Z"
   },
   {
    "duration": 771,
    "start_time": "2022-01-15T13:50:35.079Z"
   },
   {
    "duration": 113,
    "start_time": "2022-01-15T13:50:35.852Z"
   },
   {
    "duration": 114,
    "start_time": "2022-01-15T13:50:35.968Z"
   },
   {
    "duration": 451,
    "start_time": "2022-01-15T13:50:36.084Z"
   },
   {
    "duration": 116,
    "start_time": "2022-01-15T13:50:36.538Z"
   },
   {
    "duration": 60,
    "start_time": "2022-01-15T13:50:36.657Z"
   },
   {
    "duration": 749,
    "start_time": "2022-01-15T13:50:36.720Z"
   },
   {
    "duration": 106,
    "start_time": "2022-01-15T13:50:37.471Z"
   },
   {
    "duration": 123,
    "start_time": "2022-01-15T13:50:37.579Z"
   },
   {
    "duration": 21,
    "start_time": "2022-01-15T13:50:37.705Z"
   },
   {
    "duration": 16,
    "start_time": "2022-01-15T13:50:37.729Z"
   },
   {
    "duration": 650,
    "start_time": "2022-01-15T13:50:37.749Z"
   },
   {
    "duration": 13,
    "start_time": "2022-01-15T13:50:38.402Z"
   },
   {
    "duration": 104,
    "start_time": "2022-01-15T13:50:38.418Z"
   },
   {
    "duration": 751,
    "start_time": "2022-01-15T13:50:38.525Z"
   },
   {
    "duration": 192,
    "start_time": "2022-01-15T13:50:39.278Z"
   },
   {
    "duration": 156,
    "start_time": "2022-01-15T13:50:39.472Z"
   },
   {
    "duration": 975,
    "start_time": "2022-01-15T13:50:39.631Z"
   },
   {
    "duration": 118,
    "start_time": "2022-01-15T13:50:40.609Z"
   },
   {
    "duration": 47,
    "start_time": "2022-01-15T13:50:40.730Z"
   },
   {
    "duration": 129,
    "start_time": "2022-01-15T13:50:40.780Z"
   },
   {
    "duration": 406,
    "start_time": "2022-01-15T13:50:40.912Z"
   },
   {
    "duration": 40,
    "start_time": "2022-01-15T13:50:41.326Z"
   },
   {
    "duration": 802,
    "start_time": "2022-01-15T13:50:41.368Z"
   },
   {
    "duration": 117,
    "start_time": "2022-01-15T13:50:42.172Z"
   },
   {
    "duration": 28,
    "start_time": "2022-01-15T13:50:42.299Z"
   },
   {
    "duration": 31,
    "start_time": "2022-01-15T13:50:42.329Z"
   },
   {
    "duration": 188,
    "start_time": "2022-01-15T13:50:42.363Z"
   },
   {
    "duration": 87,
    "start_time": "2022-01-15T13:50:42.553Z"
   },
   {
    "duration": 82,
    "start_time": "2022-01-15T13:50:42.642Z"
   },
   {
    "duration": 288,
    "start_time": "2022-01-15T14:26:24.943Z"
   },
   {
    "duration": 27,
    "start_time": "2022-01-15T14:26:30.867Z"
   },
   {
    "duration": 30,
    "start_time": "2022-01-15T14:27:50.080Z"
   },
   {
    "duration": 101,
    "start_time": "2022-01-15T14:28:39.382Z"
   },
   {
    "duration": 20,
    "start_time": "2022-01-15T14:29:26.923Z"
   },
   {
    "duration": 110,
    "start_time": "2022-01-15T14:29:36.018Z"
   },
   {
    "duration": 74,
    "start_time": "2022-01-15T14:31:07.048Z"
   },
   {
    "duration": 204,
    "start_time": "2022-01-15T14:34:25.040Z"
   },
   {
    "duration": 33,
    "start_time": "2022-01-15T14:34:29.948Z"
   },
   {
    "duration": 2437,
    "start_time": "2022-01-15T14:35:06.259Z"
   },
   {
    "duration": 1150,
    "start_time": "2022-01-15T14:35:08.701Z"
   },
   {
    "duration": 27,
    "start_time": "2022-01-15T14:35:09.854Z"
   },
   {
    "duration": 181,
    "start_time": "2022-01-15T14:35:09.884Z"
   },
   {
    "duration": 172,
    "start_time": "2022-01-15T14:35:10.067Z"
   },
   {
    "duration": 155,
    "start_time": "2022-01-15T14:35:10.241Z"
   },
   {
    "duration": 5,
    "start_time": "2022-01-15T14:35:10.401Z"
   },
   {
    "duration": 170,
    "start_time": "2022-01-15T14:35:10.410Z"
   },
   {
    "duration": 79,
    "start_time": "2022-01-15T14:35:10.586Z"
   },
   {
    "duration": 32,
    "start_time": "2022-01-15T14:35:10.668Z"
   },
   {
    "duration": 697,
    "start_time": "2022-01-15T14:35:10.703Z"
   },
   {
    "duration": 1476,
    "start_time": "2022-01-15T14:35:11.402Z"
   },
   {
    "duration": 36,
    "start_time": "2022-01-15T14:35:12.880Z"
   },
   {
    "duration": 658,
    "start_time": "2022-01-15T14:35:12.919Z"
   },
   {
    "duration": 46,
    "start_time": "2022-01-15T14:35:13.580Z"
   },
   {
    "duration": 33,
    "start_time": "2022-01-15T14:35:13.629Z"
   },
   {
    "duration": 45,
    "start_time": "2022-01-15T14:35:13.665Z"
   },
   {
    "duration": 27,
    "start_time": "2022-01-15T14:35:13.712Z"
   },
   {
    "duration": 120,
    "start_time": "2022-01-15T14:35:13.741Z"
   },
   {
    "duration": 6,
    "start_time": "2022-01-15T14:35:13.864Z"
   },
   {
    "duration": 716,
    "start_time": "2022-01-15T14:35:13.873Z"
   },
   {
    "duration": 26,
    "start_time": "2022-01-15T14:35:14.592Z"
   },
   {
    "duration": 13,
    "start_time": "2022-01-15T14:35:14.621Z"
   },
   {
    "duration": 112,
    "start_time": "2022-01-15T14:35:14.636Z"
   },
   {
    "duration": 21,
    "start_time": "2022-01-15T14:35:14.750Z"
   },
   {
    "duration": 40,
    "start_time": "2022-01-15T14:35:14.774Z"
   },
   {
    "duration": 10,
    "start_time": "2022-01-15T14:35:14.821Z"
   },
   {
    "duration": 31,
    "start_time": "2022-01-15T14:35:14.836Z"
   },
   {
    "duration": 1220,
    "start_time": "2022-01-15T14:35:14.870Z"
   },
   {
    "duration": 27,
    "start_time": "2022-01-15T14:35:16.092Z"
   },
   {
    "duration": 31,
    "start_time": "2022-01-15T14:35:16.121Z"
   },
   {
    "duration": 592,
    "start_time": "2022-01-15T14:35:16.154Z"
   },
   {
    "duration": 88,
    "start_time": "2022-01-15T14:35:16.748Z"
   },
   {
    "duration": 29,
    "start_time": "2022-01-15T14:35:16.839Z"
   },
   {
    "duration": 46,
    "start_time": "2022-01-15T14:35:16.871Z"
   },
   {
    "duration": 109,
    "start_time": "2022-01-15T14:35:16.920Z"
   },
   {
    "duration": 21,
    "start_time": "2022-01-15T14:35:17.032Z"
   },
   {
    "duration": 2997,
    "start_time": "2022-01-15T14:35:17.056Z"
   },
   {
    "duration": 78,
    "start_time": "2022-01-15T14:35:20.056Z"
   },
   {
    "duration": 38,
    "start_time": "2022-01-15T14:35:20.136Z"
   },
   {
    "duration": 93,
    "start_time": "2022-01-15T14:35:20.177Z"
   },
   {
    "duration": 115,
    "start_time": "2022-01-15T14:35:20.272Z"
   },
   {
    "duration": 401,
    "start_time": "2022-01-15T14:35:20.401Z"
   },
   {
    "duration": 40,
    "start_time": "2022-01-15T14:35:20.804Z"
   },
   {
    "duration": 730,
    "start_time": "2022-01-15T14:35:20.846Z"
   },
   {
    "duration": 121,
    "start_time": "2022-01-15T14:35:21.579Z"
   },
   {
    "duration": 109,
    "start_time": "2022-01-15T14:35:21.702Z"
   },
   {
    "duration": 426,
    "start_time": "2022-01-15T14:35:21.814Z"
   },
   {
    "duration": 108,
    "start_time": "2022-01-15T14:35:22.243Z"
   },
   {
    "duration": 57,
    "start_time": "2022-01-15T14:35:22.353Z"
   },
   {
    "duration": 801,
    "start_time": "2022-01-15T14:35:22.412Z"
   },
   {
    "duration": 108,
    "start_time": "2022-01-15T14:35:23.216Z"
   },
   {
    "duration": 115,
    "start_time": "2022-01-15T14:35:23.326Z"
   },
   {
    "duration": 22,
    "start_time": "2022-01-15T14:35:23.443Z"
   },
   {
    "duration": 34,
    "start_time": "2022-01-15T14:35:23.467Z"
   },
   {
    "duration": 582,
    "start_time": "2022-01-15T14:35:23.503Z"
   },
   {
    "duration": 18,
    "start_time": "2022-01-15T14:35:24.088Z"
   },
   {
    "duration": 95,
    "start_time": "2022-01-15T14:35:24.108Z"
   },
   {
    "duration": 699,
    "start_time": "2022-01-15T14:35:24.206Z"
   },
   {
    "duration": 179,
    "start_time": "2022-01-15T14:35:24.908Z"
   },
   {
    "duration": 136,
    "start_time": "2022-01-15T14:35:25.089Z"
   },
   {
    "duration": 961,
    "start_time": "2022-01-15T14:35:25.228Z"
   },
   {
    "duration": 101,
    "start_time": "2022-01-15T14:35:26.192Z"
   },
   {
    "duration": 44,
    "start_time": "2022-01-15T14:35:26.300Z"
   },
   {
    "duration": 94,
    "start_time": "2022-01-15T14:35:26.346Z"
   },
   {
    "duration": 369,
    "start_time": "2022-01-15T14:35:26.443Z"
   },
   {
    "duration": 39,
    "start_time": "2022-01-15T14:35:26.815Z"
   },
   {
    "duration": 721,
    "start_time": "2022-01-15T14:35:26.857Z"
   },
   {
    "duration": 101,
    "start_time": "2022-01-15T14:35:27.581Z"
   },
   {
    "duration": 23,
    "start_time": "2022-01-15T14:35:27.684Z"
   },
   {
    "duration": 31,
    "start_time": "2022-01-15T14:35:27.709Z"
   },
   {
    "duration": 97,
    "start_time": "2022-01-15T14:35:27.742Z"
   },
   {
    "duration": 6347,
    "start_time": "2022-01-15T14:35:27.842Z"
   },
   {
    "duration": -4070,
    "start_time": "2022-01-15T14:35:38.262Z"
   },
   {
    "duration": -4079,
    "start_time": "2022-01-15T14:35:38.272Z"
   },
   {
    "duration": -4128,
    "start_time": "2022-01-15T14:35:38.323Z"
   },
   {
    "duration": -4136,
    "start_time": "2022-01-15T14:35:38.332Z"
   },
   {
    "duration": -4167,
    "start_time": "2022-01-15T14:35:38.365Z"
   },
   {
    "duration": -4235,
    "start_time": "2022-01-15T14:35:38.434Z"
   },
   {
    "duration": -4250,
    "start_time": "2022-01-15T14:35:38.450Z"
   },
   {
    "duration": -4257,
    "start_time": "2022-01-15T14:35:38.459Z"
   },
   {
    "duration": -4303,
    "start_time": "2022-01-15T14:35:38.506Z"
   },
   {
    "duration": 79,
    "start_time": "2022-01-15T14:36:37.896Z"
   },
   {
    "duration": 87,
    "start_time": "2022-01-15T14:36:39.742Z"
   },
   {
    "duration": 42,
    "start_time": "2022-01-15T14:36:49.968Z"
   },
   {
    "duration": 1905,
    "start_time": "2022-01-15T14:40:23.569Z"
   },
   {
    "duration": 1262,
    "start_time": "2022-01-15T14:40:25.477Z"
   },
   {
    "duration": 29,
    "start_time": "2022-01-15T14:40:26.742Z"
   },
   {
    "duration": 193,
    "start_time": "2022-01-15T14:40:26.774Z"
   },
   {
    "duration": 173,
    "start_time": "2022-01-15T14:40:26.969Z"
   },
   {
    "duration": 163,
    "start_time": "2022-01-15T14:40:27.144Z"
   },
   {
    "duration": 5,
    "start_time": "2022-01-15T14:40:27.310Z"
   },
   {
    "duration": 188,
    "start_time": "2022-01-15T14:40:27.321Z"
   },
   {
    "duration": 92,
    "start_time": "2022-01-15T14:40:27.514Z"
   },
   {
    "duration": 19,
    "start_time": "2022-01-15T14:40:27.609Z"
   },
   {
    "duration": 720,
    "start_time": "2022-01-15T14:40:27.631Z"
   },
   {
    "duration": 1501,
    "start_time": "2022-01-15T14:40:28.353Z"
   },
   {
    "duration": 23,
    "start_time": "2022-01-15T14:40:29.857Z"
   },
   {
    "duration": 641,
    "start_time": "2022-01-15T14:40:29.883Z"
   },
   {
    "duration": 40,
    "start_time": "2022-01-15T14:40:30.526Z"
   },
   {
    "duration": 41,
    "start_time": "2022-01-15T14:40:30.568Z"
   },
   {
    "duration": 21,
    "start_time": "2022-01-15T14:40:30.612Z"
   },
   {
    "duration": 25,
    "start_time": "2022-01-15T14:40:30.636Z"
   },
   {
    "duration": 144,
    "start_time": "2022-01-15T14:40:30.664Z"
   },
   {
    "duration": 5,
    "start_time": "2022-01-15T14:40:30.811Z"
   },
   {
    "duration": 722,
    "start_time": "2022-01-15T14:40:30.819Z"
   },
   {
    "duration": 22,
    "start_time": "2022-01-15T14:40:31.543Z"
   },
   {
    "duration": 34,
    "start_time": "2022-01-15T14:40:31.571Z"
   },
   {
    "duration": 102,
    "start_time": "2022-01-15T14:40:31.609Z"
   },
   {
    "duration": 22,
    "start_time": "2022-01-15T14:40:31.714Z"
   },
   {
    "duration": 24,
    "start_time": "2022-01-15T14:40:31.739Z"
   },
   {
    "duration": 37,
    "start_time": "2022-01-15T14:40:31.765Z"
   },
   {
    "duration": 32,
    "start_time": "2022-01-15T14:40:31.805Z"
   },
   {
    "duration": 1248,
    "start_time": "2022-01-15T14:40:31.840Z"
   },
   {
    "duration": 24,
    "start_time": "2022-01-15T14:40:33.100Z"
   },
   {
    "duration": 34,
    "start_time": "2022-01-15T14:40:33.127Z"
   },
   {
    "duration": 576,
    "start_time": "2022-01-15T14:40:33.164Z"
   },
   {
    "duration": 93,
    "start_time": "2022-01-15T14:40:33.744Z"
   },
   {
    "duration": 30,
    "start_time": "2022-01-15T14:40:33.839Z"
   },
   {
    "duration": 51,
    "start_time": "2022-01-15T14:40:33.873Z"
   },
   {
    "duration": 105,
    "start_time": "2022-01-15T14:40:33.927Z"
   },
   {
    "duration": 20,
    "start_time": "2022-01-15T14:40:34.035Z"
   },
   {
    "duration": 3214,
    "start_time": "2022-01-15T14:40:34.058Z"
   },
   {
    "duration": 71,
    "start_time": "2022-01-15T14:40:37.275Z"
   },
   {
    "duration": 26,
    "start_time": "2022-01-15T14:40:37.349Z"
   },
   {
    "duration": 102,
    "start_time": "2022-01-15T14:40:37.401Z"
   },
   {
    "duration": 110,
    "start_time": "2022-01-15T14:40:37.506Z"
   },
   {
    "duration": 441,
    "start_time": "2022-01-15T14:40:37.618Z"
   },
   {
    "duration": 48,
    "start_time": "2022-01-15T14:40:38.062Z"
   },
   {
    "duration": 749,
    "start_time": "2022-01-15T14:40:38.113Z"
   },
   {
    "duration": 103,
    "start_time": "2022-01-15T14:40:38.864Z"
   },
   {
    "duration": 117,
    "start_time": "2022-01-15T14:40:38.969Z"
   },
   {
    "duration": 437,
    "start_time": "2022-01-15T14:40:39.089Z"
   },
   {
    "duration": 113,
    "start_time": "2022-01-15T14:40:39.528Z"
   },
   {
    "duration": 65,
    "start_time": "2022-01-15T14:40:39.644Z"
   },
   {
    "duration": 756,
    "start_time": "2022-01-15T14:40:39.712Z"
   },
   {
    "duration": 100,
    "start_time": "2022-01-15T14:40:40.471Z"
   },
   {
    "duration": 114,
    "start_time": "2022-01-15T14:40:40.573Z"
   },
   {
    "duration": 30,
    "start_time": "2022-01-15T14:40:40.689Z"
   },
   {
    "duration": 14,
    "start_time": "2022-01-15T14:40:40.721Z"
   },
   {
    "duration": 601,
    "start_time": "2022-01-15T14:40:40.738Z"
   },
   {
    "duration": 11,
    "start_time": "2022-01-15T14:40:41.342Z"
   },
   {
    "duration": 107,
    "start_time": "2022-01-15T14:40:41.355Z"
   },
   {
    "duration": 749,
    "start_time": "2022-01-15T14:40:41.465Z"
   },
   {
    "duration": 176,
    "start_time": "2022-01-15T14:40:42.216Z"
   },
   {
    "duration": 141,
    "start_time": "2022-01-15T14:40:42.394Z"
   },
   {
    "duration": 926,
    "start_time": "2022-01-15T14:40:42.538Z"
   },
   {
    "duration": 101,
    "start_time": "2022-01-15T14:40:43.467Z"
   },
   {
    "duration": 58,
    "start_time": "2022-01-15T14:40:43.570Z"
   },
   {
    "duration": 105,
    "start_time": "2022-01-15T14:40:43.631Z"
   },
   {
    "duration": 383,
    "start_time": "2022-01-15T14:40:43.739Z"
   },
   {
    "duration": 41,
    "start_time": "2022-01-15T14:40:44.124Z"
   },
   {
    "duration": 761,
    "start_time": "2022-01-15T14:40:44.173Z"
   },
   {
    "duration": 107,
    "start_time": "2022-01-15T14:40:44.936Z"
   },
   {
    "duration": 22,
    "start_time": "2022-01-15T14:40:45.046Z"
   },
   {
    "duration": 58,
    "start_time": "2022-01-15T14:40:45.071Z"
   },
   {
    "duration": 121,
    "start_time": "2022-01-15T14:40:45.132Z"
   },
   {
    "duration": 100,
    "start_time": "2022-01-15T14:40:45.256Z"
   },
   {
    "duration": 10,
    "start_time": "2022-01-15T14:40:45.358Z"
   },
   {
    "duration": 523,
    "start_time": "2022-01-15T14:40:45.371Z"
   },
   {
    "duration": -1074,
    "start_time": "2022-01-15T14:40:46.970Z"
   },
   {
    "duration": -1083,
    "start_time": "2022-01-15T14:40:46.981Z"
   },
   {
    "duration": -1090,
    "start_time": "2022-01-15T14:40:46.990Z"
   },
   {
    "duration": -1106,
    "start_time": "2022-01-15T14:40:47.007Z"
   },
   {
    "duration": -1113,
    "start_time": "2022-01-15T14:40:47.016Z"
   },
   {
    "duration": -1119,
    "start_time": "2022-01-15T14:40:47.023Z"
   },
   {
    "duration": 78,
    "start_time": "2022-01-15T14:48:39.136Z"
   },
   {
    "duration": 37,
    "start_time": "2022-01-15T14:48:56.811Z"
   },
   {
    "duration": 76,
    "start_time": "2022-01-15T14:49:11.010Z"
   },
   {
    "duration": 32,
    "start_time": "2022-01-15T14:49:16.125Z"
   },
   {
    "duration": 20,
    "start_time": "2022-01-15T14:58:13.998Z"
   },
   {
    "duration": 39,
    "start_time": "2022-01-15T14:58:26.184Z"
   },
   {
    "duration": 94,
    "start_time": "2022-01-15T15:01:20.463Z"
   },
   {
    "duration": 16,
    "start_time": "2022-01-15T15:01:45.424Z"
   },
   {
    "duration": 12,
    "start_time": "2022-01-15T15:01:59.053Z"
   },
   {
    "duration": 62,
    "start_time": "2022-01-15T15:02:53.623Z"
   },
   {
    "duration": 65,
    "start_time": "2022-01-15T15:03:41.103Z"
   },
   {
    "duration": 1790,
    "start_time": "2022-01-15T15:09:51.697Z"
   },
   {
    "duration": 1267,
    "start_time": "2022-01-15T15:09:53.490Z"
   },
   {
    "duration": 41,
    "start_time": "2022-01-15T15:09:54.760Z"
   },
   {
    "duration": 180,
    "start_time": "2022-01-15T15:09:54.804Z"
   },
   {
    "duration": 185,
    "start_time": "2022-01-15T15:09:54.986Z"
   },
   {
    "duration": 156,
    "start_time": "2022-01-15T15:09:55.173Z"
   },
   {
    "duration": 4,
    "start_time": "2022-01-15T15:09:55.331Z"
   },
   {
    "duration": 162,
    "start_time": "2022-01-15T15:09:55.338Z"
   },
   {
    "duration": 76,
    "start_time": "2022-01-15T15:09:55.504Z"
   },
   {
    "duration": 33,
    "start_time": "2022-01-15T15:09:55.584Z"
   },
   {
    "duration": 999,
    "start_time": "2022-01-15T15:09:55.620Z"
   },
   {
    "duration": 2005,
    "start_time": "2022-01-15T15:09:56.621Z"
   },
   {
    "duration": 29,
    "start_time": "2022-01-15T15:09:58.629Z"
   },
   {
    "duration": 861,
    "start_time": "2022-01-15T15:09:58.661Z"
   },
   {
    "duration": 44,
    "start_time": "2022-01-15T15:09:59.525Z"
   },
   {
    "duration": 50,
    "start_time": "2022-01-15T15:09:59.572Z"
   },
   {
    "duration": 30,
    "start_time": "2022-01-15T15:09:59.625Z"
   },
   {
    "duration": 67,
    "start_time": "2022-01-15T15:09:59.658Z"
   },
   {
    "duration": 114,
    "start_time": "2022-01-15T15:09:59.728Z"
   },
   {
    "duration": 6,
    "start_time": "2022-01-15T15:09:59.845Z"
   },
   {
    "duration": 730,
    "start_time": "2022-01-15T15:09:59.853Z"
   },
   {
    "duration": 35,
    "start_time": "2022-01-15T15:10:00.586Z"
   },
   {
    "duration": 13,
    "start_time": "2022-01-15T15:10:00.624Z"
   },
   {
    "duration": 117,
    "start_time": "2022-01-15T15:10:00.640Z"
   },
   {
    "duration": 22,
    "start_time": "2022-01-15T15:10:00.760Z"
   },
   {
    "duration": 39,
    "start_time": "2022-01-15T15:10:00.784Z"
   },
   {
    "duration": 12,
    "start_time": "2022-01-15T15:10:00.830Z"
   },
   {
    "duration": 64,
    "start_time": "2022-01-15T15:10:00.847Z"
   },
   {
    "duration": 1138,
    "start_time": "2022-01-15T15:10:00.914Z"
   },
   {
    "duration": 23,
    "start_time": "2022-01-15T15:10:02.055Z"
   },
   {
    "duration": 54,
    "start_time": "2022-01-15T15:10:02.081Z"
   },
   {
    "duration": 617,
    "start_time": "2022-01-15T15:10:02.138Z"
   },
   {
    "duration": 86,
    "start_time": "2022-01-15T15:10:02.758Z"
   },
   {
    "duration": 30,
    "start_time": "2022-01-15T15:10:02.846Z"
   },
   {
    "duration": 43,
    "start_time": "2022-01-15T15:10:02.878Z"
   },
   {
    "duration": 112,
    "start_time": "2022-01-15T15:10:02.924Z"
   },
   {
    "duration": 23,
    "start_time": "2022-01-15T15:10:03.038Z"
   },
   {
    "duration": 3113,
    "start_time": "2022-01-15T15:10:03.064Z"
   },
   {
    "duration": 85,
    "start_time": "2022-01-15T15:10:06.180Z"
   },
   {
    "duration": 41,
    "start_time": "2022-01-15T15:10:06.268Z"
   },
   {
    "duration": 101,
    "start_time": "2022-01-15T15:10:06.312Z"
   },
   {
    "duration": 118,
    "start_time": "2022-01-15T15:10:06.416Z"
   },
   {
    "duration": 416,
    "start_time": "2022-01-15T15:10:06.537Z"
   },
   {
    "duration": 57,
    "start_time": "2022-01-15T15:10:06.956Z"
   },
   {
    "duration": 737,
    "start_time": "2022-01-15T15:10:07.016Z"
   },
   {
    "duration": 100,
    "start_time": "2022-01-15T15:10:07.757Z"
   },
   {
    "duration": 116,
    "start_time": "2022-01-15T15:10:07.860Z"
   },
   {
    "duration": 446,
    "start_time": "2022-01-15T15:10:07.979Z"
   },
   {
    "duration": 119,
    "start_time": "2022-01-15T15:10:08.428Z"
   },
   {
    "duration": 82,
    "start_time": "2022-01-15T15:10:08.550Z"
   },
   {
    "duration": 1074,
    "start_time": "2022-01-15T15:10:08.635Z"
   },
   {
    "duration": 156,
    "start_time": "2022-01-15T15:10:09.712Z"
   },
   {
    "duration": 129,
    "start_time": "2022-01-15T15:10:09.871Z"
   },
   {
    "duration": 25,
    "start_time": "2022-01-15T15:10:10.003Z"
   },
   {
    "duration": 22,
    "start_time": "2022-01-15T15:10:10.031Z"
   },
   {
    "duration": 635,
    "start_time": "2022-01-15T15:10:10.057Z"
   },
   {
    "duration": 14,
    "start_time": "2022-01-15T15:10:10.700Z"
   },
   {
    "duration": 99,
    "start_time": "2022-01-15T15:10:10.717Z"
   },
   {
    "duration": 703,
    "start_time": "2022-01-15T15:10:10.819Z"
   },
   {
    "duration": 183,
    "start_time": "2022-01-15T15:10:11.525Z"
   },
   {
    "duration": 145,
    "start_time": "2022-01-15T15:10:11.711Z"
   },
   {
    "duration": 914,
    "start_time": "2022-01-15T15:10:11.859Z"
   },
   {
    "duration": 107,
    "start_time": "2022-01-15T15:10:12.776Z"
   },
   {
    "duration": 59,
    "start_time": "2022-01-15T15:10:12.886Z"
   },
   {
    "duration": 129,
    "start_time": "2022-01-15T15:10:12.947Z"
   },
   {
    "duration": 380,
    "start_time": "2022-01-15T15:10:13.079Z"
   },
   {
    "duration": 57,
    "start_time": "2022-01-15T15:10:13.463Z"
   },
   {
    "duration": 706,
    "start_time": "2022-01-15T15:10:13.523Z"
   },
   {
    "duration": 107,
    "start_time": "2022-01-15T15:10:14.231Z"
   },
   {
    "duration": 19,
    "start_time": "2022-01-15T15:10:14.340Z"
   },
   {
    "duration": 61,
    "start_time": "2022-01-15T15:10:14.362Z"
   },
   {
    "duration": 112,
    "start_time": "2022-01-15T15:10:14.425Z"
   },
   {
    "duration": 103,
    "start_time": "2022-01-15T15:10:14.540Z"
   },
   {
    "duration": 11,
    "start_time": "2022-01-15T15:10:14.646Z"
   },
   {
    "duration": 49,
    "start_time": "2022-01-15T15:10:14.660Z"
   },
   {
    "duration": 35,
    "start_time": "2022-01-15T15:10:14.711Z"
   },
   {
    "duration": 101,
    "start_time": "2022-01-15T15:10:14.748Z"
   },
   {
    "duration": 13,
    "start_time": "2022-01-15T15:10:14.852Z"
   },
   {
    "duration": 87,
    "start_time": "2022-01-15T15:10:14.869Z"
   },
   {
    "duration": 977,
    "start_time": "2022-01-15T15:10:14.959Z"
   },
   {
    "duration": -1075,
    "start_time": "2022-01-15T15:10:17.014Z"
   },
   {
    "duration": -1082,
    "start_time": "2022-01-15T15:10:17.023Z"
   },
   {
    "duration": -1089,
    "start_time": "2022-01-15T15:10:17.032Z"
   },
   {
    "duration": -1095,
    "start_time": "2022-01-15T15:10:17.041Z"
   },
   {
    "duration": -1113,
    "start_time": "2022-01-15T15:10:17.062Z"
   },
   {
    "duration": -1120,
    "start_time": "2022-01-15T15:10:17.071Z"
   },
   {
    "duration": -1125,
    "start_time": "2022-01-15T15:10:17.078Z"
   },
   {
    "duration": 2045,
    "start_time": "2022-01-15T15:11:01.161Z"
   },
   {
    "duration": 1425,
    "start_time": "2022-01-15T15:11:03.209Z"
   },
   {
    "duration": 32,
    "start_time": "2022-01-15T15:11:04.637Z"
   },
   {
    "duration": 182,
    "start_time": "2022-01-15T15:11:04.672Z"
   },
   {
    "duration": 190,
    "start_time": "2022-01-15T15:11:04.857Z"
   },
   {
    "duration": 184,
    "start_time": "2022-01-15T15:11:05.050Z"
   },
   {
    "duration": 4,
    "start_time": "2022-01-15T15:11:05.237Z"
   },
   {
    "duration": 164,
    "start_time": "2022-01-15T15:11:05.243Z"
   },
   {
    "duration": 92,
    "start_time": "2022-01-15T15:11:05.411Z"
   },
   {
    "duration": 21,
    "start_time": "2022-01-15T15:11:05.506Z"
   },
   {
    "duration": 728,
    "start_time": "2022-01-15T15:11:05.529Z"
   },
   {
    "duration": 1578,
    "start_time": "2022-01-15T15:11:06.259Z"
   },
   {
    "duration": 25,
    "start_time": "2022-01-15T15:11:07.840Z"
   },
   {
    "duration": 654,
    "start_time": "2022-01-15T15:11:07.867Z"
   },
   {
    "duration": 40,
    "start_time": "2022-01-15T15:11:08.524Z"
   },
   {
    "duration": 45,
    "start_time": "2022-01-15T15:11:08.567Z"
   },
   {
    "duration": 21,
    "start_time": "2022-01-15T15:11:08.615Z"
   },
   {
    "duration": 67,
    "start_time": "2022-01-15T15:11:08.638Z"
   },
   {
    "duration": 161,
    "start_time": "2022-01-15T15:11:08.708Z"
   },
   {
    "duration": 7,
    "start_time": "2022-01-15T15:11:08.872Z"
   },
   {
    "duration": 723,
    "start_time": "2022-01-15T15:11:08.881Z"
   },
   {
    "duration": 21,
    "start_time": "2022-01-15T15:11:09.607Z"
   },
   {
    "duration": 13,
    "start_time": "2022-01-15T15:11:09.631Z"
   },
   {
    "duration": 125,
    "start_time": "2022-01-15T15:11:09.647Z"
   },
   {
    "duration": 31,
    "start_time": "2022-01-15T15:11:09.775Z"
   },
   {
    "duration": 24,
    "start_time": "2022-01-15T15:11:09.809Z"
   },
   {
    "duration": 11,
    "start_time": "2022-01-15T15:11:09.841Z"
   },
   {
    "duration": 67,
    "start_time": "2022-01-15T15:11:09.856Z"
   },
   {
    "duration": 1148,
    "start_time": "2022-01-15T15:11:09.925Z"
   },
   {
    "duration": 39,
    "start_time": "2022-01-15T15:11:11.076Z"
   },
   {
    "duration": 31,
    "start_time": "2022-01-15T15:11:11.118Z"
   },
   {
    "duration": 576,
    "start_time": "2022-01-15T15:11:11.151Z"
   },
   {
    "duration": 87,
    "start_time": "2022-01-15T15:11:11.730Z"
   },
   {
    "duration": 28,
    "start_time": "2022-01-15T15:11:11.820Z"
   },
   {
    "duration": 29,
    "start_time": "2022-01-15T15:11:11.851Z"
   },
   {
    "duration": 104,
    "start_time": "2022-01-15T15:11:11.902Z"
   },
   {
    "duration": 21,
    "start_time": "2022-01-15T15:11:12.008Z"
   },
   {
    "duration": 3066,
    "start_time": "2022-01-15T15:11:12.031Z"
   },
   {
    "duration": 62,
    "start_time": "2022-01-15T15:11:15.101Z"
   },
   {
    "duration": 49,
    "start_time": "2022-01-15T15:11:15.166Z"
   },
   {
    "duration": 102,
    "start_time": "2022-01-15T15:11:15.217Z"
   },
   {
    "duration": 115,
    "start_time": "2022-01-15T15:11:15.323Z"
   },
   {
    "duration": 408,
    "start_time": "2022-01-15T15:11:15.440Z"
   },
   {
    "duration": 59,
    "start_time": "2022-01-15T15:11:15.851Z"
   },
   {
    "duration": 719,
    "start_time": "2022-01-15T15:11:15.913Z"
   },
   {
    "duration": 106,
    "start_time": "2022-01-15T15:11:16.635Z"
   },
   {
    "duration": 116,
    "start_time": "2022-01-15T15:11:16.743Z"
   },
   {
    "duration": 524,
    "start_time": "2022-01-15T15:11:16.861Z"
   },
   {
    "duration": 114,
    "start_time": "2022-01-15T15:11:17.388Z"
   },
   {
    "duration": 39,
    "start_time": "2022-01-15T15:11:17.505Z"
   },
   {
    "duration": 765,
    "start_time": "2022-01-15T15:11:17.547Z"
   },
   {
    "duration": 128,
    "start_time": "2022-01-15T15:11:18.314Z"
   },
   {
    "duration": 115,
    "start_time": "2022-01-15T15:11:18.445Z"
   },
   {
    "duration": 39,
    "start_time": "2022-01-15T15:11:18.563Z"
   },
   {
    "duration": 16,
    "start_time": "2022-01-15T15:11:18.605Z"
   },
   {
    "duration": 709,
    "start_time": "2022-01-15T15:11:18.624Z"
   },
   {
    "duration": 10,
    "start_time": "2022-01-15T15:11:19.336Z"
   },
   {
    "duration": 107,
    "start_time": "2022-01-15T15:11:19.349Z"
   },
   {
    "duration": 719,
    "start_time": "2022-01-15T15:11:19.459Z"
   },
   {
    "duration": 185,
    "start_time": "2022-01-15T15:11:20.181Z"
   },
   {
    "duration": 145,
    "start_time": "2022-01-15T15:11:20.369Z"
   },
   {
    "duration": 905,
    "start_time": "2022-01-15T15:11:20.517Z"
   },
   {
    "duration": 112,
    "start_time": "2022-01-15T15:11:21.424Z"
   },
   {
    "duration": 43,
    "start_time": "2022-01-15T15:11:21.539Z"
   },
   {
    "duration": 179,
    "start_time": "2022-01-15T15:11:21.602Z"
   },
   {
    "duration": 372,
    "start_time": "2022-01-15T15:11:21.784Z"
   },
   {
    "duration": 51,
    "start_time": "2022-01-15T15:11:22.159Z"
   },
   {
    "duration": 713,
    "start_time": "2022-01-15T15:11:22.212Z"
   },
   {
    "duration": 111,
    "start_time": "2022-01-15T15:11:22.927Z"
   },
   {
    "duration": 22,
    "start_time": "2022-01-15T15:11:23.041Z"
   },
   {
    "duration": 58,
    "start_time": "2022-01-15T15:11:23.067Z"
   },
   {
    "duration": 109,
    "start_time": "2022-01-15T15:11:23.128Z"
   },
   {
    "duration": 109,
    "start_time": "2022-01-15T15:11:23.240Z"
   },
   {
    "duration": 12,
    "start_time": "2022-01-15T15:11:23.353Z"
   },
   {
    "duration": 44,
    "start_time": "2022-01-15T15:11:23.367Z"
   },
   {
    "duration": 32,
    "start_time": "2022-01-15T15:11:23.414Z"
   },
   {
    "duration": 16,
    "start_time": "2022-01-15T15:11:23.449Z"
   },
   {
    "duration": 105,
    "start_time": "2022-01-15T15:11:23.468Z"
   },
   {
    "duration": 774,
    "start_time": "2022-01-15T15:11:23.575Z"
   },
   {
    "duration": -1058,
    "start_time": "2022-01-15T15:11:25.410Z"
   },
   {
    "duration": -1071,
    "start_time": "2022-01-15T15:11:25.424Z"
   },
   {
    "duration": -1077,
    "start_time": "2022-01-15T15:11:25.432Z"
   },
   {
    "duration": -1095,
    "start_time": "2022-01-15T15:11:25.451Z"
   },
   {
    "duration": -1101,
    "start_time": "2022-01-15T15:11:25.459Z"
   },
   {
    "duration": -1108,
    "start_time": "2022-01-15T15:11:25.468Z"
   },
   {
    "duration": -1115,
    "start_time": "2022-01-15T15:11:25.476Z"
   },
   {
    "duration": 4,
    "start_time": "2022-01-15T15:12:48.516Z"
   },
   {
    "duration": 416,
    "start_time": "2022-01-15T15:12:56.965Z"
   },
   {
    "duration": 4,
    "start_time": "2022-01-15T15:13:22.141Z"
   },
   {
    "duration": 32,
    "start_time": "2022-01-15T15:13:24.865Z"
   },
   {
    "duration": 17,
    "start_time": "2022-01-15T15:15:20.381Z"
   },
   {
    "duration": 170,
    "start_time": "2022-01-15T15:15:27.718Z"
   },
   {
    "duration": 313,
    "start_time": "2022-01-15T15:16:17.932Z"
   },
   {
    "duration": 296,
    "start_time": "2022-01-15T15:16:35.368Z"
   },
   {
    "duration": 214,
    "start_time": "2022-01-15T15:16:42.843Z"
   },
   {
    "duration": 234,
    "start_time": "2022-01-15T15:17:49.970Z"
   },
   {
    "duration": 209,
    "start_time": "2022-01-15T15:17:58.370Z"
   },
   {
    "duration": 309,
    "start_time": "2022-01-15T15:23:01.527Z"
   },
   {
    "duration": 28,
    "start_time": "2022-01-15T15:23:06.138Z"
   },
   {
    "duration": 1311,
    "start_time": "2022-01-16T08:36:32.044Z"
   },
   {
    "duration": 852,
    "start_time": "2022-01-16T08:36:33.357Z"
   },
   {
    "duration": 21,
    "start_time": "2022-01-16T08:36:34.211Z"
   },
   {
    "duration": 139,
    "start_time": "2022-01-16T08:36:34.234Z"
   },
   {
    "duration": 144,
    "start_time": "2022-01-16T08:36:34.375Z"
   },
   {
    "duration": 114,
    "start_time": "2022-01-16T08:36:34.520Z"
   },
   {
    "duration": 4,
    "start_time": "2022-01-16T08:36:34.636Z"
   },
   {
    "duration": 136,
    "start_time": "2022-01-16T08:36:34.643Z"
   },
   {
    "duration": 55,
    "start_time": "2022-01-16T08:36:34.781Z"
   },
   {
    "duration": 27,
    "start_time": "2022-01-16T08:36:34.838Z"
   },
   {
    "duration": 445,
    "start_time": "2022-01-16T08:36:34.867Z"
   },
   {
    "duration": 942,
    "start_time": "2022-01-16T08:36:35.314Z"
   },
   {
    "duration": 19,
    "start_time": "2022-01-16T08:36:36.261Z"
   },
   {
    "duration": 391,
    "start_time": "2022-01-16T08:36:36.282Z"
   },
   {
    "duration": 31,
    "start_time": "2022-01-16T08:36:36.675Z"
   },
   {
    "duration": 18,
    "start_time": "2022-01-16T08:36:36.708Z"
   },
   {
    "duration": 41,
    "start_time": "2022-01-16T08:36:36.728Z"
   },
   {
    "duration": 20,
    "start_time": "2022-01-16T08:36:36.770Z"
   },
   {
    "duration": 100,
    "start_time": "2022-01-16T08:36:36.792Z"
   },
   {
    "duration": 5,
    "start_time": "2022-01-16T08:36:36.894Z"
   },
   {
    "duration": 433,
    "start_time": "2022-01-16T08:36:36.901Z"
   },
   {
    "duration": 32,
    "start_time": "2022-01-16T08:36:37.336Z"
   },
   {
    "duration": 11,
    "start_time": "2022-01-16T08:36:37.374Z"
   },
   {
    "duration": 76,
    "start_time": "2022-01-16T08:36:37.389Z"
   },
   {
    "duration": 20,
    "start_time": "2022-01-16T08:36:37.466Z"
   },
   {
    "duration": 20,
    "start_time": "2022-01-16T08:36:37.488Z"
   },
   {
    "duration": 9,
    "start_time": "2022-01-16T08:36:37.510Z"
   },
   {
    "duration": 58,
    "start_time": "2022-01-16T08:36:37.521Z"
   },
   {
    "duration": 684,
    "start_time": "2022-01-16T08:36:37.581Z"
   },
   {
    "duration": 21,
    "start_time": "2022-01-16T08:36:38.267Z"
   },
   {
    "duration": 26,
    "start_time": "2022-01-16T08:36:38.290Z"
   },
   {
    "duration": 359,
    "start_time": "2022-01-16T08:36:38.318Z"
   },
   {
    "duration": 51,
    "start_time": "2022-01-16T08:36:38.679Z"
   },
   {
    "duration": 33,
    "start_time": "2022-01-16T08:36:38.732Z"
   },
   {
    "duration": 28,
    "start_time": "2022-01-16T08:36:38.767Z"
   },
   {
    "duration": 109,
    "start_time": "2022-01-16T08:36:38.797Z"
   },
   {
    "duration": 28,
    "start_time": "2022-01-16T08:36:38.908Z"
   },
   {
    "duration": 1727,
    "start_time": "2022-01-16T08:36:38.938Z"
   },
   {
    "duration": 51,
    "start_time": "2022-01-16T08:36:40.666Z"
   },
   {
    "duration": 20,
    "start_time": "2022-01-16T08:36:40.719Z"
   },
   {
    "duration": 86,
    "start_time": "2022-01-16T08:36:40.741Z"
   },
   {
    "duration": 87,
    "start_time": "2022-01-16T08:36:40.828Z"
   },
   {
    "duration": 352,
    "start_time": "2022-01-16T08:36:40.917Z"
   },
   {
    "duration": 30,
    "start_time": "2022-01-16T08:36:41.271Z"
   },
   {
    "duration": 563,
    "start_time": "2022-01-16T08:36:41.302Z"
   },
   {
    "duration": 78,
    "start_time": "2022-01-16T08:36:41.867Z"
   },
   {
    "duration": 81,
    "start_time": "2022-01-16T08:36:41.946Z"
   },
   {
    "duration": 268,
    "start_time": "2022-01-16T08:36:42.029Z"
   },
   {
    "duration": 81,
    "start_time": "2022-01-16T08:36:42.298Z"
   },
   {
    "duration": 31,
    "start_time": "2022-01-16T08:36:42.380Z"
   },
   {
    "duration": 455,
    "start_time": "2022-01-16T08:36:42.412Z"
   },
   {
    "duration": 72,
    "start_time": "2022-01-16T08:36:42.869Z"
   },
   {
    "duration": 76,
    "start_time": "2022-01-16T08:36:42.943Z"
   },
   {
    "duration": 20,
    "start_time": "2022-01-16T08:36:43.021Z"
   },
   {
    "duration": 14,
    "start_time": "2022-01-16T08:36:43.061Z"
   },
   {
    "duration": 371,
    "start_time": "2022-01-16T08:36:43.077Z"
   },
   {
    "duration": 11,
    "start_time": "2022-01-16T08:36:43.450Z"
   },
   {
    "duration": 45,
    "start_time": "2022-01-16T08:36:43.463Z"
   },
   {
    "duration": 481,
    "start_time": "2022-01-16T08:36:43.510Z"
   },
   {
    "duration": 121,
    "start_time": "2022-01-16T08:36:43.993Z"
   },
   {
    "duration": 88,
    "start_time": "2022-01-16T08:36:44.116Z"
   },
   {
    "duration": 87,
    "start_time": "2022-01-16T08:36:44.206Z"
   },
   {
    "duration": 357,
    "start_time": "2022-01-16T08:36:44.295Z"
   },
   {
    "duration": 74,
    "start_time": "2022-01-16T08:36:44.654Z"
   },
   {
    "duration": 62,
    "start_time": "2022-01-16T08:36:44.730Z"
   },
   {
    "duration": 73,
    "start_time": "2022-01-16T08:36:44.794Z"
   },
   {
    "duration": 223,
    "start_time": "2022-01-16T08:36:44.869Z"
   },
   {
    "duration": 30,
    "start_time": "2022-01-16T08:36:45.098Z"
   },
   {
    "duration": 446,
    "start_time": "2022-01-16T08:36:45.130Z"
   },
   {
    "duration": 71,
    "start_time": "2022-01-16T08:36:45.578Z"
   },
   {
    "duration": 16,
    "start_time": "2022-01-16T08:36:45.661Z"
   },
   {
    "duration": 19,
    "start_time": "2022-01-16T08:36:45.679Z"
   },
   {
    "duration": 83,
    "start_time": "2022-01-16T08:36:45.699Z"
   },
   {
    "duration": 30,
    "start_time": "2022-01-16T08:36:45.784Z"
   },
   {
    "duration": 71,
    "start_time": "2022-01-16T08:36:45.816Z"
   },
   {
    "duration": 72,
    "start_time": "2022-01-16T08:36:45.889Z"
   },
   {
    "duration": 7,
    "start_time": "2022-01-16T08:36:45.963Z"
   },
   {
    "duration": 47,
    "start_time": "2022-01-16T08:36:45.972Z"
   },
   {
    "duration": 358,
    "start_time": "2022-01-16T08:36:46.021Z"
   },
   {
    "duration": 3,
    "start_time": "2022-01-16T08:36:46.381Z"
   },
   {
    "duration": 34,
    "start_time": "2022-01-16T08:36:46.385Z"
   },
   {
    "duration": 140,
    "start_time": "2022-01-16T08:36:46.421Z"
   },
   {
    "duration": 159,
    "start_time": "2022-01-16T08:36:46.563Z"
   },
   {
    "duration": 11,
    "start_time": "2022-01-16T08:36:46.724Z"
   },
   {
    "duration": 81,
    "start_time": "2022-01-16T08:36:46.736Z"
   },
   {
    "duration": 890,
    "start_time": "2022-01-16T08:36:46.819Z"
   },
   {
    "duration": 179,
    "start_time": "2022-01-16T08:36:47.711Z"
   },
   {
    "duration": 106,
    "start_time": "2022-01-16T08:36:47.892Z"
   },
   {
    "duration": 7,
    "start_time": "2022-01-16T08:36:47.999Z"
   },
   {
    "duration": 696,
    "start_time": "2022-01-16T08:36:48.007Z"
   },
   {
    "duration": 242,
    "start_time": "2022-01-16T08:36:48.704Z"
   },
   {
    "duration": 13,
    "start_time": "2022-01-16T08:36:48.948Z"
   },
   {
    "duration": 24505,
    "start_time": "2022-01-16T08:36:48.962Z"
   },
   {
    "duration": 205,
    "start_time": "2022-01-16T08:37:13.469Z"
   },
   {
    "duration": 85,
    "start_time": "2022-01-16T08:37:13.676Z"
   },
   {
    "duration": 26,
    "start_time": "2022-01-16T08:37:13.764Z"
   },
   {
    "duration": 81,
    "start_time": "2022-01-16T08:37:13.793Z"
   },
   {
    "duration": 36587,
    "start_time": "2022-01-16T08:37:13.876Z"
   },
   {
    "duration": 3,
    "start_time": "2022-01-16T08:37:50.465Z"
   },
   {
    "duration": 35,
    "start_time": "2022-01-16T08:37:50.470Z"
   },
   {
    "duration": 5,
    "start_time": "2022-01-16T09:18:10.385Z"
   },
   {
    "duration": 172285,
    "start_time": "2022-01-16T09:18:12.485Z"
   },
   {
    "duration": 152805,
    "start_time": "2022-01-16T09:23:10.141Z"
   },
   {
    "duration": 3,
    "start_time": "2022-01-16T09:39:22.412Z"
   },
   {
    "duration": 772,
    "start_time": "2022-01-16T09:40:55.137Z"
   },
   {
    "duration": 3,
    "start_time": "2022-01-16T09:41:39.113Z"
   },
   {
    "duration": 148,
    "start_time": "2022-01-16T09:41:43.114Z"
   },
   {
    "duration": 4,
    "start_time": "2022-01-16T09:41:57.853Z"
   },
   {
    "duration": 10,
    "start_time": "2022-01-16T09:42:02.840Z"
   },
   {
    "duration": 11,
    "start_time": "2022-01-16T09:42:07.901Z"
   },
   {
    "duration": 3,
    "start_time": "2022-01-16T09:42:34.617Z"
   },
   {
    "duration": 78,
    "start_time": "2022-01-16T09:45:35.258Z"
   },
   {
    "duration": 3,
    "start_time": "2022-01-16T09:54:13.853Z"
   },
   {
    "duration": 3,
    "start_time": "2022-01-16T09:55:35.418Z"
   },
   {
    "duration": 22367,
    "start_time": "2022-01-16T09:55:46.005Z"
   },
   {
    "duration": 4,
    "start_time": "2022-01-16T09:56:13.606Z"
   },
   {
    "duration": 92488,
    "start_time": "2022-01-16T09:56:18.283Z"
   },
   {
    "duration": 3,
    "start_time": "2022-01-16T09:58:48.059Z"
   },
   {
    "duration": 1134,
    "start_time": "2022-01-16T09:58:51.723Z"
   },
   {
    "duration": 3,
    "start_time": "2022-01-16T09:59:07.598Z"
   },
   {
    "duration": 92128,
    "start_time": "2022-01-16T09:59:09.547Z"
   },
   {
    "duration": 92673,
    "start_time": "2022-01-16T10:01:27.604Z"
   },
   {
    "duration": 4,
    "start_time": "2022-01-16T10:03:19.842Z"
   },
   {
    "duration": 91556,
    "start_time": "2022-01-16T10:03:22.428Z"
   },
   {
    "duration": 4,
    "start_time": "2022-01-16T10:11:56.140Z"
   },
   {
    "duration": 94283,
    "start_time": "2022-01-16T10:11:59.153Z"
   },
   {
    "duration": 584,
    "start_time": "2022-01-16T10:17:28.858Z"
   },
   {
    "duration": 144,
    "start_time": "2022-01-16T10:17:58.221Z"
   },
   {
    "duration": 580,
    "start_time": "2022-01-16T10:18:11.923Z"
   },
   {
    "duration": 588,
    "start_time": "2022-01-16T10:18:23.708Z"
   },
   {
    "duration": 10,
    "start_time": "2022-01-16T10:18:56.009Z"
   },
   {
    "duration": 3,
    "start_time": "2022-01-16T10:19:15.185Z"
   },
   {
    "duration": 10,
    "start_time": "2022-01-16T10:19:30.498Z"
   },
   {
    "duration": 120,
    "start_time": "2022-01-16T10:19:42.349Z"
   },
   {
    "duration": 3,
    "start_time": "2022-01-16T10:19:44.622Z"
   },
   {
    "duration": 589,
    "start_time": "2022-01-16T10:19:48.873Z"
   },
   {
    "duration": 14,
    "start_time": "2022-01-16T10:19:50.272Z"
   },
   {
    "duration": 24733,
    "start_time": "2022-01-16T10:20:04.136Z"
   },
   {
    "duration": 87,
    "start_time": "2022-01-16T10:20:29.999Z"
   },
   {
    "duration": 4,
    "start_time": "2022-01-16T10:20:33.724Z"
   },
   {
    "duration": 752,
    "start_time": "2022-01-16T10:20:40.812Z"
   },
   {
    "duration": 13,
    "start_time": "2022-01-16T10:20:43.462Z"
   },
   {
    "duration": 3,
    "start_time": "2022-01-16T10:34:19.842Z"
   },
   {
    "duration": 1802967,
    "start_time": "2022-01-16T10:34:46.813Z"
   },
   {
    "duration": 4,
    "start_time": "2022-01-16T11:11:12.190Z"
   },
   {
    "duration": 531050,
    "start_time": "2022-01-16T11:11:14.110Z"
   },
   {
    "duration": 4,
    "start_time": "2022-01-16T11:22:16.403Z"
   },
   {
    "duration": 392771,
    "start_time": "2022-01-16T11:22:17.224Z"
   },
   {
    "duration": 3,
    "start_time": "2022-01-16T11:29:44.685Z"
   },
   {
    "duration": 1557802,
    "start_time": "2022-01-16T11:29:46.097Z"
   },
   {
    "duration": 3,
    "start_time": "2022-01-16T11:57:12.318Z"
   },
   {
    "duration": 633534,
    "start_time": "2022-01-16T11:57:15.505Z"
   },
   {
    "duration": 269,
    "start_time": "2022-01-16T12:09:04.384Z"
   },
   {
    "duration": 3648,
    "start_time": "2022-01-16T12:09:11.582Z"
   },
   {
    "duration": 2112,
    "start_time": "2022-01-16T12:10:55.649Z"
   },
   {
    "duration": 2002,
    "start_time": "2022-01-16T12:11:38.362Z"
   },
   {
    "duration": 1950,
    "start_time": "2022-01-16T12:11:52.596Z"
   },
   {
    "duration": 1582,
    "start_time": "2022-01-16T12:12:06.624Z"
   },
   {
    "duration": 31516,
    "start_time": "2022-01-16T12:12:30.537Z"
   },
   {
    "duration": 10,
    "start_time": "2022-01-16T12:13:27.526Z"
   },
   {
    "duration": 3,
    "start_time": "2022-01-16T12:18:49.132Z"
   },
   {
    "duration": 42815,
    "start_time": "2022-01-16T12:34:45.553Z"
   },
   {
    "duration": 50974,
    "start_time": "2022-01-16T12:35:49.515Z"
   },
   {
    "duration": 4,
    "start_time": "2022-01-16T12:38:53.857Z"
   },
   {
    "duration": 287070,
    "start_time": "2022-01-16T12:39:04.897Z"
   },
   {
    "duration": 3,
    "start_time": "2022-01-16T12:44:33.789Z"
   },
   {
    "duration": 416342,
    "start_time": "2022-01-16T12:44:36.338Z"
   },
   {
    "duration": 1994,
    "start_time": "2022-01-16T12:54:23.328Z"
   },
   {
    "duration": 9366,
    "start_time": "2022-01-16T12:55:44.116Z"
   },
   {
    "duration": 9446,
    "start_time": "2022-01-16T12:56:18.491Z"
   },
   {
    "duration": 14785,
    "start_time": "2022-01-16T12:56:44.081Z"
   },
   {
    "duration": 23113,
    "start_time": "2022-01-16T12:57:11.155Z"
   },
   {
    "duration": 32438,
    "start_time": "2022-01-16T12:57:46.144Z"
   },
   {
    "duration": 34470,
    "start_time": "2022-01-16T12:58:46.308Z"
   },
   {
    "duration": 41336,
    "start_time": "2022-01-16T13:00:42.636Z"
   },
   {
    "duration": 54253,
    "start_time": "2022-01-16T13:02:56.125Z"
   },
   {
    "duration": 66728,
    "start_time": "2022-01-16T13:05:33.553Z"
   },
   {
    "duration": 200458,
    "start_time": "2022-01-16T13:06:53.417Z"
   },
   {
    "duration": 398664,
    "start_time": "2022-01-16T13:10:35.612Z"
   },
   {
    "duration": 13,
    "start_time": "2022-01-16T13:25:53.153Z"
   },
   {
    "duration": 463,
    "start_time": "2022-01-16T13:25:58.553Z"
   },
   {
    "duration": 3,
    "start_time": "2022-01-16T13:26:41.491Z"
   },
   {
    "duration": 262399,
    "start_time": "2022-01-16T13:26:43.819Z"
   },
   {
    "duration": 4,
    "start_time": "2022-01-16T13:31:17.502Z"
   },
   {
    "duration": 16347,
    "start_time": "2022-01-16T13:31:19.843Z"
   },
   {
    "duration": 4,
    "start_time": "2022-01-16T13:31:38.949Z"
   },
   {
    "duration": 5530316,
    "start_time": "2022-01-16T13:31:41.785Z"
   },
   {
    "duration": 3,
    "start_time": "2022-01-16T15:06:23.828Z"
   },
   {
    "duration": 957340,
    "start_time": "2022-01-16T15:06:25.997Z"
   },
   {
    "duration": 30368,
    "start_time": "2022-01-16T15:33:33.562Z"
   },
   {
    "duration": 58983,
    "start_time": "2022-01-16T15:34:07.226Z"
   },
   {
    "duration": 45132,
    "start_time": "2022-01-16T15:36:08.541Z"
   },
   {
    "duration": 4,
    "start_time": "2022-01-16T15:39:28.935Z"
   },
   {
    "duration": 1108483,
    "start_time": "2022-01-16T15:39:30.847Z"
   },
   {
    "duration": 255,
    "start_time": "2022-01-16T16:07:54.378Z"
   },
   {
    "duration": 2,
    "start_time": "2022-01-16T16:08:14.052Z"
   },
   {
    "duration": 23388,
    "start_time": "2022-01-16T16:08:27.015Z"
   },
   {
    "duration": 3,
    "start_time": "2022-01-16T16:21:18.358Z"
   },
   {
    "duration": 102768,
    "start_time": "2022-01-16T16:21:21.131Z"
   },
   {
    "duration": 250,
    "start_time": "2022-01-16T16:33:25.534Z"
   },
   {
    "duration": 250,
    "start_time": "2022-01-16T16:33:37.309Z"
   },
   {
    "duration": 2,
    "start_time": "2022-01-16T16:34:16.759Z"
   },
   {
    "duration": 245,
    "start_time": "2022-01-16T16:34:33.922Z"
   },
   {
    "duration": 3,
    "start_time": "2022-01-16T17:24:05.360Z"
   },
   {
    "duration": 417,
    "start_time": "2022-01-16T17:24:32.049Z"
   },
   {
    "duration": 414,
    "start_time": "2022-01-16T17:25:24.073Z"
   },
   {
    "duration": 416,
    "start_time": "2022-01-16T17:32:53.109Z"
   },
   {
    "duration": 3,
    "start_time": "2022-01-16T17:39:19.992Z"
   },
   {
    "duration": 419,
    "start_time": "2022-01-16T17:39:22.343Z"
   },
   {
    "duration": 3,
    "start_time": "2022-01-16T17:39:33.804Z"
   },
   {
    "duration": 12013,
    "start_time": "2022-01-16T17:47:10.986Z"
   },
   {
    "duration": 181,
    "start_time": "2022-01-16T17:54:45.598Z"
   },
   {
    "duration": 5,
    "start_time": "2022-01-16T17:54:49.883Z"
   },
   {
    "duration": 87752,
    "start_time": "2022-01-16T17:54:51.296Z"
   },
   {
    "duration": 3,
    "start_time": "2022-01-16T17:56:38.649Z"
   },
   {
    "duration": 3,
    "start_time": "2022-01-16T17:56:42.724Z"
   },
   {
    "duration": 269929,
    "start_time": "2022-01-16T17:56:44.149Z"
   },
   {
    "duration": 2988,
    "start_time": "2022-01-16T18:05:55.376Z"
   },
   {
    "duration": 3500,
    "start_time": "2022-01-16T18:06:54.463Z"
   },
   {
    "duration": 10,
    "start_time": "2022-01-16T18:07:00.086Z"
   },
   {
    "duration": 6,
    "start_time": "2022-01-16T18:31:22.906Z"
   },
   {
    "duration": 491,
    "start_time": "2022-01-16T18:31:33.718Z"
   },
   {
    "duration": 168,
    "start_time": "2022-01-16T18:31:35.079Z"
   },
   {
    "duration": 6,
    "start_time": "2022-01-16T18:31:43.956Z"
   },
   {
    "duration": 6,
    "start_time": "2022-01-16T18:31:45.883Z"
   },
   {
    "duration": 644,
    "start_time": "2022-01-16T18:31:47.642Z"
   },
   {
    "duration": 230,
    "start_time": "2022-01-16T18:31:49.330Z"
   },
   {
    "duration": 3,
    "start_time": "2022-01-16T18:31:52.581Z"
   },
   {
    "duration": 4,
    "start_time": "2022-01-16T18:33:17.569Z"
   },
   {
    "duration": 3,
    "start_time": "2022-01-16T18:49:58.170Z"
   },
   {
    "duration": 3,
    "start_time": "2022-01-16T18:50:02.078Z"
   },
   {
    "duration": 245,
    "start_time": "2022-01-16T18:51:13.710Z"
   },
   {
    "duration": 5,
    "start_time": "2022-01-16T18:51:20.145Z"
   },
   {
    "duration": 21517,
    "start_time": "2022-01-16T18:51:24.060Z"
   },
   {
    "duration": 20808,
    "start_time": "2022-01-16T18:52:19.456Z"
   },
   {
    "duration": 6,
    "start_time": "2022-01-16T18:52:57.106Z"
   },
   {
    "duration": 9,
    "start_time": "2022-01-16T18:53:02.558Z"
   },
   {
    "duration": 4,
    "start_time": "2022-01-16T19:05:53.984Z"
   },
   {
    "duration": 6468,
    "start_time": "2022-01-16T19:06:11.953Z"
   },
   {
    "duration": 92003,
    "start_time": "2022-01-16T19:06:24.748Z"
   },
   {
    "duration": 579,
    "start_time": "2022-01-16T19:15:53.409Z"
   },
   {
    "duration": 9,
    "start_time": "2022-01-16T19:16:27.872Z"
   },
   {
    "duration": 4,
    "start_time": "2022-01-16T19:17:22.172Z"
   },
   {
    "duration": 596766,
    "start_time": "2022-01-16T19:17:22.959Z"
   },
   {
    "duration": 3,
    "start_time": "2022-01-16T19:27:32.861Z"
   },
   {
    "duration": 389356,
    "start_time": "2022-01-16T19:27:33.849Z"
   },
   {
    "duration": 30898,
    "start_time": "2022-01-16T19:38:09.112Z"
   },
   {
    "duration": 9,
    "start_time": "2022-01-16T19:38:57.702Z"
   },
   {
    "duration": 3,
    "start_time": "2022-01-16T19:46:40.436Z"
   },
   {
    "duration": 9438,
    "start_time": "2022-01-16T19:46:43.015Z"
   },
   {
    "duration": 3,
    "start_time": "2022-01-16T19:47:04.853Z"
   },
   {
    "duration": 715591,
    "start_time": "2022-01-16T19:47:05.639Z"
   },
   {
    "duration": 9098,
    "start_time": "2022-01-16T20:01:51.577Z"
   },
   {
    "duration": 37498,
    "start_time": "2022-01-16T20:02:22.580Z"
   },
   {
    "duration": 5,
    "start_time": "2022-01-16T20:03:03.555Z"
   },
   {
    "duration": 8,
    "start_time": "2022-01-16T20:03:07.905Z"
   },
   {
    "duration": 3,
    "start_time": "2022-01-16T20:04:52.432Z"
   },
   {
    "duration": 4,
    "start_time": "2022-01-16T20:10:17.289Z"
   },
   {
    "duration": 183,
    "start_time": "2022-01-16T20:10:36.474Z"
   },
   {
    "duration": 559709,
    "start_time": "2022-01-16T20:10:43.253Z"
   },
   {
    "duration": 38842,
    "start_time": "2022-01-16T20:29:23.901Z"
   },
   {
    "duration": 40151,
    "start_time": "2022-01-16T20:30:26.744Z"
   },
   {
    "duration": 10,
    "start_time": "2022-01-16T20:31:17.693Z"
   },
   {
    "duration": 9,
    "start_time": "2022-01-16T20:31:47.452Z"
   },
   {
    "duration": 10,
    "start_time": "2022-01-16T20:36:56.084Z"
   },
   {
    "duration": 1313,
    "start_time": "2022-01-16T21:49:50.607Z"
   },
   {
    "duration": 1278,
    "start_time": "2022-01-16T21:49:51.922Z"
   },
   {
    "duration": 18,
    "start_time": "2022-01-16T21:49:53.202Z"
   },
   {
    "duration": 158,
    "start_time": "2022-01-16T21:49:53.221Z"
   },
   {
    "duration": 142,
    "start_time": "2022-01-16T21:49:53.381Z"
   },
   {
    "duration": 119,
    "start_time": "2022-01-16T21:49:53.525Z"
   },
   {
    "duration": 3,
    "start_time": "2022-01-16T21:49:53.646Z"
   },
   {
    "duration": 136,
    "start_time": "2022-01-16T21:49:53.660Z"
   },
   {
    "duration": 70,
    "start_time": "2022-01-16T21:49:53.798Z"
   },
   {
    "duration": 15,
    "start_time": "2022-01-16T21:49:53.871Z"
   },
   {
    "duration": 496,
    "start_time": "2022-01-16T21:49:53.888Z"
   },
   {
    "duration": 1098,
    "start_time": "2022-01-16T21:49:54.386Z"
   },
   {
    "duration": 19,
    "start_time": "2022-01-16T21:49:55.485Z"
   },
   {
    "duration": 405,
    "start_time": "2022-01-16T21:49:55.506Z"
   },
   {
    "duration": 31,
    "start_time": "2022-01-16T21:49:55.913Z"
   },
   {
    "duration": 33,
    "start_time": "2022-01-16T21:49:55.945Z"
   },
   {
    "duration": 18,
    "start_time": "2022-01-16T21:49:55.981Z"
   },
   {
    "duration": 34,
    "start_time": "2022-01-16T21:49:56.002Z"
   },
   {
    "duration": 97,
    "start_time": "2022-01-16T21:49:56.038Z"
   },
   {
    "duration": 4,
    "start_time": "2022-01-16T21:49:56.137Z"
   },
   {
    "duration": 465,
    "start_time": "2022-01-16T21:49:56.143Z"
   },
   {
    "duration": 21,
    "start_time": "2022-01-16T21:49:56.611Z"
   },
   {
    "duration": 31,
    "start_time": "2022-01-16T21:49:56.637Z"
   },
   {
    "duration": 65,
    "start_time": "2022-01-16T21:49:56.671Z"
   },
   {
    "duration": 41,
    "start_time": "2022-01-16T21:49:56.738Z"
   },
   {
    "duration": 18,
    "start_time": "2022-01-16T21:49:56.781Z"
   },
   {
    "duration": 7,
    "start_time": "2022-01-16T21:49:56.801Z"
   },
   {
    "duration": 35,
    "start_time": "2022-01-16T21:49:56.809Z"
   },
   {
    "duration": 846,
    "start_time": "2022-01-16T21:49:56.846Z"
   },
   {
    "duration": 18,
    "start_time": "2022-01-16T21:49:57.694Z"
   },
   {
    "duration": 33,
    "start_time": "2022-01-16T21:49:57.714Z"
   },
   {
    "duration": 357,
    "start_time": "2022-01-16T21:49:57.749Z"
   },
   {
    "duration": 71,
    "start_time": "2022-01-16T21:49:58.108Z"
   },
   {
    "duration": 20,
    "start_time": "2022-01-16T21:49:58.181Z"
   },
   {
    "duration": 45,
    "start_time": "2022-01-16T21:49:58.203Z"
   },
   {
    "duration": 83,
    "start_time": "2022-01-16T21:49:58.250Z"
   },
   {
    "duration": 15,
    "start_time": "2022-01-16T21:49:58.335Z"
   },
   {
    "duration": 1875,
    "start_time": "2022-01-16T21:49:58.362Z"
   },
   {
    "duration": 60,
    "start_time": "2022-01-16T21:50:00.239Z"
   },
   {
    "duration": 21,
    "start_time": "2022-01-16T21:50:00.301Z"
   },
   {
    "duration": 96,
    "start_time": "2022-01-16T21:50:00.324Z"
   },
   {
    "duration": 89,
    "start_time": "2022-01-16T21:50:00.421Z"
   },
   {
    "duration": 286,
    "start_time": "2022-01-16T21:50:00.512Z"
   },
   {
    "duration": 32,
    "start_time": "2022-01-16T21:50:00.801Z"
   },
   {
    "duration": 504,
    "start_time": "2022-01-16T21:50:00.835Z"
   },
   {
    "duration": 87,
    "start_time": "2022-01-16T21:50:01.341Z"
   },
   {
    "duration": 106,
    "start_time": "2022-01-16T21:50:01.430Z"
   },
   {
    "duration": 299,
    "start_time": "2022-01-16T21:50:01.538Z"
   },
   {
    "duration": 95,
    "start_time": "2022-01-16T21:50:01.840Z"
   },
   {
    "duration": 55,
    "start_time": "2022-01-16T21:50:01.937Z"
   },
   {
    "duration": 503,
    "start_time": "2022-01-16T21:50:01.993Z"
   },
   {
    "duration": 89,
    "start_time": "2022-01-16T21:50:02.498Z"
   },
   {
    "duration": 73,
    "start_time": "2022-01-16T21:50:02.589Z"
   },
   {
    "duration": 22,
    "start_time": "2022-01-16T21:50:02.665Z"
   },
   {
    "duration": 13,
    "start_time": "2022-01-16T21:50:02.689Z"
   },
   {
    "duration": 402,
    "start_time": "2022-01-16T21:50:02.703Z"
   },
   {
    "duration": 8,
    "start_time": "2022-01-16T21:50:03.106Z"
   },
   {
    "duration": 66,
    "start_time": "2022-01-16T21:50:03.116Z"
   },
   {
    "duration": 547,
    "start_time": "2022-01-16T21:50:03.184Z"
   },
   {
    "duration": 149,
    "start_time": "2022-01-16T21:50:03.733Z"
   },
   {
    "duration": 103,
    "start_time": "2022-01-16T21:50:03.884Z"
   },
   {
    "duration": 85,
    "start_time": "2022-01-16T21:50:03.988Z"
   },
   {
    "duration": 379,
    "start_time": "2022-01-16T21:50:04.075Z"
   },
   {
    "duration": 84,
    "start_time": "2022-01-16T21:50:04.456Z"
   },
   {
    "duration": 46,
    "start_time": "2022-01-16T21:50:04.565Z"
   },
   {
    "duration": 81,
    "start_time": "2022-01-16T21:50:04.613Z"
   },
   {
    "duration": 236,
    "start_time": "2022-01-16T21:50:04.696Z"
   },
   {
    "duration": 46,
    "start_time": "2022-01-16T21:50:04.938Z"
   },
   {
    "duration": 474,
    "start_time": "2022-01-16T21:50:04.986Z"
   },
   {
    "duration": 84,
    "start_time": "2022-01-16T21:50:05.463Z"
   },
   {
    "duration": 20,
    "start_time": "2022-01-16T21:50:05.560Z"
   },
   {
    "duration": 22,
    "start_time": "2022-01-16T21:50:05.582Z"
   },
   {
    "duration": 106,
    "start_time": "2022-01-16T21:50:05.606Z"
   },
   {
    "duration": 47,
    "start_time": "2022-01-16T21:50:05.714Z"
   },
   {
    "duration": 59,
    "start_time": "2022-01-16T21:50:05.764Z"
   },
   {
    "duration": 89,
    "start_time": "2022-01-16T21:50:05.825Z"
   },
   {
    "duration": 7,
    "start_time": "2022-01-16T21:50:05.916Z"
   },
   {
    "duration": 74,
    "start_time": "2022-01-16T21:50:05.925Z"
   },
   {
    "duration": 400,
    "start_time": "2022-01-16T21:50:06.001Z"
   },
   {
    "duration": 3,
    "start_time": "2022-01-16T21:50:06.403Z"
   },
   {
    "duration": 39,
    "start_time": "2022-01-16T21:50:06.408Z"
   },
   {
    "duration": 161,
    "start_time": "2022-01-16T21:50:06.449Z"
   },
   {
    "duration": 220,
    "start_time": "2022-01-16T21:50:06.612Z"
   },
   {
    "duration": 14,
    "start_time": "2022-01-16T21:50:06.834Z"
   },
   {
    "duration": 71,
    "start_time": "2022-01-16T21:50:06.861Z"
   },
   {
    "duration": 689,
    "start_time": "2022-01-16T21:50:06.933Z"
   },
   {
    "duration": 182,
    "start_time": "2022-01-16T21:50:07.624Z"
   },
   {
    "duration": 119,
    "start_time": "2022-01-16T21:50:07.808Z"
   },
   {
    "duration": 7,
    "start_time": "2022-01-16T21:50:07.929Z"
   },
   {
    "duration": 710,
    "start_time": "2022-01-16T21:50:07.937Z"
   },
   {
    "duration": 272,
    "start_time": "2022-01-16T21:50:08.649Z"
   },
   {
    "duration": 2,
    "start_time": "2022-01-16T21:50:08.923Z"
   },
   {
    "duration": 7,
    "start_time": "2022-01-16T21:50:08.927Z"
   },
   {
    "duration": 6,
    "start_time": "2022-01-16T21:50:08.936Z"
   },
   {
    "duration": 18,
    "start_time": "2022-01-16T21:50:08.943Z"
   },
   {
    "duration": 23521,
    "start_time": "2022-01-16T21:50:08.962Z"
   },
   {
    "duration": 13,
    "start_time": "2022-01-16T21:50:32.564Z"
   },
   {
    "duration": 99495,
    "start_time": "2022-01-16T21:50:32.580Z"
   },
   {
    "duration": 615,
    "start_time": "2022-01-16T21:52:12.078Z"
   },
   {
    "duration": 4,
    "start_time": "2022-01-16T21:52:12.695Z"
   },
   {
    "duration": 409965,
    "start_time": "2022-01-16T21:52:12.701Z"
   },
   {
    "duration": 32630,
    "start_time": "2022-01-16T21:59:02.669Z"
   },
   {
    "duration": 9,
    "start_time": "2022-01-16T21:59:35.301Z"
   },
   {
    "duration": 10,
    "start_time": "2022-01-16T21:59:35.311Z"
   },
   {
    "duration": 737168,
    "start_time": "2022-01-16T21:59:35.322Z"
   },
   {
    "duration": 37677,
    "start_time": "2022-01-16T22:11:52.492Z"
   },
   {
    "duration": 9,
    "start_time": "2022-01-16T22:12:30.171Z"
   },
   {
    "duration": 7,
    "start_time": "2022-01-16T22:12:30.182Z"
   },
   {
    "duration": 9,
    "start_time": "2022-01-16T22:12:30.191Z"
   },
   {
    "duration": 190868,
    "start_time": "2022-01-16T22:12:30.202Z"
   },
   {
    "duration": 8905,
    "start_time": "2022-01-16T22:15:41.072Z"
   },
   {
    "duration": 90,
    "start_time": "2022-01-16T22:15:49.979Z"
   },
   {
    "duration": 56,
    "start_time": "2022-01-17T17:17:22.505Z"
   }
  ],
  "kernelspec": {
   "display_name": "Python 3",
   "language": "python",
   "name": "python3"
  },
  "language_info": {
   "codemirror_mode": {
    "name": "ipython",
    "version": 3
   },
   "file_extension": ".py",
   "mimetype": "text/x-python",
   "name": "python",
   "nbconvert_exporter": "python",
   "pygments_lexer": "ipython3",
   "version": "3.7.7"
  },
  "toc": {
   "base_numbering": 1,
   "nav_menu": {},
   "number_sections": false,
   "sideBar": true,
   "skip_h1_title": false,
   "title_cell": "Содержание",
   "title_sidebar": "Contents",
   "toc_cell": true,
   "toc_position": {},
   "toc_section_display": true,
   "toc_window_display": true
  }
 },
 "nbformat": 4,
 "nbformat_minor": 2
}
