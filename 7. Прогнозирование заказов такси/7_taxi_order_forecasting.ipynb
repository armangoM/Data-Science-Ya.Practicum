{
 "cells": [
  {
   "cell_type": "markdown",
   "metadata": {
    "toc": true
   },
   "source": [
    "<h1>Содержание<span class=\"tocSkip\"></span></h1>\n",
    "<div class=\"toc\"><li><span><a href=\"#Прогнозирование-заказов-такси\" data-toc-modified-id=\"Прогнозирование-заказов-такси-1\">Прогнозирование заказов такси</a></span><ul class=\"toc-item\"><li><span><a href=\"#Подготовка-данных\" data-toc-modified-id=\"Подготовка-данных-1.1\">Подготовка данных</a></span><ul class=\"toc-item\"><li><span><a href=\"#Загрузка-датасета-и-анализ-первичной-информации\" data-toc-modified-id=\"Загрузка-датасета-и-анализ-первичной-информации-1.1.1\">Загрузка датасета и анализ первичной информации</a></span></li><li><span><a href=\"#Приведение-данных-к-нужному-типу\" data-toc-modified-id=\"Приведение-данных-к-нужному-типу-1.1.2\">Приведение данных к нужному типу</a></span></li><li><span><a href=\"#Вывод\" data-toc-modified-id=\"Вывод-1.1.3\">Вывод</a></span></li></ul></li><li><span><a href=\"#Анализ\" data-toc-modified-id=\"Анализ-1.2\">Анализ</a></span><ul class=\"toc-item\"><li><span><a href=\"#Ресэмплинг\" data-toc-modified-id=\"Ресэмплинг-1.2.1\">Ресэмплинг</a></span></li><li><span><a href=\"#Тренд-и-сезонность\" data-toc-modified-id=\"Тренд-и-сезонность-1.2.2\">Тренд и сезонность</a></span></li><li><span><a href=\"#Вывод\" data-toc-modified-id=\"Вывод-1.2.3\">Вывод</a></span></li></ul></li><li><span><a href=\"#Обучение\" data-toc-modified-id=\"Обучение-1.3\">Обучение</a></span><ul class=\"toc-item\"><li><span><a href=\"#Проверка-качества-модели\" data-toc-modified-id=\"Проверка-качества-модели-1.3.1\">Проверка качества модели</a></span></li><li><span><a href=\"#Создание-признаков\" data-toc-modified-id=\"Создание-признаков-1.3.2\">Создание признаков</a></span></li><li><span><a href=\"#Обучение-моделей\" data-toc-modified-id=\"Обучение-моделей-1.3.3\">Обучение моделей</a></span><ul class=\"toc-item\"><li><span><a href=\"#Линейная-регрессия\" data-toc-modified-id=\"Линейная-регрессия-1.3.3.1\">Линейная регрессия</a></span></li><li><span><a href=\"#Ridge\" data-toc-modified-id=\"Ridge-1.3.3.2\">Ridge</a></span></li><li><span><a href=\"#Lasso\" data-toc-modified-id=\"Lasso-1.3.3.3\">Lasso</a></span></li><li><span><a href=\"#ElasticNet\" data-toc-modified-id=\"ElasticNet-1.3.3.4\">ElasticNet</a></span></li><li><span><a href=\"#Модель-решающего-дерева\" data-toc-modified-id=\"Модель-решающего-дерева-1.3.3.5\">Модель решающего дерева</a></span></li><li><span><a href=\"#Модель-случайного-леса\" data-toc-modified-id=\"Модель-случайного-леса-1.3.3.6\">Модель случайного леса</a></span></li><li><span><a href=\"#CatBoost\" data-toc-modified-id=\"CatBoost-1.3.3.7\">CatBoost</a></span></li></ul></li><li><span><a href=\"#Вывод\" data-toc-modified-id=\"Вывод-1.3.4\">Вывод</a></span></li></ul></li><li><span><a href=\"#Тестирование\" data-toc-modified-id=\"Тестирование-1.4\">Тестирование</a></span><ul class=\"toc-item\"><li><span><a href=\"#Вывод\" data-toc-modified-id=\"Вывод-1.4.1\">Вывод</a></span></li></ul></li><li><span><a href=\"#Основные-результаты\" data-toc-modified-id=\"Основные-результаты-1.5\">Основные результаты</a></span></li><li><span><a href=\"#Чек-лист-проверки\" data-toc-modified-id=\"Чек-лист-проверки-1.6\">Чек-лист проверки</a></span></li></ul></li></ul></div>"
   ]
  },
  {
   "cell_type": "markdown",
   "metadata": {},
   "source": [
    "#  Прогнозирование заказов такси"
   ]
  },
  {
   "cell_type": "markdown",
   "metadata": {},
   "source": [
    "Компания, оказывающая услуги такси, собрала исторические данные о заказах такси в аэропортах. Чтобы привлекать больше водителей в период пиковой нагрузки, нужно спрогнозировать количество заказов такси на следующий час. Требуется построить модель для такого предсказания.\n",
    "\n",
    "Значение метрики *RMSE* на тестовой выборке должно быть не больше 48.\n",
    "\n",
    "Необходимо:\n",
    "\n",
    "1. Загрузить данные и выполнить их ресемплирование по одному часу.\n",
    "2. Проанализировать данные.\n",
    "3. Обучить разные модели с различными гиперпараметрами. Сделать тестовую выборку размером 10% от исходных данных.\n",
    "4. Проверить данные на тестовой выборке и сделать выводы.\n"
   ]
  },
  {
   "cell_type": "markdown",
   "metadata": {},
   "source": [
    "## Подготовка данных"
   ]
  },
  {
   "cell_type": "markdown",
   "metadata": {},
   "source": [
    "Импорт библиотек, которые потребуются для выполнения исследования:"
   ]
  },
  {
   "cell_type": "code",
   "execution_count": 1,
   "metadata": {},
   "outputs": [],
   "source": [
    "import pandas as pd\n",
    "import matplotlib.pyplot as plt\n",
    "import seaborn as sns\n",
    "import numpy as np\n",
    "import time\n",
    "from sklearn.metrics import mean_squared_error\n",
    "from sklearn.preprocessing import StandardScaler\n",
    "from sklearn.linear_model import LinearRegression, Lasso, Ridge, ElasticNet\n",
    "from sklearn.ensemble import RandomForestRegressor\n",
    "from sklearn.tree import DecisionTreeRegressor\n",
    "from catboost import CatBoostRegressor\n",
    "from sklearn.metrics import make_scorer\n",
    "from sklearn.model_selection import train_test_split, cross_val_score, GridSearchCV, TimeSeriesSplit\n",
    "from statsmodels.tsa.seasonal import seasonal_decompose\n",
    "import warnings\n",
    "warnings.filterwarnings('ignore')"
   ]
  },
  {
   "cell_type": "markdown",
   "metadata": {},
   "source": [
    "### Загрузка датасета и анализ первичной информации"
   ]
  },
  {
   "cell_type": "code",
   "execution_count": 2,
   "metadata": {},
   "outputs": [],
   "source": [
    "taxi = pd.read_csv('/datasets/taxi.csv')"
   ]
  },
  {
   "cell_type": "markdown",
   "metadata": {},
   "source": [
    "Получение данных о первых пяти строках таблицы **taxi**:"
   ]
  },
  {
   "cell_type": "code",
   "execution_count": 3,
   "metadata": {},
   "outputs": [
    {
     "data": {
      "text/html": [
       "<div>\n",
       "<style scoped>\n",
       "    .dataframe tbody tr th:only-of-type {\n",
       "        vertical-align: middle;\n",
       "    }\n",
       "\n",
       "    .dataframe tbody tr th {\n",
       "        vertical-align: top;\n",
       "    }\n",
       "\n",
       "    .dataframe thead th {\n",
       "        text-align: right;\n",
       "    }\n",
       "</style>\n",
       "<table border=\"1\" class=\"dataframe\">\n",
       "  <thead>\n",
       "    <tr style=\"text-align: right;\">\n",
       "      <th></th>\n",
       "      <th>datetime</th>\n",
       "      <th>num_orders</th>\n",
       "    </tr>\n",
       "  </thead>\n",
       "  <tbody>\n",
       "    <tr>\n",
       "      <th>0</th>\n",
       "      <td>2018-03-01 00:00:00</td>\n",
       "      <td>9</td>\n",
       "    </tr>\n",
       "    <tr>\n",
       "      <th>1</th>\n",
       "      <td>2018-03-01 00:10:00</td>\n",
       "      <td>14</td>\n",
       "    </tr>\n",
       "    <tr>\n",
       "      <th>2</th>\n",
       "      <td>2018-03-01 00:20:00</td>\n",
       "      <td>28</td>\n",
       "    </tr>\n",
       "    <tr>\n",
       "      <th>3</th>\n",
       "      <td>2018-03-01 00:30:00</td>\n",
       "      <td>20</td>\n",
       "    </tr>\n",
       "    <tr>\n",
       "      <th>4</th>\n",
       "      <td>2018-03-01 00:40:00</td>\n",
       "      <td>32</td>\n",
       "    </tr>\n",
       "  </tbody>\n",
       "</table>\n",
       "</div>"
      ],
      "text/plain": [
       "              datetime  num_orders\n",
       "0  2018-03-01 00:00:00           9\n",
       "1  2018-03-01 00:10:00          14\n",
       "2  2018-03-01 00:20:00          28\n",
       "3  2018-03-01 00:30:00          20\n",
       "4  2018-03-01 00:40:00          32"
      ]
     },
     "execution_count": 3,
     "metadata": {},
     "output_type": "execute_result"
    }
   ],
   "source": [
    "taxi.head()"
   ]
  },
  {
   "cell_type": "markdown",
   "metadata": {},
   "source": [
    "Общая информация о данных таблицы **taxi**:"
   ]
  },
  {
   "cell_type": "code",
   "execution_count": 4,
   "metadata": {},
   "outputs": [
    {
     "name": "stdout",
     "output_type": "stream",
     "text": [
      "<class 'pandas.core.frame.DataFrame'>\n",
      "RangeIndex: 26496 entries, 0 to 26495\n",
      "Data columns (total 2 columns):\n",
      " #   Column      Non-Null Count  Dtype \n",
      "---  ------      --------------  ----- \n",
      " 0   datetime    26496 non-null  object\n",
      " 1   num_orders  26496 non-null  int64 \n",
      "dtypes: int64(1), object(1)\n",
      "memory usage: 414.1+ KB\n"
     ]
    }
   ],
   "source": [
    "taxi.info()"
   ]
  },
  {
   "cell_type": "markdown",
   "metadata": {},
   "source": [
    "В датафрейме всего два столбца, содержащих информацию о количестве заказов такси в аэропорту в десятиминутные промежутки времени.\n",
    "\n",
    "- **datetime** — начало временного интервала;\n",
    "- **num_orders** — количество заказов.\n",
    "\n",
    "Общее количество объектов - 26 496, пропусков нет."
   ]
  },
  {
   "cell_type": "markdown",
   "metadata": {},
   "source": [
    "Период, за который доступны данные:"
   ]
  },
  {
   "cell_type": "code",
   "execution_count": 5,
   "metadata": {
    "scrolled": true
   },
   "outputs": [
    {
     "name": "stdout",
     "output_type": "stream",
     "text": [
      "Рассматриваемый период: с 2018-03-01 00:00:00 по 2018-08-31 23:50:00\n"
     ]
    }
   ],
   "source": [
    "print('Рассматриваемый период: с', pd.to_datetime(taxi['datetime'].min()), \\\n",
    "      'по', pd.to_datetime(taxi['datetime'].max()))"
   ]
  },
  {
   "cell_type": "markdown",
   "metadata": {},
   "source": [
    "Таким образом, у нас есть история заказов за полгода.\n",
    "\n",
    "---"
   ]
  },
  {
   "cell_type": "markdown",
   "metadata": {},
   "source": [
    "Подготовим исходные данные для дальнейшего исследования и построения прогноза."
   ]
  },
  {
   "cell_type": "markdown",
   "metadata": {},
   "source": [
    "### Приведение данных к нужному типу"
   ]
  },
  {
   "cell_type": "markdown",
   "metadata": {},
   "source": [
    "Приведем столбец с датой и временем к типу *datetime*:"
   ]
  },
  {
   "cell_type": "code",
   "execution_count": 6,
   "metadata": {},
   "outputs": [],
   "source": [
    "taxi['datetime'] = pd.to_datetime(taxi['datetime'])"
   ]
  },
  {
   "cell_type": "code",
   "execution_count": 7,
   "metadata": {},
   "outputs": [
    {
     "data": {
      "text/plain": [
       "datetime      datetime64[ns]\n",
       "num_orders             int64\n",
       "dtype: object"
      ]
     },
     "execution_count": 7,
     "metadata": {},
     "output_type": "execute_result"
    }
   ],
   "source": [
    "taxi.dtypes"
   ]
  },
  {
   "cell_type": "markdown",
   "metadata": {},
   "source": [
    "### Вывод"
   ]
  },
  {
   "cell_type": "markdown",
   "metadata": {},
   "source": [
    "Датафрейм состоит всего из двух столбцов: начала временного интервала и количества заказов такси за каждые 10 минут. Данные предоставлены с марта по август 2018 г. Пропусков нет. Столбец **datetime** приведен к типу данных *datetime*."
   ]
  },
  {
   "cell_type": "markdown",
   "metadata": {},
   "source": [
    "## Анализ"
   ]
  },
  {
   "cell_type": "markdown",
   "metadata": {},
   "source": [
    "Проанализируем предобработанные данные."
   ]
  },
  {
   "cell_type": "markdown",
   "metadata": {},
   "source": [
    "### Ресэмплинг"
   ]
  },
  {
   "cell_type": "markdown",
   "metadata": {},
   "source": [
    "Установим индекс таблицы равным столбцу **datetime**:"
   ]
  },
  {
   "cell_type": "code",
   "execution_count": 8,
   "metadata": {},
   "outputs": [],
   "source": [
    "taxi.set_index('datetime', inplace = True)"
   ]
  },
  {
   "cell_type": "markdown",
   "metadata": {},
   "source": [
    "Убедимся, что данные расположены в хронологическом порядке:"
   ]
  },
  {
   "cell_type": "code",
   "execution_count": 9,
   "metadata": {},
   "outputs": [
    {
     "name": "stdout",
     "output_type": "stream",
     "text": [
      "True\n"
     ]
    }
   ],
   "source": [
    "taxi.sort_index(inplace = True)\n",
    "print(taxi.index.is_monotonic)"
   ]
  },
  {
   "cell_type": "markdown",
   "metadata": {},
   "source": [
    "Сделаем ресэмплинг данных с интервалом в один час:"
   ]
  },
  {
   "cell_type": "code",
   "execution_count": 10,
   "metadata": {},
   "outputs": [
    {
     "data": {
      "image/png": "[encoded data removed]",
      "text/plain": [
       "<Figure size 1080x576 with 1 Axes>"
      ]
     },
     "metadata": {
      "needs_background": "light"
     },
     "output_type": "display_data"
    }
   ],
   "source": [
    "taxi = taxi.resample('1H').sum()\n",
    "taxi.plot(grid = True, figsize = (15, 8), legend = False)\n",
    "plt.title('Суммарное количество заказов такси в час', fontsize = 20)\n",
    "plt.xlabel('месяц', fontsize = 15)\n",
    "plt.ylabel('общее число заказов', fontsize = 15)\n",
    "plt.show()"
   ]
  },
  {
   "cell_type": "markdown",
   "metadata": {},
   "source": [
    "Начиная с июня число заказов такси в час начинает увеличиваться."
   ]
  },
  {
   "cell_type": "markdown",
   "metadata": {},
   "source": [
    "Сгладим колебания, построив скользящее среднее, где размер окна равен числу часов в сутках:"
   ]
  },
  {
   "cell_type": "code",
   "execution_count": 11,
   "metadata": {},
   "outputs": [],
   "source": [
    "taxi['rolling_mean'] = taxi.rolling(24).mean()"
   ]
  },
  {
   "cell_type": "code",
   "execution_count": 12,
   "metadata": {},
   "outputs": [
    {
     "data": {
      "image/png": "[encoded data removed]",
      "text/plain": [
       "<Figure size 1080x576 with 1 Axes>"
      ]
     },
     "metadata": {
      "needs_background": "light"
     },
     "output_type": "display_data"
    }
   ],
   "source": [
    "taxi = taxi.resample('1H').sum()\n",
    "taxi.plot(grid = True, figsize = (15, 8))\n",
    "plt.title('Суммарное количество заказов такси в час', fontsize = 20)\n",
    "plt.xlabel('месяц', fontsize = 15)\n",
    "plt.ylabel('общее число заказов', fontsize = 15)\n",
    "plt.legend(['количество заказов такси в час', 'скользящее среднее'])\n",
    "plt.show()"
   ]
  },
  {
   "cell_type": "code",
   "execution_count": 13,
   "metadata": {},
   "outputs": [],
   "source": [
    "taxi = taxi.drop(['rolling_mean'], axis = 1)"
   ]
  },
  {
   "cell_type": "markdown",
   "metadata": {},
   "source": [
    "### Тренд и сезонность"
   ]
  },
  {
   "cell_type": "markdown",
   "metadata": {},
   "source": [
    "Разложим временной ряд на три составляющих - тренд, сезонность и шум:"
   ]
  },
  {
   "cell_type": "code",
   "execution_count": 14,
   "metadata": {},
   "outputs": [
    {
     "data": {
      "image/png": "[encoded data removed]",
      "text/plain": [
       "<Figure size 864x864 with 3 Axes>"
      ]
     },
     "metadata": {
      "needs_background": "light"
     },
     "output_type": "display_data"
    }
   ],
   "source": [
    "decomposed = seasonal_decompose(taxi)\n",
    "\n",
    "plt.figure(figsize = (12, 12))\n",
    "plt.subplot(311)\n",
    "decomposed.trend.plot(ax = plt.gca(), legend = False)\n",
    "plt.title('Тренд', fontsize = 15)\n",
    "plt.xlabel('месяц')\n",
    "plt.subplot(312)\n",
    "decomposed.seasonal.plot(ax = plt.gca(), legend = False)\n",
    "plt.title('Сезонность', fontsize = 15)\n",
    "plt.xlabel('месяц')\n",
    "plt.subplot(313)\n",
    "decomposed.resid.plot(ax = plt.gca(), legend = False)\n",
    "plt.title('Шум', fontsize = 15)\n",
    "plt.xlabel('месяц')\n",
    "plt.tight_layout()"
   ]
  },
  {
   "cell_type": "markdown",
   "metadata": {},
   "source": [
    "График тренда говорит о том, количество заказов такси в час начало расти еще с апреля. График сезонной составляющей нечитаем (период слишком маленький), поэтому построим его на срезе данных:"
   ]
  },
  {
   "cell_type": "code",
   "execution_count": 15,
   "metadata": {},
   "outputs": [
    {
     "data": {
      "image/png": "[encoded data removed]",
      "text/plain": [
       "<Figure size 864x360 with 1 Axes>"
      ]
     },
     "metadata": {
      "needs_background": "light"
     },
     "output_type": "display_data"
    }
   ],
   "source": [
    "decomposed = seasonal_decompose(taxi)\n",
    "decomposed.seasonal['2018-03-01' : '2018-03-02'].plot(figsize = (12, 5), grid = True)\n",
    "plt.title('Сезонность в сутки', fontsize = 20)\n",
    "plt.xlabel('время', fontsize = 15)\n",
    "plt.ylabel('число заказов', fontsize = 15)\n",
    "plt.show()"
   ]
  },
  {
   "cell_type": "markdown",
   "metadata": {},
   "source": [
    "Пик заказов приходится на вечерние часы до полуночи, а реже всего клиенты пользуются услугами такси в 6 утра."
   ]
  },
  {
   "cell_type": "markdown",
   "metadata": {},
   "source": [
    "### Вывод"
   ]
  },
  {
   "cell_type": "markdown",
   "metadata": {},
   "source": [
    "Данные ресэмплированы с интервалом в один час.\n",
    "\n",
    "После декомпозирования временного ряда виден положительный тренд: количество заказов растет, начиная с апреля. Что касается сезонности, больше всего заказов совершается в вечерние часы до полуночи, а минимальное - в 6 утра."
   ]
  },
  {
   "cell_type": "markdown",
   "metadata": {},
   "source": [
    "## Обучение"
   ]
  },
  {
   "cell_type": "markdown",
   "metadata": {},
   "source": [
    "Подготовим данные для обучения моделей: создадим признаки, разделим на тренировочную, валидационную и тестовую выборки, масштабируем, построим несколько моделей и выберем ту, на которой значение метрики RMSE будет оптимальным."
   ]
  },
  {
   "cell_type": "markdown",
   "metadata": {},
   "source": [
    "### Проверка качества модели"
   ]
  },
  {
   "cell_type": "markdown",
   "metadata": {},
   "source": [
    "Рассмотрим две базовые модели для оценки качества прогнозирования - предсказание константой и предсказание новых значений предыдущими.\n",
    "\n",
    "В качестве константы возьмем среднее число заказов такси в час:"
   ]
  },
  {
   "cell_type": "code",
   "execution_count": 16,
   "metadata": {},
   "outputs": [
    {
     "name": "stdout",
     "output_type": "stream",
     "text": [
      "Среднее число заказов такси в час: 139.56\n",
      "RMSE константной модели: 84.74\n"
     ]
    }
   ],
   "source": [
    "train, test = train_test_split(taxi, shuffle = False, test_size = 0.1)\n",
    "print(\"Среднее число заказов такси в час:\", round(test['num_orders'].mean(), 2))\n",
    "pred_mean = pd.Series(train['num_orders'].mean(), index = test.index)\n",
    "print(\"RMSE константной модели:\", round(mean_squared_error(pred_mean, test['num_orders']) ** 0.5, 2))"
   ]
  },
  {
   "cell_type": "markdown",
   "metadata": {},
   "source": [
    "Предсказание новых значений предыдущими:"
   ]
  },
  {
   "cell_type": "code",
   "execution_count": 17,
   "metadata": {},
   "outputs": [
    {
     "name": "stdout",
     "output_type": "stream",
     "text": [
      "Среднее число заказов такси в час: 139.56\n",
      "RMSE при предсказании предыдущими значениями: 58.86\n"
     ]
    }
   ],
   "source": [
    "train, test = train_test_split(taxi, shuffle = False, test_size = 0.1)\n",
    "print(\"Среднее число заказов такси в час:\", round(test['num_orders'].mean(), 2))\n",
    "pred_previous = test.shift(fill_value = train['num_orders'].iloc[len(train['num_orders']) - 1])\n",
    "print(\"RMSE при предсказании предыдущими значениями:\", \n",
    "      round(mean_squared_error(pred_previous, test['num_orders']) ** 0.5, 2))"
   ]
  },
  {
   "cell_type": "markdown",
   "metadata": {},
   "source": [
    "Вторая базовая модель дала лучший результат. Указанное значение метрики и будем использовать при проверке моделей на адекватность."
   ]
  },
  {
   "cell_type": "markdown",
   "metadata": {},
   "source": [
    "### Создание признаков"
   ]
  },
  {
   "cell_type": "markdown",
   "metadata": {},
   "source": [
    "Напишем функцию, которая создает признаки для дальнейшего прогнозирования. В качестве календарных признаков выберем месяц, число, день недели и час. Также создадим признак \"отстающего значения\" (предыдущие значения временного ряда, которые покажут, будет ли функция x(t) расти или уменьшаться) и скользящего среднего:"
   ]
  },
  {
   "cell_type": "code",
   "execution_count": 18,
   "metadata": {},
   "outputs": [],
   "source": [
    "def make_features(data, max_lag, rolling_mean_size):\n",
    "    new_data = data.copy()\n",
    "    new_data['month'] = new_data.index.month\n",
    "    new_data['day'] = new_data.index.day\n",
    "    new_data['dayofweek'] = new_data.index.dayofweek\n",
    "    new_data['hour'] = new_data.index.hour\n",
    "    \n",
    "    for lag in range(1, max_lag + 1):\n",
    "        new_data['lag_{}'.format(lag)] = new_data['num_orders'].shift(lag)\n",
    "\n",
    "    new_data['rolling_mean'] = new_data['num_orders'].shift().rolling(rolling_mean_size).mean()\n",
    "    return new_data"
   ]
  },
  {
   "cell_type": "markdown",
   "metadata": {},
   "source": [
    "Создадим признаки:"
   ]
  },
  {
   "cell_type": "code",
   "execution_count": 19,
   "metadata": {},
   "outputs": [],
   "source": [
    "taxi_new = make_features(taxi, 5, 24)"
   ]
  },
  {
   "cell_type": "markdown",
   "metadata": {},
   "source": [
    "После применения функции **make_features** из-за сдвига данных в датасете появились строки с пропущенными значениями. Заполнить их невозможно, поэтому удалим их:"
   ]
  },
  {
   "cell_type": "code",
   "execution_count": 20,
   "metadata": {},
   "outputs": [
    {
     "data": {
      "text/plain": [
       "(4416, 11)"
      ]
     },
     "execution_count": 20,
     "metadata": {},
     "output_type": "execute_result"
    }
   ],
   "source": [
    "taxi_new.shape"
   ]
  },
  {
   "cell_type": "code",
   "execution_count": 21,
   "metadata": {},
   "outputs": [
    {
     "data": {
      "text/plain": [
       "(4392, 11)"
      ]
     },
     "execution_count": 21,
     "metadata": {},
     "output_type": "execute_result"
    }
   ],
   "source": [
    "taxi_new = taxi_new.dropna()\n",
    "taxi_new.shape"
   ]
  },
  {
   "cell_type": "markdown",
   "metadata": {},
   "source": [
    "Удалено 24 строки (по размеру окна для скользящего среднего)."
   ]
  },
  {
   "cell_type": "markdown",
   "metadata": {},
   "source": [
    "### Обучение моделей"
   ]
  },
  {
   "cell_type": "markdown",
   "metadata": {},
   "source": [
    "С учётом новых признаков обучим несколько моделей:\n",
    "- линейную регрессию;\n",
    "- регрессию Ridge;\n",
    "- регрессию Lasso;\n",
    "- регрессию ElasticNet;\n",
    "- дерево решений;\n",
    "- случайный лес;\n",
    "- CatBoost."
   ]
  },
  {
   "cell_type": "markdown",
   "metadata": {},
   "source": [
    "Выделим целевой признак:"
   ]
  },
  {
   "cell_type": "code",
   "execution_count": 22,
   "metadata": {},
   "outputs": [],
   "source": [
    "target = taxi_new['num_orders']\n",
    "features = taxi_new.drop('num_orders', axis = 1)"
   ]
  },
  {
   "cell_type": "markdown",
   "metadata": {},
   "source": [
    "Разделим данные на обучающую, валидационную и тестовую выборки в соотношении 80:10:10."
   ]
  },
  {
   "cell_type": "code",
   "execution_count": 23,
   "metadata": {},
   "outputs": [],
   "source": [
    "features_train, features_valid, target_train, target_valid = \\\n",
    "                        train_test_split(features, target, test_size = 0.2, shuffle = False, random_state = 42)\n",
    "features_valid, features_test, target_valid, target_test = \\\n",
    "                        train_test_split(features_valid, target_valid, test_size = 0.5, shuffle = False, random_state = 42)"
   ]
  },
  {
   "cell_type": "markdown",
   "metadata": {},
   "source": [
    "Рассматриваемые переменные имеют разный масштаб. Чтобы модели корректно проводили оценку параметров, настроим стандартизацию на обучающей выборке:"
   ]
  },
  {
   "cell_type": "code",
   "execution_count": 24,
   "metadata": {},
   "outputs": [],
   "source": [
    "scaler = StandardScaler()\n",
    "\n",
    "scaler.fit(features_train)\n",
    "\n",
    "for data in [features_train, features_valid, features_test]:\n",
    "    data = scaler.transform(data)"
   ]
  },
  {
   "cell_type": "markdown",
   "metadata": {},
   "source": [
    "Напишем функцию для подсчета метрики RMSE:"
   ]
  },
  {
   "cell_type": "code",
   "execution_count": 25,
   "metadata": {},
   "outputs": [],
   "source": [
    "def rmse_score(y_true, y_pred):\n",
    "    return mean_squared_error(y_true, y_pred) ** 0.5"
   ]
  },
  {
   "cell_type": "markdown",
   "metadata": {},
   "source": [
    "Функция для поиска оптимального набора гиперпараметров моделей по метрике RMSE:"
   ]
  },
  {
   "cell_type": "code",
   "execution_count": 26,
   "metadata": {},
   "outputs": [],
   "source": [
    "def grid_search(model, params, features, target):\n",
    "    \n",
    "    tscv = TimeSeriesSplit(n_splits = 5)\n",
    "    g_search = GridSearchCV(model, params, cv = tscv,\\\n",
    "                                scoring = make_scorer(rmse_score, greater_is_better = False), n_jobs = -1)\n",
    "    g_search.fit(features, target)\n",
    "    \n",
    "    print('Лучший набор гиперпараметров:', g_search.best_params_)\n",
    "    print('Качество предсказания:', round(g_search.best_score_, 5) * (-1))\n",
    "    print('Лучшая модель:', g_search.best_estimator_)\n",
    "    return g_search.best_estimator_"
   ]
  },
  {
   "cell_type": "markdown",
   "metadata": {},
   "source": [
    "Функция для оценки качества результатов модели и времени работы:"
   ]
  },
  {
   "cell_type": "code",
   "execution_count": 27,
   "metadata": {},
   "outputs": [],
   "source": [
    "# обучает модель на тренировочной выборке и оценивает качество на тестовой, результаты записывает в таблицу.\n",
    "\n",
    "def model_result(model, features_train, features_test, target_train, target_test, df_result):\n",
    "\n",
    "    model.fit(features_train, target_train)\n",
    "    predicted = model.predict(features_test)\n",
    "\n",
    "    rmse_result = round(rmse_score(target_test, predicted), 3)\n",
    "    print('Качество предсказания на тестовой выборке:', rmse_result)\n",
    "    \n",
    "    df_result.append({'model': model.__class__.__name__, 'RMSE': rmse_result})"
   ]
  },
  {
   "cell_type": "markdown",
   "metadata": {},
   "source": [
    "Обучим несколько разных моделей и оценим их качество на тестовой выборке. Записывать результаты будем в отдельную таблицу."
   ]
  },
  {
   "cell_type": "code",
   "execution_count": 28,
   "metadata": {},
   "outputs": [],
   "source": [
    "result = []"
   ]
  },
  {
   "cell_type": "markdown",
   "metadata": {},
   "source": [
    "#### Линейная регрессия"
   ]
  },
  {
   "cell_type": "markdown",
   "metadata": {},
   "source": [
    "У линейной регрессии нет гиперпараметров, поэтому метрика качества сразу будет итоговой."
   ]
  },
  {
   "cell_type": "code",
   "execution_count": 29,
   "metadata": {},
   "outputs": [
    {
     "name": "stdout",
     "output_type": "stream",
     "text": [
      "Качество предсказания на тестовой выборке: 40.556\n"
     ]
    }
   ],
   "source": [
    "model_result(LinearRegression(), features_train, features_valid, target_train, target_valid, result)"
   ]
  },
  {
   "cell_type": "code",
   "execution_count": 30,
   "metadata": {},
   "outputs": [
    {
     "data": {
      "text/html": [
       "<div>\n",
       "<style scoped>\n",
       "    .dataframe tbody tr th:only-of-type {\n",
       "        vertical-align: middle;\n",
       "    }\n",
       "\n",
       "    .dataframe tbody tr th {\n",
       "        vertical-align: top;\n",
       "    }\n",
       "\n",
       "    .dataframe thead th {\n",
       "        text-align: right;\n",
       "    }\n",
       "</style>\n",
       "<table border=\"1\" class=\"dataframe\">\n",
       "  <thead>\n",
       "    <tr style=\"text-align: right;\">\n",
       "      <th></th>\n",
       "      <th>model</th>\n",
       "      <th>RMSE</th>\n",
       "    </tr>\n",
       "  </thead>\n",
       "  <tbody>\n",
       "    <tr>\n",
       "      <th>0</th>\n",
       "      <td>LinearRegression</td>\n",
       "      <td>40.556</td>\n",
       "    </tr>\n",
       "  </tbody>\n",
       "</table>\n",
       "</div>"
      ],
      "text/plain": [
       "              model    RMSE\n",
       "0  LinearRegression  40.556"
      ]
     },
     "execution_count": 30,
     "metadata": {},
     "output_type": "execute_result"
    }
   ],
   "source": [
    "pd.DataFrame(result)"
   ]
  },
  {
   "cell_type": "markdown",
   "metadata": {},
   "source": [
    "#### Ridge"
   ]
  },
  {
   "cell_type": "markdown",
   "metadata": {},
   "source": [
    "В качестве гиперпараметра возьмем коэффициент регуляризации *alpha*:"
   ]
  },
  {
   "cell_type": "code",
   "execution_count": 31,
   "metadata": {},
   "outputs": [],
   "source": [
    "ridge_model = Ridge(random_state = 42)\n",
    "ridge_params = {'alpha' : np.arange(0.1, 100, 1)}"
   ]
  },
  {
   "cell_type": "markdown",
   "metadata": {},
   "source": [
    "Найдем оптимальные гиперпараметры на тренировочной выборке:"
   ]
  },
  {
   "cell_type": "code",
   "execution_count": 32,
   "metadata": {},
   "outputs": [
    {
     "name": "stdout",
     "output_type": "stream",
     "text": [
      "Лучший набор гиперпараметров: {'alpha': 0.1}\n",
      "Качество предсказания: 29.94129\n",
      "Лучшая модель: Ridge(alpha=0.1, random_state=42)\n"
     ]
    }
   ],
   "source": [
    "ridge_best = grid_search(ridge_model, ridge_params, features_train, target_train)"
   ]
  },
  {
   "cell_type": "code",
   "execution_count": 33,
   "metadata": {},
   "outputs": [
    {
     "name": "stdout",
     "output_type": "stream",
     "text": [
      "Качество предсказания на тестовой выборке: 40.556\n"
     ]
    }
   ],
   "source": [
    "model_result(ridge_best, features_train, features_valid, target_train, target_valid, result)"
   ]
  },
  {
   "cell_type": "code",
   "execution_count": 34,
   "metadata": {},
   "outputs": [
    {
     "data": {
      "text/html": [
       "<div>\n",
       "<style scoped>\n",
       "    .dataframe tbody tr th:only-of-type {\n",
       "        vertical-align: middle;\n",
       "    }\n",
       "\n",
       "    .dataframe tbody tr th {\n",
       "        vertical-align: top;\n",
       "    }\n",
       "\n",
       "    .dataframe thead th {\n",
       "        text-align: right;\n",
       "    }\n",
       "</style>\n",
       "<table border=\"1\" class=\"dataframe\">\n",
       "  <thead>\n",
       "    <tr style=\"text-align: right;\">\n",
       "      <th></th>\n",
       "      <th>model</th>\n",
       "      <th>RMSE</th>\n",
       "    </tr>\n",
       "  </thead>\n",
       "  <tbody>\n",
       "    <tr>\n",
       "      <th>0</th>\n",
       "      <td>LinearRegression</td>\n",
       "      <td>40.556</td>\n",
       "    </tr>\n",
       "    <tr>\n",
       "      <th>1</th>\n",
       "      <td>Ridge</td>\n",
       "      <td>40.556</td>\n",
       "    </tr>\n",
       "  </tbody>\n",
       "</table>\n",
       "</div>"
      ],
      "text/plain": [
       "              model    RMSE\n",
       "0  LinearRegression  40.556\n",
       "1             Ridge  40.556"
      ]
     },
     "execution_count": 34,
     "metadata": {},
     "output_type": "execute_result"
    }
   ],
   "source": [
    "pd.DataFrame(result)"
   ]
  },
  {
   "cell_type": "markdown",
   "metadata": {},
   "source": [
    "#### Lasso"
   ]
  },
  {
   "cell_type": "markdown",
   "metadata": {},
   "source": [
    "В качестве гиперпараметра снова возьмем коэффициент регуляризации *alpha*:"
   ]
  },
  {
   "cell_type": "code",
   "execution_count": 35,
   "metadata": {},
   "outputs": [],
   "source": [
    "lasso_model = Lasso(random_state = 42)\n",
    "lasso_params = {'alpha' : np.arange(0.1, 100, 1)}"
   ]
  },
  {
   "cell_type": "markdown",
   "metadata": {},
   "source": [
    "Найдем оптимальные гиперпараметры на тренировочной выборке:"
   ]
  },
  {
   "cell_type": "code",
   "execution_count": 36,
   "metadata": {},
   "outputs": [
    {
     "name": "stdout",
     "output_type": "stream",
     "text": [
      "Лучший набор гиперпараметров: {'alpha': 0.1}\n",
      "Качество предсказания: 29.95919\n",
      "Лучшая модель: Lasso(alpha=0.1, random_state=42)\n"
     ]
    }
   ],
   "source": [
    "lasso_best = grid_search(lasso_model, lasso_params, features_train, target_train)"
   ]
  },
  {
   "cell_type": "code",
   "execution_count": 37,
   "metadata": {},
   "outputs": [
    {
     "name": "stdout",
     "output_type": "stream",
     "text": [
      "Качество предсказания на тестовой выборке: 40.561\n"
     ]
    }
   ],
   "source": [
    "model_result(lasso_best, features_train, features_valid, target_train, target_valid, result)"
   ]
  },
  {
   "cell_type": "code",
   "execution_count": 38,
   "metadata": {},
   "outputs": [
    {
     "data": {
      "text/html": [
       "<div>\n",
       "<style scoped>\n",
       "    .dataframe tbody tr th:only-of-type {\n",
       "        vertical-align: middle;\n",
       "    }\n",
       "\n",
       "    .dataframe tbody tr th {\n",
       "        vertical-align: top;\n",
       "    }\n",
       "\n",
       "    .dataframe thead th {\n",
       "        text-align: right;\n",
       "    }\n",
       "</style>\n",
       "<table border=\"1\" class=\"dataframe\">\n",
       "  <thead>\n",
       "    <tr style=\"text-align: right;\">\n",
       "      <th></th>\n",
       "      <th>model</th>\n",
       "      <th>RMSE</th>\n",
       "    </tr>\n",
       "  </thead>\n",
       "  <tbody>\n",
       "    <tr>\n",
       "      <th>0</th>\n",
       "      <td>LinearRegression</td>\n",
       "      <td>40.556</td>\n",
       "    </tr>\n",
       "    <tr>\n",
       "      <th>1</th>\n",
       "      <td>Ridge</td>\n",
       "      <td>40.556</td>\n",
       "    </tr>\n",
       "    <tr>\n",
       "      <th>2</th>\n",
       "      <td>Lasso</td>\n",
       "      <td>40.561</td>\n",
       "    </tr>\n",
       "  </tbody>\n",
       "</table>\n",
       "</div>"
      ],
      "text/plain": [
       "              model    RMSE\n",
       "0  LinearRegression  40.556\n",
       "1             Ridge  40.556\n",
       "2             Lasso  40.561"
      ]
     },
     "execution_count": 38,
     "metadata": {},
     "output_type": "execute_result"
    }
   ],
   "source": [
    "pd.DataFrame(result)"
   ]
  },
  {
   "cell_type": "markdown",
   "metadata": {},
   "source": [
    "#### ElasticNet"
   ]
  },
  {
   "cell_type": "markdown",
   "metadata": {},
   "source": [
    "В качестве гиперпараметра в очередной раз возьмем коэффициент регуляризации *alpha*:"
   ]
  },
  {
   "cell_type": "code",
   "execution_count": 39,
   "metadata": {},
   "outputs": [],
   "source": [
    "elastic_net_model = ElasticNet(random_state = 42)\n",
    "elastic_net_params = {'alpha' : np.arange(0.1, 100, 1)}"
   ]
  },
  {
   "cell_type": "markdown",
   "metadata": {},
   "source": [
    "Найдем оптимальные гиперпараметры на тренировочной выборке:"
   ]
  },
  {
   "cell_type": "code",
   "execution_count": 40,
   "metadata": {},
   "outputs": [
    {
     "name": "stdout",
     "output_type": "stream",
     "text": [
      "Лучший набор гиперпараметров: {'alpha': 0.1}\n",
      "Качество предсказания: 29.96848\n",
      "Лучшая модель: ElasticNet(alpha=0.1, random_state=42)\n"
     ]
    }
   ],
   "source": [
    "elastic_net_best = grid_search(elastic_net_model, elastic_net_params, features_train, target_train)"
   ]
  },
  {
   "cell_type": "code",
   "execution_count": 41,
   "metadata": {},
   "outputs": [
    {
     "name": "stdout",
     "output_type": "stream",
     "text": [
      "Качество предсказания на тестовой выборке: 40.574\n"
     ]
    }
   ],
   "source": [
    "model_result(elastic_net_best, features_train, features_valid, target_train, target_valid, result)"
   ]
  },
  {
   "cell_type": "code",
   "execution_count": 42,
   "metadata": {},
   "outputs": [
    {
     "data": {
      "text/html": [
       "<div>\n",
       "<style scoped>\n",
       "    .dataframe tbody tr th:only-of-type {\n",
       "        vertical-align: middle;\n",
       "    }\n",
       "\n",
       "    .dataframe tbody tr th {\n",
       "        vertical-align: top;\n",
       "    }\n",
       "\n",
       "    .dataframe thead th {\n",
       "        text-align: right;\n",
       "    }\n",
       "</style>\n",
       "<table border=\"1\" class=\"dataframe\">\n",
       "  <thead>\n",
       "    <tr style=\"text-align: right;\">\n",
       "      <th></th>\n",
       "      <th>model</th>\n",
       "      <th>RMSE</th>\n",
       "    </tr>\n",
       "  </thead>\n",
       "  <tbody>\n",
       "    <tr>\n",
       "      <th>0</th>\n",
       "      <td>LinearRegression</td>\n",
       "      <td>40.556</td>\n",
       "    </tr>\n",
       "    <tr>\n",
       "      <th>1</th>\n",
       "      <td>Ridge</td>\n",
       "      <td>40.556</td>\n",
       "    </tr>\n",
       "    <tr>\n",
       "      <th>2</th>\n",
       "      <td>Lasso</td>\n",
       "      <td>40.561</td>\n",
       "    </tr>\n",
       "    <tr>\n",
       "      <th>3</th>\n",
       "      <td>ElasticNet</td>\n",
       "      <td>40.574</td>\n",
       "    </tr>\n",
       "  </tbody>\n",
       "</table>\n",
       "</div>"
      ],
      "text/plain": [
       "              model    RMSE\n",
       "0  LinearRegression  40.556\n",
       "1             Ridge  40.556\n",
       "2             Lasso  40.561\n",
       "3        ElasticNet  40.574"
      ]
     },
     "execution_count": 42,
     "metadata": {},
     "output_type": "execute_result"
    }
   ],
   "source": [
    "pd.DataFrame(result)"
   ]
  },
  {
   "cell_type": "markdown",
   "metadata": {},
   "source": [
    "#### Модель решающего дерева"
   ]
  },
  {
   "cell_type": "markdown",
   "metadata": {},
   "source": [
    "Зададим набор гиперпараметров для модели. Будем изменять глубину дерева, а также количество признаков, которые учитываются при поиске лучшего разделения:"
   ]
  },
  {
   "cell_type": "code",
   "execution_count": 43,
   "metadata": {},
   "outputs": [],
   "source": [
    "dt_model = DecisionTreeRegressor(random_state = 42)\n",
    "dt_params = {'max_depth' : range(1, 15, 1), 'max_features' : range(5, 11, 1)}"
   ]
  },
  {
   "cell_type": "code",
   "execution_count": 44,
   "metadata": {},
   "outputs": [
    {
     "name": "stdout",
     "output_type": "stream",
     "text": [
      "Лучший набор гиперпараметров: {'max_depth': 7, 'max_features': 10}\n",
      "Качество предсказания: 28.42927\n",
      "Лучшая модель: DecisionTreeRegressor(max_depth=7, max_features=10, random_state=42)\n"
     ]
    }
   ],
   "source": [
    "dt_best = grid_search(dt_model, dt_params, features_train, target_train)"
   ]
  },
  {
   "cell_type": "code",
   "execution_count": 45,
   "metadata": {},
   "outputs": [
    {
     "name": "stdout",
     "output_type": "stream",
     "text": [
      "Качество предсказания на тестовой выборке: 36.155\n"
     ]
    }
   ],
   "source": [
    "model_result(dt_best, features_train, features_valid, target_train, target_valid, result)"
   ]
  },
  {
   "cell_type": "code",
   "execution_count": 46,
   "metadata": {},
   "outputs": [
    {
     "data": {
      "text/html": [
       "<div>\n",
       "<style scoped>\n",
       "    .dataframe tbody tr th:only-of-type {\n",
       "        vertical-align: middle;\n",
       "    }\n",
       "\n",
       "    .dataframe tbody tr th {\n",
       "        vertical-align: top;\n",
       "    }\n",
       "\n",
       "    .dataframe thead th {\n",
       "        text-align: right;\n",
       "    }\n",
       "</style>\n",
       "<table border=\"1\" class=\"dataframe\">\n",
       "  <thead>\n",
       "    <tr style=\"text-align: right;\">\n",
       "      <th></th>\n",
       "      <th>model</th>\n",
       "      <th>RMSE</th>\n",
       "    </tr>\n",
       "  </thead>\n",
       "  <tbody>\n",
       "    <tr>\n",
       "      <th>0</th>\n",
       "      <td>LinearRegression</td>\n",
       "      <td>40.556</td>\n",
       "    </tr>\n",
       "    <tr>\n",
       "      <th>1</th>\n",
       "      <td>Ridge</td>\n",
       "      <td>40.556</td>\n",
       "    </tr>\n",
       "    <tr>\n",
       "      <th>2</th>\n",
       "      <td>Lasso</td>\n",
       "      <td>40.561</td>\n",
       "    </tr>\n",
       "    <tr>\n",
       "      <th>3</th>\n",
       "      <td>ElasticNet</td>\n",
       "      <td>40.574</td>\n",
       "    </tr>\n",
       "    <tr>\n",
       "      <th>4</th>\n",
       "      <td>DecisionTreeRegressor</td>\n",
       "      <td>36.155</td>\n",
       "    </tr>\n",
       "  </tbody>\n",
       "</table>\n",
       "</div>"
      ],
      "text/plain": [
       "                   model    RMSE\n",
       "0       LinearRegression  40.556\n",
       "1                  Ridge  40.556\n",
       "2                  Lasso  40.561\n",
       "3             ElasticNet  40.574\n",
       "4  DecisionTreeRegressor  36.155"
      ]
     },
     "execution_count": 46,
     "metadata": {},
     "output_type": "execute_result"
    }
   ],
   "source": [
    "pd.DataFrame(result)"
   ]
  },
  {
   "cell_type": "markdown",
   "metadata": {},
   "source": [
    "#### Модель случайного леса"
   ]
  },
  {
   "cell_type": "markdown",
   "metadata": {},
   "source": [
    "В качестве гиперпараметров будем использовать глубину дерева, а также число деревьев (для ускорения работы программы параметры уже заданы относительно близко к оптимальным; изначальный цикл пробегал глубину от 1 до 25, а число оценщиков - от 1 до 500):"
   ]
  },
  {
   "cell_type": "code",
   "execution_count": 47,
   "metadata": {},
   "outputs": [],
   "source": [
    "rf_model = RandomForestRegressor(random_state = 42)\n",
    "rf_params = {'max_depth' : range(19, 22, 1), 'n_estimators' : range(260, 291, 5)}"
   ]
  },
  {
   "cell_type": "code",
   "execution_count": 48,
   "metadata": {},
   "outputs": [
    {
     "name": "stdout",
     "output_type": "stream",
     "text": [
      "Лучший набор гиперпараметров: {'max_depth': 20, 'n_estimators': 275}\n",
      "Качество предсказания: 24.19252\n",
      "Лучшая модель: RandomForestRegressor(max_depth=20, n_estimators=275, random_state=42)\n"
     ]
    }
   ],
   "source": [
    "rf_best = grid_search(rf_model, rf_params, features_train, target_train)"
   ]
  },
  {
   "cell_type": "code",
   "execution_count": 49,
   "metadata": {},
   "outputs": [
    {
     "name": "stdout",
     "output_type": "stream",
     "text": [
      "Качество предсказания на тестовой выборке: 32.164\n"
     ]
    }
   ],
   "source": [
    "model_result(rf_best, features_train, features_valid, target_train, target_valid, result)"
   ]
  },
  {
   "cell_type": "code",
   "execution_count": 50,
   "metadata": {},
   "outputs": [
    {
     "data": {
      "text/html": [
       "<div>\n",
       "<style scoped>\n",
       "    .dataframe tbody tr th:only-of-type {\n",
       "        vertical-align: middle;\n",
       "    }\n",
       "\n",
       "    .dataframe tbody tr th {\n",
       "        vertical-align: top;\n",
       "    }\n",
       "\n",
       "    .dataframe thead th {\n",
       "        text-align: right;\n",
       "    }\n",
       "</style>\n",
       "<table border=\"1\" class=\"dataframe\">\n",
       "  <thead>\n",
       "    <tr style=\"text-align: right;\">\n",
       "      <th></th>\n",
       "      <th>model</th>\n",
       "      <th>RMSE</th>\n",
       "    </tr>\n",
       "  </thead>\n",
       "  <tbody>\n",
       "    <tr>\n",
       "      <th>0</th>\n",
       "      <td>LinearRegression</td>\n",
       "      <td>40.556</td>\n",
       "    </tr>\n",
       "    <tr>\n",
       "      <th>1</th>\n",
       "      <td>Ridge</td>\n",
       "      <td>40.556</td>\n",
       "    </tr>\n",
       "    <tr>\n",
       "      <th>2</th>\n",
       "      <td>Lasso</td>\n",
       "      <td>40.561</td>\n",
       "    </tr>\n",
       "    <tr>\n",
       "      <th>3</th>\n",
       "      <td>ElasticNet</td>\n",
       "      <td>40.574</td>\n",
       "    </tr>\n",
       "    <tr>\n",
       "      <th>4</th>\n",
       "      <td>DecisionTreeRegressor</td>\n",
       "      <td>36.155</td>\n",
       "    </tr>\n",
       "    <tr>\n",
       "      <th>5</th>\n",
       "      <td>RandomForestRegressor</td>\n",
       "      <td>32.164</td>\n",
       "    </tr>\n",
       "  </tbody>\n",
       "</table>\n",
       "</div>"
      ],
      "text/plain": [
       "                   model    RMSE\n",
       "0       LinearRegression  40.556\n",
       "1                  Ridge  40.556\n",
       "2                  Lasso  40.561\n",
       "3             ElasticNet  40.574\n",
       "4  DecisionTreeRegressor  36.155\n",
       "5  RandomForestRegressor  32.164"
      ]
     },
     "execution_count": 50,
     "metadata": {},
     "output_type": "execute_result"
    }
   ],
   "source": [
    "pd.DataFrame(result)"
   ]
  },
  {
   "cell_type": "markdown",
   "metadata": {},
   "source": [
    "#### CatBoost"
   ]
  },
  {
   "cell_type": "markdown",
   "metadata": {},
   "source": [
    "В качестве гиперпараметра выберем количество итераций (и вновь для ускорения работы начальный параметр заданы относительно близко к оптимальным):"
   ]
  },
  {
   "cell_type": "code",
   "execution_count": 51,
   "metadata": {},
   "outputs": [],
   "source": [
    "catboost_model = CatBoostRegressor(random_state = 42, depth = 7, silent = True)\n",
    "catboost_params = {'iterations': range(650, 751, 50)}"
   ]
  },
  {
   "cell_type": "code",
   "execution_count": 52,
   "metadata": {
    "scrolled": true
   },
   "outputs": [
    {
     "name": "stdout",
     "output_type": "stream",
     "text": [
      "Лучший набор гиперпараметров: {'iterations': 700}\n",
      "Качество предсказания: 24.47376\n",
      "Лучшая модель: <catboost.core.CatBoostRegressor object at 0x7f9023dd49a0>\n"
     ]
    }
   ],
   "source": [
    "catboost_best = grid_search(catboost_model, catboost_params, features_train, target_train)"
   ]
  },
  {
   "cell_type": "markdown",
   "metadata": {},
   "source": [
    "Оценим предсказание модели CatBoost:"
   ]
  },
  {
   "cell_type": "code",
   "execution_count": 53,
   "metadata": {},
   "outputs": [
    {
     "name": "stdout",
     "output_type": "stream",
     "text": [
      "Качество предсказания на тестовой выборке: 32.477\n"
     ]
    }
   ],
   "source": [
    "model_result(catboost_best, features_train, features_valid, target_train, target_valid, result)"
   ]
  },
  {
   "cell_type": "code",
   "execution_count": 54,
   "metadata": {},
   "outputs": [
    {
     "data": {
      "text/html": [
       "<div>\n",
       "<style scoped>\n",
       "    .dataframe tbody tr th:only-of-type {\n",
       "        vertical-align: middle;\n",
       "    }\n",
       "\n",
       "    .dataframe tbody tr th {\n",
       "        vertical-align: top;\n",
       "    }\n",
       "\n",
       "    .dataframe thead th {\n",
       "        text-align: right;\n",
       "    }\n",
       "</style>\n",
       "<table border=\"1\" class=\"dataframe\">\n",
       "  <thead>\n",
       "    <tr style=\"text-align: right;\">\n",
       "      <th></th>\n",
       "      <th>model</th>\n",
       "      <th>RMSE</th>\n",
       "    </tr>\n",
       "  </thead>\n",
       "  <tbody>\n",
       "    <tr>\n",
       "      <th>5</th>\n",
       "      <td>RandomForestRegressor</td>\n",
       "      <td>32.164</td>\n",
       "    </tr>\n",
       "    <tr>\n",
       "      <th>6</th>\n",
       "      <td>CatBoostRegressor</td>\n",
       "      <td>32.477</td>\n",
       "    </tr>\n",
       "    <tr>\n",
       "      <th>4</th>\n",
       "      <td>DecisionTreeRegressor</td>\n",
       "      <td>36.155</td>\n",
       "    </tr>\n",
       "    <tr>\n",
       "      <th>0</th>\n",
       "      <td>LinearRegression</td>\n",
       "      <td>40.556</td>\n",
       "    </tr>\n",
       "    <tr>\n",
       "      <th>1</th>\n",
       "      <td>Ridge</td>\n",
       "      <td>40.556</td>\n",
       "    </tr>\n",
       "    <tr>\n",
       "      <th>2</th>\n",
       "      <td>Lasso</td>\n",
       "      <td>40.561</td>\n",
       "    </tr>\n",
       "    <tr>\n",
       "      <th>3</th>\n",
       "      <td>ElasticNet</td>\n",
       "      <td>40.574</td>\n",
       "    </tr>\n",
       "  </tbody>\n",
       "</table>\n",
       "</div>"
      ],
      "text/plain": [
       "                   model    RMSE\n",
       "5  RandomForestRegressor  32.164\n",
       "6      CatBoostRegressor  32.477\n",
       "4  DecisionTreeRegressor  36.155\n",
       "0       LinearRegression  40.556\n",
       "1                  Ridge  40.556\n",
       "2                  Lasso  40.561\n",
       "3             ElasticNet  40.574"
      ]
     },
     "execution_count": 54,
     "metadata": {},
     "output_type": "execute_result"
    }
   ],
   "source": [
    "pd.DataFrame(result).sort_values(by = 'RMSE')"
   ]
  },
  {
   "cell_type": "markdown",
   "metadata": {},
   "source": [
    "### Вывод"
   ]
  },
  {
   "cell_type": "markdown",
   "metadata": {},
   "source": [
    "Таким образом, лучший результат на валидационной выборке показала модель случайного леса (RMSE = 32,16). На втором месте CatBoost (32,35), на третьем - дерево решений (36,15). Все регрессионные модели показали примерно одинако низкий результат (около 40,5). Однако каждая модель отработала существенно лучше базовых."
   ]
  },
  {
   "cell_type": "markdown",
   "metadata": {},
   "source": [
    "## Тестирование"
   ]
  },
  {
   "cell_type": "markdown",
   "metadata": {},
   "source": [
    "Проверим работу моделей на тестовой выборке. Для обучения используем объединение тренировочной и валидационной выборок. В качестве гиперпараметров передадим те, что давали лучший результат на предыдущем шаге."
   ]
  },
  {
   "cell_type": "code",
   "execution_count": 55,
   "metadata": {},
   "outputs": [],
   "source": [
    "features_train = pd.concat([features_train, features_valid])\n",
    "target_train = pd.concat([target_train, target_valid])  "
   ]
  },
  {
   "cell_type": "markdown",
   "metadata": {},
   "source": [
    "Поскольку выборки объединены, данные нужно снова стандартизировать:"
   ]
  },
  {
   "cell_type": "code",
   "execution_count": 56,
   "metadata": {},
   "outputs": [],
   "source": [
    "scaler.fit(features_train) \n",
    "\n",
    "features_train = scaler.transform(features_train)\n",
    "features_test = scaler.transform(features_test) "
   ]
  },
  {
   "cell_type": "code",
   "execution_count": 57,
   "metadata": {},
   "outputs": [],
   "source": [
    "result_test = []"
   ]
  },
  {
   "cell_type": "code",
   "execution_count": 58,
   "metadata": {},
   "outputs": [
    {
     "name": "stdout",
     "output_type": "stream",
     "text": [
      "LinearRegression\n",
      "Качество предсказания на тестовой выборке: 51.159\n",
      "\n",
      "Ridge\n",
      "Качество предсказания на тестовой выборке: 51.159\n",
      "\n",
      "Lasso\n",
      "Качество предсказания на тестовой выборке: 51.245\n",
      "\n",
      "ElasticNet\n",
      "Качество предсказания на тестовой выборке: 51.384\n",
      "\n",
      "DecisionTreeRegressor\n",
      "Качество предсказания на тестовой выборке: 55.319\n",
      "\n",
      "RandomForestRegressor\n",
      "Качество предсказания на тестовой выборке: 45.312\n",
      "\n",
      "CatBoostRegressor\n",
      "Качество предсказания на тестовой выборке: 43.457\n",
      "\n"
     ]
    }
   ],
   "source": [
    "for model in [LinearRegression(), ridge_best, lasso_best, elastic_net_best, dt_best, rf_best, catboost_best]:\n",
    "    print(model.__class__.__name__)\n",
    "    model_result(model, features_train, features_test, target_train, target_test, result_test)\n",
    "    print('')"
   ]
  },
  {
   "cell_type": "markdown",
   "metadata": {},
   "source": [
    "Получили итоговую таблицу метрик на тестовой выборке:"
   ]
  },
  {
   "cell_type": "code",
   "execution_count": 59,
   "metadata": {},
   "outputs": [
    {
     "data": {
      "text/html": [
       "<div>\n",
       "<style scoped>\n",
       "    .dataframe tbody tr th:only-of-type {\n",
       "        vertical-align: middle;\n",
       "    }\n",
       "\n",
       "    .dataframe tbody tr th {\n",
       "        vertical-align: top;\n",
       "    }\n",
       "\n",
       "    .dataframe thead th {\n",
       "        text-align: right;\n",
       "    }\n",
       "</style>\n",
       "<table border=\"1\" class=\"dataframe\">\n",
       "  <thead>\n",
       "    <tr style=\"text-align: right;\">\n",
       "      <th></th>\n",
       "      <th>model</th>\n",
       "      <th>RMSE</th>\n",
       "    </tr>\n",
       "  </thead>\n",
       "  <tbody>\n",
       "    <tr>\n",
       "      <th>6</th>\n",
       "      <td>CatBoostRegressor</td>\n",
       "      <td>43.457</td>\n",
       "    </tr>\n",
       "    <tr>\n",
       "      <th>5</th>\n",
       "      <td>RandomForestRegressor</td>\n",
       "      <td>45.312</td>\n",
       "    </tr>\n",
       "    <tr>\n",
       "      <th>0</th>\n",
       "      <td>LinearRegression</td>\n",
       "      <td>51.159</td>\n",
       "    </tr>\n",
       "    <tr>\n",
       "      <th>1</th>\n",
       "      <td>Ridge</td>\n",
       "      <td>51.159</td>\n",
       "    </tr>\n",
       "    <tr>\n",
       "      <th>2</th>\n",
       "      <td>Lasso</td>\n",
       "      <td>51.245</td>\n",
       "    </tr>\n",
       "    <tr>\n",
       "      <th>3</th>\n",
       "      <td>ElasticNet</td>\n",
       "      <td>51.384</td>\n",
       "    </tr>\n",
       "    <tr>\n",
       "      <th>4</th>\n",
       "      <td>DecisionTreeRegressor</td>\n",
       "      <td>55.319</td>\n",
       "    </tr>\n",
       "  </tbody>\n",
       "</table>\n",
       "</div>"
      ],
      "text/plain": [
       "                   model    RMSE\n",
       "6      CatBoostRegressor  43.457\n",
       "5  RandomForestRegressor  45.312\n",
       "0       LinearRegression  51.159\n",
       "1                  Ridge  51.159\n",
       "2                  Lasso  51.245\n",
       "3             ElasticNet  51.384\n",
       "4  DecisionTreeRegressor  55.319"
      ]
     },
     "execution_count": 59,
     "metadata": {},
     "output_type": "execute_result"
    }
   ],
   "source": [
    "pd.DataFrame(result_test).sort_values(by = 'RMSE')"
   ]
  },
  {
   "cell_type": "markdown",
   "metadata": {},
   "source": [
    "Построим графики исходного и лучшего предсказанного ряда:"
   ]
  },
  {
   "cell_type": "code",
   "execution_count": 60,
   "metadata": {},
   "outputs": [],
   "source": [
    "predicted_best = catboost_best.predict(features_test)"
   ]
  },
  {
   "cell_type": "code",
   "execution_count": 61,
   "metadata": {},
   "outputs": [],
   "source": [
    "res_plot = pd.DataFrame(target_test)\n",
    "res_plot['predicted'] = predicted_best"
   ]
  },
  {
   "cell_type": "code",
   "execution_count": 62,
   "metadata": {},
   "outputs": [
    {
     "data": {
      "image/png": "[encoded data removed]",
      "text/plain": [
       "<Figure size 1080x576 with 1 Axes>"
      ]
     },
     "metadata": {
      "needs_background": "light"
     },
     "output_type": "display_data"
    }
   ],
   "source": [
    "res_plot.plot(grid = True, figsize = (15, 8))\n",
    "plt.title('Истинные и предсказанные значения ряда', fontsize = 20)\n",
    "plt.xlabel('дата', fontsize = 15)\n",
    "plt.ylabel('число заказов в час', fontsize = 15)\n",
    "plt.legend(['исходные значения', 'предсказанные значения'])\n",
    "plt.show()"
   ]
  },
  {
   "cell_type": "markdown",
   "metadata": {},
   "source": [
    "### Вывод"
   ]
  },
  {
   "cell_type": "markdown",
   "metadata": {},
   "source": [
    "Результаты работы моделей на тестовой выборке изменились: лучшее значение RMSE оказалось у модели CatBoost (44,78), затем у случайного леса (45,34). Результат линейных регрессий примерно одинаковый (51). Хуже всех отработало дерево решений (55,32). Однако результат каждой модели значительно выше, чем у базовых моделей предсказания константой и предыдущими значениями."
   ]
  },
  {
   "cell_type": "markdown",
   "metadata": {},
   "source": [
    "## Основные результаты"
   ]
  },
  {
   "cell_type": "markdown",
   "metadata": {},
   "source": [
    "В работе решалась задача прогнозирования временного ряда - количества заказов такси на следующий час - и сравнения моделей по качеству предсказания.\n",
    "\n",
    "В ходе анализа данных: \n",
    "- выполнен ресэмплинг с интервалом в один час;\n",
    "- временной ряд декомпозирован на тренд, сезонную составляющую и шум. Тренд оказался положительным: количество заказов растет, начиная с апреля. Что касается сезонности, больше всего заказов совершается в вечерние часы до полуночи, а минимальное - в 6 утра.\n",
    "\n",
    "Для решения задачи прогнозирования в модель добавлены следующие признаки:\n",
    "- календарные (месяц, число, день недели и час);\n",
    "- \"отстающее значение\" (предыдущие значения временного ряда, которые покажут, будет ли временная функция расти или уменьшаться);\n",
    "- скользящее среднее.\n",
    "\n",
    "Обучены и протестированы следующие модели: \n",
    "- линейная регрессия;\n",
    "- Ridge;\n",
    "- Lasso;\n",
    "- ElaticNet;\n",
    "- дерево решений;\n",
    "- случайный лес;\n",
    "- CatBoost.\n",
    "\n",
    "Датасет разделен на тренировочную, валидационную и тестовую выборки в пропорции 80:10:10. Данные масштабированы. В качестве метрики использована RSME.\n",
    "\n",
    "Для каждой модели (за исключением линейной регрессии) на валидационной выборке подбиралиись оптимальные гиперпараметры: \n",
    "- для Ridge, Lasso и ElasticNet - коэффициент регуляризации;\n",
    "- для решающего дерева - глубина, а также количество признаков, учитываемых при поиске лучшего разделения;\n",
    "- для случайного леса - глубина и число деревьев;\n",
    "- для CatBoost - число итераций.\n",
    "\n",
    "Лучшее значение RMSE на тестовой выборке оказалось у модели CatBoost (44,78), на втором месте случайный лес (45,34). Результат линейных регрессий примерно одинаковый (51). Хуже всех отработало дерево решений (55,32). Однако итоговая метрика каждой модели значительно выше, чем у базовых моделей предсказания константой и предыдущими значениями."
   ]
  }
 ],
 "metadata": {
  "ExecuteTimeLog": [
   {
    "duration": 2163,
    "start_time": "2022-01-24T20:36:10.020Z"
   },
   {
    "duration": 72,
    "start_time": "2022-01-24T20:36:33.070Z"
   },
   {
    "duration": 10,
    "start_time": "2022-01-24T20:36:44.452Z"
   },
   {
    "duration": 365,
    "start_time": "2022-01-24T20:36:56.606Z"
   },
   {
    "duration": 8,
    "start_time": "2022-01-24T20:37:00.192Z"
   },
   {
    "duration": 10,
    "start_time": "2022-01-24T20:46:52.105Z"
   },
   {
    "duration": 10,
    "start_time": "2022-01-24T20:55:37.913Z"
   },
   {
    "duration": 237,
    "start_time": "2022-01-24T20:55:58.202Z"
   },
   {
    "duration": 5,
    "start_time": "2022-01-24T20:56:01.302Z"
   },
   {
    "duration": 252,
    "start_time": "2022-01-24T21:03:52.520Z"
   },
   {
    "duration": 4,
    "start_time": "2022-01-24T21:06:46.893Z"
   },
   {
    "duration": 3,
    "start_time": "2022-01-24T21:07:54.419Z"
   },
   {
    "duration": 303,
    "start_time": "2022-01-24T21:08:03.892Z"
   },
   {
    "duration": 287,
    "start_time": "2022-01-24T21:08:49.911Z"
   },
   {
    "duration": 359,
    "start_time": "2022-01-24T21:08:57.870Z"
   },
   {
    "duration": 290,
    "start_time": "2022-01-24T21:09:39.870Z"
   },
   {
    "duration": 299,
    "start_time": "2022-01-24T21:09:44.020Z"
   },
   {
    "duration": 364,
    "start_time": "2022-01-24T21:16:41.731Z"
   },
   {
    "duration": 490,
    "start_time": "2022-01-24T21:16:49.428Z"
   },
   {
    "duration": 551,
    "start_time": "2022-01-24T21:18:37.682Z"
   },
   {
    "duration": 511,
    "start_time": "2022-01-24T21:19:13.368Z"
   },
   {
    "duration": 7,
    "start_time": "2022-01-24T21:22:17.023Z"
   },
   {
    "duration": 1168,
    "start_time": "2022-01-25T16:01:31.563Z"
   },
   {
    "duration": 456,
    "start_time": "2022-01-25T16:01:32.733Z"
   },
   {
    "duration": 9,
    "start_time": "2022-01-25T16:01:33.191Z"
   },
   {
    "duration": 6,
    "start_time": "2022-01-25T16:01:33.202Z"
   },
   {
    "duration": 11,
    "start_time": "2022-01-25T16:01:33.209Z"
   },
   {
    "duration": 8,
    "start_time": "2022-01-25T16:01:33.221Z"
   },
   {
    "duration": 5,
    "start_time": "2022-01-25T16:01:33.231Z"
   },
   {
    "duration": 5,
    "start_time": "2022-01-25T16:01:33.237Z"
   },
   {
    "duration": 7,
    "start_time": "2022-01-25T16:01:33.244Z"
   },
   {
    "duration": 395,
    "start_time": "2022-01-25T16:01:33.252Z"
   },
   {
    "duration": 1164,
    "start_time": "2022-01-25T17:16:32.677Z"
   },
   {
    "duration": 30,
    "start_time": "2022-01-25T17:16:33.843Z"
   },
   {
    "duration": 9,
    "start_time": "2022-01-25T17:16:33.874Z"
   },
   {
    "duration": 6,
    "start_time": "2022-01-25T17:16:33.884Z"
   },
   {
    "duration": 9,
    "start_time": "2022-01-25T17:16:33.891Z"
   },
   {
    "duration": 25,
    "start_time": "2022-01-25T17:16:33.902Z"
   },
   {
    "duration": 4,
    "start_time": "2022-01-25T17:16:33.928Z"
   },
   {
    "duration": 4,
    "start_time": "2022-01-25T17:16:33.934Z"
   },
   {
    "duration": 5,
    "start_time": "2022-01-25T17:16:33.940Z"
   },
   {
    "duration": 385,
    "start_time": "2022-01-25T17:16:33.946Z"
   },
   {
    "duration": 6,
    "start_time": "2022-01-25T17:18:44.306Z"
   },
   {
    "duration": 489,
    "start_time": "2022-01-25T17:19:18.868Z"
   },
   {
    "duration": 5,
    "start_time": "2022-01-25T17:19:36.212Z"
   },
   {
    "duration": 491,
    "start_time": "2022-01-25T17:19:36.982Z"
   },
   {
    "duration": 437,
    "start_time": "2022-01-25T17:19:50.570Z"
   },
   {
    "duration": 406,
    "start_time": "2022-01-25T17:24:16.076Z"
   },
   {
    "duration": 16,
    "start_time": "2022-01-25T17:25:28.365Z"
   },
   {
    "duration": 107,
    "start_time": "2022-01-25T17:25:52.530Z"
   },
   {
    "duration": 9,
    "start_time": "2022-01-25T17:27:54.007Z"
   },
   {
    "duration": 3,
    "start_time": "2022-01-25T17:28:05.909Z"
   },
   {
    "duration": 937,
    "start_time": "2022-01-25T17:28:16.781Z"
   },
   {
    "duration": 1109,
    "start_time": "2022-01-25T17:28:38.718Z"
   },
   {
    "duration": 1076,
    "start_time": "2022-01-25T17:30:16.559Z"
   },
   {
    "duration": 1314,
    "start_time": "2022-01-25T17:30:42.897Z"
   },
   {
    "duration": 335,
    "start_time": "2022-01-25T17:34:48.865Z"
   },
   {
    "duration": 400,
    "start_time": "2022-01-25T17:35:16.690Z"
   },
   {
    "duration": 339,
    "start_time": "2022-01-25T17:36:04.516Z"
   },
   {
    "duration": 267,
    "start_time": "2022-01-25T17:36:17.491Z"
   },
   {
    "duration": 248,
    "start_time": "2022-01-25T17:36:33.769Z"
   },
   {
    "duration": 259,
    "start_time": "2022-01-25T17:36:46.307Z"
   },
   {
    "duration": 249,
    "start_time": "2022-01-25T17:36:55.742Z"
   },
   {
    "duration": 935,
    "start_time": "2022-01-25T17:50:33.711Z"
   },
   {
    "duration": 1005,
    "start_time": "2022-01-25T17:50:48.273Z"
   },
   {
    "duration": 947,
    "start_time": "2022-01-25T17:51:00.112Z"
   },
   {
    "duration": 1386,
    "start_time": "2022-01-25T17:51:23.698Z"
   },
   {
    "duration": 1202,
    "start_time": "2022-01-25T17:52:12.037Z"
   },
   {
    "duration": 1233,
    "start_time": "2022-01-25T17:54:48.668Z"
   },
   {
    "duration": 1341,
    "start_time": "2022-01-25T17:54:57.240Z"
   },
   {
    "duration": 1007,
    "start_time": "2022-01-25T17:55:42.753Z"
   },
   {
    "duration": 379,
    "start_time": "2022-01-25T17:56:29.382Z"
   },
   {
    "duration": 377,
    "start_time": "2022-01-25T17:56:37.166Z"
   },
   {
    "duration": 480,
    "start_time": "2022-01-25T17:56:47.055Z"
   },
   {
    "duration": 375,
    "start_time": "2022-01-25T17:56:59.217Z"
   },
   {
    "duration": 358,
    "start_time": "2022-01-25T17:57:28.231Z"
   },
   {
    "duration": 785,
    "start_time": "2022-01-25T17:58:04.907Z"
   },
   {
    "duration": 377,
    "start_time": "2022-01-25T18:07:31.607Z"
   },
   {
    "duration": 375,
    "start_time": "2022-01-25T18:07:37.054Z"
   },
   {
    "duration": 382,
    "start_time": "2022-01-25T18:07:53.510Z"
   },
   {
    "duration": 3,
    "start_time": "2022-01-25T18:08:11.757Z"
   },
   {
    "duration": 33,
    "start_time": "2022-01-25T18:08:13.580Z"
   },
   {
    "duration": 5,
    "start_time": "2022-01-25T18:08:15.495Z"
   },
   {
    "duration": 7,
    "start_time": "2022-01-25T18:08:17.194Z"
   },
   {
    "duration": 9,
    "start_time": "2022-01-25T18:08:19.448Z"
   },
   {
    "duration": 8,
    "start_time": "2022-01-25T18:08:21.248Z"
   },
   {
    "duration": 5,
    "start_time": "2022-01-25T18:08:22.458Z"
   },
   {
    "duration": 3,
    "start_time": "2022-01-25T18:11:16.071Z"
   },
   {
    "duration": 3,
    "start_time": "2022-01-25T18:11:18.664Z"
   },
   {
    "duration": 463,
    "start_time": "2022-01-25T18:11:20.984Z"
   },
   {
    "duration": 5,
    "start_time": "2022-01-25T18:11:28.084Z"
   },
   {
    "duration": 446,
    "start_time": "2022-01-25T18:11:31.204Z"
   },
   {
    "duration": 4,
    "start_time": "2022-01-25T18:11:39.996Z"
   },
   {
    "duration": 996,
    "start_time": "2022-01-25T18:12:42.878Z"
   },
   {
    "duration": 1048,
    "start_time": "2022-01-25T18:25:54.589Z"
   },
   {
    "duration": 1368,
    "start_time": "2022-01-25T18:26:54.667Z"
   },
   {
    "duration": 838,
    "start_time": "2022-01-25T18:27:07.594Z"
   },
   {
    "duration": 987,
    "start_time": "2022-01-25T18:28:06.794Z"
   },
   {
    "duration": 958,
    "start_time": "2022-01-25T18:28:23.742Z"
   },
   {
    "duration": 911,
    "start_time": "2022-01-25T18:28:27.868Z"
   },
   {
    "duration": 1002,
    "start_time": "2022-01-25T18:28:38.844Z"
   },
   {
    "duration": 972,
    "start_time": "2022-01-25T18:28:42.442Z"
   },
   {
    "duration": 1017,
    "start_time": "2022-01-25T18:28:45.549Z"
   },
   {
    "duration": 1193,
    "start_time": "2022-01-25T18:28:50.218Z"
   },
   {
    "duration": 1009,
    "start_time": "2022-01-25T18:28:54.531Z"
   },
   {
    "duration": 846,
    "start_time": "2022-01-25T18:29:03.184Z"
   },
   {
    "duration": 1003,
    "start_time": "2022-01-25T18:29:08.519Z"
   },
   {
    "duration": 204,
    "start_time": "2022-01-25T18:34:30.417Z"
   },
   {
    "duration": 111,
    "start_time": "2022-01-25T18:34:38.538Z"
   },
   {
    "duration": 209,
    "start_time": "2022-01-25T18:34:48.175Z"
   },
   {
    "duration": 1016,
    "start_time": "2022-01-25T18:41:24.358Z"
   },
   {
    "duration": 6,
    "start_time": "2022-01-25T19:11:57.635Z"
   },
   {
    "duration": 8,
    "start_time": "2022-01-25T19:24:59.225Z"
   },
   {
    "duration": 115,
    "start_time": "2022-01-25T19:25:38.365Z"
   },
   {
    "duration": 103,
    "start_time": "2022-01-25T19:26:12.477Z"
   },
   {
    "duration": 106,
    "start_time": "2022-01-25T19:26:17.090Z"
   },
   {
    "duration": 97,
    "start_time": "2022-01-25T19:26:22.186Z"
   },
   {
    "duration": 8,
    "start_time": "2022-01-25T19:27:42.142Z"
   },
   {
    "duration": 108,
    "start_time": "2022-01-25T19:28:04.717Z"
   },
   {
    "duration": 7,
    "start_time": "2022-01-25T19:28:30.230Z"
   },
   {
    "duration": 116,
    "start_time": "2022-01-25T19:31:29.281Z"
   },
   {
    "duration": 319,
    "start_time": "2022-01-25T19:31:33.386Z"
   },
   {
    "duration": 368,
    "start_time": "2022-01-25T19:31:39.765Z"
   },
   {
    "duration": 9,
    "start_time": "2022-01-25T19:31:47.523Z"
   },
   {
    "duration": 7,
    "start_time": "2022-01-25T19:32:21.419Z"
   },
   {
    "duration": 8,
    "start_time": "2022-01-25T19:32:25.397Z"
   },
   {
    "duration": 4,
    "start_time": "2022-01-25T19:35:12.902Z"
   },
   {
    "duration": 1153,
    "start_time": "2022-01-26T16:34:37.865Z"
   },
   {
    "duration": 29,
    "start_time": "2022-01-26T16:34:39.020Z"
   },
   {
    "duration": 8,
    "start_time": "2022-01-26T16:34:39.051Z"
   },
   {
    "duration": 6,
    "start_time": "2022-01-26T16:34:39.061Z"
   },
   {
    "duration": 9,
    "start_time": "2022-01-26T16:34:39.068Z"
   },
   {
    "duration": 10,
    "start_time": "2022-01-26T16:34:39.078Z"
   },
   {
    "duration": 4,
    "start_time": "2022-01-26T16:34:39.089Z"
   },
   {
    "duration": 3,
    "start_time": "2022-01-26T16:34:39.095Z"
   },
   {
    "duration": 29,
    "start_time": "2022-01-26T16:34:39.100Z"
   },
   {
    "duration": 389,
    "start_time": "2022-01-26T16:34:39.130Z"
   },
   {
    "duration": 10,
    "start_time": "2022-01-26T16:34:39.520Z"
   },
   {
    "duration": 415,
    "start_time": "2022-01-26T16:34:39.531Z"
   },
   {
    "duration": 4,
    "start_time": "2022-01-26T16:34:39.948Z"
   },
   {
    "duration": 1067,
    "start_time": "2022-01-26T16:34:39.954Z"
   },
   {
    "duration": 227,
    "start_time": "2022-01-26T16:34:41.022Z"
   },
   {
    "duration": 8,
    "start_time": "2022-01-26T16:34:41.251Z"
   },
   {
    "duration": 11,
    "start_time": "2022-01-26T16:34:41.260Z"
   },
   {
    "duration": 5,
    "start_time": "2022-01-26T16:34:41.272Z"
   },
   {
    "duration": 779,
    "start_time": "2022-01-26T17:41:41.084Z"
   },
   {
    "duration": 4,
    "start_time": "2022-01-26T17:41:57.135Z"
   },
   {
    "duration": 12,
    "start_time": "2022-01-26T17:41:59.184Z"
   },
   {
    "duration": 21,
    "start_time": "2022-01-26T17:42:10.310Z"
   },
   {
    "duration": 4,
    "start_time": "2022-01-26T17:50:29.759Z"
   },
   {
    "duration": 10,
    "start_time": "2022-01-26T17:50:38.372Z"
   },
   {
    "duration": 15,
    "start_time": "2022-01-26T17:50:45.910Z"
   },
   {
    "duration": 5,
    "start_time": "2022-01-26T17:51:01.824Z"
   },
   {
    "duration": 4,
    "start_time": "2022-01-26T17:51:38.398Z"
   },
   {
    "duration": 6,
    "start_time": "2022-01-26T17:52:00.259Z"
   },
   {
    "duration": 4,
    "start_time": "2022-01-26T17:55:28.615Z"
   },
   {
    "duration": 7,
    "start_time": "2022-01-26T17:55:45.065Z"
   },
   {
    "duration": 6,
    "start_time": "2022-01-26T17:56:08.403Z"
   },
   {
    "duration": 8,
    "start_time": "2022-01-26T18:00:16.060Z"
   },
   {
    "duration": 396,
    "start_time": "2022-01-26T18:08:09.542Z"
   },
   {
    "duration": 381,
    "start_time": "2022-01-26T18:08:36.668Z"
   },
   {
    "duration": 423,
    "start_time": "2022-01-26T18:08:39.783Z"
   },
   {
    "duration": 15,
    "start_time": "2022-01-26T18:09:02.543Z"
   },
   {
    "duration": 3,
    "start_time": "2022-01-26T18:15:58.589Z"
   },
   {
    "duration": 3,
    "start_time": "2022-01-26T18:16:54.304Z"
   },
   {
    "duration": 141,
    "start_time": "2022-01-26T18:18:53.732Z"
   },
   {
    "duration": 3,
    "start_time": "2022-01-26T18:19:02.870Z"
   },
   {
    "duration": 469,
    "start_time": "2022-01-26T18:45:43.392Z"
   },
   {
    "duration": 3,
    "start_time": "2022-01-26T18:45:49.992Z"
   },
   {
    "duration": 7,
    "start_time": "2022-01-26T18:45:52.220Z"
   },
   {
    "duration": 3,
    "start_time": "2022-01-26T18:46:05.517Z"
   },
   {
    "duration": 8,
    "start_time": "2022-01-26T18:46:25.482Z"
   },
   {
    "duration": 4,
    "start_time": "2022-01-26T19:06:36.706Z"
   },
   {
    "duration": 5,
    "start_time": "2022-01-26T19:06:49.069Z"
   },
   {
    "duration": 6,
    "start_time": "2022-01-26T19:18:07.863Z"
   },
   {
    "duration": 30,
    "start_time": "2022-01-26T19:18:10.631Z"
   },
   {
    "duration": 6,
    "start_time": "2022-01-26T19:18:12.257Z"
   },
   {
    "duration": 7,
    "start_time": "2022-01-26T19:18:13.755Z"
   },
   {
    "duration": 8,
    "start_time": "2022-01-26T19:18:15.630Z"
   },
   {
    "duration": 9,
    "start_time": "2022-01-26T19:18:17.542Z"
   },
   {
    "duration": 5,
    "start_time": "2022-01-26T19:18:18.174Z"
   },
   {
    "duration": 3,
    "start_time": "2022-01-26T19:18:19.905Z"
   },
   {
    "duration": 4,
    "start_time": "2022-01-26T19:18:21.792Z"
   },
   {
    "duration": 366,
    "start_time": "2022-01-26T19:18:23.631Z"
   },
   {
    "duration": 7,
    "start_time": "2022-01-26T19:18:27.006Z"
   },
   {
    "duration": 422,
    "start_time": "2022-01-26T19:18:30.107Z"
   },
   {
    "duration": 3,
    "start_time": "2022-01-26T19:18:32.430Z"
   },
   {
    "duration": 1114,
    "start_time": "2022-01-26T19:18:33.969Z"
   },
   {
    "duration": 212,
    "start_time": "2022-01-26T19:18:38.231Z"
   },
   {
    "duration": 7,
    "start_time": "2022-01-26T19:21:05.941Z"
   },
   {
    "duration": 8,
    "start_time": "2022-01-26T19:21:08.021Z"
   },
   {
    "duration": 3,
    "start_time": "2022-01-26T19:21:10.760Z"
   },
   {
    "duration": 11,
    "start_time": "2022-01-26T19:21:12.871Z"
   },
   {
    "duration": 3,
    "start_time": "2022-01-26T19:21:15.062Z"
   },
   {
    "duration": 7,
    "start_time": "2022-01-26T19:21:15.498Z"
   },
   {
    "duration": 4,
    "start_time": "2022-01-26T19:21:20.039Z"
   },
   {
    "duration": 7,
    "start_time": "2022-01-26T19:21:21.546Z"
   },
   {
    "duration": 7,
    "start_time": "2022-01-26T19:21:27.959Z"
   },
   {
    "duration": 2,
    "start_time": "2022-01-26T19:21:29.809Z"
   },
   {
    "duration": 4,
    "start_time": "2022-01-26T19:21:32.372Z"
   },
   {
    "duration": 3,
    "start_time": "2022-01-26T19:21:43.073Z"
   },
   {
    "duration": 2,
    "start_time": "2022-01-26T19:21:45.310Z"
   },
   {
    "duration": 8,
    "start_time": "2022-01-26T19:21:47.210Z"
   },
   {
    "duration": 7,
    "start_time": "2022-01-26T19:21:48.386Z"
   },
   {
    "duration": 532,
    "start_time": "2022-01-26T19:31:38.973Z"
   },
   {
    "duration": 530,
    "start_time": "2022-01-26T19:32:29.900Z"
   },
   {
    "duration": 3,
    "start_time": "2022-01-26T19:32:34.611Z"
   },
   {
    "duration": 232,
    "start_time": "2022-01-26T19:32:48.099Z"
   },
   {
    "duration": 72,
    "start_time": "2022-01-26T19:33:06.263Z"
   },
   {
    "duration": 24,
    "start_time": "2022-01-26T19:33:12.977Z"
   },
   {
    "duration": 5,
    "start_time": "2022-01-26T19:33:37.575Z"
   },
   {
    "duration": 27,
    "start_time": "2022-01-26T19:33:44.980Z"
   },
   {
    "duration": 2,
    "start_time": "2022-01-26T19:34:07.676Z"
   },
   {
    "duration": 24,
    "start_time": "2022-01-26T19:34:08.575Z"
   },
   {
    "duration": 2,
    "start_time": "2022-01-26T19:34:15.331Z"
   },
   {
    "duration": 23,
    "start_time": "2022-01-26T19:34:17.334Z"
   },
   {
    "duration": 3,
    "start_time": "2022-01-26T19:34:23.926Z"
   },
   {
    "duration": 34,
    "start_time": "2022-01-26T19:34:24.450Z"
   },
   {
    "duration": 3,
    "start_time": "2022-01-26T19:34:32.490Z"
   },
   {
    "duration": 32,
    "start_time": "2022-01-26T19:34:33.702Z"
   },
   {
    "duration": 3,
    "start_time": "2022-01-26T19:34:38.062Z"
   },
   {
    "duration": 24,
    "start_time": "2022-01-26T19:34:38.601Z"
   },
   {
    "duration": 3,
    "start_time": "2022-01-26T19:34:42.979Z"
   },
   {
    "duration": 3,
    "start_time": "2022-01-26T19:34:47.501Z"
   },
   {
    "duration": 23,
    "start_time": "2022-01-26T19:34:48.281Z"
   },
   {
    "duration": 3,
    "start_time": "2022-01-26T19:34:52.028Z"
   },
   {
    "duration": 23,
    "start_time": "2022-01-26T19:34:52.477Z"
   },
   {
    "duration": 3,
    "start_time": "2022-01-26T19:34:57.219Z"
   },
   {
    "duration": 23,
    "start_time": "2022-01-26T19:34:57.738Z"
   },
   {
    "duration": 3,
    "start_time": "2022-01-26T19:45:12.769Z"
   },
   {
    "duration": 175,
    "start_time": "2022-01-26T19:45:14.266Z"
   },
   {
    "duration": 3,
    "start_time": "2022-01-26T19:45:24.802Z"
   },
   {
    "duration": 2283,
    "start_time": "2022-01-26T19:45:25.364Z"
   },
   {
    "duration": 2,
    "start_time": "2022-01-26T19:45:42.528Z"
   },
   {
    "duration": 191,
    "start_time": "2022-01-26T19:45:45.252Z"
   },
   {
    "duration": 2,
    "start_time": "2022-01-26T19:46:10.223Z"
   },
   {
    "duration": 2648,
    "start_time": "2022-01-26T19:46:11.191Z"
   },
   {
    "duration": 2,
    "start_time": "2022-01-26T19:46:33.770Z"
   },
   {
    "duration": 4755,
    "start_time": "2022-01-26T19:46:34.579Z"
   },
   {
    "duration": 3,
    "start_time": "2022-01-26T19:47:19.931Z"
   },
   {
    "duration": 4814,
    "start_time": "2022-01-26T19:47:20.619Z"
   },
   {
    "duration": 4,
    "start_time": "2022-01-26T19:49:22.214Z"
   },
   {
    "duration": 4,
    "start_time": "2022-01-26T19:49:27.670Z"
   },
   {
    "duration": 4634,
    "start_time": "2022-01-26T19:49:36.313Z"
   },
   {
    "duration": 6,
    "start_time": "2022-01-26T19:50:03.958Z"
   },
   {
    "duration": 7,
    "start_time": "2022-01-26T19:51:18.523Z"
   },
   {
    "duration": 1182,
    "start_time": "2022-01-26T19:52:04.339Z"
   },
   {
    "duration": 28,
    "start_time": "2022-01-26T19:52:05.523Z"
   },
   {
    "duration": 8,
    "start_time": "2022-01-26T19:52:05.553Z"
   },
   {
    "duration": 6,
    "start_time": "2022-01-26T19:52:05.563Z"
   },
   {
    "duration": 7,
    "start_time": "2022-01-26T19:52:05.571Z"
   },
   {
    "duration": 8,
    "start_time": "2022-01-26T19:52:05.580Z"
   },
   {
    "duration": 4,
    "start_time": "2022-01-26T19:52:05.589Z"
   },
   {
    "duration": 5,
    "start_time": "2022-01-26T19:52:05.595Z"
   },
   {
    "duration": 4,
    "start_time": "2022-01-26T19:52:05.602Z"
   },
   {
    "duration": 376,
    "start_time": "2022-01-26T19:52:05.627Z"
   },
   {
    "duration": 6,
    "start_time": "2022-01-26T19:52:06.004Z"
   },
   {
    "duration": 418,
    "start_time": "2022-01-26T19:52:06.012Z"
   },
   {
    "duration": 4,
    "start_time": "2022-01-26T19:52:06.431Z"
   },
   {
    "duration": 1053,
    "start_time": "2022-01-26T19:52:06.436Z"
   },
   {
    "duration": 220,
    "start_time": "2022-01-26T19:52:07.490Z"
   },
   {
    "duration": 16,
    "start_time": "2022-01-26T19:52:07.712Z"
   },
   {
    "duration": 7,
    "start_time": "2022-01-26T19:52:07.729Z"
   },
   {
    "duration": 4,
    "start_time": "2022-01-26T19:52:07.737Z"
   },
   {
    "duration": 13,
    "start_time": "2022-01-26T19:52:07.743Z"
   },
   {
    "duration": 4,
    "start_time": "2022-01-26T19:52:07.757Z"
   },
   {
    "duration": 9,
    "start_time": "2022-01-26T19:52:07.762Z"
   },
   {
    "duration": 2,
    "start_time": "2022-01-26T19:52:07.773Z"
   },
   {
    "duration": 7,
    "start_time": "2022-01-26T19:52:07.778Z"
   },
   {
    "duration": 6,
    "start_time": "2022-01-26T19:52:07.787Z"
   },
   {
    "duration": 2,
    "start_time": "2022-01-26T19:52:07.827Z"
   },
   {
    "duration": 5,
    "start_time": "2022-01-26T19:52:07.830Z"
   },
   {
    "duration": 7,
    "start_time": "2022-01-26T19:52:07.837Z"
   },
   {
    "duration": 5,
    "start_time": "2022-01-26T19:52:07.845Z"
   },
   {
    "duration": 8,
    "start_time": "2022-01-26T19:52:07.852Z"
   },
   {
    "duration": 8,
    "start_time": "2022-01-26T19:52:07.862Z"
   },
   {
    "duration": 60,
    "start_time": "2022-01-26T19:52:07.872Z"
   },
   {
    "duration": 4813,
    "start_time": "2022-01-26T19:52:07.934Z"
   },
   {
    "duration": 4799,
    "start_time": "2022-01-26T19:52:12.749Z"
   },
   {
    "duration": 6,
    "start_time": "2022-01-26T19:52:17.549Z"
   },
   {
    "duration": 508,
    "start_time": "2022-01-26T19:52:17.556Z"
   },
   {
    "duration": -1262,
    "start_time": "2022-01-26T19:52:19.328Z"
   },
   {
    "duration": -1266,
    "start_time": "2022-01-26T19:52:19.333Z"
   },
   {
    "duration": -1273,
    "start_time": "2022-01-26T19:52:19.340Z"
   },
   {
    "duration": -1285,
    "start_time": "2022-01-26T19:52:19.354Z"
   },
   {
    "duration": -1290,
    "start_time": "2022-01-26T19:52:19.360Z"
   },
   {
    "duration": -1295,
    "start_time": "2022-01-26T19:52:19.365Z"
   },
   {
    "duration": -1300,
    "start_time": "2022-01-26T19:52:19.371Z"
   },
   {
    "duration": -1305,
    "start_time": "2022-01-26T19:52:19.377Z"
   },
   {
    "duration": -1309,
    "start_time": "2022-01-26T19:52:19.382Z"
   },
   {
    "duration": 4,
    "start_time": "2022-01-26T19:53:24.953Z"
   },
   {
    "duration": 7,
    "start_time": "2022-01-26T19:56:41.257Z"
   },
   {
    "duration": 3,
    "start_time": "2022-01-26T20:00:56.787Z"
   },
   {
    "duration": 5091,
    "start_time": "2022-01-26T20:00:59.062Z"
   },
   {
    "duration": 7,
    "start_time": "2022-01-26T20:01:12.888Z"
   },
   {
    "duration": 6,
    "start_time": "2022-01-26T20:02:03.100Z"
   },
   {
    "duration": 7,
    "start_time": "2022-01-26T20:02:13.452Z"
   },
   {
    "duration": 1193,
    "start_time": "2022-01-26T20:02:33.334Z"
   },
   {
    "duration": 29,
    "start_time": "2022-01-26T20:02:34.529Z"
   },
   {
    "duration": 8,
    "start_time": "2022-01-26T20:02:34.560Z"
   },
   {
    "duration": 10,
    "start_time": "2022-01-26T20:02:34.569Z"
   },
   {
    "duration": 17,
    "start_time": "2022-01-26T20:02:34.580Z"
   },
   {
    "duration": 8,
    "start_time": "2022-01-26T20:02:34.599Z"
   },
   {
    "duration": 7,
    "start_time": "2022-01-26T20:02:34.608Z"
   },
   {
    "duration": 4,
    "start_time": "2022-01-26T20:02:34.617Z"
   },
   {
    "duration": 6,
    "start_time": "2022-01-26T20:02:34.622Z"
   },
   {
    "duration": 393,
    "start_time": "2022-01-26T20:02:34.629Z"
   },
   {
    "duration": 5,
    "start_time": "2022-01-26T20:02:35.027Z"
   },
   {
    "duration": 418,
    "start_time": "2022-01-26T20:02:35.034Z"
   },
   {
    "duration": 4,
    "start_time": "2022-01-26T20:02:35.453Z"
   },
   {
    "duration": 1048,
    "start_time": "2022-01-26T20:02:35.458Z"
   },
   {
    "duration": 216,
    "start_time": "2022-01-26T20:02:36.507Z"
   },
   {
    "duration": 7,
    "start_time": "2022-01-26T20:02:36.724Z"
   },
   {
    "duration": 7,
    "start_time": "2022-01-26T20:02:36.732Z"
   },
   {
    "duration": 4,
    "start_time": "2022-01-26T20:02:36.740Z"
   },
   {
    "duration": 13,
    "start_time": "2022-01-26T20:02:36.745Z"
   },
   {
    "duration": 3,
    "start_time": "2022-01-26T20:02:36.759Z"
   },
   {
    "duration": 7,
    "start_time": "2022-01-26T20:02:36.763Z"
   },
   {
    "duration": 3,
    "start_time": "2022-01-26T20:02:36.772Z"
   },
   {
    "duration": 5,
    "start_time": "2022-01-26T20:02:36.778Z"
   },
   {
    "duration": 45,
    "start_time": "2022-01-26T20:02:36.785Z"
   },
   {
    "duration": 2,
    "start_time": "2022-01-26T20:02:36.832Z"
   },
   {
    "duration": 6,
    "start_time": "2022-01-26T20:02:36.835Z"
   },
   {
    "duration": 6,
    "start_time": "2022-01-26T20:02:36.842Z"
   },
   {
    "duration": 4,
    "start_time": "2022-01-26T20:02:36.850Z"
   },
   {
    "duration": 8,
    "start_time": "2022-01-26T20:02:36.855Z"
   },
   {
    "duration": 6,
    "start_time": "2022-01-26T20:02:36.864Z"
   },
   {
    "duration": 55,
    "start_time": "2022-01-26T20:02:36.872Z"
   },
   {
    "duration": 5715,
    "start_time": "2022-01-26T20:02:36.929Z"
   },
   {
    "duration": 5,
    "start_time": "2022-01-26T20:02:42.646Z"
   },
   {
    "duration": 76,
    "start_time": "2022-01-26T20:02:42.653Z"
   },
   {
    "duration": 726,
    "start_time": "2022-01-26T20:02:42.731Z"
   },
   {
    "duration": -1257,
    "start_time": "2022-01-26T20:02:44.715Z"
   },
   {
    "duration": -1261,
    "start_time": "2022-01-26T20:02:44.720Z"
   },
   {
    "duration": -1267,
    "start_time": "2022-01-26T20:02:44.727Z"
   },
   {
    "duration": -1272,
    "start_time": "2022-01-26T20:02:44.733Z"
   },
   {
    "duration": -1279,
    "start_time": "2022-01-26T20:02:44.741Z"
   },
   {
    "duration": -1284,
    "start_time": "2022-01-26T20:02:44.747Z"
   },
   {
    "duration": -1288,
    "start_time": "2022-01-26T20:02:44.752Z"
   },
   {
    "duration": -1303,
    "start_time": "2022-01-26T20:02:44.767Z"
   },
   {
    "duration": -1309,
    "start_time": "2022-01-26T20:02:44.774Z"
   },
   {
    "duration": 1227,
    "start_time": "2022-01-26T20:04:33.633Z"
   },
   {
    "duration": 36,
    "start_time": "2022-01-26T20:04:34.862Z"
   },
   {
    "duration": 11,
    "start_time": "2022-01-26T20:04:34.903Z"
   },
   {
    "duration": 17,
    "start_time": "2022-01-26T20:04:34.916Z"
   },
   {
    "duration": 8,
    "start_time": "2022-01-26T20:04:34.934Z"
   },
   {
    "duration": 8,
    "start_time": "2022-01-26T20:04:34.943Z"
   },
   {
    "duration": 4,
    "start_time": "2022-01-26T20:04:34.953Z"
   },
   {
    "duration": 3,
    "start_time": "2022-01-26T20:04:34.959Z"
   },
   {
    "duration": 7,
    "start_time": "2022-01-26T20:04:34.964Z"
   },
   {
    "duration": 406,
    "start_time": "2022-01-26T20:04:34.972Z"
   },
   {
    "duration": 5,
    "start_time": "2022-01-26T20:04:35.380Z"
   },
   {
    "duration": 423,
    "start_time": "2022-01-26T20:04:35.386Z"
   },
   {
    "duration": 3,
    "start_time": "2022-01-26T20:04:35.811Z"
   },
   {
    "duration": 1068,
    "start_time": "2022-01-26T20:04:35.815Z"
   },
   {
    "duration": 220,
    "start_time": "2022-01-26T20:04:36.885Z"
   },
   {
    "duration": 7,
    "start_time": "2022-01-26T20:04:37.107Z"
   },
   {
    "duration": 16,
    "start_time": "2022-01-26T20:04:37.116Z"
   },
   {
    "duration": 4,
    "start_time": "2022-01-26T20:04:37.133Z"
   },
   {
    "duration": 14,
    "start_time": "2022-01-26T20:04:37.139Z"
   },
   {
    "duration": 3,
    "start_time": "2022-01-26T20:04:37.154Z"
   },
   {
    "duration": 6,
    "start_time": "2022-01-26T20:04:37.159Z"
   },
   {
    "duration": 3,
    "start_time": "2022-01-26T20:04:37.168Z"
   },
   {
    "duration": 6,
    "start_time": "2022-01-26T20:04:37.174Z"
   },
   {
    "duration": 7,
    "start_time": "2022-01-26T20:04:37.182Z"
   },
   {
    "duration": 37,
    "start_time": "2022-01-26T20:04:37.190Z"
   },
   {
    "duration": 5,
    "start_time": "2022-01-26T20:04:37.229Z"
   },
   {
    "duration": 5,
    "start_time": "2022-01-26T20:04:37.236Z"
   },
   {
    "duration": 6,
    "start_time": "2022-01-26T20:04:37.243Z"
   },
   {
    "duration": 9,
    "start_time": "2022-01-26T20:04:37.251Z"
   },
   {
    "duration": 69,
    "start_time": "2022-01-26T20:04:37.262Z"
   },
   {
    "duration": 4,
    "start_time": "2022-01-26T20:04:37.333Z"
   },
   {
    "duration": 5210,
    "start_time": "2022-01-26T20:04:37.339Z"
   },
   {
    "duration": 77,
    "start_time": "2022-01-26T20:04:42.551Z"
   },
   {
    "duration": 10,
    "start_time": "2022-01-26T20:04:42.630Z"
   },
   {
    "duration": 6,
    "start_time": "2022-01-26T20:04:42.642Z"
   },
   {
    "duration": 5516,
    "start_time": "2022-01-26T20:04:42.650Z"
   },
   {
    "duration": 60,
    "start_time": "2022-01-26T20:04:48.172Z"
   },
   {
    "duration": 6,
    "start_time": "2022-01-26T20:04:48.234Z"
   },
   {
    "duration": 460,
    "start_time": "2022-01-26T20:04:48.242Z"
   },
   {
    "duration": -1246,
    "start_time": "2022-01-26T20:04:49.949Z"
   },
   {
    "duration": -1260,
    "start_time": "2022-01-26T20:04:49.965Z"
   },
   {
    "duration": -1269,
    "start_time": "2022-01-26T20:04:49.974Z"
   },
   {
    "duration": -1275,
    "start_time": "2022-01-26T20:04:49.981Z"
   },
   {
    "duration": -1281,
    "start_time": "2022-01-26T20:04:49.988Z"
   },
   {
    "duration": -1287,
    "start_time": "2022-01-26T20:04:49.995Z"
   },
   {
    "duration": -1293,
    "start_time": "2022-01-26T20:04:50.002Z"
   },
   {
    "duration": -1299,
    "start_time": "2022-01-26T20:04:50.009Z"
   },
   {
    "duration": -1304,
    "start_time": "2022-01-26T20:04:50.015Z"
   },
   {
    "duration": 1107,
    "start_time": "2022-01-26T20:05:17.465Z"
   },
   {
    "duration": 29,
    "start_time": "2022-01-26T20:05:18.574Z"
   },
   {
    "duration": 8,
    "start_time": "2022-01-26T20:05:18.605Z"
   },
   {
    "duration": 7,
    "start_time": "2022-01-26T20:05:18.614Z"
   },
   {
    "duration": 8,
    "start_time": "2022-01-26T20:05:18.626Z"
   },
   {
    "duration": 8,
    "start_time": "2022-01-26T20:05:18.635Z"
   },
   {
    "duration": 6,
    "start_time": "2022-01-26T20:05:18.644Z"
   },
   {
    "duration": 3,
    "start_time": "2022-01-26T20:05:18.652Z"
   },
   {
    "duration": 4,
    "start_time": "2022-01-26T20:05:18.657Z"
   },
   {
    "duration": 392,
    "start_time": "2022-01-26T20:05:18.662Z"
   },
   {
    "duration": 6,
    "start_time": "2022-01-26T20:05:19.055Z"
   },
   {
    "duration": 429,
    "start_time": "2022-01-26T20:05:19.062Z"
   },
   {
    "duration": 3,
    "start_time": "2022-01-26T20:05:19.493Z"
   },
   {
    "duration": 1108,
    "start_time": "2022-01-26T20:05:19.497Z"
   },
   {
    "duration": 217,
    "start_time": "2022-01-26T20:05:20.607Z"
   },
   {
    "duration": 7,
    "start_time": "2022-01-26T20:05:20.825Z"
   },
   {
    "duration": 8,
    "start_time": "2022-01-26T20:05:20.834Z"
   },
   {
    "duration": 4,
    "start_time": "2022-01-26T20:05:20.843Z"
   },
   {
    "duration": 17,
    "start_time": "2022-01-26T20:05:20.848Z"
   },
   {
    "duration": 4,
    "start_time": "2022-01-26T20:05:20.866Z"
   },
   {
    "duration": 9,
    "start_time": "2022-01-26T20:05:20.872Z"
   },
   {
    "duration": 3,
    "start_time": "2022-01-26T20:05:20.882Z"
   },
   {
    "duration": 7,
    "start_time": "2022-01-26T20:05:20.887Z"
   },
   {
    "duration": 35,
    "start_time": "2022-01-26T20:05:20.895Z"
   },
   {
    "duration": 4,
    "start_time": "2022-01-26T20:05:20.931Z"
   },
   {
    "duration": 4,
    "start_time": "2022-01-26T20:05:20.938Z"
   },
   {
    "duration": 7,
    "start_time": "2022-01-26T20:05:20.943Z"
   },
   {
    "duration": 12,
    "start_time": "2022-01-26T20:05:20.952Z"
   },
   {
    "duration": 10,
    "start_time": "2022-01-26T20:05:20.965Z"
   },
   {
    "duration": 53,
    "start_time": "2022-01-26T20:05:20.976Z"
   },
   {
    "duration": 3,
    "start_time": "2022-01-26T20:05:21.031Z"
   },
   {
    "duration": 5111,
    "start_time": "2022-01-26T20:05:21.036Z"
   },
   {
    "duration": 6,
    "start_time": "2022-01-26T20:05:26.148Z"
   },
   {
    "duration": 10,
    "start_time": "2022-01-26T20:05:26.227Z"
   },
   {
    "duration": 5,
    "start_time": "2022-01-26T20:05:26.239Z"
   },
   {
    "duration": 24681,
    "start_time": "2022-01-26T20:05:26.246Z"
   },
   {
    "duration": 98,
    "start_time": "2022-01-26T20:05:50.930Z"
   },
   {
    "duration": 105,
    "start_time": "2022-01-26T20:05:51.030Z"
   },
   {
    "duration": 394,
    "start_time": "2022-01-26T20:05:51.136Z"
   },
   {
    "duration": -1252,
    "start_time": "2022-01-26T20:05:52.784Z"
   },
   {
    "duration": -1259,
    "start_time": "2022-01-26T20:05:52.792Z"
   },
   {
    "duration": -1264,
    "start_time": "2022-01-26T20:05:52.798Z"
   },
   {
    "duration": -1269,
    "start_time": "2022-01-26T20:05:52.804Z"
   },
   {
    "duration": -1275,
    "start_time": "2022-01-26T20:05:52.810Z"
   },
   {
    "duration": -1279,
    "start_time": "2022-01-26T20:05:52.815Z"
   },
   {
    "duration": -1284,
    "start_time": "2022-01-26T20:05:52.821Z"
   },
   {
    "duration": -1290,
    "start_time": "2022-01-26T20:05:52.828Z"
   },
   {
    "duration": -1294,
    "start_time": "2022-01-26T20:05:52.833Z"
   },
   {
    "duration": 5,
    "start_time": "2022-01-26T20:08:53.048Z"
   },
   {
    "duration": 3,
    "start_time": "2022-01-26T20:09:27.121Z"
   },
   {
    "duration": 26172,
    "start_time": "2022-01-26T20:09:29.160Z"
   },
   {
    "duration": 10,
    "start_time": "2022-01-26T20:10:05.023Z"
   },
   {
    "duration": 7,
    "start_time": "2022-01-26T20:10:06.678Z"
   },
   {
    "duration": 3,
    "start_time": "2022-01-26T20:17:35.278Z"
   },
   {
    "duration": 700,
    "start_time": "2022-01-26T20:17:45.596Z"
   },
   {
    "duration": 695,
    "start_time": "2022-01-26T20:18:45.922Z"
   },
   {
    "duration": 2,
    "start_time": "2022-01-26T20:19:59.992Z"
   },
   {
    "duration": 935,
    "start_time": "2022-01-26T20:20:00.785Z"
   },
   {
    "duration": 2,
    "start_time": "2022-01-26T20:21:04.988Z"
   },
   {
    "duration": 813,
    "start_time": "2022-01-26T20:21:05.927Z"
   },
   {
    "duration": 3,
    "start_time": "2022-01-26T20:21:10.436Z"
   },
   {
    "duration": 1699,
    "start_time": "2022-01-26T20:21:11.300Z"
   },
   {
    "duration": 3,
    "start_time": "2022-01-26T20:21:17.586Z"
   },
   {
    "duration": 758,
    "start_time": "2022-01-26T20:21:18.450Z"
   },
   {
    "duration": 3,
    "start_time": "2022-01-26T20:21:22.194Z"
   },
   {
    "duration": 1201,
    "start_time": "2022-01-26T20:21:23.587Z"
   },
   {
    "duration": 3,
    "start_time": "2022-01-26T20:21:33.563Z"
   },
   {
    "duration": 5237,
    "start_time": "2022-01-26T20:21:36.880Z"
   },
   {
    "duration": 16,
    "start_time": "2022-01-26T20:21:56.318Z"
   },
   {
    "duration": 7,
    "start_time": "2022-01-26T20:22:04.075Z"
   },
   {
    "duration": 2,
    "start_time": "2022-01-26T20:23:18.491Z"
   },
   {
    "duration": 38470,
    "start_time": "2022-01-26T20:23:22.103Z"
   },
   {
    "duration": 3,
    "start_time": "2022-01-26T20:24:21.444Z"
   },
   {
    "duration": 79893,
    "start_time": "2022-01-26T20:24:22.144Z"
   },
   {
    "duration": 2,
    "start_time": "2022-01-26T20:26:04.871Z"
   },
   {
    "duration": 150919,
    "start_time": "2022-01-26T20:26:05.980Z"
   },
   {
    "duration": 3,
    "start_time": "2022-01-26T20:29:04.209Z"
   },
   {
    "duration": 743062,
    "start_time": "2022-01-26T20:29:10.171Z"
   },
   {
    "duration": 3,
    "start_time": "2022-01-26T20:48:20.220Z"
   },
   {
    "duration": 441500,
    "start_time": "2022-01-26T20:48:22.368Z"
   },
   {
    "duration": 3,
    "start_time": "2022-01-26T20:57:33.606Z"
   },
   {
    "duration": 247967,
    "start_time": "2022-01-26T20:57:35.606Z"
   },
   {
    "duration": 3,
    "start_time": "2022-01-26T21:02:23.512Z"
   },
   {
    "duration": 3,
    "start_time": "2022-01-26T21:04:47.689Z"
   },
   {
    "duration": 7312,
    "start_time": "2022-01-26T21:04:49.377Z"
   },
   {
    "duration": 3,
    "start_time": "2022-01-26T21:05:05.385Z"
   },
   {
    "duration": 356148,
    "start_time": "2022-01-26T21:05:06.718Z"
   },
   {
    "duration": 2945,
    "start_time": "2022-01-26T21:14:57.291Z"
   },
   {
    "duration": 7,
    "start_time": "2022-01-26T21:15:03.155Z"
   },
   {
    "duration": 3,
    "start_time": "2022-01-26T21:16:24.442Z"
   },
   {
    "duration": 1532,
    "start_time": "2022-01-27T05:55:02.846Z"
   },
   {
    "duration": 46,
    "start_time": "2022-01-27T05:55:04.380Z"
   },
   {
    "duration": 14,
    "start_time": "2022-01-27T05:55:04.429Z"
   },
   {
    "duration": 10,
    "start_time": "2022-01-27T05:55:04.447Z"
   },
   {
    "duration": 12,
    "start_time": "2022-01-27T05:55:04.460Z"
   },
   {
    "duration": 49,
    "start_time": "2022-01-27T05:55:04.475Z"
   },
   {
    "duration": 6,
    "start_time": "2022-01-27T05:55:04.527Z"
   },
   {
    "duration": 6,
    "start_time": "2022-01-27T05:55:04.537Z"
   },
   {
    "duration": 7,
    "start_time": "2022-01-27T05:55:04.546Z"
   },
   {
    "duration": 654,
    "start_time": "2022-01-27T05:55:04.555Z"
   },
   {
    "duration": 16,
    "start_time": "2022-01-27T05:55:05.212Z"
   },
   {
    "duration": 692,
    "start_time": "2022-01-27T05:55:05.231Z"
   },
   {
    "duration": 5,
    "start_time": "2022-01-27T05:55:05.925Z"
   },
   {
    "duration": 1739,
    "start_time": "2022-01-27T05:55:05.932Z"
   },
   {
    "duration": 361,
    "start_time": "2022-01-27T05:55:07.673Z"
   },
   {
    "duration": 11,
    "start_time": "2022-01-27T05:55:08.036Z"
   },
   {
    "duration": 11,
    "start_time": "2022-01-27T05:55:08.049Z"
   },
   {
    "duration": 6,
    "start_time": "2022-01-27T05:55:08.062Z"
   },
   {
    "duration": 58,
    "start_time": "2022-01-27T05:55:08.069Z"
   },
   {
    "duration": 5,
    "start_time": "2022-01-27T05:55:08.129Z"
   },
   {
    "duration": 10,
    "start_time": "2022-01-27T05:55:08.136Z"
   },
   {
    "duration": 6,
    "start_time": "2022-01-27T05:55:08.149Z"
   },
   {
    "duration": 12,
    "start_time": "2022-01-27T05:55:08.160Z"
   },
   {
    "duration": 50,
    "start_time": "2022-01-27T05:55:08.175Z"
   },
   {
    "duration": 3,
    "start_time": "2022-01-27T05:55:08.228Z"
   },
   {
    "duration": 10,
    "start_time": "2022-01-27T05:55:08.234Z"
   },
   {
    "duration": 5,
    "start_time": "2022-01-27T05:55:08.247Z"
   },
   {
    "duration": 5,
    "start_time": "2022-01-27T05:55:08.255Z"
   },
   {
    "duration": 11,
    "start_time": "2022-01-27T05:55:08.263Z"
   },
   {
    "duration": 16,
    "start_time": "2022-01-27T05:55:08.324Z"
   },
   {
    "duration": 83,
    "start_time": "2022-01-27T05:55:08.342Z"
   },
   {
    "duration": 12613,
    "start_time": "2022-01-27T05:55:08.427Z"
   },
   {
    "duration": 82,
    "start_time": "2022-01-27T05:55:21.043Z"
   },
   {
    "duration": 15,
    "start_time": "2022-01-27T05:55:21.128Z"
   },
   {
    "duration": 76,
    "start_time": "2022-01-27T05:55:21.147Z"
   },
   {
    "duration": 36500,
    "start_time": "2022-01-27T05:55:21.225Z"
   },
   {
    "duration": 103,
    "start_time": "2022-01-27T05:55:57.728Z"
   },
   {
    "duration": 109,
    "start_time": "2022-01-27T05:55:57.834Z"
   },
   {
    "duration": 174,
    "start_time": "2022-01-27T05:55:57.946Z"
   },
   {
    "duration": -2186,
    "start_time": "2022-01-27T05:56:00.309Z"
   },
   {
    "duration": -2193,
    "start_time": "2022-01-27T05:56:00.317Z"
   },
   {
    "duration": -2198,
    "start_time": "2022-01-27T05:56:00.323Z"
   },
   {
    "duration": -2203,
    "start_time": "2022-01-27T05:56:00.330Z"
   },
   {
    "duration": -2209,
    "start_time": "2022-01-27T05:56:00.337Z"
   },
   {
    "duration": -2222,
    "start_time": "2022-01-27T05:56:00.351Z"
   },
   {
    "duration": -2226,
    "start_time": "2022-01-27T05:56:00.357Z"
   },
   {
    "duration": -2231,
    "start_time": "2022-01-27T05:56:00.363Z"
   },
   {
    "duration": -2236,
    "start_time": "2022-01-27T05:56:00.369Z"
   },
   {
    "duration": -2247,
    "start_time": "2022-01-27T05:56:00.382Z"
   },
   {
    "duration": -2253,
    "start_time": "2022-01-27T05:56:00.389Z"
   },
   {
    "duration": -2416,
    "start_time": "2022-01-27T05:56:00.553Z"
   },
   {
    "duration": -2616,
    "start_time": "2022-01-27T05:56:00.754Z"
   },
   {
    "duration": -2621,
    "start_time": "2022-01-27T05:56:00.761Z"
   },
   {
    "duration": -2627,
    "start_time": "2022-01-27T05:56:00.768Z"
   },
   {
    "duration": -2660,
    "start_time": "2022-01-27T05:56:00.802Z"
   },
   {
    "duration": -2705,
    "start_time": "2022-01-27T05:56:00.848Z"
   },
   {
    "duration": -2737,
    "start_time": "2022-01-27T05:56:00.882Z"
   },
   {
    "duration": -2778,
    "start_time": "2022-01-27T05:56:00.924Z"
   },
   {
    "duration": -2785,
    "start_time": "2022-01-27T05:56:00.933Z"
   },
   {
    "duration": 4,
    "start_time": "2022-01-27T05:57:18.786Z"
   },
   {
    "duration": 43074,
    "start_time": "2022-01-27T05:57:21.759Z"
   },
   {
    "duration": 13,
    "start_time": "2022-01-27T06:10:55.715Z"
   },
   {
    "duration": 10,
    "start_time": "2022-01-27T06:10:56.586Z"
   },
   {
    "duration": 4,
    "start_time": "2022-01-27T06:10:59.803Z"
   },
   {
    "duration": 7160,
    "start_time": "2022-01-27T06:11:00.487Z"
   },
   {
    "duration": 18,
    "start_time": "2022-01-27T06:18:16.962Z"
   },
   {
    "duration": 13,
    "start_time": "2022-01-27T06:18:17.778Z"
   },
   {
    "duration": 6,
    "start_time": "2022-01-27T06:18:22.596Z"
   },
   {
    "duration": 368400,
    "start_time": "2022-01-27T06:18:25.824Z"
   },
   {
    "duration": 4469,
    "start_time": "2022-01-27T07:44:38.631Z"
   },
   {
    "duration": 11,
    "start_time": "2022-01-27T07:44:44.442Z"
   },
   {
    "duration": 2306,
    "start_time": "2022-01-27T15:57:28.264Z"
   },
   {
    "duration": 51,
    "start_time": "2022-01-27T15:57:30.573Z"
   },
   {
    "duration": 21,
    "start_time": "2022-01-27T15:57:30.628Z"
   },
   {
    "duration": 23,
    "start_time": "2022-01-27T15:57:30.653Z"
   },
   {
    "duration": 44,
    "start_time": "2022-01-27T15:57:30.679Z"
   },
   {
    "duration": 20,
    "start_time": "2022-01-27T15:57:30.727Z"
   },
   {
    "duration": 8,
    "start_time": "2022-01-27T15:57:30.750Z"
   },
   {
    "duration": 25,
    "start_time": "2022-01-27T15:57:30.762Z"
   },
   {
    "duration": 33,
    "start_time": "2022-01-27T15:57:30.791Z"
   },
   {
    "duration": 1112,
    "start_time": "2022-01-27T15:57:30.828Z"
   },
   {
    "duration": 12,
    "start_time": "2022-01-27T15:57:31.943Z"
   },
   {
    "duration": 1179,
    "start_time": "2022-01-27T15:57:31.959Z"
   },
   {
    "duration": 6,
    "start_time": "2022-01-27T15:57:33.142Z"
   },
   {
    "duration": 2111,
    "start_time": "2022-01-27T15:57:33.152Z"
   },
   {
    "duration": 641,
    "start_time": "2022-01-27T15:57:35.265Z"
   },
   {
    "duration": 21,
    "start_time": "2022-01-27T15:57:35.909Z"
   },
   {
    "duration": 16,
    "start_time": "2022-01-27T15:57:35.934Z"
   },
   {
    "duration": 8,
    "start_time": "2022-01-27T15:57:35.954Z"
   },
   {
    "duration": 64,
    "start_time": "2022-01-27T15:57:35.966Z"
   },
   {
    "duration": 6,
    "start_time": "2022-01-27T15:57:36.032Z"
   },
   {
    "duration": 16,
    "start_time": "2022-01-27T15:57:36.041Z"
   },
   {
    "duration": 8,
    "start_time": "2022-01-27T15:57:36.061Z"
   },
   {
    "duration": 49,
    "start_time": "2022-01-27T15:57:36.079Z"
   },
   {
    "duration": 14,
    "start_time": "2022-01-27T15:57:36.132Z"
   },
   {
    "duration": 5,
    "start_time": "2022-01-27T15:57:36.150Z"
   },
   {
    "duration": 10,
    "start_time": "2022-01-27T15:57:36.158Z"
   },
   {
    "duration": 7,
    "start_time": "2022-01-27T15:57:36.171Z"
   },
   {
    "duration": 49,
    "start_time": "2022-01-27T15:57:36.181Z"
   },
   {
    "duration": 18,
    "start_time": "2022-01-27T15:57:36.234Z"
   },
   {
    "duration": 69,
    "start_time": "2022-01-27T15:57:36.255Z"
   },
   {
    "duration": 10,
    "start_time": "2022-01-27T15:57:36.328Z"
   },
   {
    "duration": 12410,
    "start_time": "2022-01-27T15:57:36.342Z"
   },
   {
    "duration": 76,
    "start_time": "2022-01-27T15:57:48.755Z"
   },
   {
    "duration": 16,
    "start_time": "2022-01-27T15:57:48.835Z"
   },
   {
    "duration": 6,
    "start_time": "2022-01-27T15:57:48.925Z"
   },
   {
    "duration": 27603,
    "start_time": "2022-01-27T15:57:48.934Z"
   },
   {
    "duration": 183,
    "start_time": "2022-01-27T15:58:16.544Z"
   },
   {
    "duration": 102,
    "start_time": "2022-01-27T15:58:16.737Z"
   },
   {
    "duration": 4,
    "start_time": "2022-01-27T15:58:16.842Z"
   },
   {
    "duration": 36276,
    "start_time": "2022-01-27T15:58:16.848Z"
   },
   {
    "duration": 97,
    "start_time": "2022-01-27T15:58:53.127Z"
   },
   {
    "duration": 106,
    "start_time": "2022-01-27T15:58:53.232Z"
   },
   {
    "duration": 5,
    "start_time": "2022-01-27T15:58:53.341Z"
   },
   {
    "duration": 8466,
    "start_time": "2022-01-27T15:58:53.350Z"
   },
   {
    "duration": 21,
    "start_time": "2022-01-27T15:59:01.822Z"
   },
   {
    "duration": 11,
    "start_time": "2022-01-27T15:59:01.845Z"
   },
   {
    "duration": 11,
    "start_time": "2022-01-27T15:59:01.859Z"
   },
   {
    "duration": 448653,
    "start_time": "2022-01-27T15:59:01.872Z"
   },
   {
    "duration": 4723,
    "start_time": "2022-01-27T16:06:30.528Z"
   },
   {
    "duration": 15,
    "start_time": "2022-01-27T16:06:35.254Z"
   },
   {
    "duration": 14,
    "start_time": "2022-01-27T16:06:35.272Z"
   },
   {
    "duration": 588,
    "start_time": "2022-01-27T16:06:35.289Z"
   },
   {
    "duration": -1254,
    "start_time": "2022-01-27T16:06:37.134Z"
   },
   {
    "duration": -1257,
    "start_time": "2022-01-27T16:06:37.140Z"
   },
   {
    "duration": -1262,
    "start_time": "2022-01-27T16:06:37.147Z"
   },
   {
    "duration": -1267,
    "start_time": "2022-01-27T16:06:37.154Z"
   },
   {
    "duration": -1271,
    "start_time": "2022-01-27T16:06:37.160Z"
   },
   {
    "duration": -1276,
    "start_time": "2022-01-27T16:06:37.166Z"
   },
   {
    "duration": -1279,
    "start_time": "2022-01-27T16:06:37.172Z"
   },
   {
    "duration": 5,
    "start_time": "2022-01-27T16:22:51.988Z"
   },
   {
    "duration": 354,
    "start_time": "2022-01-27T16:30:04.210Z"
   },
   {
    "duration": 1750,
    "start_time": "2022-01-27T16:30:13.345Z"
   },
   {
    "duration": 54,
    "start_time": "2022-01-27T16:30:15.099Z"
   },
   {
    "duration": 14,
    "start_time": "2022-01-27T16:30:15.157Z"
   },
   {
    "duration": 9,
    "start_time": "2022-01-27T16:30:15.174Z"
   },
   {
    "duration": 12,
    "start_time": "2022-01-27T16:30:15.185Z"
   },
   {
    "duration": 35,
    "start_time": "2022-01-27T16:30:15.200Z"
   },
   {
    "duration": 8,
    "start_time": "2022-01-27T16:30:15.238Z"
   },
   {
    "duration": 7,
    "start_time": "2022-01-27T16:30:15.249Z"
   },
   {
    "duration": 6,
    "start_time": "2022-01-27T16:30:15.260Z"
   },
   {
    "duration": 756,
    "start_time": "2022-01-27T16:30:15.269Z"
   },
   {
    "duration": 12,
    "start_time": "2022-01-27T16:30:16.028Z"
   },
   {
    "duration": 880,
    "start_time": "2022-01-27T16:30:16.043Z"
   },
   {
    "duration": 6,
    "start_time": "2022-01-27T16:30:16.927Z"
   },
   {
    "duration": 2208,
    "start_time": "2022-01-27T16:30:16.935Z"
   },
   {
    "duration": 468,
    "start_time": "2022-01-27T16:30:19.146Z"
   },
   {
    "duration": 15,
    "start_time": "2022-01-27T16:30:19.616Z"
   },
   {
    "duration": 12,
    "start_time": "2022-01-27T16:30:19.633Z"
   },
   {
    "duration": 8,
    "start_time": "2022-01-27T16:30:19.649Z"
   },
   {
    "duration": 64,
    "start_time": "2022-01-27T16:30:19.660Z"
   },
   {
    "duration": 6,
    "start_time": "2022-01-27T16:30:19.726Z"
   },
   {
    "duration": 15,
    "start_time": "2022-01-27T16:30:19.734Z"
   },
   {
    "duration": 7,
    "start_time": "2022-01-27T16:30:19.751Z"
   },
   {
    "duration": 14,
    "start_time": "2022-01-27T16:30:19.761Z"
   },
   {
    "duration": 57,
    "start_time": "2022-01-27T16:30:19.778Z"
   },
   {
    "duration": 6,
    "start_time": "2022-01-27T16:30:19.838Z"
   },
   {
    "duration": 8,
    "start_time": "2022-01-27T16:30:19.847Z"
   },
   {
    "duration": 10,
    "start_time": "2022-01-27T16:30:19.864Z"
   },
   {
    "duration": 46,
    "start_time": "2022-01-27T16:30:19.878Z"
   },
   {
    "duration": 14,
    "start_time": "2022-01-27T16:30:19.927Z"
   },
   {
    "duration": 80,
    "start_time": "2022-01-27T16:30:19.945Z"
   },
   {
    "duration": 17,
    "start_time": "2022-01-27T16:30:20.029Z"
   },
   {
    "duration": 12001,
    "start_time": "2022-01-27T16:30:20.049Z"
   },
   {
    "duration": 82,
    "start_time": "2022-01-27T16:30:32.053Z"
   },
   {
    "duration": 87,
    "start_time": "2022-01-27T16:30:32.139Z"
   },
   {
    "duration": 6,
    "start_time": "2022-01-27T16:30:32.230Z"
   },
   {
    "duration": 36495,
    "start_time": "2022-01-27T16:30:32.238Z"
   },
   {
    "duration": 101,
    "start_time": "2022-01-27T16:31:08.737Z"
   },
   {
    "duration": 100,
    "start_time": "2022-01-27T16:31:08.928Z"
   },
   {
    "duration": 4,
    "start_time": "2022-01-27T16:31:09.030Z"
   },
   {
    "duration": 37895,
    "start_time": "2022-01-27T16:31:09.037Z"
   },
   {
    "duration": 111,
    "start_time": "2022-01-27T16:31:46.935Z"
   },
   {
    "duration": 100,
    "start_time": "2022-01-27T16:31:47.126Z"
   },
   {
    "duration": 5,
    "start_time": "2022-01-27T16:31:47.229Z"
   },
   {
    "duration": 10675,
    "start_time": "2022-01-27T16:31:47.237Z"
   },
   {
    "duration": 24,
    "start_time": "2022-01-27T16:31:57.915Z"
   },
   {
    "duration": 11,
    "start_time": "2022-01-27T16:31:57.941Z"
   },
   {
    "duration": 5,
    "start_time": "2022-01-27T16:31:57.954Z"
   },
   {
    "duration": 454163,
    "start_time": "2022-01-27T16:31:57.962Z"
   },
   {
    "duration": 6056,
    "start_time": "2022-01-27T16:39:32.128Z"
   },
   {
    "duration": 13,
    "start_time": "2022-01-27T16:39:38.188Z"
   },
   {
    "duration": 25,
    "start_time": "2022-01-27T16:39:38.204Z"
   },
   {
    "duration": 520,
    "start_time": "2022-01-27T16:39:38.232Z"
   },
   {
    "duration": -1203,
    "start_time": "2022-01-27T16:39:39.958Z"
   },
   {
    "duration": -1208,
    "start_time": "2022-01-27T16:39:39.965Z"
   },
   {
    "duration": -1223,
    "start_time": "2022-01-27T16:39:39.982Z"
   },
   {
    "duration": -1227,
    "start_time": "2022-01-27T16:39:39.988Z"
   },
   {
    "duration": -1231,
    "start_time": "2022-01-27T16:39:39.994Z"
   },
   {
    "duration": -1233,
    "start_time": "2022-01-27T16:39:39.999Z"
   },
   {
    "duration": -1238,
    "start_time": "2022-01-27T16:39:40.006Z"
   },
   {
    "duration": 6,
    "start_time": "2022-01-27T16:39:59.666Z"
   },
   {
    "duration": 78075,
    "start_time": "2022-01-27T16:40:02.190Z"
   },
   {
    "duration": 349,
    "start_time": "2022-01-27T16:43:24.748Z"
   },
   {
    "duration": 4,
    "start_time": "2022-01-27T16:43:28.972Z"
   },
   {
    "duration": 12698,
    "start_time": "2022-01-27T16:43:29.508Z"
   },
   {
    "duration": 138703,
    "start_time": "2022-01-27T16:44:01.288Z"
   },
   {
    "duration": 5949,
    "start_time": "2022-01-27T16:46:38.292Z"
   },
   {
    "duration": 7086,
    "start_time": "2022-01-27T16:46:53.587Z"
   },
   {
    "duration": 12286,
    "start_time": "2022-01-27T16:47:13.537Z"
   },
   {
    "duration": 6299,
    "start_time": "2022-01-27T16:47:41.567Z"
   },
   {
    "duration": 17068,
    "start_time": "2022-01-27T16:47:58.227Z"
   },
   {
    "duration": 10204,
    "start_time": "2022-01-27T16:48:35.814Z"
   },
   {
    "duration": 24122,
    "start_time": "2022-01-27T16:48:57.604Z"
   },
   {
    "duration": 10611,
    "start_time": "2022-01-27T16:49:42.076Z"
   },
   {
    "duration": 31883,
    "start_time": "2022-01-27T16:50:04.471Z"
   },
   {
    "duration": 17099,
    "start_time": "2022-01-27T16:51:10.395Z"
   },
   {
    "duration": 676646,
    "start_time": "2022-01-27T16:51:37.630Z"
   },
   {
    "duration": 38362,
    "start_time": "2022-01-27T17:03:08.360Z"
   },
   {
    "duration": 59182,
    "start_time": "2022-01-27T17:04:00.594Z"
   },
   {
    "duration": 17863,
    "start_time": "2022-01-27T17:05:15.296Z"
   },
   {
    "duration": 19011,
    "start_time": "2022-01-27T17:06:00.049Z"
   },
   {
    "duration": 21305,
    "start_time": "2022-01-27T17:06:28.449Z"
   },
   {
    "duration": 23551,
    "start_time": "2022-01-27T17:07:00.549Z"
   },
   {
    "duration": 28281,
    "start_time": "2022-01-27T17:07:35.224Z"
   },
   {
    "duration": 41266,
    "start_time": "2022-01-27T17:08:17.370Z"
   },
   {
    "duration": 55230,
    "start_time": "2022-01-27T17:09:53.577Z"
   },
   {
    "duration": 148193,
    "start_time": "2022-01-27T17:10:59.842Z"
   },
   {
    "duration": 63581,
    "start_time": "2022-01-27T17:13:47.659Z"
   },
   {
    "duration": 67720,
    "start_time": "2022-01-27T17:15:08.008Z"
   },
   {
    "duration": 81414,
    "start_time": "2022-01-27T17:16:39.910Z"
   },
   {
    "duration": 70101,
    "start_time": "2022-01-27T17:18:20.338Z"
   },
   {
    "duration": 67778,
    "start_time": "2022-01-27T17:20:07.176Z"
   },
   {
    "duration": 68414,
    "start_time": "2022-01-27T17:22:04.218Z"
   },
   {
    "duration": 63689,
    "start_time": "2022-01-27T17:23:33.386Z"
   },
   {
    "duration": 3,
    "start_time": "2022-01-27T17:24:44.995Z"
   },
   {
    "duration": 1871,
    "start_time": "2022-01-27T17:27:37.424Z"
   },
   {
    "duration": 49,
    "start_time": "2022-01-27T17:27:39.298Z"
   },
   {
    "duration": 17,
    "start_time": "2022-01-27T17:27:39.351Z"
   },
   {
    "duration": 10,
    "start_time": "2022-01-27T17:27:39.371Z"
   },
   {
    "duration": 47,
    "start_time": "2022-01-27T17:27:39.384Z"
   },
   {
    "duration": 14,
    "start_time": "2022-01-27T17:27:39.434Z"
   },
   {
    "duration": 10,
    "start_time": "2022-01-27T17:27:39.451Z"
   },
   {
    "duration": 5,
    "start_time": "2022-01-27T17:27:39.466Z"
   },
   {
    "duration": 5,
    "start_time": "2022-01-27T17:27:39.474Z"
   },
   {
    "duration": 782,
    "start_time": "2022-01-27T17:27:39.481Z"
   },
   {
    "duration": 11,
    "start_time": "2022-01-27T17:27:40.266Z"
   },
   {
    "duration": 924,
    "start_time": "2022-01-27T17:27:40.280Z"
   },
   {
    "duration": 17,
    "start_time": "2022-01-27T17:27:41.206Z"
   },
   {
    "duration": 2054,
    "start_time": "2022-01-27T17:27:41.226Z"
   },
   {
    "duration": 428,
    "start_time": "2022-01-27T17:27:43.283Z"
   },
   {
    "duration": 17,
    "start_time": "2022-01-27T17:27:43.714Z"
   },
   {
    "duration": 21,
    "start_time": "2022-01-27T17:27:43.733Z"
   },
   {
    "duration": 10,
    "start_time": "2022-01-27T17:27:43.757Z"
   },
   {
    "duration": 20,
    "start_time": "2022-01-27T17:27:43.770Z"
   },
   {
    "duration": 35,
    "start_time": "2022-01-27T17:27:43.792Z"
   },
   {
    "duration": 14,
    "start_time": "2022-01-27T17:27:43.831Z"
   },
   {
    "duration": 5,
    "start_time": "2022-01-27T17:27:43.848Z"
   },
   {
    "duration": 12,
    "start_time": "2022-01-27T17:27:43.862Z"
   },
   {
    "duration": 58,
    "start_time": "2022-01-27T17:27:43.877Z"
   },
   {
    "duration": 5,
    "start_time": "2022-01-27T17:27:43.938Z"
   },
   {
    "duration": 11,
    "start_time": "2022-01-27T17:27:43.946Z"
   },
   {
    "duration": 13,
    "start_time": "2022-01-27T17:27:43.960Z"
   },
   {
    "duration": 10,
    "start_time": "2022-01-27T17:27:43.976Z"
   },
   {
    "duration": 43,
    "start_time": "2022-01-27T17:27:43.989Z"
   },
   {
    "duration": 17,
    "start_time": "2022-01-27T17:27:44.036Z"
   },
   {
    "duration": 68,
    "start_time": "2022-01-27T17:27:44.058Z"
   },
   {
    "duration": 12417,
    "start_time": "2022-01-27T17:27:44.130Z"
   },
   {
    "duration": 82,
    "start_time": "2022-01-27T17:27:56.550Z"
   },
   {
    "duration": 96,
    "start_time": "2022-01-27T17:27:56.637Z"
   },
   {
    "duration": 14,
    "start_time": "2022-01-27T17:27:56.737Z"
   },
   {
    "duration": 33702,
    "start_time": "2022-01-27T17:27:56.823Z"
   },
   {
    "duration": 196,
    "start_time": "2022-01-27T17:28:30.528Z"
   },
   {
    "duration": 14,
    "start_time": "2022-01-27T17:28:30.727Z"
   },
   {
    "duration": 88,
    "start_time": "2022-01-27T17:28:30.743Z"
   },
   {
    "duration": 31989,
    "start_time": "2022-01-27T17:28:30.835Z"
   },
   {
    "duration": 102,
    "start_time": "2022-01-27T17:29:02.828Z"
   },
   {
    "duration": 103,
    "start_time": "2022-01-27T17:29:02.937Z"
   },
   {
    "duration": 7,
    "start_time": "2022-01-27T17:29:03.043Z"
   },
   {
    "duration": 8726,
    "start_time": "2022-01-27T17:29:03.125Z"
   },
   {
    "duration": 20,
    "start_time": "2022-01-27T17:29:11.853Z"
   },
   {
    "duration": 11,
    "start_time": "2022-01-27T17:29:11.875Z"
   },
   {
    "duration": 34,
    "start_time": "2022-01-27T17:29:11.889Z"
   },
   {
    "duration": 459592,
    "start_time": "2022-01-27T17:29:11.926Z"
   },
   {
    "duration": 5533,
    "start_time": "2022-01-27T17:36:51.525Z"
   },
   {
    "duration": 14,
    "start_time": "2022-01-27T17:36:57.061Z"
   },
   {
    "duration": 8,
    "start_time": "2022-01-27T17:36:57.077Z"
   },
   {
    "duration": 633,
    "start_time": "2022-01-27T17:36:57.088Z"
   },
   {
    "duration": -1182,
    "start_time": "2022-01-27T17:36:58.906Z"
   },
   {
    "duration": -1189,
    "start_time": "2022-01-27T17:36:58.915Z"
   },
   {
    "duration": -1195,
    "start_time": "2022-01-27T17:36:58.923Z"
   },
   {
    "duration": -1199,
    "start_time": "2022-01-27T17:36:58.929Z"
   },
   {
    "duration": -1219,
    "start_time": "2022-01-27T17:36:58.951Z"
   },
   {
    "duration": -1224,
    "start_time": "2022-01-27T17:36:58.958Z"
   },
   {
    "duration": -1229,
    "start_time": "2022-01-27T17:36:58.965Z"
   },
   {
    "duration": -1235,
    "start_time": "2022-01-27T17:36:58.972Z"
   },
   {
    "duration": -1239,
    "start_time": "2022-01-27T17:36:58.978Z"
   },
   {
    "duration": -1246,
    "start_time": "2022-01-27T17:36:58.986Z"
   },
   {
    "duration": -1250,
    "start_time": "2022-01-27T17:36:58.992Z"
   },
   {
    "duration": -1255,
    "start_time": "2022-01-27T17:36:58.998Z"
   },
   {
    "duration": -1260,
    "start_time": "2022-01-27T17:36:59.004Z"
   },
   {
    "duration": 4,
    "start_time": "2022-01-27T17:37:37.742Z"
   },
   {
    "duration": 265333,
    "start_time": "2022-01-27T17:37:40.228Z"
   },
   {
    "duration": 4,
    "start_time": "2022-01-27T17:43:26.069Z"
   },
   {
    "duration": 2533518,
    "start_time": "2022-01-27T17:43:30.039Z"
   },
   {
    "duration": 5,
    "start_time": "2022-01-27T18:25:43.560Z"
   },
   {
    "duration": 55987,
    "start_time": "2022-01-27T18:26:33.871Z"
   },
   {
    "duration": 4389,
    "start_time": "2022-01-27T18:27:35.238Z"
   },
   {
    "duration": 8689,
    "start_time": "2022-01-27T18:27:48.553Z"
   },
   {
    "duration": 28061,
    "start_time": "2022-01-27T18:28:07.678Z"
   },
   {
    "duration": 185986,
    "start_time": "2022-01-27T18:28:45.058Z"
   },
   {
    "duration": 40725,
    "start_time": "2022-01-27T18:32:57.913Z"
   },
   {
    "duration": 357626,
    "start_time": "2022-01-27T18:33:56.199Z"
   },
   {
    "duration": 5,
    "start_time": "2022-01-27T18:42:46.613Z"
   },
   {
    "duration": 4890858,
    "start_time": "2022-01-27T18:42:51.296Z"
   },
   {
    "duration": 80365,
    "start_time": "2022-01-27T20:04:39.053Z"
   },
   {
    "duration": 4,
    "start_time": "2022-01-27T20:08:22.908Z"
   },
   {
    "duration": 4677828,
    "start_time": "2022-01-27T20:08:25.276Z"
   },
   {
    "duration": 62404,
    "start_time": "2022-01-27T21:42:16.408Z"
   },
   {
    "duration": 4,
    "start_time": "2022-01-27T21:55:27.781Z"
   },
   {
    "duration": 303997,
    "start_time": "2022-01-27T21:55:30.508Z"
   },
   {
    "duration": 1172,
    "start_time": "2022-01-28T05:52:24.579Z"
   },
   {
    "duration": 31,
    "start_time": "2022-01-28T05:52:25.753Z"
   },
   {
    "duration": 10,
    "start_time": "2022-01-28T05:52:25.786Z"
   },
   {
    "duration": 6,
    "start_time": "2022-01-28T05:52:25.798Z"
   },
   {
    "duration": 8,
    "start_time": "2022-01-28T05:52:25.806Z"
   },
   {
    "duration": 8,
    "start_time": "2022-01-28T05:52:25.816Z"
   },
   {
    "duration": 5,
    "start_time": "2022-01-28T05:52:25.826Z"
   },
   {
    "duration": 3,
    "start_time": "2022-01-28T05:52:25.833Z"
   },
   {
    "duration": 3,
    "start_time": "2022-01-28T05:52:25.871Z"
   },
   {
    "duration": 384,
    "start_time": "2022-01-28T05:52:25.877Z"
   },
   {
    "duration": 13,
    "start_time": "2022-01-28T05:52:26.262Z"
   },
   {
    "duration": 420,
    "start_time": "2022-01-28T05:52:26.277Z"
   },
   {
    "duration": 4,
    "start_time": "2022-01-28T05:52:26.699Z"
   },
   {
    "duration": 1048,
    "start_time": "2022-01-28T05:52:26.705Z"
   },
   {
    "duration": 211,
    "start_time": "2022-01-28T05:52:27.755Z"
   },
   {
    "duration": 8,
    "start_time": "2022-01-28T05:52:27.972Z"
   },
   {
    "duration": 7,
    "start_time": "2022-01-28T05:52:27.982Z"
   },
   {
    "duration": 4,
    "start_time": "2022-01-28T05:52:27.991Z"
   },
   {
    "duration": 12,
    "start_time": "2022-01-28T05:52:27.997Z"
   },
   {
    "duration": 4,
    "start_time": "2022-01-28T05:52:28.010Z"
   },
   {
    "duration": 7,
    "start_time": "2022-01-28T05:52:28.016Z"
   },
   {
    "duration": 5,
    "start_time": "2022-01-28T05:52:28.024Z"
   },
   {
    "duration": 47,
    "start_time": "2022-01-28T05:52:28.030Z"
   },
   {
    "duration": 8,
    "start_time": "2022-01-28T05:52:28.078Z"
   },
   {
    "duration": 3,
    "start_time": "2022-01-28T05:52:28.087Z"
   },
   {
    "duration": 8,
    "start_time": "2022-01-28T05:52:28.092Z"
   },
   {
    "duration": 7,
    "start_time": "2022-01-28T05:52:28.103Z"
   },
   {
    "duration": 6,
    "start_time": "2022-01-28T05:52:28.112Z"
   },
   {
    "duration": 12,
    "start_time": "2022-01-28T05:52:28.120Z"
   },
   {
    "duration": 47,
    "start_time": "2022-01-28T05:52:28.134Z"
   },
   {
    "duration": 3,
    "start_time": "2022-01-28T05:52:28.183Z"
   },
   {
    "duration": 5703,
    "start_time": "2022-01-28T05:52:28.188Z"
   },
   {
    "duration": 79,
    "start_time": "2022-01-28T05:52:33.893Z"
   },
   {
    "duration": 9,
    "start_time": "2022-01-28T05:52:33.974Z"
   },
   {
    "duration": 4,
    "start_time": "2022-01-28T05:52:33.985Z"
   },
   {
    "duration": 25683,
    "start_time": "2022-01-28T05:52:33.991Z"
   },
   {
    "duration": 103,
    "start_time": "2022-01-28T05:52:59.676Z"
   },
   {
    "duration": 95,
    "start_time": "2022-01-28T05:52:59.782Z"
   },
   {
    "duration": 4,
    "start_time": "2022-01-28T05:52:59.879Z"
   },
   {
    "duration": 25493,
    "start_time": "2022-01-28T05:52:59.885Z"
   },
   {
    "duration": 195,
    "start_time": "2022-01-28T05:53:25.380Z"
   },
   {
    "duration": 95,
    "start_time": "2022-01-28T05:53:25.578Z"
   },
   {
    "duration": 3,
    "start_time": "2022-01-28T05:53:25.674Z"
   },
   {
    "duration": 5418,
    "start_time": "2022-01-28T05:53:25.679Z"
   },
   {
    "duration": 13,
    "start_time": "2022-01-28T05:53:31.098Z"
   },
   {
    "duration": 6,
    "start_time": "2022-01-28T05:53:31.112Z"
   },
   {
    "duration": 5,
    "start_time": "2022-01-28T05:53:31.119Z"
   },
   {
    "duration": 265694,
    "start_time": "2022-01-28T05:53:31.125Z"
   },
   {
    "duration": 2773,
    "start_time": "2022-01-28T05:57:56.821Z"
   },
   {
    "duration": 6,
    "start_time": "2022-01-28T05:57:59.596Z"
   },
   {
    "duration": 4,
    "start_time": "2022-01-28T05:57:59.604Z"
   },
   {
    "duration": 423,
    "start_time": "2022-01-28T05:57:59.609Z"
   },
   {
    "duration": -438,
    "start_time": "2022-01-28T05:58:00.472Z"
   },
   {
    "duration": -449,
    "start_time": "2022-01-28T05:58:00.484Z"
   },
   {
    "duration": -467,
    "start_time": "2022-01-28T05:58:00.503Z"
   },
   {
    "duration": -472,
    "start_time": "2022-01-28T05:58:00.509Z"
   },
   {
    "duration": 2,
    "start_time": "2022-01-28T15:17:15.533Z"
   },
   {
    "duration": 281011,
    "start_time": "2022-01-28T15:17:18.130Z"
   },
   {
    "duration": 3,
    "start_time": "2022-01-28T15:26:57.128Z"
   },
   {
    "duration": 90490,
    "start_time": "2022-01-28T15:26:59.205Z"
   },
   {
    "duration": 3,
    "start_time": "2022-01-28T15:30:28.626Z"
   },
   {
    "duration": 89453,
    "start_time": "2022-01-28T15:30:32.564Z"
   },
   {
    "duration": 3,
    "start_time": "2022-01-28T15:32:12.401Z"
   },
   {
    "duration": 176612,
    "start_time": "2022-01-28T15:32:14.125Z"
   },
   {
    "duration": 3,
    "start_time": "2022-01-28T15:35:42.251Z"
   },
   {
    "duration": 107657,
    "start_time": "2022-01-28T15:35:44.180Z"
   },
   {
    "duration": 3,
    "start_time": "2022-01-28T15:41:12.396Z"
   },
   {
    "duration": 93756,
    "start_time": "2022-01-28T15:41:14.509Z"
   },
   {
    "duration": 2,
    "start_time": "2022-01-28T15:46:05.227Z"
   },
   {
    "duration": 3,
    "start_time": "2022-01-28T15:47:01.154Z"
   },
   {
    "duration": 956138,
    "start_time": "2022-01-28T15:47:05.211Z"
   },
   {
    "duration": 3,
    "start_time": "2022-01-28T16:05:27.901Z"
   },
   {
    "duration": 1101924,
    "start_time": "2022-01-28T16:05:29.735Z"
   },
   {
    "duration": 3,
    "start_time": "2022-01-28T16:24:38.960Z"
   },
   {
    "duration": 258227,
    "start_time": "2022-01-28T16:24:50.665Z"
   },
   {
    "duration": 2,
    "start_time": "2022-01-28T16:30:00.058Z"
   },
   {
    "duration": 16304,
    "start_time": "2022-01-28T16:30:06.137Z"
   },
   {
    "duration": 17443,
    "start_time": "2022-01-28T16:31:30.424Z"
   },
   {
    "duration": 7,
    "start_time": "2022-01-28T16:31:50.483Z"
   },
   {
    "duration": 5,
    "start_time": "2022-01-28T16:40:29.670Z"
   },
   {
    "duration": 6,
    "start_time": "2022-01-28T16:40:50.819Z"
   },
   {
    "duration": 5,
    "start_time": "2022-01-28T16:48:51.981Z"
   },
   {
    "duration": 3,
    "start_time": "2022-01-28T16:49:01.096Z"
   },
   {
    "duration": 4,
    "start_time": "2022-01-28T16:49:08.713Z"
   },
   {
    "duration": 3,
    "start_time": "2022-01-28T16:49:18.158Z"
   },
   {
    "duration": 7,
    "start_time": "2022-01-28T16:49:37.781Z"
   },
   {
    "duration": 2,
    "start_time": "2022-01-28T16:52:57.088Z"
   },
   {
    "duration": 37262,
    "start_time": "2022-01-28T16:53:12.572Z"
   },
   {
    "duration": 7,
    "start_time": "2022-01-28T16:54:31.063Z"
   },
   {
    "duration": 9,
    "start_time": "2022-01-28T16:55:00.873Z"
   },
   {
    "duration": 7,
    "start_time": "2022-01-28T17:02:53.142Z"
   },
   {
    "duration": 1189,
    "start_time": "2022-01-28T17:03:05.476Z"
   },
   {
    "duration": 31,
    "start_time": "2022-01-28T17:03:06.666Z"
   },
   {
    "duration": 17,
    "start_time": "2022-01-28T17:03:06.700Z"
   },
   {
    "duration": 8,
    "start_time": "2022-01-28T17:03:06.718Z"
   },
   {
    "duration": 15,
    "start_time": "2022-01-28T17:03:06.727Z"
   },
   {
    "duration": 24,
    "start_time": "2022-01-28T17:03:06.743Z"
   },
   {
    "duration": 14,
    "start_time": "2022-01-28T17:03:06.769Z"
   },
   {
    "duration": 20,
    "start_time": "2022-01-28T17:03:06.785Z"
   },
   {
    "duration": 32,
    "start_time": "2022-01-28T17:03:06.807Z"
   },
   {
    "duration": 411,
    "start_time": "2022-01-28T17:03:06.840Z"
   },
   {
    "duration": 19,
    "start_time": "2022-01-28T17:03:07.253Z"
   },
   {
    "duration": 419,
    "start_time": "2022-01-28T17:03:07.273Z"
   },
   {
    "duration": 3,
    "start_time": "2022-01-28T17:03:07.694Z"
   },
   {
    "duration": 1114,
    "start_time": "2022-01-28T17:03:07.699Z"
   },
   {
    "duration": 229,
    "start_time": "2022-01-28T17:03:08.815Z"
   },
   {
    "duration": 7,
    "start_time": "2022-01-28T17:03:09.045Z"
   },
   {
    "duration": 20,
    "start_time": "2022-01-28T17:03:09.054Z"
   },
   {
    "duration": 3,
    "start_time": "2022-01-28T17:03:09.075Z"
   },
   {
    "duration": 11,
    "start_time": "2022-01-28T17:03:09.080Z"
   },
   {
    "duration": 3,
    "start_time": "2022-01-28T17:03:09.093Z"
   },
   {
    "duration": 7,
    "start_time": "2022-01-28T17:03:09.098Z"
   },
   {
    "duration": 4,
    "start_time": "2022-01-28T17:03:09.107Z"
   },
   {
    "duration": 10,
    "start_time": "2022-01-28T17:03:09.113Z"
   },
   {
    "duration": 9,
    "start_time": "2022-01-28T17:03:09.125Z"
   },
   {
    "duration": 36,
    "start_time": "2022-01-28T17:03:09.136Z"
   },
   {
    "duration": 5,
    "start_time": "2022-01-28T17:03:09.178Z"
   },
   {
    "duration": 6,
    "start_time": "2022-01-28T17:03:09.186Z"
   },
   {
    "duration": 9,
    "start_time": "2022-01-28T17:03:09.193Z"
   },
   {
    "duration": 14,
    "start_time": "2022-01-28T17:03:09.203Z"
   },
   {
    "duration": 8,
    "start_time": "2022-01-28T17:03:09.219Z"
   },
   {
    "duration": 43,
    "start_time": "2022-01-28T17:03:09.229Z"
   },
   {
    "duration": 4904,
    "start_time": "2022-01-28T17:03:09.274Z"
   },
   {
    "duration": 5,
    "start_time": "2022-01-28T17:03:14.180Z"
   },
   {
    "duration": 6,
    "start_time": "2022-01-28T17:03:14.187Z"
   },
   {
    "duration": 77,
    "start_time": "2022-01-28T17:03:14.195Z"
   },
   {
    "duration": 25904,
    "start_time": "2022-01-28T17:03:14.273Z"
   },
   {
    "duration": 99,
    "start_time": "2022-01-28T17:03:40.179Z"
   },
   {
    "duration": 95,
    "start_time": "2022-01-28T17:03:40.281Z"
   },
   {
    "duration": 4,
    "start_time": "2022-01-28T17:03:40.378Z"
   },
   {
    "duration": 9704,
    "start_time": "2022-01-28T17:03:40.385Z"
   },
   {
    "duration": -547,
    "start_time": "2022-01-28T17:03:50.638Z"
   },
   {
    "duration": -571,
    "start_time": "2022-01-28T17:03:50.662Z"
   },
   {
    "duration": -579,
    "start_time": "2022-01-28T17:03:50.671Z"
   },
   {
    "duration": -593,
    "start_time": "2022-01-28T17:03:50.686Z"
   },
   {
    "duration": -599,
    "start_time": "2022-01-28T17:03:50.693Z"
   },
   {
    "duration": -603,
    "start_time": "2022-01-28T17:03:50.698Z"
   },
   {
    "duration": -617,
    "start_time": "2022-01-28T17:03:50.712Z"
   },
   {
    "duration": -621,
    "start_time": "2022-01-28T17:03:50.717Z"
   },
   {
    "duration": -627,
    "start_time": "2022-01-28T17:03:50.724Z"
   },
   {
    "duration": -632,
    "start_time": "2022-01-28T17:03:50.730Z"
   },
   {
    "duration": -637,
    "start_time": "2022-01-28T17:03:50.735Z"
   },
   {
    "duration": -642,
    "start_time": "2022-01-28T17:03:50.741Z"
   },
   {
    "duration": -646,
    "start_time": "2022-01-28T17:03:50.746Z"
   },
   {
    "duration": -1150,
    "start_time": "2022-01-28T17:03:51.251Z"
   },
   {
    "duration": -1162,
    "start_time": "2022-01-28T17:03:51.264Z"
   },
   {
    "duration": -1166,
    "start_time": "2022-01-28T17:03:51.269Z"
   },
   {
    "duration": -1171,
    "start_time": "2022-01-28T17:03:51.275Z"
   },
   {
    "duration": -1177,
    "start_time": "2022-01-28T17:03:51.281Z"
   },
   {
    "duration": -1182,
    "start_time": "2022-01-28T17:03:51.287Z"
   },
   {
    "duration": -1188,
    "start_time": "2022-01-28T17:03:51.293Z"
   },
   {
    "duration": 1180,
    "start_time": "2022-01-28T17:04:08.293Z"
   },
   {
    "duration": 39,
    "start_time": "2022-01-28T17:04:09.475Z"
   },
   {
    "duration": 9,
    "start_time": "2022-01-28T17:04:09.515Z"
   },
   {
    "duration": 7,
    "start_time": "2022-01-28T17:04:09.525Z"
   },
   {
    "duration": 7,
    "start_time": "2022-01-28T17:04:09.534Z"
   },
   {
    "duration": 9,
    "start_time": "2022-01-28T17:04:09.543Z"
   },
   {
    "duration": 4,
    "start_time": "2022-01-28T17:04:09.553Z"
   },
   {
    "duration": 4,
    "start_time": "2022-01-28T17:04:09.571Z"
   },
   {
    "duration": 3,
    "start_time": "2022-01-28T17:04:09.577Z"
   },
   {
    "duration": 393,
    "start_time": "2022-01-28T17:04:09.582Z"
   },
   {
    "duration": 6,
    "start_time": "2022-01-28T17:04:09.977Z"
   },
   {
    "duration": 434,
    "start_time": "2022-01-28T17:04:09.985Z"
   },
   {
    "duration": 5,
    "start_time": "2022-01-28T17:04:10.420Z"
   },
   {
    "duration": 1102,
    "start_time": "2022-01-28T17:04:10.427Z"
   },
   {
    "duration": 235,
    "start_time": "2022-01-28T17:04:11.531Z"
   },
   {
    "duration": 7,
    "start_time": "2022-01-28T17:04:11.772Z"
   },
   {
    "duration": 7,
    "start_time": "2022-01-28T17:04:11.780Z"
   },
   {
    "duration": 5,
    "start_time": "2022-01-28T17:04:11.789Z"
   },
   {
    "duration": 12,
    "start_time": "2022-01-28T17:04:11.795Z"
   },
   {
    "duration": 4,
    "start_time": "2022-01-28T17:04:11.808Z"
   },
   {
    "duration": 6,
    "start_time": "2022-01-28T17:04:11.813Z"
   },
   {
    "duration": 5,
    "start_time": "2022-01-28T17:04:11.820Z"
   },
   {
    "duration": 45,
    "start_time": "2022-01-28T17:04:11.826Z"
   },
   {
    "duration": 7,
    "start_time": "2022-01-28T17:04:11.873Z"
   },
   {
    "duration": 7,
    "start_time": "2022-01-28T17:04:11.881Z"
   },
   {
    "duration": 5,
    "start_time": "2022-01-28T17:04:11.890Z"
   },
   {
    "duration": 10,
    "start_time": "2022-01-28T17:04:11.898Z"
   },
   {
    "duration": 8,
    "start_time": "2022-01-28T17:04:11.909Z"
   },
   {
    "duration": 13,
    "start_time": "2022-01-28T17:04:11.918Z"
   },
   {
    "duration": 43,
    "start_time": "2022-01-28T17:04:11.933Z"
   },
   {
    "duration": 3,
    "start_time": "2022-01-28T17:04:11.977Z"
   },
   {
    "duration": 5117,
    "start_time": "2022-01-28T17:04:11.982Z"
   },
   {
    "duration": 76,
    "start_time": "2022-01-28T17:04:17.101Z"
   },
   {
    "duration": 9,
    "start_time": "2022-01-28T17:04:17.179Z"
   },
   {
    "duration": 4,
    "start_time": "2022-01-28T17:04:17.190Z"
   },
   {
    "duration": 15377,
    "start_time": "2022-01-28T17:04:17.196Z"
   },
   {
    "duration": 98,
    "start_time": "2022-01-28T17:04:32.575Z"
   },
   {
    "duration": 98,
    "start_time": "2022-01-28T17:04:32.675Z"
   },
   {
    "duration": 2,
    "start_time": "2022-01-28T17:04:32.775Z"
   },
   {
    "duration": 25796,
    "start_time": "2022-01-28T17:04:32.779Z"
   },
   {
    "duration": 96,
    "start_time": "2022-01-28T17:04:58.577Z"
   },
   {
    "duration": 97,
    "start_time": "2022-01-28T17:04:58.676Z"
   },
   {
    "duration": 15,
    "start_time": "2022-01-28T17:04:58.775Z"
   },
   {
    "duration": 5737,
    "start_time": "2022-01-28T17:04:58.792Z"
   },
   {
    "duration": 12,
    "start_time": "2022-01-28T17:05:04.530Z"
   },
   {
    "duration": 6,
    "start_time": "2022-01-28T17:05:04.544Z"
   },
   {
    "duration": 3,
    "start_time": "2022-01-28T17:05:04.552Z"
   },
   {
    "duration": 1127,
    "start_time": "2022-01-28T17:06:52.720Z"
   },
   {
    "duration": 32,
    "start_time": "2022-01-28T17:06:56.403Z"
   },
   {
    "duration": 10,
    "start_time": "2022-01-28T17:06:57.781Z"
   },
   {
    "duration": 7,
    "start_time": "2022-01-28T17:07:00.425Z"
   },
   {
    "duration": 8,
    "start_time": "2022-01-28T17:07:05.711Z"
   },
   {
    "duration": 9,
    "start_time": "2022-01-28T17:07:07.861Z"
   },
   {
    "duration": 5,
    "start_time": "2022-01-28T17:07:08.515Z"
   },
   {
    "duration": 3,
    "start_time": "2022-01-28T17:07:11.485Z"
   },
   {
    "duration": 4,
    "start_time": "2022-01-28T17:07:12.636Z"
   },
   {
    "duration": 392,
    "start_time": "2022-01-28T17:07:14.923Z"
   },
   {
    "duration": 6,
    "start_time": "2022-01-28T17:07:20.149Z"
   },
   {
    "duration": 428,
    "start_time": "2022-01-28T17:07:21.154Z"
   },
   {
    "duration": 3,
    "start_time": "2022-01-28T17:07:24.899Z"
   },
   {
    "duration": 1078,
    "start_time": "2022-01-28T17:07:26.724Z"
   },
   {
    "duration": 205,
    "start_time": "2022-01-28T17:07:33.116Z"
   },
   {
    "duration": 7,
    "start_time": "2022-01-28T17:07:39.523Z"
   },
   {
    "duration": 8,
    "start_time": "2022-01-28T17:07:41.253Z"
   },
   {
    "duration": 5,
    "start_time": "2022-01-28T17:07:48.911Z"
   },
   {
    "duration": 12,
    "start_time": "2022-01-28T17:07:51.230Z"
   },
   {
    "duration": 4,
    "start_time": "2022-01-28T17:07:53.686Z"
   },
   {
    "duration": 7,
    "start_time": "2022-01-28T17:07:54.651Z"
   },
   {
    "duration": 4,
    "start_time": "2022-01-28T17:07:58.134Z"
   },
   {
    "duration": 8,
    "start_time": "2022-01-28T17:08:00.649Z"
   },
   {
    "duration": 7,
    "start_time": "2022-01-28T17:08:05.576Z"
   },
   {
    "duration": 3,
    "start_time": "2022-01-28T17:08:06.999Z"
   },
   {
    "duration": 4,
    "start_time": "2022-01-28T17:08:09.263Z"
   },
   {
    "duration": 4,
    "start_time": "2022-01-28T17:08:11.575Z"
   },
   {
    "duration": 3,
    "start_time": "2022-01-28T17:08:12.841Z"
   },
   {
    "duration": 8,
    "start_time": "2022-01-28T17:08:14.340Z"
   },
   {
    "duration": 7,
    "start_time": "2022-01-28T17:08:15.299Z"
   },
   {
    "duration": 3,
    "start_time": "2022-01-28T17:08:19.489Z"
   },
   {
    "duration": 8140,
    "start_time": "2022-01-28T17:08:22.238Z"
   },
   {
    "duration": 3,
    "start_time": "2022-01-28T17:08:38.363Z"
   },
   {
    "duration": 8441,
    "start_time": "2022-01-28T17:08:40.350Z"
   },
   {
    "duration": 3,
    "start_time": "2022-01-28T17:09:01.811Z"
   },
   {
    "duration": 57640,
    "start_time": "2022-01-28T17:09:06.339Z"
   },
   {
    "duration": 3,
    "start_time": "2022-01-28T17:10:25.277Z"
   },
   {
    "duration": 14039,
    "start_time": "2022-01-28T17:10:27.552Z"
   },
   {
    "duration": 9,
    "start_time": "2022-01-28T17:10:58.241Z"
   },
   {
    "duration": 7,
    "start_time": "2022-01-28T17:11:02.104Z"
   },
   {
    "duration": 3,
    "start_time": "2022-01-28T17:11:08.508Z"
   },
   {
    "duration": 27142,
    "start_time": "2022-01-28T17:11:12.434Z"
   },
   {
    "duration": 12,
    "start_time": "2022-01-28T17:11:54.369Z"
   },
   {
    "duration": 9,
    "start_time": "2022-01-28T17:11:55.256Z"
   },
   {
    "duration": 3,
    "start_time": "2022-01-28T17:12:08.994Z"
   },
   {
    "duration": 24435,
    "start_time": "2022-01-28T17:12:11.542Z"
   },
   {
    "duration": 95,
    "start_time": "2022-01-28T17:14:47.276Z"
   },
   {
    "duration": 9,
    "start_time": "2022-01-28T17:14:53.734Z"
   },
   {
    "duration": 3,
    "start_time": "2022-01-28T17:15:03.972Z"
   },
   {
    "duration": 5752,
    "start_time": "2022-01-28T17:15:05.483Z"
   },
   {
    "duration": 13,
    "start_time": "2022-01-28T17:15:11.236Z"
   },
   {
    "duration": 3,
    "start_time": "2022-01-28T17:15:23.835Z"
   },
   {
    "duration": 950,
    "start_time": "2022-01-28T17:15:26.095Z"
   },
   {
    "duration": 4,
    "start_time": "2022-01-28T17:15:36.798Z"
   },
   {
    "duration": 6937,
    "start_time": "2022-01-28T17:15:37.885Z"
   },
   {
    "duration": 14,
    "start_time": "2022-01-28T17:15:54.191Z"
   },
   {
    "duration": 8,
    "start_time": "2022-01-28T17:15:55.224Z"
   },
   {
    "duration": 3,
    "start_time": "2022-01-28T17:16:01.811Z"
   },
   {
    "duration": 320084,
    "start_time": "2022-01-28T17:16:03.910Z"
   },
   {
    "duration": 3,
    "start_time": "2022-01-28T17:22:50.743Z"
   },
   {
    "duration": 564377,
    "start_time": "2022-01-28T17:22:51.708Z"
   },
   {
    "duration": 2642,
    "start_time": "2022-01-28T17:32:33.030Z"
   },
   {
    "duration": 7,
    "start_time": "2022-01-28T17:32:37.130Z"
   },
   {
    "duration": 2,
    "start_time": "2022-01-28T17:32:44.671Z"
   },
   {
    "duration": 284882,
    "start_time": "2022-01-28T17:32:45.572Z"
   },
   {
    "duration": 20645,
    "start_time": "2022-01-28T17:40:16.002Z"
   },
   {
    "duration": 2,
    "start_time": "2022-01-28T17:40:58.853Z"
   },
   {
    "duration": 434802,
    "start_time": "2022-01-28T17:41:00.365Z"
   },
   {
    "duration": 17749,
    "start_time": "2022-01-28T17:50:52.340Z"
   },
   {
    "duration": 9,
    "start_time": "2022-01-28T17:51:18.654Z"
   },
   {
    "duration": 6,
    "start_time": "2022-01-28T17:52:15.253Z"
   },
   {
    "duration": 313,
    "start_time": "2022-01-28T17:52:31.555Z"
   },
   {
    "duration": 6,
    "start_time": "2022-01-28T17:52:39.349Z"
   },
   {
    "duration": 2,
    "start_time": "2022-01-28T17:52:40.969Z"
   },
   {
    "duration": 29752,
    "start_time": "2022-01-28T17:52:42.492Z"
   },
   {
    "duration": 14442,
    "start_time": "2022-01-28T17:53:24.609Z"
   },
   {
    "duration": 33241,
    "start_time": "2022-01-28T17:54:07.551Z"
   },
   {
    "duration": 9,
    "start_time": "2022-01-28T17:54:55.874Z"
   },
   {
    "duration": 8,
    "start_time": "2022-01-28T18:16:19.788Z"
   },
   {
    "duration": 1126,
    "start_time": "2022-01-28T18:43:48.385Z"
   },
   {
    "duration": 32,
    "start_time": "2022-01-28T18:43:49.513Z"
   },
   {
    "duration": 8,
    "start_time": "2022-01-28T18:43:49.549Z"
   },
   {
    "duration": 12,
    "start_time": "2022-01-28T18:43:49.559Z"
   },
   {
    "duration": 7,
    "start_time": "2022-01-28T18:43:49.573Z"
   },
   {
    "duration": 7,
    "start_time": "2022-01-28T18:43:49.581Z"
   },
   {
    "duration": 6,
    "start_time": "2022-01-28T18:43:49.590Z"
   },
   {
    "duration": 3,
    "start_time": "2022-01-28T18:43:49.599Z"
   },
   {
    "duration": 4,
    "start_time": "2022-01-28T18:43:49.604Z"
   },
   {
    "duration": 404,
    "start_time": "2022-01-28T18:43:49.609Z"
   },
   {
    "duration": 6,
    "start_time": "2022-01-28T18:43:50.015Z"
   },
   {
    "duration": 423,
    "start_time": "2022-01-28T18:43:50.023Z"
   },
   {
    "duration": 3,
    "start_time": "2022-01-28T18:43:50.447Z"
   },
   {
    "duration": 1086,
    "start_time": "2022-01-28T18:43:50.452Z"
   },
   {
    "duration": 230,
    "start_time": "2022-01-28T18:43:51.540Z"
   },
   {
    "duration": 7,
    "start_time": "2022-01-28T18:43:51.772Z"
   },
   {
    "duration": 8,
    "start_time": "2022-01-28T18:43:51.781Z"
   },
   {
    "duration": 5,
    "start_time": "2022-01-28T18:43:51.790Z"
   },
   {
    "duration": 12,
    "start_time": "2022-01-28T18:43:51.796Z"
   },
   {
    "duration": 3,
    "start_time": "2022-01-28T18:43:51.810Z"
   },
   {
    "duration": 6,
    "start_time": "2022-01-28T18:43:51.815Z"
   },
   {
    "duration": 47,
    "start_time": "2022-01-28T18:43:51.824Z"
   },
   {
    "duration": 6,
    "start_time": "2022-01-28T18:43:51.873Z"
   },
   {
    "duration": 6,
    "start_time": "2022-01-28T18:43:51.880Z"
   },
   {
    "duration": 2,
    "start_time": "2022-01-28T18:43:51.887Z"
   },
   {
    "duration": 8,
    "start_time": "2022-01-28T18:43:51.891Z"
   },
   {
    "duration": 11,
    "start_time": "2022-01-28T18:43:51.900Z"
   },
   {
    "duration": 9,
    "start_time": "2022-01-28T18:43:51.913Z"
   },
   {
    "duration": 11,
    "start_time": "2022-01-28T18:43:51.923Z"
   },
   {
    "duration": 37,
    "start_time": "2022-01-28T18:43:51.936Z"
   },
   {
    "duration": 3,
    "start_time": "2022-01-28T18:43:51.974Z"
   },
   {
    "duration": 13907,
    "start_time": "2022-01-28T18:43:51.979Z"
   },
   {
    "duration": 7,
    "start_time": "2022-01-28T18:44:05.888Z"
   },
   {
    "duration": 87,
    "start_time": "2022-01-28T18:44:05.897Z"
   },
   {
    "duration": 3,
    "start_time": "2022-01-28T18:44:05.986Z"
   },
   {
    "duration": 26184,
    "start_time": "2022-01-28T18:44:05.991Z"
   },
   {
    "duration": 99,
    "start_time": "2022-01-28T18:44:32.179Z"
   },
   {
    "duration": 93,
    "start_time": "2022-01-28T18:44:32.281Z"
   },
   {
    "duration": 4,
    "start_time": "2022-01-28T18:44:32.377Z"
   },
   {
    "duration": 24701,
    "start_time": "2022-01-28T18:44:32.472Z"
   },
   {
    "duration": 100,
    "start_time": "2022-01-28T18:44:57.175Z"
   },
   {
    "duration": 95,
    "start_time": "2022-01-28T18:44:57.278Z"
   },
   {
    "duration": 4,
    "start_time": "2022-01-28T18:44:57.375Z"
   },
   {
    "duration": 5590,
    "start_time": "2022-01-28T18:44:57.381Z"
   },
   {
    "duration": 11,
    "start_time": "2022-01-28T18:45:02.973Z"
   },
   {
    "duration": 6,
    "start_time": "2022-01-28T18:45:02.985Z"
   },
   {
    "duration": 2,
    "start_time": "2022-01-28T18:45:02.993Z"
   },
   {
    "duration": 265366,
    "start_time": "2022-01-28T18:45:02.997Z"
   },
   {
    "duration": 2641,
    "start_time": "2022-01-28T18:49:28.371Z"
   },
   {
    "duration": 7,
    "start_time": "2022-01-28T18:49:31.014Z"
   },
   {
    "duration": 4,
    "start_time": "2022-01-28T18:49:31.023Z"
   },
   {
    "duration": 383716,
    "start_time": "2022-01-28T18:49:31.028Z"
   },
   {
    "duration": 15926,
    "start_time": "2022-01-28T18:55:54.746Z"
   },
   {
    "duration": 7,
    "start_time": "2022-01-28T18:56:10.673Z"
   },
   {
    "duration": 6,
    "start_time": "2022-01-28T18:56:10.682Z"
   },
   {
    "duration": 7,
    "start_time": "2022-01-28T18:56:10.689Z"
   },
   {
    "duration": 2,
    "start_time": "2022-01-28T18:56:10.697Z"
   },
   {
    "duration": 19865,
    "start_time": "2022-01-28T18:56:10.701Z"
   },
   {
    "duration": 7,
    "start_time": "2022-01-28T18:56:30.568Z"
   },
   {
    "duration": 3,
    "start_time": "2022-01-28T22:22:25.986Z"
   },
   {
    "duration": 32,
    "start_time": "2022-01-28T22:22:29.026Z"
   },
   {
    "duration": 6,
    "start_time": "2022-01-28T22:22:31.316Z"
   },
   {
    "duration": 7,
    "start_time": "2022-01-28T22:22:34.090Z"
   },
   {
    "duration": 8,
    "start_time": "2022-01-28T22:22:37.503Z"
   },
   {
    "duration": 9,
    "start_time": "2022-01-28T22:22:40.015Z"
   },
   {
    "duration": 4,
    "start_time": "2022-01-28T22:22:40.654Z"
   },
   {
    "duration": 3,
    "start_time": "2022-01-28T22:22:43.665Z"
   },
   {
    "duration": 3,
    "start_time": "2022-01-28T22:22:44.815Z"
   },
   {
    "duration": 363,
    "start_time": "2022-01-28T22:22:47.037Z"
   },
   {
    "duration": 6,
    "start_time": "2022-01-28T22:22:50.792Z"
   },
   {
    "duration": 605,
    "start_time": "2022-01-28T22:22:54.642Z"
   },
   {
    "duration": 3,
    "start_time": "2022-01-28T22:22:57.966Z"
   },
   {
    "duration": 1125,
    "start_time": "2022-01-28T22:23:00.143Z"
   },
   {
    "duration": 207,
    "start_time": "2022-01-28T22:23:05.203Z"
   },
   {
    "duration": 8,
    "start_time": "2022-01-28T22:23:09.342Z"
   },
   {
    "duration": 10,
    "start_time": "2022-01-28T22:23:11.607Z"
   },
   {
    "duration": 4,
    "start_time": "2022-01-28T22:24:51.145Z"
   },
   {
    "duration": 931,
    "start_time": "2022-01-28T22:25:10.544Z"
   },
   {
    "duration": 4,
    "start_time": "2022-01-28T22:25:36.375Z"
   },
   {
    "duration": 620,
    "start_time": "2022-01-28T22:25:37.297Z"
   },
   {
    "duration": 4,
    "start_time": "2022-01-28T22:26:01.484Z"
   },
   {
    "duration": 11,
    "start_time": "2022-01-28T22:26:02.357Z"
   },
   {
    "duration": 11,
    "start_time": "2022-01-28T22:26:15.207Z"
   },
   {
    "duration": 11,
    "start_time": "2022-01-28T22:26:18.433Z"
   },
   {
    "duration": 3,
    "start_time": "2022-01-28T22:26:32.095Z"
   },
   {
    "duration": 11,
    "start_time": "2022-01-28T22:26:58.786Z"
   },
   {
    "duration": 1349,
    "start_time": "2022-01-28T22:27:36.475Z"
   },
   {
    "duration": 32,
    "start_time": "2022-01-28T22:27:37.826Z"
   },
   {
    "duration": 10,
    "start_time": "2022-01-28T22:27:37.860Z"
   },
   {
    "duration": 8,
    "start_time": "2022-01-28T22:27:37.872Z"
   },
   {
    "duration": 7,
    "start_time": "2022-01-28T22:27:37.881Z"
   },
   {
    "duration": 8,
    "start_time": "2022-01-28T22:27:37.890Z"
   },
   {
    "duration": 5,
    "start_time": "2022-01-28T22:27:37.899Z"
   },
   {
    "duration": 3,
    "start_time": "2022-01-28T22:27:37.908Z"
   },
   {
    "duration": 6,
    "start_time": "2022-01-28T22:27:37.913Z"
   },
   {
    "duration": 402,
    "start_time": "2022-01-28T22:27:37.920Z"
   },
   {
    "duration": 5,
    "start_time": "2022-01-28T22:27:38.324Z"
   },
   {
    "duration": 417,
    "start_time": "2022-01-28T22:27:38.331Z"
   },
   {
    "duration": 3,
    "start_time": "2022-01-28T22:27:38.749Z"
   },
   {
    "duration": 1101,
    "start_time": "2022-01-28T22:27:38.754Z"
   },
   {
    "duration": 213,
    "start_time": "2022-01-28T22:27:39.856Z"
   },
   {
    "duration": 6,
    "start_time": "2022-01-28T22:27:40.071Z"
   },
   {
    "duration": 10,
    "start_time": "2022-01-28T22:27:40.079Z"
   },
   {
    "duration": 3,
    "start_time": "2022-01-28T22:27:40.091Z"
   },
   {
    "duration": 6,
    "start_time": "2022-01-28T22:27:40.096Z"
   },
   {
    "duration": 679,
    "start_time": "2022-01-28T22:27:40.103Z"
   },
   {
    "duration": 325,
    "start_time": "2022-01-28T22:27:40.460Z"
   },
   {
    "duration": 316,
    "start_time": "2022-01-28T22:27:40.470Z"
   },
   {
    "duration": 306,
    "start_time": "2022-01-28T22:27:40.481Z"
   },
   {
    "duration": 297,
    "start_time": "2022-01-28T22:27:40.490Z"
   },
   {
    "duration": 292,
    "start_time": "2022-01-28T22:27:40.496Z"
   },
   {
    "duration": 282,
    "start_time": "2022-01-28T22:27:40.507Z"
   },
   {
    "duration": 275,
    "start_time": "2022-01-28T22:27:40.515Z"
   },
   {
    "duration": 269,
    "start_time": "2022-01-28T22:27:40.522Z"
   },
   {
    "duration": 264,
    "start_time": "2022-01-28T22:27:40.527Z"
   },
   {
    "duration": 250,
    "start_time": "2022-01-28T22:27:40.542Z"
   },
   {
    "duration": 245,
    "start_time": "2022-01-28T22:27:40.547Z"
   },
   {
    "duration": 238,
    "start_time": "2022-01-28T22:27:40.555Z"
   },
   {
    "duration": 232,
    "start_time": "2022-01-28T22:27:40.562Z"
   },
   {
    "duration": 227,
    "start_time": "2022-01-28T22:27:40.568Z"
   },
   {
    "duration": 220,
    "start_time": "2022-01-28T22:27:40.575Z"
   },
   {
    "duration": 215,
    "start_time": "2022-01-28T22:27:40.581Z"
   },
   {
    "duration": 206,
    "start_time": "2022-01-28T22:27:40.591Z"
   },
   {
    "duration": 200,
    "start_time": "2022-01-28T22:27:40.597Z"
   },
   {
    "duration": 195,
    "start_time": "2022-01-28T22:27:40.603Z"
   },
   {
    "duration": 190,
    "start_time": "2022-01-28T22:27:40.609Z"
   },
   {
    "duration": 184,
    "start_time": "2022-01-28T22:27:40.615Z"
   },
   {
    "duration": 178,
    "start_time": "2022-01-28T22:27:40.622Z"
   },
   {
    "duration": 174,
    "start_time": "2022-01-28T22:27:40.627Z"
   },
   {
    "duration": 169,
    "start_time": "2022-01-28T22:27:40.633Z"
   },
   {
    "duration": 163,
    "start_time": "2022-01-28T22:27:40.639Z"
   },
   {
    "duration": 146,
    "start_time": "2022-01-28T22:27:40.657Z"
   },
   {
    "duration": 141,
    "start_time": "2022-01-28T22:27:40.663Z"
   },
   {
    "duration": 135,
    "start_time": "2022-01-28T22:27:40.669Z"
   },
   {
    "duration": 129,
    "start_time": "2022-01-28T22:27:40.676Z"
   },
   {
    "duration": 124,
    "start_time": "2022-01-28T22:27:40.682Z"
   },
   {
    "duration": 119,
    "start_time": "2022-01-28T22:27:40.688Z"
   },
   {
    "duration": 112,
    "start_time": "2022-01-28T22:27:40.695Z"
   },
   {
    "duration": 107,
    "start_time": "2022-01-28T22:27:40.701Z"
   },
   {
    "duration": 101,
    "start_time": "2022-01-28T22:27:40.708Z"
   },
   {
    "duration": 32,
    "start_time": "2022-01-28T22:27:40.778Z"
   },
   {
    "duration": 26,
    "start_time": "2022-01-28T22:27:40.785Z"
   },
   {
    "duration": 20,
    "start_time": "2022-01-28T22:27:40.791Z"
   },
   {
    "duration": 14,
    "start_time": "2022-01-28T22:27:40.798Z"
   },
   {
    "duration": 9,
    "start_time": "2022-01-28T22:27:40.804Z"
   },
   {
    "duration": 3,
    "start_time": "2022-01-28T22:27:40.811Z"
   },
   {
    "duration": -3,
    "start_time": "2022-01-28T22:27:40.817Z"
   },
   {
    "duration": -9,
    "start_time": "2022-01-28T22:27:40.824Z"
   },
   {
    "duration": -13,
    "start_time": "2022-01-28T22:27:40.829Z"
   },
   {
    "duration": -20,
    "start_time": "2022-01-28T22:27:40.836Z"
   },
   {
    "duration": 1199,
    "start_time": "2022-01-28T22:28:11.651Z"
   },
   {
    "duration": 30,
    "start_time": "2022-01-28T22:28:12.852Z"
   },
   {
    "duration": 9,
    "start_time": "2022-01-28T22:28:12.884Z"
   },
   {
    "duration": 7,
    "start_time": "2022-01-28T22:28:12.894Z"
   },
   {
    "duration": 8,
    "start_time": "2022-01-28T22:28:12.902Z"
   },
   {
    "duration": 7,
    "start_time": "2022-01-28T22:28:12.911Z"
   },
   {
    "duration": 5,
    "start_time": "2022-01-28T22:28:12.920Z"
   },
   {
    "duration": 3,
    "start_time": "2022-01-28T22:28:12.928Z"
   },
   {
    "duration": 6,
    "start_time": "2022-01-28T22:28:12.933Z"
   },
   {
    "duration": 411,
    "start_time": "2022-01-28T22:28:12.940Z"
   },
   {
    "duration": 20,
    "start_time": "2022-01-28T22:28:13.353Z"
   },
   {
    "duration": 572,
    "start_time": "2022-01-28T22:28:13.375Z"
   },
   {
    "duration": 4,
    "start_time": "2022-01-28T22:28:13.950Z"
   },
   {
    "duration": 1072,
    "start_time": "2022-01-28T22:28:13.972Z"
   },
   {
    "duration": 225,
    "start_time": "2022-01-28T22:28:15.046Z"
   },
   {
    "duration": 7,
    "start_time": "2022-01-28T22:28:15.273Z"
   },
   {
    "duration": 7,
    "start_time": "2022-01-28T22:28:15.282Z"
   },
   {
    "duration": 5,
    "start_time": "2022-01-28T22:28:15.291Z"
   },
   {
    "duration": 4,
    "start_time": "2022-01-28T22:28:15.298Z"
   },
   {
    "duration": 2456,
    "start_time": "2022-01-28T22:28:15.303Z"
   },
   {
    "duration": 334,
    "start_time": "2022-01-28T22:28:17.429Z"
   },
   {
    "duration": 326,
    "start_time": "2022-01-28T22:28:17.438Z"
   },
   {
    "duration": 320,
    "start_time": "2022-01-28T22:28:17.445Z"
   },
   {
    "duration": 314,
    "start_time": "2022-01-28T22:28:17.452Z"
   },
   {
    "duration": 308,
    "start_time": "2022-01-28T22:28:17.459Z"
   },
   {
    "duration": 302,
    "start_time": "2022-01-28T22:28:17.465Z"
   },
   {
    "duration": 296,
    "start_time": "2022-01-28T22:28:17.472Z"
   },
   {
    "duration": 292,
    "start_time": "2022-01-28T22:28:17.477Z"
   },
   {
    "duration": 286,
    "start_time": "2022-01-28T22:28:17.484Z"
   },
   {
    "duration": 281,
    "start_time": "2022-01-28T22:28:17.490Z"
   },
   {
    "duration": 276,
    "start_time": "2022-01-28T22:28:17.496Z"
   },
   {
    "duration": 272,
    "start_time": "2022-01-28T22:28:17.502Z"
   },
   {
    "duration": 250,
    "start_time": "2022-01-28T22:28:17.525Z"
   },
   {
    "duration": 235,
    "start_time": "2022-01-28T22:28:17.541Z"
   },
   {
    "duration": 221,
    "start_time": "2022-01-28T22:28:17.557Z"
   },
   {
    "duration": 208,
    "start_time": "2022-01-28T22:28:17.571Z"
   },
   {
    "duration": 193,
    "start_time": "2022-01-28T22:28:17.587Z"
   },
   {
    "duration": 180,
    "start_time": "2022-01-28T22:28:17.602Z"
   },
   {
    "duration": 166,
    "start_time": "2022-01-28T22:28:17.617Z"
   },
   {
    "duration": 161,
    "start_time": "2022-01-28T22:28:17.624Z"
   },
   {
    "duration": 156,
    "start_time": "2022-01-28T22:28:17.630Z"
   },
   {
    "duration": 150,
    "start_time": "2022-01-28T22:28:17.637Z"
   },
   {
    "duration": 146,
    "start_time": "2022-01-28T22:28:17.643Z"
   },
   {
    "duration": 139,
    "start_time": "2022-01-28T22:28:17.651Z"
   },
   {
    "duration": 133,
    "start_time": "2022-01-28T22:28:17.658Z"
   },
   {
    "duration": 128,
    "start_time": "2022-01-28T22:28:17.665Z"
   },
   {
    "duration": 122,
    "start_time": "2022-01-28T22:28:17.672Z"
   },
   {
    "duration": 119,
    "start_time": "2022-01-28T22:28:17.677Z"
   },
   {
    "duration": 114,
    "start_time": "2022-01-28T22:28:17.683Z"
   },
   {
    "duration": 109,
    "start_time": "2022-01-28T22:28:17.689Z"
   },
   {
    "duration": 105,
    "start_time": "2022-01-28T22:28:17.695Z"
   },
   {
    "duration": 99,
    "start_time": "2022-01-28T22:28:17.702Z"
   },
   {
    "duration": 93,
    "start_time": "2022-01-28T22:28:17.709Z"
   },
   {
    "duration": 89,
    "start_time": "2022-01-28T22:28:17.715Z"
   },
   {
    "duration": 72,
    "start_time": "2022-01-28T22:28:17.733Z"
   },
   {
    "duration": 66,
    "start_time": "2022-01-28T22:28:17.740Z"
   },
   {
    "duration": 62,
    "start_time": "2022-01-28T22:28:17.746Z"
   },
   {
    "duration": 57,
    "start_time": "2022-01-28T22:28:17.752Z"
   },
   {
    "duration": 52,
    "start_time": "2022-01-28T22:28:17.758Z"
   },
   {
    "duration": 48,
    "start_time": "2022-01-28T22:28:17.764Z"
   },
   {
    "duration": 43,
    "start_time": "2022-01-28T22:28:17.770Z"
   },
   {
    "duration": 38,
    "start_time": "2022-01-28T22:28:17.776Z"
   },
   {
    "duration": 88,
    "start_time": "2022-01-28T22:28:17.782Z"
   },
   {
    "duration": 55,
    "start_time": "2022-01-28T22:28:17.817Z"
   },
   {
    "duration": 4,
    "start_time": "2022-01-28T22:31:45.862Z"
   },
   {
    "duration": 597,
    "start_time": "2022-01-28T22:31:47.147Z"
   },
   {
    "duration": 4,
    "start_time": "2022-01-28T22:32:45.124Z"
   },
   {
    "duration": 11,
    "start_time": "2022-01-28T22:32:46.423Z"
   },
   {
    "duration": 6,
    "start_time": "2022-01-28T22:32:48.671Z"
   },
   {
    "duration": 4,
    "start_time": "2022-01-28T22:32:51.261Z"
   },
   {
    "duration": 12,
    "start_time": "2022-01-28T22:32:56.489Z"
   },
   {
    "duration": 11,
    "start_time": "2022-01-28T22:33:44.438Z"
   },
   {
    "duration": 10,
    "start_time": "2022-01-28T22:34:14.601Z"
   },
   {
    "duration": 4,
    "start_time": "2022-01-28T22:36:03.104Z"
   },
   {
    "duration": 8,
    "start_time": "2022-01-28T22:36:11.541Z"
   },
   {
    "duration": 4,
    "start_time": "2022-01-28T22:36:35.082Z"
   },
   {
    "duration": 845,
    "start_time": "2022-01-28T22:37:22.092Z"
   },
   {
    "duration": 8,
    "start_time": "2022-01-28T22:37:50.305Z"
   },
   {
    "duration": -43,
    "start_time": "2022-01-28T22:39:13.512Z"
   },
   {
    "duration": 7,
    "start_time": "2022-01-28T22:39:19.376Z"
   },
   {
    "duration": 5,
    "start_time": "2022-01-28T22:39:41.820Z"
   },
   {
    "duration": 1583,
    "start_time": "2022-01-29T09:18:06.067Z"
   },
   {
    "duration": 38,
    "start_time": "2022-01-29T09:18:07.652Z"
   },
   {
    "duration": 13,
    "start_time": "2022-01-29T09:18:07.692Z"
   },
   {
    "duration": 8,
    "start_time": "2022-01-29T09:18:07.707Z"
   },
   {
    "duration": 11,
    "start_time": "2022-01-29T09:18:07.717Z"
   },
   {
    "duration": 13,
    "start_time": "2022-01-29T09:18:07.730Z"
   },
   {
    "duration": 29,
    "start_time": "2022-01-29T09:18:07.745Z"
   },
   {
    "duration": 4,
    "start_time": "2022-01-29T09:18:07.777Z"
   },
   {
    "duration": 4,
    "start_time": "2022-01-29T09:18:07.783Z"
   },
   {
    "duration": 408,
    "start_time": "2022-01-29T09:18:07.788Z"
   },
   {
    "duration": 7,
    "start_time": "2022-01-29T09:18:08.198Z"
   },
   {
    "duration": 427,
    "start_time": "2022-01-29T09:18:08.207Z"
   },
   {
    "duration": 4,
    "start_time": "2022-01-29T09:18:08.636Z"
   },
   {
    "duration": 1108,
    "start_time": "2022-01-29T09:18:08.642Z"
   },
   {
    "duration": 237,
    "start_time": "2022-01-29T09:18:09.752Z"
   },
   {
    "duration": 6,
    "start_time": "2022-01-29T09:18:09.990Z"
   },
   {
    "duration": 8,
    "start_time": "2022-01-29T09:18:09.998Z"
   },
   {
    "duration": 3,
    "start_time": "2022-01-29T09:18:10.008Z"
   },
   {
    "duration": 16,
    "start_time": "2022-01-29T09:18:10.013Z"
   },
   {
    "duration": 4,
    "start_time": "2022-01-29T09:18:10.030Z"
   },
   {
    "duration": 38,
    "start_time": "2022-01-29T09:18:10.035Z"
   },
   {
    "duration": 5,
    "start_time": "2022-01-29T09:18:10.074Z"
   },
   {
    "duration": 6,
    "start_time": "2022-01-29T09:18:10.082Z"
   },
   {
    "duration": 5,
    "start_time": "2022-01-29T09:18:10.090Z"
   },
   {
    "duration": 401,
    "start_time": "2022-01-29T09:18:10.096Z"
   },
   {
    "duration": -793,
    "start_time": "2022-01-29T09:18:11.292Z"
   },
   {
    "duration": -801,
    "start_time": "2022-01-29T09:18:11.301Z"
   },
   {
    "duration": -807,
    "start_time": "2022-01-29T09:18:11.308Z"
   },
   {
    "duration": -815,
    "start_time": "2022-01-29T09:18:11.316Z"
   },
   {
    "duration": -820,
    "start_time": "2022-01-29T09:18:11.322Z"
   },
   {
    "duration": -825,
    "start_time": "2022-01-29T09:18:11.328Z"
   },
   {
    "duration": -829,
    "start_time": "2022-01-29T09:18:11.333Z"
   },
   {
    "duration": -835,
    "start_time": "2022-01-29T09:18:11.340Z"
   },
   {
    "duration": -839,
    "start_time": "2022-01-29T09:18:11.345Z"
   },
   {
    "duration": -844,
    "start_time": "2022-01-29T09:18:11.351Z"
   },
   {
    "duration": -849,
    "start_time": "2022-01-29T09:18:11.357Z"
   },
   {
    "duration": -854,
    "start_time": "2022-01-29T09:18:11.363Z"
   },
   {
    "duration": -859,
    "start_time": "2022-01-29T09:18:11.369Z"
   },
   {
    "duration": -864,
    "start_time": "2022-01-29T09:18:11.375Z"
   },
   {
    "duration": -868,
    "start_time": "2022-01-29T09:18:11.380Z"
   },
   {
    "duration": -885,
    "start_time": "2022-01-29T09:18:11.397Z"
   },
   {
    "duration": -892,
    "start_time": "2022-01-29T09:18:11.405Z"
   },
   {
    "duration": -896,
    "start_time": "2022-01-29T09:18:11.410Z"
   },
   {
    "duration": -902,
    "start_time": "2022-01-29T09:18:11.417Z"
   },
   {
    "duration": -906,
    "start_time": "2022-01-29T09:18:11.422Z"
   },
   {
    "duration": -911,
    "start_time": "2022-01-29T09:18:11.428Z"
   },
   {
    "duration": -917,
    "start_time": "2022-01-29T09:18:11.434Z"
   },
   {
    "duration": -921,
    "start_time": "2022-01-29T09:18:11.439Z"
   },
   {
    "duration": -926,
    "start_time": "2022-01-29T09:18:11.445Z"
   },
   {
    "duration": -930,
    "start_time": "2022-01-29T09:18:11.450Z"
   },
   {
    "duration": -935,
    "start_time": "2022-01-29T09:18:11.456Z"
   },
   {
    "duration": -939,
    "start_time": "2022-01-29T09:18:11.461Z"
   },
   {
    "duration": -944,
    "start_time": "2022-01-29T09:18:11.467Z"
   },
   {
    "duration": -948,
    "start_time": "2022-01-29T09:18:11.472Z"
   },
   {
    "duration": -953,
    "start_time": "2022-01-29T09:18:11.478Z"
   },
   {
    "duration": -957,
    "start_time": "2022-01-29T09:18:11.483Z"
   },
   {
    "duration": -962,
    "start_time": "2022-01-29T09:18:11.489Z"
   },
   {
    "duration": -966,
    "start_time": "2022-01-29T09:18:11.494Z"
   },
   {
    "duration": -981,
    "start_time": "2022-01-29T09:18:11.510Z"
   },
   {
    "duration": -986,
    "start_time": "2022-01-29T09:18:11.516Z"
   },
   {
    "duration": -992,
    "start_time": "2022-01-29T09:18:11.523Z"
   },
   {
    "duration": 5,
    "start_time": "2022-01-29T09:54:39.335Z"
   },
   {
    "duration": 7,
    "start_time": "2022-01-29T09:54:49.635Z"
   },
   {
    "duration": 4,
    "start_time": "2022-01-29T09:57:25.488Z"
   },
   {
    "duration": 124,
    "start_time": "2022-01-29T09:57:38.626Z"
   },
   {
    "duration": 4,
    "start_time": "2022-01-29T09:57:42.663Z"
   },
   {
    "duration": 317,
    "start_time": "2022-01-29T09:58:03.976Z"
   },
   {
    "duration": 4,
    "start_time": "2022-01-29T09:58:08.881Z"
   },
   {
    "duration": 5,
    "start_time": "2022-01-29T09:58:31.515Z"
   },
   {
    "duration": 7,
    "start_time": "2022-01-29T09:59:03.477Z"
   },
   {
    "duration": 3,
    "start_time": "2022-01-29T09:59:06.264Z"
   },
   {
    "duration": 3,
    "start_time": "2022-01-29T10:04:59.636Z"
   },
   {
    "duration": 3,
    "start_time": "2022-01-29T10:05:02.684Z"
   },
   {
    "duration": 3,
    "start_time": "2022-01-29T10:05:04.977Z"
   },
   {
    "duration": 7,
    "start_time": "2022-01-29T10:05:08.147Z"
   },
   {
    "duration": 7,
    "start_time": "2022-01-29T10:05:09.834Z"
   },
   {
    "duration": 3,
    "start_time": "2022-01-29T10:05:17.192Z"
   },
   {
    "duration": 17293,
    "start_time": "2022-01-29T10:05:21.010Z"
   },
   {
    "duration": 3,
    "start_time": "2022-01-29T10:06:34.835Z"
   },
   {
    "duration": 12689,
    "start_time": "2022-01-29T10:06:36.505Z"
   },
   {
    "duration": 3,
    "start_time": "2022-01-29T10:07:22.063Z"
   },
   {
    "duration": 14665,
    "start_time": "2022-01-29T10:07:23.537Z"
   },
   {
    "duration": 7,
    "start_time": "2022-01-29T10:07:50.775Z"
   },
   {
    "duration": 7,
    "start_time": "2022-01-29T10:07:52.476Z"
   },
   {
    "duration": 4,
    "start_time": "2022-01-29T10:07:58.225Z"
   },
   {
    "duration": 26405,
    "start_time": "2022-01-29T10:07:59.975Z"
   },
   {
    "duration": 17,
    "start_time": "2022-01-29T10:08:45.205Z"
   },
   {
    "duration": 7,
    "start_time": "2022-01-29T10:11:43.368Z"
   },
   {
    "duration": 3,
    "start_time": "2022-01-29T10:11:47.768Z"
   },
   {
    "duration": 26984,
    "start_time": "2022-01-29T10:11:49.992Z"
   },
   {
    "duration": 11,
    "start_time": "2022-01-29T10:12:19.906Z"
   },
   {
    "duration": 7,
    "start_time": "2022-01-29T10:12:20.605Z"
   },
   {
    "duration": 3,
    "start_time": "2022-01-29T10:12:28.493Z"
   },
   {
    "duration": 5665,
    "start_time": "2022-01-29T10:12:29.271Z"
   },
   {
    "duration": 16,
    "start_time": "2022-01-29T10:12:40.799Z"
   },
   {
    "duration": 6,
    "start_time": "2022-01-29T10:12:42.619Z"
   },
   {
    "duration": 3,
    "start_time": "2022-01-29T10:12:49.519Z"
   },
   {
    "duration": 274311,
    "start_time": "2022-01-29T10:12:50.631Z"
   },
   {
    "duration": 2,
    "start_time": "2022-01-29T10:18:59.591Z"
   },
   {
    "duration": 4527066,
    "start_time": "2022-01-29T10:19:00.640Z"
   },
   {
    "duration": 4117,
    "start_time": "2022-01-29T11:37:10.587Z"
   },
   {
    "duration": 7,
    "start_time": "2022-01-29T11:37:16.287Z"
   },
   {
    "duration": 2,
    "start_time": "2022-01-29T11:37:33.712Z"
   },
   {
    "duration": 496605,
    "start_time": "2022-01-29T11:37:35.889Z"
   },
   {
    "duration": 9,
    "start_time": "2022-01-29T11:47:10.228Z"
   },
   {
    "duration": 357126,
    "start_time": "2022-01-29T11:47:11.053Z"
   },
   {
    "duration": 12396,
    "start_time": "2022-01-29T11:53:30.969Z"
   },
   {
    "duration": 8,
    "start_time": "2022-01-29T11:53:45.697Z"
   },
   {
    "duration": 3,
    "start_time": "2022-01-29T11:54:48.222Z"
   },
   {
    "duration": 264994,
    "start_time": "2022-01-29T11:54:50.437Z"
   },
   {
    "duration": 10263,
    "start_time": "2022-01-29T11:59:37.588Z"
   },
   {
    "duration": 2,
    "start_time": "2022-01-29T11:59:58.969Z"
   },
   {
    "duration": 401715,
    "start_time": "2022-01-29T12:00:02.850Z"
   },
   {
    "duration": 13813,
    "start_time": "2022-01-29T12:07:26.661Z"
   },
   {
    "duration": 3,
    "start_time": "2022-01-29T12:07:56.121Z"
   },
   {
    "duration": 770557,
    "start_time": "2022-01-29T12:07:57.667Z"
   },
   {
    "duration": 25639,
    "start_time": "2022-01-29T12:27:45.397Z"
   },
   {
    "duration": 2,
    "start_time": "2022-01-29T12:28:25.826Z"
   },
   {
    "duration": 564523,
    "start_time": "2022-01-29T12:28:27.196Z"
   },
   {
    "duration": 24540,
    "start_time": "2022-01-29T12:38:13.522Z"
   },
   {
    "duration": 3,
    "start_time": "2022-01-29T12:39:38.600Z"
   },
   {
    "duration": 160981,
    "start_time": "2022-01-29T12:39:41.907Z"
   },
   {
    "duration": 6209,
    "start_time": "2022-01-29T12:42:37.812Z"
   },
   {
    "duration": 3,
    "start_time": "2022-01-29T12:44:31.282Z"
   },
   {
    "duration": 248236,
    "start_time": "2022-01-29T12:44:34.014Z"
   },
   {
    "duration": 11139,
    "start_time": "2022-01-29T12:56:55.529Z"
   },
   {
    "duration": 3,
    "start_time": "2022-01-29T12:57:17.241Z"
   },
   {
    "duration": 154582,
    "start_time": "2022-01-29T12:57:18.176Z"
   },
   {
    "duration": 10091,
    "start_time": "2022-01-29T13:00:09.250Z"
   },
   {
    "duration": 3,
    "start_time": "2022-01-29T13:00:34.257Z"
   },
   {
    "duration": 185088,
    "start_time": "2022-01-29T13:00:35.748Z"
   },
   {
    "duration": 22438,
    "start_time": "2022-01-29T13:04:09.886Z"
   },
   {
    "duration": 3,
    "start_time": "2022-01-29T13:06:14.873Z"
   },
   {
    "duration": 327786,
    "start_time": "2022-01-29T13:06:16.802Z"
   },
   {
    "duration": 12354,
    "start_time": "2022-01-29T13:22:05.407Z"
   },
   {
    "duration": 8,
    "start_time": "2022-01-29T13:25:14.071Z"
   },
   {
    "duration": 4,
    "start_time": "2022-01-29T13:27:12.036Z"
   },
   {
    "duration": 7,
    "start_time": "2022-01-29T13:27:15.232Z"
   },
   {
    "duration": 2,
    "start_time": "2022-01-29T13:27:19.528Z"
   },
   {
    "duration": 17228,
    "start_time": "2022-01-29T13:27:21.303Z"
   },
   {
    "duration": 7,
    "start_time": "2022-01-29T13:27:56.419Z"
   },
   {
    "duration": 324,
    "start_time": "2022-01-29T13:29:49.700Z"
   },
   {
    "duration": 4,
    "start_time": "2022-01-29T13:31:45.351Z"
   },
   {
    "duration": 542,
    "start_time": "2022-01-29T13:52:55.226Z"
   },
   {
    "duration": 431,
    "start_time": "2022-01-29T13:53:06.204Z"
   },
   {
    "duration": 320,
    "start_time": "2022-01-29T13:53:17.792Z"
   },
   {
    "duration": 358,
    "start_time": "2022-01-29T14:00:29.414Z"
   },
   {
    "duration": 440,
    "start_time": "2022-01-29T14:02:46.882Z"
   },
   {
    "duration": 310,
    "start_time": "2022-01-29T14:03:07.786Z"
   },
   {
    "duration": 5,
    "start_time": "2022-01-29T14:16:27.901Z"
   },
   {
    "duration": 4,
    "start_time": "2022-01-29T14:16:35.909Z"
   },
   {
    "duration": 8,
    "start_time": "2022-01-29T14:17:01.944Z"
   },
   {
    "duration": 3,
    "start_time": "2022-01-29T14:17:10.252Z"
   },
   {
    "duration": 4,
    "start_time": "2022-01-29T14:17:36.835Z"
   },
   {
    "duration": 6,
    "start_time": "2022-01-29T14:17:47.964Z"
   },
   {
    "duration": 322,
    "start_time": "2022-01-29T14:18:12.030Z"
   },
   {
    "duration": 323,
    "start_time": "2022-01-29T14:18:37.562Z"
   },
   {
    "duration": 18,
    "start_time": "2022-01-29T14:22:59.145Z"
   },
   {
    "duration": 4,
    "start_time": "2022-01-29T14:23:08.794Z"
   },
   {
    "duration": 334,
    "start_time": "2022-01-29T14:25:49.848Z"
   },
   {
    "duration": 348,
    "start_time": "2022-01-29T14:25:57.697Z"
   },
   {
    "duration": 1078,
    "start_time": "2022-01-29T14:46:37.501Z"
   },
   {
    "duration": 31,
    "start_time": "2022-01-29T14:46:38.580Z"
   },
   {
    "duration": 9,
    "start_time": "2022-01-29T14:46:38.613Z"
   },
   {
    "duration": 6,
    "start_time": "2022-01-29T14:46:38.623Z"
   },
   {
    "duration": 7,
    "start_time": "2022-01-29T14:46:38.631Z"
   },
   {
    "duration": 8,
    "start_time": "2022-01-29T14:46:38.640Z"
   },
   {
    "duration": 23,
    "start_time": "2022-01-29T14:46:38.649Z"
   },
   {
    "duration": 3,
    "start_time": "2022-01-29T14:46:38.674Z"
   },
   {
    "duration": 4,
    "start_time": "2022-01-29T14:46:38.679Z"
   },
   {
    "duration": 391,
    "start_time": "2022-01-29T14:46:38.684Z"
   },
   {
    "duration": 6,
    "start_time": "2022-01-29T14:46:39.076Z"
   },
   {
    "duration": 432,
    "start_time": "2022-01-29T14:46:39.083Z"
   },
   {
    "duration": 3,
    "start_time": "2022-01-29T14:46:39.517Z"
   },
   {
    "duration": 1109,
    "start_time": "2022-01-29T14:46:39.521Z"
   },
   {
    "duration": 220,
    "start_time": "2022-01-29T14:46:40.631Z"
   },
   {
    "duration": 8,
    "start_time": "2022-01-29T14:46:40.852Z"
   },
   {
    "duration": 17,
    "start_time": "2022-01-29T14:46:40.861Z"
   },
   {
    "duration": 4,
    "start_time": "2022-01-29T14:46:40.880Z"
   },
   {
    "duration": 13,
    "start_time": "2022-01-29T14:46:40.886Z"
   },
   {
    "duration": 4,
    "start_time": "2022-01-29T14:46:40.900Z"
   },
   {
    "duration": 7,
    "start_time": "2022-01-29T14:46:40.906Z"
   },
   {
    "duration": 3,
    "start_time": "2022-01-29T14:46:40.915Z"
   },
   {
    "duration": 10,
    "start_time": "2022-01-29T14:46:40.920Z"
   },
   {
    "duration": 44,
    "start_time": "2022-01-29T14:46:40.932Z"
   },
   {
    "duration": 2,
    "start_time": "2022-01-29T14:46:40.978Z"
   },
   {
    "duration": 5,
    "start_time": "2022-01-29T14:46:40.982Z"
   },
   {
    "duration": 9,
    "start_time": "2022-01-29T14:46:40.991Z"
   },
   {
    "duration": 9,
    "start_time": "2022-01-29T14:46:41.002Z"
   },
   {
    "duration": 13,
    "start_time": "2022-01-29T14:46:41.012Z"
   },
   {
    "duration": 50,
    "start_time": "2022-01-29T14:46:41.026Z"
   },
   {
    "duration": 3,
    "start_time": "2022-01-29T14:46:41.077Z"
   },
   {
    "duration": 15491,
    "start_time": "2022-01-29T14:46:41.082Z"
   },
   {
    "duration": 7,
    "start_time": "2022-01-29T14:46:56.575Z"
   },
   {
    "duration": 89,
    "start_time": "2022-01-29T14:46:56.584Z"
   },
   {
    "duration": 3,
    "start_time": "2022-01-29T14:46:56.674Z"
   },
   {
    "duration": 25296,
    "start_time": "2022-01-29T14:46:56.679Z"
   },
   {
    "duration": 100,
    "start_time": "2022-01-29T14:47:21.977Z"
   },
   {
    "duration": 99,
    "start_time": "2022-01-29T14:47:22.079Z"
   },
   {
    "duration": 93,
    "start_time": "2022-01-29T14:47:22.179Z"
   },
   {
    "duration": 26400,
    "start_time": "2022-01-29T14:47:22.273Z"
   },
   {
    "duration": 98,
    "start_time": "2022-01-29T14:47:48.684Z"
   },
   {
    "duration": 91,
    "start_time": "2022-01-29T14:47:48.785Z"
   },
   {
    "duration": 94,
    "start_time": "2022-01-29T14:47:48.879Z"
   },
   {
    "duration": 4198,
    "start_time": "2022-01-29T14:47:48.974Z"
   },
   {
    "duration": 16,
    "start_time": "2022-01-29T14:47:53.173Z"
   },
   {
    "duration": 6,
    "start_time": "2022-01-29T14:47:53.190Z"
   },
   {
    "duration": 3,
    "start_time": "2022-01-29T14:47:53.198Z"
   },
   {
    "duration": 454346,
    "start_time": "2022-01-29T14:47:53.203Z"
   },
   {
    "duration": 4053,
    "start_time": "2022-01-29T14:55:27.551Z"
   },
   {
    "duration": 8,
    "start_time": "2022-01-29T14:55:31.605Z"
   },
   {
    "duration": 3,
    "start_time": "2022-01-29T14:55:31.615Z"
   },
   {
    "duration": 231064,
    "start_time": "2022-01-29T14:55:31.620Z"
   },
   {
    "duration": 12812,
    "start_time": "2022-01-29T14:59:22.685Z"
   },
   {
    "duration": 7,
    "start_time": "2022-01-29T14:59:35.499Z"
   },
   {
    "duration": 5,
    "start_time": "2022-01-29T14:59:35.507Z"
   },
   {
    "duration": 7,
    "start_time": "2022-01-29T14:59:35.513Z"
   },
   {
    "duration": 3,
    "start_time": "2022-01-29T14:59:35.521Z"
   },
   {
    "duration": 17293,
    "start_time": "2022-01-29T14:59:35.525Z"
   },
   {
    "duration": 8,
    "start_time": "2022-01-29T14:59:52.820Z"
   },
   {
    "duration": 7,
    "start_time": "2022-01-29T14:59:52.830Z"
   },
   {
    "duration": 5,
    "start_time": "2022-01-29T14:59:52.839Z"
   },
   {
    "duration": 489,
    "start_time": "2022-01-29T14:59:52.845Z"
   },
   {
    "duration": 1623,
    "start_time": "2022-01-30T10:05:13.980Z"
   },
   {
    "duration": 37,
    "start_time": "2022-01-30T10:05:18.848Z"
   },
   {
    "duration": 14,
    "start_time": "2022-01-30T10:05:20.579Z"
   },
   {
    "duration": 10,
    "start_time": "2022-01-30T10:05:23.161Z"
   },
   {
    "duration": 12,
    "start_time": "2022-01-30T10:05:26.324Z"
   },
   {
    "duration": 18,
    "start_time": "2022-01-30T10:05:30.687Z"
   },
   {
    "duration": 7,
    "start_time": "2022-01-30T10:05:31.475Z"
   },
   {
    "duration": 5,
    "start_time": "2022-01-30T10:05:34.300Z"
   },
   {
    "duration": 5,
    "start_time": "2022-01-30T10:05:35.612Z"
   },
   {
    "duration": 658,
    "start_time": "2022-01-30T10:05:37.516Z"
   },
   {
    "duration": 9,
    "start_time": "2022-01-30T10:05:42.125Z"
   },
   {
    "duration": 817,
    "start_time": "2022-01-30T10:05:55.626Z"
   },
   {
    "duration": 4,
    "start_time": "2022-01-30T10:05:59.251Z"
   },
   {
    "duration": 1854,
    "start_time": "2022-01-30T10:06:01.715Z"
   },
   {
    "duration": 374,
    "start_time": "2022-01-30T10:06:07.642Z"
   },
   {
    "duration": 11,
    "start_time": "2022-01-30T10:06:11.739Z"
   },
   {
    "duration": 13,
    "start_time": "2022-01-30T10:06:14.753Z"
   },
   {
    "duration": 6,
    "start_time": "2022-01-30T10:06:18.976Z"
   },
   {
    "duration": 17,
    "start_time": "2022-01-30T10:06:24.776Z"
   },
   {
    "duration": 5,
    "start_time": "2022-01-30T10:06:27.356Z"
   },
   {
    "duration": 9,
    "start_time": "2022-01-30T10:06:28.114Z"
   },
   {
    "duration": 6,
    "start_time": "2022-01-30T10:06:32.376Z"
   },
   {
    "duration": 11,
    "start_time": "2022-01-30T10:06:34.965Z"
   },
   {
    "duration": 12,
    "start_time": "2022-01-30T10:06:38.901Z"
   },
   {
    "duration": 4,
    "start_time": "2022-01-30T10:06:41.302Z"
   },
   {
    "duration": 6,
    "start_time": "2022-01-30T10:07:34.440Z"
   },
   {
    "duration": 5,
    "start_time": "2022-01-30T10:07:40.164Z"
   },
   {
    "duration": 3,
    "start_time": "2022-01-30T10:07:42.740Z"
   },
   {
    "duration": 10,
    "start_time": "2022-01-30T10:07:45.276Z"
   },
   {
    "duration": 10,
    "start_time": "2022-01-30T10:07:46.738Z"
   },
   {
    "duration": 5,
    "start_time": "2022-01-30T10:07:50.202Z"
   },
   {
    "duration": 1716,
    "start_time": "2022-01-30T10:07:53.166Z"
   },
   {
    "duration": 546,
    "start_time": "2022-01-30T10:08:24.853Z"
   },
   {
    "duration": 6,
    "start_time": "2022-01-30T10:08:36.178Z"
   },
   {
    "duration": 22605,
    "start_time": "2022-01-30T10:08:43.048Z"
   },
   {
    "duration": 4,
    "start_time": "2022-01-30T10:11:01.795Z"
   },
   {
    "duration": 8758,
    "start_time": "2022-01-30T10:11:03.369Z"
   },
   {
    "duration": 4,
    "start_time": "2022-01-30T10:11:21.644Z"
   },
   {
    "duration": 4,
    "start_time": "2022-01-30T10:11:26.434Z"
   },
   {
    "duration": 8665,
    "start_time": "2022-01-30T10:11:28.383Z"
   },
   {
    "duration": 4,
    "start_time": "2022-01-30T10:11:50.458Z"
   },
   {
    "duration": 11244,
    "start_time": "2022-01-30T10:11:52.094Z"
   },
   {
    "duration": 10,
    "start_time": "2022-01-30T10:12:06.505Z"
   },
   {
    "duration": 10,
    "start_time": "2022-01-30T10:12:22.097Z"
   },
   {
    "duration": 5,
    "start_time": "2022-01-30T10:12:26.020Z"
   },
   {
    "duration": 28926,
    "start_time": "2022-01-30T10:12:28.607Z"
   },
   {
    "duration": 11,
    "start_time": "2022-01-30T10:13:03.109Z"
   },
   {
    "duration": 51,
    "start_time": "2022-01-30T10:13:12.372Z"
   },
   {
    "duration": 11,
    "start_time": "2022-01-30T10:13:13.492Z"
   },
   {
    "duration": 5,
    "start_time": "2022-01-30T10:13:18.461Z"
   },
   {
    "duration": 29291,
    "start_time": "2022-01-30T10:13:20.834Z"
   },
   {
    "duration": 15,
    "start_time": "2022-01-30T10:13:57.373Z"
   },
   {
    "duration": 10,
    "start_time": "2022-01-30T10:14:01.672Z"
   },
   {
    "duration": 4,
    "start_time": "2022-01-30T10:14:05.560Z"
   },
   {
    "duration": 4669,
    "start_time": "2022-01-30T10:14:07.197Z"
   },
   {
    "duration": 21,
    "start_time": "2022-01-30T10:14:20.323Z"
   },
   {
    "duration": 11,
    "start_time": "2022-01-30T10:14:27.360Z"
   },
   {
    "duration": 4,
    "start_time": "2022-01-30T10:14:31.948Z"
   },
   {
    "duration": 411260,
    "start_time": "2022-01-30T10:14:53.987Z"
   },
   {
    "duration": 4,
    "start_time": "2022-01-30T10:22:15.734Z"
   },
   {
    "duration": 521790,
    "start_time": "2022-01-30T10:22:17.207Z"
   },
   {
    "duration": 5396,
    "start_time": "2022-01-30T10:31:19.647Z"
   },
   {
    "duration": 11,
    "start_time": "2022-01-30T10:31:35.770Z"
   },
   {
    "duration": 7,
    "start_time": "2022-01-30T10:31:40.119Z"
   },
   {
    "duration": 267645,
    "start_time": "2022-01-30T10:31:41.694Z"
   },
   {
    "duration": 24466,
    "start_time": "2022-01-30T10:36:55.026Z"
   },
   {
    "duration": 13,
    "start_time": "2022-01-30T10:37:27.264Z"
   },
   {
    "duration": 6,
    "start_time": "2022-01-30T10:38:05.318Z"
   },
   {
    "duration": 9,
    "start_time": "2022-01-30T10:38:07.948Z"
   },
   {
    "duration": 4,
    "start_time": "2022-01-30T10:38:10.530Z"
   },
   {
    "duration": 30982,
    "start_time": "2022-01-30T10:38:12.313Z"
   },
   {
    "duration": 16,
    "start_time": "2022-01-30T10:39:01.329Z"
   },
   {
    "duration": 10,
    "start_time": "2022-01-30T10:39:40.942Z"
   },
   {
    "duration": 6,
    "start_time": "2022-01-30T10:39:41.644Z"
   },
   {
    "duration": 669,
    "start_time": "2022-01-30T10:39:44.343Z"
   },
   {
    "duration": 1524,
    "start_time": "2022-01-30T10:40:23.848Z"
   },
   {
    "duration": 37,
    "start_time": "2022-01-30T10:40:25.375Z"
   },
   {
    "duration": 19,
    "start_time": "2022-01-30T10:40:25.416Z"
   },
   {
    "duration": 12,
    "start_time": "2022-01-30T10:40:25.439Z"
   },
   {
    "duration": 11,
    "start_time": "2022-01-30T10:40:25.454Z"
   },
   {
    "duration": 60,
    "start_time": "2022-01-30T10:40:25.468Z"
   },
   {
    "duration": 8,
    "start_time": "2022-01-30T10:40:25.530Z"
   },
   {
    "duration": 6,
    "start_time": "2022-01-30T10:40:25.541Z"
   },
   {
    "duration": 4,
    "start_time": "2022-01-30T10:40:25.553Z"
   },
   {
    "duration": 687,
    "start_time": "2022-01-30T10:40:25.562Z"
   },
   {
    "duration": 11,
    "start_time": "2022-01-30T10:40:26.252Z"
   },
   {
    "duration": 725,
    "start_time": "2022-01-30T10:40:26.266Z"
   },
   {
    "duration": 5,
    "start_time": "2022-01-30T10:40:26.994Z"
   },
   {
    "duration": 1771,
    "start_time": "2022-01-30T10:40:27.001Z"
   },
   {
    "duration": 400,
    "start_time": "2022-01-30T10:40:28.775Z"
   },
   {
    "duration": 13,
    "start_time": "2022-01-30T10:40:29.179Z"
   },
   {
    "duration": 38,
    "start_time": "2022-01-30T10:40:29.195Z"
   },
   {
    "duration": 8,
    "start_time": "2022-01-30T10:40:29.236Z"
   },
   {
    "duration": 22,
    "start_time": "2022-01-30T10:40:29.246Z"
   },
   {
    "duration": 6,
    "start_time": "2022-01-30T10:40:29.270Z"
   },
   {
    "duration": 47,
    "start_time": "2022-01-30T10:40:29.278Z"
   },
   {
    "duration": 5,
    "start_time": "2022-01-30T10:40:29.327Z"
   },
   {
    "duration": 12,
    "start_time": "2022-01-30T10:40:29.335Z"
   },
   {
    "duration": 10,
    "start_time": "2022-01-30T10:40:29.350Z"
   },
   {
    "duration": 3,
    "start_time": "2022-01-30T10:40:29.363Z"
   },
   {
    "duration": 6,
    "start_time": "2022-01-30T10:40:29.369Z"
   },
   {
    "duration": 43,
    "start_time": "2022-01-30T10:40:29.382Z"
   },
   {
    "duration": 7,
    "start_time": "2022-01-30T10:40:29.428Z"
   },
   {
    "duration": 14,
    "start_time": "2022-01-30T10:40:29.437Z"
   },
   {
    "duration": 76,
    "start_time": "2022-01-30T10:40:29.455Z"
   },
   {
    "duration": 9,
    "start_time": "2022-01-30T10:40:29.535Z"
   },
   {
    "duration": 9398,
    "start_time": "2022-01-30T10:40:29.547Z"
   },
   {
    "duration": 80,
    "start_time": "2022-01-30T10:40:38.947Z"
   },
   {
    "duration": 10,
    "start_time": "2022-01-30T10:40:39.029Z"
   },
   {
    "duration": 81,
    "start_time": "2022-01-30T10:40:39.043Z"
   },
   {
    "duration": 40507,
    "start_time": "2022-01-30T10:40:39.128Z"
   },
   {
    "duration": 105,
    "start_time": "2022-01-30T10:41:19.725Z"
   },
   {
    "duration": 103,
    "start_time": "2022-01-30T10:41:19.833Z"
   },
   {
    "duration": 6,
    "start_time": "2022-01-30T10:41:19.939Z"
   },
   {
    "duration": 45703,
    "start_time": "2022-01-30T10:41:20.023Z"
   },
   {
    "duration": 199,
    "start_time": "2022-01-30T10:42:05.729Z"
   },
   {
    "duration": 100,
    "start_time": "2022-01-30T10:42:05.936Z"
   },
   {
    "duration": 15,
    "start_time": "2022-01-30T10:42:06.039Z"
   },
   {
    "duration": 4483,
    "start_time": "2022-01-30T10:42:06.057Z"
   },
   {
    "duration": 22,
    "start_time": "2022-01-30T10:42:10.542Z"
   },
   {
    "duration": 10,
    "start_time": "2022-01-30T10:42:10.566Z"
   },
   {
    "duration": 4,
    "start_time": "2022-01-30T10:42:10.578Z"
   },
   {
    "duration": 302231,
    "start_time": "2022-01-30T10:42:10.585Z"
   },
   {
    "duration": 5419,
    "start_time": "2022-01-30T10:47:12.823Z"
   },
   {
    "duration": 12,
    "start_time": "2022-01-30T10:47:18.245Z"
   },
   {
    "duration": 9,
    "start_time": "2022-01-30T10:47:18.260Z"
   },
   {
    "duration": 1644,
    "start_time": "2022-09-18T18:51:21.258Z"
   },
   {
    "duration": 123,
    "start_time": "2022-09-18T18:51:22.904Z"
   },
   {
    "duration": 11,
    "start_time": "2022-09-18T18:51:23.028Z"
   },
   {
    "duration": 17,
    "start_time": "2022-09-18T18:51:23.041Z"
   },
   {
    "duration": 8,
    "start_time": "2022-09-18T18:51:23.060Z"
   },
   {
    "duration": 14,
    "start_time": "2022-09-18T18:51:23.070Z"
   },
   {
    "duration": 10,
    "start_time": "2022-09-18T18:51:23.086Z"
   },
   {
    "duration": 7,
    "start_time": "2022-09-18T18:51:23.097Z"
   },
   {
    "duration": 18,
    "start_time": "2022-09-18T18:51:23.106Z"
   },
   {
    "duration": 313,
    "start_time": "2022-09-18T18:51:23.126Z"
   },
   {
    "duration": 8,
    "start_time": "2022-09-18T18:51:23.441Z"
   },
   {
    "duration": 438,
    "start_time": "2022-09-18T18:51:23.451Z"
   },
   {
    "duration": 4,
    "start_time": "2022-09-18T18:51:23.891Z"
   },
   {
    "duration": 859,
    "start_time": "2022-09-18T18:51:23.898Z"
   },
   {
    "duration": 190,
    "start_time": "2022-09-18T18:51:24.759Z"
   },
   {
    "duration": 8,
    "start_time": "2022-09-18T18:51:24.951Z"
   },
   {
    "duration": 10,
    "start_time": "2022-09-18T18:51:24.961Z"
   },
   {
    "duration": 6,
    "start_time": "2022-09-18T18:51:24.973Z"
   },
   {
    "duration": 20,
    "start_time": "2022-09-18T18:51:24.980Z"
   },
   {
    "duration": 20,
    "start_time": "2022-09-18T18:51:25.002Z"
   },
   {
    "duration": 12,
    "start_time": "2022-09-18T18:51:25.024Z"
   },
   {
    "duration": 5,
    "start_time": "2022-09-18T18:51:25.038Z"
   },
   {
    "duration": 10,
    "start_time": "2022-09-18T18:51:25.045Z"
   },
   {
    "duration": 11,
    "start_time": "2022-09-18T18:51:25.057Z"
   },
   {
    "duration": 3,
    "start_time": "2022-09-18T18:51:25.069Z"
   },
   {
    "duration": 9,
    "start_time": "2022-09-18T18:51:25.074Z"
   },
   {
    "duration": 40,
    "start_time": "2022-09-18T18:51:25.084Z"
   },
   {
    "duration": 15,
    "start_time": "2022-09-18T18:51:25.125Z"
   },
   {
    "duration": 11,
    "start_time": "2022-09-18T18:51:25.142Z"
   },
   {
    "duration": 65,
    "start_time": "2022-09-18T18:51:25.155Z"
   },
   {
    "duration": 4,
    "start_time": "2022-09-18T18:51:25.222Z"
   },
   {
    "duration": 8696,
    "start_time": "2022-09-18T18:51:25.228Z"
   },
   {
    "duration": 9,
    "start_time": "2022-09-18T18:51:33.926Z"
   },
   {
    "duration": 89,
    "start_time": "2022-09-18T18:51:33.937Z"
   },
   {
    "duration": 9,
    "start_time": "2022-09-18T18:51:34.028Z"
   },
   {
    "duration": 27887,
    "start_time": "2022-09-18T18:51:34.039Z"
   },
   {
    "duration": 98,
    "start_time": "2022-09-18T18:52:01.930Z"
   },
   {
    "duration": 204,
    "start_time": "2022-09-18T18:52:02.029Z"
   },
   {
    "duration": 8,
    "start_time": "2022-09-18T18:52:02.235Z"
   },
   {
    "duration": 28185,
    "start_time": "2022-09-18T18:52:02.244Z"
   },
   {
    "duration": 96,
    "start_time": "2022-09-18T18:52:30.434Z"
   },
   {
    "duration": 213,
    "start_time": "2022-09-18T18:52:30.532Z"
   },
   {
    "duration": 20,
    "start_time": "2022-09-18T18:52:30.747Z"
   },
   {
    "duration": 3863,
    "start_time": "2022-09-18T18:52:30.769Z"
   },
   {
    "duration": 19,
    "start_time": "2022-09-18T18:52:34.634Z"
   },
   {
    "duration": 9,
    "start_time": "2022-09-18T18:52:34.655Z"
   },
   {
    "duration": 6,
    "start_time": "2022-09-18T18:52:34.666Z"
   },
   {
    "duration": 242904,
    "start_time": "2022-09-18T18:52:34.674Z"
   },
   {
    "duration": 4748,
    "start_time": "2022-09-18T18:56:37.580Z"
   },
   {
    "duration": 10,
    "start_time": "2022-09-18T18:56:42.336Z"
   },
   {
    "duration": 13,
    "start_time": "2022-09-18T18:56:42.348Z"
   },
   {
    "duration": 39856,
    "start_time": "2022-09-18T18:56:42.363Z"
   },
   {
    "duration": 2714,
    "start_time": "2022-09-18T18:57:22.221Z"
   },
   {
    "duration": 10,
    "start_time": "2022-09-18T18:57:24.937Z"
   },
   {
    "duration": 8,
    "start_time": "2022-09-18T18:57:24.948Z"
   },
   {
    "duration": 13,
    "start_time": "2022-09-18T18:57:24.958Z"
   },
   {
    "duration": 2,
    "start_time": "2022-09-18T18:57:24.973Z"
   },
   {
    "duration": 8251,
    "start_time": "2022-09-18T18:57:24.976Z"
   },
   {
    "duration": 10,
    "start_time": "2022-09-18T18:57:33.229Z"
   },
   {
    "duration": 31,
    "start_time": "2022-09-18T18:57:33.240Z"
   },
   {
    "duration": 18,
    "start_time": "2022-09-18T18:57:33.273Z"
   },
   {
    "duration": 323,
    "start_time": "2022-09-18T18:57:33.293Z"
   }
  ],
  "kernelspec": {
   "display_name": "Python 3",
   "language": "python",
   "name": "python3"
  },
  "language_info": {
   "codemirror_mode": {
    "name": "ipython",
    "version": 3
   },
   "file_extension": ".py",
   "mimetype": "text/x-python",
   "name": "python",
   "nbconvert_exporter": "python",
   "pygments_lexer": "ipython3",
   "version": "3.7.7"
  },
  "toc": {
   "base_numbering": 1,
   "nav_menu": {},
   "number_sections": false,
   "sideBar": true,
   "skip_h1_title": false,
   "title_cell": "Содержание",
   "title_sidebar": "Contents",
   "toc_cell": true,
   "toc_position": {
    "height": "calc(100% - 180px)",
    "left": "10px",
    "top": "150px",
    "width": "302.391px"
   },
   "toc_section_display": true,
   "toc_window_display": false
  }
 },
 "nbformat": 4,
 "nbformat_minor": 2
}
