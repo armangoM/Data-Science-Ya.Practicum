{
 "cells": [
  {
   "cell_type": "markdown",
   "metadata": {
    "toc": true
   },
   "source": [
    "<h1>Содержание<span class=\"tocSkip\"></span></h1>\n",
    "<div class=\"toc\"></li></ul></li><li><span><a href=\"#Проект-для-«Викишоп»\" data-toc-modified-id=\"Проект-для-«Викишоп»-1\">Проект для «Викишоп»</a></span><ul class=\"toc-item\"><li><span><a href=\"#Подготовка\" data-toc-modified-id=\"Подготовка-1.1\">Подготовка</a></span><ul class=\"toc-item\"><li><span><a href=\"#Вывод\" data-toc-modified-id=\"Вывод-1.1.1\">Вывод</a></span></li></ul></li><li><span><a href=\"#Обучение\" data-toc-modified-id=\"Обучение-1.2\">Обучение</a></span><ul class=\"toc-item\"><li><ul class=\"toc-item\"><li><span><a href=\"#Логистическая-регрессия\" data-toc-modified-id=\"Логистическая-регрессия-1.2.0.1\">Логистическая регрессия</a></span></li><li><span><a href=\"#Модель-решающего-дерева\" data-toc-modified-id=\"Модель-решающего-дерева-1.2.0.2\">Модель решающего дерева</a></span></li><li><span><a href=\"#Модель-случайного-леса\" data-toc-modified-id=\"Модель-случайного-леса-1.2.0.3\">Модель случайного леса</a></span></li><li><span><a href=\"#LinearSVC\" data-toc-modified-id=\"LinearSVC-1.2.0.4\">LinearSVC</a></span></li></ul></li><li><span><a href=\"#Вывод\" data-toc-modified-id=\"Вывод-1.2.1\">Вывод</a></span></li></ul></li><li><span><a href=\"#Тестирование\" data-toc-modified-id=\"Тестирование-1.3\">Тестирование</a></span><ul class=\"toc-item\"><li><span><a href=\"#Вывод\" data-toc-modified-id=\"Вывод-1.3.1\">Вывод</a></span></li></ul></li><li><span><a href=\"#Основные-результаты\" data-toc-modified-id=\"Основные-результаты-1.4\">Основные результаты</a></span></li><li><span><a href=\"#Чек-лист-проверки\" data-toc-modified-id=\"Чек-лист-проверки-1.5\">Чек-лист проверки</a></span></li></ul></li></ul></div>"
   ]
  },
  {
   "cell_type": "markdown",
   "metadata": {},
   "source": [
    "# Проект для интернет-магазина"
   ]
  },
  {
   "cell_type": "markdown",
   "metadata": {},
   "source": [
    "Интернет-магазин запускает новый сервис: пользователи могут редактировать и дополнять описания товаров, как в вики-сообществах. То есть клиенты предлагают свои правки и комментируют изменения других. Магазину нужен инструмент, который будет искать токсичные комментарии и отправлять их на модерацию. \n",
    "\n",
    "Требуется обучить модель классифицировать комментарии на позитивные и негативные. Имеется набор данных с разметкой о токсичности правок.\n",
    "\n",
    "Нужно построить модель со значением метрики качества *F1* не меньше 0.75. "
   ]
  },
  {
   "cell_type": "markdown",
   "metadata": {},
   "source": [
    "## Подготовка"
   ]
  },
  {
   "cell_type": "markdown",
   "metadata": {},
   "source": [
    "Импорт библиотек, которые потребуются для выполнения исследования:"
   ]
  },
  {
   "cell_type": "code",
   "execution_count": 1,
   "metadata": {},
   "outputs": [],
   "source": [
    "import pandas as pd\n",
    "import numpy as np\n",
    "import re\n",
    "from sklearn.metrics import make_scorer, f1_score\n",
    "from sklearn.ensemble import RandomForestClassifier\n",
    "from sklearn.tree import DecisionTreeClassifier\n",
    "from sklearn.model_selection import train_test_split, cross_val_score, GridSearchCV\n",
    "from sklearn.linear_model import LogisticRegression\n",
    "from sklearn.svm import LinearSVC\n",
    "import nltk\n",
    "from nltk.corpus import stopwords as nltk_stopwords\n",
    "from sklearn.feature_extraction.text import TfidfVectorizer \n",
    "from nltk.corpus import stopwords \n",
    "import nltk\n",
    "from nltk.stem import WordNetLemmatizer\n",
    "import warnings\n",
    "warnings.filterwarnings('ignore')"
   ]
  },
  {
   "cell_type": "markdown",
   "metadata": {},
   "source": [
    "Загрузка датасета:"
   ]
  },
  {
   "cell_type": "code",
   "execution_count": 2,
   "metadata": {},
   "outputs": [],
   "source": [
    "toxic_comments = pd.read_csv('/datasets/toxic_comments.csv')"
   ]
  },
  {
   "cell_type": "markdown",
   "metadata": {},
   "source": [
    "Вывод первых строк датасета:"
   ]
  },
  {
   "cell_type": "code",
   "execution_count": 3,
   "metadata": {},
   "outputs": [
    {
     "data": {
      "text/html": [
       "<div>\n",
       "<style scoped>\n",
       "    .dataframe tbody tr th:only-of-type {\n",
       "        vertical-align: middle;\n",
       "    }\n",
       "\n",
       "    .dataframe tbody tr th {\n",
       "        vertical-align: top;\n",
       "    }\n",
       "\n",
       "    .dataframe thead th {\n",
       "        text-align: right;\n",
       "    }\n",
       "</style>\n",
       "<table border=\"1\" class=\"dataframe\">\n",
       "  <thead>\n",
       "    <tr style=\"text-align: right;\">\n",
       "      <th></th>\n",
       "      <th>text</th>\n",
       "      <th>toxic</th>\n",
       "    </tr>\n",
       "  </thead>\n",
       "  <tbody>\n",
       "    <tr>\n",
       "      <td>0</td>\n",
       "      <td>Explanation\\nWhy the edits made under my username Hardcore Metallica Fan were reverted? They wer...</td>\n",
       "      <td>0</td>\n",
       "    </tr>\n",
       "    <tr>\n",
       "      <td>1</td>\n",
       "      <td>D'aww! He matches this background colour I'm seemingly stuck with. Thanks.  (talk) 21:51, Januar...</td>\n",
       "      <td>0</td>\n",
       "    </tr>\n",
       "    <tr>\n",
       "      <td>2</td>\n",
       "      <td>Hey man, I'm really not trying to edit war. It's just that this guy is constantly removing relev...</td>\n",
       "      <td>0</td>\n",
       "    </tr>\n",
       "    <tr>\n",
       "      <td>3</td>\n",
       "      <td>\"\\nMore\\nI can't make any real suggestions on improvement - I wondered if the section statistics...</td>\n",
       "      <td>0</td>\n",
       "    </tr>\n",
       "    <tr>\n",
       "      <td>4</td>\n",
       "      <td>You, sir, are my hero. Any chance you remember what page that's on?</td>\n",
       "      <td>0</td>\n",
       "    </tr>\n",
       "  </tbody>\n",
       "</table>\n",
       "</div>"
      ],
      "text/plain": [
       "                                                                                                  text  \\\n",
       "0  Explanation\\nWhy the edits made under my username Hardcore Metallica Fan were reverted? They wer...   \n",
       "1  D'aww! He matches this background colour I'm seemingly stuck with. Thanks.  (talk) 21:51, Januar...   \n",
       "2  Hey man, I'm really not trying to edit war. It's just that this guy is constantly removing relev...   \n",
       "3  \"\\nMore\\nI can't make any real suggestions on improvement - I wondered if the section statistics...   \n",
       "4                                  You, sir, are my hero. Any chance you remember what page that's on?   \n",
       "\n",
       "   toxic  \n",
       "0      0  \n",
       "1      0  \n",
       "2      0  \n",
       "3      0  \n",
       "4      0  "
      ]
     },
     "execution_count": 3,
     "metadata": {},
     "output_type": "execute_result"
    }
   ],
   "source": [
    "pd.set_option('display.max_colwidth', 100)\n",
    "toxic_comments.head()"
   ]
  },
  {
   "cell_type": "markdown",
   "metadata": {},
   "source": [
    "Общая информация о данных таблицы **toxic_comments**:"
   ]
  },
  {
   "cell_type": "code",
   "execution_count": 4,
   "metadata": {},
   "outputs": [
    {
     "name": "stdout",
     "output_type": "stream",
     "text": [
      "<class 'pandas.core.frame.DataFrame'>\n",
      "RangeIndex: 159571 entries, 0 to 159570\n",
      "Data columns (total 2 columns):\n",
      "text     159571 non-null object\n",
      "toxic    159571 non-null int64\n",
      "dtypes: int64(1), object(1)\n",
      "memory usage: 2.4+ MB\n"
     ]
    }
   ],
   "source": [
    "toxic_comments.info()"
   ]
  },
  {
   "cell_type": "markdown",
   "metadata": {},
   "source": [
    "Датасет состоит из двух столбцов. В столбце **text** содержится текст комментария, а в столбце **toxic** — целевой признак (положительно или отрицательно окрашен комментарий).\n",
    "\n",
    "Общее количество объектов - 159 571, пропусков нет, типы данных корректны.\n",
    "\n",
    "---"
   ]
  },
  {
   "cell_type": "markdown",
   "metadata": {},
   "source": [
    "Подготовим исходные данные для дальнейшего исседования и построения прогноза."
   ]
  },
  {
   "cell_type": "markdown",
   "metadata": {},
   "source": [
    "Убедимся, что в столбце целевых признаков данные принимают только два значения:"
   ]
  },
  {
   "cell_type": "code",
   "execution_count": 5,
   "metadata": {},
   "outputs": [
    {
     "data": {
      "text/plain": [
       "0    143346\n",
       "1     16225\n",
       "Name: toxic, dtype: int64"
      ]
     },
     "metadata": {},
     "output_type": "display_data"
    },
    {
     "data": {
      "text/plain": [
       "0    0.898321\n",
       "1    0.101679\n",
       "Name: toxic, dtype: float64"
      ]
     },
     "metadata": {},
     "output_type": "display_data"
    }
   ],
   "source": [
    "display(toxic_comments['toxic'].value_counts())\n",
    "display(toxic_comments['toxic'].value_counts(normalize = True))"
   ]
  },
  {
   "cell_type": "markdown",
   "metadata": {},
   "source": [
    "Признак разбивает датасет на группы в пропорции примерно 90:10. Вообще говоря, по условию не сказано, в какой группе содержатся негативные комментарии, однако если взглянуть на несколько строчек датасета, это становится очевидно:"
   ]
  },
  {
   "cell_type": "code",
   "execution_count": 6,
   "metadata": {},
   "outputs": [
    {
     "data": {
      "text/html": [
       "<div>\n",
       "<style scoped>\n",
       "    .dataframe tbody tr th:only-of-type {\n",
       "        vertical-align: middle;\n",
       "    }\n",
       "\n",
       "    .dataframe tbody tr th {\n",
       "        vertical-align: top;\n",
       "    }\n",
       "\n",
       "    .dataframe thead th {\n",
       "        text-align: right;\n",
       "    }\n",
       "</style>\n",
       "<table border=\"1\" class=\"dataframe\">\n",
       "  <thead>\n",
       "    <tr style=\"text-align: right;\">\n",
       "      <th></th>\n",
       "      <th>text</th>\n",
       "      <th>toxic</th>\n",
       "    </tr>\n",
       "  </thead>\n",
       "  <tbody>\n",
       "    <tr>\n",
       "      <td>6</td>\n",
       "      <td>COCKSUCKER BEFORE YOU PISS AROUND ON MY WORK</td>\n",
       "      <td>1</td>\n",
       "    </tr>\n",
       "    <tr>\n",
       "      <td>12</td>\n",
       "      <td>Hey... what is it..\\n@ | talk .\\nWhat is it... an exclusive group of some WP TALIBANS...who are ...</td>\n",
       "      <td>1</td>\n",
       "    </tr>\n",
       "    <tr>\n",
       "      <td>16</td>\n",
       "      <td>Bye! \\n\\nDon't look, come or think of comming back! Tosser.</td>\n",
       "      <td>1</td>\n",
       "    </tr>\n",
       "    <tr>\n",
       "      <td>42</td>\n",
       "      <td>You are gay or antisemmitian? \\n\\nArchangel WHite Tiger\\n\\nMeow! Greetingshhh!\\n\\nUh, there are ...</td>\n",
       "      <td>1</td>\n",
       "    </tr>\n",
       "    <tr>\n",
       "      <td>43</td>\n",
       "      <td>FUCK YOUR FILTHY MOTHER IN THE ASS, DRY!</td>\n",
       "      <td>1</td>\n",
       "    </tr>\n",
       "  </tbody>\n",
       "</table>\n",
       "</div>"
      ],
      "text/plain": [
       "                                                                                                   text  \\\n",
       "6                                                          COCKSUCKER BEFORE YOU PISS AROUND ON MY WORK   \n",
       "12  Hey... what is it..\\n@ | talk .\\nWhat is it... an exclusive group of some WP TALIBANS...who are ...   \n",
       "16                                          Bye! \\n\\nDon't look, come or think of comming back! Tosser.   \n",
       "42  You are gay or antisemmitian? \\n\\nArchangel WHite Tiger\\n\\nMeow! Greetingshhh!\\n\\nUh, there are ...   \n",
       "43                                                             FUCK YOUR FILTHY MOTHER IN THE ASS, DRY!   \n",
       "\n",
       "    toxic  \n",
       "6       1  \n",
       "12      1  \n",
       "16      1  \n",
       "42      1  \n",
       "43      1  "
      ]
     },
     "execution_count": 6,
     "metadata": {},
     "output_type": "execute_result"
    }
   ],
   "source": [
    "toxic_comments.query('toxic == 1').head()"
   ]
  },
  {
   "cell_type": "markdown",
   "metadata": {},
   "source": [
    "Чтобы комментарии можно было далее анализировать, очистим их от посторонних символов, оставив только латиницу, и приведем все слова к нижнему регистру:"
   ]
  },
  {
   "cell_type": "code",
   "execution_count": 7,
   "metadata": {},
   "outputs": [],
   "source": [
    "#заменяет все символы, кроме латинских букв, на пробелы, а затем объединяет в строку через пробел, удаляя лишние\n",
    "def clear_text(text):\n",
    "    text = re.sub(r'[^a-zA-Z]', ' ', text)\n",
    "    return \" \".join(text.split())"
   ]
  },
  {
   "cell_type": "code",
   "execution_count": 8,
   "metadata": {},
   "outputs": [
    {
     "data": {
      "text/html": [
       "<div>\n",
       "<style scoped>\n",
       "    .dataframe tbody tr th:only-of-type {\n",
       "        vertical-align: middle;\n",
       "    }\n",
       "\n",
       "    .dataframe tbody tr th {\n",
       "        vertical-align: top;\n",
       "    }\n",
       "\n",
       "    .dataframe thead th {\n",
       "        text-align: right;\n",
       "    }\n",
       "</style>\n",
       "<table border=\"1\" class=\"dataframe\">\n",
       "  <thead>\n",
       "    <tr style=\"text-align: right;\">\n",
       "      <th></th>\n",
       "      <th>text</th>\n",
       "      <th>toxic</th>\n",
       "      <th>only_letters</th>\n",
       "    </tr>\n",
       "  </thead>\n",
       "  <tbody>\n",
       "    <tr>\n",
       "      <td>0</td>\n",
       "      <td>Explanation\\nWhy the edits made under my username Hardcore Metallica Fan were reverted? They wer...</td>\n",
       "      <td>0</td>\n",
       "      <td>explanation why the edits made under my username hardcore metallica fan were reverted they weren...</td>\n",
       "    </tr>\n",
       "    <tr>\n",
       "      <td>1</td>\n",
       "      <td>D'aww! He matches this background colour I'm seemingly stuck with. Thanks.  (talk) 21:51, Januar...</td>\n",
       "      <td>0</td>\n",
       "      <td>d aww he matches this background colour i m seemingly stuck with thanks talk january utc</td>\n",
       "    </tr>\n",
       "    <tr>\n",
       "      <td>2</td>\n",
       "      <td>Hey man, I'm really not trying to edit war. It's just that this guy is constantly removing relev...</td>\n",
       "      <td>0</td>\n",
       "      <td>hey man i m really not trying to edit war it s just that this guy is constantly removing relevan...</td>\n",
       "    </tr>\n",
       "    <tr>\n",
       "      <td>3</td>\n",
       "      <td>\"\\nMore\\nI can't make any real suggestions on improvement - I wondered if the section statistics...</td>\n",
       "      <td>0</td>\n",
       "      <td>more i can t make any real suggestions on improvement i wondered if the section statistics shoul...</td>\n",
       "    </tr>\n",
       "    <tr>\n",
       "      <td>4</td>\n",
       "      <td>You, sir, are my hero. Any chance you remember what page that's on?</td>\n",
       "      <td>0</td>\n",
       "      <td>you sir are my hero any chance you remember what page that s on</td>\n",
       "    </tr>\n",
       "  </tbody>\n",
       "</table>\n",
       "</div>"
      ],
      "text/plain": [
       "                                                                                                  text  \\\n",
       "0  Explanation\\nWhy the edits made under my username Hardcore Metallica Fan were reverted? They wer...   \n",
       "1  D'aww! He matches this background colour I'm seemingly stuck with. Thanks.  (talk) 21:51, Januar...   \n",
       "2  Hey man, I'm really not trying to edit war. It's just that this guy is constantly removing relev...   \n",
       "3  \"\\nMore\\nI can't make any real suggestions on improvement - I wondered if the section statistics...   \n",
       "4                                  You, sir, are my hero. Any chance you remember what page that's on?   \n",
       "\n",
       "   toxic  \\\n",
       "0      0   \n",
       "1      0   \n",
       "2      0   \n",
       "3      0   \n",
       "4      0   \n",
       "\n",
       "                                                                                          only_letters  \n",
       "0  explanation why the edits made under my username hardcore metallica fan were reverted they weren...  \n",
       "1             d aww he matches this background colour i m seemingly stuck with thanks talk january utc  \n",
       "2  hey man i m really not trying to edit war it s just that this guy is constantly removing relevan...  \n",
       "3  more i can t make any real suggestions on improvement i wondered if the section statistics shoul...  \n",
       "4                                      you sir are my hero any chance you remember what page that s on  "
      ]
     },
     "execution_count": 8,
     "metadata": {},
     "output_type": "execute_result"
    }
   ],
   "source": [
    "toxic_comments['only_letters'] = toxic_comments['text'].apply(lambda x: clear_text(x.lower()))\n",
    "toxic_comments.head()"
   ]
  },
  {
   "cell_type": "markdown",
   "metadata": {},
   "source": [
    "Разделим комментарии на токены по пробелу:"
   ]
  },
  {
   "cell_type": "code",
   "execution_count": 9,
   "metadata": {},
   "outputs": [
    {
     "data": {
      "text/html": [
       "<div>\n",
       "<style scoped>\n",
       "    .dataframe tbody tr th:only-of-type {\n",
       "        vertical-align: middle;\n",
       "    }\n",
       "\n",
       "    .dataframe tbody tr th {\n",
       "        vertical-align: top;\n",
       "    }\n",
       "\n",
       "    .dataframe thead th {\n",
       "        text-align: right;\n",
       "    }\n",
       "</style>\n",
       "<table border=\"1\" class=\"dataframe\">\n",
       "  <thead>\n",
       "    <tr style=\"text-align: right;\">\n",
       "      <th></th>\n",
       "      <th>text</th>\n",
       "      <th>toxic</th>\n",
       "      <th>only_letters</th>\n",
       "      <th>tokenized</th>\n",
       "    </tr>\n",
       "  </thead>\n",
       "  <tbody>\n",
       "    <tr>\n",
       "      <td>0</td>\n",
       "      <td>Explanation\\nWhy the edits made under my username Hardcore Metallica Fan were reverted? They wer...</td>\n",
       "      <td>0</td>\n",
       "      <td>explanation why the edits made under my username hardcore metallica fan were reverted they weren...</td>\n",
       "      <td>[explanation, why, the, edits, made, under, my, username, hardcore, metallica, fan, were, revert...</td>\n",
       "    </tr>\n",
       "    <tr>\n",
       "      <td>1</td>\n",
       "      <td>D'aww! He matches this background colour I'm seemingly stuck with. Thanks.  (talk) 21:51, Januar...</td>\n",
       "      <td>0</td>\n",
       "      <td>d aww he matches this background colour i m seemingly stuck with thanks talk january utc</td>\n",
       "      <td>[d, aww, he, matches, this, background, colour, i, m, seemingly, stuck, with, thanks, talk, janu...</td>\n",
       "    </tr>\n",
       "    <tr>\n",
       "      <td>2</td>\n",
       "      <td>Hey man, I'm really not trying to edit war. It's just that this guy is constantly removing relev...</td>\n",
       "      <td>0</td>\n",
       "      <td>hey man i m really not trying to edit war it s just that this guy is constantly removing relevan...</td>\n",
       "      <td>[hey, man, i, m, really, not, trying, to, edit, war, it, s, just, that, this, guy, is, constantl...</td>\n",
       "    </tr>\n",
       "    <tr>\n",
       "      <td>3</td>\n",
       "      <td>\"\\nMore\\nI can't make any real suggestions on improvement - I wondered if the section statistics...</td>\n",
       "      <td>0</td>\n",
       "      <td>more i can t make any real suggestions on improvement i wondered if the section statistics shoul...</td>\n",
       "      <td>[more, i, can, t, make, any, real, suggestions, on, improvement, i, wondered, if, the, section, ...</td>\n",
       "    </tr>\n",
       "    <tr>\n",
       "      <td>4</td>\n",
       "      <td>You, sir, are my hero. Any chance you remember what page that's on?</td>\n",
       "      <td>0</td>\n",
       "      <td>you sir are my hero any chance you remember what page that s on</td>\n",
       "      <td>[you, sir, are, my, hero, any, chance, you, remember, what, page, that, s, on]</td>\n",
       "    </tr>\n",
       "  </tbody>\n",
       "</table>\n",
       "</div>"
      ],
      "text/plain": [
       "                                                                                                  text  \\\n",
       "0  Explanation\\nWhy the edits made under my username Hardcore Metallica Fan were reverted? They wer...   \n",
       "1  D'aww! He matches this background colour I'm seemingly stuck with. Thanks.  (talk) 21:51, Januar...   \n",
       "2  Hey man, I'm really not trying to edit war. It's just that this guy is constantly removing relev...   \n",
       "3  \"\\nMore\\nI can't make any real suggestions on improvement - I wondered if the section statistics...   \n",
       "4                                  You, sir, are my hero. Any chance you remember what page that's on?   \n",
       "\n",
       "   toxic  \\\n",
       "0      0   \n",
       "1      0   \n",
       "2      0   \n",
       "3      0   \n",
       "4      0   \n",
       "\n",
       "                                                                                          only_letters  \\\n",
       "0  explanation why the edits made under my username hardcore metallica fan were reverted they weren...   \n",
       "1             d aww he matches this background colour i m seemingly stuck with thanks talk january utc   \n",
       "2  hey man i m really not trying to edit war it s just that this guy is constantly removing relevan...   \n",
       "3  more i can t make any real suggestions on improvement i wondered if the section statistics shoul...   \n",
       "4                                      you sir are my hero any chance you remember what page that s on   \n",
       "\n",
       "                                                                                             tokenized  \n",
       "0  [explanation, why, the, edits, made, under, my, username, hardcore, metallica, fan, were, revert...  \n",
       "1  [d, aww, he, matches, this, background, colour, i, m, seemingly, stuck, with, thanks, talk, janu...  \n",
       "2  [hey, man, i, m, really, not, trying, to, edit, war, it, s, just, that, this, guy, is, constantl...  \n",
       "3  [more, i, can, t, make, any, real, suggestions, on, improvement, i, wondered, if, the, section, ...  \n",
       "4                       [you, sir, are, my, hero, any, chance, you, remember, what, page, that, s, on]  "
      ]
     },
     "execution_count": 9,
     "metadata": {},
     "output_type": "execute_result"
    }
   ],
   "source": [
    "toxic_comments['tokenized'] = toxic_comments['only_letters'].apply(lambda x: re.split(' ', x))\n",
    "toxic_comments.head()"
   ]
  },
  {
   "cell_type": "markdown",
   "metadata": {},
   "source": [
    "Уберем стоп-слова:"
   ]
  },
  {
   "cell_type": "code",
   "execution_count": 10,
   "metadata": {},
   "outputs": [],
   "source": [
    "stop_words = nltk.corpus.stopwords.words('english')"
   ]
  },
  {
   "cell_type": "code",
   "execution_count": 11,
   "metadata": {},
   "outputs": [],
   "source": [
    "def delete_stopwords(text):\n",
    "    text = [word for word in text if word not in stop_words]\n",
    "    return text"
   ]
  },
  {
   "cell_type": "code",
   "execution_count": 12,
   "metadata": {},
   "outputs": [
    {
     "data": {
      "text/html": [
       "<div>\n",
       "<style scoped>\n",
       "    .dataframe tbody tr th:only-of-type {\n",
       "        vertical-align: middle;\n",
       "    }\n",
       "\n",
       "    .dataframe tbody tr th {\n",
       "        vertical-align: top;\n",
       "    }\n",
       "\n",
       "    .dataframe thead th {\n",
       "        text-align: right;\n",
       "    }\n",
       "</style>\n",
       "<table border=\"1\" class=\"dataframe\">\n",
       "  <thead>\n",
       "    <tr style=\"text-align: right;\">\n",
       "      <th></th>\n",
       "      <th>text</th>\n",
       "      <th>toxic</th>\n",
       "      <th>only_letters</th>\n",
       "      <th>tokenized</th>\n",
       "      <th>stopwords_free</th>\n",
       "    </tr>\n",
       "  </thead>\n",
       "  <tbody>\n",
       "    <tr>\n",
       "      <td>0</td>\n",
       "      <td>Explanation\\nWhy the edits made under my username Hardcore Metallica Fan were reverted? They wer...</td>\n",
       "      <td>0</td>\n",
       "      <td>explanation why the edits made under my username hardcore metallica fan were reverted they weren...</td>\n",
       "      <td>[explanation, why, the, edits, made, under, my, username, hardcore, metallica, fan, were, revert...</td>\n",
       "      <td>[explanation, edits, made, username, hardcore, metallica, fan, reverted, vandalisms, closure, ga...</td>\n",
       "    </tr>\n",
       "    <tr>\n",
       "      <td>1</td>\n",
       "      <td>D'aww! He matches this background colour I'm seemingly stuck with. Thanks.  (talk) 21:51, Januar...</td>\n",
       "      <td>0</td>\n",
       "      <td>d aww he matches this background colour i m seemingly stuck with thanks talk january utc</td>\n",
       "      <td>[d, aww, he, matches, this, background, colour, i, m, seemingly, stuck, with, thanks, talk, janu...</td>\n",
       "      <td>[aww, matches, background, colour, seemingly, stuck, thanks, talk, january, utc]</td>\n",
       "    </tr>\n",
       "    <tr>\n",
       "      <td>2</td>\n",
       "      <td>Hey man, I'm really not trying to edit war. It's just that this guy is constantly removing relev...</td>\n",
       "      <td>0</td>\n",
       "      <td>hey man i m really not trying to edit war it s just that this guy is constantly removing relevan...</td>\n",
       "      <td>[hey, man, i, m, really, not, trying, to, edit, war, it, s, just, that, this, guy, is, constantl...</td>\n",
       "      <td>[hey, man, really, trying, edit, war, guy, constantly, removing, relevant, information, talking,...</td>\n",
       "    </tr>\n",
       "    <tr>\n",
       "      <td>3</td>\n",
       "      <td>\"\\nMore\\nI can't make any real suggestions on improvement - I wondered if the section statistics...</td>\n",
       "      <td>0</td>\n",
       "      <td>more i can t make any real suggestions on improvement i wondered if the section statistics shoul...</td>\n",
       "      <td>[more, i, can, t, make, any, real, suggestions, on, improvement, i, wondered, if, the, section, ...</td>\n",
       "      <td>[make, real, suggestions, improvement, wondered, section, statistics, later, subsection, types, ...</td>\n",
       "    </tr>\n",
       "    <tr>\n",
       "      <td>4</td>\n",
       "      <td>You, sir, are my hero. Any chance you remember what page that's on?</td>\n",
       "      <td>0</td>\n",
       "      <td>you sir are my hero any chance you remember what page that s on</td>\n",
       "      <td>[you, sir, are, my, hero, any, chance, you, remember, what, page, that, s, on]</td>\n",
       "      <td>[sir, hero, chance, remember, page]</td>\n",
       "    </tr>\n",
       "  </tbody>\n",
       "</table>\n",
       "</div>"
      ],
      "text/plain": [
       "                                                                                                  text  \\\n",
       "0  Explanation\\nWhy the edits made under my username Hardcore Metallica Fan were reverted? They wer...   \n",
       "1  D'aww! He matches this background colour I'm seemingly stuck with. Thanks.  (talk) 21:51, Januar...   \n",
       "2  Hey man, I'm really not trying to edit war. It's just that this guy is constantly removing relev...   \n",
       "3  \"\\nMore\\nI can't make any real suggestions on improvement - I wondered if the section statistics...   \n",
       "4                                  You, sir, are my hero. Any chance you remember what page that's on?   \n",
       "\n",
       "   toxic  \\\n",
       "0      0   \n",
       "1      0   \n",
       "2      0   \n",
       "3      0   \n",
       "4      0   \n",
       "\n",
       "                                                                                          only_letters  \\\n",
       "0  explanation why the edits made under my username hardcore metallica fan were reverted they weren...   \n",
       "1             d aww he matches this background colour i m seemingly stuck with thanks talk january utc   \n",
       "2  hey man i m really not trying to edit war it s just that this guy is constantly removing relevan...   \n",
       "3  more i can t make any real suggestions on improvement i wondered if the section statistics shoul...   \n",
       "4                                      you sir are my hero any chance you remember what page that s on   \n",
       "\n",
       "                                                                                             tokenized  \\\n",
       "0  [explanation, why, the, edits, made, under, my, username, hardcore, metallica, fan, were, revert...   \n",
       "1  [d, aww, he, matches, this, background, colour, i, m, seemingly, stuck, with, thanks, talk, janu...   \n",
       "2  [hey, man, i, m, really, not, trying, to, edit, war, it, s, just, that, this, guy, is, constantl...   \n",
       "3  [more, i, can, t, make, any, real, suggestions, on, improvement, i, wondered, if, the, section, ...   \n",
       "4                       [you, sir, are, my, hero, any, chance, you, remember, what, page, that, s, on]   \n",
       "\n",
       "                                                                                        stopwords_free  \n",
       "0  [explanation, edits, made, username, hardcore, metallica, fan, reverted, vandalisms, closure, ga...  \n",
       "1                     [aww, matches, background, colour, seemingly, stuck, thanks, talk, january, utc]  \n",
       "2  [hey, man, really, trying, edit, war, guy, constantly, removing, relevant, information, talking,...  \n",
       "3  [make, real, suggestions, improvement, wondered, section, statistics, later, subsection, types, ...  \n",
       "4                                                                  [sir, hero, chance, remember, page]  "
      ]
     },
     "execution_count": 12,
     "metadata": {},
     "output_type": "execute_result"
    }
   ],
   "source": [
    "toxic_comments['stopwords_free'] = toxic_comments['tokenized'].apply(lambda x: delete_stopwords(x))\n",
    "toxic_comments.head()"
   ]
  },
  {
   "cell_type": "markdown",
   "metadata": {},
   "source": [
    "Лемматизируем оставшиеся слова:"
   ]
  },
  {
   "cell_type": "code",
   "execution_count": 13,
   "metadata": {},
   "outputs": [],
   "source": [
    "lemmatizer = WordNetLemmatizer()"
   ]
  },
  {
   "cell_type": "code",
   "execution_count": 14,
   "metadata": {},
   "outputs": [
    {
     "data": {
      "text/html": [
       "<div>\n",
       "<style scoped>\n",
       "    .dataframe tbody tr th:only-of-type {\n",
       "        vertical-align: middle;\n",
       "    }\n",
       "\n",
       "    .dataframe tbody tr th {\n",
       "        vertical-align: top;\n",
       "    }\n",
       "\n",
       "    .dataframe thead th {\n",
       "        text-align: right;\n",
       "    }\n",
       "</style>\n",
       "<table border=\"1\" class=\"dataframe\">\n",
       "  <thead>\n",
       "    <tr style=\"text-align: right;\">\n",
       "      <th></th>\n",
       "      <th>text</th>\n",
       "      <th>toxic</th>\n",
       "      <th>only_letters</th>\n",
       "      <th>tokenized</th>\n",
       "      <th>stopwords_free</th>\n",
       "      <th>lemmatized</th>\n",
       "    </tr>\n",
       "  </thead>\n",
       "  <tbody>\n",
       "    <tr>\n",
       "      <td>0</td>\n",
       "      <td>Explanation\\nWhy the edits made under my username Hardcore Metallica Fan were reverted? They wer...</td>\n",
       "      <td>0</td>\n",
       "      <td>explanation why the edits made under my username hardcore metallica fan were reverted they weren...</td>\n",
       "      <td>[explanation, why, the, edits, made, under, my, username, hardcore, metallica, fan, were, revert...</td>\n",
       "      <td>[explanation, edits, made, username, hardcore, metallica, fan, reverted, vandalisms, closure, ga...</td>\n",
       "      <td>explanation edits made username hardcore metallica fan reverted vandalism closure gas voted new ...</td>\n",
       "    </tr>\n",
       "    <tr>\n",
       "      <td>1</td>\n",
       "      <td>D'aww! He matches this background colour I'm seemingly stuck with. Thanks.  (talk) 21:51, Januar...</td>\n",
       "      <td>0</td>\n",
       "      <td>d aww he matches this background colour i m seemingly stuck with thanks talk january utc</td>\n",
       "      <td>[d, aww, he, matches, this, background, colour, i, m, seemingly, stuck, with, thanks, talk, janu...</td>\n",
       "      <td>[aww, matches, background, colour, seemingly, stuck, thanks, talk, january, utc]</td>\n",
       "      <td>aww match background colour seemingly stuck thanks talk january utc</td>\n",
       "    </tr>\n",
       "    <tr>\n",
       "      <td>2</td>\n",
       "      <td>Hey man, I'm really not trying to edit war. It's just that this guy is constantly removing relev...</td>\n",
       "      <td>0</td>\n",
       "      <td>hey man i m really not trying to edit war it s just that this guy is constantly removing relevan...</td>\n",
       "      <td>[hey, man, i, m, really, not, trying, to, edit, war, it, s, just, that, this, guy, is, constantl...</td>\n",
       "      <td>[hey, man, really, trying, edit, war, guy, constantly, removing, relevant, information, talking,...</td>\n",
       "      <td>hey man really trying edit war guy constantly removing relevant information talking edits instea...</td>\n",
       "    </tr>\n",
       "    <tr>\n",
       "      <td>3</td>\n",
       "      <td>\"\\nMore\\nI can't make any real suggestions on improvement - I wondered if the section statistics...</td>\n",
       "      <td>0</td>\n",
       "      <td>more i can t make any real suggestions on improvement i wondered if the section statistics shoul...</td>\n",
       "      <td>[more, i, can, t, make, any, real, suggestions, on, improvement, i, wondered, if, the, section, ...</td>\n",
       "      <td>[make, real, suggestions, improvement, wondered, section, statistics, later, subsection, types, ...</td>\n",
       "      <td>make real suggestion improvement wondered section statistic later subsection type accident think...</td>\n",
       "    </tr>\n",
       "    <tr>\n",
       "      <td>4</td>\n",
       "      <td>You, sir, are my hero. Any chance you remember what page that's on?</td>\n",
       "      <td>0</td>\n",
       "      <td>you sir are my hero any chance you remember what page that s on</td>\n",
       "      <td>[you, sir, are, my, hero, any, chance, you, remember, what, page, that, s, on]</td>\n",
       "      <td>[sir, hero, chance, remember, page]</td>\n",
       "      <td>sir hero chance remember page</td>\n",
       "    </tr>\n",
       "  </tbody>\n",
       "</table>\n",
       "</div>"
      ],
      "text/plain": [
       "                                                                                                  text  \\\n",
       "0  Explanation\\nWhy the edits made under my username Hardcore Metallica Fan were reverted? They wer...   \n",
       "1  D'aww! He matches this background colour I'm seemingly stuck with. Thanks.  (talk) 21:51, Januar...   \n",
       "2  Hey man, I'm really not trying to edit war. It's just that this guy is constantly removing relev...   \n",
       "3  \"\\nMore\\nI can't make any real suggestions on improvement - I wondered if the section statistics...   \n",
       "4                                  You, sir, are my hero. Any chance you remember what page that's on?   \n",
       "\n",
       "   toxic  \\\n",
       "0      0   \n",
       "1      0   \n",
       "2      0   \n",
       "3      0   \n",
       "4      0   \n",
       "\n",
       "                                                                                          only_letters  \\\n",
       "0  explanation why the edits made under my username hardcore metallica fan were reverted they weren...   \n",
       "1             d aww he matches this background colour i m seemingly stuck with thanks talk january utc   \n",
       "2  hey man i m really not trying to edit war it s just that this guy is constantly removing relevan...   \n",
       "3  more i can t make any real suggestions on improvement i wondered if the section statistics shoul...   \n",
       "4                                      you sir are my hero any chance you remember what page that s on   \n",
       "\n",
       "                                                                                             tokenized  \\\n",
       "0  [explanation, why, the, edits, made, under, my, username, hardcore, metallica, fan, were, revert...   \n",
       "1  [d, aww, he, matches, this, background, colour, i, m, seemingly, stuck, with, thanks, talk, janu...   \n",
       "2  [hey, man, i, m, really, not, trying, to, edit, war, it, s, just, that, this, guy, is, constantl...   \n",
       "3  [more, i, can, t, make, any, real, suggestions, on, improvement, i, wondered, if, the, section, ...   \n",
       "4                       [you, sir, are, my, hero, any, chance, you, remember, what, page, that, s, on]   \n",
       "\n",
       "                                                                                        stopwords_free  \\\n",
       "0  [explanation, edits, made, username, hardcore, metallica, fan, reverted, vandalisms, closure, ga...   \n",
       "1                     [aww, matches, background, colour, seemingly, stuck, thanks, talk, january, utc]   \n",
       "2  [hey, man, really, trying, edit, war, guy, constantly, removing, relevant, information, talking,...   \n",
       "3  [make, real, suggestions, improvement, wondered, section, statistics, later, subsection, types, ...   \n",
       "4                                                                  [sir, hero, chance, remember, page]   \n",
       "\n",
       "                                                                                            lemmatized  \n",
       "0  explanation edits made username hardcore metallica fan reverted vandalism closure gas voted new ...  \n",
       "1                                  aww match background colour seemingly stuck thanks talk january utc  \n",
       "2  hey man really trying edit war guy constantly removing relevant information talking edits instea...  \n",
       "3  make real suggestion improvement wondered section statistic later subsection type accident think...  \n",
       "4                                                                        sir hero chance remember page  "
      ]
     },
     "execution_count": 14,
     "metadata": {},
     "output_type": "execute_result"
    }
   ],
   "source": [
    "toxic_comments['lemmatized'] = \\\n",
    "            toxic_comments['stopwords_free'].apply(lambda x: ' '.join([lemmatizer.lemmatize(w) for w in x]))\n",
    "toxic_comments.head()"
   ]
  },
  {
   "cell_type": "markdown",
   "metadata": {},
   "source": [
    "### Вывод"
   ]
  },
  {
   "cell_type": "markdown",
   "metadata": {},
   "source": [
    "Исходный датасет состоит из двух столбцов: **text** с текстом комментариеви и **toxic** — положительной или отрицательной окраской комментария.\n",
    "\n",
    "Токсичных комментариев примерно 10% от общего количества.\n",
    "\n",
    "Комментарии очищены от всех символов (за исключением латинских букв), стоп-слов, а затем лемматизированы."
   ]
  },
  {
   "cell_type": "markdown",
   "metadata": {},
   "source": [
    "## Обучение"
   ]
  },
  {
   "cell_type": "markdown",
   "metadata": {},
   "source": [
    "Разделим данные на тестовую, валидационную и обучающую выборки в соотношении 70:15:15."
   ]
  },
  {
   "cell_type": "code",
   "execution_count": 15,
   "metadata": {},
   "outputs": [],
   "source": [
    "features = toxic_comments['lemmatized']\n",
    "target = toxic_comments['toxic']"
   ]
  },
  {
   "cell_type": "code",
   "execution_count": 16,
   "metadata": {},
   "outputs": [
    {
     "name": "stdout",
     "output_type": "stream",
     "text": [
      "Размер обучающей выборки: (111699,) (111699,)\n",
      "Размер валидационной выборки: (23936,) (23936,)\n",
      "Размер тестовой выборки: (23936,) (23936,)\n"
     ]
    }
   ],
   "source": [
    "features_train, features_valid, target_train, target_valid = \\\n",
    "                train_test_split(features, target, test_size = 0.3, random_state = 42, stratify = target)\n",
    "features_valid, features_test, target_valid, target_test = \\\n",
    "                train_test_split(features_valid, target_valid, test_size = 0.5, random_state = 42, stratify = target_valid)\n",
    "\n",
    "print('Размер обучающей выборки:', features_train.shape, target_train.shape)\n",
    "print('Размер валидационной выборки:', features_valid.shape, target_valid.shape)\n",
    "print('Размер тестовой выборки:', features_test.shape, target_test.shape)"
   ]
  },
  {
   "cell_type": "markdown",
   "metadata": {},
   "source": [
    "Вычислим **TF-IDF**:"
   ]
  },
  {
   "cell_type": "code",
   "execution_count": 17,
   "metadata": {},
   "outputs": [],
   "source": [
    "count_tf_idf = TfidfVectorizer()\n",
    "features_train_tf_idf = count_tf_idf.fit_transform(features_train) \n",
    "features_valid_tf_idf = count_tf_idf.transform(features_valid) "
   ]
  },
  {
   "cell_type": "markdown",
   "metadata": {},
   "source": [
    "Функция для поиска оптимального набора гиперпараметров моделей по метрике F1:"
   ]
  },
  {
   "cell_type": "code",
   "execution_count": 18,
   "metadata": {},
   "outputs": [],
   "source": [
    "def grid_search(model, params, features, target):\n",
    "    \n",
    "    f1 = make_scorer(f1_score, greater_is_better = True)\n",
    "    g_search = GridSearchCV(model, params, scoring = f1, n_jobs = -1)\n",
    "    g_search.fit(features, target)\n",
    "    \n",
    "    print('Лучший набор гиперпараметров:', g_search.best_params_)\n",
    "    print('Качество предсказания:', round(g_search.best_score_, 5)) \n",
    "    print('Лучшая модель:', g_search.best_estimator_)\n",
    "    return g_search.best_estimator_"
   ]
  },
  {
   "cell_type": "markdown",
   "metadata": {},
   "source": [
    "Функция для оценки качества результатов работы модели:"
   ]
  },
  {
   "cell_type": "code",
   "execution_count": 19,
   "metadata": {},
   "outputs": [],
   "source": [
    "# обучает модель на тренировочной выборке и оценивает качество метрикой F1 на тестовой, результаты записывает в таблицу.\n",
    "\n",
    "def model_result(model, f_train, f_test, t_train, t_test, df_result):\n",
    "\n",
    "    model.fit(f_train, t_train)\n",
    "    predicted = model.predict(f_test)\n",
    "\n",
    "    f1 = f1_score(t_test, predicted).round(5)\n",
    "    print('Качество предсказания на тестовой выборке:', f1)\n",
    "    \n",
    "    df_result.append({'model': model.__class__.__name__, 'F1': f1})"
   ]
  },
  {
   "cell_type": "markdown",
   "metadata": {},
   "source": [
    "Обучим несколько разных моделей и оценим их качество на тестовой выборке. Записывать результаты будем в отдельную таблицу."
   ]
  },
  {
   "cell_type": "code",
   "execution_count": 20,
   "metadata": {},
   "outputs": [],
   "source": [
    "result = []"
   ]
  },
  {
   "cell_type": "markdown",
   "metadata": {},
   "source": [
    "#### Логистическая регрессия"
   ]
  },
  {
   "cell_type": "markdown",
   "metadata": {},
   "source": [
    "В качестве гиперпараметра выберем значение обратной регуляризации:"
   ]
  },
  {
   "cell_type": "code",
   "execution_count": 21,
   "metadata": {},
   "outputs": [],
   "source": [
    "lr_model = LogisticRegression(random_state = 42, solver = 'liblinear', class_weight = 'balanced')\n",
    "lr_params = {'C' : range(1, 10, 1)}"
   ]
  },
  {
   "cell_type": "code",
   "execution_count": 22,
   "metadata": {},
   "outputs": [
    {
     "name": "stdout",
     "output_type": "stream",
     "text": [
      "Лучший набор гиперпараметров: {'C': 7}\n",
      "Качество предсказания: 0.76843\n",
      "Лучшая модель: LogisticRegression(C=7, class_weight='balanced', dual=False, fit_intercept=True,\n",
      "                   intercept_scaling=1, l1_ratio=None, max_iter=100,\n",
      "                   multi_class='warn', n_jobs=None, penalty='l2',\n",
      "                   random_state=42, solver='liblinear', tol=0.0001, verbose=0,\n",
      "                   warm_start=False)\n",
      "CPU times: user 4min 41s, sys: 4min 1s, total: 8min 42s\n",
      "Wall time: 8min 43s\n"
     ]
    }
   ],
   "source": [
    "%%time\n",
    "lr_best = grid_search(lr_model, lr_params, features_train_tf_idf, target_train)"
   ]
  },
  {
   "cell_type": "code",
   "execution_count": 23,
   "metadata": {},
   "outputs": [
    {
     "name": "stdout",
     "output_type": "stream",
     "text": [
      "Качество предсказания на тестовой выборке: 0.76552\n"
     ]
    }
   ],
   "source": [
    "model_result(lr_best, features_train_tf_idf, features_valid_tf_idf, target_train, target_valid, result)"
   ]
  },
  {
   "cell_type": "code",
   "execution_count": 24,
   "metadata": {},
   "outputs": [
    {
     "data": {
      "text/html": [
       "<div>\n",
       "<style scoped>\n",
       "    .dataframe tbody tr th:only-of-type {\n",
       "        vertical-align: middle;\n",
       "    }\n",
       "\n",
       "    .dataframe tbody tr th {\n",
       "        vertical-align: top;\n",
       "    }\n",
       "\n",
       "    .dataframe thead th {\n",
       "        text-align: right;\n",
       "    }\n",
       "</style>\n",
       "<table border=\"1\" class=\"dataframe\">\n",
       "  <thead>\n",
       "    <tr style=\"text-align: right;\">\n",
       "      <th></th>\n",
       "      <th>model</th>\n",
       "      <th>F1</th>\n",
       "    </tr>\n",
       "  </thead>\n",
       "  <tbody>\n",
       "    <tr>\n",
       "      <td>0</td>\n",
       "      <td>LogisticRegression</td>\n",
       "      <td>0.76552</td>\n",
       "    </tr>\n",
       "  </tbody>\n",
       "</table>\n",
       "</div>"
      ],
      "text/plain": [
       "                model       F1\n",
       "0  LogisticRegression  0.76552"
      ]
     },
     "execution_count": 24,
     "metadata": {},
     "output_type": "execute_result"
    }
   ],
   "source": [
    "pd.DataFrame(result)"
   ]
  },
  {
   "cell_type": "markdown",
   "metadata": {},
   "source": [
    "#### Модель решающего дерева"
   ]
  },
  {
   "cell_type": "markdown",
   "metadata": {},
   "source": [
    "В качестве гиперпараметра возьмем глубину дерева:"
   ]
  },
  {
   "cell_type": "code",
   "execution_count": 25,
   "metadata": {},
   "outputs": [],
   "source": [
    "dt_model = DecisionTreeClassifier(random_state = 42, class_weight = 'balanced')\n",
    "dt_params = {'max_depth' : range(4, 10, 1)}"
   ]
  },
  {
   "cell_type": "code",
   "execution_count": 26,
   "metadata": {},
   "outputs": [
    {
     "name": "stdout",
     "output_type": "stream",
     "text": [
      "Лучший набор гиперпараметров: {'max_depth': 8}\n",
      "Качество предсказания: 0.56761\n",
      "Лучшая модель: DecisionTreeClassifier(class_weight='balanced', criterion='gini', max_depth=8,\n",
      "                       max_features=None, max_leaf_nodes=None,\n",
      "                       min_impurity_decrease=0.0, min_impurity_split=None,\n",
      "                       min_samples_leaf=1, min_samples_split=2,\n",
      "                       min_weight_fraction_leaf=0.0, presort=False,\n",
      "                       random_state=42, splitter='best')\n"
     ]
    }
   ],
   "source": [
    "dt_best = grid_search(dt_model, dt_params, features_train_tf_idf, target_train)"
   ]
  },
  {
   "cell_type": "code",
   "execution_count": 27,
   "metadata": {},
   "outputs": [
    {
     "name": "stdout",
     "output_type": "stream",
     "text": [
      "Качество предсказания на тестовой выборке: 0.549\n"
     ]
    }
   ],
   "source": [
    "model_result(dt_best, features_train_tf_idf, features_valid_tf_idf, target_train, target_valid, result)"
   ]
  },
  {
   "cell_type": "code",
   "execution_count": 28,
   "metadata": {},
   "outputs": [
    {
     "data": {
      "text/html": [
       "<div>\n",
       "<style scoped>\n",
       "    .dataframe tbody tr th:only-of-type {\n",
       "        vertical-align: middle;\n",
       "    }\n",
       "\n",
       "    .dataframe tbody tr th {\n",
       "        vertical-align: top;\n",
       "    }\n",
       "\n",
       "    .dataframe thead th {\n",
       "        text-align: right;\n",
       "    }\n",
       "</style>\n",
       "<table border=\"1\" class=\"dataframe\">\n",
       "  <thead>\n",
       "    <tr style=\"text-align: right;\">\n",
       "      <th></th>\n",
       "      <th>model</th>\n",
       "      <th>F1</th>\n",
       "    </tr>\n",
       "  </thead>\n",
       "  <tbody>\n",
       "    <tr>\n",
       "      <td>0</td>\n",
       "      <td>LogisticRegression</td>\n",
       "      <td>0.76552</td>\n",
       "    </tr>\n",
       "    <tr>\n",
       "      <td>1</td>\n",
       "      <td>DecisionTreeClassifier</td>\n",
       "      <td>0.54900</td>\n",
       "    </tr>\n",
       "  </tbody>\n",
       "</table>\n",
       "</div>"
      ],
      "text/plain": [
       "                    model       F1\n",
       "0      LogisticRegression  0.76552\n",
       "1  DecisionTreeClassifier  0.54900"
      ]
     },
     "execution_count": 28,
     "metadata": {},
     "output_type": "execute_result"
    }
   ],
   "source": [
    "pd.DataFrame(result)"
   ]
  },
  {
   "cell_type": "markdown",
   "metadata": {},
   "source": [
    "Как видно, ни на тестовой, ни на валидационной выборке модель не справилась с предсказанием с нужной точностью."
   ]
  },
  {
   "cell_type": "markdown",
   "metadata": {},
   "source": [
    "#### Модель случайного леса"
   ]
  },
  {
   "cell_type": "markdown",
   "metadata": {},
   "source": [
    "В качестве гиперпараметров будем использовать глубину дерева, а также число деревьев:"
   ]
  },
  {
   "cell_type": "code",
   "execution_count": 29,
   "metadata": {},
   "outputs": [],
   "source": [
    "rf_model = RandomForestClassifier(random_state = 42, class_weight = 'balanced')\n",
    "rf_params = {'max_depth' : range(1, 5, 1), 'n_estimators' : range(1, 21, 5)}"
   ]
  },
  {
   "cell_type": "code",
   "execution_count": 30,
   "metadata": {},
   "outputs": [
    {
     "name": "stdout",
     "output_type": "stream",
     "text": [
      "Лучший набор гиперпараметров: {'max_depth': 3, 'n_estimators': 16}\n",
      "Качество предсказания: 0.32813\n",
      "Лучшая модель: RandomForestClassifier(bootstrap=True, class_weight='balanced',\n",
      "                       criterion='gini', max_depth=3, max_features='auto',\n",
      "                       max_leaf_nodes=None, min_impurity_decrease=0.0,\n",
      "                       min_impurity_split=None, min_samples_leaf=1,\n",
      "                       min_samples_split=2, min_weight_fraction_leaf=0.0,\n",
      "                       n_estimators=16, n_jobs=None, oob_score=False,\n",
      "                       random_state=42, verbose=0, warm_start=False)\n",
      "CPU times: user 33.3 s, sys: 0 ns, total: 33.3 s\n",
      "Wall time: 33.6 s\n"
     ]
    }
   ],
   "source": [
    "%%time\n",
    "rf_best = grid_search(rf_model, rf_params, features_train_tf_idf, target_train)"
   ]
  },
  {
   "cell_type": "code",
   "execution_count": 31,
   "metadata": {},
   "outputs": [
    {
     "name": "stdout",
     "output_type": "stream",
     "text": [
      "Качество предсказания на тестовой выборке: 0.23593\n"
     ]
    }
   ],
   "source": [
    "model_result(rf_best, features_train_tf_idf, features_valid_tf_idf, target_train, target_valid, result)"
   ]
  },
  {
   "cell_type": "code",
   "execution_count": 32,
   "metadata": {},
   "outputs": [
    {
     "data": {
      "text/html": [
       "<div>\n",
       "<style scoped>\n",
       "    .dataframe tbody tr th:only-of-type {\n",
       "        vertical-align: middle;\n",
       "    }\n",
       "\n",
       "    .dataframe tbody tr th {\n",
       "        vertical-align: top;\n",
       "    }\n",
       "\n",
       "    .dataframe thead th {\n",
       "        text-align: right;\n",
       "    }\n",
       "</style>\n",
       "<table border=\"1\" class=\"dataframe\">\n",
       "  <thead>\n",
       "    <tr style=\"text-align: right;\">\n",
       "      <th></th>\n",
       "      <th>model</th>\n",
       "      <th>F1</th>\n",
       "    </tr>\n",
       "  </thead>\n",
       "  <tbody>\n",
       "    <tr>\n",
       "      <td>0</td>\n",
       "      <td>LogisticRegression</td>\n",
       "      <td>0.76552</td>\n",
       "    </tr>\n",
       "    <tr>\n",
       "      <td>1</td>\n",
       "      <td>DecisionTreeClassifier</td>\n",
       "      <td>0.54900</td>\n",
       "    </tr>\n",
       "    <tr>\n",
       "      <td>2</td>\n",
       "      <td>RandomForestClassifier</td>\n",
       "      <td>0.23593</td>\n",
       "    </tr>\n",
       "  </tbody>\n",
       "</table>\n",
       "</div>"
      ],
      "text/plain": [
       "                    model       F1\n",
       "0      LogisticRegression  0.76552\n",
       "1  DecisionTreeClassifier  0.54900\n",
       "2  RandomForestClassifier  0.23593"
      ]
     },
     "execution_count": 32,
     "metadata": {},
     "output_type": "execute_result"
    }
   ],
   "source": [
    "pd.DataFrame(result)"
   ]
  },
  {
   "cell_type": "markdown",
   "metadata": {},
   "source": [
    "Качество работы модели случайного леса даже на оптимальных параметрах значительно хуже, чем у логистической регрессии и даже дерева решений."
   ]
  },
  {
   "cell_type": "markdown",
   "metadata": {},
   "source": [
    "#### LinearSVC"
   ]
  },
  {
   "cell_type": "markdown",
   "metadata": {},
   "source": [
    "Попробуем линейную модель с опорными векторами. В качестве гиперпараметра возьмем значение коэффициента регуляризации:"
   ]
  },
  {
   "cell_type": "code",
   "execution_count": 33,
   "metadata": {},
   "outputs": [],
   "source": [
    "lsvc_model = LinearSVC(random_state = 42, class_weight = 'balanced', max_iter = 10000)\n",
    "lsvc_params = {'C' : range(1, 5, 1)}"
   ]
  },
  {
   "cell_type": "code",
   "execution_count": 34,
   "metadata": {},
   "outputs": [
    {
     "name": "stdout",
     "output_type": "stream",
     "text": [
      "Лучший набор гиперпараметров: {'C': 1}\n",
      "Качество предсказания: 0.76132\n",
      "Лучшая модель: LinearSVC(C=1, class_weight='balanced', dual=True, fit_intercept=True,\n",
      "          intercept_scaling=1, loss='squared_hinge', max_iter=10000,\n",
      "          multi_class='ovr', penalty='l2', random_state=42, tol=0.0001,\n",
      "          verbose=0)\n",
      "CPU times: user 39.9 s, sys: 0 ns, total: 39.9 s\n",
      "Wall time: 40.6 s\n"
     ]
    }
   ],
   "source": [
    "%%time\n",
    "lsvc_best = grid_search(lsvc_model, lsvc_params, features_train_tf_idf, target_train)"
   ]
  },
  {
   "cell_type": "code",
   "execution_count": 35,
   "metadata": {},
   "outputs": [
    {
     "name": "stdout",
     "output_type": "stream",
     "text": [
      "Качество предсказания на тестовой выборке: 0.7603\n"
     ]
    }
   ],
   "source": [
    "model_result(lsvc_best, features_train_tf_idf, features_valid_tf_idf, target_train, target_valid, result)"
   ]
  },
  {
   "cell_type": "code",
   "execution_count": 36,
   "metadata": {},
   "outputs": [
    {
     "data": {
      "text/html": [
       "<div>\n",
       "<style scoped>\n",
       "    .dataframe tbody tr th:only-of-type {\n",
       "        vertical-align: middle;\n",
       "    }\n",
       "\n",
       "    .dataframe tbody tr th {\n",
       "        vertical-align: top;\n",
       "    }\n",
       "\n",
       "    .dataframe thead th {\n",
       "        text-align: right;\n",
       "    }\n",
       "</style>\n",
       "<table border=\"1\" class=\"dataframe\">\n",
       "  <thead>\n",
       "    <tr style=\"text-align: right;\">\n",
       "      <th></th>\n",
       "      <th>model</th>\n",
       "      <th>F1</th>\n",
       "    </tr>\n",
       "  </thead>\n",
       "  <tbody>\n",
       "    <tr>\n",
       "      <td>0</td>\n",
       "      <td>LogisticRegression</td>\n",
       "      <td>0.76552</td>\n",
       "    </tr>\n",
       "    <tr>\n",
       "      <td>1</td>\n",
       "      <td>DecisionTreeClassifier</td>\n",
       "      <td>0.54900</td>\n",
       "    </tr>\n",
       "    <tr>\n",
       "      <td>2</td>\n",
       "      <td>RandomForestClassifier</td>\n",
       "      <td>0.23593</td>\n",
       "    </tr>\n",
       "    <tr>\n",
       "      <td>3</td>\n",
       "      <td>LinearSVC</td>\n",
       "      <td>0.76030</td>\n",
       "    </tr>\n",
       "  </tbody>\n",
       "</table>\n",
       "</div>"
      ],
      "text/plain": [
       "                    model       F1\n",
       "0      LogisticRegression  0.76552\n",
       "1  DecisionTreeClassifier  0.54900\n",
       "2  RandomForestClassifier  0.23593\n",
       "3               LinearSVC  0.76030"
      ]
     },
     "execution_count": 36,
     "metadata": {},
     "output_type": "execute_result"
    }
   ],
   "source": [
    "pd.DataFrame(result)"
   ]
  },
  {
   "cell_type": "markdown",
   "metadata": {},
   "source": [
    "### Вывод"
   ]
  },
  {
   "cell_type": "markdown",
   "metadata": {},
   "source": [
    "Таким образом, на валидационной выборке две модели - логистическая регрессия и линейная модель опорных векторов - показали результат выше требуемого (f1 > 0.75). Модели решающего дерева и случайного леса с задачей не справились."
   ]
  },
  {
   "cell_type": "markdown",
   "metadata": {},
   "source": [
    "## Тестирование"
   ]
  },
  {
   "cell_type": "markdown",
   "metadata": {},
   "source": [
    "Проверим работу моделей на тестовой выборке. Для обучения используем объединение тренировочной и валидационной выборок. В качестве гиперпараметров передадим те, что давали лучший результат на предыдущем шаге."
   ]
  },
  {
   "cell_type": "code",
   "execution_count": 37,
   "metadata": {},
   "outputs": [],
   "source": [
    "features_train = pd.concat([features_train, features_valid])\n",
    "target_train = pd.concat([target_train, target_valid])  "
   ]
  },
  {
   "cell_type": "markdown",
   "metadata": {},
   "source": [
    "Поскольку выборки объединены, нужно снова применить **TfidfVectorizer**:"
   ]
  },
  {
   "cell_type": "code",
   "execution_count": 38,
   "metadata": {},
   "outputs": [],
   "source": [
    "count_tf_idf = TfidfVectorizer()\n",
    "features_train_tf_idf = count_tf_idf.fit_transform(features_train) \n",
    "features_test_tf_idf = count_tf_idf.transform(features_test) "
   ]
  },
  {
   "cell_type": "code",
   "execution_count": 39,
   "metadata": {},
   "outputs": [],
   "source": [
    "result_test = []"
   ]
  },
  {
   "cell_type": "code",
   "execution_count": 40,
   "metadata": {},
   "outputs": [
    {
     "name": "stdout",
     "output_type": "stream",
     "text": [
      "LogisticRegression\n",
      "Качество предсказания на тестовой выборке: 0.76905\n",
      "\n",
      "DecisionTreeClassifier\n",
      "Качество предсказания на тестовой выборке: 0.54833\n",
      "\n",
      "RandomForestClassifier\n",
      "Качество предсказания на тестовой выборке: 0.23681\n",
      "\n",
      "LinearSVC\n",
      "Качество предсказания на тестовой выборке: 0.7624\n",
      "\n"
     ]
    }
   ],
   "source": [
    "for model in [lr_best, dt_best, rf_best, lsvc_best]:\n",
    "    print(model.__class__.__name__)\n",
    "    model_result(model, features_train_tf_idf, features_test_tf_idf, target_train, target_test, result_test)\n",
    "    print('')"
   ]
  },
  {
   "cell_type": "markdown",
   "metadata": {},
   "source": [
    "Получили итоговую таблицу метрик на тестовой выборке:"
   ]
  },
  {
   "cell_type": "code",
   "execution_count": 41,
   "metadata": {},
   "outputs": [
    {
     "data": {
      "text/html": [
       "<div>\n",
       "<style scoped>\n",
       "    .dataframe tbody tr th:only-of-type {\n",
       "        vertical-align: middle;\n",
       "    }\n",
       "\n",
       "    .dataframe tbody tr th {\n",
       "        vertical-align: top;\n",
       "    }\n",
       "\n",
       "    .dataframe thead th {\n",
       "        text-align: right;\n",
       "    }\n",
       "</style>\n",
       "<table border=\"1\" class=\"dataframe\">\n",
       "  <thead>\n",
       "    <tr style=\"text-align: right;\">\n",
       "      <th></th>\n",
       "      <th>model</th>\n",
       "      <th>F1</th>\n",
       "    </tr>\n",
       "  </thead>\n",
       "  <tbody>\n",
       "    <tr>\n",
       "      <td>2</td>\n",
       "      <td>RandomForestClassifier</td>\n",
       "      <td>0.23681</td>\n",
       "    </tr>\n",
       "    <tr>\n",
       "      <td>1</td>\n",
       "      <td>DecisionTreeClassifier</td>\n",
       "      <td>0.54833</td>\n",
       "    </tr>\n",
       "    <tr>\n",
       "      <td>3</td>\n",
       "      <td>LinearSVC</td>\n",
       "      <td>0.76240</td>\n",
       "    </tr>\n",
       "    <tr>\n",
       "      <td>0</td>\n",
       "      <td>LogisticRegression</td>\n",
       "      <td>0.76905</td>\n",
       "    </tr>\n",
       "  </tbody>\n",
       "</table>\n",
       "</div>"
      ],
      "text/plain": [
       "                    model       F1\n",
       "2  RandomForestClassifier  0.23681\n",
       "1  DecisionTreeClassifier  0.54833\n",
       "3               LinearSVC  0.76240\n",
       "0      LogisticRegression  0.76905"
      ]
     },
     "execution_count": 41,
     "metadata": {},
     "output_type": "execute_result"
    }
   ],
   "source": [
    "pd.DataFrame(result_test).sort_values(by = 'F1')"
   ]
  },
  {
   "cell_type": "markdown",
   "metadata": {},
   "source": [
    "### Вывод"
   ]
  },
  {
   "cell_type": "markdown",
   "metadata": {},
   "source": [
    "Результаты работы моделей на тестовой выборке не изменились: лучшее значение F1 оказалось у логистической регрессии (0,769). Также условию удовлетворяет линейная модель опорных векторов со значением метрики 0,762. Решающее дерево и случайный лес сработали неудачно, несмотря на подбор гиперпараметров."
   ]
  },
  {
   "cell_type": "markdown",
   "metadata": {},
   "source": [
    "## Основные результаты"
   ]
  },
  {
   "cell_type": "markdown",
   "metadata": {},
   "source": [
    "В работе решалась задача классификации интернет-комментариев на позитивные и негативные.\n",
    "\n",
    "В ходе предварительного анализа данных: \n",
    "- выявлен дисбаланс классов (доля токсичных комментариев в датасете составляет около 10%);\n",
    "- комментарии очищены от всех символов, за исключением латинских букв;\n",
    "- удалены стоп-слова;\n",
    "- проведена лемматизация слов, входящих в комментарий.\n",
    "\n",
    "Для решения задачи прогнозирования обучены и протестированы следующие модели: \n",
    "- логистической регрессии;\n",
    "- дерева решений;\n",
    "- случайного леса;\n",
    "- LinearSVC.\n",
    "\n",
    "Датасет разделен на тренировочную, валидационную и тестовую выборки в пропорции 70:15:15. К столбцу признаков применена векторизация с помощью *TfidfVectorizer*. В качестве метрики использовалась F1. При построении моделей учтен дисбаланс классов.\n",
    "\n",
    "Для каждой модели подбиралиись оптимальные гиперпараметры: для логистической регрессии - коэффициент обратной регуляризации, для решающего дерева - глубина, для случайного леса - глубина и число деревьев. Для модели LinearSVC - значение коэффициента регуляризации.\n",
    "\n",
    "Результаты работы моделей на тестовой выборке практически не изменились по сравнению с валидационной: лучшее значение F1 оказалось у логистической регрессии (0,769). Она и линейная модель опорных векторов со значением метрики 0,762 удовлетворяют условию задачи достичь значения F1 не менее 0,75. Решающее дерево и случайный лес сработали неудачно, несмотря на подбор гиперпараметров."
   ]
  }
 ],
 "metadata": {
  "ExecuteTimeLog": [
   {
    "duration": 210,
    "start_time": "2022-02-01T17:14:06.553Z"
   },
   {
    "duration": 1251,
    "start_time": "2022-02-01T17:14:58.018Z"
   },
   {
    "duration": 2623,
    "start_time": "2022-02-01T17:15:11.534Z"
   },
   {
    "duration": 11,
    "start_time": "2022-02-01T17:15:47.702Z"
   },
   {
    "duration": 6,
    "start_time": "2022-02-01T17:18:16.002Z"
   },
   {
    "duration": 7,
    "start_time": "2022-02-01T17:18:23.627Z"
   },
   {
    "duration": 7,
    "start_time": "2022-02-01T17:18:30.174Z"
   },
   {
    "duration": 8,
    "start_time": "2022-02-01T17:18:35.777Z"
   },
   {
    "duration": 8,
    "start_time": "2022-02-01T17:18:42.536Z"
   },
   {
    "duration": 28,
    "start_time": "2022-02-01T17:19:05.726Z"
   },
   {
    "duration": 12,
    "start_time": "2022-02-01T17:48:50.502Z"
   },
   {
    "duration": 8,
    "start_time": "2022-02-01T17:54:46.750Z"
   },
   {
    "duration": 13,
    "start_time": "2022-02-01T17:56:16.625Z"
   },
   {
    "duration": 6910,
    "start_time": "2022-02-01T18:04:28.415Z"
   },
   {
    "duration": 3,
    "start_time": "2022-02-01T18:06:38.205Z"
   },
   {
    "duration": 1356,
    "start_time": "2022-02-01T18:21:46.555Z"
   },
   {
    "duration": 2611,
    "start_time": "2022-02-01T18:21:47.913Z"
   },
   {
    "duration": 13,
    "start_time": "2022-02-01T18:21:50.526Z"
   },
   {
    "duration": 35,
    "start_time": "2022-02-01T18:21:50.541Z"
   },
   {
    "duration": 23,
    "start_time": "2022-02-01T18:21:50.578Z"
   },
   {
    "duration": 18,
    "start_time": "2022-02-01T18:21:50.603Z"
   },
   {
    "duration": 2373,
    "start_time": "2022-02-01T18:21:50.623Z"
   },
   {
    "duration": 7,
    "start_time": "2022-02-01T18:21:52.999Z"
   },
   {
    "duration": 1380,
    "start_time": "2022-02-01T18:22:02.584Z"
   },
   {
    "duration": 2568,
    "start_time": "2022-02-01T18:22:03.966Z"
   },
   {
    "duration": 13,
    "start_time": "2022-02-01T18:22:06.536Z"
   },
   {
    "duration": 36,
    "start_time": "2022-02-01T18:22:06.551Z"
   },
   {
    "duration": 16,
    "start_time": "2022-02-01T18:22:06.589Z"
   },
   {
    "duration": 22,
    "start_time": "2022-02-01T18:22:06.607Z"
   },
   {
    "duration": 2365,
    "start_time": "2022-02-01T18:22:06.632Z"
   },
   {
    "duration": 5,
    "start_time": "2022-02-01T18:22:09.000Z"
   },
   {
    "duration": 205,
    "start_time": "2022-02-01T18:22:17.836Z"
   },
   {
    "duration": 1375,
    "start_time": "2022-02-01T18:22:41.074Z"
   },
   {
    "duration": 2598,
    "start_time": "2022-02-01T18:22:42.452Z"
   },
   {
    "duration": 13,
    "start_time": "2022-02-01T18:22:45.052Z"
   },
   {
    "duration": 30,
    "start_time": "2022-02-01T18:22:45.067Z"
   },
   {
    "duration": 12,
    "start_time": "2022-02-01T18:22:45.099Z"
   },
   {
    "duration": 50,
    "start_time": "2022-02-01T18:22:45.113Z"
   },
   {
    "duration": 2285,
    "start_time": "2022-02-01T18:22:45.165Z"
   },
   {
    "duration": 3,
    "start_time": "2022-02-01T18:22:47.460Z"
   },
   {
    "duration": 1320,
    "start_time": "2022-02-01T18:23:19.208Z"
   },
   {
    "duration": 2517,
    "start_time": "2022-02-01T18:23:22.749Z"
   },
   {
    "duration": 12,
    "start_time": "2022-02-01T18:23:26.354Z"
   },
   {
    "duration": 23,
    "start_time": "2022-02-01T18:23:35.931Z"
   },
   {
    "duration": 31,
    "start_time": "2022-02-01T18:23:40.887Z"
   },
   {
    "duration": 13,
    "start_time": "2022-02-01T18:23:43.556Z"
   },
   {
    "duration": 19,
    "start_time": "2022-02-01T18:23:46.267Z"
   },
   {
    "duration": 2246,
    "start_time": "2022-02-01T18:23:48.603Z"
   },
   {
    "duration": 4,
    "start_time": "2022-02-01T18:23:56.236Z"
   },
   {
    "duration": 3,
    "start_time": "2022-02-01T18:25:43.331Z"
   },
   {
    "duration": 5,
    "start_time": "2022-02-01T18:25:49.080Z"
   },
   {
    "duration": 1452,
    "start_time": "2022-02-01T18:32:00.759Z"
   },
   {
    "duration": 2674,
    "start_time": "2022-02-01T18:32:05.114Z"
   },
   {
    "duration": 11,
    "start_time": "2022-02-01T18:32:09.338Z"
   },
   {
    "duration": 36,
    "start_time": "2022-02-01T18:32:12.064Z"
   },
   {
    "duration": 12,
    "start_time": "2022-02-01T18:32:14.630Z"
   },
   {
    "duration": 14,
    "start_time": "2022-02-01T18:32:16.130Z"
   },
   {
    "duration": 2304,
    "start_time": "2022-02-01T18:32:19.090Z"
   },
   {
    "duration": 4,
    "start_time": "2022-02-01T18:32:26.539Z"
   },
   {
    "duration": 6,
    "start_time": "2022-02-01T18:33:03.544Z"
   },
   {
    "duration": 282,
    "start_time": "2022-02-01T18:37:35.899Z"
   },
   {
    "duration": 1984,
    "start_time": "2022-02-01T18:37:46.293Z"
   },
   {
    "duration": 9,
    "start_time": "2022-02-01T18:38:02.447Z"
   },
   {
    "duration": 13,
    "start_time": "2022-02-01T19:20:38.514Z"
   },
   {
    "duration": 180,
    "start_time": "2022-02-01T19:21:47.438Z"
   },
   {
    "duration": 4,
    "start_time": "2022-02-01T19:22:46.130Z"
   },
   {
    "duration": 320647,
    "start_time": "2022-02-01T19:23:10.993Z"
   },
   {
    "duration": 295796,
    "start_time": "2022-02-01T19:28:46.513Z"
   },
   {
    "duration": 4502,
    "start_time": "2022-02-01T19:33:48.417Z"
   },
   {
    "duration": 4,
    "start_time": "2022-02-01T19:33:56.794Z"
   },
   {
    "duration": 3,
    "start_time": "2022-02-01T19:34:44.794Z"
   },
   {
    "duration": 3,
    "start_time": "2022-02-01T19:36:29.533Z"
   },
   {
    "duration": 1304,
    "start_time": "2022-02-01T19:39:21.806Z"
   },
   {
    "duration": 2491,
    "start_time": "2022-02-01T19:39:23.112Z"
   },
   {
    "duration": 11,
    "start_time": "2022-02-01T19:39:25.605Z"
   },
   {
    "duration": 27,
    "start_time": "2022-02-01T19:39:25.618Z"
   },
   {
    "duration": 27,
    "start_time": "2022-02-01T19:39:25.647Z"
   },
   {
    "duration": 13,
    "start_time": "2022-02-01T19:39:25.676Z"
   },
   {
    "duration": 3,
    "start_time": "2022-02-01T19:39:25.691Z"
   },
   {
    "duration": 3873,
    "start_time": "2022-02-01T19:39:25.697Z"
   },
   {
    "duration": 9,
    "start_time": "2022-02-01T19:39:29.572Z"
   },
   {
    "duration": 9,
    "start_time": "2022-02-01T19:39:29.583Z"
   },
   {
    "duration": 2,
    "start_time": "2022-02-01T19:39:29.594Z"
   },
   {
    "duration": 77517,
    "start_time": "2022-02-01T19:39:29.598Z"
   },
   {
    "duration": 311,
    "start_time": "2022-02-01T19:40:47.117Z"
   },
   {
    "duration": 1772,
    "start_time": "2022-02-01T19:40:45.657Z"
   },
   {
    "duration": 1769,
    "start_time": "2022-02-01T19:40:45.661Z"
   },
   {
    "duration": 1767,
    "start_time": "2022-02-01T19:40:45.664Z"
   },
   {
    "duration": 1762,
    "start_time": "2022-02-01T19:40:45.670Z"
   },
   {
    "duration": 16,
    "start_time": "2022-02-01T19:51:34.488Z"
   },
   {
    "duration": 1101,
    "start_time": "2022-02-01T20:01:29.053Z"
   },
   {
    "duration": 2711,
    "start_time": "2022-02-01T20:02:12.815Z"
   },
   {
    "duration": 14,
    "start_time": "2022-02-01T20:02:24.814Z"
   },
   {
    "duration": 1345,
    "start_time": "2022-02-01T20:02:45.938Z"
   },
   {
    "duration": 679,
    "start_time": "2022-02-01T20:02:47.285Z"
   },
   {
    "duration": 13,
    "start_time": "2022-02-01T20:02:47.967Z"
   },
   {
    "duration": 40,
    "start_time": "2022-02-01T20:02:47.982Z"
   },
   {
    "duration": 10,
    "start_time": "2022-02-01T20:02:48.024Z"
   },
   {
    "duration": 41,
    "start_time": "2022-02-01T20:02:48.035Z"
   },
   {
    "duration": 13,
    "start_time": "2022-02-01T20:02:48.078Z"
   },
   {
    "duration": 4259,
    "start_time": "2022-02-01T20:02:48.093Z"
   },
   {
    "duration": 13,
    "start_time": "2022-02-01T20:02:52.354Z"
   },
   {
    "duration": 2068,
    "start_time": "2022-02-01T20:02:52.369Z"
   },
   {
    "duration": 22,
    "start_time": "2022-02-01T20:02:54.438Z"
   },
   {
    "duration": 5,
    "start_time": "2022-02-01T20:02:54.463Z"
   },
   {
    "duration": 13,
    "start_time": "2022-02-01T20:02:54.470Z"
   },
   {
    "duration": 85813,
    "start_time": "2022-02-01T20:02:54.485Z"
   },
   {
    "duration": 15,
    "start_time": "2022-02-01T20:04:20.300Z"
   },
   {
    "duration": 316,
    "start_time": "2022-02-01T20:04:20.317Z"
   },
   {
    "duration": 1744,
    "start_time": "2022-02-01T20:04:18.891Z"
   },
   {
    "duration": 1731,
    "start_time": "2022-02-01T20:04:18.905Z"
   },
   {
    "duration": 1678,
    "start_time": "2022-02-01T20:04:18.959Z"
   },
   {
    "duration": 1668,
    "start_time": "2022-02-01T20:04:18.969Z"
   },
   {
    "duration": 15218,
    "start_time": "2022-02-01T20:06:18.427Z"
   },
   {
    "duration": 13,
    "start_time": "2022-02-01T20:07:31.707Z"
   },
   {
    "duration": 5,
    "start_time": "2022-02-01T20:27:17.577Z"
   },
   {
    "duration": 944,
    "start_time": "2022-02-01T20:31:10.356Z"
   },
   {
    "duration": 2,
    "start_time": "2022-02-01T20:31:33.120Z"
   },
   {
    "duration": 3171,
    "start_time": "2022-02-01T20:31:34.784Z"
   },
   {
    "duration": 18328,
    "start_time": "2022-02-01T20:32:19.376Z"
   },
   {
    "duration": 15,
    "start_time": "2022-02-01T20:32:49.834Z"
   },
   {
    "duration": 359,
    "start_time": "2022-02-01T20:35:46.622Z"
   },
   {
    "duration": 88,
    "start_time": "2022-02-01T20:36:29.224Z"
   },
   {
    "duration": 55,
    "start_time": "2022-02-01T20:36:47.663Z"
   },
   {
    "duration": 17233,
    "start_time": "2022-02-01T20:36:51.725Z"
   },
   {
    "duration": 12,
    "start_time": "2022-02-01T20:37:13.602Z"
   },
   {
    "duration": 1468,
    "start_time": "2022-02-01T20:37:33.523Z"
   },
   {
    "duration": 2500,
    "start_time": "2022-02-01T20:37:34.994Z"
   },
   {
    "duration": 12,
    "start_time": "2022-02-01T20:37:37.496Z"
   },
   {
    "duration": 42,
    "start_time": "2022-02-01T20:37:37.510Z"
   },
   {
    "duration": 16,
    "start_time": "2022-02-01T20:37:37.555Z"
   },
   {
    "duration": 17,
    "start_time": "2022-02-01T20:37:37.574Z"
   },
   {
    "duration": 4,
    "start_time": "2022-02-01T20:37:37.593Z"
   },
   {
    "duration": 3921,
    "start_time": "2022-02-01T20:37:37.599Z"
   },
   {
    "duration": 8,
    "start_time": "2022-02-01T20:37:41.523Z"
   },
   {
    "duration": 2073,
    "start_time": "2022-02-01T20:37:41.533Z"
   },
   {
    "duration": 12,
    "start_time": "2022-02-01T20:37:43.607Z"
   },
   {
    "duration": 14,
    "start_time": "2022-02-01T20:37:43.621Z"
   },
   {
    "duration": 3,
    "start_time": "2022-02-01T20:37:43.637Z"
   },
   {
    "duration": 15473,
    "start_time": "2022-02-01T20:37:43.642Z"
   },
   {
    "duration": 14,
    "start_time": "2022-02-01T20:37:59.117Z"
   },
   {
    "duration": 7,
    "start_time": "2022-02-01T20:37:59.132Z"
   },
   {
    "duration": 19613,
    "start_time": "2022-02-01T20:37:59.141Z"
   },
   {
    "duration": 14,
    "start_time": "2022-02-01T20:38:18.756Z"
   },
   {
    "duration": 1277,
    "start_time": "2022-02-01T20:40:39.619Z"
   },
   {
    "duration": 2397,
    "start_time": "2022-02-01T20:40:40.899Z"
   },
   {
    "duration": 10,
    "start_time": "2022-02-01T20:40:43.298Z"
   },
   {
    "duration": 30,
    "start_time": "2022-02-01T20:40:43.309Z"
   },
   {
    "duration": 18,
    "start_time": "2022-02-01T20:40:43.341Z"
   },
   {
    "duration": 12,
    "start_time": "2022-02-01T20:40:43.361Z"
   },
   {
    "duration": 3,
    "start_time": "2022-02-01T20:40:43.375Z"
   },
   {
    "duration": 3930,
    "start_time": "2022-02-01T20:40:43.379Z"
   },
   {
    "duration": 7,
    "start_time": "2022-02-01T20:40:47.311Z"
   },
   {
    "duration": 1952,
    "start_time": "2022-02-01T20:40:47.320Z"
   },
   {
    "duration": 10,
    "start_time": "2022-02-01T20:40:49.273Z"
   },
   {
    "duration": 17,
    "start_time": "2022-02-01T20:40:49.285Z"
   },
   {
    "duration": 2,
    "start_time": "2022-02-01T20:40:49.304Z"
   },
   {
    "duration": 14207,
    "start_time": "2022-02-01T20:40:49.308Z"
   },
   {
    "duration": 11,
    "start_time": "2022-02-01T20:41:03.517Z"
   },
   {
    "duration": 7,
    "start_time": "2022-02-01T20:41:03.531Z"
   },
   {
    "duration": 19154,
    "start_time": "2022-02-01T20:41:03.540Z"
   },
   {
    "duration": 12,
    "start_time": "2022-02-01T20:41:22.696Z"
   },
   {
    "duration": 1288,
    "start_time": "2022-02-01T20:41:53.980Z"
   },
   {
    "duration": 2388,
    "start_time": "2022-02-01T20:41:57.206Z"
   },
   {
    "duration": 10,
    "start_time": "2022-02-01T20:42:00.594Z"
   },
   {
    "duration": 29,
    "start_time": "2022-02-01T20:42:02.395Z"
   },
   {
    "duration": 12,
    "start_time": "2022-02-01T20:42:04.745Z"
   },
   {
    "duration": 13,
    "start_time": "2022-02-01T20:42:07.319Z"
   },
   {
    "duration": 3,
    "start_time": "2022-02-01T20:42:09.214Z"
   },
   {
    "duration": 3813,
    "start_time": "2022-02-01T20:42:10.220Z"
   },
   {
    "duration": 9,
    "start_time": "2022-02-01T20:42:15.060Z"
   },
   {
    "duration": 1927,
    "start_time": "2022-02-01T20:42:23.033Z"
   },
   {
    "duration": 10,
    "start_time": "2022-02-01T20:42:39.895Z"
   },
   {
    "duration": 3,
    "start_time": "2022-02-01T20:42:42.148Z"
   },
   {
    "duration": 14670,
    "start_time": "2022-02-01T20:42:47.162Z"
   },
   {
    "duration": 2,
    "start_time": "2022-02-01T20:43:12.061Z"
   },
   {
    "duration": 19067,
    "start_time": "2022-02-01T20:43:18.897Z"
   },
   {
    "duration": 201,
    "start_time": "2022-02-01T20:44:32.207Z"
   },
   {
    "duration": 1436,
    "start_time": "2022-02-01T20:44:39.465Z"
   },
   {
    "duration": 2396,
    "start_time": "2022-02-01T20:44:40.903Z"
   },
   {
    "duration": 11,
    "start_time": "2022-02-01T20:44:43.301Z"
   },
   {
    "duration": 31,
    "start_time": "2022-02-01T20:44:43.314Z"
   },
   {
    "duration": 18,
    "start_time": "2022-02-01T20:44:43.347Z"
   },
   {
    "duration": 13,
    "start_time": "2022-02-01T20:44:43.367Z"
   },
   {
    "duration": 3,
    "start_time": "2022-02-01T20:44:43.382Z"
   },
   {
    "duration": 3950,
    "start_time": "2022-02-01T20:44:43.387Z"
   },
   {
    "duration": 2008,
    "start_time": "2022-02-01T20:44:47.339Z"
   },
   {
    "duration": 15,
    "start_time": "2022-02-01T20:44:49.350Z"
   },
   {
    "duration": 3,
    "start_time": "2022-02-01T20:44:49.367Z"
   },
   {
    "duration": 14289,
    "start_time": "2022-02-01T20:44:49.371Z"
   },
   {
    "duration": 2,
    "start_time": "2022-02-01T20:45:03.662Z"
   },
   {
    "duration": 19488,
    "start_time": "2022-02-01T20:45:03.666Z"
   },
   {
    "duration": 1330,
    "start_time": "2022-02-01T20:57:58.738Z"
   },
   {
    "duration": 2413,
    "start_time": "2022-02-01T20:58:00.070Z"
   },
   {
    "duration": 12,
    "start_time": "2022-02-01T20:58:02.485Z"
   },
   {
    "duration": 31,
    "start_time": "2022-02-01T20:58:02.499Z"
   },
   {
    "duration": 15,
    "start_time": "2022-02-01T20:58:02.532Z"
   },
   {
    "duration": 18,
    "start_time": "2022-02-01T20:58:02.559Z"
   },
   {
    "duration": 4,
    "start_time": "2022-02-01T20:58:02.579Z"
   },
   {
    "duration": 4074,
    "start_time": "2022-02-01T20:58:02.585Z"
   },
   {
    "duration": 1959,
    "start_time": "2022-02-01T20:58:06.662Z"
   },
   {
    "duration": 8,
    "start_time": "2022-02-01T20:58:08.623Z"
   },
   {
    "duration": 2,
    "start_time": "2022-02-01T20:58:08.633Z"
   },
   {
    "duration": 14031,
    "start_time": "2022-02-01T20:58:08.637Z"
   },
   {
    "duration": 3,
    "start_time": "2022-02-01T20:58:22.669Z"
   },
   {
    "duration": 18438,
    "start_time": "2022-02-01T20:58:22.674Z"
   },
   {
    "duration": 1319,
    "start_time": "2022-02-01T21:03:41.573Z"
   },
   {
    "duration": 2403,
    "start_time": "2022-02-01T21:03:42.893Z"
   },
   {
    "duration": 11,
    "start_time": "2022-02-01T21:03:45.298Z"
   },
   {
    "duration": 34,
    "start_time": "2022-02-01T21:03:45.311Z"
   },
   {
    "duration": 13,
    "start_time": "2022-02-01T21:03:45.346Z"
   },
   {
    "duration": 13,
    "start_time": "2022-02-01T21:03:45.361Z"
   },
   {
    "duration": 3,
    "start_time": "2022-02-01T21:03:45.375Z"
   },
   {
    "duration": 3900,
    "start_time": "2022-02-01T21:03:45.380Z"
   },
   {
    "duration": 1932,
    "start_time": "2022-02-01T21:03:49.282Z"
   },
   {
    "duration": 8,
    "start_time": "2022-02-01T21:03:51.215Z"
   },
   {
    "duration": 2,
    "start_time": "2022-02-01T21:03:51.225Z"
   },
   {
    "duration": 13810,
    "start_time": "2022-02-01T21:03:51.229Z"
   },
   {
    "duration": 2,
    "start_time": "2022-02-01T21:04:05.041Z"
   },
   {
    "duration": 18221,
    "start_time": "2022-02-01T21:04:05.045Z"
   },
   {
    "duration": 1376,
    "start_time": "2022-02-01T21:10:07.063Z"
   },
   {
    "duration": 2458,
    "start_time": "2022-02-01T21:10:10.875Z"
   },
   {
    "duration": 12,
    "start_time": "2022-02-01T21:10:15.063Z"
   },
   {
    "duration": 30,
    "start_time": "2022-02-01T21:10:17.473Z"
   },
   {
    "duration": 13,
    "start_time": "2022-02-01T21:10:20.349Z"
   },
   {
    "duration": 14,
    "start_time": "2022-02-01T21:10:23.450Z"
   },
   {
    "duration": 2280,
    "start_time": "2022-02-01T21:10:26.261Z"
   },
   {
    "duration": 3,
    "start_time": "2022-02-01T21:10:36.724Z"
   },
   {
    "duration": 4045,
    "start_time": "2022-02-01T21:10:40.568Z"
   },
   {
    "duration": 216,
    "start_time": "2022-02-01T21:11:02.152Z"
   },
   {
    "duration": 1331,
    "start_time": "2022-02-01T21:11:22.907Z"
   },
   {
    "duration": 2455,
    "start_time": "2022-02-01T21:11:26.451Z"
   },
   {
    "duration": 12,
    "start_time": "2022-02-01T21:11:30.299Z"
   },
   {
    "duration": 29,
    "start_time": "2022-02-01T21:11:32.700Z"
   },
   {
    "duration": 13,
    "start_time": "2022-02-01T21:11:35.215Z"
   },
   {
    "duration": 13,
    "start_time": "2022-02-01T21:11:37.808Z"
   },
   {
    "duration": 2251,
    "start_time": "2022-02-01T21:11:40.177Z"
   },
   {
    "duration": 3,
    "start_time": "2022-02-01T21:11:46.511Z"
   },
   {
    "duration": 3962,
    "start_time": "2022-02-01T21:11:47.863Z"
   },
   {
    "duration": 1374,
    "start_time": "2022-02-01T21:12:15.636Z"
   },
   {
    "duration": 2395,
    "start_time": "2022-02-01T21:12:17.012Z"
   },
   {
    "duration": 10,
    "start_time": "2022-02-01T21:12:19.409Z"
   },
   {
    "duration": 30,
    "start_time": "2022-02-01T21:12:19.421Z"
   },
   {
    "duration": 18,
    "start_time": "2022-02-01T21:12:19.453Z"
   },
   {
    "duration": 12,
    "start_time": "2022-02-01T21:12:19.473Z"
   },
   {
    "duration": 2249,
    "start_time": "2022-02-01T21:12:19.486Z"
   },
   {
    "duration": 7,
    "start_time": "2022-02-01T21:12:21.737Z"
   },
   {
    "duration": 3932,
    "start_time": "2022-02-01T21:12:21.747Z"
   },
   {
    "duration": 1328,
    "start_time": "2022-02-01T21:12:48.402Z"
   },
   {
    "duration": 2470,
    "start_time": "2022-02-01T21:12:49.732Z"
   },
   {
    "duration": 11,
    "start_time": "2022-02-01T21:12:52.204Z"
   },
   {
    "duration": 34,
    "start_time": "2022-02-01T21:12:52.217Z"
   },
   {
    "duration": 14,
    "start_time": "2022-02-01T21:12:52.253Z"
   },
   {
    "duration": 14,
    "start_time": "2022-02-01T21:12:52.269Z"
   },
   {
    "duration": 3,
    "start_time": "2022-02-01T21:12:52.285Z"
   },
   {
    "duration": 4023,
    "start_time": "2022-02-01T21:12:52.290Z"
   },
   {
    "duration": 1971,
    "start_time": "2022-02-01T21:12:56.315Z"
   },
   {
    "duration": 8,
    "start_time": "2022-02-01T21:12:58.288Z"
   },
   {
    "duration": 3,
    "start_time": "2022-02-01T21:12:58.297Z"
   },
   {
    "duration": 14514,
    "start_time": "2022-02-01T21:12:58.301Z"
   },
   {
    "duration": 2,
    "start_time": "2022-02-01T21:13:12.817Z"
   },
   {
    "duration": 19454,
    "start_time": "2022-02-01T21:13:12.821Z"
   },
   {
    "duration": 309,
    "start_time": "2022-02-01T21:14:10.940Z"
   },
   {
    "duration": 1326,
    "start_time": "2022-02-01T22:12:19.868Z"
   },
   {
    "duration": 2394,
    "start_time": "2022-02-01T22:12:21.196Z"
   },
   {
    "duration": 10,
    "start_time": "2022-02-01T22:12:23.592Z"
   },
   {
    "duration": 37,
    "start_time": "2022-02-01T22:12:23.603Z"
   },
   {
    "duration": 16,
    "start_time": "2022-02-01T22:12:23.642Z"
   },
   {
    "duration": 12,
    "start_time": "2022-02-01T22:12:23.660Z"
   },
   {
    "duration": 5,
    "start_time": "2022-02-01T22:12:23.673Z"
   },
   {
    "duration": 3756,
    "start_time": "2022-02-01T22:12:23.680Z"
   },
   {
    "duration": 1875,
    "start_time": "2022-02-01T22:12:27.438Z"
   },
   {
    "duration": 10,
    "start_time": "2022-02-01T22:12:29.314Z"
   },
   {
    "duration": 3,
    "start_time": "2022-02-01T22:12:29.325Z"
   },
   {
    "duration": 13699,
    "start_time": "2022-02-01T22:12:29.329Z"
   },
   {
    "duration": 2,
    "start_time": "2022-02-01T22:12:43.030Z"
   },
   {
    "duration": 1261,
    "start_time": "2022-02-01T22:26:45.731Z"
   },
   {
    "duration": 2388,
    "start_time": "2022-02-01T22:26:46.993Z"
   },
   {
    "duration": 12,
    "start_time": "2022-02-01T22:26:49.387Z"
   },
   {
    "duration": 32,
    "start_time": "2022-02-01T22:26:49.400Z"
   },
   {
    "duration": 32,
    "start_time": "2022-02-01T22:26:49.434Z"
   },
   {
    "duration": 14,
    "start_time": "2022-02-01T22:26:49.468Z"
   },
   {
    "duration": 3,
    "start_time": "2022-02-01T22:26:49.485Z"
   },
   {
    "duration": 3774,
    "start_time": "2022-02-01T22:26:49.490Z"
   },
   {
    "duration": 2018,
    "start_time": "2022-02-01T22:26:53.266Z"
   },
   {
    "duration": 10,
    "start_time": "2022-02-01T22:26:55.285Z"
   },
   {
    "duration": 8,
    "start_time": "2022-02-01T22:26:55.297Z"
   },
   {
    "duration": 14147,
    "start_time": "2022-02-01T22:26:55.306Z"
   },
   {
    "duration": 5,
    "start_time": "2022-02-01T22:27:09.455Z"
   },
   {
    "duration": 19562,
    "start_time": "2022-02-01T22:27:09.462Z"
   },
   {
    "duration": 1807,
    "start_time": "2022-02-04T18:45:36.386Z"
   },
   {
    "duration": 745,
    "start_time": "2022-02-04T18:45:38.196Z"
   },
   {
    "duration": 23,
    "start_time": "2022-02-04T18:45:38.945Z"
   },
   {
    "duration": 37,
    "start_time": "2022-02-04T18:45:38.971Z"
   },
   {
    "duration": 50,
    "start_time": "2022-02-04T18:45:39.011Z"
   },
   {
    "duration": 21,
    "start_time": "2022-02-04T18:45:39.064Z"
   },
   {
    "duration": 5,
    "start_time": "2022-02-04T18:45:39.088Z"
   },
   {
    "duration": 10512,
    "start_time": "2022-02-04T18:45:39.096Z"
   },
   {
    "duration": 3474,
    "start_time": "2022-02-04T18:45:49.613Z"
   },
   {
    "duration": 9,
    "start_time": "2022-02-04T18:45:53.090Z"
   },
   {
    "duration": 5,
    "start_time": "2022-02-04T18:45:53.102Z"
   },
   {
    "duration": 35352,
    "start_time": "2022-02-04T18:45:53.109Z"
   },
   {
    "duration": 3,
    "start_time": "2022-02-04T18:46:28.464Z"
   },
   {
    "duration": 52839,
    "start_time": "2022-02-04T18:46:28.470Z"
   },
   {
    "duration": 1700,
    "start_time": "2022-02-04T18:50:19.598Z"
   },
   {
    "duration": 726,
    "start_time": "2022-02-04T18:50:21.301Z"
   },
   {
    "duration": 13,
    "start_time": "2022-02-04T18:50:22.030Z"
   },
   {
    "duration": 41,
    "start_time": "2022-02-04T18:50:22.046Z"
   },
   {
    "duration": 19,
    "start_time": "2022-02-04T18:50:22.090Z"
   },
   {
    "duration": 16,
    "start_time": "2022-02-04T18:50:22.111Z"
   },
   {
    "duration": 32,
    "start_time": "2022-02-04T18:50:22.129Z"
   },
   {
    "duration": 6051,
    "start_time": "2022-02-04T18:50:22.165Z"
   },
   {
    "duration": 2577,
    "start_time": "2022-02-04T18:50:28.219Z"
   },
   {
    "duration": 10,
    "start_time": "2022-02-04T18:50:30.799Z"
   },
   {
    "duration": 12,
    "start_time": "2022-02-04T18:50:30.812Z"
   },
   {
    "duration": 25621,
    "start_time": "2022-02-04T18:50:30.827Z"
   },
   {
    "duration": 9,
    "start_time": "2022-02-04T18:50:56.450Z"
   },
   {
    "duration": 34909,
    "start_time": "2022-02-04T18:50:56.463Z"
   },
   {
    "duration": 4,
    "start_time": "2022-02-04T18:57:42.203Z"
   },
   {
    "duration": 46,
    "start_time": "2022-02-04T19:01:26.098Z"
   },
   {
    "duration": 48,
    "start_time": "2022-02-04T19:02:19.697Z"
   },
   {
    "duration": 48,
    "start_time": "2022-02-04T19:02:57.011Z"
   },
   {
    "duration": 582,
    "start_time": "2022-02-04T19:14:04.124Z"
   },
   {
    "duration": 7268,
    "start_time": "2022-02-04T19:15:26.028Z"
   },
   {
    "duration": 500,
    "start_time": "2022-02-04T19:25:54.539Z"
   },
   {
    "duration": 4,
    "start_time": "2022-02-04T19:26:04.543Z"
   },
   {
    "duration": 508,
    "start_time": "2022-02-04T19:26:07.139Z"
   },
   {
    "duration": 140,
    "start_time": "2022-02-04T19:26:34.866Z"
   },
   {
    "duration": 4,
    "start_time": "2022-02-04T19:28:17.904Z"
   },
   {
    "duration": 410,
    "start_time": "2022-02-04T19:28:41.005Z"
   },
   {
    "duration": 6333,
    "start_time": "2022-02-04T19:30:21.903Z"
   },
   {
    "duration": 6332,
    "start_time": "2022-02-04T19:30:45.409Z"
   },
   {
    "duration": 4,
    "start_time": "2022-02-04T19:30:56.633Z"
   },
   {
    "duration": 14740,
    "start_time": "2022-02-04T19:31:01.984Z"
   },
   {
    "duration": 7,
    "start_time": "2022-02-04T19:35:16.384Z"
   },
   {
    "duration": 5,
    "start_time": "2022-02-04T19:38:47.871Z"
   },
   {
    "duration": 3,
    "start_time": "2022-02-04T19:38:49.618Z"
   },
   {
    "duration": 4,
    "start_time": "2022-02-04T19:39:38.706Z"
   },
   {
    "duration": 14745,
    "start_time": "2022-02-04T19:39:45.406Z"
   },
   {
    "duration": 5,
    "start_time": "2022-02-04T19:40:58.608Z"
   },
   {
    "duration": 4,
    "start_time": "2022-02-04T19:41:01.495Z"
   },
   {
    "duration": 15137,
    "start_time": "2022-02-04T19:41:04.059Z"
   },
   {
    "duration": 461,
    "start_time": "2022-02-04T19:52:37.948Z"
   },
   {
    "duration": 3,
    "start_time": "2022-02-04T19:52:59.262Z"
   },
   {
    "duration": 130,
    "start_time": "2022-02-04T19:53:00.035Z"
   },
   {
    "duration": 7331,
    "start_time": "2022-02-04T19:53:03.269Z"
   },
   {
    "duration": 463,
    "start_time": "2022-02-04T19:58:35.079Z"
   },
   {
    "duration": 3,
    "start_time": "2022-02-04T19:58:44.444Z"
   },
   {
    "duration": 132,
    "start_time": "2022-02-04T19:58:46.067Z"
   },
   {
    "duration": 6205,
    "start_time": "2022-02-04T19:58:48.241Z"
   },
   {
    "duration": 5,
    "start_time": "2022-02-04T19:58:56.055Z"
   },
   {
    "duration": 3,
    "start_time": "2022-02-04T19:59:00.268Z"
   },
   {
    "duration": 4,
    "start_time": "2022-02-04T19:59:02.280Z"
   },
   {
    "duration": 14699,
    "start_time": "2022-02-04T19:59:04.218Z"
   },
   {
    "duration": 5,
    "start_time": "2022-02-04T19:59:43.972Z"
   },
   {
    "duration": 14058,
    "start_time": "2022-02-04T19:59:47.755Z"
   },
   {
    "duration": 11,
    "start_time": "2022-02-04T20:00:31.694Z"
   },
   {
    "duration": 6,
    "start_time": "2022-02-04T20:03:49.574Z"
   },
   {
    "duration": 7,
    "start_time": "2022-02-04T20:03:55.548Z"
   },
   {
    "duration": 497,
    "start_time": "2022-02-04T20:06:37.347Z"
   },
   {
    "duration": 381,
    "start_time": "2022-02-04T20:07:29.380Z"
   },
   {
    "duration": 476,
    "start_time": "2022-02-04T20:07:39.154Z"
   },
   {
    "duration": 6,
    "start_time": "2022-02-04T20:08:09.654Z"
   },
   {
    "duration": 4,
    "start_time": "2022-02-04T20:09:31.194Z"
   },
   {
    "duration": 927,
    "start_time": "2022-02-04T20:09:35.406Z"
   },
   {
    "duration": 5,
    "start_time": "2022-02-04T20:09:58.395Z"
   },
   {
    "duration": 957,
    "start_time": "2022-02-04T20:10:03.245Z"
   },
   {
    "duration": 10,
    "start_time": "2022-02-04T20:11:45.315Z"
   },
   {
    "duration": 5,
    "start_time": "2022-02-04T20:12:00.834Z"
   },
   {
    "duration": 620763,
    "start_time": "2022-02-04T20:12:08.635Z"
   },
   {
    "duration": 4,
    "start_time": "2022-02-04T20:22:49.273Z"
   },
   {
    "duration": 638657,
    "start_time": "2022-02-04T20:22:51.015Z"
   },
   {
    "duration": 4,
    "start_time": "2022-02-04T20:33:32.261Z"
   },
   {
    "duration": 152762,
    "start_time": "2022-02-04T20:33:34.237Z"
   },
   {
    "duration": 4,
    "start_time": "2022-02-04T20:36:33.803Z"
   },
   {
    "duration": 140815,
    "start_time": "2022-02-04T20:36:35.591Z"
   },
   {
    "duration": 4,
    "start_time": "2022-02-04T20:39:45.682Z"
   },
   {
    "duration": 7827,
    "start_time": "2022-02-04T20:39:50.232Z"
   },
   {
    "duration": 4,
    "start_time": "2022-02-04T20:40:31.284Z"
   },
   {
    "duration": 93378,
    "start_time": "2022-02-04T20:40:33.072Z"
   },
   {
    "duration": 4,
    "start_time": "2022-02-04T20:42:33.248Z"
   },
   {
    "duration": 177536,
    "start_time": "2022-02-04T20:42:34.060Z"
   },
   {
    "duration": 6350,
    "start_time": "2022-02-04T20:47:42.504Z"
   },
   {
    "duration": 11,
    "start_time": "2022-02-04T20:48:00.880Z"
   },
   {
    "duration": 4,
    "start_time": "2022-02-04T20:48:22.155Z"
   },
   {
    "duration": 5392,
    "start_time": "2022-02-04T20:48:23.641Z"
   },
   {
    "duration": 5218,
    "start_time": "2022-02-04T20:48:32.736Z"
   },
   {
    "duration": 4,
    "start_time": "2022-02-04T20:48:49.404Z"
   },
   {
    "duration": 16327,
    "start_time": "2022-02-04T20:48:50.486Z"
   },
   {
    "duration": 4,
    "start_time": "2022-02-04T20:56:32.426Z"
   },
   {
    "duration": 4457,
    "start_time": "2022-02-04T20:56:33.104Z"
   },
   {
    "duration": 4,
    "start_time": "2022-02-04T20:57:00.053Z"
   },
   {
    "duration": 32797,
    "start_time": "2022-02-04T20:57:11.526Z"
   },
   {
    "duration": 636,
    "start_time": "2022-02-04T20:59:52.218Z"
   },
   {
    "duration": 5,
    "start_time": "2022-02-04T21:01:00.857Z"
   },
   {
    "duration": 28,
    "start_time": "2022-02-04T21:01:12.595Z"
   },
   {
    "duration": 10,
    "start_time": "2022-02-04T21:01:22.645Z"
   },
   {
    "duration": 170,
    "start_time": "2022-02-04T21:03:08.777Z"
   },
   {
    "duration": 6,
    "start_time": "2022-02-04T21:03:13.797Z"
   },
   {
    "duration": 4,
    "start_time": "2022-02-04T21:03:18.185Z"
   },
   {
    "duration": 13734,
    "start_time": "2022-02-04T21:03:18.973Z"
   },
   {
    "duration": 12,
    "start_time": "2022-02-04T21:03:34.752Z"
   },
   {
    "duration": 4,
    "start_time": "2022-02-04T21:03:43.861Z"
   },
   {
    "duration": 176714,
    "start_time": "2022-02-04T21:03:45.712Z"
   },
   {
    "duration": 6096,
    "start_time": "2022-02-04T21:07:11.740Z"
   },
   {
    "duration": 11,
    "start_time": "2022-02-04T21:07:21.377Z"
   },
   {
    "duration": 4,
    "start_time": "2022-02-04T21:07:25.940Z"
   },
   {
    "duration": 33505,
    "start_time": "2022-02-04T21:07:27.703Z"
   },
   {
    "duration": 697,
    "start_time": "2022-02-04T21:08:12.354Z"
   },
   {
    "duration": 5,
    "start_time": "2022-02-04T21:11:05.370Z"
   },
   {
    "duration": 4,
    "start_time": "2022-02-04T21:11:10.732Z"
   },
   {
    "duration": 13883,
    "start_time": "2022-02-04T21:11:11.545Z"
   },
   {
    "duration": 11,
    "start_time": "2022-02-04T21:11:41.433Z"
   },
   {
    "duration": 4,
    "start_time": "2022-02-04T21:11:45.471Z"
   },
   {
    "duration": 814,
    "start_time": "2022-02-04T21:11:46.346Z"
   },
   {
    "duration": 5,
    "start_time": "2022-02-04T21:12:46.935Z"
   },
   {
    "duration": 900,
    "start_time": "2022-02-04T21:12:51.597Z"
   },
   {
    "duration": 6,
    "start_time": "2022-02-04T21:14:00.703Z"
   },
   {
    "duration": 170462,
    "start_time": "2022-02-04T21:14:04.936Z"
   },
   {
    "duration": 4,
    "start_time": "2022-02-04T21:24:42.652Z"
   },
   {
    "duration": 400,
    "start_time": "2022-02-04T21:25:58.013Z"
   },
   {
    "duration": 4,
    "start_time": "2022-02-04T21:26:20.288Z"
   },
   {
    "duration": 519934,
    "start_time": "2022-02-04T21:26:21.276Z"
   },
   {
    "duration": 13943,
    "start_time": "2022-02-04T21:36:56.580Z"
   },
   {
    "duration": 23474,
    "start_time": "2022-02-04T21:37:20.340Z"
   },
   {
    "duration": 10,
    "start_time": "2022-02-04T21:39:55.468Z"
   },
   {
    "duration": 362,
    "start_time": "2022-02-04T21:50:00.488Z"
   },
   {
    "duration": 24,
    "start_time": "2022-02-04T21:50:39.986Z"
   },
   {
    "duration": 4,
    "start_time": "2022-02-04T21:50:58.477Z"
   },
   {
    "duration": 269,
    "start_time": "2022-02-04T21:51:20.821Z"
   },
   {
    "duration": 3897,
    "start_time": "2022-02-04T21:51:26.696Z"
   },
   {
    "duration": 7,
    "start_time": "2022-02-04T21:52:01.510Z"
   },
   {
    "duration": 5256,
    "start_time": "2022-02-04T21:52:06.999Z"
   },
   {
    "duration": 4,
    "start_time": "2022-02-04T21:52:13.097Z"
   },
   {
    "duration": 2741212,
    "start_time": "2022-02-04T21:52:13.986Z"
   },
   {
    "duration": 99123,
    "start_time": "2022-02-04T22:40:00.756Z"
   },
   {
    "duration": 4,
    "start_time": "2022-02-04T22:41:51.546Z"
   },
   {
    "duration": 6116904,
    "start_time": "2022-02-04T22:41:52.283Z"
   },
   {
    "duration": 112454,
    "start_time": "2022-02-05T00:31:26.331Z"
   },
   {
    "duration": 3,
    "start_time": "2022-02-05T08:05:05.873Z"
   },
   {
    "duration": 4071378,
    "start_time": "2022-02-05T08:05:08.123Z"
   },
   {
    "duration": 474524,
    "start_time": "2022-02-05T09:14:15.058Z"
   },
   {
    "duration": 774171,
    "start_time": "2022-02-05T09:25:48.697Z"
   },
   {
    "duration": 381,
    "start_time": "2022-02-05T09:53:01.784Z"
   },
   {
    "duration": 6,
    "start_time": "2022-02-05T09:53:24.882Z"
   },
   {
    "duration": 4,
    "start_time": "2022-02-05T09:53:30.904Z"
   },
   {
    "duration": 56378,
    "start_time": "2022-02-05T09:53:33.955Z"
   },
   {
    "duration": 4,
    "start_time": "2022-02-05T09:54:41.368Z"
   },
   {
    "duration": 114526,
    "start_time": "2022-02-05T09:54:42.094Z"
   },
   {
    "duration": 4,
    "start_time": "2022-02-05T09:57:54.358Z"
   },
   {
    "duration": 136893,
    "start_time": "2022-02-05T09:57:57.062Z"
   },
   {
    "duration": 3611,
    "start_time": "2022-02-05T10:01:08.843Z"
   },
   {
    "duration": 1614339,
    "start_time": "2022-02-05T10:02:19.229Z"
   },
   {
    "duration": 372,
    "start_time": "2022-02-05T10:44:22.034Z"
   },
   {
    "duration": 472,
    "start_time": "2022-02-05T10:44:26.368Z"
   },
   {
    "duration": 126,
    "start_time": "2022-02-05T10:44:40.044Z"
   },
   {
    "duration": 384,
    "start_time": "2022-02-05T10:44:44.218Z"
   },
   {
    "duration": 4,
    "start_time": "2022-02-05T10:44:52.633Z"
   },
   {
    "duration": 40786,
    "start_time": "2022-02-05T10:44:53.868Z"
   },
   {
    "duration": 3468,
    "start_time": "2022-02-05T10:46:00.850Z"
   },
   {
    "duration": 1747,
    "start_time": "2022-02-05T10:49:12.933Z"
   },
   {
    "duration": 757,
    "start_time": "2022-02-05T10:49:14.683Z"
   },
   {
    "duration": 18,
    "start_time": "2022-02-05T10:49:15.443Z"
   },
   {
    "duration": 33,
    "start_time": "2022-02-05T10:49:15.464Z"
   },
   {
    "duration": 21,
    "start_time": "2022-02-05T10:49:15.499Z"
   },
   {
    "duration": 46,
    "start_time": "2022-02-05T10:49:15.522Z"
   },
   {
    "duration": 4,
    "start_time": "2022-02-05T10:49:15.570Z"
   },
   {
    "duration": 6157,
    "start_time": "2022-02-05T10:49:15.576Z"
   },
   {
    "duration": 2339,
    "start_time": "2022-02-05T10:49:21.738Z"
   },
   {
    "duration": 5,
    "start_time": "2022-02-05T10:49:24.081Z"
   },
   {
    "duration": 4,
    "start_time": "2022-02-05T10:49:24.089Z"
   },
   {
    "duration": 25870,
    "start_time": "2022-02-05T10:49:24.096Z"
   },
   {
    "duration": 3,
    "start_time": "2022-02-05T10:49:49.969Z"
   },
   {
    "duration": 35184,
    "start_time": "2022-02-05T10:49:49.975Z"
   },
   {
    "duration": 3,
    "start_time": "2022-02-05T10:50:25.162Z"
   },
   {
    "duration": 144,
    "start_time": "2022-02-05T10:50:25.168Z"
   },
   {
    "duration": 6476,
    "start_time": "2022-02-05T10:50:25.314Z"
   },
   {
    "duration": 4,
    "start_time": "2022-02-05T10:50:31.793Z"
   },
   {
    "duration": 7,
    "start_time": "2022-02-05T10:50:31.800Z"
   },
   {
    "duration": 7,
    "start_time": "2022-02-05T10:50:31.809Z"
   },
   {
    "duration": 5,
    "start_time": "2022-02-05T10:50:31.819Z"
   },
   {
    "duration": 523788,
    "start_time": "2022-02-05T10:50:31.826Z"
   },
   {
    "duration": 24712,
    "start_time": "2022-02-05T10:59:15.616Z"
   },
   {
    "duration": 20,
    "start_time": "2022-02-05T10:59:40.330Z"
   },
   {
    "duration": 5,
    "start_time": "2022-02-05T10:59:40.360Z"
   },
   {
    "duration": 172378,
    "start_time": "2022-02-05T10:59:40.368Z"
   },
   {
    "duration": 5974,
    "start_time": "2022-02-05T11:02:32.758Z"
   },
   {
    "duration": 23,
    "start_time": "2022-02-05T11:02:38.736Z"
   },
   {
    "duration": 5,
    "start_time": "2022-02-05T11:02:38.761Z"
   },
   {
    "duration": 35883,
    "start_time": "2022-02-05T11:02:38.768Z"
   },
   {
    "duration": 668,
    "start_time": "2022-02-05T11:03:14.653Z"
   },
   {
    "duration": 10,
    "start_time": "2022-02-05T11:03:15.323Z"
   },
   {
    "duration": 5,
    "start_time": "2022-02-05T11:03:15.336Z"
   },
   {
    "duration": 42332,
    "start_time": "2022-02-05T11:03:15.360Z"
   },
   {
    "duration": 4337,
    "start_time": "2022-02-05T11:03:57.696Z"
   },
   {
    "duration": 24,
    "start_time": "2022-02-05T11:04:02.037Z"
   },
   {
    "duration": 677,
    "start_time": "2022-02-05T11:04:02.065Z"
   },
   {
    "duration": 250,
    "start_time": "2022-02-05T11:04:02.496Z"
   },
   {
    "duration": 249,
    "start_time": "2022-02-05T11:04:02.499Z"
   },
   {
    "duration": 189,
    "start_time": "2022-02-05T11:04:02.561Z"
   },
   {
    "duration": 188,
    "start_time": "2022-02-05T11:04:02.565Z"
   },
   {
    "duration": 166,
    "start_time": "2022-02-05T11:04:02.589Z"
   },
   {
    "duration": 163,
    "start_time": "2022-02-05T11:04:02.594Z"
   },
   {
    "duration": 144,
    "start_time": "2022-02-05T11:04:02.615Z"
   },
   {
    "duration": 142,
    "start_time": "2022-02-05T11:04:02.620Z"
   },
   {
    "duration": 13,
    "start_time": "2022-02-05T11:07:43.367Z"
   },
   {
    "duration": 7048,
    "start_time": "2022-02-05T11:09:17.188Z"
   },
   {
    "duration": 3,
    "start_time": "2022-02-05T11:09:34.115Z"
   },
   {
    "duration": 37279,
    "start_time": "2022-02-05T11:11:05.230Z"
   },
   {
    "duration": 12,
    "start_time": "2022-02-05T11:12:17.163Z"
   },
   {
    "duration": 1627,
    "start_time": "2022-02-05T11:39:51.493Z"
   },
   {
    "duration": 792,
    "start_time": "2022-02-05T11:39:53.124Z"
   },
   {
    "duration": 21,
    "start_time": "2022-02-05T11:39:53.919Z"
   },
   {
    "duration": 48,
    "start_time": "2022-02-05T11:39:53.942Z"
   },
   {
    "duration": 21,
    "start_time": "2022-02-05T11:39:53.992Z"
   },
   {
    "duration": 47,
    "start_time": "2022-02-05T11:39:54.016Z"
   },
   {
    "duration": 5,
    "start_time": "2022-02-05T11:39:54.066Z"
   },
   {
    "duration": 6763,
    "start_time": "2022-02-05T11:39:54.074Z"
   },
   {
    "duration": 3468,
    "start_time": "2022-02-05T11:40:00.841Z"
   },
   {
    "duration": 7,
    "start_time": "2022-02-05T11:40:04.313Z"
   },
   {
    "duration": 6,
    "start_time": "2022-02-05T11:40:04.323Z"
   },
   {
    "duration": 26486,
    "start_time": "2022-02-05T11:40:04.332Z"
   },
   {
    "duration": 3,
    "start_time": "2022-02-05T11:40:30.821Z"
   },
   {
    "duration": 45234,
    "start_time": "2022-02-05T11:40:30.827Z"
   },
   {
    "duration": 4,
    "start_time": "2022-02-05T11:41:16.063Z"
   },
   {
    "duration": 155,
    "start_time": "2022-02-05T11:41:16.069Z"
   },
   {
    "duration": 6242,
    "start_time": "2022-02-05T11:41:16.227Z"
   },
   {
    "duration": 5,
    "start_time": "2022-02-05T11:41:22.471Z"
   },
   {
    "duration": 6,
    "start_time": "2022-02-05T11:41:22.479Z"
   },
   {
    "duration": 5,
    "start_time": "2022-02-05T11:41:22.488Z"
   },
   {
    "duration": 5,
    "start_time": "2022-02-05T11:41:22.495Z"
   },
   {
    "duration": 523311,
    "start_time": "2022-02-05T11:41:22.503Z"
   },
   {
    "duration": 23611,
    "start_time": "2022-02-05T11:50:05.816Z"
   },
   {
    "duration": 11,
    "start_time": "2022-02-05T11:50:29.429Z"
   },
   {
    "duration": 6,
    "start_time": "2022-02-05T11:50:29.460Z"
   },
   {
    "duration": 177574,
    "start_time": "2022-02-05T11:50:29.469Z"
   },
   {
    "duration": 6161,
    "start_time": "2022-02-05T11:53:27.048Z"
   },
   {
    "duration": 11,
    "start_time": "2022-02-05T11:53:33.212Z"
   },
   {
    "duration": 8,
    "start_time": "2022-02-05T11:53:33.225Z"
   },
   {
    "duration": 33645,
    "start_time": "2022-02-05T11:53:33.235Z"
   },
   {
    "duration": 662,
    "start_time": "2022-02-05T11:54:06.883Z"
   },
   {
    "duration": 15,
    "start_time": "2022-02-05T11:54:07.548Z"
   },
   {
    "duration": 4,
    "start_time": "2022-02-05T11:54:07.566Z"
   },
   {
    "duration": 40580,
    "start_time": "2022-02-05T11:54:07.572Z"
   },
   {
    "duration": 3601,
    "start_time": "2022-02-05T11:54:48.159Z"
   },
   {
    "duration": 10,
    "start_time": "2022-02-05T11:54:51.763Z"
   },
   {
    "duration": 12,
    "start_time": "2022-02-05T11:54:51.776Z"
   },
   {
    "duration": 7083,
    "start_time": "2022-02-05T11:54:51.791Z"
   },
   {
    "duration": 5,
    "start_time": "2022-02-05T11:54:58.877Z"
   },
   {
    "duration": 36459,
    "start_time": "2022-02-05T11:54:58.885Z"
   },
   {
    "duration": 21,
    "start_time": "2022-02-05T11:55:35.347Z"
   }
  ],
  "kernelspec": {
   "display_name": "Python 3",
   "language": "python",
   "name": "python3"
  },
  "language_info": {
   "codemirror_mode": {
    "name": "ipython",
    "version": 3
   },
   "file_extension": ".py",
   "mimetype": "text/x-python",
   "name": "python",
   "nbconvert_exporter": "python",
   "pygments_lexer": "ipython3",
   "version": "3.7.7"
  },
  "toc": {
   "base_numbering": 1,
   "nav_menu": {},
   "number_sections": false,
   "sideBar": true,
   "skip_h1_title": false,
   "title_cell": "Содержание",
   "title_sidebar": "Contents",
   "toc_cell": true,
   "toc_position": {
    "height": "calc(100% - 180px)",
    "left": "10px",
    "top": "150px",
    "width": "302.391px"
   },
   "toc_section_display": true,
   "toc_window_display": false
  }
 },
 "nbformat": 4,
 "nbformat_minor": 2
}
