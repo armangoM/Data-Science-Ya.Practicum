{
 "cells": [
  {
   "cell_type": "markdown",
   "metadata": {
    "toc": true
   },
   "source": [
    "<h1>Содержание<span class=\"tocSkip\"></span></h1>\n",
    "<div class=\"toc\"><ul class=\"toc-item\"><li><span><a href=\"#Отток-клиентов-банка\" data-toc-modified-id=\"Отток-клиентов-банка-1\">Отток клиентов банка</a></span><ul class=\"toc-item\"><li><span><a href=\"#Подготовка-данных\" data-toc-modified-id=\"Подготовка-данных-1.1\">Подготовка данных</a></span><ul class=\"toc-item\"><li><span><a href=\"#Переименование-столбцов\" data-toc-modified-id=\"Переименование-столбцов-1.1.1\">Переименование столбцов</a></span></li><li><span><a href=\"#Удаление-дубликатов\" data-toc-modified-id=\"Удаление-дубликатов-1.1.2\">Удаление дубликатов</a></span></li><li><span><a href=\"#Анализ-признаков\" data-toc-modified-id=\"Анализ-признаков-1.1.3\">Анализ признаков</a></span></li><li><span><a href=\"#Прямое-кодирование\" data-toc-modified-id=\"Прямое-кодирование-1.1.4\">Прямое кодирование</a></span></li><li><span><a href=\"#Корреляция-признаков\" data-toc-modified-id=\"Корреляция-признаков-1.1.5\">Корреляция признаков</a></span></li><li><span><a href=\"#Разбивка-данных-на-выборки\" data-toc-modified-id=\"Разбивка-данных-на-выборки-1.1.6\">Разбивка данных на выборки</a></span></li><li><span><a href=\"#Масштабирование-признаков\" data-toc-modified-id=\"Масштабирование-признаков-1.1.7\">Масштабирование признаков</a></span></li><li><span><a href=\"#Вывод\" data-toc-modified-id=\"Вывод-1.1.8\">Вывод</a></span></li></ul></li><li><span><a href=\"#Исследование-задачи\" data-toc-modified-id=\"Исследование-задачи-1.2\">Исследование задачи</a></span><ul class=\"toc-item\"><li><span><a href=\"#Построение-моделей\" data-toc-modified-id=\"Построение-моделей-1.2.1\">Построение моделей</a></span></li><li><span><a href=\"#Проверка-моделей-на-адекватность\" data-toc-modified-id=\"Проверка-моделей-на-адекватность-1.2.2\">Проверка моделей на адекватность</a></span></li><li><span><a href=\"#Вывод\" data-toc-modified-id=\"Вывод-1.2.3\">Вывод</a></span></li></ul></li><li><span><a href=\"#Борьба-с-дисбалансом\" data-toc-modified-id=\"Борьба-с-дисбалансом-1.3\">Борьба с дисбалансом</a></span><ul class=\"toc-item\"><li><span><a href=\"#Взвешивание-классов\" data-toc-modified-id=\"Взвешивание-классов-1.3.1\">Взвешивание классов</a></span></li><li><span><a href=\"#Upsampling\" data-toc-modified-id=\"Upsampling-1.3.2\">Upsampling</a></span></li><li><span><a href=\"#Вывод\" data-toc-modified-id=\"Вывод-1.3.3\">Вывод</a></span></li></ul></li><li><span><a href=\"#Тестирование-модели\" data-toc-modified-id=\"Тестирование-модели-1.4\">Тестирование модели</a></span></li><li><span><a href=\"#Вывод\" data-toc-modified-id=\"Вывод-1.5\">Вывод</a></span></li><li><span><a href=\"#Чек-лист-готовности-проекта\" data-toc-modified-id=\"Чек-лист-готовности-проекта-1.6\">Чек-лист готовности проекта</a></span></li></ul></li></ul></div>"
   ]
  },
  {
   "cell_type": "markdown",
   "metadata": {},
   "source": [
    "# Отток клиентов банка"
   ]
  },
  {
   "cell_type": "markdown",
   "metadata": {},
   "source": [
    "**Цель проекта** - спрогнозировать, уйдёт клиент из банка в ближайшее время или нет. В наличии исторические данные о поведении клиентов и расторжении договоров с банком. \n",
    "\n",
    "Массив данных содержит в себе информацию о клиентах банка (пол, возраст, страна проживания, баланс на счете, наличие кредитной карты, кредитный рейтинг и пр.).\n",
    "\n",
    "Для решения задачи требуется построить модель с предельно большим значением *F1*-меры (не ниже 0.59). *F1*-меру следует проверить на тестовой выборке. Дополнительно необходимо измерить *AUC-ROC* и сравнить её значение с *F1*-мерой.\n",
    "\n",
    "В ходе исследования решается ряд **задач**:\n",
    "\n",
    "- техническая подготовка данных (проверка на дубликаты, переименование столбцов и удаление ненужных);\n",
    "- проведение анализа признаков в разрезе оттока;\n",
    "- определение корреляции между признаками и целевой переменной;\n",
    "- проведение процедур кодирования и стандартизации данных; \n",
    "- построение моделей прогнозирования: логистической регрессии, решающего дерева и случайного леса;\n",
    "- балансировка классов;\n",
    "- выбор лучшей модели на основе метрики F1 и проверка на тестовой выборке.\n",
    "\n",
    "Источник данных: [https://www.kaggle.com/barelydedicated/bank-customer-churn-modeling](https://www.kaggle.com/barelydedicated/bank-customer-churn-modeling)"
   ]
  },
  {
   "cell_type": "markdown",
   "metadata": {},
   "source": [
    "## Подготовка данных"
   ]
  },
  {
   "cell_type": "markdown",
   "metadata": {},
   "source": [
    "Импорт библиотек, которые потребуются для выполнения исследования:"
   ]
  },
  {
   "cell_type": "code",
   "execution_count": 1,
   "metadata": {},
   "outputs": [],
   "source": [
    "import pandas as pd\n",
    "import re\n",
    "import matplotlib.pyplot as plt\n",
    "import seaborn as sns\n",
    "import numpy as np\n",
    "from scipy import stats as st\n",
    "from sklearn.dummy import DummyClassifier\n",
    "from sklearn.model_selection import train_test_split\n",
    "from sklearn.preprocessing import StandardScaler\n",
    "from sklearn.linear_model import LogisticRegression\n",
    "from sklearn.ensemble import RandomForestClassifier, RandomForestRegressor\n",
    "from sklearn.tree import DecisionTreeClassifier, DecisionTreeRegressor\n",
    "from sklearn.metrics import accuracy_score, f1_score, roc_auc_score \n",
    "from sklearn.utils import shuffle\n",
    "import warnings\n",
    "warnings.filterwarnings('ignore')"
   ]
  },
  {
   "cell_type": "markdown",
   "metadata": {},
   "source": [
    "Загрузка датасета:"
   ]
  },
  {
   "cell_type": "code",
   "execution_count": 2,
   "metadata": {},
   "outputs": [],
   "source": [
    "churn = pd.read_csv('/datasets/Churn.csv')"
   ]
  },
  {
   "cell_type": "markdown",
   "metadata": {},
   "source": [
    "Получение данных о первых пяти строках таблицы **churn**:"
   ]
  },
  {
   "cell_type": "code",
   "execution_count": 3,
   "metadata": {},
   "outputs": [
    {
     "data": {
      "text/html": [
       "<div>\n",
       "<style scoped>\n",
       "    .dataframe tbody tr th:only-of-type {\n",
       "        vertical-align: middle;\n",
       "    }\n",
       "\n",
       "    .dataframe tbody tr th {\n",
       "        vertical-align: top;\n",
       "    }\n",
       "\n",
       "    .dataframe thead th {\n",
       "        text-align: right;\n",
       "    }\n",
       "</style>\n",
       "<table border=\"1\" class=\"dataframe\">\n",
       "  <thead>\n",
       "    <tr style=\"text-align: right;\">\n",
       "      <th></th>\n",
       "      <th>RowNumber</th>\n",
       "      <th>CustomerId</th>\n",
       "      <th>Surname</th>\n",
       "      <th>CreditScore</th>\n",
       "      <th>Geography</th>\n",
       "      <th>Gender</th>\n",
       "      <th>Age</th>\n",
       "      <th>Tenure</th>\n",
       "      <th>Balance</th>\n",
       "      <th>NumOfProducts</th>\n",
       "      <th>HasCrCard</th>\n",
       "      <th>IsActiveMember</th>\n",
       "      <th>EstimatedSalary</th>\n",
       "      <th>Exited</th>\n",
       "    </tr>\n",
       "  </thead>\n",
       "  <tbody>\n",
       "    <tr>\n",
       "      <td>0</td>\n",
       "      <td>1</td>\n",
       "      <td>15634602</td>\n",
       "      <td>Hargrave</td>\n",
       "      <td>619</td>\n",
       "      <td>France</td>\n",
       "      <td>Female</td>\n",
       "      <td>42</td>\n",
       "      <td>2.0</td>\n",
       "      <td>0.00</td>\n",
       "      <td>1</td>\n",
       "      <td>1</td>\n",
       "      <td>1</td>\n",
       "      <td>101348.88</td>\n",
       "      <td>1</td>\n",
       "    </tr>\n",
       "    <tr>\n",
       "      <td>1</td>\n",
       "      <td>2</td>\n",
       "      <td>15647311</td>\n",
       "      <td>Hill</td>\n",
       "      <td>608</td>\n",
       "      <td>Spain</td>\n",
       "      <td>Female</td>\n",
       "      <td>41</td>\n",
       "      <td>1.0</td>\n",
       "      <td>83807.86</td>\n",
       "      <td>1</td>\n",
       "      <td>0</td>\n",
       "      <td>1</td>\n",
       "      <td>112542.58</td>\n",
       "      <td>0</td>\n",
       "    </tr>\n",
       "    <tr>\n",
       "      <td>2</td>\n",
       "      <td>3</td>\n",
       "      <td>15619304</td>\n",
       "      <td>Onio</td>\n",
       "      <td>502</td>\n",
       "      <td>France</td>\n",
       "      <td>Female</td>\n",
       "      <td>42</td>\n",
       "      <td>8.0</td>\n",
       "      <td>159660.80</td>\n",
       "      <td>3</td>\n",
       "      <td>1</td>\n",
       "      <td>0</td>\n",
       "      <td>113931.57</td>\n",
       "      <td>1</td>\n",
       "    </tr>\n",
       "    <tr>\n",
       "      <td>3</td>\n",
       "      <td>4</td>\n",
       "      <td>15701354</td>\n",
       "      <td>Boni</td>\n",
       "      <td>699</td>\n",
       "      <td>France</td>\n",
       "      <td>Female</td>\n",
       "      <td>39</td>\n",
       "      <td>1.0</td>\n",
       "      <td>0.00</td>\n",
       "      <td>2</td>\n",
       "      <td>0</td>\n",
       "      <td>0</td>\n",
       "      <td>93826.63</td>\n",
       "      <td>0</td>\n",
       "    </tr>\n",
       "    <tr>\n",
       "      <td>4</td>\n",
       "      <td>5</td>\n",
       "      <td>15737888</td>\n",
       "      <td>Mitchell</td>\n",
       "      <td>850</td>\n",
       "      <td>Spain</td>\n",
       "      <td>Female</td>\n",
       "      <td>43</td>\n",
       "      <td>2.0</td>\n",
       "      <td>125510.82</td>\n",
       "      <td>1</td>\n",
       "      <td>1</td>\n",
       "      <td>1</td>\n",
       "      <td>79084.10</td>\n",
       "      <td>0</td>\n",
       "    </tr>\n",
       "  </tbody>\n",
       "</table>\n",
       "</div>"
      ],
      "text/plain": [
       "   RowNumber  CustomerId   Surname  CreditScore Geography  Gender  Age  \\\n",
       "0          1    15634602  Hargrave          619    France  Female   42   \n",
       "1          2    15647311      Hill          608     Spain  Female   41   \n",
       "2          3    15619304      Onio          502    France  Female   42   \n",
       "3          4    15701354      Boni          699    France  Female   39   \n",
       "4          5    15737888  Mitchell          850     Spain  Female   43   \n",
       "\n",
       "   Tenure    Balance  NumOfProducts  HasCrCard  IsActiveMember  \\\n",
       "0     2.0       0.00              1          1               1   \n",
       "1     1.0   83807.86              1          0               1   \n",
       "2     8.0  159660.80              3          1               0   \n",
       "3     1.0       0.00              2          0               0   \n",
       "4     2.0  125510.82              1          1               1   \n",
       "\n",
       "   EstimatedSalary  Exited  \n",
       "0        101348.88       1  \n",
       "1        112542.58       0  \n",
       "2        113931.57       1  \n",
       "3         93826.63       0  \n",
       "4         79084.10       0  "
      ]
     },
     "execution_count": 3,
     "metadata": {},
     "output_type": "execute_result"
    }
   ],
   "source": [
    "churn.head()"
   ]
  },
  {
   "cell_type": "markdown",
   "metadata": {},
   "source": [
    "Общая информация о данных таблицы **churn**:"
   ]
  },
  {
   "cell_type": "code",
   "execution_count": 4,
   "metadata": {},
   "outputs": [
    {
     "name": "stdout",
     "output_type": "stream",
     "text": [
      "<class 'pandas.core.frame.DataFrame'>\n",
      "RangeIndex: 10000 entries, 0 to 9999\n",
      "Data columns (total 14 columns):\n",
      "RowNumber          10000 non-null int64\n",
      "CustomerId         10000 non-null int64\n",
      "Surname            10000 non-null object\n",
      "CreditScore        10000 non-null int64\n",
      "Geography          10000 non-null object\n",
      "Gender             10000 non-null object\n",
      "Age                10000 non-null int64\n",
      "Tenure             9091 non-null float64\n",
      "Balance            10000 non-null float64\n",
      "NumOfProducts      10000 non-null int64\n",
      "HasCrCard          10000 non-null int64\n",
      "IsActiveMember     10000 non-null int64\n",
      "EstimatedSalary    10000 non-null float64\n",
      "Exited             10000 non-null int64\n",
      "dtypes: float64(3), int64(8), object(3)\n",
      "memory usage: 1.1+ MB\n"
     ]
    }
   ],
   "source": [
    "churn.info()"
   ]
  },
  {
   "cell_type": "markdown",
   "metadata": {},
   "source": [
    "В датафрейме **churn** представлена информация о характеристиках клиентов банка и их поведении (попал ли клиент в отток). Он состоит из следующих столбцов: \n",
    "\n",
    "- **RowNumber** — индекс строки в данных;\n",
    "- **CustomerId** — уникальный идентификатор клиента;\n",
    "- **Surname** — фамилия;\n",
    "- **CreditScore** — кредитный рейтинг;\n",
    "- **Geography** — страна проживания;\n",
    "- **Gender** — пол;\n",
    "- **Age** — возраст;\n",
    "- **Tenure** — сколько лет человек является клиентом банка;\n",
    "- **Balance** — баланс на счёте;\n",
    "- **NumOfProducts** — количество продуктов банка, используемых клиентом;\n",
    "- **HasCrCard** — наличие кредитной карты;\n",
    "- **IsActiveMember** — активность клиента;\n",
    "- **EstimatedSalary** — предполагаемая зарплата;\n",
    "- **Exited** — факт ухода клиента.\n",
    "\n",
    "Общее количество объектов - 10 000. Пропуски содержатся только в столбце **Tenure**. Основная часть информации представлена в числовом виде (как целочисленный тип данных, так и вещественный). Столбцы **Surname**, **Geography** и **Gender** - содержат данные строкового типа. \n",
    "\n",
    "---"
   ]
  },
  {
   "cell_type": "markdown",
   "metadata": {},
   "source": [
    "Подготовим исходные данные для дальнейшего исседования и построения прогноза."
   ]
  },
  {
   "cell_type": "markdown",
   "metadata": {},
   "source": [
    "### Переименование столбцов"
   ]
  },
  {
   "cell_type": "markdown",
   "metadata": {},
   "source": [
    "Переименуем столбцы в соответствии с общепринятой практикой:"
   ]
  },
  {
   "cell_type": "code",
   "execution_count": 5,
   "metadata": {},
   "outputs": [],
   "source": [
    "# функция принимает на вход строку и ставит перед каждой заглавной буквой, кроме первой, символ \"_\", \n",
    "# после чего приводит все буквы к нижнему регистру\n",
    "\n",
    "def convert(string):\n",
    "    return re.sub( '(?<!^)(?=[A-Z])', '_', string).lower()"
   ]
  },
  {
   "cell_type": "code",
   "execution_count": 6,
   "metadata": {},
   "outputs": [
    {
     "data": {
      "text/plain": [
       "Index(['row_number', 'customer_id', 'surname', 'credit_score', 'geography',\n",
       "       'gender', 'age', 'tenure', 'balance', 'num_of_products', 'has_cr_card',\n",
       "       'is_active_member', 'estimated_salary', 'exited'],\n",
       "      dtype='object')"
      ]
     },
     "execution_count": 6,
     "metadata": {},
     "output_type": "execute_result"
    }
   ],
   "source": [
    "churn = churn.rename(columns = lambda x: convert(x))\n",
    "churn.columns"
   ]
  },
  {
   "cell_type": "markdown",
   "metadata": {},
   "source": [
    "Столбцы переименованы."
   ]
  },
  {
   "cell_type": "markdown",
   "metadata": {},
   "source": [
    "### Удаление дубликатов"
   ]
  },
  {
   "cell_type": "markdown",
   "metadata": {},
   "source": [
    "Проверим таблицу на наличие полностью повторяющихся строк:"
   ]
  },
  {
   "cell_type": "code",
   "execution_count": 7,
   "metadata": {},
   "outputs": [
    {
     "data": {
      "text/plain": [
       "0"
      ]
     },
     "execution_count": 7,
     "metadata": {},
     "output_type": "execute_result"
    }
   ],
   "source": [
    "churn.duplicated().sum()"
   ]
  },
  {
   "cell_type": "markdown",
   "metadata": {},
   "source": [
    "Полных дубликатов в данных нет. "
   ]
  },
  {
   "cell_type": "markdown",
   "metadata": {},
   "source": [
    "### Анализ признаков"
   ]
  },
  {
   "cell_type": "markdown",
   "metadata": {},
   "source": [
    "Теперь рассмотрим отдельно каждый столбец на предмет наличия ошибок в данных, аномалий и пр. Начнем с основного показателя (в дальнейшем - целевой переменной) - оттока."
   ]
  },
  {
   "cell_type": "markdown",
   "metadata": {},
   "source": [
    "**exited - факт ухода клиента**"
   ]
  },
  {
   "cell_type": "markdown",
   "metadata": {},
   "source": [
    "По условию под фактом ухода клиента понимается расторжение договора с банком."
   ]
  },
  {
   "cell_type": "code",
   "execution_count": 8,
   "metadata": {
    "scrolled": true
   },
   "outputs": [
    {
     "data": {
      "text/plain": [
       "0    7963\n",
       "1    2037\n",
       "Name: exited, dtype: int64"
      ]
     },
     "metadata": {},
     "output_type": "display_data"
    },
    {
     "data": {
      "text/plain": [
       "0    0.7963\n",
       "1    0.2037\n",
       "Name: exited, dtype: float64"
      ]
     },
     "metadata": {},
     "output_type": "display_data"
    }
   ],
   "source": [
    "display(churn['exited'].value_counts())\n",
    "display(churn['exited'].value_counts(normalize = True))"
   ]
  },
  {
   "cell_type": "markdown",
   "metadata": {},
   "source": [
    "В отток попало 20% клиентов. Пропусков и других аномалий в столбце нет."
   ]
  },
  {
   "cell_type": "markdown",
   "metadata": {},
   "source": [
    "Для дальнейшего удобства разобьем датасет на две группы - тех, кто ушел в отток, и тех, кто не ушел:"
   ]
  },
  {
   "cell_type": "code",
   "execution_count": 9,
   "metadata": {},
   "outputs": [],
   "source": [
    "churn_clients = churn.query('exited == 1')\n",
    "nonchurn_clients = churn.query('exited == 0')"
   ]
  },
  {
   "cell_type": "markdown",
   "metadata": {},
   "source": [
    "Будем рассматривать каждый признак в разрезе оттока."
   ]
  },
  {
   "cell_type": "markdown",
   "metadata": {},
   "source": [
    "**row_number — индекс строки в данных**"
   ]
  },
  {
   "cell_type": "code",
   "execution_count": 10,
   "metadata": {},
   "outputs": [
    {
     "data": {
      "text/plain": [
       "0"
      ]
     },
     "execution_count": 10,
     "metadata": {},
     "output_type": "execute_result"
    }
   ],
   "source": [
    "churn['row_number'].duplicated().sum()"
   ]
  },
  {
   "cell_type": "code",
   "execution_count": 11,
   "metadata": {},
   "outputs": [
    {
     "data": {
      "text/plain": [
       "min        1\n",
       "max    10000\n",
       "Name: row_number, dtype: int64"
      ]
     },
     "execution_count": 11,
     "metadata": {},
     "output_type": "execute_result"
    }
   ],
   "source": [
    "churn['row_number'].agg(['min', 'max'])"
   ]
  },
  {
   "cell_type": "markdown",
   "metadata": {},
   "source": [
    "В столбце по порядку перечислены числа от 1 до 10 000. Для решения задачи он нам не требуется. Удалим его:"
   ]
  },
  {
   "cell_type": "code",
   "execution_count": 12,
   "metadata": {},
   "outputs": [],
   "source": [
    "churn = churn.drop(['row_number'] , axis = 1)\n",
    "churn_clients = churn_clients.drop(['row_number'] , axis = 1)\n",
    "nonchurn_clients = nonchurn_clients.drop(['row_number'] , axis = 1)"
   ]
  },
  {
   "cell_type": "markdown",
   "metadata": {},
   "source": [
    "**customer_id — уникальный идентификатор клиента**"
   ]
  },
  {
   "cell_type": "code",
   "execution_count": 13,
   "metadata": {},
   "outputs": [
    {
     "data": {
      "text/plain": [
       "0"
      ]
     },
     "execution_count": 13,
     "metadata": {},
     "output_type": "execute_result"
    }
   ],
   "source": [
    "churn['customer_id'].duplicated().sum()"
   ]
  },
  {
   "cell_type": "markdown",
   "metadata": {},
   "source": [
    "Повторяющиеся идентификаторы клиентов в датасете отсутствуют. Здравый смысл подсказывает, что зависимости оттока от указанной переменной нет. Удалим указанный столбец после проведения EDA."
   ]
  },
  {
   "cell_type": "markdown",
   "metadata": {},
   "source": [
    "**surname — фамилия**"
   ]
  },
  {
   "cell_type": "code",
   "execution_count": 14,
   "metadata": {},
   "outputs": [
    {
     "data": {
      "text/plain": [
       "2932"
      ]
     },
     "execution_count": 14,
     "metadata": {},
     "output_type": "execute_result"
    }
   ],
   "source": [
    "churn['surname'].nunique()"
   ]
  },
  {
   "cell_type": "markdown",
   "metadata": {},
   "source": [
    "В датасете из 10 000 записей уникальных фамилий 2 932. Крайне маловероятна связь между указанной переменной и оттоком. Удалим и этот столбец:"
   ]
  },
  {
   "cell_type": "code",
   "execution_count": 15,
   "metadata": {},
   "outputs": [],
   "source": [
    "churn = churn.drop(['surname'] , axis = 1)\n",
    "churn_clients = churn_clients.drop(['surname'] , axis = 1)\n",
    "nonchurn_clients = nonchurn_clients.drop(['surname'] , axis = 1)"
   ]
  },
  {
   "cell_type": "markdown",
   "metadata": {},
   "source": [
    "**credit_score — кредитный рейтинг**"
   ]
  },
  {
   "cell_type": "code",
   "execution_count": 16,
   "metadata": {
    "scrolled": false
   },
   "outputs": [
    {
     "data": {
      "text/plain": [
       "count    10000.000000\n",
       "mean       650.528800\n",
       "std         96.653299\n",
       "min        350.000000\n",
       "25%        584.000000\n",
       "50%        652.000000\n",
       "75%        718.000000\n",
       "max        850.000000\n",
       "Name: credit_score, dtype: float64"
      ]
     },
     "execution_count": 16,
     "metadata": {},
     "output_type": "execute_result"
    }
   ],
   "source": [
    "churn['credit_score'].describe()"
   ]
  },
  {
   "cell_type": "markdown",
   "metadata": {},
   "source": [
    "Самый низкий кредитный рейтинг - 350 баллов, самый высокий - 850. Среднее значение - 650,5 баллов, что практически совпадает с медианой (652), стандартное отклонение - 96,6.\n",
    "\n",
    "Построим график распределения:"
   ]
  },
  {
   "cell_type": "code",
   "execution_count": 17,
   "metadata": {},
   "outputs": [
    {
     "data": {
      "image/png": "[encoded data removed]",
      "text/plain": [
       "<Figure size 576x360 with 1 Axes>"
      ]
     },
     "metadata": {
      "needs_background": "light"
     },
     "output_type": "display_data"
    }
   ],
   "source": [
    "plt.figure(figsize=(8, 5))\n",
    "sns.set_style(\"darkgrid\")\n",
    "fig = sns.distplot(churn['credit_score'], kde = False, bins = 20)\n",
    "fig.set_title(\"Кредитный рейтинг\", fontsize = 15)\n",
    "fig.set_xlabel(\"Баллы\", fontsize = 12)\n",
    "fig.set_ylabel(\"Количество клиентов\", fontsize = 12)\n",
    "\n",
    "plt.show()"
   ]
  },
  {
   "cell_type": "markdown",
   "metadata": {},
   "source": [
    "Распределение соответствует нормальному, за исключением правого края, где наблюдается неожиданно высокое количество клиентов с самым высоким кредитным рейтингом."
   ]
  },
  {
   "cell_type": "markdown",
   "metadata": {},
   "source": [
    "Среднее значение признака **score** несколько выше в группе без оттока:"
   ]
  },
  {
   "cell_type": "code",
   "execution_count": 18,
   "metadata": {
    "scrolled": true
   },
   "outputs": [
    {
     "data": {
      "text/plain": [
       "645.351"
      ]
     },
     "execution_count": 18,
     "metadata": {},
     "output_type": "execute_result"
    }
   ],
   "source": [
    "churn_clients['credit_score'].mean().round(3)"
   ]
  },
  {
   "cell_type": "code",
   "execution_count": 19,
   "metadata": {},
   "outputs": [
    {
     "data": {
      "text/plain": [
       "651.853"
      ]
     },
     "execution_count": 19,
     "metadata": {},
     "output_type": "execute_result"
    }
   ],
   "source": [
    "nonchurn_clients['credit_score'].mean().round(3)"
   ]
  },
  {
   "cell_type": "code",
   "execution_count": 20,
   "metadata": {},
   "outputs": [
    {
     "data": {
      "image/png": "[encoded data removed]",
      "text/plain": [
       "<Figure size 576x360 with 1 Axes>"
      ]
     },
     "metadata": {},
     "output_type": "display_data"
    }
   ],
   "source": [
    "plt.figure(figsize=(8, 5))\n",
    "fig1 = sns.distplot(churn_clients['credit_score'], kde = True, \\\n",
    "                    bins = np.linspace(start = 300, stop = 900, num = 20), label = 'группа с оттоком') \n",
    "fig2 = sns.distplot(nonchurn_clients['credit_score'], kde = True, \\\n",
    "                    bins = np.linspace(start = 300, stop = 900, num = 20), label = 'группа без оттока')  \n",
    "fig2.set_title(\"Распределение кредитного рейтинга\", fontsize = 14)\n",
    "fig2.set_ylabel(\"Доля\", fontsize = 10)\n",
    "fig2.set_xlabel(\"Баллы\")\n",
    "plt.legend()\n",
    "plt.show()"
   ]
  },
  {
   "cell_type": "markdown",
   "metadata": {},
   "source": [
    "Кривые плотностей распределения практически накладываются друг на друга, небольшое различие наблюдается только возле вершины \"колоколов\": пик графика группы без оттока находится слегка выше и правее пика графика группы с оттоком. Как мы уже видели, среднее значение кредитного рейтинга в группе без оттока немного больше (651,8 против 645,3)."
   ]
  },
  {
   "cell_type": "markdown",
   "metadata": {},
   "source": [
    "**geography — страна проживания**"
   ]
  },
  {
   "cell_type": "markdown",
   "metadata": {},
   "source": [
    "В выборке представлены клиенты из трех стран. Половина из Франции и по 25% из Германии и Испании:"
   ]
  },
  {
   "cell_type": "code",
   "execution_count": 21,
   "metadata": {},
   "outputs": [
    {
     "name": "stdout",
     "output_type": "stream",
     "text": [
      "['France' 'Spain' 'Germany']\n",
      "France     0.5014\n",
      "Germany    0.2509\n",
      "Spain      0.2477\n",
      "Name: geography, dtype: float64\n"
     ]
    }
   ],
   "source": [
    "print(churn['geography'].unique())\n",
    "print(churn['geography'].value_counts(normalize = True))"
   ]
  },
  {
   "cell_type": "code",
   "execution_count": 22,
   "metadata": {},
   "outputs": [],
   "source": [
    "geo = churn.groupby(by = 'geography').agg({'customer_id' : 'count'}).reset_index()\\\n",
    "                         .rename(columns = {'customer_id':'n'}).sort_values(by = 'n', ascending = False)"
   ]
  },
  {
   "cell_type": "code",
   "execution_count": 23,
   "metadata": {},
   "outputs": [],
   "source": [
    "#вспомогательная функция для отображения процентов на графике\n",
    "#принимает на вход название графика, сдвиг надписи по горизонтали и по вертикали\n",
    "\n",
    "def show_percent(figure, shift, height):\n",
    "    totals = []\n",
    "    for i in figure.patches:\n",
    "        totals.append(i.get_height())\n",
    "    \n",
    "    total = sum(totals)\n",
    "\n",
    "    for i in figure.patches:\n",
    "        figure.text(i.get_x() + shift, i.get_height() + height, \\\n",
    "            str(round((i.get_height() / total) * 100, 2)) + '%', fontsize=12,\n",
    "                color = 'black')"
   ]
  },
  {
   "cell_type": "code",
   "execution_count": 24,
   "metadata": {},
   "outputs": [
    {
     "data": {
      "image/png": "[encoded data removed]",
      "text/plain": [
       "<Figure size 360x360 with 1 Axes>"
      ]
     },
     "metadata": {},
     "output_type": "display_data"
    }
   ],
   "source": [
    "plt.figure(figsize=(5, 5))\n",
    "fig = sns.barplot(x = \"geography\", y = \"n\", data = geo);\n",
    "fig.set_title(\"Страна\", fontsize = 14)\n",
    "fig.set_ylabel(\"Количество клиентов\", fontsize = 10)\n",
    "fig.set_xlabel(\"\")\n",
    "show_percent(fig, 0.20, 0.01)"
   ]
  },
  {
   "cell_type": "markdown",
   "metadata": {},
   "source": [
    "Теперь посмотрим, каково соотношение клиентов из разных стран в разрезе оттока:"
   ]
  },
  {
   "cell_type": "code",
   "execution_count": 25,
   "metadata": {},
   "outputs": [],
   "source": [
    "geo_c = churn_clients.groupby(by = 'geography').agg({'customer_id' : 'count'}).reset_index()\\\n",
    "                         .rename(columns = {'customer_id':'n'})\n",
    "geo_nc = nonchurn_clients.groupby(by = 'geography').agg({'customer_id' : 'count'}).reset_index()\\\n",
    "                         .rename(columns = {'customer_id':'n'})"
   ]
  },
  {
   "cell_type": "code",
   "execution_count": 26,
   "metadata": {},
   "outputs": [
    {
     "data": {
      "image/png": "[encoded data removed]",
      "text/plain": [
       "<Figure size 864x432 with 2 Axes>"
      ]
     },
     "metadata": {},
     "output_type": "display_data"
    }
   ],
   "source": [
    "fig, axes = plt.subplots(1, 2, figsize=(12, 6))\n",
    "\n",
    "fig.suptitle('Страны клиентов', fontsize = 20)\n",
    "\n",
    "fig1 = sns.barplot(ax = axes[0], x = \"geography\", y = \"n\", data = geo_c)\n",
    "fig1.set_title(\"Группа с оттоком\", fontsize = 14)\n",
    "fig1.set_ylabel(\"Количество клиентов\", fontsize = 10)\n",
    "fig1.set_xlabel(\"\")\n",
    "show_percent(fig1, 0.20, 5)\n",
    "\n",
    "fig2 = sns.barplot(ax = axes[1], x = \"geography\", y = \"n\", data = geo_nc)\n",
    "fig2.set_title(\"Группа без оттока\", fontsize = 14)\n",
    "fig2.set_ylabel(\"Количество клиентов\", fontsize = 10)\n",
    "fig2.set_xlabel(\"\")\n",
    "show_percent(fig2, 0.20, 10)\n",
    "\n",
    "plt.show()"
   ]
  },
  {
   "cell_type": "markdown",
   "metadata": {},
   "source": [
    "В группе с оттоком по 40% клиентов из Франции и Германии, а из Испании только 20%. В группе без оттока 53% составляют клиенты из Франции, 26% из Испании, а меньше всего клиентов из Германии (21%)."
   ]
  },
  {
   "cell_type": "markdown",
   "metadata": {},
   "source": [
    "**gender — пол**"
   ]
  },
  {
   "cell_type": "code",
   "execution_count": 27,
   "metadata": {
    "scrolled": true
   },
   "outputs": [
    {
     "data": {
      "text/plain": [
       "Male      0.5457\n",
       "Female    0.4543\n",
       "Name: gender, dtype: float64"
      ]
     },
     "execution_count": 27,
     "metadata": {},
     "output_type": "execute_result"
    }
   ],
   "source": [
    "churn['gender'].value_counts(normalize = True)"
   ]
  },
  {
   "cell_type": "markdown",
   "metadata": {},
   "source": [
    "54,6% выборки - клиенты-мужчины, а 45,4% - соответственно, женщины."
   ]
  },
  {
   "cell_type": "code",
   "execution_count": 28,
   "metadata": {},
   "outputs": [],
   "source": [
    "gend_c = churn_clients.groupby(by = 'gender').agg({'customer_id' : 'count'}).reset_index()\\\n",
    "                         .rename(columns = {'customer_id':'n'})\n",
    "gend_nc = nonchurn_clients.groupby(by = 'gender').agg({'customer_id' : 'count'}).reset_index()\\\n",
    "                         .rename(columns = {'customer_id':'n'})"
   ]
  },
  {
   "cell_type": "code",
   "execution_count": 29,
   "metadata": {},
   "outputs": [
    {
     "data": {
      "image/png": "[encoded data removed]",
      "text/plain": [
       "<Figure size 720x432 with 2 Axes>"
      ]
     },
     "metadata": {},
     "output_type": "display_data"
    }
   ],
   "source": [
    "fig, axes = plt.subplots(1, 2, figsize=(10, 6))\n",
    "\n",
    "fig.suptitle('Распределение по полу', fontsize = 20)\n",
    "\n",
    "fig1 = sns.barplot(ax = axes[0], x = \"gender\", y = \"n\", data = gend_c) \n",
    "fig1.set_title(\"Группа с оттоком\", fontsize = 14)\n",
    "fig1.set_ylabel(\"Количество клиентов\", fontsize = 10)\n",
    "fig1.set_xlabel(\"Пол\")\n",
    "show_percent(fig1, 0.25, 5)\n",
    "\n",
    "fig2 = sns.barplot(ax = axes[1], x = \"gender\", y = \"n\", data = gend_nc) \n",
    "fig2.set_title(\"Группа без оттока\", fontsize = 14)\n",
    "fig2.set_ylabel(\"Количество клиентов\", fontsize = 10)\n",
    "fig2.set_xlabel(\"Пол\")\n",
    "show_percent(fig2, 0.25, 20)\n",
    "\n",
    "plt.show()"
   ]
  },
  {
   "cell_type": "markdown",
   "metadata": {},
   "source": [
    "В группе с оттоком доля женщин выше - 56% против 44% мужчин. В группе без оттока, напротив, больше доля мужчин (57,2%)."
   ]
  },
  {
   "cell_type": "markdown",
   "metadata": {},
   "source": [
    "**age — возраст**"
   ]
  },
  {
   "cell_type": "code",
   "execution_count": 30,
   "metadata": {
    "scrolled": false
   },
   "outputs": [
    {
     "data": {
      "text/plain": [
       "count    10000.000000\n",
       "mean        38.921800\n",
       "std         10.487806\n",
       "min         18.000000\n",
       "25%         32.000000\n",
       "50%         37.000000\n",
       "75%         44.000000\n",
       "max         92.000000\n",
       "Name: age, dtype: float64"
      ]
     },
     "execution_count": 30,
     "metadata": {},
     "output_type": "execute_result"
    }
   ],
   "source": [
    "churn['age'].describe()"
   ]
  },
  {
   "cell_type": "markdown",
   "metadata": {},
   "source": [
    "Самому молодому клиенту 18 лет, а самому возрастному - 92 года. Средний возраст составляет почти 39 лет, стандартное отклонение - 10,5 лет.\n",
    "\n",
    "Построим график распределения:"
   ]
  },
  {
   "cell_type": "code",
   "execution_count": 31,
   "metadata": {},
   "outputs": [
    {
     "data": {
      "image/png": "[encoded data removed]",
      "text/plain": [
       "<Figure size 576x360 with 1 Axes>"
      ]
     },
     "metadata": {},
     "output_type": "display_data"
    }
   ],
   "source": [
    "plt.figure(figsize=(8, 5))\n",
    "fig = sns.distplot(churn['age'], kde = False, bins = np.linspace(start = 0, stop = 100, num = 100))\n",
    "fig.set_title(\"Распределение возраста клиентов\", fontsize = 15)\n",
    "fig.set_xlabel(\"Возраст\", fontsize = 12)\n",
    "fig.set_ylabel(\"Количество клиентов\", fontsize = 12)\n",
    "\n",
    "plt.show()"
   ]
  },
  {
   "cell_type": "markdown",
   "metadata": {},
   "source": [
    "Распределение выглядит как нормальное, скошенное вправо. Пожилых клиентов меньше по сравнению с другими возрастными группами."
   ]
  },
  {
   "cell_type": "markdown",
   "metadata": {},
   "source": [
    "Среднее значение признака **age** на 7,4 года выше в группе с оттоком:"
   ]
  },
  {
   "cell_type": "code",
   "execution_count": 32,
   "metadata": {
    "scrolled": true
   },
   "outputs": [
    {
     "data": {
      "text/plain": [
       "44.838"
      ]
     },
     "execution_count": 32,
     "metadata": {},
     "output_type": "execute_result"
    }
   ],
   "source": [
    "churn_clients['age'].mean().round(3)"
   ]
  },
  {
   "cell_type": "code",
   "execution_count": 33,
   "metadata": {},
   "outputs": [
    {
     "data": {
      "text/plain": [
       "37.408"
      ]
     },
     "execution_count": 33,
     "metadata": {},
     "output_type": "execute_result"
    }
   ],
   "source": [
    "nonchurn_clients['age'].mean().round(3)"
   ]
  },
  {
   "cell_type": "code",
   "execution_count": 34,
   "metadata": {},
   "outputs": [
    {
     "data": {
      "image/png": "[encoded data removed]",
      "text/plain": [
       "<Figure size 576x360 with 1 Axes>"
      ]
     },
     "metadata": {},
     "output_type": "display_data"
    }
   ],
   "source": [
    "plt.figure(figsize=(8, 5))\n",
    "fig1 = sns.distplot(churn_clients['age'], kde = True, \\\n",
    "                    bins = np.linspace(start = 0, stop = 100, num = 100), label = 'группа с оттоком') \n",
    "fig2 = sns.distplot(nonchurn_clients['age'], kde = True, \\\n",
    "                    bins = np.linspace(start = 0, stop = 100, num = 100), label = 'группа без оттока')  \n",
    "fig2.set_title(\"Распределение возраста клиентов\", fontsize = 14)\n",
    "fig2.set_ylabel(\"Доля\", fontsize = 10)\n",
    "fig2.set_xlabel(\"Возраст\")\n",
    "plt.legend()\n",
    "plt.show()"
   ]
  },
  {
   "cell_type": "markdown",
   "metadata": {},
   "source": [
    "Видно существенное отличие графиков плотностей распределения возраста в группе с оттоком. В группе без оттока, во-первых, меньше среднее значение. Во-вторых, сам \"колокол\" более узкий, т.е. меньше разброс от среднего. В-третьих, правый край длинный и узкий, т.е. доля людей старшего возраста (примерно от 50 лет) ощутимо ниже в этой группе."
   ]
  },
  {
   "cell_type": "markdown",
   "metadata": {},
   "source": [
    "**tenure — сколько лет человек является клиентом банка**"
   ]
  },
  {
   "cell_type": "code",
   "execution_count": 35,
   "metadata": {
    "scrolled": true
   },
   "outputs": [
    {
     "data": {
      "text/plain": [
       "count    9091.000000\n",
       "mean        4.997690\n",
       "std         2.894723\n",
       "min         0.000000\n",
       "25%         2.000000\n",
       "50%         5.000000\n",
       "75%         7.000000\n",
       "max        10.000000\n",
       "Name: tenure, dtype: float64"
      ]
     },
     "execution_count": 35,
     "metadata": {},
     "output_type": "execute_result"
    }
   ],
   "source": [
    "churn['tenure'].describe()"
   ]
  },
  {
   "cell_type": "markdown",
   "metadata": {},
   "source": [
    "\"Стаж\" клиентов - от 0 (менее года) до 10 лет. Среднее значение - 5 лет, медиана - 5 лет, стандартное отклонение - 2,9 года.\n",
    "\n",
    "Построим график распределения:"
   ]
  },
  {
   "cell_type": "code",
   "execution_count": 36,
   "metadata": {},
   "outputs": [
    {
     "data": {
      "image/png": "[encoded data removed]",
      "text/plain": [
       "<Figure size 576x288 with 1 Axes>"
      ]
     },
     "metadata": {},
     "output_type": "display_data"
    }
   ],
   "source": [
    "plt.figure(figsize=(8, 4))\n",
    "fig = sns.distplot(churn['tenure'], kde = True, bins = len(churn['tenure'].unique()) - 1)\n",
    "fig.set_title(\"Срок жизни клиента\", fontsize = 15)\n",
    "fig.set_xlabel(\"Время, лет\", fontsize = 12)\n",
    "fig.set_ylabel(\"Доля\", fontsize = 12)\n",
    "\n",
    "plt.show()"
   ]
  },
  {
   "cell_type": "markdown",
   "metadata": {},
   "source": [
    "В рассматриваемом столбце заполнено 9 091 значение (около 91%). Пропусков довольно много, и их необходимо заполнить, иначе в дальнейшем возникнут сложности с кодированием. Удалять 9% строк нежелательно, поскольку это может исказить результат. При этом заполнение пропусков необоснованным образом ухудшит качество данных.\n",
    "\n",
    "На диаграмме распределения видно, что доля каждого значения от 1 до 9 примерно одинакова - около 10%. На два оставшихся значения - 0 и 10 - приходится по 5%. Заполним пропуски случайным образом, сохранив пропорции."
   ]
  },
  {
   "cell_type": "markdown",
   "metadata": {},
   "source": [
    "Доля каждого из значений:"
   ]
  },
  {
   "cell_type": "code",
   "execution_count": 37,
   "metadata": {},
   "outputs": [
    {
     "data": {
      "text/plain": [
       "1.0     0.104719\n",
       "2.0     0.104499\n",
       "8.0     0.102629\n",
       "3.0     0.102079\n",
       "5.0     0.101969\n",
       "7.0     0.101749\n",
       "4.0     0.097349\n",
       "9.0     0.097019\n",
       "6.0     0.096909\n",
       "10.0    0.049060\n",
       "0.0     0.042020\n",
       "Name: tenure, dtype: float64"
      ]
     },
     "execution_count": 37,
     "metadata": {},
     "output_type": "execute_result"
    }
   ],
   "source": [
    "churn['tenure'].value_counts(normalize = True)"
   ]
  },
  {
   "cell_type": "code",
   "execution_count": 38,
   "metadata": {},
   "outputs": [],
   "source": [
    "np.random.seed(0)\n",
    "churn['tenure'] = churn['tenure'].fillna(pd.Series(np.random.choice(churn.query('~tenure.isna()')['tenure'].unique(), \n",
    "                                        p = churn['tenure'].value_counts(normalize = True), size = len(churn['tenure']))))"
   ]
  },
  {
   "cell_type": "code",
   "execution_count": 39,
   "metadata": {},
   "outputs": [
    {
     "data": {
      "text/plain": [
       "count    10000.000000\n",
       "mean         4.994800\n",
       "std          2.901313\n",
       "min          0.000000\n",
       "25%          2.000000\n",
       "50%          5.000000\n",
       "75%          7.000000\n",
       "max         10.000000\n",
       "Name: tenure, dtype: float64"
      ]
     },
     "execution_count": 39,
     "metadata": {},
     "output_type": "execute_result"
    }
   ],
   "source": [
    "churn['tenure'].describe()"
   ]
  },
  {
   "cell_type": "markdown",
   "metadata": {},
   "source": [
    "Пропусков не осталось. Медиана сохранила значение. Среднее, дисперсия и частоты также практически не изменились:"
   ]
  },
  {
   "cell_type": "code",
   "execution_count": 40,
   "metadata": {},
   "outputs": [
    {
     "name": "stdout",
     "output_type": "stream",
     "text": [
      "2.0     0.1050\n",
      "1.0     0.1045\n",
      "3.0     0.1030\n",
      "8.0     0.1022\n",
      "5.0     0.1016\n",
      "7.0     0.1005\n",
      "4.0     0.0982\n",
      "6.0     0.0966\n",
      "9.0     0.0932\n",
      "10.0    0.0531\n",
      "0.0     0.0421\n",
      "Name: tenure, dtype: float64\n"
     ]
    }
   ],
   "source": [
    "print(churn['tenure'].value_counts(normalize = True))"
   ]
  },
  {
   "cell_type": "markdown",
   "metadata": {},
   "source": [
    "Среднее значение признака **tenure** незначительно выше в группе без оттока:"
   ]
  },
  {
   "cell_type": "code",
   "execution_count": 41,
   "metadata": {
    "scrolled": true
   },
   "outputs": [
    {
     "data": {
      "text/plain": [
       "4.902"
      ]
     },
     "execution_count": 41,
     "metadata": {},
     "output_type": "execute_result"
    }
   ],
   "source": [
    "churn_clients['tenure'].mean().round(3)"
   ]
  },
  {
   "cell_type": "code",
   "execution_count": 42,
   "metadata": {},
   "outputs": [
    {
     "data": {
      "text/plain": [
       "5.022"
      ]
     },
     "execution_count": 42,
     "metadata": {},
     "output_type": "execute_result"
    }
   ],
   "source": [
    "nonchurn_clients['tenure'].mean().round(3)"
   ]
  },
  {
   "cell_type": "code",
   "execution_count": 43,
   "metadata": {},
   "outputs": [
    {
     "data": {
      "image/png": "[encoded data removed]",
      "text/plain": [
       "<Figure size 576x360 with 1 Axes>"
      ]
     },
     "metadata": {},
     "output_type": "display_data"
    }
   ],
   "source": [
    "plt.figure(figsize=(8, 5))\n",
    "fig1 = sns.distplot(churn_clients['tenure'], kde = True, bins = len(churn['tenure'].unique()), label = 'группа с оттоком') \n",
    "fig2 = sns.distplot(nonchurn_clients['tenure'], kde = True, bins = len(churn['tenure'].unique()), label = 'группа без оттока')  \n",
    "fig2.set_title(\"Срок жизни клиента\", fontsize = 14)\n",
    "fig2.set_ylabel(\"Количество клиентов\", fontsize = 10)\n",
    "fig2.set_xlabel(\"Время, лет\")\n",
    "plt.legend()\n",
    "plt.show()"
   ]
  },
  {
   "cell_type": "markdown",
   "metadata": {},
   "source": [
    "Распределения выглядят очень похоже. В группе без оттока больше доли клиентов, обслуживающихся в банке 7 и 8 лет. В группе с оттоком выше доля клиентов, обслуживающихся менее двух лет, а также 9 лет."
   ]
  },
  {
   "cell_type": "markdown",
   "metadata": {},
   "source": [
    "**balance — баланс на счёте**"
   ]
  },
  {
   "cell_type": "code",
   "execution_count": 44,
   "metadata": {
    "scrolled": false
   },
   "outputs": [
    {
     "data": {
      "text/plain": [
       "count     10000.000000\n",
       "mean      76485.889288\n",
       "std       62397.405202\n",
       "min           0.000000\n",
       "25%           0.000000\n",
       "50%       97198.540000\n",
       "75%      127644.240000\n",
       "max      250898.090000\n",
       "Name: balance, dtype: float64"
      ]
     },
     "execution_count": 44,
     "metadata": {},
     "output_type": "execute_result"
    }
   ],
   "source": [
    "churn['balance'].describe()"
   ]
  },
  {
   "cell_type": "markdown",
   "metadata": {},
   "source": [
    "Минимальное значение остатка - 0, максимальное - 250 898. Аномальных значений нет. Среднее значение - 76 486, медианное - 97 199. Стандартное отклонение - 62 397."
   ]
  },
  {
   "cell_type": "markdown",
   "metadata": {},
   "source": [
    "Построим график распределения:"
   ]
  },
  {
   "cell_type": "code",
   "execution_count": 45,
   "metadata": {},
   "outputs": [
    {
     "data": {
      "image/png": "[encoded data removed]",
      "text/plain": [
       "<Figure size 576x360 with 1 Axes>"
      ]
     },
     "metadata": {},
     "output_type": "display_data"
    }
   ],
   "source": [
    "plt.figure(figsize=(8, 5))\n",
    "fig = sns.distplot(churn['balance'], kde = False, bins = np.linspace(start = 0, stop = 260000, num = 50))\n",
    "fig.set_title(\"Распределение остатка на счете\", fontsize = 15)\n",
    "fig.set_xlabel(\"Остаток\", fontsize = 12)\n",
    "fig.set_ylabel(\"Количество клиентов\", fontsize = 12)\n",
    "\n",
    "plt.show()"
   ]
  },
  {
   "cell_type": "markdown",
   "metadata": {},
   "source": [
    "В целом распределение визуально выглядит как нормальное, если отбросить 36% нулевых значений:"
   ]
  },
  {
   "cell_type": "code",
   "execution_count": 46,
   "metadata": {},
   "outputs": [
    {
     "data": {
      "text/plain": [
       "3617"
      ]
     },
     "execution_count": 46,
     "metadata": {},
     "output_type": "execute_result"
    }
   ],
   "source": [
    "churn.query('balance == 0')['customer_id'].count()"
   ]
  },
  {
   "cell_type": "markdown",
   "metadata": {},
   "source": [
    "Среднее значение признака **balance** существенно больше в группе с оттоком:"
   ]
  },
  {
   "cell_type": "code",
   "execution_count": 47,
   "metadata": {
    "scrolled": true
   },
   "outputs": [
    {
     "data": {
      "text/plain": [
       "91108.539"
      ]
     },
     "execution_count": 47,
     "metadata": {},
     "output_type": "execute_result"
    }
   ],
   "source": [
    "churn_clients['balance'].mean().round(3)"
   ]
  },
  {
   "cell_type": "code",
   "execution_count": 48,
   "metadata": {},
   "outputs": [
    {
     "data": {
      "text/plain": [
       "72745.297"
      ]
     },
     "execution_count": 48,
     "metadata": {},
     "output_type": "execute_result"
    }
   ],
   "source": [
    "nonchurn_clients['balance'].mean().round(3)"
   ]
  },
  {
   "cell_type": "code",
   "execution_count": 49,
   "metadata": {},
   "outputs": [
    {
     "data": {
      "image/png": "[encoded data removed]",
      "text/plain": [
       "<Figure size 576x360 with 1 Axes>"
      ]
     },
     "metadata": {},
     "output_type": "display_data"
    }
   ],
   "source": [
    "plt.figure(figsize=(8, 5))\n",
    "fig1 = sns.distplot(churn_clients['balance'], kde = True, \\\n",
    "                    bins = np.linspace(start = 0, stop = 260000, num = 20), label = 'группа с оттоком') \n",
    "fig2 = sns.distplot(nonchurn_clients['balance'], kde = True, \\\n",
    "                    bins = np.linspace(start = 0, stop = 260000, num = 20), label = 'группа без оттока')  \n",
    "fig2.set_title(\"Распределение остатка на счете\", fontsize = 14)\n",
    "fig2.set_ylabel(\"Доля\", fontsize = 10)\n",
    "fig2.set_xlabel(\"Остаток\")\n",
    "plt.legend()\n",
    "plt.show()"
   ]
  },
  {
   "cell_type": "markdown",
   "metadata": {},
   "source": [
    "Характер распределений одинаков, однако доля клиентов с нулевыми остатками значительно больше в группе без оттока. На основной части графика пик, соответствующий средним значениям, выше для группы с оттоком. Возможно, группа без оттока содержит клиентов, которые перестали пользоваться услугами банка и увели деньги со счета, но договор с банком не расторгли и поэтому формально остались клиентами. \n",
    "\n",
    "Если не брать в расчет клиентов с нулевыми остатками, среднее значение для обеих групп примерно одинаково:"
   ]
  },
  {
   "cell_type": "code",
   "execution_count": 50,
   "metadata": {},
   "outputs": [
    {
     "name": "stdout",
     "output_type": "stream",
     "text": [
      "120746.971\n",
      "119535.864\n"
     ]
    }
   ],
   "source": [
    "print(churn_clients.query('balance != 0')['balance'].mean().round(3))\n",
    "print(nonchurn_clients.query('balance != 0')['balance'].mean().round(3))"
   ]
  },
  {
   "cell_type": "markdown",
   "metadata": {},
   "source": [
    "**num_of_products — количество продуктов банка, используемых клиентом**"
   ]
  },
  {
   "cell_type": "code",
   "execution_count": 51,
   "metadata": {
    "scrolled": false
   },
   "outputs": [
    {
     "data": {
      "text/plain": [
       "count    10000.000000\n",
       "mean         1.530200\n",
       "std          0.581654\n",
       "min          1.000000\n",
       "25%          1.000000\n",
       "50%          1.000000\n",
       "75%          2.000000\n",
       "max          4.000000\n",
       "Name: num_of_products, dtype: float64"
      ]
     },
     "execution_count": 51,
     "metadata": {},
     "output_type": "execute_result"
    }
   ],
   "source": [
    "churn['num_of_products'].describe()"
   ]
  },
  {
   "cell_type": "markdown",
   "metadata": {},
   "source": [
    "Минимальное количество продуктов, которыми пользуется клиент, - 1, максимальное - 4, среднее - 1,5, медианное - 1. Стандартное отклонение - 0,58.\n",
    "\n",
    "Построим график распределения:"
   ]
  },
  {
   "cell_type": "code",
   "execution_count": 52,
   "metadata": {},
   "outputs": [],
   "source": [
    "prod = churn.groupby(by = 'num_of_products').agg({'customer_id' : 'count'}).reset_index()\\\n",
    "                         .rename(columns = {'customer_id':'n'}).sort_values(by = 'n', ascending = False)"
   ]
  },
  {
   "cell_type": "code",
   "execution_count": 53,
   "metadata": {},
   "outputs": [
    {
     "data": {
      "image/png": "[encoded data removed]",
      "text/plain": [
       "<Figure size 360x360 with 1 Axes>"
      ]
     },
     "metadata": {},
     "output_type": "display_data"
    }
   ],
   "source": [
    "plt.figure(figsize=(5, 5))\n",
    "fig = sns.barplot(x = \"num_of_products\", y = \"n\", data = prod) \n",
    "fig.set_title(\"Количество продуктов\", fontsize = 14)\n",
    "fig.set_ylabel(\"Количество клиентов\", fontsize = 10)\n",
    "fig.set_xlabel(\"\")\n",
    "show_percent(fig, 0.15, 20)"
   ]
  },
  {
   "cell_type": "markdown",
   "metadata": {},
   "source": [
    "У половины клиентов оформлен только один продукт, еще у 46% - 2. Незначительное количество пользуется тремя или четырьмя продуктами."
   ]
  },
  {
   "cell_type": "markdown",
   "metadata": {},
   "source": [
    "Среднее значение признака **num_of_products** незначительно отличается в пользу группы без оттока:"
   ]
  },
  {
   "cell_type": "code",
   "execution_count": 54,
   "metadata": {},
   "outputs": [
    {
     "data": {
      "text/plain": [
       "1.475"
      ]
     },
     "execution_count": 54,
     "metadata": {},
     "output_type": "execute_result"
    }
   ],
   "source": [
    "churn_clients['num_of_products'].mean().round(3)"
   ]
  },
  {
   "cell_type": "code",
   "execution_count": 55,
   "metadata": {},
   "outputs": [
    {
     "data": {
      "text/plain": [
       "1.544"
      ]
     },
     "execution_count": 55,
     "metadata": {},
     "output_type": "execute_result"
    }
   ],
   "source": [
    "nonchurn_clients['num_of_products'].mean().round(3)"
   ]
  },
  {
   "cell_type": "code",
   "execution_count": 56,
   "metadata": {},
   "outputs": [],
   "source": [
    "prod_c = churn_clients.groupby(by = 'num_of_products').agg({'customer_id' : 'count'}).reset_index()\\\n",
    "                         .rename(columns = {'customer_id':'n'})\n",
    "prod_nc = nonchurn_clients.groupby(by = 'num_of_products').agg({'customer_id' : 'count'}).reset_index()\\\n",
    "                         .rename(columns = {'customer_id':'n'})"
   ]
  },
  {
   "cell_type": "code",
   "execution_count": 57,
   "metadata": {},
   "outputs": [
    {
     "data": {
      "image/png": "[encoded data removed]",
      "text/plain": [
       "<Figure size 864x432 with 2 Axes>"
      ]
     },
     "metadata": {},
     "output_type": "display_data"
    }
   ],
   "source": [
    "fig, axes = plt.subplots(1, 2, figsize=(12, 6))\n",
    "\n",
    "fig.suptitle('Количество продуктов у клиентов', fontsize = 20)\n",
    "\n",
    "fig1 = sns.barplot(ax = axes[0], x = \"num_of_products\", y = \"n\", data = prod_c) \n",
    "fig1.set_title(\"Группа с оттоком\", fontsize = 14)\n",
    "fig1.set_ylabel(\"Количество клиентов\", fontsize = 10)\n",
    "fig1.set_xlabel(\"\")\n",
    "show_percent(fig1, 0.2, 5)\n",
    "\n",
    "fig2 = sns.barplot(ax = axes[1], x = \"num_of_products\", y = \"n\", data = prod_nc) \n",
    "fig2.set_title(\"Группа без оттока\", fontsize = 14)\n",
    "fig2.set_ylabel(\"Количество клиентов\", fontsize = 10)\n",
    "fig2.set_xlabel(\"\")\n",
    "show_percent(fig2, 0.2, 10)\n",
    "\n",
    "plt.show()"
   ]
  },
  {
   "cell_type": "markdown",
   "metadata": {},
   "source": [
    "Подавляющее большинство клиентов (69%) в группе с оттоком пользуется только одним продуктом. В группе без оттока, напротив, 53% используют 2 продукта. В последнюю практически не попали клиенты с тремя или четырьмя продуктами. Вероятно, это можно объяснить тем, что доля таких клиентов в целом очень мала. Вообще говоря, большее количество продуктов сильнее привязывает клиента к сервисам банка."
   ]
  },
  {
   "cell_type": "markdown",
   "metadata": {},
   "source": [
    "**has_cr_card — наличие кредитной карты**"
   ]
  },
  {
   "cell_type": "code",
   "execution_count": 58,
   "metadata": {
    "scrolled": false
   },
   "outputs": [
    {
     "data": {
      "text/plain": [
       "1    0.7055\n",
       "0    0.2945\n",
       "Name: has_cr_card, dtype: float64"
      ]
     },
     "execution_count": 58,
     "metadata": {},
     "output_type": "execute_result"
    }
   ],
   "source": [
    "churn['has_cr_card'].value_counts(normalize = True)"
   ]
  },
  {
   "cell_type": "markdown",
   "metadata": {},
   "source": [
    "70,5% клиентов из выборки имеют кредитные карты."
   ]
  },
  {
   "cell_type": "markdown",
   "metadata": {},
   "source": [
    "Средние значения признака **has_cr_card** в группах с оттоком и без оттока практически не отличаются:"
   ]
  },
  {
   "cell_type": "code",
   "execution_count": 59,
   "metadata": {},
   "outputs": [
    {
     "data": {
      "text/plain": [
       "0.699"
      ]
     },
     "execution_count": 59,
     "metadata": {},
     "output_type": "execute_result"
    }
   ],
   "source": [
    "churn_clients['has_cr_card'].mean().round(3)"
   ]
  },
  {
   "cell_type": "code",
   "execution_count": 60,
   "metadata": {},
   "outputs": [
    {
     "data": {
      "text/plain": [
       "0.707"
      ]
     },
     "execution_count": 60,
     "metadata": {},
     "output_type": "execute_result"
    }
   ],
   "source": [
    "nonchurn_clients['has_cr_card'].mean().round(3)"
   ]
  },
  {
   "cell_type": "code",
   "execution_count": 61,
   "metadata": {},
   "outputs": [],
   "source": [
    "cards_c = churn_clients.groupby(by = 'has_cr_card').agg({'customer_id' : 'count'}).reset_index()\\\n",
    "                         .rename(columns = {'customer_id':'n'})\n",
    "cards_nc = nonchurn_clients.groupby(by = 'has_cr_card').agg({'customer_id' : 'count'}).reset_index()\\\n",
    "                         .rename(columns = {'customer_id':'n'})\n",
    "cards_c['label'] = ['Нет' if (i == 0) else 'Да' for i in cards_c['has_cr_card']]\n",
    "cards_nc['label'] = ['Нет' if (i == 0) else 'Да' for i in cards_nc['has_cr_card']]"
   ]
  },
  {
   "cell_type": "code",
   "execution_count": 62,
   "metadata": {},
   "outputs": [
    {
     "data": {
      "image/png": "[encoded data removed]",
      "text/plain": [
       "<Figure size 576x432 with 2 Axes>"
      ]
     },
     "metadata": {},
     "output_type": "display_data"
    }
   ],
   "source": [
    "fig, axes = plt.subplots(1, 2, figsize=(8, 6))\n",
    "\n",
    "fig.suptitle('Наличие кредитной карты', fontsize = 20)\n",
    "\n",
    "fig1 = sns.barplot(ax = axes[0], x = \"label\", y = \"n\", data = cards_c) \n",
    "fig1.set_title(\"Группа с оттоком\", fontsize = 14)\n",
    "fig1.set_ylabel(\"Количество клиентов\", fontsize = 10)\n",
    "fig1.set_xlabel(\"\")\n",
    "show_percent(fig1, 0.25, 5)\n",
    "\n",
    "fig2 = sns.barplot(ax = axes[1], x = \"label\", y = \"n\", data = cards_nc) \n",
    "fig2.set_title(\"Группа без оттока\", fontsize = 14)\n",
    "fig2.set_ylabel(\"Количество клиентов\", fontsize = 10)\n",
    "fig2.set_xlabel(\"\")\n",
    "show_percent(fig2, 0.25, 20)\n",
    "\n",
    "plt.show()"
   ]
  },
  {
   "cell_type": "markdown",
   "metadata": {},
   "source": [
    "Распределения идентичны для обеих групп."
   ]
  },
  {
   "cell_type": "markdown",
   "metadata": {},
   "source": [
    "**is_active_member — активность клиента**"
   ]
  },
  {
   "cell_type": "code",
   "execution_count": 63,
   "metadata": {
    "scrolled": true
   },
   "outputs": [
    {
     "data": {
      "text/plain": [
       "1    0.5151\n",
       "0    0.4849\n",
       "Name: is_active_member, dtype: float64"
      ]
     },
     "execution_count": 63,
     "metadata": {},
     "output_type": "execute_result"
    }
   ],
   "source": [
    "churn['is_active_member'].value_counts(normalize = True)"
   ]
  },
  {
   "cell_type": "markdown",
   "metadata": {},
   "source": [
    "51,5% клиентов являются активными."
   ]
  },
  {
   "cell_type": "markdown",
   "metadata": {},
   "source": [
    "Средние значения признака **is_active_member** в группах с оттоком и без оттока существенно отличаются:"
   ]
  },
  {
   "cell_type": "code",
   "execution_count": 64,
   "metadata": {},
   "outputs": [
    {
     "data": {
      "text/plain": [
       "0.361"
      ]
     },
     "execution_count": 64,
     "metadata": {},
     "output_type": "execute_result"
    }
   ],
   "source": [
    "churn_clients['is_active_member'].mean().round(3)"
   ]
  },
  {
   "cell_type": "code",
   "execution_count": 65,
   "metadata": {},
   "outputs": [
    {
     "data": {
      "text/plain": [
       "0.555"
      ]
     },
     "execution_count": 65,
     "metadata": {},
     "output_type": "execute_result"
    }
   ],
   "source": [
    "nonchurn_clients['is_active_member'].mean().round(3)"
   ]
  },
  {
   "cell_type": "code",
   "execution_count": 66,
   "metadata": {},
   "outputs": [],
   "source": [
    "lo_c = churn_clients.groupby(by = 'is_active_member').agg({'customer_id' : 'count'}).reset_index()\\\n",
    "                         .rename(columns = {'customer_id':'n'})\n",
    "lo_nc = nonchurn_clients.groupby(by = 'is_active_member').agg({'customer_id' : 'count'}).reset_index()\\\n",
    "                         .rename(columns = {'customer_id':'n'})\n",
    "lo_c['label'] = ['Нет' if (i == 0) else 'Да' for i in lo_c['is_active_member']]\n",
    "lo_nc['label'] = ['Нет' if (i == 0) else 'Да' for i in lo_nc['is_active_member']]"
   ]
  },
  {
   "cell_type": "code",
   "execution_count": 67,
   "metadata": {},
   "outputs": [
    {
     "data": {
      "image/png": "[encoded data removed]",
      "text/plain": [
       "<Figure size 576x432 with 2 Axes>"
      ]
     },
     "metadata": {},
     "output_type": "display_data"
    }
   ],
   "source": [
    "fig, axes = plt.subplots(1, 2, figsize=(8, 6))\n",
    "\n",
    "fig.suptitle('Признак активного клиента', fontsize = 20)\n",
    "\n",
    "fig1 = sns.barplot(ax = axes[0], x = \"label\", y = \"n\", data = lo_c) \n",
    "fig1.set_title(\"Группа с оттоком\", fontsize = 14)\n",
    "fig1.set_ylabel(\"Количество клиентов\", fontsize = 10)\n",
    "fig1.set_xlabel(\"\")\n",
    "show_percent(fig1, 0.25, 5)\n",
    "\n",
    "fig2 = sns.barplot(ax = axes[1], x = \"label\", y = \"n\", data = lo_nc) \n",
    "fig2.set_title(\"Группа без оттока\", fontsize = 14)\n",
    "fig2.set_ylabel(\"Количество клиентов\", fontsize = 10)\n",
    "fig2.set_xlabel(\"\")\n",
    "show_percent(fig2, 0.25, 20)\n",
    "\n",
    "plt.show()"
   ]
  },
  {
   "cell_type": "markdown",
   "metadata": {},
   "source": [
    "В группе без оттока доля активных клиентов преобладает - 55,5%. В группе с оттоком она значительно меньше - всего 36%."
   ]
  },
  {
   "cell_type": "markdown",
   "metadata": {},
   "source": [
    "**estimated_salary — предполагаемая зарплата**"
   ]
  },
  {
   "cell_type": "code",
   "execution_count": 68,
   "metadata": {
    "scrolled": true
   },
   "outputs": [
    {
     "data": {
      "text/plain": [
       "count     10000.000000\n",
       "mean     100090.239881\n",
       "std       57510.492818\n",
       "min          11.580000\n",
       "25%       51002.110000\n",
       "50%      100193.915000\n",
       "75%      149388.247500\n",
       "max      199992.480000\n",
       "Name: estimated_salary, dtype: float64"
      ]
     },
     "execution_count": 68,
     "metadata": {},
     "output_type": "execute_result"
    }
   ],
   "source": [
    "churn['estimated_salary'].describe()"
   ]
  },
  {
   "cell_type": "markdown",
   "metadata": {},
   "source": [
    "Минимальное значение зарплаты - 11,6, максимальное - 199 992,5. Нижняя граница выглядит неправдоподобной. Из предоставленных данных неясно, каким образом определяется показатель, кроме очевидного случая, когда клиент получает напрямую зарплату на карту в банке заказчика. Возможно, при расчете показателя учитывались поступления на счет, приходящие с определенной периодичностью, тогда под заработной платой стоит понимать пенсию или пособия. Посмотрим, сколько в датасете клиентов с низкими значениями показателя (менее [пособия по безработице](https://spainru.com/immigraciia-v-ispaniiu/kak-oformit-posobie-po-bezrabotitse-v-ispanii/) в самой бедной из представленных стран - Испании): "
   ]
  },
  {
   "cell_type": "code",
   "execution_count": 69,
   "metadata": {},
   "outputs": [
    {
     "data": {
      "text/plain": [
       "20"
      ]
     },
     "execution_count": 69,
     "metadata": {},
     "output_type": "execute_result"
    }
   ],
   "source": [
    "churn.query('estimated_salary < 452')['customer_id'].count()"
   ]
  },
  {
   "cell_type": "markdown",
   "metadata": {},
   "source": [
    "Таких всего 0,2% от общего количества, что не искажает общую картину, даже если показатель ошибочно занижен. \n",
    "\n",
    "Вообще говоря, данные выглядят недостоверными, поскольку средняя **годовая** зарплата в самой богатой из рассматриваемых стран - Германии - [составляет 57 000 евро](https://www.study-in-germany.ru/post/%D0%B7%D0%B0%D1%80%D0%BF%D0%BB%D0%B0%D1%82%D1%8B-%D0%B2-%D0%B3%D0%B5%D1%80%D0%BC%D0%B0%D0%BD%D0%B8%D0%B8-%D0%B4%D0%B0%D0%BD%D0%BD%D1%8B%D0%B5-2021-%D0%B3%D0%BE%D0%B4%D0%B0). В нашем датасете она ровно вдвое выше. Однако оставим этот вопрос на совести тех, кто агрегировал данные."
   ]
  },
  {
   "cell_type": "markdown",
   "metadata": {},
   "source": [
    "Средний размер зарплаты - 100 090,2, он совпадает с медианным - 100 193,9. Стандартное отклонение - 57 510,5.\n",
    "\n",
    "Построим график распределения:"
   ]
  },
  {
   "cell_type": "code",
   "execution_count": 70,
   "metadata": {},
   "outputs": [
    {
     "data": {
      "image/png": "[encoded data removed]",
      "text/plain": [
       "<Figure size 576x360 with 1 Axes>"
      ]
     },
     "metadata": {},
     "output_type": "display_data"
    }
   ],
   "source": [
    "plt.figure(figsize=(8, 5))\n",
    "sns.set_style(\"darkgrid\")\n",
    "fig = sns.distplot(churn['estimated_salary'], kde = False, bins = np.linspace(start = 0, stop = 200000, num = 50))\n",
    "fig.set_title(\"Распределение заработной платы\", fontsize = 15)\n",
    "fig.set_xlabel(\"Зарплата\", fontsize = 12)\n",
    "fig.set_ylabel(\"Количество клиентов\", fontsize = 12)\n",
    "\n",
    "plt.show()"
   ]
  },
  {
   "cell_type": "markdown",
   "metadata": {},
   "source": [
    "Распределение зарплаты не похоже на нормальное. В рассматриваемой выборке количество клиентов, получающих зарплату в том или ином сегменте, примерно одинаковое для каждого такого сегмента."
   ]
  },
  {
   "cell_type": "markdown",
   "metadata": {},
   "source": [
    "Среднее значение признака **estimated_salary** незначительно выше в группе с оттоком:"
   ]
  },
  {
   "cell_type": "code",
   "execution_count": 71,
   "metadata": {
    "scrolled": true
   },
   "outputs": [
    {
     "data": {
      "text/plain": [
       "101465.678"
      ]
     },
     "execution_count": 71,
     "metadata": {},
     "output_type": "execute_result"
    }
   ],
   "source": [
    "churn_clients['estimated_salary'].mean().round(3)"
   ]
  },
  {
   "cell_type": "code",
   "execution_count": 72,
   "metadata": {},
   "outputs": [
    {
     "data": {
      "text/plain": [
       "99738.392"
      ]
     },
     "execution_count": 72,
     "metadata": {},
     "output_type": "execute_result"
    }
   ],
   "source": [
    "nonchurn_clients['estimated_salary'].mean().round(3)"
   ]
  },
  {
   "cell_type": "code",
   "execution_count": 73,
   "metadata": {},
   "outputs": [
    {
     "data": {
      "image/png": "[encoded data removed]",
      "text/plain": [
       "<Figure size 576x360 with 1 Axes>"
      ]
     },
     "metadata": {},
     "output_type": "display_data"
    }
   ],
   "source": [
    "plt.figure(figsize=(8, 5))\n",
    "fig1 = sns.distplot(churn_clients['estimated_salary'], kde = True, \\\n",
    "                    bins = np.linspace(start = 0, stop = 200000, num = 20), label = 'группа с оттоком') \n",
    "fig2 = sns.distplot(nonchurn_clients['estimated_salary'], kde = True, \\\n",
    "                    bins = np.linspace(start = 0, stop = 200000, num = 20), label = 'группа без оттока')  \n",
    "fig2.set_title(\"Распределение заработной платы\", fontsize = 14)\n",
    "fig2.set_ylabel(\"Доля\", fontsize = 10)\n",
    "fig2.set_xlabel(\"Зарплата\")\n",
    "plt.legend()\n",
    "plt.show()"
   ]
  },
  {
   "cell_type": "markdown",
   "metadata": {},
   "source": [
    "Распределения выглядят практически идентично, существенной разницы между группами нет.\n",
    "\n",
    "---"
   ]
  },
  {
   "cell_type": "markdown",
   "metadata": {},
   "source": [
    "После проведения анализа признаков удалим не требующийся далее для прогнозирования столбец **customer_id**:"
   ]
  },
  {
   "cell_type": "code",
   "execution_count": 74,
   "metadata": {},
   "outputs": [],
   "source": [
    "churn_mod = churn.drop(['customer_id'] , axis = 1)"
   ]
  },
  {
   "cell_type": "markdown",
   "metadata": {},
   "source": [
    "**Вывод**"
   ]
  },
  {
   "cell_type": "markdown",
   "metadata": {},
   "source": [
    "В ходе предварительного анализа было выявлено следующее:\n",
    "- группа клиентов в оттоке составляет 20% от всей выборки; \n",
    "- демографические признаки (пол, возраст, страна проживания) чаще оказывают влияние на отток, чем экономические. Так, группа с оттоком практически не отличается от группы без оттока по доле клиентов, имеющих кредитную карту, по распределению зарплат, кредитного рейтинга, времени обслуживания в банке;\n",
    "- из экономических параметров только два - число продуктов банка у клиента и активность - оказывают влияние на отток.\n",
    "\n",
    "Сравнивая средние значения в группах с оттоком и без, можно заметить ощутимую разницу для следующих признаков:\n",
    "\n",
    "- пол (в группе без оттока больше мужчин (57% против 44% в группе с оттоком));\n",
    "- возраст (клиенты в группе без оттока моложе (средний возраст 37,4 года против 44,8 лет));\n",
    "- активность (выше в группе без оттока (55% против 36%));\n",
    "- страна (доля жителей Франции существенно выше в группе без оттока, а жителей Германии - напротив, в группе с оттоком).\n",
    "\n",
    "О степени влияния рассмотренных показателей речь пойдет ниже."
   ]
  },
  {
   "cell_type": "markdown",
   "metadata": {},
   "source": [
    "### Прямое кодирование"
   ]
  },
  {
   "cell_type": "markdown",
   "metadata": {},
   "source": [
    "Посмотрим еще раз на датафрейм:"
   ]
  },
  {
   "cell_type": "code",
   "execution_count": 75,
   "metadata": {},
   "outputs": [
    {
     "data": {
      "text/html": [
       "<div>\n",
       "<style scoped>\n",
       "    .dataframe tbody tr th:only-of-type {\n",
       "        vertical-align: middle;\n",
       "    }\n",
       "\n",
       "    .dataframe tbody tr th {\n",
       "        vertical-align: top;\n",
       "    }\n",
       "\n",
       "    .dataframe thead th {\n",
       "        text-align: right;\n",
       "    }\n",
       "</style>\n",
       "<table border=\"1\" class=\"dataframe\">\n",
       "  <thead>\n",
       "    <tr style=\"text-align: right;\">\n",
       "      <th></th>\n",
       "      <th>credit_score</th>\n",
       "      <th>geography</th>\n",
       "      <th>gender</th>\n",
       "      <th>age</th>\n",
       "      <th>tenure</th>\n",
       "      <th>balance</th>\n",
       "      <th>num_of_products</th>\n",
       "      <th>has_cr_card</th>\n",
       "      <th>is_active_member</th>\n",
       "      <th>estimated_salary</th>\n",
       "      <th>exited</th>\n",
       "    </tr>\n",
       "  </thead>\n",
       "  <tbody>\n",
       "    <tr>\n",
       "      <td>0</td>\n",
       "      <td>619</td>\n",
       "      <td>France</td>\n",
       "      <td>Female</td>\n",
       "      <td>42</td>\n",
       "      <td>2.0</td>\n",
       "      <td>0.00</td>\n",
       "      <td>1</td>\n",
       "      <td>1</td>\n",
       "      <td>1</td>\n",
       "      <td>101348.88</td>\n",
       "      <td>1</td>\n",
       "    </tr>\n",
       "    <tr>\n",
       "      <td>1</td>\n",
       "      <td>608</td>\n",
       "      <td>Spain</td>\n",
       "      <td>Female</td>\n",
       "      <td>41</td>\n",
       "      <td>1.0</td>\n",
       "      <td>83807.86</td>\n",
       "      <td>1</td>\n",
       "      <td>0</td>\n",
       "      <td>1</td>\n",
       "      <td>112542.58</td>\n",
       "      <td>0</td>\n",
       "    </tr>\n",
       "    <tr>\n",
       "      <td>2</td>\n",
       "      <td>502</td>\n",
       "      <td>France</td>\n",
       "      <td>Female</td>\n",
       "      <td>42</td>\n",
       "      <td>8.0</td>\n",
       "      <td>159660.80</td>\n",
       "      <td>3</td>\n",
       "      <td>1</td>\n",
       "      <td>0</td>\n",
       "      <td>113931.57</td>\n",
       "      <td>1</td>\n",
       "    </tr>\n",
       "    <tr>\n",
       "      <td>3</td>\n",
       "      <td>699</td>\n",
       "      <td>France</td>\n",
       "      <td>Female</td>\n",
       "      <td>39</td>\n",
       "      <td>1.0</td>\n",
       "      <td>0.00</td>\n",
       "      <td>2</td>\n",
       "      <td>0</td>\n",
       "      <td>0</td>\n",
       "      <td>93826.63</td>\n",
       "      <td>0</td>\n",
       "    </tr>\n",
       "    <tr>\n",
       "      <td>4</td>\n",
       "      <td>850</td>\n",
       "      <td>Spain</td>\n",
       "      <td>Female</td>\n",
       "      <td>43</td>\n",
       "      <td>2.0</td>\n",
       "      <td>125510.82</td>\n",
       "      <td>1</td>\n",
       "      <td>1</td>\n",
       "      <td>1</td>\n",
       "      <td>79084.10</td>\n",
       "      <td>0</td>\n",
       "    </tr>\n",
       "  </tbody>\n",
       "</table>\n",
       "</div>"
      ],
      "text/plain": [
       "   credit_score geography  gender  age  tenure    balance  num_of_products  \\\n",
       "0           619    France  Female   42     2.0       0.00                1   \n",
       "1           608     Spain  Female   41     1.0   83807.86                1   \n",
       "2           502    France  Female   42     8.0  159660.80                3   \n",
       "3           699    France  Female   39     1.0       0.00                2   \n",
       "4           850     Spain  Female   43     2.0  125510.82                1   \n",
       "\n",
       "   has_cr_card  is_active_member  estimated_salary  exited  \n",
       "0            1                 1         101348.88       1  \n",
       "1            0                 1         112542.58       0  \n",
       "2            1                 0         113931.57       1  \n",
       "3            0                 0          93826.63       0  \n",
       "4            1                 1          79084.10       0  "
      ]
     },
     "execution_count": 75,
     "metadata": {},
     "output_type": "execute_result"
    }
   ],
   "source": [
    "churn_mod.head()"
   ]
  },
  {
   "cell_type": "markdown",
   "metadata": {},
   "source": [
    "Два из рассматриваемых признаков - **geography** и **gender** -  являются категориальными и представлены в текстовом виде. Для обучения модели и решения задачи прогнозирования требуется перевести их в числовую форму. Будем использовать для этого прямое кодирование. Чтобы избавиться от линейной зависимости получившихся столбцов, удалим по одной колонке с помощью параметра *drop_first*:"
   ]
  },
  {
   "cell_type": "code",
   "execution_count": 76,
   "metadata": {},
   "outputs": [],
   "source": [
    "churn_mod = pd.get_dummies(churn_mod, columns = ['geography', 'gender'], drop_first = True)"
   ]
  },
  {
   "cell_type": "code",
   "execution_count": 77,
   "metadata": {},
   "outputs": [
    {
     "data": {
      "text/html": [
       "<div>\n",
       "<style scoped>\n",
       "    .dataframe tbody tr th:only-of-type {\n",
       "        vertical-align: middle;\n",
       "    }\n",
       "\n",
       "    .dataframe tbody tr th {\n",
       "        vertical-align: top;\n",
       "    }\n",
       "\n",
       "    .dataframe thead th {\n",
       "        text-align: right;\n",
       "    }\n",
       "</style>\n",
       "<table border=\"1\" class=\"dataframe\">\n",
       "  <thead>\n",
       "    <tr style=\"text-align: right;\">\n",
       "      <th></th>\n",
       "      <th>credit_score</th>\n",
       "      <th>age</th>\n",
       "      <th>tenure</th>\n",
       "      <th>balance</th>\n",
       "      <th>num_of_products</th>\n",
       "      <th>has_cr_card</th>\n",
       "      <th>is_active_member</th>\n",
       "      <th>estimated_salary</th>\n",
       "      <th>exited</th>\n",
       "      <th>geography_germany</th>\n",
       "      <th>geography_spain</th>\n",
       "      <th>gender_male</th>\n",
       "    </tr>\n",
       "  </thead>\n",
       "  <tbody>\n",
       "    <tr>\n",
       "      <td>0</td>\n",
       "      <td>619</td>\n",
       "      <td>42</td>\n",
       "      <td>2.0</td>\n",
       "      <td>0.00</td>\n",
       "      <td>1</td>\n",
       "      <td>1</td>\n",
       "      <td>1</td>\n",
       "      <td>101348.88</td>\n",
       "      <td>1</td>\n",
       "      <td>0</td>\n",
       "      <td>0</td>\n",
       "      <td>0</td>\n",
       "    </tr>\n",
       "    <tr>\n",
       "      <td>1</td>\n",
       "      <td>608</td>\n",
       "      <td>41</td>\n",
       "      <td>1.0</td>\n",
       "      <td>83807.86</td>\n",
       "      <td>1</td>\n",
       "      <td>0</td>\n",
       "      <td>1</td>\n",
       "      <td>112542.58</td>\n",
       "      <td>0</td>\n",
       "      <td>0</td>\n",
       "      <td>1</td>\n",
       "      <td>0</td>\n",
       "    </tr>\n",
       "    <tr>\n",
       "      <td>2</td>\n",
       "      <td>502</td>\n",
       "      <td>42</td>\n",
       "      <td>8.0</td>\n",
       "      <td>159660.80</td>\n",
       "      <td>3</td>\n",
       "      <td>1</td>\n",
       "      <td>0</td>\n",
       "      <td>113931.57</td>\n",
       "      <td>1</td>\n",
       "      <td>0</td>\n",
       "      <td>0</td>\n",
       "      <td>0</td>\n",
       "    </tr>\n",
       "    <tr>\n",
       "      <td>3</td>\n",
       "      <td>699</td>\n",
       "      <td>39</td>\n",
       "      <td>1.0</td>\n",
       "      <td>0.00</td>\n",
       "      <td>2</td>\n",
       "      <td>0</td>\n",
       "      <td>0</td>\n",
       "      <td>93826.63</td>\n",
       "      <td>0</td>\n",
       "      <td>0</td>\n",
       "      <td>0</td>\n",
       "      <td>0</td>\n",
       "    </tr>\n",
       "    <tr>\n",
       "      <td>4</td>\n",
       "      <td>850</td>\n",
       "      <td>43</td>\n",
       "      <td>2.0</td>\n",
       "      <td>125510.82</td>\n",
       "      <td>1</td>\n",
       "      <td>1</td>\n",
       "      <td>1</td>\n",
       "      <td>79084.10</td>\n",
       "      <td>0</td>\n",
       "      <td>0</td>\n",
       "      <td>1</td>\n",
       "      <td>0</td>\n",
       "    </tr>\n",
       "  </tbody>\n",
       "</table>\n",
       "</div>"
      ],
      "text/plain": [
       "   credit_score  age  tenure    balance  num_of_products  has_cr_card  \\\n",
       "0           619   42     2.0       0.00                1            1   \n",
       "1           608   41     1.0   83807.86                1            0   \n",
       "2           502   42     8.0  159660.80                3            1   \n",
       "3           699   39     1.0       0.00                2            0   \n",
       "4           850   43     2.0  125510.82                1            1   \n",
       "\n",
       "   is_active_member  estimated_salary  exited  geography_germany  \\\n",
       "0                 1         101348.88       1                  0   \n",
       "1                 1         112542.58       0                  0   \n",
       "2                 0         113931.57       1                  0   \n",
       "3                 0          93826.63       0                  0   \n",
       "4                 1          79084.10       0                  0   \n",
       "\n",
       "   geography_spain  gender_male  \n",
       "0                0            0  \n",
       "1                1            0  \n",
       "2                0            0  \n",
       "3                0            0  \n",
       "4                1            0  "
      ]
     },
     "execution_count": 77,
     "metadata": {},
     "output_type": "execute_result"
    }
   ],
   "source": [
    "churn_mod.columns = churn_mod.columns.str.lower()\n",
    "churn_mod.head()"
   ]
  },
  {
   "cell_type": "markdown",
   "metadata": {},
   "source": [
    "Теперь все признаки представлены в числовом формате."
   ]
  },
  {
   "cell_type": "markdown",
   "metadata": {},
   "source": [
    "### Корреляция признаков"
   ]
  },
  {
   "cell_type": "markdown",
   "metadata": {},
   "source": [
    "Проверим, есть ли среди признаков коллинеарные. Если таковые найдутся, примем решение об исключении их из датасета, чтобы не утяжелять модель. \n",
    "\n",
    "Так как матрица корреляции подходит для оценки только количественных переменных, возьмем соответствующую часть датафрейма:"
   ]
  },
  {
   "cell_type": "code",
   "execution_count": 78,
   "metadata": {},
   "outputs": [],
   "source": [
    "churn_mod_num = churn_mod[['credit_score', 'age', 'balance', 'estimated_salary']]\n",
    "feat_num = ['кредитный рейтинг', 'возраст', 'остаток на счете', 'зарплата']\n",
    "cmn = churn_mod_num.corr()"
   ]
  },
  {
   "cell_type": "code",
   "execution_count": 79,
   "metadata": {},
   "outputs": [
    {
     "data": {
      "image/png": "[encoded data removed]",
      "text/plain": [
       "<Figure size 432x288 with 2 Axes>"
      ]
     },
     "metadata": {},
     "output_type": "display_data"
    }
   ],
   "source": [
    "sns.set(style = 'white')\n",
    "plt.figure(figsize = (6, 4))\n",
    "plt.title('Матрица корреляции количественных признаков', fontsize = 14)\n",
    "ax = sns.heatmap(cmn, annot = True, linewidths = 1, linecolor = 'white', fmt = '.2f', xticklabels = feat_num,\\\n",
    "                 yticklabels = feat_num)\n",
    "plt.xticks(rotation = 45) \n",
    "plt.show()"
   ]
  },
  {
   "cell_type": "markdown",
   "metadata": {},
   "source": [
    "Как видно, количественные признаки не коррелируют между собой."
   ]
  },
  {
   "cell_type": "markdown",
   "metadata": {},
   "source": [
    "Для отображения взаимосвязей между категориальными признаками воспользуемся коэффициентом Крамера. Функция позаимствована с сайта [https://towardsdatascience.com/](https://towardsdatascience.com/the-search-for-categorical-correlation-a1cf7f1888c9). \n"
   ]
  },
  {
   "cell_type": "code",
   "execution_count": 82,
   "metadata": {},
   "outputs": [],
   "source": [
    "# функция вычисляет статистику Cramers V для категориальных переменных x и y на основе критерия Пирсона;\n",
    "# это аналог коэффицента корреляции\n",
    "\n",
    "def cramers(x, y):\n",
    "    confusion_matrix = pd.crosstab(x, y)\n",
    "    chi2 = st.chi2_contingency(confusion_matrix)[0]\n",
    "    n = confusion_matrix.sum().sum()\n",
    "    phi2 = chi2 / n\n",
    "    r, k = confusion_matrix.shape\n",
    "    phi2corr = max(0, phi2 - ((k - 1) * (r - 1)) / (n - 1))\n",
    "    rcorr = r - ((r - 1)**2) / (n - 1)\n",
    "    kcorr = k - ((k - 1)**2) / (n - 1)\n",
    "    return np.sqrt(phi2corr / min((kcorr - 1), (rcorr - 1)))\n"
   ]
  },
  {
   "cell_type": "markdown",
   "metadata": {},
   "source": [
    "Вычислим коэффициенты взаимосвязи для каждой пары переменных и отразим на тепловой карте:"
   ]
  },
  {
   "cell_type": "code",
   "execution_count": 83,
   "metadata": {},
   "outputs": [],
   "source": [
    "churn_mod_cat = churn_mod[['tenure', 'num_of_products', 'has_cr_card', \\\n",
    "                           'is_active_member', 'geography_germany', 'geography_spain', 'gender_male', 'exited']]\n",
    "feat_cat = ['срок жизни', 'число продуктов', 'наличие кредитной карты', 'активность', \\\n",
    "           'житель Германии', 'житель Испании', 'мужчина', 'отток']"
   ]
  },
  {
   "cell_type": "code",
   "execution_count": 84,
   "metadata": {},
   "outputs": [],
   "source": [
    "hm = [[0 for i in range(len(churn_mod_cat.columns))] for j in range(len(churn_mod_cat.columns))]\n",
    "for i in range(len(churn_mod_cat.columns)):\n",
    "    for j in range(len(churn_mod_cat.columns)):\n",
    "        hm[i][j] = cramers(churn_mod_cat[churn_mod_cat.columns[i]], churn_mod_cat[churn_mod_cat.columns[j]])"
   ]
  },
  {
   "cell_type": "code",
   "execution_count": 85,
   "metadata": {},
   "outputs": [
    {
     "data": {
      "image/png": "[encoded data removed]",
      "text/plain": [
       "<Figure size 720x432 with 2 Axes>"
      ]
     },
     "metadata": {},
     "output_type": "display_data"
    }
   ],
   "source": [
    "sns.set(style = 'white')\n",
    "plt.figure(figsize = (10, 6))\n",
    "plt.title('Матрица корреляции категориальных признаков', fontsize = 14)\n",
    "ax = sns.heatmap(hm, annot = True, linewidths = 1, linecolor = 'white', fmt = '.2f', xticklabels = feat_cat,\\\n",
    "                 yticklabels = feat_cat)\n",
    "plt.xticks(rotation = 45) \n",
    "plt.show()"
   ]
  },
  {
   "cell_type": "markdown",
   "metadata": {},
   "source": [
    "Сильных зависимостей между категориальными признаками нет. Есть умеренная взаимосвязь между целевой переменной оттока и количеством продуктов у клиента (этот результат был получен выше), а также между переменными, характеризующими страну клиента, что логично, ведь они были выделены из общего столбца в результате прямого кодирования."
   ]
  },
  {
   "cell_type": "markdown",
   "metadata": {},
   "source": [
    "**Вывод**"
   ]
  },
  {
   "cell_type": "markdown",
   "metadata": {},
   "source": [
    "Коллинеарных признаков в датасете не выявлено. В части категориальных переменных наблюдается умеренная взаимосвязь между оттоком и количеством продуктов у клиента, а также между переменными, характеризующими страну клиента, что обусловлено построением указанных переменных."
   ]
  },
  {
   "cell_type": "markdown",
   "metadata": {},
   "source": [
    "### Разбивка данных на выборки"
   ]
  },
  {
   "cell_type": "markdown",
   "metadata": {},
   "source": [
    "Целевой признак в рассматриваемой задаче - это показатель оттока:"
   ]
  },
  {
   "cell_type": "code",
   "execution_count": 86,
   "metadata": {},
   "outputs": [],
   "source": [
    "target = churn_mod['exited']\n",
    "features = churn_mod.drop('exited', axis = 1)"
   ]
  },
  {
   "cell_type": "markdown",
   "metadata": {},
   "source": [
    "Разделим данные на обучающую, валидационную и тестовую выборки в пропорции 60:20:20 соответственно:"
   ]
  },
  {
   "cell_type": "code",
   "execution_count": 87,
   "metadata": {},
   "outputs": [],
   "source": [
    "features_train, features_valid, target_train, target_valid = \\\n",
    "                                    train_test_split(features, target, test_size = 0.4, random_state = 12345)\n",
    "features_valid, features_test, target_valid, target_test = \\\n",
    "                                    train_test_split(features_valid, target_valid, test_size = 0.5, random_state = 12345)\n"
   ]
  },
  {
   "cell_type": "markdown",
   "metadata": {},
   "source": [
    "Размерность выборок удовлетворяет указанным выше пропорциям:"
   ]
  },
  {
   "cell_type": "code",
   "execution_count": 88,
   "metadata": {},
   "outputs": [
    {
     "data": {
      "text/plain": [
       "(6000, 11)"
      ]
     },
     "metadata": {},
     "output_type": "display_data"
    },
    {
     "data": {
      "text/plain": [
       "6000"
      ]
     },
     "metadata": {},
     "output_type": "display_data"
    },
    {
     "data": {
      "text/plain": [
       "(2000, 11)"
      ]
     },
     "metadata": {},
     "output_type": "display_data"
    },
    {
     "data": {
      "text/plain": [
       "2000"
      ]
     },
     "metadata": {},
     "output_type": "display_data"
    },
    {
     "data": {
      "text/plain": [
       "(2000, 11)"
      ]
     },
     "metadata": {},
     "output_type": "display_data"
    },
    {
     "data": {
      "text/plain": [
       "2000"
      ]
     },
     "metadata": {},
     "output_type": "display_data"
    }
   ],
   "source": [
    "display(features_train.shape, target_train.shape[0])\n",
    "display(features_valid.shape, target_valid.shape[0])\n",
    "display(features_test.shape, target_test.shape[0])"
   ]
  },
  {
   "cell_type": "markdown",
   "metadata": {},
   "source": [
    "### Масштабирование признаков"
   ]
  },
  {
   "cell_type": "markdown",
   "metadata": {},
   "source": [
    "Рассматриваемые переменные имеют разный масштаб. Чтобы модель корректно проводила оценку параметров, настроим стандартизацию на обучающей выборке и преобразуем все выборки:"
   ]
  },
  {
   "cell_type": "code",
   "execution_count": 89,
   "metadata": {},
   "outputs": [],
   "source": [
    "scaler = StandardScaler()\n",
    "scaler.fit(features_train) \n",
    "\n",
    "features_train_st = scaler.transform(features_train)\n",
    "features_valid_st = scaler.transform(features_valid) \n",
    "features_test_st = scaler.transform(features_test) "
   ]
  },
  {
   "cell_type": "markdown",
   "metadata": {},
   "source": [
    "### Вывод"
   ]
  },
  {
   "cell_type": "markdown",
   "metadata": {},
   "source": [
    "Данные подготовлены к анализу:\n",
    "- дубликаты отсутствуют;\n",
    "- удалены признаки **row_number**, **customer_id** и **surname**, не требующиеся для построения модели прогнозирования;\n",
    "- пропущенные значения в столбце **tenure** восстановлены;\n",
    "- проведен исследовательский анализ каждого признака в разрезе целевой переменной:\n",
    "    - группа клиентов в оттоке составляет 20% от всей выборки;\n",
    "    - сильнее всего на отток влияют демографические признаки (пол, возраст, страна проживания). Из экономических параметров оказывают влияние только два - число продуктов банка у клиента и его активность;\n",
    "    - в группе без оттока больше мужчин (57% против 44%);\n",
    "    - клиенты в группе без оттока моложе (средний возраст 37,4 года против 44,8 лет);\n",
    "    - активность выше в группе без оттока (55% против 36%);\n",
    "    - в группе без оттока существенно выше доля жителей Франции, а в группе с оттоком - Германии;\n",
    "- рассчитаны коэффициенты корреляции между переменными. Нельзя сделать вывод о наличии сильной зависимости между признаками;\n",
    "- данные разбиты на обучающую, валидационную и тестовую выборки в пропорции 60:20:20;\n",
    "- признаки масштабированы."
   ]
  },
  {
   "cell_type": "markdown",
   "metadata": {},
   "source": [
    "## Исследование задачи"
   ]
  },
  {
   "cell_type": "markdown",
   "metadata": {},
   "source": [
    "Как упоминалось выше, доля клиентов с оттоком в датасете составляет 20% от всей выборки, что говорит об имеющемся дисбалансе классов.\n",
    "\n",
    "Сначала построим модели на имеющихся выборках без учета дисбаланса классов и оценим их. Если качество окажется низким, устраним дисбаланс. Поскольку требуется спрогнозировать качественный признак - попал клиент в отток или нет, - будем использовать модели для решения задачи классификации: решающее дерево, случайный лес и логистическую регрессию."
   ]
  },
  {
   "cell_type": "markdown",
   "metadata": {},
   "source": [
    "###  Построение моделей"
   ]
  },
  {
   "cell_type": "markdown",
   "metadata": {},
   "source": [
    "**Модель логистической регрессии**"
   ]
  },
  {
   "cell_type": "markdown",
   "metadata": {},
   "source": [
    "Обучим модель на тренировочной выборке и проверим ее качество на валидационной выборке (как на полном датасете, так и с удаленным столбцом):"
   ]
  },
  {
   "cell_type": "code",
   "execution_count": 91,
   "metadata": {},
   "outputs": [],
   "source": [
    "# функция принимает на вход четыре выборки (на первых двух обучает, на последних тестирует качество), \n",
    "# а также параметр, отвечающий за взвешивание классов (0 - нет, 1 - да)\n",
    "\n",
    "# возвращает название модели, маркер взвешивания классов, f1, auc-roc, accuracy, \n",
    "# а также два пустых значения для удобного отображения итоговой таблицы\n",
    "\n",
    "def lr(f_train, t_train, f_val, t_val, cw):\n",
    "    \n",
    "    if cw == 0:\n",
    "        model_lr = LogisticRegression(random_state = 12345, solver = 'liblinear')\n",
    "    if cw == 1:  \n",
    "        model_lr = LogisticRegression(random_state = 12345, solver = 'liblinear', class_weight = 'balanced')\n",
    "    model_lr.fit(f_train, t_train)\n",
    "    predicted_valid = model_lr.predict(f_val)\n",
    "    probabilities_valid = model_lr.predict_proba(f_val)\n",
    "    probabilities_one_valid = probabilities_valid[:, 1]\n",
    "    \n",
    "    model = 'LogisticRegression'\n",
    "    f1 = f1_score(t_val, predicted_valid).round(5)\n",
    "    accuracy = accuracy_score(t_val, predicted_valid).round(5)\n",
    "    auc_roc = roc_auc_score(t_val, probabilities_one_valid).round(5)\n",
    "    depth = None\n",
    "    num_trees = None\n",
    "    \n",
    "    return model, cw, f1, accuracy, auc_roc, depth, num_trees"
   ]
  },
  {
   "cell_type": "markdown",
   "metadata": {},
   "source": [
    "Для удобства дальнейшей визуализации запишем результаты работы функции в датафрейм:"
   ]
  },
  {
   "cell_type": "code",
   "execution_count": 92,
   "metadata": {},
   "outputs": [],
   "source": [
    "answers = pd.DataFrame([], columns = ['model', 'class-weight', 'f1', 'accuracy', 'auc-roc', 'depth', 'num_trees'])"
   ]
  },
  {
   "cell_type": "code",
   "execution_count": 93,
   "metadata": {},
   "outputs": [
    {
     "data": {
      "text/html": [
       "<div>\n",
       "<style scoped>\n",
       "    .dataframe tbody tr th:only-of-type {\n",
       "        vertical-align: middle;\n",
       "    }\n",
       "\n",
       "    .dataframe tbody tr th {\n",
       "        vertical-align: top;\n",
       "    }\n",
       "\n",
       "    .dataframe thead th {\n",
       "        text-align: right;\n",
       "    }\n",
       "</style>\n",
       "<table border=\"1\" class=\"dataframe\">\n",
       "  <thead>\n",
       "    <tr style=\"text-align: right;\">\n",
       "      <th></th>\n",
       "      <th>model</th>\n",
       "      <th>class-weight</th>\n",
       "      <th>f1</th>\n",
       "      <th>accuracy</th>\n",
       "      <th>auc-roc</th>\n",
       "      <th>depth</th>\n",
       "      <th>num_trees</th>\n",
       "    </tr>\n",
       "  </thead>\n",
       "  <tbody>\n",
       "    <tr>\n",
       "      <td>0</td>\n",
       "      <td>LogisticRegression</td>\n",
       "      <td>0</td>\n",
       "      <td>0.33613</td>\n",
       "      <td>0.8025</td>\n",
       "      <td>0.75866</td>\n",
       "      <td>None</td>\n",
       "      <td>None</td>\n",
       "    </tr>\n",
       "  </tbody>\n",
       "</table>\n",
       "</div>"
      ],
      "text/plain": [
       "                model class-weight       f1  accuracy  auc-roc depth num_trees\n",
       "0  LogisticRegression            0  0.33613    0.8025  0.75866  None      None"
      ]
     },
     "execution_count": 93,
     "metadata": {},
     "output_type": "execute_result"
    }
   ],
   "source": [
    "answers.loc[0] = lr(features_train_st, target_train, features_valid_st, target_valid, 0)\n",
    "answers.head()"
   ]
  },
  {
   "cell_type": "markdown",
   "metadata": {},
   "source": [
    "**Модель решающего дерева**"
   ]
  },
  {
   "cell_type": "markdown",
   "metadata": {},
   "source": [
    "Обучим модель и проверим ее качество на тех же выборках. Гиперпараметр модели - глубину дерева - передадим функции в качестве параметра:"
   ]
  },
  {
   "cell_type": "code",
   "execution_count": 94,
   "metadata": {},
   "outputs": [],
   "source": [
    "# функция принимает на вход четыре выборки (на первых двух обучает, на последних тестирует качество), \n",
    "# а также максимальную глубину дерева и параметр, отвечающий за взвешивание классов (0 - нет, 1 - да)\n",
    "\n",
    "# возвращает название модели, маркер взвешивания классов, лучшее значение f1, auc-roc, accuracy, \n",
    "# оптимальную глубину, а также пустое значенияе для удобного отображения итоговой таблицы\n",
    "\n",
    "def dt(f_train, t_train, f_val, t_val, d, cw):\n",
    "\n",
    "    best_model = None\n",
    "    best_result = 0\n",
    "    best_depth = 0\n",
    "    for depth in range(1, d + 1):\n",
    "        if cw == 0:\n",
    "            model_dt = DecisionTreeClassifier(max_depth = depth, random_state = 12345)\n",
    "        if cw == 1: \n",
    "            model_dt = DecisionTreeClassifier(max_depth = depth, random_state = 12345, class_weight = 'balanced')\n",
    "        model_dt.fit(f_train, t_train) \n",
    "        predictions_valid = model_dt.predict(f_val)\n",
    "        probabilities_valid = model_dt.predict_proba(f_val)\n",
    "        probabilities_one_valid = probabilities_valid[:, 1]\n",
    "        result = f1_score(t_val, predictions_valid).round(5)\n",
    "\n",
    "        if result > best_result:\n",
    "            best_model = model_dt \n",
    "            best_result = result \n",
    "            best_depth = depth\n",
    "            best_pred_val = predictions_valid\n",
    "            best_prob_one_val = probabilities_one_valid\n",
    "\n",
    "    model = 'DecisionTree'\n",
    "    f1 = best_result\n",
    "    accuracy = accuracy_score(t_val, best_pred_val).round(5)\n",
    "    auc_roc = roc_auc_score(t_val, best_prob_one_val).round(5)\n",
    "    depth = best_depth\n",
    "    num_trees = None\n",
    "    \n",
    "    return model, cw, f1, accuracy, auc_roc, depth, num_trees        "
   ]
  },
  {
   "cell_type": "markdown",
   "metadata": {},
   "source": [
    "Посмотрим, на каком из значений глубины модель даст лучший результат F1-меры:"
   ]
  },
  {
   "cell_type": "code",
   "execution_count": 95,
   "metadata": {},
   "outputs": [
    {
     "data": {
      "text/html": [
       "<div>\n",
       "<style scoped>\n",
       "    .dataframe tbody tr th:only-of-type {\n",
       "        vertical-align: middle;\n",
       "    }\n",
       "\n",
       "    .dataframe tbody tr th {\n",
       "        vertical-align: top;\n",
       "    }\n",
       "\n",
       "    .dataframe thead th {\n",
       "        text-align: right;\n",
       "    }\n",
       "</style>\n",
       "<table border=\"1\" class=\"dataframe\">\n",
       "  <thead>\n",
       "    <tr style=\"text-align: right;\">\n",
       "      <th></th>\n",
       "      <th>model</th>\n",
       "      <th>class-weight</th>\n",
       "      <th>f1</th>\n",
       "      <th>accuracy</th>\n",
       "      <th>auc-roc</th>\n",
       "      <th>depth</th>\n",
       "      <th>num_trees</th>\n",
       "    </tr>\n",
       "  </thead>\n",
       "  <tbody>\n",
       "    <tr>\n",
       "      <td>0</td>\n",
       "      <td>LogisticRegression</td>\n",
       "      <td>0</td>\n",
       "      <td>0.33613</td>\n",
       "      <td>0.8025</td>\n",
       "      <td>0.75866</td>\n",
       "      <td>None</td>\n",
       "      <td>None</td>\n",
       "    </tr>\n",
       "    <tr>\n",
       "      <td>1</td>\n",
       "      <td>DecisionTree</td>\n",
       "      <td>0</td>\n",
       "      <td>0.57186</td>\n",
       "      <td>0.8585</td>\n",
       "      <td>0.81721</td>\n",
       "      <td>6</td>\n",
       "      <td>None</td>\n",
       "    </tr>\n",
       "  </tbody>\n",
       "</table>\n",
       "</div>"
      ],
      "text/plain": [
       "                model class-weight       f1  accuracy  auc-roc depth num_trees\n",
       "0  LogisticRegression            0  0.33613    0.8025  0.75866  None      None\n",
       "1        DecisionTree            0  0.57186    0.8585  0.81721     6      None"
      ]
     },
     "execution_count": 95,
     "metadata": {},
     "output_type": "execute_result"
    }
   ],
   "source": [
    "answers.loc[1] = list(dt(features_train_st, target_train, features_valid_st, target_valid, 20, 0))\n",
    "answers.head()"
   ]
  },
  {
   "cell_type": "markdown",
   "metadata": {},
   "source": [
    "**Модель случайного леса**"
   ]
  },
  {
   "cell_type": "markdown",
   "metadata": {},
   "source": [
    "Напишем аналогичную функцию, а в качестве параметра будем передавать не только глубину, но и количество деревьев."
   ]
  },
  {
   "cell_type": "code",
   "execution_count": 96,
   "metadata": {},
   "outputs": [],
   "source": [
    "# функция принимает на вход четыре выборки (на первых обучает, на последних тестирует качество), \n",
    "# а также глубину, максимальное число деревьев и параметр, отвечающий за взвешивание классов (0 - нет, 1 - да)\n",
    "\n",
    "# возвращает название модели, маркер взвешивания классов, лучшее значение f1, auc-roc, accuracy, \n",
    "# оптимальную глубину и оптимальное количество деревьев\n",
    "\n",
    "def rf(f_train, t_train, f_val, t_val, d, n_est, cw):\n",
    "\n",
    "    best_model = None\n",
    "    best_result = 0\n",
    "    best_n_est = 0\n",
    "    for est in range(1, n_est + 1):\n",
    "        for depth in range(1, d + 1):\n",
    "            if cw == 0:\n",
    "                model_rf = RandomForestClassifier(random_state = 12345, n_estimators = est, max_depth = depth)\n",
    "            if cw == 1: \n",
    "                model_rf = RandomForestClassifier(random_state = 12345, n_estimators = est, max_depth = depth,\\\n",
    "                                                  class_weight = 'balanced')\n",
    "            model_rf.fit(f_train, t_train) \n",
    "            predictions_valid = model_rf.predict(f_val)\n",
    "            probabilities_valid = model_rf.predict_proba(f_val)\n",
    "            probabilities_one_valid = probabilities_valid[:, 1]\n",
    "            result = f1_score(t_val, predictions_valid).round(5)\n",
    "        \n",
    "            if result > best_result:\n",
    "                best_model = model_rf \n",
    "                best_result = result \n",
    "                best_n_est = est\n",
    "                best_depth = depth\n",
    "                best_pred_val = predictions_valid\n",
    "                best_prob_one_val = probabilities_one_valid\n",
    "\n",
    "    model = 'RandomForest'\n",
    "    f1 = best_result\n",
    "    accuracy = accuracy_score(t_val, best_pred_val).round(5)\n",
    "    auc_roc = roc_auc_score(t_val, best_prob_one_val).round(5)\n",
    "    depth = best_depth\n",
    "    num_trees = best_n_est\n",
    "    \n",
    "    return model, cw, f1, accuracy, auc_roc, depth, num_trees               "
   ]
  },
  {
   "cell_type": "markdown",
   "metadata": {},
   "source": [
    "Определим, при каких параметрах глубины и числа деревьев достигается максимальное значение F1:"
   ]
  },
  {
   "cell_type": "code",
   "execution_count": 97,
   "metadata": {},
   "outputs": [
    {
     "data": {
      "text/html": [
       "<div>\n",
       "<style scoped>\n",
       "    .dataframe tbody tr th:only-of-type {\n",
       "        vertical-align: middle;\n",
       "    }\n",
       "\n",
       "    .dataframe tbody tr th {\n",
       "        vertical-align: top;\n",
       "    }\n",
       "\n",
       "    .dataframe thead th {\n",
       "        text-align: right;\n",
       "    }\n",
       "</style>\n",
       "<table border=\"1\" class=\"dataframe\">\n",
       "  <thead>\n",
       "    <tr style=\"text-align: right;\">\n",
       "      <th></th>\n",
       "      <th>model</th>\n",
       "      <th>class-weight</th>\n",
       "      <th>f1</th>\n",
       "      <th>accuracy</th>\n",
       "      <th>auc-roc</th>\n",
       "      <th>depth</th>\n",
       "      <th>num_trees</th>\n",
       "    </tr>\n",
       "  </thead>\n",
       "  <tbody>\n",
       "    <tr>\n",
       "      <td>0</td>\n",
       "      <td>LogisticRegression</td>\n",
       "      <td>0</td>\n",
       "      <td>0.33613</td>\n",
       "      <td>0.8025</td>\n",
       "      <td>0.75866</td>\n",
       "      <td>None</td>\n",
       "      <td>None</td>\n",
       "    </tr>\n",
       "    <tr>\n",
       "      <td>1</td>\n",
       "      <td>DecisionTree</td>\n",
       "      <td>0</td>\n",
       "      <td>0.57186</td>\n",
       "      <td>0.8585</td>\n",
       "      <td>0.81721</td>\n",
       "      <td>6</td>\n",
       "      <td>None</td>\n",
       "    </tr>\n",
       "    <tr>\n",
       "      <td>2</td>\n",
       "      <td>RandomForest</td>\n",
       "      <td>0</td>\n",
       "      <td>0.60029</td>\n",
       "      <td>0.8635</td>\n",
       "      <td>0.82688</td>\n",
       "      <td>12</td>\n",
       "      <td>9</td>\n",
       "    </tr>\n",
       "  </tbody>\n",
       "</table>\n",
       "</div>"
      ],
      "text/plain": [
       "                model class-weight       f1  accuracy  auc-roc depth num_trees\n",
       "0  LogisticRegression            0  0.33613    0.8025  0.75866  None      None\n",
       "1        DecisionTree            0  0.57186    0.8585  0.81721     6      None\n",
       "2        RandomForest            0  0.60029    0.8635  0.82688    12         9"
      ]
     },
     "execution_count": 97,
     "metadata": {},
     "output_type": "execute_result"
    }
   ],
   "source": [
    "answers.loc[2] = list(rf(features_train_st, target_train, features_valid_st, target_valid, 15, 50, 0))\n",
    "answers.head()"
   ]
  },
  {
   "cell_type": "markdown",
   "metadata": {},
   "source": [
    "### Проверка моделей на адекватность"
   ]
  },
  {
   "cell_type": "markdown",
   "metadata": {},
   "source": [
    "Будем считать, что модель адекватна, если ее прогноз лучше, чем доля правильных ответов у константной модели, рассчитанная только на основании знания пропорций в исходной выборке."
   ]
  },
  {
   "cell_type": "code",
   "execution_count": 98,
   "metadata": {},
   "outputs": [
    {
     "data": {
      "text/plain": [
       "0    0.7963\n",
       "1    0.2037\n",
       "Name: exited, dtype: float64"
      ]
     },
     "execution_count": 98,
     "metadata": {},
     "output_type": "execute_result"
    }
   ],
   "source": [
    "round(churn['exited'].value_counts(normalize=True), 5)"
   ]
  },
  {
   "cell_type": "markdown",
   "metadata": {},
   "source": [
    "Доля пользователей с оттоком в выборке составляет 0,2037. Классифицируя любого случайного клиента как неотточного, мы сделаем верное предположение в 79,6% случаев.\n",
    "\n",
    "Модель логистической регрессии дает результат, сравнимый с работой константной модели. Доля правильных ответов моделей решающего дерева и случайного леса выше на 6 и 7% соответственно. Таким образом, они проходят проверку на адекватность."
   ]
  },
  {
   "cell_type": "markdown",
   "metadata": {},
   "source": [
    "### Вывод"
   ]
  },
  {
   "cell_type": "markdown",
   "metadata": {},
   "source": [
    "Для решения задачи классификации построены три модели: логистической регрессии, решающего дерева и случайного леса. Модели обучены на стандартизированной тренировочной выборке; качество проверено на валидационной выборке.\n",
    "\n",
    "- лучшее значение F1-меры показала **модель случайного леса** с числом деревьев 9 и глубиной 12: **0,60029**.\n",
    "- промежуточный результат у **модели решающего дерева** с глубиной 6: **0,57186**.\n",
    "- ниже всего показатель у **модели логистической регрессии**: **0.33613**.\n",
    "\n",
    "Модель логистической регрессии заметно уступает остальным и по другим метрикам - accuracy и AUC-ROC. **Модель случайного леса** показала лучшие результаты на всех метриках (accuracy - 0,8635, AUC-ROC - 0,8268).\n",
    "\n",
    "Проверку на адекватность прошли модели решающего дерева и случайного леса. \n",
    "\n",
    "Требуемое по условию минимальное значение метрики F1 (0,59) достигнуто только на модели случайного леса (0,60). Проверим, улучшится ли результат после избавления от дисбаланса классов."
   ]
  },
  {
   "cell_type": "markdown",
   "metadata": {},
   "source": [
    "## Борьба с дисбалансом"
   ]
  },
  {
   "cell_type": "markdown",
   "metadata": {},
   "source": [
    "Существуют разные способы устранения дисбаланса классов. Будем использовать взвешивание классов и *upsampling*."
   ]
  },
  {
   "cell_type": "markdown",
   "metadata": {},
   "source": [
    "### Взвешивание классов"
   ]
  },
  {
   "cell_type": "markdown",
   "metadata": {},
   "source": [
    "Вызовем функции на тех же выборках, воспользовавшись параметром *class_weight = 'balanced'* для каждой модели:"
   ]
  },
  {
   "cell_type": "code",
   "execution_count": 99,
   "metadata": {},
   "outputs": [
    {
     "data": {
      "text/html": [
       "<div>\n",
       "<style scoped>\n",
       "    .dataframe tbody tr th:only-of-type {\n",
       "        vertical-align: middle;\n",
       "    }\n",
       "\n",
       "    .dataframe tbody tr th {\n",
       "        vertical-align: top;\n",
       "    }\n",
       "\n",
       "    .dataframe thead th {\n",
       "        text-align: right;\n",
       "    }\n",
       "</style>\n",
       "<table border=\"1\" class=\"dataframe\">\n",
       "  <thead>\n",
       "    <tr style=\"text-align: right;\">\n",
       "      <th></th>\n",
       "      <th>model</th>\n",
       "      <th>class-weight</th>\n",
       "      <th>f1</th>\n",
       "      <th>accuracy</th>\n",
       "      <th>auc-roc</th>\n",
       "      <th>depth</th>\n",
       "      <th>num_trees</th>\n",
       "    </tr>\n",
       "  </thead>\n",
       "  <tbody>\n",
       "    <tr>\n",
       "      <td>0</td>\n",
       "      <td>LogisticRegression</td>\n",
       "      <td>0</td>\n",
       "      <td>0.33613</td>\n",
       "      <td>0.8025</td>\n",
       "      <td>0.75866</td>\n",
       "      <td>None</td>\n",
       "      <td>None</td>\n",
       "    </tr>\n",
       "    <tr>\n",
       "      <td>1</td>\n",
       "      <td>DecisionTree</td>\n",
       "      <td>0</td>\n",
       "      <td>0.57186</td>\n",
       "      <td>0.8585</td>\n",
       "      <td>0.81721</td>\n",
       "      <td>6</td>\n",
       "      <td>None</td>\n",
       "    </tr>\n",
       "    <tr>\n",
       "      <td>2</td>\n",
       "      <td>RandomForest</td>\n",
       "      <td>0</td>\n",
       "      <td>0.60029</td>\n",
       "      <td>0.8635</td>\n",
       "      <td>0.82688</td>\n",
       "      <td>12</td>\n",
       "      <td>9</td>\n",
       "    </tr>\n",
       "    <tr>\n",
       "      <td>3</td>\n",
       "      <td>LogisticRegression</td>\n",
       "      <td>1</td>\n",
       "      <td>0.48843</td>\n",
       "      <td>0.7015</td>\n",
       "      <td>0.76360</td>\n",
       "      <td>None</td>\n",
       "      <td>None</td>\n",
       "    </tr>\n",
       "    <tr>\n",
       "      <td>4</td>\n",
       "      <td>DecisionTree</td>\n",
       "      <td>1</td>\n",
       "      <td>0.59638</td>\n",
       "      <td>0.8105</td>\n",
       "      <td>0.83102</td>\n",
       "      <td>5</td>\n",
       "      <td>None</td>\n",
       "    </tr>\n",
       "    <tr>\n",
       "      <td>5</td>\n",
       "      <td>RandomForest</td>\n",
       "      <td>1</td>\n",
       "      <td>0.63023</td>\n",
       "      <td>0.8275</td>\n",
       "      <td>0.85464</td>\n",
       "      <td>7</td>\n",
       "      <td>47</td>\n",
       "    </tr>\n",
       "  </tbody>\n",
       "</table>\n",
       "</div>"
      ],
      "text/plain": [
       "                model class-weight       f1  accuracy  auc-roc depth num_trees\n",
       "0  LogisticRegression            0  0.33613    0.8025  0.75866  None      None\n",
       "1        DecisionTree            0  0.57186    0.8585  0.81721     6      None\n",
       "2        RandomForest            0  0.60029    0.8635  0.82688    12         9\n",
       "3  LogisticRegression            1  0.48843    0.7015  0.76360  None      None\n",
       "4        DecisionTree            1  0.59638    0.8105  0.83102     5      None\n",
       "5        RandomForest            1  0.63023    0.8275  0.85464     7        47"
      ]
     },
     "execution_count": 99,
     "metadata": {},
     "output_type": "execute_result"
    }
   ],
   "source": [
    "answers.loc[3] = list(lr(features_train_st, target_train, features_valid_st, target_valid, 1))\n",
    "answers.loc[4] = list(dt(features_train_st, target_train, features_valid_st, target_valid, 20, 1))\n",
    "answers.loc[5] = list(rf(features_train_st, target_train, features_valid_st, target_valid, 15, 50, 1))\n",
    "answers.head(10)"
   ]
  },
  {
   "cell_type": "markdown",
   "metadata": {},
   "source": [
    "Для всех моделей выросло значения метрик F1, особенно сильно для логистической регрессии (с 0,336 до 0,488). Модель решающего дерева теперь тоже удовлетворяет условию задачи (F1 > 0,59). Модель случайного леса по-прежнему показывает лучшие результаты по всем метрикам.\n",
    "\n",
    "Стоит отметить, что показатель доли точных ответов accuracy для каждой из моделей заметно снизился, хотя решающее дерево и случайный лес все еще работают адекватнее, чем константная модель."
   ]
  },
  {
   "cell_type": "markdown",
   "metadata": {},
   "source": [
    "### Upsampling"
   ]
  },
  {
   "cell_type": "markdown",
   "metadata": {},
   "source": [
    "Теперь воспользуемся другим способом балансирования классов - увеличением выборки более редкого класса. Напишем функцию, которая копирует несколько раз положительные объекты, создает новую тренировочную выборку и перемешивает ее:"
   ]
  },
  {
   "cell_type": "code",
   "execution_count": 100,
   "metadata": {},
   "outputs": [],
   "source": [
    "# функция принимает на вход признаки, целевую переменную и параметр, отвечающий за количество копирований части датасета\n",
    "# на выходе получаем увеличенные выборки\n",
    "\n",
    "def upsample(features, target, repeat):\n",
    "    features_zeros = features[target == 0]\n",
    "    features_ones = features[target == 1]\n",
    "    target_zeros = target[target == 0]\n",
    "    target_ones = target[target == 1]\n",
    "\n",
    "    features_upsampled = np.concatenate([features_zeros] + [features_ones] * repeat)\n",
    "    target_upsampled = np.concatenate([target_zeros] + [target_ones] * repeat)\n",
    "    \n",
    "    features_upsampled, target_upsampled = shuffle(features_upsampled, target_upsampled, random_state = 12345)\n",
    "    \n",
    "    return features_upsampled, target_upsampled"
   ]
  },
  {
   "cell_type": "markdown",
   "metadata": {},
   "source": [
    "Воспользуемся функцией для получения новых обучающих выборок:"
   ]
  },
  {
   "cell_type": "code",
   "execution_count": 101,
   "metadata": {},
   "outputs": [],
   "source": [
    "features_upsampled, target_upsampled = upsample(features_train_st, target_train, 10)"
   ]
  },
  {
   "cell_type": "markdown",
   "metadata": {},
   "source": [
    "Размер новых выборок:"
   ]
  },
  {
   "cell_type": "code",
   "execution_count": 102,
   "metadata": {},
   "outputs": [
    {
     "name": "stdout",
     "output_type": "stream",
     "text": [
      "(16764, 11)\n",
      "(16764,)\n"
     ]
    }
   ],
   "source": [
    "print(features_upsampled.shape)\n",
    "print(target_upsampled.shape)"
   ]
  },
  {
   "cell_type": "markdown",
   "metadata": {},
   "source": [
    "Обучим модели на полученных выборках:"
   ]
  },
  {
   "cell_type": "code",
   "execution_count": 103,
   "metadata": {},
   "outputs": [
    {
     "data": {
      "text/html": [
       "<div>\n",
       "<style scoped>\n",
       "    .dataframe tbody tr th:only-of-type {\n",
       "        vertical-align: middle;\n",
       "    }\n",
       "\n",
       "    .dataframe tbody tr th {\n",
       "        vertical-align: top;\n",
       "    }\n",
       "\n",
       "    .dataframe thead th {\n",
       "        text-align: right;\n",
       "    }\n",
       "</style>\n",
       "<table border=\"1\" class=\"dataframe\">\n",
       "  <thead>\n",
       "    <tr style=\"text-align: right;\">\n",
       "      <th></th>\n",
       "      <th>model</th>\n",
       "      <th>class-weight</th>\n",
       "      <th>f1</th>\n",
       "      <th>accuracy</th>\n",
       "      <th>auc-roc</th>\n",
       "      <th>depth</th>\n",
       "      <th>num_trees</th>\n",
       "    </tr>\n",
       "  </thead>\n",
       "  <tbody>\n",
       "    <tr>\n",
       "      <td>0</td>\n",
       "      <td>LogisticRegression</td>\n",
       "      <td>0</td>\n",
       "      <td>0.33613</td>\n",
       "      <td>0.8025</td>\n",
       "      <td>0.75866</td>\n",
       "      <td>None</td>\n",
       "      <td>None</td>\n",
       "    </tr>\n",
       "    <tr>\n",
       "      <td>1</td>\n",
       "      <td>DecisionTree</td>\n",
       "      <td>0</td>\n",
       "      <td>0.57186</td>\n",
       "      <td>0.8585</td>\n",
       "      <td>0.81721</td>\n",
       "      <td>6</td>\n",
       "      <td>None</td>\n",
       "    </tr>\n",
       "    <tr>\n",
       "      <td>2</td>\n",
       "      <td>RandomForest</td>\n",
       "      <td>0</td>\n",
       "      <td>0.60029</td>\n",
       "      <td>0.8635</td>\n",
       "      <td>0.82688</td>\n",
       "      <td>12</td>\n",
       "      <td>9</td>\n",
       "    </tr>\n",
       "    <tr>\n",
       "      <td>3</td>\n",
       "      <td>LogisticRegression</td>\n",
       "      <td>1</td>\n",
       "      <td>0.48843</td>\n",
       "      <td>0.7015</td>\n",
       "      <td>0.76360</td>\n",
       "      <td>None</td>\n",
       "      <td>None</td>\n",
       "    </tr>\n",
       "    <tr>\n",
       "      <td>4</td>\n",
       "      <td>DecisionTree</td>\n",
       "      <td>1</td>\n",
       "      <td>0.59638</td>\n",
       "      <td>0.8105</td>\n",
       "      <td>0.83102</td>\n",
       "      <td>5</td>\n",
       "      <td>None</td>\n",
       "    </tr>\n",
       "    <tr>\n",
       "      <td>5</td>\n",
       "      <td>RandomForest</td>\n",
       "      <td>1</td>\n",
       "      <td>0.63023</td>\n",
       "      <td>0.8275</td>\n",
       "      <td>0.85464</td>\n",
       "      <td>7</td>\n",
       "      <td>47</td>\n",
       "    </tr>\n",
       "    <tr>\n",
       "      <td>6</td>\n",
       "      <td>LogisticRegression</td>\n",
       "      <td>0</td>\n",
       "      <td>0.41983</td>\n",
       "      <td>0.4735</td>\n",
       "      <td>0.76509</td>\n",
       "      <td>None</td>\n",
       "      <td>None</td>\n",
       "    </tr>\n",
       "    <tr>\n",
       "      <td>7</td>\n",
       "      <td>DecisionTree</td>\n",
       "      <td>0</td>\n",
       "      <td>0.52407</td>\n",
       "      <td>0.6985</td>\n",
       "      <td>0.80803</td>\n",
       "      <td>7</td>\n",
       "      <td>None</td>\n",
       "    </tr>\n",
       "    <tr>\n",
       "      <td>8</td>\n",
       "      <td>RandomForest</td>\n",
       "      <td>0</td>\n",
       "      <td>0.60735</td>\n",
       "      <td>0.8345</td>\n",
       "      <td>0.83680</td>\n",
       "      <td>15</td>\n",
       "      <td>50</td>\n",
       "    </tr>\n",
       "  </tbody>\n",
       "</table>\n",
       "</div>"
      ],
      "text/plain": [
       "                model class-weight       f1  accuracy  auc-roc depth num_trees\n",
       "0  LogisticRegression            0  0.33613    0.8025  0.75866  None      None\n",
       "1        DecisionTree            0  0.57186    0.8585  0.81721     6      None\n",
       "2        RandomForest            0  0.60029    0.8635  0.82688    12         9\n",
       "3  LogisticRegression            1  0.48843    0.7015  0.76360  None      None\n",
       "4        DecisionTree            1  0.59638    0.8105  0.83102     5      None\n",
       "5        RandomForest            1  0.63023    0.8275  0.85464     7        47\n",
       "6  LogisticRegression            0  0.41983    0.4735  0.76509  None      None\n",
       "7        DecisionTree            0  0.52407    0.6985  0.80803     7      None\n",
       "8        RandomForest            0  0.60735    0.8345  0.83680    15        50"
      ]
     },
     "execution_count": 103,
     "metadata": {},
     "output_type": "execute_result"
    }
   ],
   "source": [
    "answers.loc[6] = lr(features_upsampled, target_upsampled, features_valid_st, target_valid, 0)\n",
    "answers.loc[7] = dt(features_upsampled, target_upsampled, features_valid_st, target_valid, 20, 0)\n",
    "answers.loc[8] = rf(features_upsampled, target_upsampled, features_valid_st, target_valid, 15, 50, 0)\n",
    "answers.head(10)"
   ]
  },
  {
   "cell_type": "markdown",
   "metadata": {},
   "source": [
    "Как видно, при увеличении выборки результат получился значительно хуже, чем при взвешивании классов. Значение F1 для решающего дерева стало даже меньше, чем при несбалансированной выборке. Для случайного леса оно осталось таким же, как и на несбалансированной выборке."
   ]
  },
  {
   "cell_type": "markdown",
   "metadata": {},
   "source": [
    "Наконец, посторим модели, используя одновременно и взвешивание классов, и увеличение выборки:"
   ]
  },
  {
   "cell_type": "code",
   "execution_count": 104,
   "metadata": {},
   "outputs": [],
   "source": [
    "answers.loc[9] = lr(features_upsampled, target_upsampled, features_valid_st, target_valid, 1)\n",
    "answers.loc[10] = dt(features_upsampled, target_upsampled, features_valid_st, target_valid, 20, 1)\n",
    "answers.loc[11] = rf(features_upsampled, target_upsampled, features_valid_st, target_valid, 15, 50, 1)"
   ]
  },
  {
   "cell_type": "code",
   "execution_count": 105,
   "metadata": {},
   "outputs": [
    {
     "data": {
      "text/html": [
       "<div>\n",
       "<style scoped>\n",
       "    .dataframe tbody tr th:only-of-type {\n",
       "        vertical-align: middle;\n",
       "    }\n",
       "\n",
       "    .dataframe tbody tr th {\n",
       "        vertical-align: top;\n",
       "    }\n",
       "\n",
       "    .dataframe thead th {\n",
       "        text-align: right;\n",
       "    }\n",
       "</style>\n",
       "<table border=\"1\" class=\"dataframe\">\n",
       "  <thead>\n",
       "    <tr style=\"text-align: right;\">\n",
       "      <th></th>\n",
       "      <th>model</th>\n",
       "      <th>class-weight</th>\n",
       "      <th>f1</th>\n",
       "      <th>accuracy</th>\n",
       "      <th>auc-roc</th>\n",
       "      <th>depth</th>\n",
       "      <th>num_trees</th>\n",
       "      <th>upsample</th>\n",
       "    </tr>\n",
       "  </thead>\n",
       "  <tbody>\n",
       "    <tr>\n",
       "      <td>11</td>\n",
       "      <td>RandomForest</td>\n",
       "      <td>1</td>\n",
       "      <td>0.63853</td>\n",
       "      <td>0.8330</td>\n",
       "      <td>0.85100</td>\n",
       "      <td>10</td>\n",
       "      <td>46</td>\n",
       "      <td>1</td>\n",
       "    </tr>\n",
       "    <tr>\n",
       "      <td>5</td>\n",
       "      <td>RandomForest</td>\n",
       "      <td>1</td>\n",
       "      <td>0.63023</td>\n",
       "      <td>0.8275</td>\n",
       "      <td>0.85464</td>\n",
       "      <td>7</td>\n",
       "      <td>47</td>\n",
       "      <td>0</td>\n",
       "    </tr>\n",
       "    <tr>\n",
       "      <td>8</td>\n",
       "      <td>RandomForest</td>\n",
       "      <td>0</td>\n",
       "      <td>0.60735</td>\n",
       "      <td>0.8345</td>\n",
       "      <td>0.83680</td>\n",
       "      <td>15</td>\n",
       "      <td>50</td>\n",
       "      <td>1</td>\n",
       "    </tr>\n",
       "    <tr>\n",
       "      <td>2</td>\n",
       "      <td>RandomForest</td>\n",
       "      <td>0</td>\n",
       "      <td>0.60029</td>\n",
       "      <td>0.8635</td>\n",
       "      <td>0.82688</td>\n",
       "      <td>12</td>\n",
       "      <td>9</td>\n",
       "      <td>0</td>\n",
       "    </tr>\n",
       "    <tr>\n",
       "      <td>4</td>\n",
       "      <td>DecisionTree</td>\n",
       "      <td>1</td>\n",
       "      <td>0.59638</td>\n",
       "      <td>0.8105</td>\n",
       "      <td>0.83102</td>\n",
       "      <td>5</td>\n",
       "      <td>None</td>\n",
       "      <td>0</td>\n",
       "    </tr>\n",
       "    <tr>\n",
       "      <td>10</td>\n",
       "      <td>DecisionTree</td>\n",
       "      <td>1</td>\n",
       "      <td>0.59638</td>\n",
       "      <td>0.8105</td>\n",
       "      <td>0.83102</td>\n",
       "      <td>5</td>\n",
       "      <td>None</td>\n",
       "      <td>1</td>\n",
       "    </tr>\n",
       "    <tr>\n",
       "      <td>1</td>\n",
       "      <td>DecisionTree</td>\n",
       "      <td>0</td>\n",
       "      <td>0.57186</td>\n",
       "      <td>0.8585</td>\n",
       "      <td>0.81721</td>\n",
       "      <td>6</td>\n",
       "      <td>None</td>\n",
       "      <td>0</td>\n",
       "    </tr>\n",
       "    <tr>\n",
       "      <td>7</td>\n",
       "      <td>DecisionTree</td>\n",
       "      <td>0</td>\n",
       "      <td>0.52407</td>\n",
       "      <td>0.6985</td>\n",
       "      <td>0.80803</td>\n",
       "      <td>7</td>\n",
       "      <td>None</td>\n",
       "      <td>1</td>\n",
       "    </tr>\n",
       "    <tr>\n",
       "      <td>3</td>\n",
       "      <td>LogisticRegression</td>\n",
       "      <td>1</td>\n",
       "      <td>0.48843</td>\n",
       "      <td>0.7015</td>\n",
       "      <td>0.76360</td>\n",
       "      <td>None</td>\n",
       "      <td>None</td>\n",
       "      <td>0</td>\n",
       "    </tr>\n",
       "    <tr>\n",
       "      <td>9</td>\n",
       "      <td>LogisticRegression</td>\n",
       "      <td>1</td>\n",
       "      <td>0.48843</td>\n",
       "      <td>0.7015</td>\n",
       "      <td>0.76359</td>\n",
       "      <td>None</td>\n",
       "      <td>None</td>\n",
       "      <td>1</td>\n",
       "    </tr>\n",
       "    <tr>\n",
       "      <td>6</td>\n",
       "      <td>LogisticRegression</td>\n",
       "      <td>0</td>\n",
       "      <td>0.41983</td>\n",
       "      <td>0.4735</td>\n",
       "      <td>0.76509</td>\n",
       "      <td>None</td>\n",
       "      <td>None</td>\n",
       "      <td>1</td>\n",
       "    </tr>\n",
       "    <tr>\n",
       "      <td>0</td>\n",
       "      <td>LogisticRegression</td>\n",
       "      <td>0</td>\n",
       "      <td>0.33613</td>\n",
       "      <td>0.8025</td>\n",
       "      <td>0.75866</td>\n",
       "      <td>None</td>\n",
       "      <td>None</td>\n",
       "      <td>0</td>\n",
       "    </tr>\n",
       "  </tbody>\n",
       "</table>\n",
       "</div>"
      ],
      "text/plain": [
       "                 model class-weight       f1  accuracy  auc-roc depth  \\\n",
       "11        RandomForest            1  0.63853    0.8330  0.85100    10   \n",
       "5         RandomForest            1  0.63023    0.8275  0.85464     7   \n",
       "8         RandomForest            0  0.60735    0.8345  0.83680    15   \n",
       "2         RandomForest            0  0.60029    0.8635  0.82688    12   \n",
       "4         DecisionTree            1  0.59638    0.8105  0.83102     5   \n",
       "10        DecisionTree            1  0.59638    0.8105  0.83102     5   \n",
       "1         DecisionTree            0  0.57186    0.8585  0.81721     6   \n",
       "7         DecisionTree            0  0.52407    0.6985  0.80803     7   \n",
       "3   LogisticRegression            1  0.48843    0.7015  0.76360  None   \n",
       "9   LogisticRegression            1  0.48843    0.7015  0.76359  None   \n",
       "6   LogisticRegression            0  0.41983    0.4735  0.76509  None   \n",
       "0   LogisticRegression            0  0.33613    0.8025  0.75866  None   \n",
       "\n",
       "   num_trees  upsample  \n",
       "11        46         1  \n",
       "5         47         0  \n",
       "8         50         1  \n",
       "2          9         0  \n",
       "4       None         0  \n",
       "10      None         1  \n",
       "1       None         0  \n",
       "7       None         1  \n",
       "3       None         0  \n",
       "9       None         1  \n",
       "6       None         1  \n",
       "0       None         0  "
      ]
     },
     "execution_count": 105,
     "metadata": {},
     "output_type": "execute_result"
    }
   ],
   "source": [
    "answers['upsample'] = [0, 0, 0, 0, 0, 0, 1, 1, 1, 1, 1, 1]\n",
    "answers.sort_values('f1', ascending = False)"
   ]
  },
  {
   "cell_type": "markdown",
   "metadata": {},
   "source": [
    "### Вывод"
   ]
  },
  {
   "cell_type": "markdown",
   "metadata": {},
   "source": [
    "Для улучшения результатов прогнозирования использованы два метода балансировки классов: взвешивание и увеличение выборки.\n",
    "\n",
    "Лучшее значение метрики F1 - **0,639** - получено с помощью модели случайного леса с глубиной 10 и числом деревьев 46 при одновременном взвешивании классов и увеличении выборки. В целом, как видно из итоговой таблицы, значение F1 для любой из представленных моделей случайного леса выше по сравнению с другими моделями. Самые низкие результаты показывает логистическая регрессия. Значения AUC-ROC для каждой построенной модели выше, чем F1. У выбранной модели AUC-ROC второй по величине результат - **0,851** (больше только у случайного леса при взвешивании классов, но без увеличения выборки). \n",
    "\n",
    "В заключительном разделе проверим модель с указанными параметрами на тестовых данных."
   ]
  },
  {
   "cell_type": "markdown",
   "metadata": {},
   "source": [
    "## Тестирование модели"
   ]
  },
  {
   "cell_type": "markdown",
   "metadata": {},
   "source": [
    "Проверим работу выбранной модели на тестовой выборке. Для обучения используем объединение тренировочной и валидационной выборок. В качестве гиперпараметров передадим те, что давали лучший результат на предыдущем шаге."
   ]
  },
  {
   "cell_type": "code",
   "execution_count": 106,
   "metadata": {},
   "outputs": [],
   "source": [
    "feat_tr = pd.concat([features_train, features_valid])\n",
    "targ_tr = pd.concat([target_train, target_valid])  "
   ]
  },
  {
   "cell_type": "markdown",
   "metadata": {},
   "source": [
    "Поскольку выборки объединены, данные нужно снова стандартизировать:"
   ]
  },
  {
   "cell_type": "code",
   "execution_count": 107,
   "metadata": {},
   "outputs": [],
   "source": [
    "scaler.fit(feat_tr) \n",
    "\n",
    "features_train_st = scaler.transform(feat_tr)\n",
    "features_test_st = scaler.transform(features_test) "
   ]
  },
  {
   "cell_type": "markdown",
   "metadata": {},
   "source": [
    "Теперь проведем процедуру увеличения выборок:"
   ]
  },
  {
   "cell_type": "code",
   "execution_count": 108,
   "metadata": {},
   "outputs": [],
   "source": [
    "features_upsampled, target_upsampled = upsample(features_train_st, targ_tr, 10)"
   ]
  },
  {
   "cell_type": "code",
   "execution_count": 109,
   "metadata": {},
   "outputs": [
    {
     "name": "stdout",
     "output_type": "stream",
     "text": [
      "(22526, 11)\n",
      "(22526,)\n"
     ]
    }
   ],
   "source": [
    "print(features_upsampled.shape)\n",
    "print(target_upsampled.shape)"
   ]
  },
  {
   "cell_type": "markdown",
   "metadata": {},
   "source": [
    "Обучим модель с заданными параметрами и рассчитаем метрики:"
   ]
  },
  {
   "cell_type": "code",
   "execution_count": 110,
   "metadata": {},
   "outputs": [
    {
     "name": "stdout",
     "output_type": "stream",
     "text": [
      "F1: 0.6107\n",
      "accuracy: 0.8145\n",
      "AUC-ROC: 0.85937\n"
     ]
    }
   ],
   "source": [
    "model = RandomForestClassifier(random_state = 12345, n_estimators = 46, max_depth = 10, class_weight = 'balanced')\n",
    "model.fit(features_upsampled, target_upsampled)\n",
    "predictions_valid = model.predict(features_test_st)\n",
    "probabilities_valid = model.predict_proba(features_test_st)\n",
    "probabilities_one_valid = probabilities_valid[:, 1]\n",
    "f1 = f1_score(target_test, predictions_valid).round(5)\n",
    "accuracy = accuracy_score(target_test, predictions_valid).round(5)\n",
    "auc_roc = roc_auc_score(target_test, probabilities_one_valid).round(5)\n",
    "print('F1:', f1)\n",
    "print('accuracy:', accuracy)\n",
    "print('AUC-ROC:', auc_roc)"
   ]
  },
  {
   "cell_type": "markdown",
   "metadata": {},
   "source": [
    "На тестовых данных модель показала результат чуть хуже, тем не менее требование к минимальному значению F1 выполнено. Оно составляет **0,611**. Значение AUC-ROC оказалось выше, чем на любой модели при тестировании на валидационной выборке - **0,859**."
   ]
  },
  {
   "cell_type": "markdown",
   "metadata": {},
   "source": [
    "## Вывод"
   ]
  },
  {
   "cell_type": "markdown",
   "metadata": {},
   "source": [
    "В работе решалась задача классификации клиентов банка на выборке из 10 000 человек.\n",
    "\n",
    "В ходе предварительного анализа данных были получены следующие выводы:\n",
    "- группа клиентов в оттоке составляет 20% от всей выборки;\n",
    "- на отток сильнее влияют демографические признаки (пол, возраст, страна проживания). Из экономических параметров оказывают влияние только два - число продуктов банка у клиента и его активность;\n",
    "- в группе без оттока больше мужчин (57% против 44%), клиенты в ней моложе (средний возраст 37,4 года против 44,8 лет), более активны (55% против 36%) и преимущественно проживают во Франции.\n",
    "\n",
    "Из датасета были удалены признаки **row_number**, **customer_id** и **surname**, не требующиеся для построения модели прогнозирования.\n",
    "\n",
    "Целевая переменная - показатель оттока - оказалась распределена в соотношении 80:20. \n",
    "\n",
    "Для решения задачи классификации использовались три модели: логистической регрессии, решающего дерева и случайного леса. Исходные данные разбиты на обучающую, валидационную и тестовую выборки в пропорции 60:20:20 соответственно. После стандартизации модели были обучены на тренировочной и проверены на валидационной выборках. Проверка осуществлялась как до балансировки классов, так и после во всех вариациях. \n",
    "\n",
    "Для балансировки классов были применены два метода: взвешивания и увеличения выборки. В качестве основной метрики выбрана F1-мера. Также рассчитаны значения AUC-ROC и accuracy.\n",
    "\n",
    "По итогам отработки на валидационной выборке лучший результат показала модель случайного леса с глубиной 10 и числом деревьев 40. При этом классы были предварительно сбалансировны как взвешиванием, так и увеличением выборки. Итоговое значение метрики F1 составило 0,639, AUC-ROC - 0,851. Худшие результаты оказались у модели логистической регрессии.\n",
    "\n",
    "Далее модель случайного леса была обучена на объединении тренировочной и валидационной выборок. В качестве гиперпараметров выбраны такие глубина и число деревьев, на которых на предыдущем обучении получено лучшее значение F1.\n",
    "\n",
    "На тестовой выборке результат получился ниже, чем на валидационной выборке. Значение F1 составило 0,611. Значение AUC-ROC оказалось выше, чем на любой модели при тестировании на валидационной выборке - 0,859. Тем не менее требуемое по условию задачи значение метрики F1 не ниже 0,59 достигнуто."
   ]
  }
 ],
 "metadata": {
  "ExecuteTimeLog": [
   {
    "duration": 1117,
    "start_time": "2021-11-09T19:45:49.230Z"
   },
   {
    "duration": 30,
    "start_time": "2021-11-09T19:47:08.346Z"
   },
   {
    "duration": 17,
    "start_time": "2021-11-09T19:47:14.053Z"
   },
   {
    "duration": 13,
    "start_time": "2021-11-09T19:47:16.803Z"
   },
   {
    "duration": 10,
    "start_time": "2021-11-09T19:47:39.905Z"
   },
   {
    "duration": 323,
    "start_time": "2021-11-09T20:16:28.852Z"
   },
   {
    "duration": 5,
    "start_time": "2021-11-09T20:16:33.351Z"
   },
   {
    "duration": 31,
    "start_time": "2021-11-09T20:23:20.998Z"
   },
   {
    "duration": 12,
    "start_time": "2021-11-09T20:23:23.148Z"
   },
   {
    "duration": 3,
    "start_time": "2021-11-09T20:24:39.862Z"
   },
   {
    "duration": 6,
    "start_time": "2021-11-09T20:24:47.374Z"
   },
   {
    "duration": 59,
    "start_time": "2021-11-09T20:37:46.604Z"
   },
   {
    "duration": 4,
    "start_time": "2021-11-09T20:37:53.590Z"
   },
   {
    "duration": 3,
    "start_time": "2021-11-09T20:38:03.292Z"
   },
   {
    "duration": 2,
    "start_time": "2021-11-09T20:39:04.231Z"
   },
   {
    "duration": 192,
    "start_time": "2021-11-09T20:39:19.855Z"
   },
   {
    "duration": 4,
    "start_time": "2021-11-09T20:39:30.554Z"
   },
   {
    "duration": 187,
    "start_time": "2021-11-09T20:41:38.820Z"
   },
   {
    "duration": 4,
    "start_time": "2021-11-09T20:41:58.521Z"
   },
   {
    "duration": 173,
    "start_time": "2021-11-09T20:42:38.898Z"
   },
   {
    "duration": 5,
    "start_time": "2021-11-09T20:44:25.800Z"
   },
   {
    "duration": 21,
    "start_time": "2021-11-09T20:44:30.725Z"
   },
   {
    "duration": 4,
    "start_time": "2021-11-09T20:46:31.189Z"
   },
   {
    "duration": 6,
    "start_time": "2021-11-09T20:47:06.090Z"
   },
   {
    "duration": 11,
    "start_time": "2021-11-09T20:47:53.291Z"
   },
   {
    "duration": 5295,
    "start_time": "2021-11-09T20:49:13.330Z"
   },
   {
    "duration": 6,
    "start_time": "2021-11-09T20:49:35.307Z"
   },
   {
    "duration": 10,
    "start_time": "2021-11-09T20:49:49.207Z"
   },
   {
    "duration": 8,
    "start_time": "2021-11-09T20:50:06.794Z"
   },
   {
    "duration": 10,
    "start_time": "2021-11-09T20:52:14.410Z"
   },
   {
    "duration": 180,
    "start_time": "2021-11-09T20:53:27.761Z"
   },
   {
    "duration": 7,
    "start_time": "2021-11-09T20:53:32.511Z"
   },
   {
    "duration": 5,
    "start_time": "2021-11-09T20:54:41.712Z"
   },
   {
    "duration": 6,
    "start_time": "2021-11-09T20:55:35.476Z"
   },
   {
    "duration": 7,
    "start_time": "2021-11-09T20:58:15.766Z"
   },
   {
    "duration": 13,
    "start_time": "2021-11-09T20:58:26.870Z"
   },
   {
    "duration": 6,
    "start_time": "2021-11-09T21:02:04.524Z"
   },
   {
    "duration": 6,
    "start_time": "2021-11-09T21:02:08.822Z"
   },
   {
    "duration": 8,
    "start_time": "2021-11-09T21:04:24.748Z"
   },
   {
    "duration": 8,
    "start_time": "2021-11-09T21:05:37.038Z"
   },
   {
    "duration": 5,
    "start_time": "2021-11-09T21:05:52.614Z"
   },
   {
    "duration": 1563,
    "start_time": "2021-11-11T16:05:39.904Z"
   },
   {
    "duration": 35,
    "start_time": "2021-11-11T16:05:44.172Z"
   },
   {
    "duration": 24,
    "start_time": "2021-11-11T16:05:47.363Z"
   },
   {
    "duration": 12,
    "start_time": "2021-11-11T16:05:48.959Z"
   },
   {
    "duration": 4,
    "start_time": "2021-11-11T16:05:53.314Z"
   },
   {
    "duration": 9,
    "start_time": "2021-11-11T16:05:55.052Z"
   },
   {
    "duration": 17,
    "start_time": "2021-11-11T16:05:58.040Z"
   },
   {
    "duration": 19,
    "start_time": "2021-11-11T16:06:00.354Z"
   },
   {
    "duration": 12,
    "start_time": "2021-11-11T16:06:02.340Z"
   },
   {
    "duration": 7,
    "start_time": "2021-11-11T16:06:03.326Z"
   },
   {
    "duration": 7,
    "start_time": "2021-11-11T16:06:05.663Z"
   },
   {
    "duration": 10,
    "start_time": "2021-11-11T16:06:06.553Z"
   },
   {
    "duration": 7,
    "start_time": "2021-11-11T16:06:07.490Z"
   },
   {
    "duration": 11,
    "start_time": "2021-11-11T16:06:08.403Z"
   },
   {
    "duration": 7,
    "start_time": "2021-11-11T16:06:14.779Z"
   },
   {
    "duration": 9,
    "start_time": "2021-11-11T16:09:39.873Z"
   },
   {
    "duration": 12,
    "start_time": "2021-11-11T16:18:57.937Z"
   },
   {
    "duration": 506,
    "start_time": "2021-11-11T16:25:31.726Z"
   },
   {
    "duration": 7,
    "start_time": "2021-11-11T16:26:20.056Z"
   },
   {
    "duration": 6,
    "start_time": "2021-11-11T16:26:21.092Z"
   },
   {
    "duration": 757,
    "start_time": "2021-11-11T16:26:47.904Z"
   },
   {
    "duration": 7,
    "start_time": "2021-11-11T16:30:26.671Z"
   },
   {
    "duration": 6,
    "start_time": "2021-11-11T16:30:39.439Z"
   },
   {
    "duration": 6,
    "start_time": "2021-11-11T16:34:59.251Z"
   },
   {
    "duration": 6,
    "start_time": "2021-11-11T16:35:05.390Z"
   },
   {
    "duration": 5,
    "start_time": "2021-11-11T16:35:08.663Z"
   },
   {
    "duration": 8,
    "start_time": "2021-11-11T16:35:42.765Z"
   },
   {
    "duration": 8,
    "start_time": "2021-11-11T16:35:49.555Z"
   },
   {
    "duration": 434,
    "start_time": "2021-11-11T16:39:15.232Z"
   },
   {
    "duration": 9,
    "start_time": "2021-11-11T16:40:22.634Z"
   },
   {
    "duration": 90,
    "start_time": "2021-11-11T16:56:34.991Z"
   },
   {
    "duration": 2,
    "start_time": "2021-11-11T16:56:42.417Z"
   },
   {
    "duration": 2056,
    "start_time": "2021-11-11T16:56:53.454Z"
   },
   {
    "duration": 43,
    "start_time": "2021-11-11T16:56:55.514Z"
   },
   {
    "duration": 36,
    "start_time": "2021-11-11T16:56:55.561Z"
   },
   {
    "duration": 38,
    "start_time": "2021-11-11T16:56:55.601Z"
   },
   {
    "duration": 5,
    "start_time": "2021-11-11T16:56:55.642Z"
   },
   {
    "duration": 31,
    "start_time": "2021-11-11T16:56:55.651Z"
   },
   {
    "duration": 32,
    "start_time": "2021-11-11T16:56:55.686Z"
   },
   {
    "duration": 18,
    "start_time": "2021-11-11T16:56:55.732Z"
   },
   {
    "duration": 18,
    "start_time": "2021-11-11T16:56:55.754Z"
   },
   {
    "duration": 20,
    "start_time": "2021-11-11T16:56:55.776Z"
   },
   {
    "duration": 31,
    "start_time": "2021-11-11T16:56:55.799Z"
   },
   {
    "duration": 9,
    "start_time": "2021-11-11T16:56:55.833Z"
   },
   {
    "duration": 21,
    "start_time": "2021-11-11T16:56:55.845Z"
   },
   {
    "duration": 30,
    "start_time": "2021-11-11T16:56:55.868Z"
   },
   {
    "duration": 23,
    "start_time": "2021-11-11T16:56:55.900Z"
   },
   {
    "duration": 24,
    "start_time": "2021-11-11T16:56:55.926Z"
   },
   {
    "duration": 506,
    "start_time": "2021-11-11T16:56:55.952Z"
   },
   {
    "duration": 6,
    "start_time": "2021-11-11T16:56:56.461Z"
   },
   {
    "duration": 13,
    "start_time": "2021-11-11T16:56:56.469Z"
   },
   {
    "duration": 668,
    "start_time": "2021-11-11T16:56:56.485Z"
   },
   {
    "duration": 10,
    "start_time": "2021-11-11T16:56:57.155Z"
   },
   {
    "duration": 7608,
    "start_time": "2021-11-11T16:56:57.167Z"
   },
   {
    "duration": -3018,
    "start_time": "2021-11-11T16:57:07.796Z"
   },
   {
    "duration": -3034,
    "start_time": "2021-11-11T16:57:07.814Z"
   },
   {
    "duration": -3045,
    "start_time": "2021-11-11T16:57:07.826Z"
   },
   {
    "duration": -3050,
    "start_time": "2021-11-11T16:57:07.832Z"
   },
   {
    "duration": -3062,
    "start_time": "2021-11-11T16:57:07.846Z"
   },
   {
    "duration": 1494,
    "start_time": "2021-11-11T16:59:31.471Z"
   },
   {
    "duration": 34,
    "start_time": "2021-11-11T16:59:32.968Z"
   },
   {
    "duration": 26,
    "start_time": "2021-11-11T16:59:33.006Z"
   },
   {
    "duration": 14,
    "start_time": "2021-11-11T16:59:33.034Z"
   },
   {
    "duration": 4,
    "start_time": "2021-11-11T16:59:33.050Z"
   },
   {
    "duration": 13,
    "start_time": "2021-11-11T16:59:33.057Z"
   },
   {
    "duration": 23,
    "start_time": "2021-11-11T16:59:33.073Z"
   },
   {
    "duration": 16,
    "start_time": "2021-11-11T16:59:33.133Z"
   },
   {
    "duration": 11,
    "start_time": "2021-11-11T16:59:33.153Z"
   },
   {
    "duration": 6,
    "start_time": "2021-11-11T16:59:33.166Z"
   },
   {
    "duration": 15,
    "start_time": "2021-11-11T16:59:33.174Z"
   },
   {
    "duration": 10,
    "start_time": "2021-11-11T16:59:33.229Z"
   },
   {
    "duration": 12,
    "start_time": "2021-11-11T16:59:33.242Z"
   },
   {
    "duration": 10,
    "start_time": "2021-11-11T16:59:33.256Z"
   },
   {
    "duration": 9,
    "start_time": "2021-11-11T16:59:33.268Z"
   },
   {
    "duration": 15,
    "start_time": "2021-11-11T16:59:33.280Z"
   },
   {
    "duration": 516,
    "start_time": "2021-11-11T16:59:33.298Z"
   },
   {
    "duration": 14,
    "start_time": "2021-11-11T16:59:33.816Z"
   },
   {
    "duration": 7,
    "start_time": "2021-11-11T16:59:33.832Z"
   },
   {
    "duration": 758,
    "start_time": "2021-11-11T16:59:33.841Z"
   },
   {
    "duration": 9,
    "start_time": "2021-11-11T16:59:34.602Z"
   },
   {
    "duration": 7019,
    "start_time": "2021-11-11T16:59:34.629Z"
   },
   {
    "duration": -2948,
    "start_time": "2021-11-11T16:59:44.599Z"
   },
   {
    "duration": -2962,
    "start_time": "2021-11-11T16:59:44.615Z"
   },
   {
    "duration": -2970,
    "start_time": "2021-11-11T16:59:44.624Z"
   },
   {
    "duration": -2985,
    "start_time": "2021-11-11T16:59:44.641Z"
   },
   {
    "duration": -3003,
    "start_time": "2021-11-11T16:59:44.660Z"
   },
   {
    "duration": 15,
    "start_time": "2021-11-11T17:00:02.827Z"
   },
   {
    "duration": 507,
    "start_time": "2021-11-11T17:00:22.724Z"
   },
   {
    "duration": 6,
    "start_time": "2021-11-11T17:00:45.618Z"
   },
   {
    "duration": 262,
    "start_time": "2021-11-11T17:00:48.411Z"
   },
   {
    "duration": 317,
    "start_time": "2021-11-11T17:01:06.862Z"
   },
   {
    "duration": 16,
    "start_time": "2021-11-11T17:05:24.556Z"
   },
   {
    "duration": 706,
    "start_time": "2021-11-11T17:06:08.923Z"
   },
   {
    "duration": 1061,
    "start_time": "2021-11-11T17:06:54.844Z"
   },
   {
    "duration": 16,
    "start_time": "2021-11-11T17:07:49.296Z"
   },
   {
    "duration": 707,
    "start_time": "2021-11-11T17:07:50.083Z"
   },
   {
    "duration": 16,
    "start_time": "2021-11-11T17:08:23.695Z"
   },
   {
    "duration": 701,
    "start_time": "2021-11-11T17:08:24.572Z"
   },
   {
    "duration": 703,
    "start_time": "2021-11-11T17:08:44.078Z"
   },
   {
    "duration": 17,
    "start_time": "2021-11-11T17:09:05.084Z"
   },
   {
    "duration": 809,
    "start_time": "2021-11-11T17:09:09.936Z"
   },
   {
    "duration": 584,
    "start_time": "2021-11-11T17:10:07.710Z"
   },
   {
    "duration": 821,
    "start_time": "2021-11-11T17:10:23.193Z"
   },
   {
    "duration": 568,
    "start_time": "2021-11-11T17:10:30.113Z"
   },
   {
    "duration": 619,
    "start_time": "2021-11-11T17:10:39.433Z"
   },
   {
    "duration": 610,
    "start_time": "2021-11-11T17:10:46.301Z"
   },
   {
    "duration": 571,
    "start_time": "2021-11-11T17:10:54.076Z"
   },
   {
    "duration": 556,
    "start_time": "2021-11-11T17:10:58.898Z"
   },
   {
    "duration": 574,
    "start_time": "2021-11-11T17:11:05.180Z"
   },
   {
    "duration": 14,
    "start_time": "2021-11-11T17:11:31.374Z"
   },
   {
    "duration": 567,
    "start_time": "2021-11-11T17:11:32.362Z"
   },
   {
    "duration": 11,
    "start_time": "2021-11-11T17:13:35.452Z"
   },
   {
    "duration": 9,
    "start_time": "2021-11-11T17:14:36.114Z"
   },
   {
    "duration": 10,
    "start_time": "2021-11-11T17:17:25.231Z"
   },
   {
    "duration": 240,
    "start_time": "2021-11-11T17:17:37.620Z"
   },
   {
    "duration": 14,
    "start_time": "2021-11-11T17:19:24.340Z"
   },
   {
    "duration": 902,
    "start_time": "2021-11-11T17:19:38.587Z"
   },
   {
    "duration": 436,
    "start_time": "2021-11-11T17:19:48.899Z"
   },
   {
    "duration": 480,
    "start_time": "2021-11-11T17:20:00.522Z"
   },
   {
    "duration": 10,
    "start_time": "2021-11-11T17:21:15.849Z"
   },
   {
    "duration": 653,
    "start_time": "2021-11-11T17:22:04.679Z"
   },
   {
    "duration": 5,
    "start_time": "2021-11-11T17:24:17.629Z"
   },
   {
    "duration": 6,
    "start_time": "2021-11-11T17:24:19.797Z"
   },
   {
    "duration": 710,
    "start_time": "2021-11-11T17:25:20.255Z"
   },
   {
    "duration": 1155,
    "start_time": "2021-11-11T17:25:39.717Z"
   },
   {
    "duration": 6836,
    "start_time": "2021-11-11T17:28:01.674Z"
   },
   {
    "duration": 11,
    "start_time": "2021-11-11T17:28:13.321Z"
   },
   {
    "duration": 861,
    "start_time": "2021-11-11T17:36:07.133Z"
   },
   {
    "duration": 606,
    "start_time": "2021-11-11T17:36:22.095Z"
   },
   {
    "duration": 9,
    "start_time": "2021-11-11T18:07:15.547Z"
   },
   {
    "duration": 505,
    "start_time": "2021-11-11T18:08:01.596Z"
   },
   {
    "duration": 473,
    "start_time": "2021-11-11T18:08:08.020Z"
   },
   {
    "duration": 442,
    "start_time": "2021-11-11T18:08:12.514Z"
   },
   {
    "duration": 467,
    "start_time": "2021-11-11T18:08:18.183Z"
   },
   {
    "duration": 457,
    "start_time": "2021-11-11T18:08:21.533Z"
   },
   {
    "duration": 530,
    "start_time": "2021-11-11T18:08:24.705Z"
   },
   {
    "duration": 535,
    "start_time": "2021-11-11T18:08:27.834Z"
   },
   {
    "duration": 495,
    "start_time": "2021-11-11T18:08:56.377Z"
   },
   {
    "duration": 481,
    "start_time": "2021-11-11T18:09:00.347Z"
   },
   {
    "duration": 9,
    "start_time": "2021-11-11T18:13:15.552Z"
   },
   {
    "duration": 268,
    "start_time": "2021-11-11T18:22:27.401Z"
   },
   {
    "duration": 280,
    "start_time": "2021-11-11T18:22:37.713Z"
   },
   {
    "duration": 1044,
    "start_time": "2021-11-11T18:22:46.950Z"
   },
   {
    "duration": 1858,
    "start_time": "2021-11-11T18:23:18.966Z"
   },
   {
    "duration": 8,
    "start_time": "2021-11-11T18:24:11.773Z"
   },
   {
    "duration": 10,
    "start_time": "2021-11-11T18:24:23.602Z"
   },
   {
    "duration": 11,
    "start_time": "2021-11-11T18:24:37.954Z"
   },
   {
    "duration": 1505,
    "start_time": "2021-11-11T18:25:18.472Z"
   },
   {
    "duration": 37,
    "start_time": "2021-11-11T18:25:19.980Z"
   },
   {
    "duration": 28,
    "start_time": "2021-11-11T18:25:20.020Z"
   },
   {
    "duration": 17,
    "start_time": "2021-11-11T18:25:20.051Z"
   },
   {
    "duration": 5,
    "start_time": "2021-11-11T18:25:20.071Z"
   },
   {
    "duration": 15,
    "start_time": "2021-11-11T18:25:20.079Z"
   },
   {
    "duration": 48,
    "start_time": "2021-11-11T18:25:20.097Z"
   },
   {
    "duration": 14,
    "start_time": "2021-11-11T18:25:20.148Z"
   },
   {
    "duration": 11,
    "start_time": "2021-11-11T18:25:20.165Z"
   },
   {
    "duration": 10,
    "start_time": "2021-11-11T18:25:20.179Z"
   },
   {
    "duration": 44,
    "start_time": "2021-11-11T18:25:20.191Z"
   },
   {
    "duration": 26,
    "start_time": "2021-11-11T18:25:20.238Z"
   },
   {
    "duration": 16,
    "start_time": "2021-11-11T18:25:20.266Z"
   },
   {
    "duration": 12,
    "start_time": "2021-11-11T18:25:20.284Z"
   },
   {
    "duration": 14,
    "start_time": "2021-11-11T18:25:20.298Z"
   },
   {
    "duration": 22,
    "start_time": "2021-11-11T18:25:20.314Z"
   },
   {
    "duration": 526,
    "start_time": "2021-11-11T18:25:20.338Z"
   },
   {
    "duration": 6,
    "start_time": "2021-11-11T18:25:20.866Z"
   },
   {
    "duration": 21,
    "start_time": "2021-11-11T18:25:20.874Z"
   },
   {
    "duration": 688,
    "start_time": "2021-11-11T18:25:20.897Z"
   },
   {
    "duration": 10,
    "start_time": "2021-11-11T18:25:21.587Z"
   },
   {
    "duration": 32,
    "start_time": "2021-11-11T18:25:21.599Z"
   },
   {
    "duration": 6,
    "start_time": "2021-11-11T18:25:21.636Z"
   },
   {
    "duration": 288,
    "start_time": "2021-11-11T18:25:21.645Z"
   },
   {
    "duration": 15,
    "start_time": "2021-11-11T18:25:21.936Z"
   },
   {
    "duration": 605,
    "start_time": "2021-11-11T18:25:21.953Z"
   },
   {
    "duration": 9,
    "start_time": "2021-11-11T18:25:22.561Z"
   },
   {
    "duration": 14,
    "start_time": "2021-11-11T18:25:22.572Z"
   },
   {
    "duration": 592,
    "start_time": "2021-11-11T18:25:22.588Z"
   },
   {
    "duration": 11,
    "start_time": "2021-11-11T18:25:23.182Z"
   },
   {
    "duration": 772,
    "start_time": "2021-11-11T18:25:23.195Z"
   },
   {
    "duration": 6,
    "start_time": "2021-11-11T18:25:23.969Z"
   },
   {
    "duration": 13,
    "start_time": "2021-11-11T18:25:23.977Z"
   },
   {
    "duration": 1208,
    "start_time": "2021-11-11T18:25:23.993Z"
   },
   {
    "duration": 25,
    "start_time": "2021-11-11T18:25:25.204Z"
   },
   {
    "duration": 502,
    "start_time": "2021-11-11T18:25:25.231Z"
   },
   {
    "duration": 8,
    "start_time": "2021-11-11T18:25:25.735Z"
   },
   {
    "duration": 122,
    "start_time": "2021-11-11T18:25:25.746Z"
   },
   {
    "duration": -2866,
    "start_time": "2021-11-11T18:25:28.737Z"
   },
   {
    "duration": -2873,
    "start_time": "2021-11-11T18:25:28.745Z"
   },
   {
    "duration": -2882,
    "start_time": "2021-11-11T18:25:28.755Z"
   },
   {
    "duration": -2886,
    "start_time": "2021-11-11T18:25:28.760Z"
   },
   {
    "duration": -2892,
    "start_time": "2021-11-11T18:25:28.768Z"
   },
   {
    "duration": -2897,
    "start_time": "2021-11-11T18:25:28.774Z"
   },
   {
    "duration": 5,
    "start_time": "2021-11-11T18:25:55.468Z"
   },
   {
    "duration": 5,
    "start_time": "2021-11-11T18:26:09.906Z"
   },
   {
    "duration": 10,
    "start_time": "2021-11-11T18:26:45.644Z"
   },
   {
    "duration": 11,
    "start_time": "2021-11-11T18:26:58.110Z"
   },
   {
    "duration": 4,
    "start_time": "2021-11-11T18:27:10.482Z"
   },
   {
    "duration": 10,
    "start_time": "2021-11-11T18:27:13.244Z"
   },
   {
    "duration": 10,
    "start_time": "2021-11-11T18:27:21.645Z"
   },
   {
    "duration": 11,
    "start_time": "2021-11-11T18:27:22.683Z"
   },
   {
    "duration": 9,
    "start_time": "2021-11-11T18:29:35.761Z"
   },
   {
    "duration": 11,
    "start_time": "2021-11-11T18:29:36.514Z"
   },
   {
    "duration": 5,
    "start_time": "2021-11-11T18:31:02.078Z"
   },
   {
    "duration": 12,
    "start_time": "2021-11-11T18:31:02.806Z"
   },
   {
    "duration": 9,
    "start_time": "2021-11-11T18:31:04.374Z"
   },
   {
    "duration": 11,
    "start_time": "2021-11-11T18:31:05.086Z"
   },
   {
    "duration": 11,
    "start_time": "2021-11-11T18:31:20.438Z"
   },
   {
    "duration": 11,
    "start_time": "2021-11-11T18:31:21.912Z"
   },
   {
    "duration": 10,
    "start_time": "2021-11-11T18:31:29.224Z"
   },
   {
    "duration": 12,
    "start_time": "2021-11-11T18:31:29.879Z"
   },
   {
    "duration": 10,
    "start_time": "2021-11-11T18:32:05.602Z"
   },
   {
    "duration": 11,
    "start_time": "2021-11-11T18:32:52.865Z"
   },
   {
    "duration": 1208,
    "start_time": "2021-11-11T18:33:19.140Z"
   },
   {
    "duration": 4,
    "start_time": "2021-11-11T18:33:23.710Z"
   },
   {
    "duration": 11,
    "start_time": "2021-11-11T18:33:24.865Z"
   },
   {
    "duration": 1064,
    "start_time": "2021-11-11T18:33:26.341Z"
   },
   {
    "duration": 6,
    "start_time": "2021-11-11T18:34:03.555Z"
   },
   {
    "duration": 276,
    "start_time": "2021-11-11T18:35:17.881Z"
   },
   {
    "duration": 291,
    "start_time": "2021-11-11T18:35:25.791Z"
   },
   {
    "duration": 108,
    "start_time": "2021-11-11T18:35:44.630Z"
   },
   {
    "duration": 89,
    "start_time": "2021-11-11T18:35:47.704Z"
   },
   {
    "duration": 104,
    "start_time": "2021-11-11T18:35:55.155Z"
   },
   {
    "duration": 106,
    "start_time": "2021-11-11T18:36:52.082Z"
   },
   {
    "duration": 100,
    "start_time": "2021-11-11T18:37:00.907Z"
   },
   {
    "duration": 100,
    "start_time": "2021-11-11T18:38:28.197Z"
   },
   {
    "duration": 14,
    "start_time": "2021-11-11T18:39:11.937Z"
   },
   {
    "duration": 14,
    "start_time": "2021-11-11T18:39:16.722Z"
   },
   {
    "duration": 14,
    "start_time": "2021-11-11T18:39:32.649Z"
   },
   {
    "duration": 12,
    "start_time": "2021-11-11T18:39:33.998Z"
   },
   {
    "duration": 11,
    "start_time": "2021-11-11T18:39:44.285Z"
   },
   {
    "duration": 4,
    "start_time": "2021-11-11T18:41:10.813Z"
   },
   {
    "duration": 16,
    "start_time": "2021-11-11T18:41:11.850Z"
   },
   {
    "duration": 12,
    "start_time": "2021-11-11T18:41:23.126Z"
   },
   {
    "duration": 1064,
    "start_time": "2021-11-11T18:41:46.101Z"
   },
   {
    "duration": 1588,
    "start_time": "2021-11-11T18:49:08.517Z"
   },
   {
    "duration": 38,
    "start_time": "2021-11-11T18:49:10.109Z"
   },
   {
    "duration": 22,
    "start_time": "2021-11-11T18:49:10.150Z"
   },
   {
    "duration": 11,
    "start_time": "2021-11-11T18:49:10.175Z"
   },
   {
    "duration": 4,
    "start_time": "2021-11-11T18:49:10.189Z"
   },
   {
    "duration": 36,
    "start_time": "2021-11-11T18:49:10.195Z"
   },
   {
    "duration": 24,
    "start_time": "2021-11-11T18:49:10.233Z"
   },
   {
    "duration": 19,
    "start_time": "2021-11-11T18:49:10.263Z"
   },
   {
    "duration": 56,
    "start_time": "2021-11-11T18:49:10.286Z"
   },
   {
    "duration": 8,
    "start_time": "2021-11-11T18:49:10.346Z"
   },
   {
    "duration": 15,
    "start_time": "2021-11-11T18:49:10.357Z"
   },
   {
    "duration": 14,
    "start_time": "2021-11-11T18:49:10.374Z"
   },
   {
    "duration": 39,
    "start_time": "2021-11-11T18:49:10.391Z"
   },
   {
    "duration": 6,
    "start_time": "2021-11-11T18:49:10.433Z"
   },
   {
    "duration": 16,
    "start_time": "2021-11-11T18:49:10.441Z"
   },
   {
    "duration": 18,
    "start_time": "2021-11-11T18:49:10.459Z"
   },
   {
    "duration": 530,
    "start_time": "2021-11-11T18:49:10.479Z"
   },
   {
    "duration": 19,
    "start_time": "2021-11-11T18:49:11.011Z"
   },
   {
    "duration": 8,
    "start_time": "2021-11-11T18:49:11.034Z"
   },
   {
    "duration": 679,
    "start_time": "2021-11-11T18:49:11.046Z"
   },
   {
    "duration": 11,
    "start_time": "2021-11-11T18:49:11.728Z"
   },
   {
    "duration": 14,
    "start_time": "2021-11-11T18:49:11.742Z"
   },
   {
    "duration": 6,
    "start_time": "2021-11-11T18:49:11.763Z"
   },
   {
    "duration": 287,
    "start_time": "2021-11-11T18:49:11.773Z"
   },
   {
    "duration": 17,
    "start_time": "2021-11-11T18:49:12.063Z"
   },
   {
    "duration": 594,
    "start_time": "2021-11-11T18:49:12.083Z"
   },
   {
    "duration": 9,
    "start_time": "2021-11-11T18:49:12.679Z"
   },
   {
    "duration": 22,
    "start_time": "2021-11-11T18:49:12.690Z"
   },
   {
    "duration": 608,
    "start_time": "2021-11-11T18:49:12.714Z"
   },
   {
    "duration": 11,
    "start_time": "2021-11-11T18:49:13.328Z"
   },
   {
    "duration": 734,
    "start_time": "2021-11-11T18:49:13.342Z"
   },
   {
    "duration": 7,
    "start_time": "2021-11-11T18:49:14.078Z"
   },
   {
    "duration": 25,
    "start_time": "2021-11-11T18:49:14.087Z"
   },
   {
    "duration": 1171,
    "start_time": "2021-11-11T18:49:14.114Z"
   },
   {
    "duration": 11,
    "start_time": "2021-11-11T18:49:15.287Z"
   },
   {
    "duration": 516,
    "start_time": "2021-11-11T18:49:15.300Z"
   },
   {
    "duration": 16,
    "start_time": "2021-11-11T18:49:15.818Z"
   },
   {
    "duration": 8,
    "start_time": "2021-11-11T18:49:15.836Z"
   },
   {
    "duration": 12,
    "start_time": "2021-11-11T18:49:15.846Z"
   },
   {
    "duration": 3,
    "start_time": "2021-11-11T18:49:15.861Z"
   },
   {
    "duration": 8,
    "start_time": "2021-11-11T18:49:15.866Z"
   },
   {
    "duration": 57,
    "start_time": "2021-11-11T18:49:15.876Z"
   },
   {
    "duration": 15,
    "start_time": "2021-11-11T18:49:15.935Z"
   },
   {
    "duration": 9,
    "start_time": "2021-11-11T18:49:15.953Z"
   },
   {
    "duration": 9,
    "start_time": "2021-11-11T18:49:15.965Z"
   },
   {
    "duration": 4,
    "start_time": "2021-11-11T18:49:15.977Z"
   },
   {
    "duration": 56,
    "start_time": "2021-11-11T18:49:15.983Z"
   },
   {
    "duration": 10,
    "start_time": "2021-11-11T18:49:16.041Z"
   },
   {
    "duration": 6598,
    "start_time": "2021-11-11T18:49:16.053Z"
   },
   {
    "duration": -2872,
    "start_time": "2021-11-11T18:49:25.526Z"
   },
   {
    "duration": -2887,
    "start_time": "2021-11-11T18:49:25.542Z"
   },
   {
    "duration": -2903,
    "start_time": "2021-11-11T18:49:25.560Z"
   },
   {
    "duration": 1568,
    "start_time": "2021-11-11T18:52:25.696Z"
   },
   {
    "duration": 33,
    "start_time": "2021-11-11T18:52:27.267Z"
   },
   {
    "duration": 27,
    "start_time": "2021-11-11T18:52:27.303Z"
   },
   {
    "duration": 15,
    "start_time": "2021-11-11T18:52:27.333Z"
   },
   {
    "duration": 4,
    "start_time": "2021-11-11T18:52:27.351Z"
   },
   {
    "duration": 17,
    "start_time": "2021-11-11T18:52:27.357Z"
   },
   {
    "duration": 17,
    "start_time": "2021-11-11T18:52:27.378Z"
   },
   {
    "duration": 41,
    "start_time": "2021-11-11T18:52:27.397Z"
   },
   {
    "duration": 10,
    "start_time": "2021-11-11T18:52:27.441Z"
   },
   {
    "duration": 6,
    "start_time": "2021-11-11T18:52:27.454Z"
   },
   {
    "duration": 10,
    "start_time": "2021-11-11T18:52:27.462Z"
   },
   {
    "duration": 13,
    "start_time": "2021-11-11T18:52:27.475Z"
   },
   {
    "duration": 43,
    "start_time": "2021-11-11T18:52:27.490Z"
   },
   {
    "duration": 7,
    "start_time": "2021-11-11T18:52:27.535Z"
   },
   {
    "duration": 9,
    "start_time": "2021-11-11T18:52:27.544Z"
   },
   {
    "duration": 15,
    "start_time": "2021-11-11T18:52:27.555Z"
   },
   {
    "duration": 541,
    "start_time": "2021-11-11T18:52:27.572Z"
   },
   {
    "duration": 14,
    "start_time": "2021-11-11T18:52:28.116Z"
   },
   {
    "duration": 14,
    "start_time": "2021-11-11T18:52:28.132Z"
   },
   {
    "duration": 666,
    "start_time": "2021-11-11T18:52:28.149Z"
   },
   {
    "duration": 17,
    "start_time": "2021-11-11T18:52:28.818Z"
   },
   {
    "duration": 10,
    "start_time": "2021-11-11T18:52:28.841Z"
   },
   {
    "duration": 5,
    "start_time": "2021-11-11T18:52:28.854Z"
   },
   {
    "duration": 283,
    "start_time": "2021-11-11T18:52:28.862Z"
   },
   {
    "duration": 15,
    "start_time": "2021-11-11T18:52:29.148Z"
   },
   {
    "duration": 590,
    "start_time": "2021-11-11T18:52:29.165Z"
   },
   {
    "duration": 10,
    "start_time": "2021-11-11T18:52:29.757Z"
   },
   {
    "duration": 15,
    "start_time": "2021-11-11T18:52:29.769Z"
   },
   {
    "duration": 577,
    "start_time": "2021-11-11T18:52:29.786Z"
   },
   {
    "duration": 13,
    "start_time": "2021-11-11T18:52:30.367Z"
   },
   {
    "duration": 837,
    "start_time": "2021-11-11T18:52:30.383Z"
   },
   {
    "duration": 10,
    "start_time": "2021-11-11T18:52:31.223Z"
   },
   {
    "duration": 23,
    "start_time": "2021-11-11T18:52:31.235Z"
   },
   {
    "duration": 1169,
    "start_time": "2021-11-11T18:52:31.260Z"
   },
   {
    "duration": 12,
    "start_time": "2021-11-11T18:52:32.431Z"
   },
   {
    "duration": 523,
    "start_time": "2021-11-11T18:52:32.445Z"
   },
   {
    "duration": 9,
    "start_time": "2021-11-11T18:52:32.970Z"
   },
   {
    "duration": 16,
    "start_time": "2021-11-11T18:52:32.981Z"
   },
   {
    "duration": 31,
    "start_time": "2021-11-11T18:52:32.999Z"
   },
   {
    "duration": 10,
    "start_time": "2021-11-11T18:52:33.033Z"
   },
   {
    "duration": 36,
    "start_time": "2021-11-11T18:52:33.046Z"
   },
   {
    "duration": 6,
    "start_time": "2021-11-11T18:52:33.084Z"
   },
   {
    "duration": 39,
    "start_time": "2021-11-11T18:52:33.093Z"
   },
   {
    "duration": 20,
    "start_time": "2021-11-11T18:52:33.134Z"
   },
   {
    "duration": 15,
    "start_time": "2021-11-11T18:52:33.156Z"
   },
   {
    "duration": 17,
    "start_time": "2021-11-11T18:52:33.173Z"
   },
   {
    "duration": 9,
    "start_time": "2021-11-11T18:52:33.193Z"
   },
   {
    "duration": 27,
    "start_time": "2021-11-11T18:52:33.204Z"
   },
   {
    "duration": 26,
    "start_time": "2021-11-11T18:52:33.233Z"
   },
   {
    "duration": 6692,
    "start_time": "2021-11-11T18:52:33.262Z"
   },
   {
    "duration": -2963,
    "start_time": "2021-11-11T18:52:42.920Z"
   },
   {
    "duration": -2969,
    "start_time": "2021-11-11T18:52:42.927Z"
   },
   {
    "duration": -2995,
    "start_time": "2021-11-11T18:52:42.954Z"
   },
   {
    "duration": 1575,
    "start_time": "2021-11-11T18:57:28.799Z"
   },
   {
    "duration": 36,
    "start_time": "2021-11-11T18:57:30.376Z"
   },
   {
    "duration": 28,
    "start_time": "2021-11-11T18:57:30.416Z"
   },
   {
    "duration": 22,
    "start_time": "2021-11-11T18:57:30.447Z"
   },
   {
    "duration": 19,
    "start_time": "2021-11-11T18:57:30.471Z"
   },
   {
    "duration": 41,
    "start_time": "2021-11-11T18:57:30.492Z"
   },
   {
    "duration": 24,
    "start_time": "2021-11-11T18:57:30.535Z"
   },
   {
    "duration": 14,
    "start_time": "2021-11-11T18:57:30.563Z"
   },
   {
    "duration": 21,
    "start_time": "2021-11-11T18:57:30.579Z"
   },
   {
    "duration": 9,
    "start_time": "2021-11-11T18:57:30.630Z"
   },
   {
    "duration": 27,
    "start_time": "2021-11-11T18:57:30.642Z"
   },
   {
    "duration": 18,
    "start_time": "2021-11-11T18:57:30.672Z"
   },
   {
    "duration": 22,
    "start_time": "2021-11-11T18:57:30.692Z"
   },
   {
    "duration": 32,
    "start_time": "2021-11-11T18:57:30.717Z"
   },
   {
    "duration": 37,
    "start_time": "2021-11-11T18:57:30.751Z"
   },
   {
    "duration": 32,
    "start_time": "2021-11-11T18:57:30.791Z"
   },
   {
    "duration": 508,
    "start_time": "2021-11-11T18:57:30.825Z"
   },
   {
    "duration": 6,
    "start_time": "2021-11-11T18:57:31.336Z"
   },
   {
    "duration": 12,
    "start_time": "2021-11-11T18:57:31.345Z"
   },
   {
    "duration": 699,
    "start_time": "2021-11-11T18:57:31.360Z"
   },
   {
    "duration": 10,
    "start_time": "2021-11-11T18:57:32.062Z"
   },
   {
    "duration": 12,
    "start_time": "2021-11-11T18:57:32.075Z"
   },
   {
    "duration": 37,
    "start_time": "2021-11-11T18:57:32.092Z"
   },
   {
    "duration": 281,
    "start_time": "2021-11-11T18:57:32.132Z"
   },
   {
    "duration": 22,
    "start_time": "2021-11-11T18:57:32.415Z"
   },
   {
    "duration": 592,
    "start_time": "2021-11-11T18:57:32.440Z"
   },
   {
    "duration": 11,
    "start_time": "2021-11-11T18:57:33.035Z"
   },
   {
    "duration": 22,
    "start_time": "2021-11-11T18:57:33.048Z"
   },
   {
    "duration": 614,
    "start_time": "2021-11-11T18:57:33.072Z"
   },
   {
    "duration": 11,
    "start_time": "2021-11-11T18:57:33.688Z"
   },
   {
    "duration": 768,
    "start_time": "2021-11-11T18:57:33.702Z"
   },
   {
    "duration": 7,
    "start_time": "2021-11-11T18:57:34.472Z"
   },
   {
    "duration": 14,
    "start_time": "2021-11-11T18:57:34.481Z"
   },
   {
    "duration": 1212,
    "start_time": "2021-11-11T18:57:34.529Z"
   },
   {
    "duration": 12,
    "start_time": "2021-11-11T18:57:35.744Z"
   },
   {
    "duration": 550,
    "start_time": "2021-11-11T18:57:35.758Z"
   },
   {
    "duration": 20,
    "start_time": "2021-11-11T18:57:36.311Z"
   },
   {
    "duration": 8,
    "start_time": "2021-11-11T18:57:36.333Z"
   },
   {
    "duration": 18,
    "start_time": "2021-11-11T18:57:36.343Z"
   },
   {
    "duration": 11,
    "start_time": "2021-11-11T18:57:36.363Z"
   },
   {
    "duration": 53,
    "start_time": "2021-11-11T18:57:36.376Z"
   },
   {
    "duration": 6877,
    "start_time": "2021-11-11T18:57:36.432Z"
   },
   {
    "duration": -2827,
    "start_time": "2021-11-11T18:57:46.139Z"
   },
   {
    "duration": -2830,
    "start_time": "2021-11-11T18:57:46.145Z"
   },
   {
    "duration": -2835,
    "start_time": "2021-11-11T18:57:46.152Z"
   },
   {
    "duration": 7,
    "start_time": "2021-11-11T19:02:06.509Z"
   },
   {
    "duration": 8,
    "start_time": "2021-11-11T19:02:10.308Z"
   },
   {
    "duration": 884,
    "start_time": "2021-11-11T19:03:02.501Z"
   },
   {
    "duration": 577,
    "start_time": "2021-11-11T19:03:27.948Z"
   },
   {
    "duration": 336,
    "start_time": "2021-11-11T19:04:10.538Z"
   },
   {
    "duration": 484,
    "start_time": "2021-11-11T19:04:21.087Z"
   },
   {
    "duration": 674,
    "start_time": "2021-11-11T19:04:46.204Z"
   },
   {
    "duration": 593,
    "start_time": "2021-11-11T19:04:52.162Z"
   },
   {
    "duration": 599,
    "start_time": "2021-11-11T19:05:01.188Z"
   },
   {
    "duration": 634,
    "start_time": "2021-11-11T19:05:04.924Z"
   },
   {
    "duration": 574,
    "start_time": "2021-11-11T19:05:08.925Z"
   },
   {
    "duration": 614,
    "start_time": "2021-11-11T19:07:02.440Z"
   },
   {
    "duration": 12,
    "start_time": "2021-11-11T19:12:24.908Z"
   },
   {
    "duration": 580,
    "start_time": "2021-11-11T19:14:27.875Z"
   },
   {
    "duration": 34,
    "start_time": "2021-11-11T19:15:48.054Z"
   },
   {
    "duration": 12,
    "start_time": "2021-11-11T19:15:53.818Z"
   },
   {
    "duration": 9,
    "start_time": "2021-11-11T19:16:09.914Z"
   },
   {
    "duration": 6,
    "start_time": "2021-11-11T19:16:48.327Z"
   },
   {
    "duration": 6,
    "start_time": "2021-11-11T19:16:49.677Z"
   },
   {
    "duration": 637,
    "start_time": "2021-11-11T19:17:28.096Z"
   },
   {
    "duration": 9,
    "start_time": "2021-11-11T19:20:26.377Z"
   },
   {
    "duration": 10,
    "start_time": "2021-11-11T19:20:30.986Z"
   },
   {
    "duration": 16,
    "start_time": "2021-11-11T19:20:39.595Z"
   },
   {
    "duration": 11,
    "start_time": "2021-11-11T19:30:17.684Z"
   },
   {
    "duration": 11,
    "start_time": "2021-11-11T19:31:48.959Z"
   },
   {
    "duration": 291,
    "start_time": "2021-11-11T19:31:52.758Z"
   },
   {
    "duration": 6,
    "start_time": "2021-11-11T19:32:40.784Z"
   },
   {
    "duration": 6,
    "start_time": "2021-11-11T19:32:41.407Z"
   },
   {
    "duration": 1173,
    "start_time": "2021-11-11T19:33:19.310Z"
   },
   {
    "duration": 16,
    "start_time": "2021-11-11T19:33:28.599Z"
   },
   {
    "duration": 591,
    "start_time": "2021-11-11T19:33:29.647Z"
   },
   {
    "duration": 9,
    "start_time": "2021-11-11T19:35:51.815Z"
   },
   {
    "duration": 17,
    "start_time": "2021-11-11T19:36:13.030Z"
   },
   {
    "duration": 266,
    "start_time": "2021-11-11T19:36:18.129Z"
   },
   {
    "duration": 10,
    "start_time": "2021-11-11T19:36:34.478Z"
   },
   {
    "duration": 7,
    "start_time": "2021-11-11T19:36:57.364Z"
   },
   {
    "duration": 6,
    "start_time": "2021-11-11T19:36:58.052Z"
   },
   {
    "duration": 20,
    "start_time": "2021-11-11T19:37:39.115Z"
   },
   {
    "duration": 498,
    "start_time": "2021-11-11T19:37:42.365Z"
   },
   {
    "duration": 459,
    "start_time": "2021-11-11T19:37:50.666Z"
   },
   {
    "duration": 6536,
    "start_time": "2021-11-11T19:39:09.643Z"
   },
   {
    "duration": 9,
    "start_time": "2021-11-11T19:39:20.669Z"
   },
   {
    "duration": 7,
    "start_time": "2021-11-11T19:40:03.619Z"
   },
   {
    "duration": 6,
    "start_time": "2021-11-11T19:40:07.195Z"
   },
   {
    "duration": 20,
    "start_time": "2021-11-11T19:40:31.883Z"
   },
   {
    "duration": 550,
    "start_time": "2021-11-11T19:40:38.335Z"
   },
   {
    "duration": 489,
    "start_time": "2021-11-11T19:40:45.133Z"
   },
   {
    "duration": 19,
    "start_time": "2021-11-11T19:41:13.949Z"
   },
   {
    "duration": 461,
    "start_time": "2021-11-11T19:41:14.571Z"
   },
   {
    "duration": 18,
    "start_time": "2021-11-11T19:41:28.398Z"
   },
   {
    "duration": 494,
    "start_time": "2021-11-11T19:41:29.004Z"
   },
   {
    "duration": 16,
    "start_time": "2021-11-11T19:41:54.634Z"
   },
   {
    "duration": 614,
    "start_time": "2021-11-11T19:41:55.222Z"
   },
   {
    "duration": 15,
    "start_time": "2021-11-11T19:55:57.727Z"
   },
   {
    "duration": 365,
    "start_time": "2021-11-11T19:57:43.730Z"
   },
   {
    "duration": 6671,
    "start_time": "2021-11-11T19:57:49.110Z"
   },
   {
    "duration": 11,
    "start_time": "2021-11-11T19:58:02.329Z"
   },
   {
    "duration": 842,
    "start_time": "2021-11-11T19:59:26.693Z"
   },
   {
    "duration": 6,
    "start_time": "2021-11-11T20:00:23.020Z"
   },
   {
    "duration": 7,
    "start_time": "2021-11-11T20:00:23.912Z"
   },
   {
    "duration": 670,
    "start_time": "2021-11-11T20:00:30.959Z"
   },
   {
    "duration": 5,
    "start_time": "2021-11-11T20:06:53.784Z"
   },
   {
    "duration": 18,
    "start_time": "2021-11-11T20:21:28.858Z"
   },
   {
    "duration": 4,
    "start_time": "2021-11-11T20:24:26.954Z"
   },
   {
    "duration": 988,
    "start_time": "2021-11-11T20:24:33.364Z"
   },
   {
    "duration": 8,
    "start_time": "2021-11-11T20:24:42.463Z"
   },
   {
    "duration": 4,
    "start_time": "2021-11-11T20:24:43.908Z"
   },
   {
    "duration": 1345,
    "start_time": "2021-11-11T20:24:44.845Z"
   },
   {
    "duration": 21,
    "start_time": "2021-11-11T21:25:46.364Z"
   },
   {
    "duration": 1964,
    "start_time": "2021-11-11T21:28:09.305Z"
   },
   {
    "duration": 14,
    "start_time": "2021-11-11T21:28:55.779Z"
   },
   {
    "duration": 25,
    "start_time": "2021-11-11T21:29:04.317Z"
   },
   {
    "duration": 102,
    "start_time": "2021-11-11T21:29:57.158Z"
   },
   {
    "duration": 14,
    "start_time": "2021-11-11T21:30:01.006Z"
   },
   {
    "duration": 19,
    "start_time": "2021-11-11T21:30:02.307Z"
   },
   {
    "duration": 18,
    "start_time": "2021-11-11T21:32:10.905Z"
   },
   {
    "duration": 16,
    "start_time": "2021-11-11T21:32:16.962Z"
   },
   {
    "duration": 18,
    "start_time": "2021-11-11T21:32:18.412Z"
   },
   {
    "duration": 17,
    "start_time": "2021-11-11T21:32:22.808Z"
   },
   {
    "duration": 278,
    "start_time": "2021-11-11T21:33:25.512Z"
   },
   {
    "duration": 18,
    "start_time": "2021-11-11T21:33:44.909Z"
   },
   {
    "duration": 314,
    "start_time": "2021-11-11T21:33:48.685Z"
   },
   {
    "duration": 1757,
    "start_time": "2021-11-11T21:33:59.043Z"
   },
   {
    "duration": 41,
    "start_time": "2021-11-11T21:34:00.802Z"
   },
   {
    "duration": 24,
    "start_time": "2021-11-11T21:34:00.846Z"
   },
   {
    "duration": 34,
    "start_time": "2021-11-11T21:34:00.873Z"
   },
   {
    "duration": 19,
    "start_time": "2021-11-11T21:34:00.910Z"
   },
   {
    "duration": 25,
    "start_time": "2021-11-11T21:34:00.932Z"
   },
   {
    "duration": 40,
    "start_time": "2021-11-11T21:34:00.961Z"
   },
   {
    "duration": 25,
    "start_time": "2021-11-11T21:34:01.004Z"
   },
   {
    "duration": 16,
    "start_time": "2021-11-11T21:34:01.036Z"
   },
   {
    "duration": 26,
    "start_time": "2021-11-11T21:34:01.056Z"
   },
   {
    "duration": 36,
    "start_time": "2021-11-11T21:34:01.085Z"
   },
   {
    "duration": 30,
    "start_time": "2021-11-11T21:34:01.124Z"
   },
   {
    "duration": 33,
    "start_time": "2021-11-11T21:34:01.158Z"
   },
   {
    "duration": 32,
    "start_time": "2021-11-11T21:34:01.194Z"
   },
   {
    "duration": 18,
    "start_time": "2021-11-11T21:34:01.229Z"
   },
   {
    "duration": 29,
    "start_time": "2021-11-11T21:34:01.250Z"
   },
   {
    "duration": 615,
    "start_time": "2021-11-11T21:34:01.282Z"
   },
   {
    "duration": 7,
    "start_time": "2021-11-11T21:34:01.900Z"
   },
   {
    "duration": 7,
    "start_time": "2021-11-11T21:34:01.930Z"
   },
   {
    "duration": 682,
    "start_time": "2021-11-11T21:34:01.941Z"
   },
   {
    "duration": 13,
    "start_time": "2021-11-11T21:34:02.625Z"
   },
   {
    "duration": 13,
    "start_time": "2021-11-11T21:34:02.641Z"
   },
   {
    "duration": 8,
    "start_time": "2021-11-11T21:34:02.656Z"
   },
   {
    "duration": 303,
    "start_time": "2021-11-11T21:34:02.667Z"
   },
   {
    "duration": 17,
    "start_time": "2021-11-11T21:34:02.973Z"
   },
   {
    "duration": 620,
    "start_time": "2021-11-11T21:34:02.993Z"
   },
   {
    "duration": 14,
    "start_time": "2021-11-11T21:34:03.620Z"
   },
   {
    "duration": 25,
    "start_time": "2021-11-11T21:34:03.640Z"
   },
   {
    "duration": 585,
    "start_time": "2021-11-11T21:34:03.668Z"
   },
   {
    "duration": 11,
    "start_time": "2021-11-11T21:34:04.255Z"
   },
   {
    "duration": 756,
    "start_time": "2021-11-11T21:34:04.269Z"
   },
   {
    "duration": 6,
    "start_time": "2021-11-11T21:34:05.028Z"
   },
   {
    "duration": 7,
    "start_time": "2021-11-11T21:34:05.037Z"
   },
   {
    "duration": 1217,
    "start_time": "2021-11-11T21:34:05.046Z"
   },
   {
    "duration": 12,
    "start_time": "2021-11-11T21:34:06.266Z"
   },
   {
    "duration": 505,
    "start_time": "2021-11-11T21:34:06.280Z"
   },
   {
    "duration": 9,
    "start_time": "2021-11-11T21:34:06.788Z"
   },
   {
    "duration": 7,
    "start_time": "2021-11-11T21:34:06.800Z"
   },
   {
    "duration": 24,
    "start_time": "2021-11-11T21:34:06.830Z"
   },
   {
    "duration": 11,
    "start_time": "2021-11-11T21:34:06.856Z"
   },
   {
    "duration": 7,
    "start_time": "2021-11-11T21:34:06.870Z"
   },
   {
    "duration": 7,
    "start_time": "2021-11-11T21:34:06.879Z"
   },
   {
    "duration": 45,
    "start_time": "2021-11-11T21:34:06.888Z"
   },
   {
    "duration": 626,
    "start_time": "2021-11-11T21:34:06.936Z"
   },
   {
    "duration": 11,
    "start_time": "2021-11-11T21:34:07.565Z"
   },
   {
    "duration": 613,
    "start_time": "2021-11-11T21:34:07.579Z"
   },
   {
    "duration": 10,
    "start_time": "2021-11-11T21:34:08.194Z"
   },
   {
    "duration": 27,
    "start_time": "2021-11-11T21:34:08.206Z"
   },
   {
    "duration": 11,
    "start_time": "2021-11-11T21:34:08.235Z"
   },
   {
    "duration": 1016,
    "start_time": "2021-11-11T21:34:08.248Z"
   },
   {
    "duration": 15,
    "start_time": "2021-11-11T21:34:09.267Z"
   },
   {
    "duration": 10,
    "start_time": "2021-11-11T21:34:09.285Z"
   },
   {
    "duration": 37,
    "start_time": "2021-11-11T21:34:09.298Z"
   },
   {
    "duration": 409,
    "start_time": "2021-11-11T21:34:09.339Z"
   },
   {
    "duration": 8,
    "start_time": "2021-11-11T21:34:09.750Z"
   },
   {
    "duration": 12,
    "start_time": "2021-11-11T21:34:09.761Z"
   },
   {
    "duration": 21,
    "start_time": "2021-11-11T21:34:09.775Z"
   },
   {
    "duration": 603,
    "start_time": "2021-11-11T21:34:09.830Z"
   },
   {
    "duration": 10,
    "start_time": "2021-11-11T21:34:10.435Z"
   },
   {
    "duration": 15,
    "start_time": "2021-11-11T21:34:10.447Z"
   },
   {
    "duration": 7,
    "start_time": "2021-11-11T21:34:10.465Z"
   },
   {
    "duration": 59,
    "start_time": "2021-11-11T21:34:10.474Z"
   },
   {
    "duration": 468,
    "start_time": "2021-11-11T21:34:10.535Z"
   },
   {
    "duration": 25,
    "start_time": "2021-11-11T21:34:11.005Z"
   },
   {
    "duration": 21,
    "start_time": "2021-11-11T21:34:11.033Z"
   },
   {
    "duration": 12,
    "start_time": "2021-11-11T21:34:11.057Z"
   },
   {
    "duration": 31,
    "start_time": "2021-11-11T21:34:11.071Z"
   },
   {
    "duration": 453,
    "start_time": "2021-11-11T21:34:11.105Z"
   },
   {
    "duration": 14,
    "start_time": "2021-11-11T21:34:11.560Z"
   },
   {
    "duration": 11,
    "start_time": "2021-11-11T21:34:11.577Z"
   },
   {
    "duration": 659,
    "start_time": "2021-11-11T21:34:11.590Z"
   },
   {
    "duration": 7,
    "start_time": "2021-11-11T21:34:12.252Z"
   },
   {
    "duration": 9,
    "start_time": "2021-11-11T21:34:12.262Z"
   },
   {
    "duration": 687,
    "start_time": "2021-11-11T21:34:12.274Z"
   },
   {
    "duration": 7,
    "start_time": "2021-11-11T21:34:12.964Z"
   },
   {
    "duration": 31,
    "start_time": "2021-11-11T21:34:12.975Z"
   },
   {
    "duration": 32,
    "start_time": "2021-11-11T21:34:13.010Z"
   },
   {
    "duration": 19,
    "start_time": "2021-11-11T21:34:13.045Z"
   },
   {
    "duration": 13,
    "start_time": "2021-11-11T21:34:13.067Z"
   },
   {
    "duration": 46,
    "start_time": "2021-11-11T21:34:13.083Z"
   },
   {
    "duration": 1475,
    "start_time": "2021-11-11T21:34:13.139Z"
   },
   {
    "duration": 17,
    "start_time": "2021-11-11T21:34:50.205Z"
   },
   {
    "duration": 414,
    "start_time": "2021-11-11T21:40:12.861Z"
   },
   {
    "duration": 1536,
    "start_time": "2021-11-11T21:40:20.934Z"
   },
   {
    "duration": 34,
    "start_time": "2021-11-11T21:40:22.473Z"
   },
   {
    "duration": 28,
    "start_time": "2021-11-11T21:40:22.511Z"
   },
   {
    "duration": 12,
    "start_time": "2021-11-11T21:40:22.541Z"
   },
   {
    "duration": 7,
    "start_time": "2021-11-11T21:40:22.555Z"
   },
   {
    "duration": 17,
    "start_time": "2021-11-11T21:40:22.564Z"
   },
   {
    "duration": 46,
    "start_time": "2021-11-11T21:40:22.584Z"
   },
   {
    "duration": 15,
    "start_time": "2021-11-11T21:40:22.633Z"
   },
   {
    "duration": 10,
    "start_time": "2021-11-11T21:40:22.652Z"
   },
   {
    "duration": 10,
    "start_time": "2021-11-11T21:40:22.666Z"
   },
   {
    "duration": 7,
    "start_time": "2021-11-11T21:40:22.679Z"
   },
   {
    "duration": 51,
    "start_time": "2021-11-11T21:40:22.688Z"
   },
   {
    "duration": 10,
    "start_time": "2021-11-11T21:40:22.741Z"
   },
   {
    "duration": 6,
    "start_time": "2021-11-11T21:40:22.753Z"
   },
   {
    "duration": 13,
    "start_time": "2021-11-11T21:40:22.762Z"
   },
   {
    "duration": 17,
    "start_time": "2021-11-11T21:40:22.777Z"
   },
   {
    "duration": 493,
    "start_time": "2021-11-11T21:40:22.830Z"
   },
   {
    "duration": 7,
    "start_time": "2021-11-11T21:40:23.329Z"
   },
   {
    "duration": 9,
    "start_time": "2021-11-11T21:40:23.338Z"
   },
   {
    "duration": 783,
    "start_time": "2021-11-11T21:40:23.350Z"
   },
   {
    "duration": 9,
    "start_time": "2021-11-11T21:40:24.136Z"
   },
   {
    "duration": 18,
    "start_time": "2021-11-11T21:40:24.148Z"
   },
   {
    "duration": 6,
    "start_time": "2021-11-11T21:40:24.169Z"
   },
   {
    "duration": 274,
    "start_time": "2021-11-11T21:40:24.178Z"
   },
   {
    "duration": 16,
    "start_time": "2021-11-11T21:40:24.455Z"
   },
   {
    "duration": 588,
    "start_time": "2021-11-11T21:40:24.474Z"
   },
   {
    "duration": 10,
    "start_time": "2021-11-11T21:40:25.068Z"
   },
   {
    "duration": 18,
    "start_time": "2021-11-11T21:40:25.083Z"
   },
   {
    "duration": 570,
    "start_time": "2021-11-11T21:40:25.104Z"
   },
   {
    "duration": 11,
    "start_time": "2021-11-11T21:40:25.677Z"
   },
   {
    "duration": 715,
    "start_time": "2021-11-11T21:40:25.690Z"
   },
   {
    "duration": 6,
    "start_time": "2021-11-11T21:40:26.407Z"
   },
   {
    "duration": 19,
    "start_time": "2021-11-11T21:40:26.415Z"
   },
   {
    "duration": 1150,
    "start_time": "2021-11-11T21:40:26.436Z"
   },
   {
    "duration": 12,
    "start_time": "2021-11-11T21:40:27.589Z"
   },
   {
    "duration": 502,
    "start_time": "2021-11-11T21:40:27.604Z"
   },
   {
    "duration": 9,
    "start_time": "2021-11-11T21:40:28.108Z"
   },
   {
    "duration": 3,
    "start_time": "2021-11-11T21:40:28.130Z"
   },
   {
    "duration": 31,
    "start_time": "2021-11-11T21:40:28.135Z"
   },
   {
    "duration": 11,
    "start_time": "2021-11-11T21:40:28.168Z"
   },
   {
    "duration": 11,
    "start_time": "2021-11-11T21:40:28.181Z"
   },
   {
    "duration": 21,
    "start_time": "2021-11-11T21:40:28.194Z"
   },
   {
    "duration": 10,
    "start_time": "2021-11-11T21:40:28.229Z"
   },
   {
    "duration": 600,
    "start_time": "2021-11-11T21:40:28.241Z"
   },
   {
    "duration": 11,
    "start_time": "2021-11-11T21:40:28.843Z"
   },
   {
    "duration": 601,
    "start_time": "2021-11-11T21:40:28.856Z"
   },
   {
    "duration": 10,
    "start_time": "2021-11-11T21:40:29.459Z"
   },
   {
    "duration": 18,
    "start_time": "2021-11-11T21:40:29.471Z"
   },
   {
    "duration": 25,
    "start_time": "2021-11-11T21:40:29.491Z"
   },
   {
    "duration": 664,
    "start_time": "2021-11-11T21:40:29.519Z"
   },
   {
    "duration": 43,
    "start_time": "2021-11-11T21:40:30.186Z"
   },
   {
    "duration": 13,
    "start_time": "2021-11-11T21:40:30.232Z"
   },
   {
    "duration": 30,
    "start_time": "2021-11-11T21:40:30.247Z"
   },
   {
    "duration": 415,
    "start_time": "2021-11-11T21:40:30.280Z"
   },
   {
    "duration": 6,
    "start_time": "2021-11-11T21:40:30.697Z"
   },
   {
    "duration": 37,
    "start_time": "2021-11-11T21:40:30.705Z"
   },
   {
    "duration": 31,
    "start_time": "2021-11-11T21:40:30.744Z"
   },
   {
    "duration": 737,
    "start_time": "2021-11-11T21:40:30.778Z"
   },
   {
    "duration": 17,
    "start_time": "2021-11-11T21:40:31.517Z"
   },
   {
    "duration": 9,
    "start_time": "2021-11-11T21:40:31.536Z"
   },
   {
    "duration": 8,
    "start_time": "2021-11-11T21:40:31.547Z"
   },
   {
    "duration": 22,
    "start_time": "2021-11-11T21:40:31.557Z"
   },
   {
    "duration": 513,
    "start_time": "2021-11-11T21:40:31.582Z"
   },
   {
    "duration": 10,
    "start_time": "2021-11-11T21:40:32.098Z"
   },
   {
    "duration": 22,
    "start_time": "2021-11-11T21:40:32.111Z"
   },
   {
    "duration": 7,
    "start_time": "2021-11-11T21:40:32.135Z"
   },
   {
    "duration": 18,
    "start_time": "2021-11-11T21:40:32.144Z"
   },
   {
    "duration": 484,
    "start_time": "2021-11-11T21:40:32.164Z"
   },
   {
    "duration": 11,
    "start_time": "2021-11-11T21:40:32.650Z"
   },
   {
    "duration": 9,
    "start_time": "2021-11-11T21:40:32.663Z"
   },
   {
    "duration": 628,
    "start_time": "2021-11-11T21:40:32.675Z"
   },
   {
    "duration": 6,
    "start_time": "2021-11-11T21:40:33.306Z"
   },
   {
    "duration": 6,
    "start_time": "2021-11-11T21:40:33.329Z"
   },
   {
    "duration": 657,
    "start_time": "2021-11-11T21:40:33.337Z"
   },
   {
    "duration": 5,
    "start_time": "2021-11-11T21:40:33.997Z"
   },
   {
    "duration": 32,
    "start_time": "2021-11-11T21:40:34.005Z"
   },
   {
    "duration": 24,
    "start_time": "2021-11-11T21:40:34.039Z"
   },
   {
    "duration": 1253,
    "start_time": "2021-11-11T21:40:34.065Z"
   },
   {
    "duration": 424,
    "start_time": "2021-11-11T21:40:35.321Z"
   },
   {
    "duration": -2706,
    "start_time": "2021-11-11T21:40:38.454Z"
   },
   {
    "duration": -2728,
    "start_time": "2021-11-11T21:40:38.477Z"
   },
   {
    "duration": -2737,
    "start_time": "2021-11-11T21:40:38.487Z"
   },
   {
    "duration": 49095,
    "start_time": "2021-11-11T21:45:07.385Z"
   },
   {
    "duration": 1636,
    "start_time": "2021-11-12T18:13:07.545Z"
   },
   {
    "duration": 36,
    "start_time": "2021-11-12T18:13:09.184Z"
   },
   {
    "duration": 24,
    "start_time": "2021-11-12T18:13:09.223Z"
   },
   {
    "duration": 12,
    "start_time": "2021-11-12T18:13:09.250Z"
   },
   {
    "duration": 4,
    "start_time": "2021-11-12T18:13:09.264Z"
   },
   {
    "duration": 55,
    "start_time": "2021-11-12T18:13:09.270Z"
   },
   {
    "duration": 23,
    "start_time": "2021-11-12T18:13:09.327Z"
   },
   {
    "duration": 18,
    "start_time": "2021-11-12T18:13:09.353Z"
   },
   {
    "duration": 28,
    "start_time": "2021-11-12T18:13:09.374Z"
   },
   {
    "duration": 6,
    "start_time": "2021-11-12T18:13:09.404Z"
   },
   {
    "duration": 9,
    "start_time": "2021-11-12T18:13:09.413Z"
   },
   {
    "duration": 11,
    "start_time": "2021-11-12T18:13:09.424Z"
   },
   {
    "duration": 9,
    "start_time": "2021-11-12T18:13:09.438Z"
   },
   {
    "duration": 8,
    "start_time": "2021-11-12T18:13:09.449Z"
   },
   {
    "duration": 49,
    "start_time": "2021-11-12T18:13:09.459Z"
   },
   {
    "duration": 18,
    "start_time": "2021-11-12T18:13:09.510Z"
   },
   {
    "duration": 507,
    "start_time": "2021-11-12T18:13:09.530Z"
   },
   {
    "duration": 7,
    "start_time": "2021-11-12T18:13:10.039Z"
   },
   {
    "duration": 9,
    "start_time": "2021-11-12T18:13:10.048Z"
   },
   {
    "duration": 698,
    "start_time": "2021-11-12T18:13:10.059Z"
   },
   {
    "duration": 9,
    "start_time": "2021-11-12T18:13:10.760Z"
   },
   {
    "duration": 33,
    "start_time": "2021-11-12T18:13:10.771Z"
   },
   {
    "duration": 6,
    "start_time": "2021-11-12T18:13:10.810Z"
   },
   {
    "duration": 280,
    "start_time": "2021-11-12T18:13:10.820Z"
   },
   {
    "duration": 15,
    "start_time": "2021-11-12T18:13:11.103Z"
   },
   {
    "duration": 720,
    "start_time": "2021-11-12T18:13:11.120Z"
   },
   {
    "duration": 9,
    "start_time": "2021-11-12T18:13:11.843Z"
   },
   {
    "duration": 14,
    "start_time": "2021-11-12T18:13:11.854Z"
   },
   {
    "duration": 594,
    "start_time": "2021-11-12T18:13:11.871Z"
   },
   {
    "duration": 14,
    "start_time": "2021-11-12T18:13:12.468Z"
   },
   {
    "duration": 733,
    "start_time": "2021-11-12T18:13:12.500Z"
   },
   {
    "duration": 6,
    "start_time": "2021-11-12T18:13:13.235Z"
   },
   {
    "duration": 6,
    "start_time": "2021-11-12T18:13:13.243Z"
   },
   {
    "duration": 1203,
    "start_time": "2021-11-12T18:13:13.252Z"
   },
   {
    "duration": 11,
    "start_time": "2021-11-12T18:13:14.457Z"
   },
   {
    "duration": 532,
    "start_time": "2021-11-12T18:13:14.470Z"
   },
   {
    "duration": -2720,
    "start_time": "2021-11-12T18:13:17.725Z"
   },
   {
    "duration": -2730,
    "start_time": "2021-11-12T18:13:17.738Z"
   },
   {
    "duration": -2735,
    "start_time": "2021-11-12T18:13:17.745Z"
   },
   {
    "duration": -2741,
    "start_time": "2021-11-12T18:13:17.753Z"
   },
   {
    "duration": -2746,
    "start_time": "2021-11-12T18:13:17.760Z"
   },
   {
    "duration": -2756,
    "start_time": "2021-11-12T18:13:17.771Z"
   },
   {
    "duration": -2762,
    "start_time": "2021-11-12T18:13:17.779Z"
   },
   {
    "duration": -2767,
    "start_time": "2021-11-12T18:13:17.786Z"
   },
   {
    "duration": -2790,
    "start_time": "2021-11-12T18:13:17.812Z"
   },
   {
    "duration": -2797,
    "start_time": "2021-11-12T18:13:17.821Z"
   },
   {
    "duration": -2803,
    "start_time": "2021-11-12T18:13:17.829Z"
   },
   {
    "duration": -2808,
    "start_time": "2021-11-12T18:13:17.836Z"
   },
   {
    "duration": -2815,
    "start_time": "2021-11-12T18:13:17.844Z"
   },
   {
    "duration": -2820,
    "start_time": "2021-11-12T18:13:17.851Z"
   },
   {
    "duration": -2826,
    "start_time": "2021-11-12T18:13:17.858Z"
   },
   {
    "duration": -2831,
    "start_time": "2021-11-12T18:13:17.865Z"
   },
   {
    "duration": -2838,
    "start_time": "2021-11-12T18:13:17.873Z"
   },
   {
    "duration": -2843,
    "start_time": "2021-11-12T18:13:17.880Z"
   },
   {
    "duration": -2850,
    "start_time": "2021-11-12T18:13:17.888Z"
   },
   {
    "duration": -2899,
    "start_time": "2021-11-12T18:13:17.939Z"
   },
   {
    "duration": -2908,
    "start_time": "2021-11-12T18:13:17.949Z"
   },
   {
    "duration": -2914,
    "start_time": "2021-11-12T18:13:17.956Z"
   },
   {
    "duration": -2921,
    "start_time": "2021-11-12T18:13:17.965Z"
   },
   {
    "duration": -2873,
    "start_time": "2021-11-12T18:13:17.973Z"
   },
   {
    "duration": -2879,
    "start_time": "2021-11-12T18:13:17.981Z"
   },
   {
    "duration": -2885,
    "start_time": "2021-11-12T18:13:17.988Z"
   },
   {
    "duration": -2891,
    "start_time": "2021-11-12T18:13:17.995Z"
   },
   {
    "duration": -2896,
    "start_time": "2021-11-12T18:13:18.002Z"
   },
   {
    "duration": -2902,
    "start_time": "2021-11-12T18:13:18.010Z"
   },
   {
    "duration": -2907,
    "start_time": "2021-11-12T18:13:18.016Z"
   },
   {
    "duration": -2914,
    "start_time": "2021-11-12T18:13:18.024Z"
   },
   {
    "duration": -2918,
    "start_time": "2021-11-12T18:13:18.030Z"
   },
   {
    "duration": -2960,
    "start_time": "2021-11-12T18:13:18.073Z"
   },
   {
    "duration": -2966,
    "start_time": "2021-11-12T18:13:18.081Z"
   },
   {
    "duration": -2972,
    "start_time": "2021-11-12T18:13:18.089Z"
   },
   {
    "duration": -3012,
    "start_time": "2021-11-12T18:13:18.130Z"
   },
   {
    "duration": -3131,
    "start_time": "2021-11-12T18:13:18.250Z"
   },
   {
    "duration": -3138,
    "start_time": "2021-11-12T18:13:18.258Z"
   },
   {
    "duration": -3143,
    "start_time": "2021-11-12T18:13:18.265Z"
   },
   {
    "duration": -3162,
    "start_time": "2021-11-12T18:13:18.285Z"
   },
   {
    "duration": -3169,
    "start_time": "2021-11-12T18:13:18.293Z"
   },
   {
    "duration": -3175,
    "start_time": "2021-11-12T18:13:18.300Z"
   },
   {
    "duration": -3182,
    "start_time": "2021-11-12T18:13:18.308Z"
   },
   {
    "duration": -3187,
    "start_time": "2021-11-12T18:13:18.315Z"
   },
   {
    "duration": -3193,
    "start_time": "2021-11-12T18:13:18.322Z"
   },
   {
    "duration": -3199,
    "start_time": "2021-11-12T18:13:18.329Z"
   },
   {
    "duration": -3205,
    "start_time": "2021-11-12T18:13:18.336Z"
   },
   {
    "duration": -3210,
    "start_time": "2021-11-12T18:13:18.343Z"
   },
   {
    "duration": 547,
    "start_time": "2021-11-12T18:13:59.628Z"
   },
   {
    "duration": 502,
    "start_time": "2021-11-12T18:14:13.169Z"
   },
   {
    "duration": 1673,
    "start_time": "2021-11-12T18:14:38.182Z"
   },
   {
    "duration": 36,
    "start_time": "2021-11-12T18:14:39.858Z"
   },
   {
    "duration": 24,
    "start_time": "2021-11-12T18:14:39.896Z"
   },
   {
    "duration": 16,
    "start_time": "2021-11-12T18:14:39.922Z"
   },
   {
    "duration": 3,
    "start_time": "2021-11-12T18:14:39.941Z"
   },
   {
    "duration": 11,
    "start_time": "2021-11-12T18:14:39.947Z"
   },
   {
    "duration": 51,
    "start_time": "2021-11-12T18:14:39.961Z"
   },
   {
    "duration": 22,
    "start_time": "2021-11-12T18:14:40.014Z"
   },
   {
    "duration": 11,
    "start_time": "2021-11-12T18:14:40.040Z"
   },
   {
    "duration": 6,
    "start_time": "2021-11-12T18:14:40.054Z"
   },
   {
    "duration": 44,
    "start_time": "2021-11-12T18:14:40.063Z"
   },
   {
    "duration": 14,
    "start_time": "2021-11-12T18:14:40.110Z"
   },
   {
    "duration": 19,
    "start_time": "2021-11-12T18:14:40.126Z"
   },
   {
    "duration": 7,
    "start_time": "2021-11-12T18:14:40.147Z"
   },
   {
    "duration": 10,
    "start_time": "2021-11-12T18:14:40.156Z"
   },
   {
    "duration": 37,
    "start_time": "2021-11-12T18:14:40.168Z"
   },
   {
    "duration": 506,
    "start_time": "2021-11-12T18:14:40.207Z"
   },
   {
    "duration": 6,
    "start_time": "2021-11-12T18:14:40.715Z"
   },
   {
    "duration": 7,
    "start_time": "2021-11-12T18:14:40.723Z"
   },
   {
    "duration": 668,
    "start_time": "2021-11-12T18:14:40.732Z"
   },
   {
    "duration": 10,
    "start_time": "2021-11-12T18:14:41.402Z"
   },
   {
    "duration": 15,
    "start_time": "2021-11-12T18:14:41.414Z"
   },
   {
    "duration": 6,
    "start_time": "2021-11-12T18:14:41.432Z"
   },
   {
    "duration": 284,
    "start_time": "2021-11-12T18:14:41.440Z"
   },
   {
    "duration": 15,
    "start_time": "2021-11-12T18:14:41.726Z"
   },
   {
    "duration": 693,
    "start_time": "2021-11-12T18:14:41.744Z"
   },
   {
    "duration": 9,
    "start_time": "2021-11-12T18:14:42.443Z"
   },
   {
    "duration": 14,
    "start_time": "2021-11-12T18:14:42.456Z"
   },
   {
    "duration": 601,
    "start_time": "2021-11-12T18:14:42.472Z"
   },
   {
    "duration": 25,
    "start_time": "2021-11-12T18:14:43.075Z"
   },
   {
    "duration": 725,
    "start_time": "2021-11-12T18:14:43.102Z"
   },
   {
    "duration": 5,
    "start_time": "2021-11-12T18:14:43.830Z"
   },
   {
    "duration": 17,
    "start_time": "2021-11-12T18:14:43.837Z"
   },
   {
    "duration": 1180,
    "start_time": "2021-11-12T18:14:43.856Z"
   },
   {
    "duration": 13,
    "start_time": "2021-11-12T18:14:45.039Z"
   },
   {
    "duration": 509,
    "start_time": "2021-11-12T18:14:45.054Z"
   },
   {
    "duration": 9,
    "start_time": "2021-11-12T18:14:45.565Z"
   },
   {
    "duration": 4,
    "start_time": "2021-11-12T18:14:45.576Z"
   },
   {
    "duration": 15,
    "start_time": "2021-11-12T18:14:45.601Z"
   },
   {
    "duration": 11,
    "start_time": "2021-11-12T18:14:45.618Z"
   },
   {
    "duration": 8,
    "start_time": "2021-11-12T18:14:45.632Z"
   },
   {
    "duration": 8,
    "start_time": "2021-11-12T18:14:45.643Z"
   },
   {
    "duration": 48,
    "start_time": "2021-11-12T18:14:45.654Z"
   },
   {
    "duration": 631,
    "start_time": "2021-11-12T18:14:45.704Z"
   },
   {
    "duration": 11,
    "start_time": "2021-11-12T18:14:46.338Z"
   },
   {
    "duration": 608,
    "start_time": "2021-11-12T18:14:46.351Z"
   },
   {
    "duration": 10,
    "start_time": "2021-11-12T18:14:46.962Z"
   },
   {
    "duration": 8,
    "start_time": "2021-11-12T18:14:46.975Z"
   },
   {
    "duration": 7,
    "start_time": "2021-11-12T18:14:47.001Z"
   },
   {
    "duration": 666,
    "start_time": "2021-11-12T18:14:47.011Z"
   },
   {
    "duration": 20,
    "start_time": "2021-11-12T18:14:47.680Z"
   },
   {
    "duration": 11,
    "start_time": "2021-11-12T18:14:47.703Z"
   },
   {
    "duration": 10,
    "start_time": "2021-11-12T18:14:47.717Z"
   },
   {
    "duration": 424,
    "start_time": "2021-11-12T18:14:47.730Z"
   },
   {
    "duration": 6,
    "start_time": "2021-11-12T18:14:48.157Z"
   },
   {
    "duration": 7,
    "start_time": "2021-11-12T18:14:48.166Z"
   },
   {
    "duration": 36,
    "start_time": "2021-11-12T18:14:48.175Z"
   },
   {
    "duration": 599,
    "start_time": "2021-11-12T18:14:48.213Z"
   },
   {
    "duration": 9,
    "start_time": "2021-11-12T18:14:48.814Z"
   },
   {
    "duration": 11,
    "start_time": "2021-11-12T18:14:48.825Z"
   },
   {
    "duration": 8,
    "start_time": "2021-11-12T18:14:48.838Z"
   },
   {
    "duration": 55,
    "start_time": "2021-11-12T18:14:48.848Z"
   },
   {
    "duration": 480,
    "start_time": "2021-11-12T18:14:48.906Z"
   },
   {
    "duration": 17,
    "start_time": "2021-11-12T18:14:49.389Z"
   },
   {
    "duration": 10,
    "start_time": "2021-11-12T18:14:49.408Z"
   },
   {
    "duration": 11,
    "start_time": "2021-11-12T18:14:49.420Z"
   },
   {
    "duration": 18,
    "start_time": "2021-11-12T18:14:49.434Z"
   },
   {
    "duration": 603,
    "start_time": "2021-11-12T18:14:49.454Z"
   },
   {
    "duration": 11,
    "start_time": "2021-11-12T18:14:50.060Z"
   },
   {
    "duration": 29,
    "start_time": "2021-11-12T18:14:50.073Z"
   },
   {
    "duration": 736,
    "start_time": "2021-11-12T18:14:50.104Z"
   },
   {
    "duration": 6,
    "start_time": "2021-11-12T18:14:50.844Z"
   },
   {
    "duration": 22,
    "start_time": "2021-11-12T18:14:50.853Z"
   },
   {
    "duration": 682,
    "start_time": "2021-11-12T18:14:50.878Z"
   },
   {
    "duration": 5,
    "start_time": "2021-11-12T18:14:51.563Z"
   },
   {
    "duration": 51721,
    "start_time": "2021-11-12T18:14:51.570Z"
   },
   {
    "duration": 12,
    "start_time": "2021-11-12T18:15:43.294Z"
   },
   {
    "duration": 5,
    "start_time": "2021-11-12T18:15:43.309Z"
   },
   {
    "duration": 1248,
    "start_time": "2021-11-12T18:15:43.316Z"
   },
   {
    "duration": 624,
    "start_time": "2021-11-12T18:15:44.567Z"
   },
   {
    "duration": -8335,
    "start_time": "2021-11-12T18:15:53.529Z"
   },
   {
    "duration": -8342,
    "start_time": "2021-11-12T18:15:53.537Z"
   },
   {
    "duration": -8347,
    "start_time": "2021-11-12T18:15:53.544Z"
   },
   {
    "duration": 17,
    "start_time": "2021-11-12T18:29:59.052Z"
   },
   {
    "duration": 17,
    "start_time": "2021-11-12T19:05:36.009Z"
   },
   {
    "duration": 14,
    "start_time": "2021-11-12T19:05:39.364Z"
   },
   {
    "duration": 18,
    "start_time": "2021-11-12T19:05:40.631Z"
   },
   {
    "duration": 19,
    "start_time": "2021-11-12T19:09:24.351Z"
   },
   {
    "duration": 88245,
    "start_time": "2021-11-12T19:09:30.051Z"
   },
   {
    "duration": 423,
    "start_time": "2021-11-12T19:27:53.147Z"
   },
   {
    "duration": 5,
    "start_time": "2021-11-12T19:28:38.112Z"
   },
   {
    "duration": 16,
    "start_time": "2021-11-12T19:28:43.041Z"
   },
   {
    "duration": 9,
    "start_time": "2021-11-12T19:29:03.487Z"
   },
   {
    "duration": 1659,
    "start_time": "2021-11-12T19:29:28.176Z"
   },
   {
    "duration": 9,
    "start_time": "2021-11-12T19:29:43.352Z"
   },
   {
    "duration": 1626,
    "start_time": "2021-11-12T19:29:44.450Z"
   },
   {
    "duration": 14,
    "start_time": "2021-11-12T19:30:21.338Z"
   },
   {
    "duration": 6,
    "start_time": "2021-11-12T19:30:28.572Z"
   },
   {
    "duration": 674,
    "start_time": "2021-11-12T19:30:29.355Z"
   },
   {
    "duration": 503,
    "start_time": "2021-11-12T19:30:36.552Z"
   },
   {
    "duration": 7,
    "start_time": "2021-11-12T19:31:32.905Z"
   },
   {
    "duration": 16,
    "start_time": "2021-11-12T19:39:19.678Z"
   },
   {
    "duration": 830,
    "start_time": "2021-11-12T19:41:17.014Z"
   },
   {
    "duration": 6,
    "start_time": "2021-11-12T19:41:55.467Z"
   },
   {
    "duration": 16,
    "start_time": "2021-11-12T19:41:58.264Z"
   },
   {
    "duration": 749,
    "start_time": "2021-11-12T19:42:12.516Z"
   },
   {
    "duration": 7,
    "start_time": "2021-11-12T19:42:28.691Z"
   },
   {
    "duration": 7,
    "start_time": "2021-11-12T19:59:55.489Z"
   },
   {
    "duration": 27,
    "start_time": "2021-11-12T19:59:57.514Z"
   },
   {
    "duration": 125,
    "start_time": "2021-11-12T20:02:12.292Z"
   },
   {
    "duration": 437,
    "start_time": "2021-11-12T20:02:23.391Z"
   },
   {
    "duration": 519,
    "start_time": "2021-11-12T20:02:29.430Z"
   },
   {
    "duration": 402,
    "start_time": "2021-11-12T20:02:40.829Z"
   },
   {
    "duration": 784,
    "start_time": "2021-11-12T20:05:06.071Z"
   },
   {
    "duration": 838,
    "start_time": "2021-11-12T20:08:32.900Z"
   },
   {
    "duration": 38,
    "start_time": "2021-11-12T20:08:53.974Z"
   },
   {
    "duration": 45,
    "start_time": "2021-11-12T20:09:03.462Z"
   },
   {
    "duration": 25,
    "start_time": "2021-11-12T20:09:13.130Z"
   },
   {
    "duration": 30,
    "start_time": "2021-11-12T20:09:22.725Z"
   },
   {
    "duration": 5,
    "start_time": "2021-11-12T20:09:47.462Z"
   },
   {
    "duration": 864,
    "start_time": "2021-11-12T20:10:16.056Z"
   },
   {
    "duration": 5,
    "start_time": "2021-11-12T20:16:14.883Z"
   },
   {
    "duration": 857,
    "start_time": "2021-11-12T20:16:38.695Z"
   },
   {
    "duration": 421,
    "start_time": "2021-11-12T20:17:41.547Z"
   },
   {
    "duration": 5,
    "start_time": "2021-11-12T20:18:03.749Z"
   },
   {
    "duration": 7,
    "start_time": "2021-11-12T20:18:18.265Z"
   },
   {
    "duration": 31,
    "start_time": "2021-11-12T20:18:45.576Z"
   },
   {
    "duration": 1251,
    "start_time": "2021-11-12T20:28:53.288Z"
   },
   {
    "duration": 1268,
    "start_time": "2021-11-12T20:29:29.213Z"
   },
   {
    "duration": 1216,
    "start_time": "2021-11-12T20:29:37.689Z"
   },
   {
    "duration": 809,
    "start_time": "2021-11-12T20:30:27.227Z"
   },
   {
    "duration": 14,
    "start_time": "2021-11-12T20:39:31.164Z"
   },
   {
    "duration": 7,
    "start_time": "2021-11-12T20:39:43.576Z"
   },
   {
    "duration": 8,
    "start_time": "2021-11-12T20:39:55.074Z"
   },
   {
    "duration": 173,
    "start_time": "2021-11-12T20:40:19.304Z"
   },
   {
    "duration": 462,
    "start_time": "2021-11-12T20:40:24.750Z"
   },
   {
    "duration": 443,
    "start_time": "2021-11-12T20:40:37.088Z"
   },
   {
    "duration": 384,
    "start_time": "2021-11-12T20:43:25.155Z"
   },
   {
    "duration": 419,
    "start_time": "2021-11-12T20:43:30.584Z"
   },
   {
    "duration": 6,
    "start_time": "2021-11-12T20:53:53.356Z"
   },
   {
    "duration": 6,
    "start_time": "2021-11-12T20:55:22.100Z"
   },
   {
    "duration": 7,
    "start_time": "2021-11-12T20:56:34.808Z"
   },
   {
    "duration": 1185,
    "start_time": "2021-11-12T20:56:52.657Z"
   },
   {
    "duration": 7,
    "start_time": "2021-11-12T21:00:05.370Z"
   },
   {
    "duration": 1176,
    "start_time": "2021-11-12T21:00:06.226Z"
   },
   {
    "duration": 814,
    "start_time": "2021-11-12T21:00:07.405Z"
   },
   {
    "duration": 975,
    "start_time": "2021-11-12T21:00:13.001Z"
   },
   {
    "duration": 1562,
    "start_time": "2021-11-12T21:00:16.617Z"
   },
   {
    "duration": 861,
    "start_time": "2021-11-12T21:00:26.003Z"
   },
   {
    "duration": 844,
    "start_time": "2021-11-12T21:03:20.741Z"
   },
   {
    "duration": 6,
    "start_time": "2021-11-12T21:20:57.250Z"
   },
   {
    "duration": 13,
    "start_time": "2021-11-12T21:22:06.216Z"
   },
   {
    "duration": 15,
    "start_time": "2021-11-12T21:22:11.539Z"
   },
   {
    "duration": 591,
    "start_time": "2021-11-12T21:28:21.809Z"
   },
   {
    "duration": 635,
    "start_time": "2021-11-12T21:28:42.398Z"
   },
   {
    "duration": 10,
    "start_time": "2021-11-12T21:29:45.148Z"
   },
   {
    "duration": 617,
    "start_time": "2021-11-12T21:30:15.925Z"
   },
   {
    "duration": 761,
    "start_time": "2021-11-12T21:30:25.713Z"
   },
   {
    "duration": 9,
    "start_time": "2021-11-12T21:31:26.331Z"
   },
   {
    "duration": 10,
    "start_time": "2021-11-12T21:33:23.928Z"
   },
   {
    "duration": 1668,
    "start_time": "2021-11-12T21:41:49.982Z"
   },
   {
    "duration": 39,
    "start_time": "2021-11-12T21:41:51.653Z"
   },
   {
    "duration": 27,
    "start_time": "2021-11-12T21:41:51.695Z"
   },
   {
    "duration": 14,
    "start_time": "2021-11-12T21:41:51.726Z"
   },
   {
    "duration": 4,
    "start_time": "2021-11-12T21:41:51.743Z"
   },
   {
    "duration": 53,
    "start_time": "2021-11-12T21:41:51.750Z"
   },
   {
    "duration": 20,
    "start_time": "2021-11-12T21:41:51.806Z"
   },
   {
    "duration": 16,
    "start_time": "2021-11-12T21:41:51.831Z"
   },
   {
    "duration": 53,
    "start_time": "2021-11-12T21:41:51.851Z"
   },
   {
    "duration": 6,
    "start_time": "2021-11-12T21:41:51.907Z"
   },
   {
    "duration": 26,
    "start_time": "2021-11-12T21:41:51.915Z"
   },
   {
    "duration": 23,
    "start_time": "2021-11-12T21:41:51.943Z"
   },
   {
    "duration": 18,
    "start_time": "2021-11-12T21:41:51.968Z"
   },
   {
    "duration": 7,
    "start_time": "2021-11-12T21:41:51.988Z"
   },
   {
    "duration": 12,
    "start_time": "2021-11-12T21:41:52.001Z"
   },
   {
    "duration": 13,
    "start_time": "2021-11-12T21:41:52.016Z"
   },
   {
    "duration": 522,
    "start_time": "2021-11-12T21:41:52.031Z"
   },
   {
    "duration": 6,
    "start_time": "2021-11-12T21:41:52.555Z"
   },
   {
    "duration": 8,
    "start_time": "2021-11-12T21:41:52.563Z"
   },
   {
    "duration": 692,
    "start_time": "2021-11-12T21:41:52.573Z"
   },
   {
    "duration": 11,
    "start_time": "2021-11-12T21:41:53.267Z"
   },
   {
    "duration": 28,
    "start_time": "2021-11-12T21:41:53.280Z"
   },
   {
    "duration": 6,
    "start_time": "2021-11-12T21:41:53.315Z"
   },
   {
    "duration": 280,
    "start_time": "2021-11-12T21:41:53.325Z"
   },
   {
    "duration": 15,
    "start_time": "2021-11-12T21:41:53.607Z"
   },
   {
    "duration": 602,
    "start_time": "2021-11-12T21:41:53.624Z"
   },
   {
    "duration": 10,
    "start_time": "2021-11-12T21:41:54.229Z"
   },
   {
    "duration": 16,
    "start_time": "2021-11-12T21:41:54.241Z"
   },
   {
    "duration": 689,
    "start_time": "2021-11-12T21:41:54.260Z"
   },
   {
    "duration": 11,
    "start_time": "2021-11-12T21:41:54.951Z"
   },
   {
    "duration": 739,
    "start_time": "2021-11-12T21:41:54.964Z"
   },
   {
    "duration": 6,
    "start_time": "2021-11-12T21:41:55.706Z"
   },
   {
    "duration": 8,
    "start_time": "2021-11-12T21:41:55.714Z"
   },
   {
    "duration": 1189,
    "start_time": "2021-11-12T21:41:55.725Z"
   },
   {
    "duration": 10,
    "start_time": "2021-11-12T21:41:56.916Z"
   },
   {
    "duration": 508,
    "start_time": "2021-11-12T21:41:56.929Z"
   },
   {
    "duration": 9,
    "start_time": "2021-11-12T21:41:57.439Z"
   },
   {
    "duration": 15,
    "start_time": "2021-11-12T21:41:57.450Z"
   },
   {
    "duration": 39,
    "start_time": "2021-11-12T21:41:57.467Z"
   },
   {
    "duration": 7,
    "start_time": "2021-11-12T21:41:57.509Z"
   },
   {
    "duration": 7,
    "start_time": "2021-11-12T21:41:57.518Z"
   },
   {
    "duration": 7,
    "start_time": "2021-11-12T21:41:57.527Z"
   },
   {
    "duration": 664,
    "start_time": "2021-11-12T21:41:57.536Z"
   },
   {
    "duration": 12,
    "start_time": "2021-11-12T21:41:58.202Z"
   },
   {
    "duration": 623,
    "start_time": "2021-11-12T21:41:58.216Z"
   },
   {
    "duration": 10,
    "start_time": "2021-11-12T21:41:58.841Z"
   },
   {
    "duration": 11,
    "start_time": "2021-11-12T21:41:58.853Z"
   },
   {
    "duration": 37,
    "start_time": "2021-11-12T21:41:58.867Z"
   },
   {
    "duration": 646,
    "start_time": "2021-11-12T21:41:58.906Z"
   },
   {
    "duration": 14,
    "start_time": "2021-11-12T21:41:59.554Z"
   },
   {
    "duration": 35,
    "start_time": "2021-11-12T21:41:59.571Z"
   },
   {
    "duration": 10,
    "start_time": "2021-11-12T21:41:59.608Z"
   },
   {
    "duration": 409,
    "start_time": "2021-11-12T21:41:59.621Z"
   },
   {
    "duration": 5,
    "start_time": "2021-11-12T21:42:00.032Z"
   },
   {
    "duration": 19,
    "start_time": "2021-11-12T21:42:00.039Z"
   },
   {
    "duration": 35,
    "start_time": "2021-11-12T21:42:00.061Z"
   },
   {
    "duration": 677,
    "start_time": "2021-11-12T21:42:00.099Z"
   },
   {
    "duration": 9,
    "start_time": "2021-11-12T21:42:00.779Z"
   },
   {
    "duration": 7,
    "start_time": "2021-11-12T21:42:00.801Z"
   },
   {
    "duration": 26,
    "start_time": "2021-11-12T21:42:00.810Z"
   },
   {
    "duration": 27,
    "start_time": "2021-11-12T21:42:00.838Z"
   },
   {
    "duration": 484,
    "start_time": "2021-11-12T21:42:00.868Z"
   },
   {
    "duration": 10,
    "start_time": "2021-11-12T21:42:01.354Z"
   },
   {
    "duration": 22,
    "start_time": "2021-11-12T21:42:01.366Z"
   },
   {
    "duration": 49,
    "start_time": "2021-11-12T21:42:01.399Z"
   },
   {
    "duration": 39,
    "start_time": "2021-11-12T21:42:01.451Z"
   },
   {
    "duration": 462,
    "start_time": "2021-11-12T21:42:01.492Z"
   },
   {
    "duration": 11,
    "start_time": "2021-11-12T21:42:01.962Z"
   },
   {
    "duration": 28,
    "start_time": "2021-11-12T21:42:01.976Z"
   },
   {
    "duration": 639,
    "start_time": "2021-11-12T21:42:02.006Z"
   },
   {
    "duration": 6,
    "start_time": "2021-11-12T21:42:02.648Z"
   },
   {
    "duration": 9,
    "start_time": "2021-11-12T21:42:02.657Z"
   },
   {
    "duration": 760,
    "start_time": "2021-11-12T21:42:02.669Z"
   },
   {
    "duration": 6,
    "start_time": "2021-11-12T21:42:03.431Z"
   },
   {
    "duration": 32,
    "start_time": "2021-11-12T21:42:03.440Z"
   },
   {
    "duration": 34,
    "start_time": "2021-11-12T21:42:03.474Z"
   },
   {
    "duration": 19,
    "start_time": "2021-11-12T21:42:03.510Z"
   },
   {
    "duration": 23,
    "start_time": "2021-11-12T21:42:03.531Z"
   },
   {
    "duration": 414,
    "start_time": "2021-11-12T21:42:03.556Z"
   },
   {
    "duration": 6,
    "start_time": "2021-11-12T21:42:03.972Z"
   },
   {
    "duration": 21,
    "start_time": "2021-11-12T21:42:03.980Z"
   },
   {
    "duration": 1142,
    "start_time": "2021-11-12T21:42:04.003Z"
   },
   {
    "duration": 862,
    "start_time": "2021-11-12T21:42:05.147Z"
   },
   {
    "duration": 6,
    "start_time": "2021-11-12T21:42:06.011Z"
   },
   {
    "duration": 15,
    "start_time": "2021-11-12T21:42:06.019Z"
   },
   {
    "duration": 12,
    "start_time": "2021-11-12T21:42:06.036Z"
   },
   {
    "duration": 6,
    "start_time": "2021-11-12T21:48:58.761Z"
   },
   {
    "duration": 6,
    "start_time": "2021-11-12T21:49:11.513Z"
   },
   {
    "duration": 20,
    "start_time": "2021-11-12T21:53:51.153Z"
   },
   {
    "duration": 997,
    "start_time": "2021-11-12T21:54:06.980Z"
   },
   {
    "duration": 613,
    "start_time": "2021-11-12T21:54:46.619Z"
   },
   {
    "duration": 1404,
    "start_time": "2021-11-12T21:54:59.052Z"
   },
   {
    "duration": 15,
    "start_time": "2021-11-12T21:59:28.510Z"
   },
   {
    "duration": 431,
    "start_time": "2021-11-12T21:59:40.648Z"
   },
   {
    "duration": 12,
    "start_time": "2021-11-12T22:00:21.853Z"
   },
   {
    "duration": 1197,
    "start_time": "2021-11-13T08:20:13.775Z"
   },
   {
    "duration": 29,
    "start_time": "2021-11-13T08:20:14.974Z"
   },
   {
    "duration": 15,
    "start_time": "2021-11-13T08:20:15.005Z"
   },
   {
    "duration": 12,
    "start_time": "2021-11-13T08:20:15.022Z"
   },
   {
    "duration": 9,
    "start_time": "2021-11-13T08:20:15.036Z"
   },
   {
    "duration": 8,
    "start_time": "2021-11-13T08:20:15.047Z"
   },
   {
    "duration": 12,
    "start_time": "2021-11-13T08:20:15.057Z"
   },
   {
    "duration": 9,
    "start_time": "2021-11-13T08:20:15.071Z"
   },
   {
    "duration": 8,
    "start_time": "2021-11-13T08:20:15.082Z"
   },
   {
    "duration": 4,
    "start_time": "2021-11-13T08:20:15.092Z"
   },
   {
    "duration": 6,
    "start_time": "2021-11-13T08:20:15.098Z"
   },
   {
    "duration": 43,
    "start_time": "2021-11-13T08:20:15.106Z"
   },
   {
    "duration": 8,
    "start_time": "2021-11-13T08:20:15.151Z"
   },
   {
    "duration": 4,
    "start_time": "2021-11-13T08:20:15.161Z"
   },
   {
    "duration": 6,
    "start_time": "2021-11-13T08:20:15.167Z"
   },
   {
    "duration": 13,
    "start_time": "2021-11-13T08:20:15.175Z"
   },
   {
    "duration": 314,
    "start_time": "2021-11-13T08:20:15.189Z"
   },
   {
    "duration": 5,
    "start_time": "2021-11-13T08:20:15.504Z"
   },
   {
    "duration": 13,
    "start_time": "2021-11-13T08:20:15.510Z"
   },
   {
    "duration": 403,
    "start_time": "2021-11-13T08:20:15.524Z"
   },
   {
    "duration": 6,
    "start_time": "2021-11-13T08:20:15.929Z"
   },
   {
    "duration": 8,
    "start_time": "2021-11-13T08:20:15.945Z"
   },
   {
    "duration": 4,
    "start_time": "2021-11-13T08:20:15.957Z"
   },
   {
    "duration": 170,
    "start_time": "2021-11-13T08:20:15.963Z"
   },
   {
    "duration": 17,
    "start_time": "2021-11-13T08:20:16.135Z"
   },
   {
    "duration": 352,
    "start_time": "2021-11-13T08:20:16.153Z"
   },
   {
    "duration": 7,
    "start_time": "2021-11-13T08:20:16.507Z"
   },
   {
    "duration": 12,
    "start_time": "2021-11-13T08:20:16.515Z"
   },
   {
    "duration": 367,
    "start_time": "2021-11-13T08:20:16.529Z"
   },
   {
    "duration": 8,
    "start_time": "2021-11-13T08:20:16.898Z"
   },
   {
    "duration": 549,
    "start_time": "2021-11-13T08:20:16.908Z"
   },
   {
    "duration": 6,
    "start_time": "2021-11-13T08:20:17.459Z"
   },
   {
    "duration": 6,
    "start_time": "2021-11-13T08:20:17.467Z"
   },
   {
    "duration": 712,
    "start_time": "2021-11-13T08:20:17.475Z"
   },
   {
    "duration": 10,
    "start_time": "2021-11-13T08:20:18.189Z"
   },
   {
    "duration": 305,
    "start_time": "2021-11-13T08:20:18.201Z"
   },
   {
    "duration": 8,
    "start_time": "2021-11-13T08:20:18.508Z"
   },
   {
    "duration": 28,
    "start_time": "2021-11-13T08:20:18.518Z"
   },
   {
    "duration": 9,
    "start_time": "2021-11-13T08:20:18.547Z"
   },
   {
    "duration": 7,
    "start_time": "2021-11-13T08:20:18.558Z"
   },
   {
    "duration": 7,
    "start_time": "2021-11-13T08:20:18.566Z"
   },
   {
    "duration": 12,
    "start_time": "2021-11-13T08:20:18.574Z"
   },
   {
    "duration": 370,
    "start_time": "2021-11-13T08:20:18.587Z"
   },
   {
    "duration": 8,
    "start_time": "2021-11-13T08:20:18.958Z"
   },
   {
    "duration": 355,
    "start_time": "2021-11-13T08:20:18.967Z"
   },
   {
    "duration": 7,
    "start_time": "2021-11-13T08:20:19.324Z"
   },
   {
    "duration": 16,
    "start_time": "2021-11-13T08:20:19.332Z"
   },
   {
    "duration": 6,
    "start_time": "2021-11-13T08:20:19.350Z"
   },
   {
    "duration": 467,
    "start_time": "2021-11-13T08:20:19.358Z"
   },
   {
    "duration": 20,
    "start_time": "2021-11-13T08:20:19.826Z"
   },
   {
    "duration": 8,
    "start_time": "2021-11-13T08:20:19.848Z"
   },
   {
    "duration": 7,
    "start_time": "2021-11-13T08:20:19.858Z"
   },
   {
    "duration": 279,
    "start_time": "2021-11-13T08:20:19.867Z"
   },
   {
    "duration": 4,
    "start_time": "2021-11-13T08:20:20.148Z"
   },
   {
    "duration": 6,
    "start_time": "2021-11-13T08:20:20.153Z"
   },
   {
    "duration": 10,
    "start_time": "2021-11-13T08:20:20.161Z"
   },
   {
    "duration": 371,
    "start_time": "2021-11-13T08:20:20.173Z"
   },
   {
    "duration": 6,
    "start_time": "2021-11-13T08:20:20.546Z"
   },
   {
    "duration": 11,
    "start_time": "2021-11-13T08:20:20.553Z"
   },
   {
    "duration": 6,
    "start_time": "2021-11-13T08:20:20.566Z"
   },
   {
    "duration": 15,
    "start_time": "2021-11-13T08:20:20.574Z"
   },
   {
    "duration": 275,
    "start_time": "2021-11-13T08:20:20.591Z"
   },
   {
    "duration": 6,
    "start_time": "2021-11-13T08:20:20.868Z"
   },
   {
    "duration": 13,
    "start_time": "2021-11-13T08:20:20.876Z"
   },
   {
    "duration": 7,
    "start_time": "2021-11-13T08:20:20.891Z"
   },
   {
    "duration": 13,
    "start_time": "2021-11-13T08:20:20.900Z"
   },
   {
    "duration": 272,
    "start_time": "2021-11-13T08:20:20.915Z"
   },
   {
    "duration": 8,
    "start_time": "2021-11-13T08:20:21.191Z"
   },
   {
    "duration": 5,
    "start_time": "2021-11-13T08:20:21.201Z"
   },
   {
    "duration": 380,
    "start_time": "2021-11-13T08:20:21.207Z"
   },
   {
    "duration": 5,
    "start_time": "2021-11-13T08:20:21.588Z"
   },
   {
    "duration": 7,
    "start_time": "2021-11-13T08:20:21.594Z"
   },
   {
    "duration": 412,
    "start_time": "2021-11-13T08:20:21.603Z"
   },
   {
    "duration": 4,
    "start_time": "2021-11-13T08:20:22.017Z"
   },
   {
    "duration": 27,
    "start_time": "2021-11-13T08:20:22.023Z"
   },
   {
    "duration": 11,
    "start_time": "2021-11-13T08:20:22.052Z"
   },
   {
    "duration": 14,
    "start_time": "2021-11-13T08:20:22.065Z"
   },
   {
    "duration": 8,
    "start_time": "2021-11-13T08:20:22.081Z"
   },
   {
    "duration": 275,
    "start_time": "2021-11-13T08:20:22.091Z"
   },
   {
    "duration": 4,
    "start_time": "2021-11-13T08:20:22.368Z"
   },
   {
    "duration": 19,
    "start_time": "2021-11-13T08:20:22.373Z"
   },
   {
    "duration": 700,
    "start_time": "2021-11-13T08:20:22.394Z"
   },
   {
    "duration": 514,
    "start_time": "2021-11-13T08:20:23.095Z"
   },
   {
    "duration": 4,
    "start_time": "2021-11-13T08:20:23.611Z"
   },
   {
    "duration": 10,
    "start_time": "2021-11-13T08:20:23.617Z"
   },
   {
    "duration": 23,
    "start_time": "2021-11-13T08:20:23.628Z"
   },
   {
    "duration": 8,
    "start_time": "2021-11-13T08:20:23.653Z"
   },
   {
    "duration": 4,
    "start_time": "2021-11-13T08:43:19.124Z"
   },
   {
    "duration": 20,
    "start_time": "2021-11-13T08:45:01.560Z"
   },
   {
    "duration": 4,
    "start_time": "2021-11-13T08:45:56.858Z"
   },
   {
    "duration": 1263,
    "start_time": "2021-11-13T08:45:58.468Z"
   },
   {
    "duration": 4,
    "start_time": "2021-11-13T08:48:10.785Z"
   },
   {
    "duration": 73,
    "start_time": "2021-11-13T08:48:12.472Z"
   },
   {
    "duration": 5,
    "start_time": "2021-11-13T08:49:14.975Z"
   },
   {
    "duration": 386,
    "start_time": "2021-11-13T08:49:36.613Z"
   },
   {
    "duration": 5,
    "start_time": "2021-11-13T08:50:55.288Z"
   },
   {
    "duration": 135654,
    "start_time": "2021-11-13T08:51:13.329Z"
   },
   {
    "duration": 7,
    "start_time": "2021-11-13T09:10:39.914Z"
   },
   {
    "duration": 268,
    "start_time": "2021-11-13T09:29:33.160Z"
   },
   {
    "duration": 11,
    "start_time": "2021-11-13T09:30:34.670Z"
   },
   {
    "duration": 4,
    "start_time": "2021-11-13T10:03:18.065Z"
   },
   {
    "duration": 5,
    "start_time": "2021-11-13T10:08:35.621Z"
   },
   {
    "duration": 99,
    "start_time": "2021-11-13T10:08:36.846Z"
   },
   {
    "duration": 5,
    "start_time": "2021-11-13T10:12:16.451Z"
   },
   {
    "duration": 399,
    "start_time": "2021-11-13T10:12:20.487Z"
   },
   {
    "duration": 5,
    "start_time": "2021-11-13T10:13:26.377Z"
   },
   {
    "duration": 114,
    "start_time": "2021-11-13T10:13:28.139Z"
   },
   {
    "duration": 5,
    "start_time": "2021-11-13T10:13:48.664Z"
   },
   {
    "duration": 97,
    "start_time": "2021-11-13T10:13:52.352Z"
   },
   {
    "duration": 5,
    "start_time": "2021-11-13T10:15:14.442Z"
   },
   {
    "duration": 42,
    "start_time": "2021-11-13T10:15:15.004Z"
   },
   {
    "duration": 6,
    "start_time": "2021-11-13T10:15:28.117Z"
   },
   {
    "duration": 388,
    "start_time": "2021-11-13T10:15:31.179Z"
   },
   {
    "duration": 392,
    "start_time": "2021-11-13T10:15:41.579Z"
   },
   {
    "duration": 6,
    "start_time": "2021-11-13T10:17:12.957Z"
   },
   {
    "duration": 538,
    "start_time": "2021-11-13T10:17:15.407Z"
   },
   {
    "duration": 5,
    "start_time": "2021-11-13T10:17:31.670Z"
   },
   {
    "duration": 565,
    "start_time": "2021-11-13T10:17:33.907Z"
   },
   {
    "duration": 6,
    "start_time": "2021-11-13T10:18:25.539Z"
   },
   {
    "duration": 513,
    "start_time": "2021-11-13T10:18:28.208Z"
   },
   {
    "duration": 7,
    "start_time": "2021-11-13T10:18:43.008Z"
   },
   {
    "duration": 140470,
    "start_time": "2021-11-13T10:18:44.708Z"
   },
   {
    "duration": 4,
    "start_time": "2021-11-13T10:38:36.660Z"
   },
   {
    "duration": 6,
    "start_time": "2021-11-13T10:42:21.550Z"
   },
   {
    "duration": 116,
    "start_time": "2021-11-13T10:42:23.329Z"
   },
   {
    "duration": 6,
    "start_time": "2021-11-13T10:52:42.564Z"
   },
   {
    "duration": 555,
    "start_time": "2021-11-13T10:52:45.263Z"
   },
   {
    "duration": 6,
    "start_time": "2021-11-13T10:52:58.394Z"
   },
   {
    "duration": 484,
    "start_time": "2021-11-13T10:53:02.451Z"
   },
   {
    "duration": 4,
    "start_time": "2021-11-13T10:58:01.858Z"
   },
   {
    "duration": 57,
    "start_time": "2021-11-13T10:58:03.293Z"
   },
   {
    "duration": 6,
    "start_time": "2021-11-13T10:58:33.956Z"
   },
   {
    "duration": 385,
    "start_time": "2021-11-13T10:58:36.345Z"
   },
   {
    "duration": 5,
    "start_time": "2021-11-13T10:59:30.497Z"
   },
   {
    "duration": 408,
    "start_time": "2021-11-13T10:59:33.622Z"
   },
   {
    "duration": 7,
    "start_time": "2021-11-13T10:59:56.207Z"
   },
   {
    "duration": 6,
    "start_time": "2021-11-13T11:00:09.600Z"
   },
   {
    "duration": 144644,
    "start_time": "2021-11-13T11:00:12.260Z"
   },
   {
    "duration": 5,
    "start_time": "2021-11-13T11:18:46.621Z"
   },
   {
    "duration": 34,
    "start_time": "2021-11-13T11:18:48.811Z"
   },
   {
    "duration": 1193,
    "start_time": "2021-11-13T13:56:05.067Z"
   },
   {
    "duration": 30,
    "start_time": "2021-11-13T13:56:06.261Z"
   },
   {
    "duration": 28,
    "start_time": "2021-11-13T13:56:06.295Z"
   },
   {
    "duration": 17,
    "start_time": "2021-11-13T13:56:06.325Z"
   },
   {
    "duration": 3,
    "start_time": "2021-11-13T13:56:06.344Z"
   },
   {
    "duration": 18,
    "start_time": "2021-11-13T13:56:06.349Z"
   },
   {
    "duration": 13,
    "start_time": "2021-11-13T13:56:06.370Z"
   },
   {
    "duration": 14,
    "start_time": "2021-11-13T13:56:06.385Z"
   },
   {
    "duration": 17,
    "start_time": "2021-11-13T13:56:06.401Z"
   },
   {
    "duration": 12,
    "start_time": "2021-11-13T13:56:06.419Z"
   },
   {
    "duration": 13,
    "start_time": "2021-11-13T13:56:06.433Z"
   },
   {
    "duration": 9,
    "start_time": "2021-11-13T13:56:06.448Z"
   },
   {
    "duration": 7,
    "start_time": "2021-11-13T13:56:06.459Z"
   },
   {
    "duration": 6,
    "start_time": "2021-11-13T13:56:06.468Z"
   },
   {
    "duration": 19,
    "start_time": "2021-11-13T13:56:06.475Z"
   },
   {
    "duration": 15,
    "start_time": "2021-11-13T13:56:06.496Z"
   },
   {
    "duration": 295,
    "start_time": "2021-11-13T13:56:06.513Z"
   },
   {
    "duration": 4,
    "start_time": "2021-11-13T13:56:06.810Z"
   },
   {
    "duration": 11,
    "start_time": "2021-11-13T13:56:06.816Z"
   },
   {
    "duration": 392,
    "start_time": "2021-11-13T13:56:06.829Z"
   },
   {
    "duration": 6,
    "start_time": "2021-11-13T13:56:07.223Z"
   },
   {
    "duration": 18,
    "start_time": "2021-11-13T13:56:07.233Z"
   },
   {
    "duration": 6,
    "start_time": "2021-11-13T13:56:07.253Z"
   },
   {
    "duration": 159,
    "start_time": "2021-11-13T13:56:07.261Z"
   },
   {
    "duration": 9,
    "start_time": "2021-11-13T13:56:07.422Z"
   },
   {
    "duration": 357,
    "start_time": "2021-11-13T13:56:07.433Z"
   },
   {
    "duration": 6,
    "start_time": "2021-11-13T13:56:07.792Z"
   },
   {
    "duration": 12,
    "start_time": "2021-11-13T13:56:07.800Z"
   },
   {
    "duration": 360,
    "start_time": "2021-11-13T13:56:07.814Z"
   },
   {
    "duration": 8,
    "start_time": "2021-11-13T13:56:08.176Z"
   },
   {
    "duration": 418,
    "start_time": "2021-11-13T13:56:08.185Z"
   },
   {
    "duration": 5,
    "start_time": "2021-11-13T13:56:08.605Z"
   },
   {
    "duration": 8,
    "start_time": "2021-11-13T13:56:08.611Z"
   },
   {
    "duration": 690,
    "start_time": "2021-11-13T13:56:08.621Z"
   },
   {
    "duration": 8,
    "start_time": "2021-11-13T13:56:09.313Z"
   },
   {
    "duration": 297,
    "start_time": "2021-11-13T13:56:09.323Z"
   },
   {
    "duration": 7,
    "start_time": "2021-11-13T13:56:09.622Z"
   },
   {
    "duration": 22,
    "start_time": "2021-11-13T13:56:09.630Z"
   },
   {
    "duration": 10,
    "start_time": "2021-11-13T13:56:09.654Z"
   },
   {
    "duration": 10,
    "start_time": "2021-11-13T13:56:09.665Z"
   },
   {
    "duration": 6,
    "start_time": "2021-11-13T13:56:09.677Z"
   },
   {
    "duration": 6,
    "start_time": "2021-11-13T13:56:09.684Z"
   },
   {
    "duration": 376,
    "start_time": "2021-11-13T13:56:09.692Z"
   },
   {
    "duration": 8,
    "start_time": "2021-11-13T13:56:10.070Z"
   },
   {
    "duration": 346,
    "start_time": "2021-11-13T13:56:10.079Z"
   },
   {
    "duration": 18,
    "start_time": "2021-11-13T13:56:10.427Z"
   },
   {
    "duration": 4,
    "start_time": "2021-11-13T13:56:10.447Z"
   },
   {
    "duration": 8,
    "start_time": "2021-11-13T13:56:10.452Z"
   },
   {
    "duration": 384,
    "start_time": "2021-11-13T13:56:10.462Z"
   },
   {
    "duration": 9,
    "start_time": "2021-11-13T13:56:10.848Z"
   },
   {
    "duration": 10,
    "start_time": "2021-11-13T13:56:10.858Z"
   },
   {
    "duration": 7,
    "start_time": "2021-11-13T13:56:10.870Z"
   },
   {
    "duration": 266,
    "start_time": "2021-11-13T13:56:10.878Z"
   },
   {
    "duration": 4,
    "start_time": "2021-11-13T13:56:11.146Z"
   },
   {
    "duration": 9,
    "start_time": "2021-11-13T13:56:11.152Z"
   },
   {
    "duration": 10,
    "start_time": "2021-11-13T13:56:11.162Z"
   },
   {
    "duration": 346,
    "start_time": "2021-11-13T13:56:11.174Z"
   },
   {
    "duration": 6,
    "start_time": "2021-11-13T13:56:11.522Z"
   },
   {
    "duration": 16,
    "start_time": "2021-11-13T13:56:11.530Z"
   },
   {
    "duration": 4,
    "start_time": "2021-11-13T13:56:11.547Z"
   },
   {
    "duration": 14,
    "start_time": "2021-11-13T13:56:11.553Z"
   },
   {
    "duration": 295,
    "start_time": "2021-11-13T13:56:11.569Z"
   },
   {
    "duration": 6,
    "start_time": "2021-11-13T13:56:11.866Z"
   },
   {
    "duration": 8,
    "start_time": "2021-11-13T13:56:11.873Z"
   },
   {
    "duration": 12,
    "start_time": "2021-11-13T13:56:11.882Z"
   },
   {
    "duration": 15,
    "start_time": "2021-11-13T13:56:11.896Z"
   },
   {
    "duration": 309,
    "start_time": "2021-11-13T13:56:11.917Z"
   },
   {
    "duration": 18,
    "start_time": "2021-11-13T13:56:12.229Z"
   },
   {
    "duration": 5,
    "start_time": "2021-11-13T13:56:12.249Z"
   },
   {
    "duration": 388,
    "start_time": "2021-11-13T13:56:12.256Z"
   },
   {
    "duration": 5,
    "start_time": "2021-11-13T13:56:12.646Z"
   },
   {
    "duration": 9,
    "start_time": "2021-11-13T13:56:12.653Z"
   },
   {
    "duration": 395,
    "start_time": "2021-11-13T13:56:12.663Z"
   },
   {
    "duration": 4,
    "start_time": "2021-11-13T13:56:13.060Z"
   },
   {
    "duration": 13,
    "start_time": "2021-11-13T13:56:13.066Z"
   },
   {
    "duration": 16,
    "start_time": "2021-11-13T13:56:13.081Z"
   },
   {
    "duration": 19,
    "start_time": "2021-11-13T13:56:13.099Z"
   },
   {
    "duration": 6,
    "start_time": "2021-11-13T13:56:13.119Z"
   },
   {
    "duration": 249,
    "start_time": "2021-11-13T13:56:13.127Z"
   },
   {
    "duration": 5,
    "start_time": "2021-11-13T13:56:13.377Z"
   },
   {
    "duration": 9,
    "start_time": "2021-11-13T13:56:13.383Z"
   },
   {
    "duration": 662,
    "start_time": "2021-11-13T13:56:13.393Z"
   },
   {
    "duration": 585,
    "start_time": "2021-11-13T13:56:14.057Z"
   },
   {
    "duration": 4,
    "start_time": "2021-11-13T13:56:14.644Z"
   },
   {
    "duration": 17,
    "start_time": "2021-11-13T13:56:14.650Z"
   },
   {
    "duration": 14,
    "start_time": "2021-11-13T13:56:14.668Z"
   },
   {
    "duration": 15,
    "start_time": "2021-11-13T13:56:14.684Z"
   },
   {
    "duration": 8,
    "start_time": "2021-11-13T13:56:14.701Z"
   },
   {
    "duration": 138,
    "start_time": "2021-11-13T13:56:14.710Z"
   },
   {
    "duration": 178,
    "start_time": "2021-11-13T13:56:14.850Z"
   },
   {
    "duration": 468,
    "start_time": "2021-11-13T13:56:15.030Z"
   },
   {
    "duration": 6,
    "start_time": "2021-11-13T13:56:15.500Z"
   },
   {
    "duration": 143987,
    "start_time": "2021-11-13T13:56:15.507Z"
   },
   {
    "duration": 7,
    "start_time": "2021-11-13T13:58:39.496Z"
   },
   {
    "duration": 5,
    "start_time": "2021-11-13T13:58:39.505Z"
   },
   {
    "duration": 133,
    "start_time": "2021-11-13T13:58:39.512Z"
   },
   {
    "duration": 31,
    "start_time": "2021-11-13T14:06:20.624Z"
   },
   {
    "duration": 1333,
    "start_time": "2021-11-13T14:08:49.134Z"
   },
   {
    "duration": 30,
    "start_time": "2021-11-13T14:08:50.469Z"
   },
   {
    "duration": 15,
    "start_time": "2021-11-13T14:08:50.501Z"
   },
   {
    "duration": 8,
    "start_time": "2021-11-13T14:08:50.518Z"
   },
   {
    "duration": 21,
    "start_time": "2021-11-13T14:08:50.528Z"
   },
   {
    "duration": 12,
    "start_time": "2021-11-13T14:08:50.552Z"
   },
   {
    "duration": 25,
    "start_time": "2021-11-13T14:08:50.566Z"
   },
   {
    "duration": 14,
    "start_time": "2021-11-13T14:08:50.593Z"
   },
   {
    "duration": 12,
    "start_time": "2021-11-13T14:08:50.609Z"
   },
   {
    "duration": 6,
    "start_time": "2021-11-13T14:08:50.623Z"
   },
   {
    "duration": 8,
    "start_time": "2021-11-13T14:08:50.631Z"
   },
   {
    "duration": 7,
    "start_time": "2021-11-13T14:08:50.641Z"
   },
   {
    "duration": 9,
    "start_time": "2021-11-13T14:08:50.650Z"
   },
   {
    "duration": 7,
    "start_time": "2021-11-13T14:08:50.661Z"
   },
   {
    "duration": 10,
    "start_time": "2021-11-13T14:08:50.669Z"
   },
   {
    "duration": 10,
    "start_time": "2021-11-13T14:08:50.681Z"
   },
   {
    "duration": 309,
    "start_time": "2021-11-13T14:08:50.692Z"
   },
   {
    "duration": 4,
    "start_time": "2021-11-13T14:08:51.003Z"
   },
   {
    "duration": 20,
    "start_time": "2021-11-13T14:08:51.009Z"
   },
   {
    "duration": 417,
    "start_time": "2021-11-13T14:08:51.031Z"
   },
   {
    "duration": 7,
    "start_time": "2021-11-13T14:08:51.451Z"
   },
   {
    "duration": 28,
    "start_time": "2021-11-13T14:08:51.460Z"
   },
   {
    "duration": 6,
    "start_time": "2021-11-13T14:08:51.492Z"
   },
   {
    "duration": 159,
    "start_time": "2021-11-13T14:08:51.501Z"
   },
   {
    "duration": 11,
    "start_time": "2021-11-13T14:08:51.662Z"
   },
   {
    "duration": 363,
    "start_time": "2021-11-13T14:08:51.674Z"
   },
   {
    "duration": 9,
    "start_time": "2021-11-13T14:08:52.039Z"
   },
   {
    "duration": 23,
    "start_time": "2021-11-13T14:08:52.049Z"
   },
   {
    "duration": 373,
    "start_time": "2021-11-13T14:08:52.074Z"
   },
   {
    "duration": 9,
    "start_time": "2021-11-13T14:08:52.449Z"
   },
   {
    "duration": 433,
    "start_time": "2021-11-13T14:08:52.459Z"
   },
   {
    "duration": 4,
    "start_time": "2021-11-13T14:08:52.894Z"
   },
   {
    "duration": 24,
    "start_time": "2021-11-13T14:08:52.899Z"
   },
   {
    "duration": 706,
    "start_time": "2021-11-13T14:08:52.924Z"
   },
   {
    "duration": 13,
    "start_time": "2021-11-13T14:08:53.632Z"
   },
   {
    "duration": 315,
    "start_time": "2021-11-13T14:08:53.647Z"
   },
   {
    "duration": 7,
    "start_time": "2021-11-13T14:08:53.964Z"
   },
   {
    "duration": 17,
    "start_time": "2021-11-13T14:08:53.973Z"
   },
   {
    "duration": 10,
    "start_time": "2021-11-13T14:08:53.992Z"
   },
   {
    "duration": 16,
    "start_time": "2021-11-13T14:08:54.004Z"
   },
   {
    "duration": 14,
    "start_time": "2021-11-13T14:08:54.021Z"
   },
   {
    "duration": 20,
    "start_time": "2021-11-13T14:08:54.036Z"
   },
   {
    "duration": 378,
    "start_time": "2021-11-13T14:08:54.057Z"
   },
   {
    "duration": 13,
    "start_time": "2021-11-13T14:08:54.437Z"
   },
   {
    "duration": 362,
    "start_time": "2021-11-13T14:08:54.451Z"
   },
   {
    "duration": 7,
    "start_time": "2021-11-13T14:08:54.815Z"
   },
   {
    "duration": 17,
    "start_time": "2021-11-13T14:08:54.824Z"
   },
   {
    "duration": 10,
    "start_time": "2021-11-13T14:08:54.844Z"
   },
   {
    "duration": 406,
    "start_time": "2021-11-13T14:08:54.855Z"
   },
   {
    "duration": 11,
    "start_time": "2021-11-13T14:08:55.263Z"
   },
   {
    "duration": 13,
    "start_time": "2021-11-13T14:08:55.276Z"
   },
   {
    "duration": 10,
    "start_time": "2021-11-13T14:08:55.291Z"
   },
   {
    "duration": 275,
    "start_time": "2021-11-13T14:08:55.302Z"
   },
   {
    "duration": 5,
    "start_time": "2021-11-13T14:08:55.579Z"
   },
   {
    "duration": 5,
    "start_time": "2021-11-13T14:08:55.586Z"
   },
   {
    "duration": 14,
    "start_time": "2021-11-13T14:08:55.592Z"
   },
   {
    "duration": 373,
    "start_time": "2021-11-13T14:08:55.608Z"
   },
   {
    "duration": 6,
    "start_time": "2021-11-13T14:08:55.983Z"
   },
   {
    "duration": 18,
    "start_time": "2021-11-13T14:08:55.991Z"
   },
   {
    "duration": 25,
    "start_time": "2021-11-13T14:08:56.011Z"
   },
   {
    "duration": 16,
    "start_time": "2021-11-13T14:08:56.038Z"
   },
   {
    "duration": 282,
    "start_time": "2021-11-13T14:08:56.056Z"
   },
   {
    "duration": 9,
    "start_time": "2021-11-13T14:08:56.340Z"
   },
   {
    "duration": 29,
    "start_time": "2021-11-13T14:08:56.350Z"
   },
   {
    "duration": 15,
    "start_time": "2021-11-13T14:08:56.381Z"
   },
   {
    "duration": 22,
    "start_time": "2021-11-13T14:08:56.397Z"
   },
   {
    "duration": 277,
    "start_time": "2021-11-13T14:08:56.421Z"
   },
   {
    "duration": 9,
    "start_time": "2021-11-13T14:08:56.703Z"
   },
   {
    "duration": 6,
    "start_time": "2021-11-13T14:08:56.715Z"
   },
   {
    "duration": 391,
    "start_time": "2021-11-13T14:08:56.723Z"
   },
   {
    "duration": 4,
    "start_time": "2021-11-13T14:08:57.116Z"
   },
   {
    "duration": 26,
    "start_time": "2021-11-13T14:08:57.122Z"
   },
   {
    "duration": 408,
    "start_time": "2021-11-13T14:08:57.150Z"
   },
   {
    "duration": 4,
    "start_time": "2021-11-13T14:08:57.560Z"
   },
   {
    "duration": 19,
    "start_time": "2021-11-13T14:08:57.566Z"
   },
   {
    "duration": 37,
    "start_time": "2021-11-13T14:08:57.586Z"
   },
   {
    "duration": 15,
    "start_time": "2021-11-13T14:08:57.625Z"
   },
   {
    "duration": 36,
    "start_time": "2021-11-13T14:08:57.642Z"
   },
   {
    "duration": 259,
    "start_time": "2021-11-13T14:08:57.680Z"
   },
   {
    "duration": 5,
    "start_time": "2021-11-13T14:08:57.941Z"
   },
   {
    "duration": 32,
    "start_time": "2021-11-13T14:08:57.948Z"
   },
   {
    "duration": 699,
    "start_time": "2021-11-13T14:08:57.982Z"
   },
   {
    "duration": 529,
    "start_time": "2021-11-13T14:08:58.683Z"
   },
   {
    "duration": 4,
    "start_time": "2021-11-13T14:08:59.213Z"
   },
   {
    "duration": 19,
    "start_time": "2021-11-13T14:08:59.219Z"
   },
   {
    "duration": 23,
    "start_time": "2021-11-13T14:08:59.244Z"
   },
   {
    "duration": 38,
    "start_time": "2021-11-13T14:08:59.269Z"
   },
   {
    "duration": 14,
    "start_time": "2021-11-13T14:08:59.309Z"
   },
   {
    "duration": 129,
    "start_time": "2021-11-13T14:08:59.325Z"
   },
   {
    "duration": 101,
    "start_time": "2021-11-13T14:08:59.545Z"
   },
   {
    "duration": 449,
    "start_time": "2021-11-13T14:08:59.648Z"
   },
   {
    "duration": 7,
    "start_time": "2021-11-13T14:09:00.099Z"
   },
   {
    "duration": 68235,
    "start_time": "2021-11-13T14:09:00.109Z"
   },
   {
    "duration": 6,
    "start_time": "2021-11-13T14:10:08.346Z"
   },
   {
    "duration": 12,
    "start_time": "2021-11-13T14:10:08.354Z"
   },
   {
    "duration": 105,
    "start_time": "2021-11-13T14:10:08.368Z"
   },
   {
    "duration": 627,
    "start_time": "2021-11-13T14:10:08.545Z"
   },
   {
    "duration": 5,
    "start_time": "2021-11-13T14:15:17.414Z"
   },
   {
    "duration": 20,
    "start_time": "2021-11-13T14:15:18.188Z"
   },
   {
    "duration": 4,
    "start_time": "2021-11-13T14:15:46.380Z"
   },
   {
    "duration": 269,
    "start_time": "2021-11-13T14:15:47.188Z"
   },
   {
    "duration": 6,
    "start_time": "2021-11-13T14:15:55.013Z"
   },
   {
    "duration": 25,
    "start_time": "2021-11-13T14:15:55.926Z"
   },
   {
    "duration": 5,
    "start_time": "2021-11-13T14:16:09.380Z"
   },
   {
    "duration": 68,
    "start_time": "2021-11-13T14:16:10.277Z"
   },
   {
    "duration": 6,
    "start_time": "2021-11-13T14:19:39.598Z"
   },
   {
    "duration": 409,
    "start_time": "2021-11-13T14:19:44.169Z"
   },
   {
    "duration": 412,
    "start_time": "2021-11-13T14:19:57.891Z"
   },
   {
    "duration": 1162,
    "start_time": "2021-11-13T14:25:03.296Z"
   },
   {
    "duration": 30,
    "start_time": "2021-11-13T14:25:04.462Z"
   },
   {
    "duration": 15,
    "start_time": "2021-11-13T14:25:04.493Z"
   },
   {
    "duration": 29,
    "start_time": "2021-11-13T14:25:04.509Z"
   },
   {
    "duration": 22,
    "start_time": "2021-11-13T14:25:04.540Z"
   },
   {
    "duration": 41,
    "start_time": "2021-11-13T14:25:04.564Z"
   },
   {
    "duration": 13,
    "start_time": "2021-11-13T14:25:04.608Z"
   },
   {
    "duration": 14,
    "start_time": "2021-11-13T14:25:04.623Z"
   },
   {
    "duration": 9,
    "start_time": "2021-11-13T14:25:04.639Z"
   },
   {
    "duration": 16,
    "start_time": "2021-11-13T14:25:04.650Z"
   },
   {
    "duration": 18,
    "start_time": "2021-11-13T14:25:04.668Z"
   },
   {
    "duration": 19,
    "start_time": "2021-11-13T14:25:04.688Z"
   },
   {
    "duration": 22,
    "start_time": "2021-11-13T14:25:04.708Z"
   },
   {
    "duration": 16,
    "start_time": "2021-11-13T14:25:04.732Z"
   },
   {
    "duration": 25,
    "start_time": "2021-11-13T14:25:04.750Z"
   },
   {
    "duration": 29,
    "start_time": "2021-11-13T14:25:04.776Z"
   },
   {
    "duration": 286,
    "start_time": "2021-11-13T14:25:04.807Z"
   },
   {
    "duration": 5,
    "start_time": "2021-11-13T14:25:05.095Z"
   },
   {
    "duration": 7,
    "start_time": "2021-11-13T14:25:05.102Z"
   },
   {
    "duration": 406,
    "start_time": "2021-11-13T14:25:05.111Z"
   },
   {
    "duration": 7,
    "start_time": "2021-11-13T14:25:05.519Z"
   },
   {
    "duration": 30,
    "start_time": "2021-11-13T14:25:05.529Z"
   },
   {
    "duration": 24,
    "start_time": "2021-11-13T14:25:05.562Z"
   },
   {
    "duration": 169,
    "start_time": "2021-11-13T14:25:05.588Z"
   },
   {
    "duration": 11,
    "start_time": "2021-11-13T14:25:05.759Z"
   },
   {
    "duration": 359,
    "start_time": "2021-11-13T14:25:05.772Z"
   },
   {
    "duration": 12,
    "start_time": "2021-11-13T14:25:06.133Z"
   },
   {
    "duration": 17,
    "start_time": "2021-11-13T14:25:06.147Z"
   },
   {
    "duration": 358,
    "start_time": "2021-11-13T14:25:06.166Z"
   },
   {
    "duration": 8,
    "start_time": "2021-11-13T14:25:06.525Z"
   },
   {
    "duration": 417,
    "start_time": "2021-11-13T14:25:06.535Z"
   },
   {
    "duration": 4,
    "start_time": "2021-11-13T14:25:06.954Z"
   },
   {
    "duration": 8,
    "start_time": "2021-11-13T14:25:06.960Z"
   },
   {
    "duration": 662,
    "start_time": "2021-11-13T14:25:06.970Z"
   },
   {
    "duration": 13,
    "start_time": "2021-11-13T14:25:07.634Z"
   },
   {
    "duration": 298,
    "start_time": "2021-11-13T14:25:07.648Z"
   },
   {
    "duration": 6,
    "start_time": "2021-11-13T14:25:07.948Z"
   },
   {
    "duration": 12,
    "start_time": "2021-11-13T14:25:07.955Z"
   },
   {
    "duration": 9,
    "start_time": "2021-11-13T14:25:07.969Z"
   },
   {
    "duration": 5,
    "start_time": "2021-11-13T14:25:07.980Z"
   },
   {
    "duration": 7,
    "start_time": "2021-11-13T14:25:07.986Z"
   },
   {
    "duration": 5,
    "start_time": "2021-11-13T14:25:07.995Z"
   },
   {
    "duration": 375,
    "start_time": "2021-11-13T14:25:08.002Z"
   },
   {
    "duration": 7,
    "start_time": "2021-11-13T14:25:08.378Z"
   },
   {
    "duration": 339,
    "start_time": "2021-11-13T14:25:08.387Z"
   },
   {
    "duration": 7,
    "start_time": "2021-11-13T14:25:08.728Z"
   },
   {
    "duration": 4,
    "start_time": "2021-11-13T14:25:08.745Z"
   },
   {
    "duration": 6,
    "start_time": "2021-11-13T14:25:08.751Z"
   },
   {
    "duration": 412,
    "start_time": "2021-11-13T14:25:08.759Z"
   },
   {
    "duration": 10,
    "start_time": "2021-11-13T14:25:09.173Z"
   },
   {
    "duration": 11,
    "start_time": "2021-11-13T14:25:09.184Z"
   },
   {
    "duration": 7,
    "start_time": "2021-11-13T14:25:09.197Z"
   },
   {
    "duration": 290,
    "start_time": "2021-11-13T14:25:09.206Z"
   },
   {
    "duration": 4,
    "start_time": "2021-11-13T14:25:09.498Z"
   },
   {
    "duration": 11,
    "start_time": "2021-11-13T14:25:09.503Z"
   },
   {
    "duration": 13,
    "start_time": "2021-11-13T14:25:09.516Z"
   },
   {
    "duration": 358,
    "start_time": "2021-11-13T14:25:09.530Z"
   },
   {
    "duration": 6,
    "start_time": "2021-11-13T14:25:09.889Z"
   },
   {
    "duration": 8,
    "start_time": "2021-11-13T14:25:09.897Z"
   },
   {
    "duration": 7,
    "start_time": "2021-11-13T14:25:09.906Z"
   },
   {
    "duration": 35,
    "start_time": "2021-11-13T14:25:09.915Z"
   },
   {
    "duration": 304,
    "start_time": "2021-11-13T14:25:09.952Z"
   },
   {
    "duration": 8,
    "start_time": "2021-11-13T14:25:10.259Z"
   },
   {
    "duration": 11,
    "start_time": "2021-11-13T14:25:10.269Z"
   },
   {
    "duration": 5,
    "start_time": "2021-11-13T14:25:10.282Z"
   },
   {
    "duration": 12,
    "start_time": "2021-11-13T14:25:10.289Z"
   },
   {
    "duration": 286,
    "start_time": "2021-11-13T14:25:10.306Z"
   },
   {
    "duration": 8,
    "start_time": "2021-11-13T14:25:10.594Z"
   },
   {
    "duration": 9,
    "start_time": "2021-11-13T14:25:10.604Z"
   },
   {
    "duration": 370,
    "start_time": "2021-11-13T14:25:10.614Z"
   },
   {
    "duration": 4,
    "start_time": "2021-11-13T14:25:10.985Z"
   },
   {
    "duration": 8,
    "start_time": "2021-11-13T14:25:10.991Z"
   },
   {
    "duration": 375,
    "start_time": "2021-11-13T14:25:11.001Z"
   },
   {
    "duration": 3,
    "start_time": "2021-11-13T14:25:11.378Z"
   },
   {
    "duration": 18,
    "start_time": "2021-11-13T14:25:11.383Z"
   },
   {
    "duration": 14,
    "start_time": "2021-11-13T14:25:11.403Z"
   },
   {
    "duration": 12,
    "start_time": "2021-11-13T14:25:11.419Z"
   },
   {
    "duration": 8,
    "start_time": "2021-11-13T14:25:11.444Z"
   },
   {
    "duration": 248,
    "start_time": "2021-11-13T14:25:11.453Z"
   },
   {
    "duration": 4,
    "start_time": "2021-11-13T14:25:11.703Z"
   },
   {
    "duration": 16,
    "start_time": "2021-11-13T14:25:11.709Z"
   },
   {
    "duration": 683,
    "start_time": "2021-11-13T14:25:11.727Z"
   },
   {
    "duration": 503,
    "start_time": "2021-11-13T14:25:12.412Z"
   },
   {
    "duration": 4,
    "start_time": "2021-11-13T14:25:12.917Z"
   },
   {
    "duration": 21,
    "start_time": "2021-11-13T14:25:12.923Z"
   },
   {
    "duration": 24,
    "start_time": "2021-11-13T14:25:12.946Z"
   },
   {
    "duration": 27,
    "start_time": "2021-11-13T14:25:12.972Z"
   },
   {
    "duration": 8,
    "start_time": "2021-11-13T14:25:13.001Z"
   },
   {
    "duration": 304,
    "start_time": "2021-11-13T14:25:13.011Z"
   },
   {
    "duration": 6,
    "start_time": "2021-11-13T14:25:13.317Z"
   },
   {
    "duration": 551,
    "start_time": "2021-11-13T14:25:13.324Z"
   },
   {
    "duration": 6,
    "start_time": "2021-11-13T14:25:13.877Z"
   },
   {
    "duration": 64655,
    "start_time": "2021-11-13T14:25:13.884Z"
   },
   {
    "duration": 6,
    "start_time": "2021-11-13T14:26:18.545Z"
   },
   {
    "duration": 22,
    "start_time": "2021-11-13T14:26:18.553Z"
   },
   {
    "duration": 550,
    "start_time": "2021-11-13T14:26:18.576Z"
   },
   {
    "duration": 64178,
    "start_time": "2021-11-13T14:26:19.127Z"
   },
   {
    "duration": 6,
    "start_time": "2021-11-13T14:42:20.131Z"
   },
   {
    "duration": 646,
    "start_time": "2021-11-13T14:42:23.201Z"
   },
   {
    "duration": 6,
    "start_time": "2021-11-13T14:43:01.853Z"
   },
   {
    "duration": 418,
    "start_time": "2021-11-13T14:43:04.600Z"
   },
   {
    "duration": 6,
    "start_time": "2021-11-13T14:43:21.952Z"
   },
   {
    "duration": 1246,
    "start_time": "2021-11-13T14:43:23.476Z"
   },
   {
    "duration": 2634,
    "start_time": "2021-11-13T14:43:46.569Z"
   },
   {
    "duration": 5,
    "start_time": "2021-11-13T15:02:23.565Z"
   },
   {
    "duration": 153,
    "start_time": "2021-11-13T15:02:30.527Z"
   },
   {
    "duration": 422,
    "start_time": "2021-11-13T15:02:47.902Z"
   },
   {
    "duration": 693,
    "start_time": "2021-11-13T15:02:54.482Z"
   },
   {
    "duration": 5,
    "start_time": "2021-11-13T15:03:12.006Z"
   },
   {
    "duration": 46,
    "start_time": "2021-11-13T15:03:15.003Z"
   },
   {
    "duration": 6,
    "start_time": "2021-11-13T15:04:13.728Z"
   },
   {
    "duration": 706,
    "start_time": "2021-11-13T15:04:16.353Z"
   },
   {
    "duration": 6,
    "start_time": "2021-11-13T15:07:04.889Z"
   },
   {
    "duration": 703,
    "start_time": "2021-11-13T15:07:07.331Z"
   },
   {
    "duration": 149,
    "start_time": "2021-11-13T15:07:21.819Z"
   },
   {
    "duration": 690,
    "start_time": "2021-11-13T15:07:32.868Z"
   },
   {
    "duration": 1819,
    "start_time": "2021-11-13T15:07:48.073Z"
   },
   {
    "duration": 6,
    "start_time": "2021-11-13T15:11:57.015Z"
   },
   {
    "duration": 1773,
    "start_time": "2021-11-13T15:11:59.401Z"
   },
   {
    "duration": 6,
    "start_time": "2021-11-13T15:14:24.290Z"
   },
   {
    "duration": 1854,
    "start_time": "2021-11-13T15:14:25.941Z"
   },
   {
    "duration": 6,
    "start_time": "2021-11-13T15:14:54.642Z"
   },
   {
    "duration": 1884,
    "start_time": "2021-11-13T15:14:57.021Z"
   },
   {
    "duration": 455,
    "start_time": "2021-11-13T15:16:56.738Z"
   },
   {
    "duration": 423,
    "start_time": "2021-11-13T15:17:14.094Z"
   },
   {
    "duration": 6,
    "start_time": "2021-11-13T15:17:20.619Z"
   },
   {
    "duration": 418,
    "start_time": "2021-11-13T15:17:22.845Z"
   },
   {
    "duration": 29,
    "start_time": "2021-11-13T15:17:31.556Z"
   },
   {
    "duration": 429,
    "start_time": "2021-11-13T15:17:43.670Z"
   },
   {
    "duration": 7,
    "start_time": "2021-11-13T15:18:28.459Z"
   },
   {
    "duration": 427,
    "start_time": "2021-11-13T15:18:30.457Z"
   },
   {
    "duration": 7,
    "start_time": "2021-11-13T15:21:11.673Z"
   },
   {
    "duration": 63356,
    "start_time": "2021-11-13T15:21:15.141Z"
   },
   {
    "duration": 7,
    "start_time": "2021-11-13T15:24:06.778Z"
   },
   {
    "duration": 466,
    "start_time": "2021-11-13T15:24:08.603Z"
   },
   {
    "duration": 6,
    "start_time": "2021-11-13T15:24:59.981Z"
   },
   {
    "duration": 478,
    "start_time": "2021-11-13T15:25:02.378Z"
   },
   {
    "duration": 6,
    "start_time": "2021-11-13T15:25:40.280Z"
   },
   {
    "duration": 437,
    "start_time": "2021-11-13T15:25:42.795Z"
   },
   {
    "duration": 24,
    "start_time": "2021-11-13T15:33:18.451Z"
   },
   {
    "duration": 430,
    "start_time": "2021-11-13T15:33:41.752Z"
   },
   {
    "duration": 64290,
    "start_time": "2021-11-13T15:34:02.939Z"
   },
   {
    "duration": 4,
    "start_time": "2021-11-13T16:19:46.059Z"
   },
   {
    "duration": 4,
    "start_time": "2021-11-13T16:27:30.782Z"
   },
   {
    "duration": 596,
    "start_time": "2021-11-13T16:29:10.570Z"
   },
   {
    "duration": 561,
    "start_time": "2021-11-13T16:46:03.668Z"
   },
   {
    "duration": 4,
    "start_time": "2021-11-13T16:50:36.861Z"
   },
   {
    "duration": 4,
    "start_time": "2021-11-13T16:50:44.599Z"
   },
   {
    "duration": 737,
    "start_time": "2021-11-13T16:50:46.671Z"
   },
   {
    "duration": 21,
    "start_time": "2021-11-13T16:51:47.402Z"
   },
   {
    "duration": 5,
    "start_time": "2021-11-13T16:51:55.486Z"
   },
   {
    "duration": 15,
    "start_time": "2021-11-13T16:51:57.101Z"
   },
   {
    "duration": 3,
    "start_time": "2021-11-13T16:52:58.304Z"
   },
   {
    "duration": 278,
    "start_time": "2021-11-13T16:53:09.128Z"
   },
   {
    "duration": 6,
    "start_time": "2021-11-13T16:53:19.512Z"
   },
   {
    "duration": 294,
    "start_time": "2021-11-13T16:53:36.951Z"
   },
   {
    "duration": 3,
    "start_time": "2021-11-13T16:53:39.650Z"
   },
   {
    "duration": 4,
    "start_time": "2021-11-13T16:54:15.065Z"
   },
   {
    "duration": 4,
    "start_time": "2021-11-13T16:54:32.764Z"
   },
   {
    "duration": 651,
    "start_time": "2021-11-13T16:57:14.805Z"
   },
   {
    "duration": 559,
    "start_time": "2021-11-13T16:59:45.658Z"
   },
   {
    "duration": 4,
    "start_time": "2021-11-13T17:00:19.859Z"
   },
   {
    "duration": 9,
    "start_time": "2021-11-13T17:00:21.583Z"
   },
   {
    "duration": 5,
    "start_time": "2021-11-13T17:02:19.924Z"
   },
   {
    "duration": 9,
    "start_time": "2021-11-13T17:02:21.722Z"
   },
   {
    "duration": 6,
    "start_time": "2021-11-13T17:03:34.075Z"
   },
   {
    "duration": 13,
    "start_time": "2021-11-13T17:03:35.749Z"
   },
   {
    "duration": 11,
    "start_time": "2021-11-13T17:04:43.352Z"
   },
   {
    "duration": 7,
    "start_time": "2021-11-13T17:04:51.801Z"
   },
   {
    "duration": 7,
    "start_time": "2021-11-13T17:04:54.168Z"
   },
   {
    "duration": 7,
    "start_time": "2021-11-13T17:05:08.088Z"
   },
   {
    "duration": 4,
    "start_time": "2021-11-13T17:05:49.502Z"
   },
   {
    "duration": 4,
    "start_time": "2021-11-13T17:06:21.902Z"
   },
   {
    "duration": 35,
    "start_time": "2021-11-13T17:07:31.705Z"
   },
   {
    "duration": 778,
    "start_time": "2021-11-13T17:07:45.393Z"
   },
   {
    "duration": 124721,
    "start_time": "2021-11-13T17:07:53.801Z"
   },
   {
    "duration": 115,
    "start_time": "2021-11-13T17:10:47.033Z"
   },
   {
    "duration": 811,
    "start_time": "2021-11-13T17:10:49.645Z"
   },
   {
    "duration": 121340,
    "start_time": "2021-11-13T17:10:53.759Z"
   },
   {
    "duration": 7,
    "start_time": "2021-11-13T17:41:06.747Z"
   },
   {
    "duration": 590,
    "start_time": "2021-11-13T17:41:07.508Z"
   },
   {
    "duration": 5,
    "start_time": "2021-11-13T17:41:28.348Z"
   },
   {
    "duration": 62,
    "start_time": "2021-11-13T17:41:30.012Z"
   },
   {
    "duration": 6,
    "start_time": "2021-11-13T17:43:17.937Z"
   },
   {
    "duration": 642,
    "start_time": "2021-11-13T17:43:55.065Z"
   },
   {
    "duration": 5,
    "start_time": "2021-11-13T17:44:06.963Z"
   },
   {
    "duration": 86,
    "start_time": "2021-11-13T17:44:11.262Z"
   },
   {
    "duration": 6,
    "start_time": "2021-11-13T17:44:31.751Z"
   },
   {
    "duration": 58,
    "start_time": "2021-11-13T17:44:34.800Z"
   },
   {
    "duration": 22,
    "start_time": "2021-11-13T17:44:55.513Z"
   },
   {
    "duration": 4,
    "start_time": "2021-11-13T17:45:02.638Z"
   },
   {
    "duration": 284,
    "start_time": "2021-11-13T17:48:08.755Z"
   },
   {
    "duration": 292,
    "start_time": "2021-11-13T17:48:17.080Z"
   },
   {
    "duration": 6,
    "start_time": "2021-11-13T17:48:23.167Z"
   },
   {
    "duration": 11,
    "start_time": "2021-11-13T17:48:34.443Z"
   },
   {
    "duration": 341,
    "start_time": "2021-11-13T17:49:29.019Z"
   },
   {
    "duration": 7062,
    "start_time": "2021-11-13T17:50:12.133Z"
   },
   {
    "duration": 6,
    "start_time": "2021-11-13T17:51:31.622Z"
   },
   {
    "duration": 10,
    "start_time": "2021-11-13T17:51:34.755Z"
   },
   {
    "duration": 22,
    "start_time": "2021-11-13T17:51:46.947Z"
   },
   {
    "duration": 61,
    "start_time": "2021-11-13T17:51:56.097Z"
   },
   {
    "duration": 302,
    "start_time": "2021-11-13T17:52:46.180Z"
   },
   {
    "duration": 9,
    "start_time": "2021-11-13T17:52:53.598Z"
   },
   {
    "duration": 99,
    "start_time": "2021-11-13T17:52:55.462Z"
   },
   {
    "duration": 9,
    "start_time": "2021-11-13T17:54:11.559Z"
   },
   {
    "duration": 5,
    "start_time": "2021-11-13T17:54:47.589Z"
   },
   {
    "duration": 10,
    "start_time": "2021-11-13T17:54:49.513Z"
   },
   {
    "duration": 218,
    "start_time": "2021-11-13T17:54:52.550Z"
   },
   {
    "duration": 5,
    "start_time": "2021-11-13T17:56:24.799Z"
   },
   {
    "duration": 11,
    "start_time": "2021-11-13T17:56:27.027Z"
   },
   {
    "duration": 39,
    "start_time": "2021-11-13T17:56:30.325Z"
   },
   {
    "duration": 6,
    "start_time": "2021-11-13T17:57:18.105Z"
   },
   {
    "duration": 6,
    "start_time": "2021-11-13T17:59:12.081Z"
   },
   {
    "duration": 422,
    "start_time": "2021-11-13T17:59:50.908Z"
   },
   {
    "duration": 7,
    "start_time": "2021-11-13T17:59:59.645Z"
   },
   {
    "duration": 215,
    "start_time": "2021-11-13T18:00:01.646Z"
   },
   {
    "duration": 441,
    "start_time": "2021-11-13T18:00:04.945Z"
   },
   {
    "duration": 688,
    "start_time": "2021-11-13T18:00:45.509Z"
   },
   {
    "duration": 703,
    "start_time": "2021-11-13T18:02:32.350Z"
   },
   {
    "duration": 739,
    "start_time": "2021-11-13T18:05:54.752Z"
   },
   {
    "duration": 292,
    "start_time": "2021-11-13T18:06:29.304Z"
   },
   {
    "duration": 319,
    "start_time": "2021-11-13T18:06:38.215Z"
   },
   {
    "duration": 105,
    "start_time": "2021-11-13T18:07:54.543Z"
   },
   {
    "duration": 7123,
    "start_time": "2021-11-13T18:08:23.605Z"
   },
   {
    "duration": 5,
    "start_time": "2021-11-13T18:08:39.919Z"
   },
   {
    "duration": 6,
    "start_time": "2021-11-13T18:08:53.143Z"
   },
   {
    "duration": 533,
    "start_time": "2021-11-13T18:09:37.646Z"
   },
   {
    "duration": 766,
    "start_time": "2021-11-13T18:09:49.244Z"
   },
   {
    "duration": 733,
    "start_time": "2021-11-13T18:10:24.232Z"
   },
   {
    "duration": 483,
    "start_time": "2021-11-13T18:12:10.872Z"
   },
   {
    "duration": 1193,
    "start_time": "2021-11-13T18:12:33.471Z"
   },
   {
    "duration": 30,
    "start_time": "2021-11-13T18:12:34.666Z"
   },
   {
    "duration": 23,
    "start_time": "2021-11-13T18:12:34.699Z"
   },
   {
    "duration": 21,
    "start_time": "2021-11-13T18:12:34.724Z"
   },
   {
    "duration": 15,
    "start_time": "2021-11-13T18:12:34.747Z"
   },
   {
    "duration": 46,
    "start_time": "2021-11-13T18:12:34.764Z"
   },
   {
    "duration": 14,
    "start_time": "2021-11-13T18:12:34.812Z"
   },
   {
    "duration": 13,
    "start_time": "2021-11-13T18:12:34.829Z"
   },
   {
    "duration": 14,
    "start_time": "2021-11-13T18:12:34.844Z"
   },
   {
    "duration": 7,
    "start_time": "2021-11-13T18:12:34.859Z"
   },
   {
    "duration": 12,
    "start_time": "2021-11-13T18:12:34.867Z"
   },
   {
    "duration": 17,
    "start_time": "2021-11-13T18:12:34.881Z"
   },
   {
    "duration": 28,
    "start_time": "2021-11-13T18:12:34.899Z"
   },
   {
    "duration": 28,
    "start_time": "2021-11-13T18:12:34.928Z"
   },
   {
    "duration": 15,
    "start_time": "2021-11-13T18:12:34.958Z"
   },
   {
    "duration": 20,
    "start_time": "2021-11-13T18:12:34.974Z"
   },
   {
    "duration": 290,
    "start_time": "2021-11-13T18:12:34.996Z"
   },
   {
    "duration": 4,
    "start_time": "2021-11-13T18:12:35.288Z"
   },
   {
    "duration": 9,
    "start_time": "2021-11-13T18:12:35.293Z"
   },
   {
    "duration": 411,
    "start_time": "2021-11-13T18:12:35.304Z"
   },
   {
    "duration": 8,
    "start_time": "2021-11-13T18:12:35.717Z"
   },
   {
    "duration": 37,
    "start_time": "2021-11-13T18:12:35.727Z"
   },
   {
    "duration": 19,
    "start_time": "2021-11-13T18:12:35.769Z"
   },
   {
    "duration": 177,
    "start_time": "2021-11-13T18:12:35.791Z"
   },
   {
    "duration": 13,
    "start_time": "2021-11-13T18:12:35.970Z"
   },
   {
    "duration": 376,
    "start_time": "2021-11-13T18:12:35.985Z"
   },
   {
    "duration": 6,
    "start_time": "2021-11-13T18:12:36.363Z"
   },
   {
    "duration": 27,
    "start_time": "2021-11-13T18:12:36.371Z"
   },
   {
    "duration": 355,
    "start_time": "2021-11-13T18:12:36.399Z"
   },
   {
    "duration": 9,
    "start_time": "2021-11-13T18:12:36.756Z"
   },
   {
    "duration": 436,
    "start_time": "2021-11-13T18:12:36.767Z"
   },
   {
    "duration": 5,
    "start_time": "2021-11-13T18:12:37.205Z"
   },
   {
    "duration": 22,
    "start_time": "2021-11-13T18:12:37.211Z"
   },
   {
    "duration": 735,
    "start_time": "2021-11-13T18:12:37.235Z"
   },
   {
    "duration": 9,
    "start_time": "2021-11-13T18:12:37.972Z"
   },
   {
    "duration": 360,
    "start_time": "2021-11-13T18:12:37.983Z"
   },
   {
    "duration": 8,
    "start_time": "2021-11-13T18:12:38.346Z"
   },
   {
    "duration": 35,
    "start_time": "2021-11-13T18:12:38.356Z"
   },
   {
    "duration": 38,
    "start_time": "2021-11-13T18:12:38.393Z"
   },
   {
    "duration": 9,
    "start_time": "2021-11-13T18:12:38.433Z"
   },
   {
    "duration": 16,
    "start_time": "2021-11-13T18:12:38.444Z"
   },
   {
    "duration": 16,
    "start_time": "2021-11-13T18:12:38.462Z"
   },
   {
    "duration": 407,
    "start_time": "2021-11-13T18:12:38.480Z"
   },
   {
    "duration": 8,
    "start_time": "2021-11-13T18:12:38.888Z"
   },
   {
    "duration": 380,
    "start_time": "2021-11-13T18:12:38.898Z"
   },
   {
    "duration": 8,
    "start_time": "2021-11-13T18:12:39.280Z"
   },
   {
    "duration": 25,
    "start_time": "2021-11-13T18:12:39.289Z"
   },
   {
    "duration": 13,
    "start_time": "2021-11-13T18:12:39.315Z"
   },
   {
    "duration": 512,
    "start_time": "2021-11-13T18:12:39.330Z"
   },
   {
    "duration": 10,
    "start_time": "2021-11-13T18:12:39.845Z"
   },
   {
    "duration": 13,
    "start_time": "2021-11-13T18:12:39.857Z"
   },
   {
    "duration": 8,
    "start_time": "2021-11-13T18:12:39.871Z"
   },
   {
    "duration": 307,
    "start_time": "2021-11-13T18:12:39.880Z"
   },
   {
    "duration": 5,
    "start_time": "2021-11-13T18:12:40.190Z"
   },
   {
    "duration": 14,
    "start_time": "2021-11-13T18:12:40.197Z"
   },
   {
    "duration": 35,
    "start_time": "2021-11-13T18:12:40.213Z"
   },
   {
    "duration": 384,
    "start_time": "2021-11-13T18:12:40.250Z"
   },
   {
    "duration": 13,
    "start_time": "2021-11-13T18:12:40.635Z"
   },
   {
    "duration": 10,
    "start_time": "2021-11-13T18:12:40.649Z"
   },
   {
    "duration": 14,
    "start_time": "2021-11-13T18:12:40.660Z"
   },
   {
    "duration": 15,
    "start_time": "2021-11-13T18:12:40.675Z"
   },
   {
    "duration": 287,
    "start_time": "2021-11-13T18:12:40.692Z"
   },
   {
    "duration": 6,
    "start_time": "2021-11-13T18:12:40.981Z"
   },
   {
    "duration": 12,
    "start_time": "2021-11-13T18:12:40.988Z"
   },
   {
    "duration": 13,
    "start_time": "2021-11-13T18:12:41.002Z"
   },
   {
    "duration": 23,
    "start_time": "2021-11-13T18:12:41.016Z"
   },
   {
    "duration": 270,
    "start_time": "2021-11-13T18:12:41.041Z"
   },
   {
    "duration": 8,
    "start_time": "2021-11-13T18:12:41.317Z"
   },
   {
    "duration": 21,
    "start_time": "2021-11-13T18:12:41.327Z"
   },
   {
    "duration": 375,
    "start_time": "2021-11-13T18:12:41.349Z"
   },
   {
    "duration": 4,
    "start_time": "2021-11-13T18:12:41.726Z"
   },
   {
    "duration": 16,
    "start_time": "2021-11-13T18:12:41.732Z"
   },
   {
    "duration": 411,
    "start_time": "2021-11-13T18:12:41.750Z"
   },
   {
    "duration": 4,
    "start_time": "2021-11-13T18:12:42.163Z"
   },
   {
    "duration": 22,
    "start_time": "2021-11-13T18:12:42.169Z"
   },
   {
    "duration": 16,
    "start_time": "2021-11-13T18:12:42.193Z"
   },
   {
    "duration": 19,
    "start_time": "2021-11-13T18:12:42.211Z"
   },
   {
    "duration": 31,
    "start_time": "2021-11-13T18:12:42.231Z"
   },
   {
    "duration": 252,
    "start_time": "2021-11-13T18:12:42.264Z"
   },
   {
    "duration": 4,
    "start_time": "2021-11-13T18:12:42.518Z"
   },
   {
    "duration": 10,
    "start_time": "2021-11-13T18:12:42.524Z"
   },
   {
    "duration": 732,
    "start_time": "2021-11-13T18:12:42.536Z"
   },
   {
    "duration": 552,
    "start_time": "2021-11-13T18:12:43.270Z"
   },
   {
    "duration": 5,
    "start_time": "2021-11-13T18:12:43.824Z"
   },
   {
    "duration": 22,
    "start_time": "2021-11-13T18:12:43.831Z"
   },
   {
    "duration": 13,
    "start_time": "2021-11-13T18:12:43.855Z"
   },
   {
    "duration": 9,
    "start_time": "2021-11-13T18:12:43.869Z"
   },
   {
    "duration": 10,
    "start_time": "2021-11-13T18:12:43.880Z"
   },
   {
    "duration": 21,
    "start_time": "2021-11-13T18:12:43.892Z"
   },
   {
    "duration": 230,
    "start_time": "2021-11-13T18:12:43.915Z"
   },
   {
    "duration": 198,
    "start_time": "2021-11-13T18:12:44.147Z"
   },
   {
    "duration": 98,
    "start_time": "2021-11-13T18:12:44.348Z"
   },
   {
    "duration": 871,
    "start_time": "2021-11-13T18:12:44.448Z"
   },
   {
    "duration": -3460,
    "start_time": "2021-11-13T18:12:48.781Z"
   },
   {
    "duration": -3469,
    "start_time": "2021-11-13T18:12:48.791Z"
   },
   {
    "duration": -3477,
    "start_time": "2021-11-13T18:12:48.800Z"
   },
   {
    "duration": -3485,
    "start_time": "2021-11-13T18:12:48.809Z"
   },
   {
    "duration": -3520,
    "start_time": "2021-11-13T18:12:48.845Z"
   },
   {
    "duration": -3531,
    "start_time": "2021-11-13T18:12:48.857Z"
   },
   {
    "duration": -3540,
    "start_time": "2021-11-13T18:12:48.867Z"
   },
   {
    "duration": -3550,
    "start_time": "2021-11-13T18:12:48.878Z"
   },
   {
    "duration": -3558,
    "start_time": "2021-11-13T18:12:48.887Z"
   },
   {
    "duration": -3568,
    "start_time": "2021-11-13T18:12:48.898Z"
   },
   {
    "duration": -3576,
    "start_time": "2021-11-13T18:12:48.907Z"
   },
   {
    "duration": -3585,
    "start_time": "2021-11-13T18:12:48.917Z"
   },
   {
    "duration": -3594,
    "start_time": "2021-11-13T18:12:48.927Z"
   },
   {
    "duration": -3604,
    "start_time": "2021-11-13T18:12:48.938Z"
   },
   {
    "duration": -3628,
    "start_time": "2021-11-13T18:12:48.963Z"
   },
   {
    "duration": -3638,
    "start_time": "2021-11-13T18:12:48.974Z"
   },
   {
    "duration": -3651,
    "start_time": "2021-11-13T18:12:48.987Z"
   },
   {
    "duration": -3660,
    "start_time": "2021-11-13T18:12:48.997Z"
   },
   {
    "duration": 10,
    "start_time": "2021-11-13T18:13:13.520Z"
   },
   {
    "duration": 430,
    "start_time": "2021-11-13T18:13:25.983Z"
   },
   {
    "duration": 10,
    "start_time": "2021-11-13T18:13:39.221Z"
   },
   {
    "duration": 454,
    "start_time": "2021-11-13T18:15:03.247Z"
   },
   {
    "duration": 477,
    "start_time": "2021-11-13T18:15:31.926Z"
   },
   {
    "duration": 1312,
    "start_time": "2021-11-13T18:16:44.040Z"
   },
   {
    "duration": 29,
    "start_time": "2021-11-13T18:16:45.354Z"
   },
   {
    "duration": 16,
    "start_time": "2021-11-13T18:16:45.385Z"
   },
   {
    "duration": 9,
    "start_time": "2021-11-13T18:16:45.403Z"
   },
   {
    "duration": 4,
    "start_time": "2021-11-13T18:16:45.414Z"
   },
   {
    "duration": 29,
    "start_time": "2021-11-13T18:16:45.419Z"
   },
   {
    "duration": 14,
    "start_time": "2021-11-13T18:16:45.450Z"
   },
   {
    "duration": 9,
    "start_time": "2021-11-13T18:16:45.467Z"
   },
   {
    "duration": 7,
    "start_time": "2021-11-13T18:16:45.479Z"
   },
   {
    "duration": 13,
    "start_time": "2021-11-13T18:16:45.488Z"
   },
   {
    "duration": 15,
    "start_time": "2021-11-13T18:16:45.503Z"
   },
   {
    "duration": 27,
    "start_time": "2021-11-13T18:16:45.519Z"
   },
   {
    "duration": 15,
    "start_time": "2021-11-13T18:16:45.549Z"
   },
   {
    "duration": 11,
    "start_time": "2021-11-13T18:16:45.565Z"
   },
   {
    "duration": 14,
    "start_time": "2021-11-13T18:16:45.578Z"
   },
   {
    "duration": 26,
    "start_time": "2021-11-13T18:16:45.594Z"
   },
   {
    "duration": 305,
    "start_time": "2021-11-13T18:16:45.621Z"
   },
   {
    "duration": 4,
    "start_time": "2021-11-13T18:16:45.928Z"
   },
   {
    "duration": 16,
    "start_time": "2021-11-13T18:16:45.933Z"
   },
   {
    "duration": 421,
    "start_time": "2021-11-13T18:16:45.951Z"
   },
   {
    "duration": 8,
    "start_time": "2021-11-13T18:16:46.373Z"
   },
   {
    "duration": 20,
    "start_time": "2021-11-13T18:16:46.382Z"
   },
   {
    "duration": 11,
    "start_time": "2021-11-13T18:16:46.405Z"
   },
   {
    "duration": 179,
    "start_time": "2021-11-13T18:16:46.418Z"
   },
   {
    "duration": 10,
    "start_time": "2021-11-13T18:16:46.599Z"
   },
   {
    "duration": 385,
    "start_time": "2021-11-13T18:16:46.610Z"
   },
   {
    "duration": 7,
    "start_time": "2021-11-13T18:16:46.997Z"
   },
   {
    "duration": 18,
    "start_time": "2021-11-13T18:16:47.005Z"
   },
   {
    "duration": 417,
    "start_time": "2021-11-13T18:16:47.024Z"
   },
   {
    "duration": 11,
    "start_time": "2021-11-13T18:16:47.445Z"
   },
   {
    "duration": 509,
    "start_time": "2021-11-13T18:16:47.458Z"
   },
   {
    "duration": 4,
    "start_time": "2021-11-13T18:16:47.969Z"
   },
   {
    "duration": 6,
    "start_time": "2021-11-13T18:16:47.975Z"
   },
   {
    "duration": 728,
    "start_time": "2021-11-13T18:16:47.983Z"
   },
   {
    "duration": 9,
    "start_time": "2021-11-13T18:16:48.712Z"
   },
   {
    "duration": 305,
    "start_time": "2021-11-13T18:16:48.723Z"
   },
   {
    "duration": 6,
    "start_time": "2021-11-13T18:16:49.030Z"
   },
   {
    "duration": 17,
    "start_time": "2021-11-13T18:16:49.044Z"
   },
   {
    "duration": 11,
    "start_time": "2021-11-13T18:16:49.063Z"
   },
   {
    "duration": 5,
    "start_time": "2021-11-13T18:16:49.075Z"
   },
   {
    "duration": 17,
    "start_time": "2021-11-13T18:16:49.082Z"
   },
   {
    "duration": 16,
    "start_time": "2021-11-13T18:16:49.101Z"
   },
   {
    "duration": 409,
    "start_time": "2021-11-13T18:16:49.119Z"
   },
   {
    "duration": 17,
    "start_time": "2021-11-13T18:16:49.530Z"
   },
   {
    "duration": 387,
    "start_time": "2021-11-13T18:16:49.549Z"
   },
   {
    "duration": 12,
    "start_time": "2021-11-13T18:16:49.938Z"
   },
   {
    "duration": 11,
    "start_time": "2021-11-13T18:16:49.952Z"
   },
   {
    "duration": 11,
    "start_time": "2021-11-13T18:16:49.965Z"
   },
   {
    "duration": 529,
    "start_time": "2021-11-13T18:16:49.977Z"
   },
   {
    "duration": 10,
    "start_time": "2021-11-13T18:16:50.507Z"
   },
   {
    "duration": 25,
    "start_time": "2021-11-13T18:16:50.519Z"
   },
   {
    "duration": 9,
    "start_time": "2021-11-13T18:16:50.547Z"
   },
   {
    "duration": 206,
    "start_time": "2021-11-13T18:16:50.557Z"
   },
   {
    "duration": 5,
    "start_time": "2021-11-13T18:16:50.764Z"
   },
   {
    "duration": 9,
    "start_time": "2021-11-13T18:16:50.771Z"
   },
   {
    "duration": 26,
    "start_time": "2021-11-13T18:16:50.781Z"
   },
   {
    "duration": 384,
    "start_time": "2021-11-13T18:16:50.808Z"
   },
   {
    "duration": 7,
    "start_time": "2021-11-13T18:16:51.194Z"
   },
   {
    "duration": 14,
    "start_time": "2021-11-13T18:16:51.203Z"
   },
   {
    "duration": 16,
    "start_time": "2021-11-13T18:16:51.218Z"
   },
   {
    "duration": 22,
    "start_time": "2021-11-13T18:16:51.236Z"
   },
   {
    "duration": 307,
    "start_time": "2021-11-13T18:16:51.260Z"
   },
   {
    "duration": 6,
    "start_time": "2021-11-13T18:16:51.569Z"
   },
   {
    "duration": 8,
    "start_time": "2021-11-13T18:16:51.577Z"
   },
   {
    "duration": 12,
    "start_time": "2021-11-13T18:16:51.586Z"
   },
   {
    "duration": 14,
    "start_time": "2021-11-13T18:16:51.599Z"
   },
   {
    "duration": 319,
    "start_time": "2021-11-13T18:16:51.615Z"
   },
   {
    "duration": 10,
    "start_time": "2021-11-13T18:16:51.950Z"
   },
   {
    "duration": 15,
    "start_time": "2021-11-13T18:16:51.963Z"
   },
   {
    "duration": 405,
    "start_time": "2021-11-13T18:16:51.980Z"
   },
   {
    "duration": 5,
    "start_time": "2021-11-13T18:16:52.387Z"
   },
   {
    "duration": 37,
    "start_time": "2021-11-13T18:16:52.394Z"
   },
   {
    "duration": 461,
    "start_time": "2021-11-13T18:16:52.433Z"
   },
   {
    "duration": 5,
    "start_time": "2021-11-13T18:16:52.896Z"
   },
   {
    "duration": 23,
    "start_time": "2021-11-13T18:16:52.903Z"
   },
   {
    "duration": 30,
    "start_time": "2021-11-13T18:16:52.928Z"
   },
   {
    "duration": 22,
    "start_time": "2021-11-13T18:16:52.960Z"
   },
   {
    "duration": 14,
    "start_time": "2021-11-13T18:16:52.984Z"
   },
   {
    "duration": 251,
    "start_time": "2021-11-13T18:16:53.000Z"
   },
   {
    "duration": 6,
    "start_time": "2021-11-13T18:16:53.253Z"
   },
   {
    "duration": 16,
    "start_time": "2021-11-13T18:16:53.261Z"
   },
   {
    "duration": 727,
    "start_time": "2021-11-13T18:16:53.279Z"
   },
   {
    "duration": 643,
    "start_time": "2021-11-13T18:16:54.008Z"
   },
   {
    "duration": 5,
    "start_time": "2021-11-13T18:16:54.654Z"
   },
   {
    "duration": 32,
    "start_time": "2021-11-13T18:16:54.662Z"
   },
   {
    "duration": 20,
    "start_time": "2021-11-13T18:16:54.696Z"
   },
   {
    "duration": 19,
    "start_time": "2021-11-13T18:16:54.718Z"
   },
   {
    "duration": 8,
    "start_time": "2021-11-13T18:16:54.739Z"
   },
   {
    "duration": 29,
    "start_time": "2021-11-13T18:16:54.749Z"
   },
   {
    "duration": 74,
    "start_time": "2021-11-13T18:16:54.780Z"
   },
   {
    "duration": 89,
    "start_time": "2021-11-13T18:16:54.858Z"
   },
   {
    "duration": 468,
    "start_time": "2021-11-13T18:16:54.950Z"
   },
   {
    "duration": 6,
    "start_time": "2021-11-13T18:16:55.420Z"
   },
   {
    "duration": 50048,
    "start_time": "2021-11-13T18:16:55.428Z"
   },
   {
    "duration": -2327,
    "start_time": "2021-11-13T18:17:47.805Z"
   },
   {
    "duration": -2340,
    "start_time": "2021-11-13T18:17:47.820Z"
   },
   {
    "duration": -2349,
    "start_time": "2021-11-13T18:17:47.830Z"
   },
   {
    "duration": -2357,
    "start_time": "2021-11-13T18:17:47.840Z"
   },
   {
    "duration": -2368,
    "start_time": "2021-11-13T18:17:47.852Z"
   },
   {
    "duration": -2376,
    "start_time": "2021-11-13T18:17:47.862Z"
   },
   {
    "duration": -2425,
    "start_time": "2021-11-13T18:17:47.912Z"
   },
   {
    "duration": -2432,
    "start_time": "2021-11-13T18:17:47.922Z"
   },
   {
    "duration": -2443,
    "start_time": "2021-11-13T18:17:47.934Z"
   },
   {
    "duration": -2450,
    "start_time": "2021-11-13T18:17:47.943Z"
   },
   {
    "duration": -2460,
    "start_time": "2021-11-13T18:17:47.954Z"
   },
   {
    "duration": -2468,
    "start_time": "2021-11-13T18:17:47.963Z"
   },
   {
    "duration": -2477,
    "start_time": "2021-11-13T18:17:47.974Z"
   },
   {
    "duration": -2484,
    "start_time": "2021-11-13T18:17:47.983Z"
   },
   {
    "duration": 10,
    "start_time": "2021-11-13T18:18:05.935Z"
   },
   {
    "duration": 431,
    "start_time": "2021-11-13T18:18:25.419Z"
   },
   {
    "duration": 430,
    "start_time": "2021-11-13T18:18:41.811Z"
   },
   {
    "duration": 6,
    "start_time": "2021-11-13T18:28:12.298Z"
   },
   {
    "duration": 211,
    "start_time": "2021-11-13T18:28:13.237Z"
   },
   {
    "duration": 417,
    "start_time": "2021-11-13T18:28:22.622Z"
   },
   {
    "duration": 441,
    "start_time": "2021-11-13T18:28:31.574Z"
   },
   {
    "duration": 6,
    "start_time": "2021-11-13T18:28:39.110Z"
   },
   {
    "duration": 201,
    "start_time": "2021-11-13T18:28:40.249Z"
   },
   {
    "duration": 456,
    "start_time": "2021-11-13T18:28:46.825Z"
   },
   {
    "duration": 6,
    "start_time": "2021-11-13T18:29:36.023Z"
   },
   {
    "duration": 201,
    "start_time": "2021-11-13T18:29:36.850Z"
   },
   {
    "duration": 409,
    "start_time": "2021-11-13T18:29:40.627Z"
   },
   {
    "duration": 13,
    "start_time": "2021-11-13T18:30:11.764Z"
   },
   {
    "duration": 6,
    "start_time": "2021-11-13T18:30:44.176Z"
   },
   {
    "duration": 93,
    "start_time": "2021-11-13T18:30:44.760Z"
   },
   {
    "duration": 434,
    "start_time": "2021-11-13T18:30:48.176Z"
   },
   {
    "duration": 6,
    "start_time": "2021-11-13T18:32:50.854Z"
   },
   {
    "duration": 56,
    "start_time": "2021-11-13T18:32:51.591Z"
   },
   {
    "duration": 433,
    "start_time": "2021-11-13T18:32:54.065Z"
   },
   {
    "duration": 5,
    "start_time": "2021-11-13T18:33:21.442Z"
   },
   {
    "duration": 216,
    "start_time": "2021-11-13T18:33:22.031Z"
   },
   {
    "duration": 449,
    "start_time": "2021-11-13T18:33:25.304Z"
   },
   {
    "duration": 8,
    "start_time": "2021-11-13T18:33:39.654Z"
   },
   {
    "duration": 69,
    "start_time": "2021-11-13T18:33:40.291Z"
   },
   {
    "duration": 10,
    "start_time": "2021-11-13T18:33:53.229Z"
   },
   {
    "duration": 95,
    "start_time": "2021-11-13T18:35:09.358Z"
   },
   {
    "duration": 822,
    "start_time": "2021-11-13T18:35:21.769Z"
   },
   {
    "duration": 468,
    "start_time": "2021-11-13T18:35:59.337Z"
   },
   {
    "duration": 6,
    "start_time": "2021-11-13T18:37:36.560Z"
   },
   {
    "duration": 47,
    "start_time": "2021-11-13T18:37:37.209Z"
   },
   {
    "duration": 459,
    "start_time": "2021-11-13T18:37:44.564Z"
   },
   {
    "duration": 5,
    "start_time": "2021-11-13T18:37:55.148Z"
   },
   {
    "duration": 50,
    "start_time": "2021-11-13T18:37:55.903Z"
   },
   {
    "duration": 11,
    "start_time": "2021-11-13T18:37:59.810Z"
   },
   {
    "duration": 461,
    "start_time": "2021-11-13T18:38:14.492Z"
   },
   {
    "duration": 454,
    "start_time": "2021-11-13T18:38:50.086Z"
   },
   {
    "duration": 442,
    "start_time": "2021-11-13T18:38:53.685Z"
   },
   {
    "duration": 15,
    "start_time": "2021-11-13T18:39:03.025Z"
   },
   {
    "duration": 457,
    "start_time": "2021-11-13T18:39:15.088Z"
   },
   {
    "duration": 6,
    "start_time": "2021-11-13T18:39:26.063Z"
   },
   {
    "duration": 72,
    "start_time": "2021-11-13T18:39:27.077Z"
   },
   {
    "duration": 20,
    "start_time": "2021-11-13T18:39:29.511Z"
   },
   {
    "duration": 6,
    "start_time": "2021-11-13T18:39:39.589Z"
   },
   {
    "duration": 89,
    "start_time": "2021-11-13T18:39:40.163Z"
   },
   {
    "duration": 405,
    "start_time": "2021-11-13T18:39:42.374Z"
   },
   {
    "duration": 16,
    "start_time": "2021-11-13T18:39:48.639Z"
   },
   {
    "duration": 7,
    "start_time": "2021-11-13T18:41:16.139Z"
   },
   {
    "duration": 147,
    "start_time": "2021-11-13T18:41:16.805Z"
   },
   {
    "duration": 468,
    "start_time": "2021-11-13T18:41:19.914Z"
   },
   {
    "duration": 15,
    "start_time": "2021-11-13T18:41:22.213Z"
   },
   {
    "duration": 7,
    "start_time": "2021-11-13T18:45:35.546Z"
   },
   {
    "duration": 82,
    "start_time": "2021-11-13T18:45:36.669Z"
   },
   {
    "duration": 428,
    "start_time": "2021-11-13T18:45:40.844Z"
   },
   {
    "duration": 14,
    "start_time": "2021-11-13T18:45:42.420Z"
   },
   {
    "duration": 448,
    "start_time": "2021-11-13T18:46:34.798Z"
   },
   {
    "duration": 6,
    "start_time": "2021-11-13T18:46:42.082Z"
   },
   {
    "duration": 164,
    "start_time": "2021-11-13T18:46:42.983Z"
   },
   {
    "duration": 433,
    "start_time": "2021-11-13T18:46:46.896Z"
   },
   {
    "duration": 19,
    "start_time": "2021-11-13T18:46:49.733Z"
   },
   {
    "duration": 6,
    "start_time": "2021-11-13T18:47:19.996Z"
   },
   {
    "duration": 129,
    "start_time": "2021-11-13T18:47:20.822Z"
   },
   {
    "duration": 294,
    "start_time": "2021-11-13T18:48:00.124Z"
   },
   {
    "duration": 444,
    "start_time": "2021-11-13T18:48:15.234Z"
   },
   {
    "duration": 7,
    "start_time": "2021-11-13T18:48:17.292Z"
   },
   {
    "duration": 14,
    "start_time": "2021-11-13T18:48:32.199Z"
   },
   {
    "duration": 15,
    "start_time": "2021-11-13T18:49:00.523Z"
   },
   {
    "duration": 1180,
    "start_time": "2021-11-13T18:50:02.281Z"
   },
   {
    "duration": 30,
    "start_time": "2021-11-13T18:50:03.463Z"
   },
   {
    "duration": 15,
    "start_time": "2021-11-13T18:50:03.495Z"
   },
   {
    "duration": 19,
    "start_time": "2021-11-13T18:50:03.512Z"
   },
   {
    "duration": 3,
    "start_time": "2021-11-13T18:50:03.533Z"
   },
   {
    "duration": 19,
    "start_time": "2021-11-13T18:50:03.538Z"
   },
   {
    "duration": 16,
    "start_time": "2021-11-13T18:50:03.559Z"
   },
   {
    "duration": 10,
    "start_time": "2021-11-13T18:50:03.577Z"
   },
   {
    "duration": 9,
    "start_time": "2021-11-13T18:50:03.589Z"
   },
   {
    "duration": 6,
    "start_time": "2021-11-13T18:50:03.600Z"
   },
   {
    "duration": 12,
    "start_time": "2021-11-13T18:50:03.607Z"
   },
   {
    "duration": 27,
    "start_time": "2021-11-13T18:50:03.620Z"
   },
   {
    "duration": 8,
    "start_time": "2021-11-13T18:50:03.649Z"
   },
   {
    "duration": 6,
    "start_time": "2021-11-13T18:50:03.658Z"
   },
   {
    "duration": 11,
    "start_time": "2021-11-13T18:50:03.666Z"
   },
   {
    "duration": 13,
    "start_time": "2021-11-13T18:50:03.678Z"
   },
   {
    "duration": 319,
    "start_time": "2021-11-13T18:50:03.692Z"
   },
   {
    "duration": 4,
    "start_time": "2021-11-13T18:50:04.013Z"
   },
   {
    "duration": 7,
    "start_time": "2021-11-13T18:50:04.018Z"
   },
   {
    "duration": 419,
    "start_time": "2021-11-13T18:50:04.026Z"
   },
   {
    "duration": 7,
    "start_time": "2021-11-13T18:50:04.447Z"
   },
   {
    "duration": 12,
    "start_time": "2021-11-13T18:50:04.456Z"
   },
   {
    "duration": 4,
    "start_time": "2021-11-13T18:50:04.473Z"
   },
   {
    "duration": 188,
    "start_time": "2021-11-13T18:50:04.480Z"
   },
   {
    "duration": 11,
    "start_time": "2021-11-13T18:50:04.670Z"
   },
   {
    "duration": 367,
    "start_time": "2021-11-13T18:50:04.682Z"
   },
   {
    "duration": 10,
    "start_time": "2021-11-13T18:50:05.051Z"
   },
   {
    "duration": 11,
    "start_time": "2021-11-13T18:50:05.063Z"
   },
   {
    "duration": 361,
    "start_time": "2021-11-13T18:50:05.076Z"
   },
   {
    "duration": 13,
    "start_time": "2021-11-13T18:50:05.439Z"
   },
   {
    "duration": 444,
    "start_time": "2021-11-13T18:50:05.454Z"
   },
   {
    "duration": 4,
    "start_time": "2021-11-13T18:50:05.900Z"
   },
   {
    "duration": 10,
    "start_time": "2021-11-13T18:50:05.906Z"
   },
   {
    "duration": 710,
    "start_time": "2021-11-13T18:50:05.917Z"
   },
   {
    "duration": 16,
    "start_time": "2021-11-13T18:50:06.629Z"
   },
   {
    "duration": 319,
    "start_time": "2021-11-13T18:50:06.647Z"
   },
   {
    "duration": 6,
    "start_time": "2021-11-13T18:50:06.968Z"
   },
   {
    "duration": 12,
    "start_time": "2021-11-13T18:50:06.976Z"
   },
   {
    "duration": 7,
    "start_time": "2021-11-13T18:50:06.989Z"
   },
   {
    "duration": 5,
    "start_time": "2021-11-13T18:50:06.998Z"
   },
   {
    "duration": 8,
    "start_time": "2021-11-13T18:50:07.005Z"
   },
   {
    "duration": 32,
    "start_time": "2021-11-13T18:50:07.014Z"
   },
   {
    "duration": 377,
    "start_time": "2021-11-13T18:50:07.049Z"
   },
   {
    "duration": 17,
    "start_time": "2021-11-13T18:50:07.428Z"
   },
   {
    "duration": 362,
    "start_time": "2021-11-13T18:50:07.447Z"
   },
   {
    "duration": 8,
    "start_time": "2021-11-13T18:50:07.810Z"
   },
   {
    "duration": 6,
    "start_time": "2021-11-13T18:50:07.820Z"
   },
   {
    "duration": 19,
    "start_time": "2021-11-13T18:50:07.828Z"
   },
   {
    "duration": 387,
    "start_time": "2021-11-13T18:50:07.849Z"
   },
   {
    "duration": 13,
    "start_time": "2021-11-13T18:50:08.238Z"
   },
   {
    "duration": 14,
    "start_time": "2021-11-13T18:50:08.253Z"
   },
   {
    "duration": 18,
    "start_time": "2021-11-13T18:50:08.269Z"
   },
   {
    "duration": 251,
    "start_time": "2021-11-13T18:50:08.288Z"
   },
   {
    "duration": 5,
    "start_time": "2021-11-13T18:50:08.541Z"
   },
   {
    "duration": 7,
    "start_time": "2021-11-13T18:50:08.547Z"
   },
   {
    "duration": 11,
    "start_time": "2021-11-13T18:50:08.556Z"
   },
   {
    "duration": 363,
    "start_time": "2021-11-13T18:50:08.569Z"
   },
   {
    "duration": 12,
    "start_time": "2021-11-13T18:50:08.933Z"
   },
   {
    "duration": 6,
    "start_time": "2021-11-13T18:50:08.947Z"
   },
   {
    "duration": 6,
    "start_time": "2021-11-13T18:50:08.955Z"
   },
   {
    "duration": 15,
    "start_time": "2021-11-13T18:50:08.964Z"
   },
   {
    "duration": 305,
    "start_time": "2021-11-13T18:50:08.981Z"
   },
   {
    "duration": 6,
    "start_time": "2021-11-13T18:50:09.287Z"
   },
   {
    "duration": 8,
    "start_time": "2021-11-13T18:50:09.295Z"
   },
   {
    "duration": 5,
    "start_time": "2021-11-13T18:50:09.305Z"
   },
   {
    "duration": 33,
    "start_time": "2021-11-13T18:50:09.312Z"
   },
   {
    "duration": 300,
    "start_time": "2021-11-13T18:50:09.348Z"
   },
   {
    "duration": 9,
    "start_time": "2021-11-13T18:50:09.656Z"
   },
   {
    "duration": 9,
    "start_time": "2021-11-13T18:50:09.668Z"
   },
   {
    "duration": 399,
    "start_time": "2021-11-13T18:50:09.678Z"
   },
   {
    "duration": 4,
    "start_time": "2021-11-13T18:50:10.079Z"
   },
   {
    "duration": 8,
    "start_time": "2021-11-13T18:50:10.085Z"
   },
   {
    "duration": 405,
    "start_time": "2021-11-13T18:50:10.095Z"
   },
   {
    "duration": 4,
    "start_time": "2021-11-13T18:50:10.502Z"
   },
   {
    "duration": 15,
    "start_time": "2021-11-13T18:50:10.507Z"
   },
   {
    "duration": 27,
    "start_time": "2021-11-13T18:50:10.524Z"
   },
   {
    "duration": 13,
    "start_time": "2021-11-13T18:50:10.553Z"
   },
   {
    "duration": 7,
    "start_time": "2021-11-13T18:50:10.568Z"
   },
   {
    "duration": 271,
    "start_time": "2021-11-13T18:50:10.577Z"
   },
   {
    "duration": 4,
    "start_time": "2021-11-13T18:50:10.850Z"
   },
   {
    "duration": 7,
    "start_time": "2021-11-13T18:50:10.856Z"
   },
   {
    "duration": 746,
    "start_time": "2021-11-13T18:50:10.866Z"
   },
   {
    "duration": 545,
    "start_time": "2021-11-13T18:50:11.614Z"
   },
   {
    "duration": 6,
    "start_time": "2021-11-13T18:50:12.161Z"
   },
   {
    "duration": 11,
    "start_time": "2021-11-13T18:50:12.169Z"
   },
   {
    "duration": 10,
    "start_time": "2021-11-13T18:50:12.182Z"
   },
   {
    "duration": 18,
    "start_time": "2021-11-13T18:50:12.194Z"
   },
   {
    "duration": 37,
    "start_time": "2021-11-13T18:50:12.214Z"
   },
   {
    "duration": 12,
    "start_time": "2021-11-13T18:50:12.253Z"
   },
   {
    "duration": 190,
    "start_time": "2021-11-13T18:50:12.267Z"
   },
   {
    "duration": 87,
    "start_time": "2021-11-13T18:50:12.459Z"
   },
   {
    "duration": 455,
    "start_time": "2021-11-13T18:50:12.548Z"
   },
   {
    "duration": 9,
    "start_time": "2021-11-13T18:50:13.005Z"
   },
   {
    "duration": 13,
    "start_time": "2021-11-13T18:50:13.015Z"
   },
   {
    "duration": 33292,
    "start_time": "2021-11-13T18:50:13.030Z"
   },
   {
    "duration": -2244,
    "start_time": "2021-11-13T18:50:48.568Z"
   },
   {
    "duration": -2253,
    "start_time": "2021-11-13T18:50:48.578Z"
   },
   {
    "duration": -2261,
    "start_time": "2021-11-13T18:50:48.587Z"
   },
   {
    "duration": -2271,
    "start_time": "2021-11-13T18:50:48.598Z"
   },
   {
    "duration": -2281,
    "start_time": "2021-11-13T18:50:48.609Z"
   },
   {
    "duration": -2290,
    "start_time": "2021-11-13T18:50:48.619Z"
   },
   {
    "duration": -2300,
    "start_time": "2021-11-13T18:50:48.630Z"
   },
   {
    "duration": -2340,
    "start_time": "2021-11-13T18:50:48.672Z"
   },
   {
    "duration": -2351,
    "start_time": "2021-11-13T18:50:48.684Z"
   },
   {
    "duration": -2363,
    "start_time": "2021-11-13T18:50:48.696Z"
   },
   {
    "duration": -2373,
    "start_time": "2021-11-13T18:50:48.707Z"
   },
   {
    "duration": -2380,
    "start_time": "2021-11-13T18:50:48.716Z"
   },
   {
    "duration": -2390,
    "start_time": "2021-11-13T18:50:48.727Z"
   },
   {
    "duration": -2399,
    "start_time": "2021-11-13T18:50:48.737Z"
   },
   {
    "duration": 6,
    "start_time": "2021-11-13T18:51:50.418Z"
   },
   {
    "duration": 1334,
    "start_time": "2021-11-13T18:54:10.543Z"
   },
   {
    "duration": 45,
    "start_time": "2021-11-13T18:54:11.879Z"
   },
   {
    "duration": 14,
    "start_time": "2021-11-13T18:54:11.926Z"
   },
   {
    "duration": 20,
    "start_time": "2021-11-13T18:54:11.942Z"
   },
   {
    "duration": 5,
    "start_time": "2021-11-13T18:54:11.964Z"
   },
   {
    "duration": 14,
    "start_time": "2021-11-13T18:54:11.971Z"
   },
   {
    "duration": 23,
    "start_time": "2021-11-13T18:54:11.986Z"
   },
   {
    "duration": 9,
    "start_time": "2021-11-13T18:54:12.012Z"
   },
   {
    "duration": 10,
    "start_time": "2021-11-13T18:54:12.023Z"
   },
   {
    "duration": 15,
    "start_time": "2021-11-13T18:54:12.034Z"
   },
   {
    "duration": 15,
    "start_time": "2021-11-13T18:54:12.051Z"
   },
   {
    "duration": 13,
    "start_time": "2021-11-13T18:54:12.068Z"
   },
   {
    "duration": 11,
    "start_time": "2021-11-13T18:54:12.083Z"
   },
   {
    "duration": 8,
    "start_time": "2021-11-13T18:54:12.095Z"
   },
   {
    "duration": 10,
    "start_time": "2021-11-13T18:54:12.105Z"
   },
   {
    "duration": 12,
    "start_time": "2021-11-13T18:54:12.117Z"
   },
   {
    "duration": 308,
    "start_time": "2021-11-13T18:54:12.131Z"
   },
   {
    "duration": 6,
    "start_time": "2021-11-13T18:54:12.444Z"
   },
   {
    "duration": 25,
    "start_time": "2021-11-13T18:54:12.452Z"
   },
   {
    "duration": 394,
    "start_time": "2021-11-13T18:54:12.479Z"
   },
   {
    "duration": 6,
    "start_time": "2021-11-13T18:54:12.875Z"
   },
   {
    "duration": 13,
    "start_time": "2021-11-13T18:54:12.883Z"
   },
   {
    "duration": 7,
    "start_time": "2021-11-13T18:54:12.900Z"
   },
   {
    "duration": 166,
    "start_time": "2021-11-13T18:54:12.910Z"
   },
   {
    "duration": 11,
    "start_time": "2021-11-13T18:54:13.078Z"
   },
   {
    "duration": 353,
    "start_time": "2021-11-13T18:54:13.091Z"
   },
   {
    "duration": 9,
    "start_time": "2021-11-13T18:54:13.446Z"
   },
   {
    "duration": 15,
    "start_time": "2021-11-13T18:54:13.456Z"
   },
   {
    "duration": 367,
    "start_time": "2021-11-13T18:54:13.473Z"
   },
   {
    "duration": 11,
    "start_time": "2021-11-13T18:54:13.845Z"
   },
   {
    "duration": 453,
    "start_time": "2021-11-13T18:54:13.857Z"
   },
   {
    "duration": 5,
    "start_time": "2021-11-13T18:54:14.312Z"
   },
   {
    "duration": 14,
    "start_time": "2021-11-13T18:54:14.319Z"
   },
   {
    "duration": 703,
    "start_time": "2021-11-13T18:54:14.345Z"
   },
   {
    "duration": 11,
    "start_time": "2021-11-13T18:54:15.051Z"
   },
   {
    "duration": 311,
    "start_time": "2021-11-13T18:54:15.064Z"
   },
   {
    "duration": 6,
    "start_time": "2021-11-13T18:54:15.376Z"
   },
   {
    "duration": 33,
    "start_time": "2021-11-13T18:54:15.384Z"
   },
   {
    "duration": 36,
    "start_time": "2021-11-13T18:54:15.418Z"
   },
   {
    "duration": 21,
    "start_time": "2021-11-13T18:54:15.456Z"
   },
   {
    "duration": 6,
    "start_time": "2021-11-13T18:54:15.479Z"
   },
   {
    "duration": 9,
    "start_time": "2021-11-13T18:54:15.486Z"
   },
   {
    "duration": 386,
    "start_time": "2021-11-13T18:54:15.497Z"
   },
   {
    "duration": 8,
    "start_time": "2021-11-13T18:54:15.885Z"
   },
   {
    "duration": 390,
    "start_time": "2021-11-13T18:54:15.895Z"
   },
   {
    "duration": 8,
    "start_time": "2021-11-13T18:54:16.287Z"
   },
   {
    "duration": 9,
    "start_time": "2021-11-13T18:54:16.296Z"
   },
   {
    "duration": 25,
    "start_time": "2021-11-13T18:54:16.307Z"
   },
   {
    "duration": 398,
    "start_time": "2021-11-13T18:54:16.334Z"
   },
   {
    "duration": 17,
    "start_time": "2021-11-13T18:54:16.734Z"
   },
   {
    "duration": 20,
    "start_time": "2021-11-13T18:54:16.753Z"
   },
   {
    "duration": 16,
    "start_time": "2021-11-13T18:54:16.775Z"
   },
   {
    "duration": 276,
    "start_time": "2021-11-13T18:54:16.792Z"
   },
   {
    "duration": 4,
    "start_time": "2021-11-13T18:54:17.070Z"
   },
   {
    "duration": 15,
    "start_time": "2021-11-13T18:54:17.075Z"
   },
   {
    "duration": 28,
    "start_time": "2021-11-13T18:54:17.091Z"
   },
   {
    "duration": 386,
    "start_time": "2021-11-13T18:54:17.121Z"
   },
   {
    "duration": 6,
    "start_time": "2021-11-13T18:54:17.508Z"
   },
   {
    "duration": 30,
    "start_time": "2021-11-13T18:54:17.516Z"
   },
   {
    "duration": 9,
    "start_time": "2021-11-13T18:54:17.548Z"
   },
   {
    "duration": 14,
    "start_time": "2021-11-13T18:54:17.559Z"
   },
   {
    "duration": 310,
    "start_time": "2021-11-13T18:54:17.575Z"
   },
   {
    "duration": 7,
    "start_time": "2021-11-13T18:54:17.887Z"
   },
   {
    "duration": 11,
    "start_time": "2021-11-13T18:54:17.896Z"
   },
   {
    "duration": 23,
    "start_time": "2021-11-13T18:54:17.909Z"
   },
   {
    "duration": 38,
    "start_time": "2021-11-13T18:54:17.933Z"
   },
   {
    "duration": 316,
    "start_time": "2021-11-13T18:54:17.972Z"
   },
   {
    "duration": 8,
    "start_time": "2021-11-13T18:54:18.293Z"
   },
   {
    "duration": 8,
    "start_time": "2021-11-13T18:54:18.304Z"
   },
   {
    "duration": 426,
    "start_time": "2021-11-13T18:54:18.314Z"
   },
   {
    "duration": 6,
    "start_time": "2021-11-13T18:54:18.745Z"
   },
   {
    "duration": 24,
    "start_time": "2021-11-13T18:54:18.753Z"
   },
   {
    "duration": 408,
    "start_time": "2021-11-13T18:54:18.780Z"
   },
   {
    "duration": 4,
    "start_time": "2021-11-13T18:54:19.190Z"
   },
   {
    "duration": 31,
    "start_time": "2021-11-13T18:54:19.196Z"
   },
   {
    "duration": 22,
    "start_time": "2021-11-13T18:54:19.229Z"
   },
   {
    "duration": 29,
    "start_time": "2021-11-13T18:54:19.253Z"
   },
   {
    "duration": 25,
    "start_time": "2021-11-13T18:54:19.284Z"
   },
   {
    "duration": 254,
    "start_time": "2021-11-13T18:54:19.311Z"
   },
   {
    "duration": 4,
    "start_time": "2021-11-13T18:54:19.567Z"
   },
   {
    "duration": 19,
    "start_time": "2021-11-13T18:54:19.572Z"
   },
   {
    "duration": 679,
    "start_time": "2021-11-13T18:54:19.593Z"
   },
   {
    "duration": 529,
    "start_time": "2021-11-13T18:54:20.274Z"
   },
   {
    "duration": 4,
    "start_time": "2021-11-13T18:54:20.804Z"
   },
   {
    "duration": 18,
    "start_time": "2021-11-13T18:54:20.810Z"
   },
   {
    "duration": 38,
    "start_time": "2021-11-13T18:54:20.830Z"
   },
   {
    "duration": 22,
    "start_time": "2021-11-13T18:54:20.870Z"
   },
   {
    "duration": 18,
    "start_time": "2021-11-13T18:54:20.894Z"
   },
   {
    "duration": 18,
    "start_time": "2021-11-13T18:54:20.914Z"
   },
   {
    "duration": 212,
    "start_time": "2021-11-13T18:54:20.934Z"
   },
   {
    "duration": 96,
    "start_time": "2021-11-13T18:54:21.149Z"
   },
   {
    "duration": 462,
    "start_time": "2021-11-13T18:54:21.247Z"
   },
   {
    "duration": 6,
    "start_time": "2021-11-13T18:54:21.710Z"
   },
   {
    "duration": 63727,
    "start_time": "2021-11-13T18:54:21.718Z"
   },
   {
    "duration": 10,
    "start_time": "2021-11-13T18:55:25.448Z"
   },
   {
    "duration": 86,
    "start_time": "2021-11-13T18:55:25.460Z"
   },
   {
    "duration": 526,
    "start_time": "2021-11-13T18:55:25.549Z"
   },
   {
    "duration": 63390,
    "start_time": "2021-11-13T18:55:26.077Z"
   },
   {
    "duration": 4,
    "start_time": "2021-11-13T18:56:29.469Z"
   },
   {
    "duration": 15,
    "start_time": "2021-11-13T18:56:29.475Z"
   },
   {
    "duration": 3,
    "start_time": "2021-11-13T18:56:29.491Z"
   },
   {
    "duration": 60,
    "start_time": "2021-11-13T18:56:29.496Z"
   },
   {
    "duration": 943,
    "start_time": "2021-11-13T18:56:29.559Z"
   },
   {
    "duration": 25963,
    "start_time": "2021-11-13T18:56:30.503Z"
   },
   {
    "duration": -2347,
    "start_time": "2021-11-13T18:56:58.816Z"
   },
   {
    "duration": -2371,
    "start_time": "2021-11-13T18:56:58.842Z"
   },
   {
    "duration": -2381,
    "start_time": "2021-11-13T18:56:58.853Z"
   },
   {
    "duration": -2390,
    "start_time": "2021-11-13T18:56:58.864Z"
   },
   {
    "duration": 12,
    "start_time": "2021-11-13T18:57:10.838Z"
   },
   {
    "duration": 137382,
    "start_time": "2021-11-13T19:05:22.751Z"
   },
   {
    "duration": 156040,
    "start_time": "2021-11-13T19:17:41.254Z"
   },
   {
    "duration": 1233,
    "start_time": "2021-11-13T19:29:35.518Z"
   },
   {
    "duration": 31,
    "start_time": "2021-11-13T19:29:36.753Z"
   },
   {
    "duration": 98,
    "start_time": "2021-11-13T19:29:36.786Z"
   },
   {
    "duration": 8,
    "start_time": "2021-11-13T19:29:36.886Z"
   },
   {
    "duration": 9,
    "start_time": "2021-11-13T19:29:36.896Z"
   },
   {
    "duration": 17,
    "start_time": "2021-11-13T19:29:36.906Z"
   },
   {
    "duration": 16,
    "start_time": "2021-11-13T19:29:36.924Z"
   },
   {
    "duration": 21,
    "start_time": "2021-11-13T19:29:36.942Z"
   },
   {
    "duration": 14,
    "start_time": "2021-11-13T19:29:36.965Z"
   },
   {
    "duration": 9,
    "start_time": "2021-11-13T19:29:36.981Z"
   },
   {
    "duration": 19,
    "start_time": "2021-11-13T19:29:36.991Z"
   },
   {
    "duration": 15,
    "start_time": "2021-11-13T19:29:37.012Z"
   },
   {
    "duration": 8,
    "start_time": "2021-11-13T19:29:37.029Z"
   },
   {
    "duration": 16,
    "start_time": "2021-11-13T19:29:37.039Z"
   },
   {
    "duration": 21,
    "start_time": "2021-11-13T19:29:37.057Z"
   },
   {
    "duration": 10,
    "start_time": "2021-11-13T19:29:37.080Z"
   },
   {
    "duration": 297,
    "start_time": "2021-11-13T19:29:37.092Z"
   },
   {
    "duration": 4,
    "start_time": "2021-11-13T19:29:37.391Z"
   },
   {
    "duration": 10,
    "start_time": "2021-11-13T19:29:37.397Z"
   },
   {
    "duration": 417,
    "start_time": "2021-11-13T19:29:37.408Z"
   },
   {
    "duration": 7,
    "start_time": "2021-11-13T19:29:37.827Z"
   },
   {
    "duration": 9,
    "start_time": "2021-11-13T19:29:37.846Z"
   },
   {
    "duration": 5,
    "start_time": "2021-11-13T19:29:37.860Z"
   },
   {
    "duration": 181,
    "start_time": "2021-11-13T19:29:37.868Z"
   },
   {
    "duration": 13,
    "start_time": "2021-11-13T19:29:38.051Z"
   },
   {
    "duration": 362,
    "start_time": "2021-11-13T19:29:38.066Z"
   },
   {
    "duration": 6,
    "start_time": "2021-11-13T19:29:38.429Z"
   },
   {
    "duration": 11,
    "start_time": "2021-11-13T19:29:38.444Z"
   },
   {
    "duration": 352,
    "start_time": "2021-11-13T19:29:38.459Z"
   },
   {
    "duration": 8,
    "start_time": "2021-11-13T19:29:38.813Z"
   },
   {
    "duration": 432,
    "start_time": "2021-11-13T19:29:38.822Z"
   },
   {
    "duration": 5,
    "start_time": "2021-11-13T19:29:39.256Z"
   },
   {
    "duration": 8,
    "start_time": "2021-11-13T19:29:39.262Z"
   },
   {
    "duration": 720,
    "start_time": "2021-11-13T19:29:39.272Z"
   },
   {
    "duration": 9,
    "start_time": "2021-11-13T19:29:39.994Z"
   },
   {
    "duration": 288,
    "start_time": "2021-11-13T19:29:40.004Z"
   },
   {
    "duration": 6,
    "start_time": "2021-11-13T19:29:40.294Z"
   },
   {
    "duration": 16,
    "start_time": "2021-11-13T19:29:40.302Z"
   },
   {
    "duration": 13,
    "start_time": "2021-11-13T19:29:40.320Z"
   },
   {
    "duration": 14,
    "start_time": "2021-11-13T19:29:40.335Z"
   },
   {
    "duration": 18,
    "start_time": "2021-11-13T19:29:40.351Z"
   },
   {
    "duration": 14,
    "start_time": "2021-11-13T19:29:40.370Z"
   },
   {
    "duration": 354,
    "start_time": "2021-11-13T19:29:40.385Z"
   },
   {
    "duration": 8,
    "start_time": "2021-11-13T19:29:40.744Z"
   },
   {
    "duration": 362,
    "start_time": "2021-11-13T19:29:40.754Z"
   },
   {
    "duration": 7,
    "start_time": "2021-11-13T19:29:41.117Z"
   },
   {
    "duration": 20,
    "start_time": "2021-11-13T19:29:41.125Z"
   },
   {
    "duration": 7,
    "start_time": "2021-11-13T19:29:41.147Z"
   },
   {
    "duration": 391,
    "start_time": "2021-11-13T19:29:41.156Z"
   },
   {
    "duration": 12,
    "start_time": "2021-11-13T19:29:41.549Z"
   },
   {
    "duration": 7,
    "start_time": "2021-11-13T19:29:41.563Z"
   },
   {
    "duration": 6,
    "start_time": "2021-11-13T19:29:41.572Z"
   },
   {
    "duration": 266,
    "start_time": "2021-11-13T19:29:41.580Z"
   },
   {
    "duration": 6,
    "start_time": "2021-11-13T19:29:41.848Z"
   },
   {
    "duration": 7,
    "start_time": "2021-11-13T19:29:41.856Z"
   },
   {
    "duration": 11,
    "start_time": "2021-11-13T19:29:41.865Z"
   },
   {
    "duration": 362,
    "start_time": "2021-11-13T19:29:41.878Z"
   },
   {
    "duration": 8,
    "start_time": "2021-11-13T19:29:42.241Z"
   },
   {
    "duration": 15,
    "start_time": "2021-11-13T19:29:42.251Z"
   },
   {
    "duration": 11,
    "start_time": "2021-11-13T19:29:42.267Z"
   },
   {
    "duration": 13,
    "start_time": "2021-11-13T19:29:42.280Z"
   },
   {
    "duration": 292,
    "start_time": "2021-11-13T19:29:42.295Z"
   },
   {
    "duration": 6,
    "start_time": "2021-11-13T19:29:42.588Z"
   },
   {
    "duration": 9,
    "start_time": "2021-11-13T19:29:42.596Z"
   },
   {
    "duration": 5,
    "start_time": "2021-11-13T19:29:42.607Z"
   },
   {
    "duration": 12,
    "start_time": "2021-11-13T19:29:42.614Z"
   },
   {
    "duration": 287,
    "start_time": "2021-11-13T19:29:42.628Z"
   },
   {
    "duration": 8,
    "start_time": "2021-11-13T19:29:42.921Z"
   },
   {
    "duration": 21,
    "start_time": "2021-11-13T19:29:42.931Z"
   },
   {
    "duration": 380,
    "start_time": "2021-11-13T19:29:42.954Z"
   },
   {
    "duration": 12,
    "start_time": "2021-11-13T19:29:43.336Z"
   },
   {
    "duration": 22,
    "start_time": "2021-11-13T19:29:43.350Z"
   },
   {
    "duration": 378,
    "start_time": "2021-11-13T19:29:43.374Z"
   },
   {
    "duration": 6,
    "start_time": "2021-11-13T19:29:43.754Z"
   },
   {
    "duration": 15,
    "start_time": "2021-11-13T19:29:43.762Z"
   },
   {
    "duration": 12,
    "start_time": "2021-11-13T19:29:43.779Z"
   },
   {
    "duration": 26,
    "start_time": "2021-11-13T19:29:43.793Z"
   },
   {
    "duration": 15,
    "start_time": "2021-11-13T19:29:43.821Z"
   },
   {
    "duration": 258,
    "start_time": "2021-11-13T19:29:43.837Z"
   },
   {
    "duration": 4,
    "start_time": "2021-11-13T19:29:44.097Z"
   },
   {
    "duration": 10,
    "start_time": "2021-11-13T19:29:44.102Z"
   },
   {
    "duration": 671,
    "start_time": "2021-11-13T19:29:44.113Z"
   },
   {
    "duration": 503,
    "start_time": "2021-11-13T19:29:44.786Z"
   },
   {
    "duration": 5,
    "start_time": "2021-11-13T19:29:45.291Z"
   },
   {
    "duration": 10,
    "start_time": "2021-11-13T19:29:45.298Z"
   },
   {
    "duration": 36,
    "start_time": "2021-11-13T19:29:45.310Z"
   },
   {
    "duration": 10,
    "start_time": "2021-11-13T19:29:45.348Z"
   },
   {
    "duration": 16,
    "start_time": "2021-11-13T19:29:45.360Z"
   },
   {
    "duration": 32,
    "start_time": "2021-11-13T19:29:45.377Z"
   },
   {
    "duration": 151,
    "start_time": "2021-11-13T19:29:45.411Z"
   },
   {
    "duration": 85,
    "start_time": "2021-11-13T19:29:45.564Z"
   },
   {
    "duration": 459,
    "start_time": "2021-11-13T19:29:45.651Z"
   },
   {
    "duration": 6,
    "start_time": "2021-11-13T19:29:46.111Z"
   },
   {
    "duration": 61594,
    "start_time": "2021-11-13T19:29:46.119Z"
   },
   {
    "duration": 5,
    "start_time": "2021-11-13T19:30:47.715Z"
   },
   {
    "duration": 65396,
    "start_time": "2021-11-13T19:30:47.722Z"
   },
   {
    "duration": 5,
    "start_time": "2021-11-13T19:31:53.120Z"
   },
   {
    "duration": 19,
    "start_time": "2021-11-13T19:31:53.127Z"
   },
   {
    "duration": 27,
    "start_time": "2021-11-13T19:31:53.148Z"
   },
   {
    "duration": 125357,
    "start_time": "2021-11-13T19:31:53.177Z"
   },
   {
    "duration": 125516,
    "start_time": "2021-11-13T19:33:58.536Z"
   },
   {
    "duration": 6,
    "start_time": "2021-11-13T19:37:02.549Z"
   },
   {
    "duration": 12,
    "start_time": "2021-11-13T19:37:09.317Z"
   },
   {
    "duration": 15,
    "start_time": "2021-11-13T19:37:39.988Z"
   },
   {
    "duration": 13,
    "start_time": "2021-11-13T19:37:54.875Z"
   },
   {
    "duration": 7,
    "start_time": "2021-11-13T19:56:57.598Z"
   },
   {
    "duration": 9,
    "start_time": "2021-11-13T19:58:52.065Z"
   },
   {
    "duration": 7,
    "start_time": "2021-11-13T20:04:10.127Z"
   },
   {
    "duration": 786,
    "start_time": "2021-11-13T20:04:46.983Z"
   },
   {
    "duration": 4,
    "start_time": "2021-11-13T20:06:32.740Z"
   },
   {
    "duration": 4,
    "start_time": "2021-11-13T20:06:46.383Z"
   },
   {
    "duration": 3,
    "start_time": "2021-11-13T20:07:00.186Z"
   },
   {
    "duration": 4,
    "start_time": "2021-11-13T20:07:18.512Z"
   },
   {
    "duration": 7,
    "start_time": "2021-11-13T20:07:37.502Z"
   },
   {
    "duration": 4,
    "start_time": "2021-11-13T20:08:31.926Z"
   },
   {
    "duration": 15,
    "start_time": "2021-11-13T20:08:35.676Z"
   },
   {
    "duration": 4,
    "start_time": "2021-11-13T20:09:06.361Z"
   },
   {
    "duration": 3,
    "start_time": "2021-11-13T20:12:24.872Z"
   },
   {
    "duration": 3,
    "start_time": "2021-11-13T20:12:32.700Z"
   },
   {
    "duration": 285,
    "start_time": "2021-11-13T20:13:00.608Z"
   },
   {
    "duration": 906,
    "start_time": "2021-11-13T20:13:05.182Z"
   },
   {
    "duration": 559,
    "start_time": "2021-11-13T20:20:02.714Z"
   },
   {
    "duration": 4,
    "start_time": "2021-11-13T20:21:34.605Z"
   },
   {
    "duration": 1238,
    "start_time": "2021-11-13T21:44:42.052Z"
   },
   {
    "duration": 31,
    "start_time": "2021-11-13T21:44:43.292Z"
   },
   {
    "duration": 16,
    "start_time": "2021-11-13T21:44:43.325Z"
   },
   {
    "duration": 18,
    "start_time": "2021-11-13T21:44:43.343Z"
   },
   {
    "duration": 4,
    "start_time": "2021-11-13T21:44:43.363Z"
   },
   {
    "duration": 12,
    "start_time": "2021-11-13T21:44:43.369Z"
   },
   {
    "duration": 13,
    "start_time": "2021-11-13T21:44:43.383Z"
   },
   {
    "duration": 10,
    "start_time": "2021-11-13T21:44:43.398Z"
   },
   {
    "duration": 41,
    "start_time": "2021-11-13T21:44:43.411Z"
   },
   {
    "duration": 6,
    "start_time": "2021-11-13T21:44:43.455Z"
   },
   {
    "duration": 16,
    "start_time": "2021-11-13T21:44:43.462Z"
   },
   {
    "duration": 19,
    "start_time": "2021-11-13T21:44:43.479Z"
   },
   {
    "duration": 19,
    "start_time": "2021-11-13T21:44:43.500Z"
   },
   {
    "duration": 12,
    "start_time": "2021-11-13T21:44:43.521Z"
   },
   {
    "duration": 10,
    "start_time": "2021-11-13T21:44:43.534Z"
   },
   {
    "duration": 15,
    "start_time": "2021-11-13T21:44:43.548Z"
   },
   {
    "duration": 296,
    "start_time": "2021-11-13T21:44:43.565Z"
   },
   {
    "duration": 5,
    "start_time": "2021-11-13T21:44:43.863Z"
   },
   {
    "duration": 24,
    "start_time": "2021-11-13T21:44:43.870Z"
   },
   {
    "duration": 406,
    "start_time": "2021-11-13T21:44:43.896Z"
   },
   {
    "duration": 7,
    "start_time": "2021-11-13T21:44:44.303Z"
   },
   {
    "duration": 22,
    "start_time": "2021-11-13T21:44:44.312Z"
   },
   {
    "duration": 11,
    "start_time": "2021-11-13T21:44:44.336Z"
   },
   {
    "duration": 171,
    "start_time": "2021-11-13T21:44:44.349Z"
   },
   {
    "duration": 11,
    "start_time": "2021-11-13T21:44:44.522Z"
   },
   {
    "duration": 364,
    "start_time": "2021-11-13T21:44:44.535Z"
   },
   {
    "duration": 6,
    "start_time": "2021-11-13T21:44:44.903Z"
   },
   {
    "duration": 24,
    "start_time": "2021-11-13T21:44:44.912Z"
   },
   {
    "duration": 364,
    "start_time": "2021-11-13T21:44:44.938Z"
   },
   {
    "duration": 9,
    "start_time": "2021-11-13T21:44:45.304Z"
   },
   {
    "duration": 456,
    "start_time": "2021-11-13T21:44:45.315Z"
   },
   {
    "duration": 4,
    "start_time": "2021-11-13T21:44:45.773Z"
   },
   {
    "duration": 12,
    "start_time": "2021-11-13T21:44:45.779Z"
   },
   {
    "duration": 697,
    "start_time": "2021-11-13T21:44:45.793Z"
   },
   {
    "duration": 7,
    "start_time": "2021-11-13T21:44:46.492Z"
   },
   {
    "duration": 303,
    "start_time": "2021-11-13T21:44:46.501Z"
   },
   {
    "duration": 7,
    "start_time": "2021-11-13T21:44:46.806Z"
   },
   {
    "duration": 16,
    "start_time": "2021-11-13T21:44:46.814Z"
   },
   {
    "duration": 26,
    "start_time": "2021-11-13T21:44:46.832Z"
   },
   {
    "duration": 6,
    "start_time": "2021-11-13T21:44:46.860Z"
   },
   {
    "duration": 48,
    "start_time": "2021-11-13T21:44:46.868Z"
   },
   {
    "duration": 16,
    "start_time": "2021-11-13T21:44:46.918Z"
   },
   {
    "duration": 399,
    "start_time": "2021-11-13T21:44:46.936Z"
   },
   {
    "duration": 17,
    "start_time": "2021-11-13T21:44:47.337Z"
   },
   {
    "duration": 363,
    "start_time": "2021-11-13T21:44:47.356Z"
   },
   {
    "duration": 7,
    "start_time": "2021-11-13T21:44:47.721Z"
   },
   {
    "duration": 20,
    "start_time": "2021-11-13T21:44:47.744Z"
   },
   {
    "duration": 45,
    "start_time": "2021-11-13T21:44:47.766Z"
   },
   {
    "duration": 418,
    "start_time": "2021-11-13T21:44:47.813Z"
   },
   {
    "duration": 19,
    "start_time": "2021-11-13T21:44:48.234Z"
   },
   {
    "duration": 16,
    "start_time": "2021-11-13T21:44:48.254Z"
   },
   {
    "duration": 10,
    "start_time": "2021-11-13T21:44:48.272Z"
   },
   {
    "duration": 274,
    "start_time": "2021-11-13T21:44:48.284Z"
   },
   {
    "duration": 5,
    "start_time": "2021-11-13T21:44:48.560Z"
   },
   {
    "duration": 8,
    "start_time": "2021-11-13T21:44:48.566Z"
   },
   {
    "duration": 10,
    "start_time": "2021-11-13T21:44:48.576Z"
   },
   {
    "duration": 362,
    "start_time": "2021-11-13T21:44:48.588Z"
   },
   {
    "duration": 7,
    "start_time": "2021-11-13T21:44:48.957Z"
   },
   {
    "duration": 12,
    "start_time": "2021-11-13T21:44:48.966Z"
   },
   {
    "duration": 6,
    "start_time": "2021-11-13T21:44:48.980Z"
   },
   {
    "duration": 30,
    "start_time": "2021-11-13T21:44:48.988Z"
   },
   {
    "duration": 295,
    "start_time": "2021-11-13T21:44:49.020Z"
   },
   {
    "duration": 6,
    "start_time": "2021-11-13T21:44:49.317Z"
   },
   {
    "duration": 21,
    "start_time": "2021-11-13T21:44:49.324Z"
   },
   {
    "duration": 14,
    "start_time": "2021-11-13T21:44:49.351Z"
   },
   {
    "duration": 15,
    "start_time": "2021-11-13T21:44:49.367Z"
   },
   {
    "duration": 340,
    "start_time": "2021-11-13T21:44:49.384Z"
   },
   {
    "duration": 8,
    "start_time": "2021-11-13T21:44:49.725Z"
   },
   {
    "duration": 31,
    "start_time": "2021-11-13T21:44:49.735Z"
   },
   {
    "duration": 370,
    "start_time": "2021-11-13T21:44:49.768Z"
   },
   {
    "duration": 6,
    "start_time": "2021-11-13T21:44:50.144Z"
   },
   {
    "duration": 23,
    "start_time": "2021-11-13T21:44:50.157Z"
   },
   {
    "duration": 405,
    "start_time": "2021-11-13T21:44:50.182Z"
   },
   {
    "duration": 4,
    "start_time": "2021-11-13T21:44:50.589Z"
   },
   {
    "duration": 24,
    "start_time": "2021-11-13T21:44:50.594Z"
   },
   {
    "duration": 14,
    "start_time": "2021-11-13T21:44:50.620Z"
   },
   {
    "duration": 32,
    "start_time": "2021-11-13T21:44:50.635Z"
   },
   {
    "duration": 6,
    "start_time": "2021-11-13T21:44:50.669Z"
   },
   {
    "duration": 235,
    "start_time": "2021-11-13T21:44:50.677Z"
   },
   {
    "duration": 4,
    "start_time": "2021-11-13T21:44:50.914Z"
   },
   {
    "duration": 57,
    "start_time": "2021-11-13T21:44:50.924Z"
   },
   {
    "duration": 734,
    "start_time": "2021-11-13T21:44:50.984Z"
   },
   {
    "duration": 545,
    "start_time": "2021-11-13T21:44:51.719Z"
   },
   {
    "duration": 4,
    "start_time": "2021-11-13T21:44:52.266Z"
   },
   {
    "duration": 51,
    "start_time": "2021-11-13T21:44:52.272Z"
   },
   {
    "duration": 34,
    "start_time": "2021-11-13T21:44:52.325Z"
   },
   {
    "duration": 9,
    "start_time": "2021-11-13T21:44:52.361Z"
   },
   {
    "duration": 30,
    "start_time": "2021-11-13T21:44:52.372Z"
   },
   {
    "duration": 20,
    "start_time": "2021-11-13T21:44:52.404Z"
   },
   {
    "duration": 306,
    "start_time": "2021-11-13T21:44:52.426Z"
   },
   {
    "duration": 22,
    "start_time": "2021-11-13T21:44:52.734Z"
   },
   {
    "duration": 441,
    "start_time": "2021-11-13T21:44:52.758Z"
   },
   {
    "duration": 6,
    "start_time": "2021-11-13T21:44:53.201Z"
   },
   {
    "duration": 102160,
    "start_time": "2021-11-13T21:44:53.209Z"
   },
   {
    "duration": 7,
    "start_time": "2021-11-13T21:46:35.370Z"
   },
   {
    "duration": 102472,
    "start_time": "2021-11-13T21:46:35.378Z"
   },
   {
    "duration": 5,
    "start_time": "2021-11-13T21:48:17.852Z"
   },
   {
    "duration": 23,
    "start_time": "2021-11-13T21:48:17.858Z"
   },
   {
    "duration": 28,
    "start_time": "2021-11-13T21:48:17.883Z"
   },
   {
    "duration": 191420,
    "start_time": "2021-11-13T21:48:17.913Z"
   },
   {
    "duration": 191761,
    "start_time": "2021-11-13T21:51:29.334Z"
   },
   {
    "duration": 13,
    "start_time": "2021-11-13T21:54:41.096Z"
   },
   {
    "duration": 368,
    "start_time": "2021-11-13T21:54:41.110Z"
   },
   {
    "duration": -2054,
    "start_time": "2021-11-13T21:54:43.534Z"
   },
   {
    "duration": -2064,
    "start_time": "2021-11-13T21:54:43.545Z"
   },
   {
    "duration": -2077,
    "start_time": "2021-11-13T21:54:43.559Z"
   },
   {
    "duration": -2087,
    "start_time": "2021-11-13T21:54:43.570Z"
   },
   {
    "duration": -2096,
    "start_time": "2021-11-13T21:54:43.580Z"
   },
   {
    "duration": 7,
    "start_time": "2021-11-13T21:57:55.709Z"
   },
   {
    "duration": 9,
    "start_time": "2021-11-13T21:58:01.621Z"
   },
   {
    "duration": 10,
    "start_time": "2021-11-13T21:58:10.658Z"
   },
   {
    "duration": 4,
    "start_time": "2021-11-13T21:58:11.372Z"
   },
   {
    "duration": 686,
    "start_time": "2021-11-13T21:58:23.348Z"
   },
   {
    "duration": 1276,
    "start_time": "2021-11-13T21:59:27.853Z"
   },
   {
    "duration": 37,
    "start_time": "2021-11-13T21:59:29.131Z"
   },
   {
    "duration": 18,
    "start_time": "2021-11-13T21:59:29.170Z"
   },
   {
    "duration": 11,
    "start_time": "2021-11-13T21:59:29.191Z"
   },
   {
    "duration": 7,
    "start_time": "2021-11-13T21:59:29.204Z"
   },
   {
    "duration": 12,
    "start_time": "2021-11-13T21:59:29.213Z"
   },
   {
    "duration": 23,
    "start_time": "2021-11-13T21:59:29.227Z"
   },
   {
    "duration": 15,
    "start_time": "2021-11-13T21:59:29.253Z"
   },
   {
    "duration": 7,
    "start_time": "2021-11-13T21:59:29.271Z"
   },
   {
    "duration": 17,
    "start_time": "2021-11-13T21:59:29.280Z"
   },
   {
    "duration": 37,
    "start_time": "2021-11-13T21:59:29.298Z"
   },
   {
    "duration": 21,
    "start_time": "2021-11-13T21:59:29.337Z"
   },
   {
    "duration": 7,
    "start_time": "2021-11-13T21:59:29.361Z"
   },
   {
    "duration": 13,
    "start_time": "2021-11-13T21:59:29.371Z"
   },
   {
    "duration": 11,
    "start_time": "2021-11-13T21:59:29.386Z"
   },
   {
    "duration": 13,
    "start_time": "2021-11-13T21:59:29.399Z"
   },
   {
    "duration": 307,
    "start_time": "2021-11-13T21:59:29.414Z"
   },
   {
    "duration": 4,
    "start_time": "2021-11-13T21:59:29.723Z"
   },
   {
    "duration": 19,
    "start_time": "2021-11-13T21:59:29.728Z"
   },
   {
    "duration": 564,
    "start_time": "2021-11-13T21:59:29.749Z"
   },
   {
    "duration": 8,
    "start_time": "2021-11-13T21:59:30.315Z"
   },
   {
    "duration": 27,
    "start_time": "2021-11-13T21:59:30.325Z"
   },
   {
    "duration": 5,
    "start_time": "2021-11-13T21:59:30.358Z"
   },
   {
    "duration": 166,
    "start_time": "2021-11-13T21:59:30.365Z"
   },
   {
    "duration": 17,
    "start_time": "2021-11-13T21:59:30.533Z"
   },
   {
    "duration": 356,
    "start_time": "2021-11-13T21:59:30.552Z"
   },
   {
    "duration": 7,
    "start_time": "2021-11-13T21:59:30.912Z"
   },
   {
    "duration": 30,
    "start_time": "2021-11-13T21:59:30.922Z"
   },
   {
    "duration": 370,
    "start_time": "2021-11-13T21:59:30.954Z"
   },
   {
    "duration": 8,
    "start_time": "2021-11-13T21:59:31.326Z"
   },
   {
    "duration": 431,
    "start_time": "2021-11-13T21:59:31.347Z"
   },
   {
    "duration": 5,
    "start_time": "2021-11-13T21:59:31.780Z"
   },
   {
    "duration": 8,
    "start_time": "2021-11-13T21:59:31.787Z"
   },
   {
    "duration": 1018,
    "start_time": "2021-11-13T21:59:31.797Z"
   },
   {
    "duration": 9,
    "start_time": "2021-11-13T21:59:32.817Z"
   },
   {
    "duration": 424,
    "start_time": "2021-11-13T21:59:32.828Z"
   },
   {
    "duration": 8,
    "start_time": "2021-11-13T21:59:33.254Z"
   },
   {
    "duration": 11,
    "start_time": "2021-11-13T21:59:33.264Z"
   },
   {
    "duration": 9,
    "start_time": "2021-11-13T21:59:33.276Z"
   },
   {
    "duration": 11,
    "start_time": "2021-11-13T21:59:33.287Z"
   },
   {
    "duration": 5,
    "start_time": "2021-11-13T21:59:33.300Z"
   },
   {
    "duration": 53,
    "start_time": "2021-11-13T21:59:33.306Z"
   },
   {
    "duration": 360,
    "start_time": "2021-11-13T21:59:33.361Z"
   },
   {
    "duration": 7,
    "start_time": "2021-11-13T21:59:33.723Z"
   },
   {
    "duration": 343,
    "start_time": "2021-11-13T21:59:33.744Z"
   },
   {
    "duration": 7,
    "start_time": "2021-11-13T21:59:34.088Z"
   },
   {
    "duration": 8,
    "start_time": "2021-11-13T21:59:34.097Z"
   },
   {
    "duration": 7,
    "start_time": "2021-11-13T21:59:34.107Z"
   },
   {
    "duration": 405,
    "start_time": "2021-11-13T21:59:34.115Z"
   },
   {
    "duration": 30,
    "start_time": "2021-11-13T21:59:34.522Z"
   },
   {
    "duration": 9,
    "start_time": "2021-11-13T21:59:34.554Z"
   },
   {
    "duration": 7,
    "start_time": "2021-11-13T21:59:34.565Z"
   },
   {
    "duration": 361,
    "start_time": "2021-11-13T21:59:34.574Z"
   },
   {
    "duration": 5,
    "start_time": "2021-11-13T21:59:34.944Z"
   },
   {
    "duration": 14,
    "start_time": "2021-11-13T21:59:34.951Z"
   },
   {
    "duration": 11,
    "start_time": "2021-11-13T21:59:34.967Z"
   },
   {
    "duration": 391,
    "start_time": "2021-11-13T21:59:34.979Z"
   },
   {
    "duration": 8,
    "start_time": "2021-11-13T21:59:35.372Z"
   },
   {
    "duration": 15,
    "start_time": "2021-11-13T21:59:35.382Z"
   },
   {
    "duration": 27,
    "start_time": "2021-11-13T21:59:35.399Z"
   },
   {
    "duration": 27,
    "start_time": "2021-11-13T21:59:35.428Z"
   },
   {
    "duration": 308,
    "start_time": "2021-11-13T21:59:35.457Z"
   },
   {
    "duration": 8,
    "start_time": "2021-11-13T21:59:35.767Z"
   },
   {
    "duration": 27,
    "start_time": "2021-11-13T21:59:35.777Z"
   },
   {
    "duration": 15,
    "start_time": "2021-11-13T21:59:35.806Z"
   },
   {
    "duration": 16,
    "start_time": "2021-11-13T21:59:35.822Z"
   },
   {
    "duration": 365,
    "start_time": "2021-11-13T21:59:35.840Z"
   },
   {
    "duration": 8,
    "start_time": "2021-11-13T21:59:36.207Z"
   },
   {
    "duration": 13,
    "start_time": "2021-11-13T21:59:36.217Z"
   },
   {
    "duration": 539,
    "start_time": "2021-11-13T21:59:36.232Z"
   },
   {
    "duration": 5,
    "start_time": "2021-11-13T21:59:36.773Z"
   },
   {
    "duration": 7,
    "start_time": "2021-11-13T21:59:36.779Z"
   },
   {
    "duration": 438,
    "start_time": "2021-11-13T21:59:36.787Z"
   },
   {
    "duration": 4,
    "start_time": "2021-11-13T21:59:37.227Z"
   },
   {
    "duration": 24,
    "start_time": "2021-11-13T21:59:37.233Z"
   },
   {
    "duration": 10,
    "start_time": "2021-11-13T21:59:37.259Z"
   },
   {
    "duration": 11,
    "start_time": "2021-11-13T21:59:37.270Z"
   },
   {
    "duration": 7,
    "start_time": "2021-11-13T21:59:37.283Z"
   },
   {
    "duration": 331,
    "start_time": "2021-11-13T21:59:37.292Z"
   },
   {
    "duration": 6,
    "start_time": "2021-11-13T21:59:37.626Z"
   },
   {
    "duration": 5,
    "start_time": "2021-11-13T21:59:37.650Z"
   },
   {
    "duration": 990,
    "start_time": "2021-11-13T21:59:37.657Z"
   },
   {
    "duration": 555,
    "start_time": "2021-11-13T21:59:38.653Z"
   },
   {
    "duration": 5,
    "start_time": "2021-11-13T21:59:39.209Z"
   },
   {
    "duration": 26,
    "start_time": "2021-11-13T21:59:39.216Z"
   },
   {
    "duration": 26,
    "start_time": "2021-11-13T21:59:39.244Z"
   },
   {
    "duration": 23,
    "start_time": "2021-11-13T21:59:39.272Z"
   },
   {
    "duration": 31,
    "start_time": "2021-11-13T21:59:39.298Z"
   },
   {
    "duration": 27,
    "start_time": "2021-11-13T21:59:39.331Z"
   },
   {
    "duration": 389,
    "start_time": "2021-11-13T21:59:39.359Z"
   },
   {
    "duration": 10,
    "start_time": "2021-11-13T21:59:39.749Z"
   },
   {
    "duration": 435,
    "start_time": "2021-11-13T21:59:39.764Z"
   },
   {
    "duration": 6,
    "start_time": "2021-11-13T21:59:40.201Z"
   },
   {
    "duration": 99256,
    "start_time": "2021-11-13T21:59:40.209Z"
   },
   {
    "duration": 7,
    "start_time": "2021-11-13T22:01:19.468Z"
   },
   {
    "duration": 105720,
    "start_time": "2021-11-13T22:01:19.477Z"
   },
   {
    "duration": 3,
    "start_time": "2021-11-13T22:03:05.199Z"
   },
   {
    "duration": 26,
    "start_time": "2021-11-13T22:03:05.204Z"
   },
   {
    "duration": 23,
    "start_time": "2021-11-13T22:03:05.232Z"
   },
   {
    "duration": 201526,
    "start_time": "2021-11-13T22:03:05.258Z"
   },
   {
    "duration": 193489,
    "start_time": "2021-11-13T22:06:26.786Z"
   },
   {
    "duration": 13,
    "start_time": "2021-11-13T22:09:40.277Z"
   },
   {
    "duration": 17,
    "start_time": "2021-11-13T22:09:40.291Z"
   },
   {
    "duration": 25,
    "start_time": "2021-11-13T22:09:40.310Z"
   },
   {
    "duration": 30,
    "start_time": "2021-11-13T22:09:40.336Z"
   },
   {
    "duration": 16,
    "start_time": "2021-11-13T22:09:40.367Z"
   },
   {
    "duration": 675,
    "start_time": "2021-11-13T22:09:40.385Z"
   },
   {
    "duration": 1206,
    "start_time": "2021-11-14T06:53:24.129Z"
   },
   {
    "duration": 37,
    "start_time": "2021-11-14T06:53:25.337Z"
   },
   {
    "duration": 16,
    "start_time": "2021-11-14T06:53:25.688Z"
   },
   {
    "duration": 8,
    "start_time": "2021-11-14T06:53:57.619Z"
   },
   {
    "duration": 2,
    "start_time": "2021-11-14T06:54:31.677Z"
   },
   {
    "duration": 6,
    "start_time": "2021-11-14T06:54:32.079Z"
   },
   {
    "duration": 10,
    "start_time": "2021-11-14T06:55:30.681Z"
   },
   {
    "duration": 13,
    "start_time": "2021-11-14T06:55:32.666Z"
   },
   {
    "duration": 9,
    "start_time": "2021-11-14T06:55:39.925Z"
   },
   {
    "duration": 5,
    "start_time": "2021-11-14T06:55:43.108Z"
   },
   {
    "duration": 6,
    "start_time": "2021-11-14T06:55:43.285Z"
   },
   {
    "duration": 8,
    "start_time": "2021-11-14T06:55:43.609Z"
   },
   {
    "duration": 5,
    "start_time": "2021-11-14T06:55:43.963Z"
   },
   {
    "duration": 5,
    "start_time": "2021-11-14T06:55:44.716Z"
   },
   {
    "duration": 7,
    "start_time": "2021-11-14T06:55:45.038Z"
   },
   {
    "duration": 8,
    "start_time": "2021-11-14T06:55:45.413Z"
   },
   {
    "duration": 270,
    "start_time": "2021-11-14T06:55:45.760Z"
   },
   {
    "duration": 5,
    "start_time": "2021-11-14T06:55:46.267Z"
   },
   {
    "duration": 4,
    "start_time": "2021-11-14T06:55:46.480Z"
   },
   {
    "duration": 359,
    "start_time": "2021-11-14T06:55:46.669Z"
   },
   {
    "duration": 7,
    "start_time": "2021-11-14T06:55:48.105Z"
   },
   {
    "duration": 9,
    "start_time": "2021-11-14T06:55:48.114Z"
   },
   {
    "duration": 4,
    "start_time": "2021-11-14T06:55:48.125Z"
   },
   {
    "duration": 143,
    "start_time": "2021-11-14T06:55:48.131Z"
   },
   {
    "duration": 11,
    "start_time": "2021-11-14T06:55:48.276Z"
   },
   {
    "duration": 324,
    "start_time": "2021-11-14T06:55:48.439Z"
   },
   {
    "duration": 7,
    "start_time": "2021-11-14T06:55:48.956Z"
   },
   {
    "duration": 11,
    "start_time": "2021-11-14T06:55:49.332Z"
   },
   {
    "duration": 329,
    "start_time": "2021-11-14T06:55:49.509Z"
   },
   {
    "duration": 7,
    "start_time": "2021-11-14T06:55:50.265Z"
   },
   {
    "duration": 386,
    "start_time": "2021-11-14T06:55:50.651Z"
   },
   {
    "duration": 5,
    "start_time": "2021-11-14T06:55:51.191Z"
   },
   {
    "duration": 4,
    "start_time": "2021-11-14T06:55:51.380Z"
   },
   {
    "duration": 626,
    "start_time": "2021-11-14T06:55:51.576Z"
   },
   {
    "duration": 9,
    "start_time": "2021-11-14T06:55:52.205Z"
   },
   {
    "duration": 276,
    "start_time": "2021-11-14T06:55:52.516Z"
   },
   {
    "duration": 7,
    "start_time": "2021-11-14T06:55:53.070Z"
   },
   {
    "duration": 10,
    "start_time": "2021-11-14T06:55:53.250Z"
   },
   {
    "duration": 8,
    "start_time": "2021-11-14T06:55:53.418Z"
   },
   {
    "duration": 6,
    "start_time": "2021-11-14T06:55:53.765Z"
   },
   {
    "duration": 5,
    "start_time": "2021-11-14T06:55:54.662Z"
   },
   {
    "duration": 4,
    "start_time": "2021-11-14T06:55:54.837Z"
   },
   {
    "duration": 336,
    "start_time": "2021-11-14T06:55:55.041Z"
   },
   {
    "duration": 8,
    "start_time": "2021-11-14T06:55:55.992Z"
   },
   {
    "duration": 322,
    "start_time": "2021-11-14T06:55:56.517Z"
   },
   {
    "duration": 7,
    "start_time": "2021-11-14T06:55:56.853Z"
   },
   {
    "duration": 5,
    "start_time": "2021-11-14T06:55:57.202Z"
   },
   {
    "duration": 5,
    "start_time": "2021-11-14T06:55:57.395Z"
   },
   {
    "duration": 358,
    "start_time": "2021-11-14T06:55:57.568Z"
   },
   {
    "duration": 17,
    "start_time": "2021-11-14T06:55:57.929Z"
   },
   {
    "duration": 7,
    "start_time": "2021-11-14T06:55:58.301Z"
   },
   {
    "duration": 8,
    "start_time": "2021-11-14T06:55:58.663Z"
   },
   {
    "duration": 238,
    "start_time": "2021-11-14T06:55:58.846Z"
   },
   {
    "duration": 5,
    "start_time": "2021-11-14T06:55:59.399Z"
   },
   {
    "duration": 4,
    "start_time": "2021-11-14T06:55:59.581Z"
   },
   {
    "duration": 10,
    "start_time": "2021-11-14T06:55:59.771Z"
   },
   {
    "duration": 355,
    "start_time": "2021-11-14T06:55:59.959Z"
   },
   {
    "duration": 7,
    "start_time": "2021-11-14T06:56:00.513Z"
   },
   {
    "duration": 5,
    "start_time": "2021-11-14T06:56:01.083Z"
   },
   {
    "duration": 5,
    "start_time": "2021-11-14T06:56:01.287Z"
   },
   {
    "duration": 12,
    "start_time": "2021-11-14T06:56:01.465Z"
   },
   {
    "duration": 277,
    "start_time": "2021-11-14T06:56:01.651Z"
   },
   {
    "duration": 7,
    "start_time": "2021-11-14T06:56:02.223Z"
   },
   {
    "duration": 4,
    "start_time": "2021-11-14T06:56:02.790Z"
   },
   {
    "duration": 4,
    "start_time": "2021-11-14T06:56:02.979Z"
   },
   {
    "duration": 12,
    "start_time": "2021-11-14T06:56:03.170Z"
   },
   {
    "duration": 255,
    "start_time": "2021-11-14T06:56:03.359Z"
   },
   {
    "duration": 7,
    "start_time": "2021-11-14T06:56:03.934Z"
   },
   {
    "duration": 8,
    "start_time": "2021-11-14T06:56:04.350Z"
   },
   {
    "duration": 333,
    "start_time": "2021-11-14T06:56:04.923Z"
   },
   {
    "duration": 5,
    "start_time": "2021-11-14T06:56:05.507Z"
   },
   {
    "duration": 5,
    "start_time": "2021-11-14T06:56:05.698Z"
   },
   {
    "duration": 364,
    "start_time": "2021-11-14T06:56:05.882Z"
   },
   {
    "duration": 4,
    "start_time": "2021-11-14T06:56:06.434Z"
   },
   {
    "duration": 11,
    "start_time": "2021-11-14T07:09:08.739Z"
   },
   {
    "duration": 9,
    "start_time": "2021-11-14T07:09:11.011Z"
   },
   {
    "duration": 12,
    "start_time": "2021-11-14T07:09:12.754Z"
   },
   {
    "duration": 7,
    "start_time": "2021-11-14T07:09:30.959Z"
   },
   {
    "duration": 227,
    "start_time": "2021-11-14T07:09:34.629Z"
   },
   {
    "duration": 5,
    "start_time": "2021-11-14T07:12:21.343Z"
   },
   {
    "duration": 389,
    "start_time": "2021-11-14T07:12:21.831Z"
   },
   {
    "duration": 744,
    "start_time": "2021-11-14T07:12:21.478Z"
   },
   {
    "duration": 4,
    "start_time": "2021-11-14T07:12:26.336Z"
   },
   {
    "duration": 5,
    "start_time": "2021-11-14T07:12:27.503Z"
   },
   {
    "duration": 767,
    "start_time": "2021-11-14T07:12:27.673Z"
   },
   {
    "duration": 552,
    "start_time": "2021-11-14T07:12:28.445Z"
   },
   {
    "duration": 4,
    "start_time": "2021-11-14T07:13:42.789Z"
   },
   {
    "duration": 8,
    "start_time": "2021-11-14T07:13:43.962Z"
   },
   {
    "duration": 9,
    "start_time": "2021-11-14T07:13:45.799Z"
   },
   {
    "duration": 9,
    "start_time": "2021-11-14T07:14:23.628Z"
   },
   {
    "duration": 5,
    "start_time": "2021-11-14T07:14:50.177Z"
   },
   {
    "duration": 5,
    "start_time": "2021-11-14T07:17:24.668Z"
   },
   {
    "duration": 6,
    "start_time": "2021-11-14T07:17:26.000Z"
   },
   {
    "duration": 259,
    "start_time": "2021-11-14T07:17:26.703Z"
   },
   {
    "duration": 6,
    "start_time": "2021-11-14T07:19:34.968Z"
   },
   {
    "duration": 429,
    "start_time": "2021-11-14T07:19:35.799Z"
   },
   {
    "duration": 6,
    "start_time": "2021-11-14T07:19:36.259Z"
   },
   {
    "duration": 93091,
    "start_time": "2021-11-14T07:19:36.594Z"
   },
   {
    "duration": 7,
    "start_time": "2021-11-14T07:21:13.830Z"
   },
   {
    "duration": 93253,
    "start_time": "2021-11-14T07:22:06.580Z"
   },
   {
    "duration": 4,
    "start_time": "2021-11-14T07:23:48.078Z"
   },
   {
    "duration": 9,
    "start_time": "2021-11-14T07:23:48.350Z"
   },
   {
    "duration": 4,
    "start_time": "2021-11-14T07:23:49.186Z"
   },
   {
    "duration": 179669,
    "start_time": "2021-11-14T07:23:51.179Z"
   },
   {
    "duration": 178899,
    "start_time": "2021-11-14T07:26:50.850Z"
   },
   {
    "duration": 13,
    "start_time": "2021-11-14T07:29:49.751Z"
   },
   {
    "duration": 6,
    "start_time": "2021-11-14T07:29:49.766Z"
   },
   {
    "duration": 7,
    "start_time": "2021-11-14T07:29:49.774Z"
   },
   {
    "duration": 10,
    "start_time": "2021-11-14T07:29:49.783Z"
   },
   {
    "duration": 3,
    "start_time": "2021-11-14T07:29:49.794Z"
   },
   {
    "duration": 682,
    "start_time": "2021-11-14T07:29:49.799Z"
   }
  ],
  "kernelspec": {
   "display_name": "Python 3",
   "language": "python",
   "name": "python3"
  },
  "language_info": {
   "codemirror_mode": {
    "name": "ipython",
    "version": 3
   },
   "file_extension": ".py",
   "mimetype": "text/x-python",
   "name": "python",
   "nbconvert_exporter": "python",
   "pygments_lexer": "ipython3",
   "version": "3.7.7"
  },
  "toc": {
   "base_numbering": 1,
   "nav_menu": {},
   "number_sections": false,
   "sideBar": true,
   "skip_h1_title": false,
   "title_cell": "Содержание",
   "title_sidebar": "Contents",
   "toc_cell": true,
   "toc_position": {
    "height": "calc(100% - 180px)",
    "left": "10px",
    "top": "150px",
    "width": "302px"
   },
   "toc_section_display": true,
   "toc_window_display": true
  }
 },
 "nbformat": 4,
 "nbformat_minor": 2
}
